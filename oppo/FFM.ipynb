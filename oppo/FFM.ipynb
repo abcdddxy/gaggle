{
 "cells": [
  {
   "cell_type": "code",
   "execution_count": 1,
   "metadata": {},
   "outputs": [],
   "source": [
    "import numpy as np\n",
    "import os\n",
    "import pandas as pd\n",
    "pd.set_option('display.max_columns', None)\n",
    "import matplotlib.pyplot as plt\n",
    "# import seaborn as sns\n",
    "import pickle\n",
    "import time\n",
    "import gc\n",
    "from tqdm import tqdm, tqdm_notebook\n",
    "\n",
    "%matplotlib inline\n",
    "\n",
    "#每次可以输出多个变量\n",
    "from IPython.core.interactiveshell import InteractiveShell\n",
    "InteractiveShell.ast_node_interactivity = \"all\"\n",
    "\n",
    "from pylab import rcParams\n",
    "rcParams['figure.figsize'] = 14, 6\n",
    "\n",
    "import warnings\n",
    "warnings.filterwarnings(\"ignore\")\n",
    "\n",
    "#中文字体\n",
    "import matplotlib\n",
    "matplotlib.use('qt4agg')\n",
    "#指定默认字体\n",
    "matplotlib.rcParams['font.sans-serif'] = ['SimHei']\n",
    "matplotlib.rcParams['font.family'] = 'sans-serif'\n",
    "#解决负号'-'显示为方块的问题\n",
    "matplotlib.rcParams['axes.unicode_minus'] = False"
   ]
  },
  {
   "cell_type": "code",
   "execution_count": 2,
   "metadata": {},
   "outputs": [
    {
     "data": {
      "text/plain": [
       "(2100000, 118)"
      ]
     },
     "execution_count": 2,
     "metadata": {},
     "output_type": "execute_result"
    }
   ],
   "source": [
    "# df = pd.read_csv('./feature/df_feature4_ctr_extra.csv', encoding='utf-8')\n",
    "# df = df.drop(['prefix', 'query_prediction', 'title', 'title_tag', 'query_prediction_origin'], axis=1)\n",
    "\n",
    "# cont_fea = ['dict_len', 'title_rate', 'max_title_rate', 'title_rate_max_sub', 'title_rank_in_query', 'title_rank_in_query_origin', 'rank_first_origin_rate', 'rank_first_origin_rate_sub']\n",
    "# cont_fea += [i for i in df.columns if '_count' in i]\n",
    "# cate_fea = ['is_max_rate', 'is_first_rate', 'title_equal_prefix', 'prefix_in_title', 'title_startswith_prefix','title_endswith_prefix', 'rate_big5', 'title_in_query']\n",
    "# long_cate_fea = ['user_id', 'item_id']\n",
    "# df.shape"
   ]
  },
  {
   "cell_type": "code",
   "execution_count": 2,
   "metadata": {},
   "outputs": [
    {
     "data": {
      "text/plain": [
       "(2100000, 91)"
      ]
     },
     "execution_count": 2,
     "metadata": {},
     "output_type": "execute_result"
    }
   ],
   "source": [
    "df = pd.read_csv('./feature/df_feature4_ctr_extra.csv', encoding='utf-8', nrows=1)\n",
    "\n",
    "cont_fea = ['dict_len', 'title_rate', 'max_title_rate', 'title_rate_max_sub', 'title_rank_in_query', 'title_rank_in_query_origin', 'rank_first_origin_rate', 'rank_first_origin_rate_sub']\n",
    "cont_fea += [i for i in df.columns if '_count' in i]\n",
    "cate_fea = ['is_max_rate', 'is_first_rate', 'title_equal_prefix', 'prefix_in_title', 'title_startswith_prefix','title_endswith_prefix', 'rate_big5', 'title_in_query']\n",
    "long_cate_fea = ['user_id', 'item_id']\n",
    "\n",
    "df = pd.read_csv('./feature/df_feature4_ctr_extra.csv', encoding='utf-8', usecols=long_cate_fea+['tag', 'label', 'is_val']+cont_fea+cate_fea)\n",
    "\n",
    "feature1 = pd.read_csv('./feature/feature_rank_query.csv')\n",
    "feature2 = pd.read_csv('./feature/feature_rank_query_re.csv')\n",
    "feature3 = pd.read_csv('./feature/feature_dict_dis.csv')\n",
    "feature4 = pd.read_csv('./feature/feature_vector_dis.csv')\n",
    "feature5 = pd.read_csv('./feature/feature_re_pretit_rate.csv')\n",
    "feature6 = pd.read_csv('./feature/feature_titpre_dis.csv')\n",
    "\n",
    "cont_fea += list(feature1.columns)\n",
    "cont_fea += list(feature2.columns)\n",
    "cont_fea += list(feature3.columns)\n",
    "cont_fea += list(feature4.columns)\n",
    "cont_fea += list(feature5.columns)\n",
    "cont_fea += list(feature6.columns)\n",
    "\n",
    "df = pd.concat([df, feature1, feature2, feature3, feature4, feature5, feature6], axis=1)\n",
    "df.shape"
   ]
  },
  {
   "cell_type": "markdown",
   "metadata": {},
   "source": [
    "## data"
   ]
  },
  {
   "cell_type": "code",
   "execution_count": 3,
   "metadata": {},
   "outputs": [],
   "source": [
    "user_id_dict = dict(zip(df.user_id.unique(), range(len(df.user_id.unique()))))\n",
    "item_id_dict = dict(zip(df.item_id.unique(), range(len(df.item_id.unique()))))\n",
    "\n",
    "user_id_len = len(df.user_id.unique())\n",
    "item_id_len = len(df.item_id.unique())"
   ]
  },
  {
   "cell_type": "code",
   "execution_count": 4,
   "metadata": {},
   "outputs": [
    {
     "data": {
      "text/plain": [
       "(2100000, 112)"
      ]
     },
     "execution_count": 4,
     "metadata": {},
     "output_type": "execute_result"
    }
   ],
   "source": [
    "tag = pd.get_dummies(df.tag, prefix='tag')\n",
    "cate_fea += list(tag.columns)\n",
    "df = pd.concat([df, tag], axis=1)\n",
    "df = df.drop(['tag'], axis=1)\n",
    "\n",
    "df.shape"
   ]
  },
  {
   "cell_type": "code",
   "execution_count": 5,
   "metadata": {},
   "outputs": [
    {
     "data": {
      "application/vnd.jupyter.widget-view+json": {
       "model_id": "c9c65c22d6a94e208b474a9c76ec4b18",
       "version_major": 2,
       "version_minor": 0
      },
      "text/plain": [
       "A Jupyter Widget"
      ]
     },
     "metadata": {},
     "output_type": "display_data"
    },
    {
     "name": "stdout",
     "output_type": "stream",
     "text": [
      "\n"
     ]
    }
   ],
   "source": [
    "from sklearn.preprocessing import MinMaxScaler\n",
    "for fea in tqdm_notebook(cont_fea):\n",
    "    scaler_val = df[fea][~df[fea].isnull()].values\n",
    "    scaler = MinMaxScaler().fit(scaler_val.reshape((len(scaler_val), 1)))\n",
    "    df[fea].fillna(df[fea].mean(), inplace=True)\n",
    "    df[fea] = scaler.transform(df[fea].values.reshape((len(df), 1))).reshape((len(df),)).tolist()"
   ]
  },
  {
   "cell_type": "code",
   "execution_count": 6,
   "metadata": {
    "scrolled": true
   },
   "outputs": [],
   "source": [
    "df.label = df.label.fillna(-1)\n",
    "df.label = df.label.astype(int)\n",
    "df[cate_fea] = df[cate_fea].astype(int)"
   ]
  },
  {
   "cell_type": "code",
   "execution_count": 7,
   "metadata": {},
   "outputs": [],
   "source": [
    "good_fea = list(tag.columns)\n",
    "\n",
    "# 0.6 22\n",
    "# good_fea += ['title_query_dict_cos_distance','title_max_distance','title_rank_in_query_origin','title_max_cos_distance','title_rank_in_query_origin_count','title_rank_in_query_origin_tag_count','title_rate','title_in_query_count','title_in_query','title_in_query_tag_count','title_rank_in_query','rank_first_origin_rate_sub','title_rate_max_sub','title_rank_in_query_count','title_rank_in_query_tag_count','title_str_cos_distance','title_str_distance','title_origin_str_cos_distance','title_origin_str_distance','is_max_rate_tag_count','is_max_rate_count','is_max_rate']\n",
    "# 0.59 25\n",
    "# good_fea += ['title_query_dict_cos_distance','title_max_distance','title_rank_in_query_origin','title_max_cos_distance','title_rank_in_query_origin_count','title_rank_in_query_origin_tag_count','title_rate','title_in_query_count','title_in_query','title_in_query_tag_count','title_rank_in_query','rank_first_origin_rate_sub','title_rate_max_sub','title_rank_in_query_count','title_rank_in_query_tag_count','title_str_cos_distance','title_str_distance','title_origin_str_cos_distance','title_origin_str_distance','is_max_rate_tag_count','is_max_rate_count','is_max_rate','title_equal_prefix_tag_count','title_equal_prefix_count','title_equal_prefix']\n",
    "# 0.58 27\n",
    "# good_fea += ['title_query_dict_cos_distance','title_max_distance','title_rank_in_query_origin','title_max_cos_distance','title_rank_in_query_origin_count','title_rank_in_query_origin_tag_count','title_rate','title_in_query_count','title_in_query','title_in_query_tag_count','title_rank_in_query','rank_first_origin_rate_sub','title_rate_max_sub','title_rank_in_query_count','title_rank_in_query_tag_count','title_str_cos_distance','title_str_distance','title_origin_str_cos_distance','title_origin_str_distance','is_max_rate_tag_count','is_max_rate_count','is_max_rate','title_equal_prefix_tag_count','title_equal_prefix_count','title_equal_prefix','title_first_distance','prefix_tag_count']\n",
    "# 0.57 32\n",
    "# good_fea += ['title_query_dict_cos_distance','title_max_distance','title_rank_in_query_origin','title_max_cos_distance','title_rank_in_query_origin_count','title_rank_in_query_origin_tag_count','title_rate','title_in_query_count','title_in_query','title_in_query_tag_count','title_rank_in_query','rank_first_origin_rate_sub','title_rate_max_sub','title_rank_in_query_count','title_rank_in_query_tag_count','title_str_cos_distance','title_str_distance','title_origin_str_cos_distance','title_origin_str_distance','is_max_rate_tag_count','is_max_rate_count','is_max_rate','title_equal_prefix_tag_count','title_equal_prefix_count','title_equal_prefix','title_first_distance','prefix_tag_count','title_query_dict_distance','title_startswith_prefix_tag_count','title_startswith_prefix_count','title_startswith_prefix','title_first_cos_distance']\n",
    "\n",
    "# 0.56 42\n",
    "# good_fea += ['title_query_dict_cos_distance','title_max_distance','title_rank_in_query_origin','title_max_cos_distance','title_rank_in_query_origin_count','title_rank_in_query_origin_tag_count','title_rate','title_in_query_count','title_in_query','title_in_query_tag_count','title_rank_in_query','rank_first_origin_rate_sub','title_rate_max_sub','title_rank_in_query_count','title_rank_in_query_tag_count','title_str_cos_distance','title_str_distance','title_origin_str_cos_distance','title_origin_str_distance','is_max_rate_tag_count','is_max_rate_count','is_max_rate','title_equal_prefix_tag_count','title_equal_prefix_count','title_equal_prefix','prefix_inter_title_url_len_rate_title_url','prefix_inter_title_len_rate_title','title_first_distance','prefix_tag_count','title_query_dict_distance','title_startswith_prefix_tag_count','title_startswith_prefix_count','title_startswith_prefix','title_first_cos_distance','rate_big5_tag_count','rate_big5_count','rate_big5','title_len','title_endswith_prefix_tag_count','prefix_in_title_count','prefix_in_title','prefix_in_title_tag_count']\n",
    "# 0.55 58\n",
    "good_fea += ['title_query_dict_cos_distance','title_max_distance','title_rank_in_query_origin','title_max_cos_distance','title_rank_in_query_origin_count','title_rank_in_query_origin_tag_count','title_rate','title_in_query_count','title_in_query','title_in_query_tag_count','title_rank_in_query','rank_first_origin_rate_sub','title_prefix_cos_distance','title_rate_max_sub','title_rank_in_query_count','title_rank_in_query_tag_count','title_prefix_distance','title_str_cos_distance','title_str_distance','title_origin_str_cos_distance','title_origin_str_distance','is_max_rate_tag_count','is_max_rate_count','is_max_rate','title_equal_prefix_tag_count','title_equal_prefix_count','title_equal_prefix','prefix_inter_title_url_len_rate_title_url','prefix_inter_title_len_rate_title','title_first_distance','prefix_tag_count','title_query_dict_distance','title_startswith_prefix_tag_count','title_startswith_prefix_count','title_startswith_prefix','title_first_cos_distance','title_query_str_cos_distance','title_query_str_distance','rate_big5_tag_count','rate_big5_count','rate_big5','title_len','title_endswith_prefix_tag_count','prefix_in_title_count','prefix_in_title','prefix_in_title_tag_count','prefix_inter_title_len','prefix_inter_title_url_len','is_first_rate_count','is_first_rate','title_has_num','dict_len_tag_count','is_first_rate_tag_count','title_url_has_num','title_has_symbol','prefix_inter_title_len_rate_prefix','prefix_inter_title_url_len_rate_prefix','tag_rank_query_re']"
   ]
  },
  {
   "cell_type": "code",
   "execution_count": 9,
   "metadata": {
    "code_folding": [],
    "scrolled": true
   },
   "outputs": [
    {
     "data": {
      "application/vnd.jupyter.widget-view+json": {
       "model_id": "dccc88f3bc244e0da4d8761d1157815c",
       "version_major": 2,
       "version_minor": 0
      },
      "text/plain": [
       "A Jupyter Widget"
      ]
     },
     "metadata": {},
     "output_type": "display_data"
    },
    {
     "name": "stdout",
     "output_type": "stream",
     "text": [
      "\n"
     ]
    }
   ],
   "source": [
    "cate_fea_dict = {'user_id':user_id_len, 'item_id':item_id_len}\n",
    "\n",
    "with open('./feature/ffm_train(origin_label_goodfea55).txt', 'w') as f:\n",
    "    for index, row in tqdm_notebook(df[df.is_val == 0].iterrows()):\n",
    "        line = ''\n",
    "        offset = 0\n",
    "        order = 3\n",
    "        \n",
    "        line += str(row.label) + ' '\n",
    "        line += '1:' + str(user_id_dict[row.user_id]+offset) + ':1 '\n",
    "        offset += user_id_len\n",
    "        line += '2:' + str(item_id_dict[row.item_id]+offset) + ':1 '\n",
    "        offset += item_id_len\n",
    "        \n",
    "        for i in good_fea:\n",
    "            if row[i] != 0:\n",
    "                line += str(order) + ':' + str(offset) + ':' + str(row[i]) + ' '\n",
    "            offset += 1\n",
    "            order += 1\n",
    "        \n",
    "        line += '\\n'\n",
    "        _ = f.write(line)"
   ]
  },
  {
   "cell_type": "code",
   "execution_count": 10,
   "metadata": {},
   "outputs": [
    {
     "data": {
      "application/vnd.jupyter.widget-view+json": {
       "model_id": "556b86bd22744a88bd65c39454768cd4",
       "version_major": 2,
       "version_minor": 0
      },
      "text/plain": [
       "A Jupyter Widget"
      ]
     },
     "metadata": {},
     "output_type": "display_data"
    },
    {
     "name": "stdout",
     "output_type": "stream",
     "text": [
      "\n"
     ]
    }
   ],
   "source": [
    "cate_fea_dict = {'user_id':user_id_len, 'item_id':item_id_len}\n",
    "\n",
    "with open('./feature/ffm_val(goodfea55).txt', 'w') as f:\n",
    "    for index, row in tqdm_notebook(df[df.is_val == 1].iterrows()):\n",
    "        line = ''\n",
    "        offset = 0\n",
    "        order = 3\n",
    "        \n",
    "        line += str(row.label) + ' '\n",
    "        line += '1:' + str(user_id_dict[row.user_id]+offset) + ':1 '\n",
    "        offset += user_id_len\n",
    "        line += '2:' + str(item_id_dict[row.item_id]+offset) + ':1 '\n",
    "        offset += item_id_len\n",
    "        \n",
    "        for i in good_fea:\n",
    "            if row[i] != 0:\n",
    "                line += str(order) + ':' + str(offset) + ':' + str(row[i]) + ' '\n",
    "            offset += 1\n",
    "            order += 1\n",
    "        \n",
    "        line += '\\n'\n",
    "        _ = f.write(line)"
   ]
  },
  {
   "cell_type": "code",
   "execution_count": 11,
   "metadata": {},
   "outputs": [
    {
     "data": {
      "application/vnd.jupyter.widget-view+json": {
       "model_id": "c4b66b8dd60d44d796fc25760b93e89b",
       "version_major": 2,
       "version_minor": 0
      },
      "text/plain": [
       "A Jupyter Widget"
      ]
     },
     "metadata": {},
     "output_type": "display_data"
    },
    {
     "name": "stdout",
     "output_type": "stream",
     "text": [
      "\n"
     ]
    }
   ],
   "source": [
    "cate_fea_dict = {'user_id':user_id_len, 'item_id':item_id_len}\n",
    "\n",
    "with open('./feature/ffm_test(goodfea55).txt', 'w') as f:\n",
    "    for index, row in tqdm_notebook(df[df.is_val == -1].iterrows()):\n",
    "        line = ''\n",
    "        offset = 0\n",
    "        order = 3\n",
    "        \n",
    "        line += '1:' + str(user_id_dict[row.user_id]+offset) + ':1 '\n",
    "        offset += user_id_len\n",
    "        line += '2:' + str(item_id_dict[row.item_id]+offset) + ':1 '\n",
    "        offset += item_id_len\n",
    "        \n",
    "        for i in good_fea:\n",
    "            if row[i] != 0:\n",
    "                line += str(order) + ':' + str(offset) + ':' + str(row[i]) + ' '\n",
    "            offset += 1\n",
    "            order += 1\n",
    "        \n",
    "        line += '\\n'\n",
    "        _ = f.write(line)"
   ]
  },
  {
   "cell_type": "markdown",
   "metadata": {},
   "source": [
    "## FFM"
   ]
  },
  {
   "cell_type": "code",
   "execution_count": 5,
   "metadata": {},
   "outputs": [],
   "source": [
    "import xlearn as xl\n",
    "from sklearn.metrics import f1_score"
   ]
  },
  {
   "cell_type": "code",
   "execution_count": 6,
   "metadata": {},
   "outputs": [
    {
     "data": {
      "text/plain": [
       "167198"
      ]
     },
     "execution_count": 6,
     "metadata": {},
     "output_type": "execute_result"
    },
    {
     "data": {
      "text/plain": [
       "278384"
      ]
     },
     "execution_count": 6,
     "metadata": {},
     "output_type": "execute_result"
    }
   ],
   "source": [
    "len(df.user_id.unique())\n",
    "len(df.item_id.unique())"
   ]
  }
 ],
 "metadata": {
  "anaconda-cloud": {},
  "kernelspec": {
   "display_name": "Python 3",
   "language": "python",
   "name": "python3"
  },
  "language_info": {
   "codemirror_mode": {
    "name": "ipython",
    "version": 3
   },
   "file_extension": ".py",
   "mimetype": "text/x-python",
   "name": "python",
   "nbconvert_exporter": "python",
   "pygments_lexer": "ipython3",
   "version": "3.6.3"
  },
  "widgets": {
   "state": {
    "319c305ed3764705b969f448267c49d5": {
     "views": [
      {
       "cell_index": 7
      }
     ]
    }
   },
   "version": "1.2.0"
  }
 },
 "nbformat": 4,
 "nbformat_minor": 2
}
