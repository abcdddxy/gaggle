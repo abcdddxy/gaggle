{
 "cells": [
  {
   "cell_type": "code",
   "execution_count": 1,
   "metadata": {},
   "outputs": [],
   "source": [
    "import numpy as np\n",
    "import os\n",
    "import pandas as pd\n",
    "pd.set_option('display.max_columns', None)\n",
    "import matplotlib.pyplot as plt\n",
    "# import seaborn as sns\n",
    "import pickle\n",
    "import time\n",
    "import gc\n",
    "from tqdm import tqdm, tqdm_notebook\n",
    "\n",
    "%matplotlib inline\n",
    "\n",
    "#每次可以输出多个变量\n",
    "from IPython.core.interactiveshell import InteractiveShell\n",
    "InteractiveShell.ast_node_interactivity = \"all\"\n",
    "\n",
    "from pylab import rcParams\n",
    "rcParams['figure.figsize'] = 14, 6\n",
    "\n",
    "import warnings\n",
    "warnings.filterwarnings(\"ignore\")\n",
    "\n",
    "#中文字体\n",
    "import matplotlib\n",
    "matplotlib.use('qt4agg')\n",
    "#指定默认字体\n",
    "matplotlib.rcParams['font.sans-serif'] = ['SimHei']\n",
    "matplotlib.rcParams['font.family'] = 'sans-serif'\n",
    "#解决负号'-'显示为方块的问题\n",
    "matplotlib.rcParams['axes.unicode_minus'] = False"
   ]
  },
  {
   "cell_type": "code",
   "execution_count": 2,
   "metadata": {},
   "outputs": [
    {
     "data": {
      "text/plain": [
       "(2100000, 51)"
      ]
     },
     "execution_count": 2,
     "metadata": {},
     "output_type": "execute_result"
    }
   ],
   "source": [
    "df = pd.read_csv('./feature/df_feature4_ctr_extra.csv', encoding='utf-8', nrows=1)\n",
    "\n",
    "cont_fea = ['dict_len', 'title_rate', 'max_title_rate', 'title_rate_max_sub', 'title_rank_in_query', 'title_rank_in_query_origin', 'rank_first_origin_rate', 'rank_first_origin_rate_sub']\n",
    "cont_fea += [i for i in df.columns if '_count' in i]\n",
    "cate_fea = ['is_max_rate', 'is_first_rate', 'title_equal_prefix', 'prefix_in_title', 'title_startswith_prefix','title_endswith_prefix', 'rate_big5', 'title_in_query']\n",
    "long_cate_fea = ['user_id', 'item_id']\n",
    "\n",
    "df = pd.read_csv('./feature/df_feature4_ctr_extra.csv', encoding='utf-8', usecols=long_cate_fea+['tag', 'label', 'is_val']+cont_fea+cate_fea)\n",
    "df.shape"
   ]
  },
  {
   "cell_type": "code",
   "execution_count": 3,
   "metadata": {
    "scrolled": true
   },
   "outputs": [
    {
     "data": {
      "text/plain": [
       "(2100000, 6)"
      ]
     },
     "execution_count": 3,
     "metadata": {},
     "output_type": "execute_result"
    },
    {
     "data": {
      "text/plain": [
       "(2100000, 4)"
      ]
     },
     "execution_count": 3,
     "metadata": {},
     "output_type": "execute_result"
    },
    {
     "data": {
      "text/plain": [
       "(2100000, 2)"
      ]
     },
     "execution_count": 3,
     "metadata": {},
     "output_type": "execute_result"
    },
    {
     "data": {
      "text/plain": [
       "(2100000, 8)"
      ]
     },
     "execution_count": 3,
     "metadata": {},
     "output_type": "execute_result"
    },
    {
     "data": {
      "text/plain": [
       "(2100000, 14)"
      ]
     },
     "execution_count": 3,
     "metadata": {},
     "output_type": "execute_result"
    },
    {
     "data": {
      "text/plain": [
       "(2100000, 6)"
      ]
     },
     "execution_count": 3,
     "metadata": {},
     "output_type": "execute_result"
    }
   ],
   "source": [
    "feature1 = pd.read_csv('./feature/feature_rank_query.csv')\n",
    "feature2 = pd.read_csv('./feature/feature_rank_query_re.csv')\n",
    "feature3 = pd.read_csv('./feature/feature_dict_dis.csv')\n",
    "feature4 = pd.read_csv('./feature/feature_vector_dis.csv')\n",
    "feature5 = pd.read_csv('./feature/feature_re_pretit_rate.csv')\n",
    "feature6 = pd.read_csv('./feature/feature_titpre_dis.csv')\n",
    "\n",
    "cont_fea += list(feature1.columns)\n",
    "cont_fea += list(feature2.columns)\n",
    "cont_fea += list(feature3.columns)\n",
    "cont_fea += list(feature4.columns)\n",
    "cont_fea += list(feature5.columns)\n",
    "cont_fea += list(feature6.columns)\n",
    "\n",
    "feature1.shape\n",
    "feature2.shape\n",
    "feature3.shape\n",
    "feature4.shape\n",
    "feature5.shape\n",
    "feature6.shape"
   ]
  },
  {
   "cell_type": "code",
   "execution_count": 4,
   "metadata": {},
   "outputs": [
    {
     "data": {
      "text/plain": [
       "(2100000, 91)"
      ]
     },
     "execution_count": 4,
     "metadata": {},
     "output_type": "execute_result"
    }
   ],
   "source": [
    "df = pd.concat([df, feature1, feature2, feature3, feature4, feature5, feature6], axis=1)\n",
    "df.shape"
   ]
  },
  {
   "cell_type": "markdown",
   "metadata": {},
   "source": [
    "## 稀疏矩阵表示"
   ]
  },
  {
   "cell_type": "code",
   "execution_count": 6,
   "metadata": {},
   "outputs": [],
   "source": [
    "from scipy.sparse import csr_matrix, csc_matrix, hstack"
   ]
  },
  {
   "cell_type": "code",
   "execution_count": 7,
   "metadata": {},
   "outputs": [],
   "source": [
    "user_id_dict = dict(zip(df.user_id.unique(), range(len(df.user_id.unique()))))\n",
    "item_id_dict = dict(zip(df.item_id.unique(), range(len(df.item_id.unique()))))\n",
    "\n",
    "user_id_len = len(df.user_id.unique())\n",
    "item_id_len = len(df.item_id.unique())\n",
    "\n",
    "ori_fea = ['user_id', 'item_id']"
   ]
  },
  {
   "cell_type": "code",
   "execution_count": 8,
   "metadata": {},
   "outputs": [
    {
     "data": {
      "text/plain": [
       "(2100000, 112)"
      ]
     },
     "execution_count": 8,
     "metadata": {},
     "output_type": "execute_result"
    }
   ],
   "source": [
    "tag = pd.get_dummies(df.tag, prefix='tag')\n",
    "ori_fea += list(tag.columns)\n",
    "df = pd.concat([df, tag], axis=1)\n",
    "df = df.drop(['tag'], axis=1)\n",
    "\n",
    "df.shape"
   ]
  },
  {
   "cell_type": "code",
   "execution_count": 9,
   "metadata": {},
   "outputs": [
    {
     "data": {
      "application/vnd.jupyter.widget-view+json": {
       "model_id": "0ed9e9971b91450c950e816b01379221",
       "version_major": 2,
       "version_minor": 0
      },
      "text/plain": [
       "A Jupyter Widget"
      ]
     },
     "metadata": {},
     "output_type": "display_data"
    },
    {
     "name": "stdout",
     "output_type": "stream",
     "text": [
      "\n"
     ]
    }
   ],
   "source": [
    "ord_col = []\n",
    "ord_row = list(range(0, df.shape[0]*2+2, 2))\n",
    "ord_data = [1] * df.shape[0]*2\n",
    "\n",
    "for index, row in tqdm_notebook(df[long_cate_fea].iterrows()):\n",
    "    offset = 0\n",
    "    for idx in long_cate_fea:\n",
    "        ord_col.append(locals()[idx+'_dict'][row[idx]] + offset)\n",
    "        offset += locals()[idx+'_len']\n",
    "    \n",
    "spr_df = csr_matrix((ord_data, ord_col, ord_row))\n",
    "spr_df = spr_df.tocsc()"
   ]
  },
  {
   "cell_type": "code",
   "execution_count": 10,
   "metadata": {
    "scrolled": true
   },
   "outputs": [
    {
     "data": {
      "application/vnd.jupyter.widget-view+json": {
       "model_id": "c61979ff42454142b66a4742a595f5f2",
       "version_major": 2,
       "version_minor": 0
      },
      "text/plain": [
       "A Jupyter Widget"
      ]
     },
     "metadata": {},
     "output_type": "display_data"
    },
    {
     "name": "stdout",
     "output_type": "stream",
     "text": [
      "\n"
     ]
    }
   ],
   "source": [
    "for i in tqdm_notebook(list(tag.columns)):\n",
    "    spr_tmp = csc_matrix(df[i]).transpose()\n",
    "    spr_df = hstack((spr_df, spr_tmp))"
   ]
  },
  {
   "cell_type": "markdown",
   "metadata": {},
   "source": [
    "## lgb"
   ]
  },
  {
   "cell_type": "code",
   "execution_count": 7,
   "metadata": {},
   "outputs": [],
   "source": [
    "import lightgbm as lgb\n",
    "from sklearn.metrics import f1_score"
   ]
  },
  {
   "cell_type": "code",
   "execution_count": 8,
   "metadata": {},
   "outputs": [
    {
     "data": {
      "text/plain": [
       "<2100000x435617 sparse matrix of type '<class 'numpy.float64'>'\n",
       "\twith 24560805 stored elements in Compressed Sparse Column format>"
      ]
     },
     "execution_count": 8,
     "metadata": {},
     "output_type": "execute_result"
    }
   ],
   "source": [
    "spr_df = spr_df.tocsc()\n",
    "spr_df"
   ]
  },
  {
   "cell_type": "code",
   "execution_count": 9,
   "metadata": {},
   "outputs": [],
   "source": [
    "def lgb_f1(y_pred, data):\n",
    "    y_true = data.get_label()\n",
    "    y_pred = np.round(y_pred)\n",
    "    return 'f1', f1_score(y_true, y_pred), True"
   ]
  },
  {
   "cell_type": "code",
   "execution_count": 25,
   "metadata": {},
   "outputs": [
    {
     "name": "stdout",
     "output_type": "stream",
     "text": [
      "Training until validation scores don't improve for 100 rounds.\n",
      "[100]\ttrain's binary_logloss: 0.503161\ttrain's f1: 0.614253\tval's binary_logloss: 0.527631\tval's f1: 0.593303\n",
      "[200]\ttrain's binary_logloss: 0.4856\ttrain's f1: 0.636195\tval's binary_logloss: 0.519668\tval's f1: 0.606231\n",
      "[300]\ttrain's binary_logloss: 0.476038\ttrain's f1: 0.646478\tval's binary_logloss: 0.51653\tval's f1: 0.61117\n",
      "Early stopping, best iteration is:\n",
      "[294]\ttrain's binary_logloss: 0.476432\ttrain's f1: 0.646406\tval's binary_logloss: 0.516676\tval's f1: 0.61188\n"
     ]
    }
   ],
   "source": [
    "train_data = lgb.Dataset(spr_df[:2000000, :], label=df[df.is_val == 0].label)\n",
    "val_data = lgb.Dataset(spr_df[2000000:2050000, :], label=df[df.is_val == 1].label)\n",
    "\n",
    "cv_params =  {\n",
    "        'boosting_type': 'gbdt',\n",
    "        'objective': 'binary',\n",
    "#         'min_data_in_leaf': 300,\n",
    "        'num_leaves': 127,\n",
    "#         'max_depth': 7,\n",
    "        'learning_rate': 0.5,\n",
    "        'feature_fraction': 0.8,\n",
    "        'bagging_fraction': 0.8,\n",
    "        'lambda_l1': 0.2,\n",
    "        'lambda_l2': 0.2,\n",
    "        'seed': 2018\n",
    "        }\n",
    "\n",
    "bst = lgb.train(cv_params, train_data, early_stopping_rounds=100, verbose_eval=100, valid_sets=[train_data, val_data], \n",
    "                valid_names=['train', 'val'], num_boost_round=300, feval=lgb_f1)"
   ]
  },
  {
   "cell_type": "code",
   "execution_count": 29,
   "metadata": {},
   "outputs": [],
   "source": [
    "y_pred_train = bst.predict(spr_df[:2000000, :], pred_leaf=True)\n",
    "y_pred_val = bst.predict(spr_df[2000000:2050000, :], pred_leaf=True)"
   ]
  },
  {
   "cell_type": "code",
   "execution_count": 30,
   "metadata": {},
   "outputs": [
    {
     "data": {
      "text/plain": [
       "(2000000, 294)"
      ]
     },
     "execution_count": 30,
     "metadata": {},
     "output_type": "execute_result"
    },
    {
     "data": {
      "text/plain": [
       "(50000, 294)"
      ]
     },
     "execution_count": 30,
     "metadata": {},
     "output_type": "execute_result"
    }
   ],
   "source": [
    "y_pred_train.shape\n",
    "y_pred_val.shape"
   ]
  },
  {
   "cell_type": "code",
   "execution_count": 32,
   "metadata": {},
   "outputs": [],
   "source": [
    "np.save('./feature/lgb_leaf_train.npy', y_pred_train)\n",
    "np.save('./feature/lgb_leaf_val.npy', y_pred_val)"
   ]
  },
  {
   "cell_type": "markdown",
   "metadata": {},
   "source": [
    "## feature select"
   ]
  },
  {
   "cell_type": "code",
   "execution_count": 11,
   "metadata": {},
   "outputs": [],
   "source": [
    "import lightgbm as lgb\n",
    "from sklearn.metrics import f1_score"
   ]
  },
  {
   "cell_type": "code",
   "execution_count": 12,
   "metadata": {},
   "outputs": [],
   "source": [
    "def lgb_f1(y_pred, data):\n",
    "    y_true = data.get_label()\n",
    "    y_pred = np.round(y_pred)\n",
    "    return 'f1', f1_score(y_true, y_pred), True"
   ]
  },
  {
   "cell_type": "code",
   "execution_count": 13,
   "metadata": {},
   "outputs": [
    {
     "data": {
      "text/plain": [
       "<2100000x435624 sparse matrix of type '<class 'numpy.int32'>'\n",
       "\twith 6300000 stored elements in COOrdinate format>"
      ]
     },
     "execution_count": 13,
     "metadata": {},
     "output_type": "execute_result"
    }
   ],
   "source": [
    "spr_df"
   ]
  },
  {
   "cell_type": "code",
   "execution_count": 15,
   "metadata": {},
   "outputs": [],
   "source": [
    "cv_params =  {\n",
    "        'boosting_type': 'gbdt',\n",
    "        'objective': 'binary',\n",
    "        'num_leaves': 255,\n",
    "        'learning_rate': 0.5,\n",
    "        'feature_fraction': 0.8,\n",
    "        'bagging_fraction': 0.8,\n",
    "        'lambda_l1': 0.2,\n",
    "        'lambda_l2': 0.2,\n",
    "        'seed': 2018\n",
    "        }\n",
    "\n",
    "spr_df = spr_df.astype(np.float64)\n",
    "spr_df = spr_df.tocsc()\n",
    "\n",
    "train_data = lgb.Dataset(spr_df[:2000000, :], label=df[df.is_val == 0].label)\n",
    "val_data = lgb.Dataset(spr_df[2000000:2050000, :], label=df[df.is_val == 1].label)\n",
    "bst = lgb.train(cv_params, train_data, early_stopping_rounds=100, verbose_eval=0, valid_sets=[train_data, val_data], \n",
    "            valid_names=['train', 'val'], num_boost_round=100, feval=lgb_f1)\n",
    "print('origin porformance:', bst.best_score['val']['f1'])"
   ]
  },
  {
   "cell_type": "code",
   "execution_count": 16,
   "metadata": {},
   "outputs": [
    {
     "data": {
      "application/vnd.jupyter.widget-view+json": {
       "model_id": "8e6979d17610456bb962c8f3b3e66654",
       "version_major": 2,
       "version_minor": 0
      },
      "text/plain": [
       "A Jupyter Widget"
      ]
     },
     "metadata": {},
     "output_type": "display_data"
    },
    {
     "name": "stdout",
     "output_type": "stream",
     "text": [
      "title_prefix_distance 0.6065538527686497\n",
      "title_prefix_cos_distance 0.6091805298829328\n",
      "title_query_str_distance 0.5649487336185238\n",
      "title_query_str_cos_distance 0.5671591672263264\n",
      "prefix_has_symbol 0.5423157894736842\n",
      "title_has_symbol 0.552434392855921\n",
      "\n"
     ]
    }
   ],
   "source": [
    "feature_importance = {}\n",
    "tmp_feas = list(feature6.columns)\n",
    "\n",
    "for i in tqdm_notebook(tmp_feas):\n",
    "    spr_tmp = csc_matrix(df[i]).transpose()\n",
    "    spr_tmp = hstack((spr_df, spr_tmp))\n",
    "    spr_tmp = spr_tmp.astype(np.float64)\n",
    "    spr_tmp = spr_tmp.tocsc()\n",
    "    \n",
    "    train_data = lgb.Dataset(spr_tmp[:2000000, :], label=df[df.is_val == 0].label)\n",
    "    val_data = lgb.Dataset(spr_tmp[2000000:2050000, :], label=df[df.is_val == 1].label)\n",
    "    bst = lgb.train(cv_params, train_data, early_stopping_rounds=100, verbose_eval=0, valid_sets=[train_data, val_data], \n",
    "                valid_names=['train', 'val'], num_boost_round=100, feval=lgb_f1)\n",
    "    feature_importance[i] = bst.best_score['val']['f1']\n",
    "    print(i, bst.best_score['val']['f1'])"
   ]
  },
  {
   "cell_type": "code",
   "execution_count": 19,
   "metadata": {},
   "outputs": [
    {
     "data": {
      "text/plain": [
       "58"
      ]
     },
     "execution_count": 19,
     "metadata": {},
     "output_type": "execute_result"
    },
    {
     "data": {
      "text/plain": [
       "['title_query_dict_cos_distance',\n",
       " 'title_max_distance',\n",
       " 'title_rank_in_query_origin',\n",
       " 'title_max_cos_distance',\n",
       " 'title_rank_in_query_origin_count',\n",
       " 'title_rank_in_query_origin_tag_count',\n",
       " 'title_rate',\n",
       " 'title_in_query_count',\n",
       " 'title_in_query',\n",
       " 'title_in_query_tag_count',\n",
       " 'title_rank_in_query',\n",
       " 'rank_first_origin_rate_sub',\n",
       " 'title_prefix_cos_distance',\n",
       " 'title_rate_max_sub',\n",
       " 'title_rank_in_query_count',\n",
       " 'title_rank_in_query_tag_count',\n",
       " 'title_prefix_distance',\n",
       " 'title_str_cos_distance',\n",
       " 'title_str_distance',\n",
       " 'title_origin_str_cos_distance',\n",
       " 'title_origin_str_distance',\n",
       " 'is_max_rate_tag_count',\n",
       " 'is_max_rate_count',\n",
       " 'is_max_rate',\n",
       " 'title_equal_prefix_tag_count',\n",
       " 'title_equal_prefix_count',\n",
       " 'title_equal_prefix',\n",
       " 'prefix_inter_title_url_len_rate_title_url',\n",
       " 'prefix_inter_title_len_rate_title',\n",
       " 'title_first_distance',\n",
       " 'prefix_tag_count',\n",
       " 'title_query_dict_distance',\n",
       " 'title_startswith_prefix_tag_count',\n",
       " 'title_startswith_prefix_count',\n",
       " 'title_startswith_prefix',\n",
       " 'title_first_cos_distance',\n",
       " 'title_query_str_cos_distance',\n",
       " 'title_query_str_distance',\n",
       " 'rate_big5_tag_count',\n",
       " 'rate_big5_count',\n",
       " 'rate_big5',\n",
       " 'title_len',\n",
       " 'title_endswith_prefix_tag_count',\n",
       " 'prefix_in_title_count',\n",
       " 'prefix_in_title',\n",
       " 'prefix_in_title_tag_count',\n",
       " 'prefix_inter_title_len',\n",
       " 'prefix_inter_title_url_len',\n",
       " 'is_first_rate_count',\n",
       " 'is_first_rate',\n",
       " 'title_has_num',\n",
       " 'dict_len_tag_count',\n",
       " 'is_first_rate_tag_count',\n",
       " 'title_url_has_num',\n",
       " 'title_has_symbol',\n",
       " 'prefix_inter_title_len_rate_prefix',\n",
       " 'prefix_inter_title_url_len_rate_prefix',\n",
       " 'tag_rank_query_re']"
      ]
     },
     "execution_count": 19,
     "metadata": {},
     "output_type": "execute_result"
    }
   ],
   "source": [
    "good_fea = [i[0] for i in sorted(feature_importance, key=lambda x: x[1], reverse=True) if i[1] >= 0.55]\n",
    "len(good_fea)\n",
    "good_fea"
   ]
  },
  {
   "cell_type": "code",
   "execution_count": 18,
   "metadata": {},
   "outputs": [],
   "source": [
    "feature_importance = [('title_query_dict_cos_distance', 0.6204140256658445),('title_max_distance', 0.619008525418377),('title_rank_in_query_origin', 0.6173192163194337),('title_max_cos_distance', 0.6163573709335779),('title_rank_in_query_origin_count', 0.6142071723103836),('title_rank_in_query_origin_tag_count', 0.6136491118728576),('title_rate', 0.6129634907064374),('title_in_query_count', 0.6128478186190313),('title_in_query', 0.6128478186190313),('title_in_query_tag_count', 0.6127627580589582),('title_rank_in_query', 0.6123902811347156),('rank_first_origin_rate_sub', 0.6122913505311077),('title_rate_max_sub', 0.608851025812833),('title_rank_in_query_count', 0.6083167809316332),('title_rank_in_query_tag_count', 0.6082040409880826),('title_str_cos_distance', 0.6062754941951678),('title_str_distance', 0.6040697490426912),('title_origin_str_cos_distance', 0.6029793977812996),('title_origin_str_distance', 0.6028838535889717),('is_max_rate_tag_count', 0.6016869117790731),('is_max_rate_count', 0.600767629456154),('is_max_rate', 0.600767629456154),('title_equal_prefix_tag_count', 0.5987489391129411),('title_equal_prefix_count', 0.5971060081786727),('title_equal_prefix', 0.5971060081786727),('title_first_distance', 0.5820831828775892),('prefix_tag_count', 0.5810161818237435),('title_query_dict_distance', 0.5798574445617739),('title_startswith_prefix_tag_count', 0.575589824700145),('title_startswith_prefix_count', 0.5746374657285369),('title_startswith_prefix', 0.5746374657285369),('title_first_cos_distance', 0.5730636145861059),('rate_big5_tag_count', 0.5645436548569869),('rate_big5_count', 0.5642532545187412),('rate_big5', 0.5642532545187412),('title_len', 0.5612982408291286),('title_endswith_prefix_tag_count', 0.5603760186656748),('prefix_in_title_count', 0.5602442333785618),('prefix_in_title', 0.5602442333785618),('prefix_in_title_tag_count', 0.5601519056015192),('is_first_rate_count', 0.5556928144945439),('is_first_rate', 0.5556928144945439),('dict_len_tag_count', 0.5540346314420642),('is_first_rate_tag_count', 0.5540303436887192),('tag_rank_query_re', 0.5518176885512751),('title_tag_count', 0.5478763681420802),('prefix_count', 0.5477649975893656),('title_count', 0.5476510993752373),('prefix_len', 0.5475966398271115),('max_title_rate', 0.5443090845805778),('rank_first_origin_rate', 0.5442124708096615),('title_rank_query_re', 0.5431192660550459),('title_tag_rank_query_re', 0.5422568620806506),('prefix_len_tag_count', 0.5422209774541381),('tag_count', 0.5419159569226437),('dict_len', 0.5418097707997477),('prefix_rank_query_re', 0.541692573402418),('dict_len_count', 0.5413581330057905),('prefix_len_count', 0.5408330714709682),('title_rank_query', 0.5407931912518749),('prefix_title_count', 0.540550033367286),('tag_rank_query', 0.5401511157968722),('title_endswith_prefix_count', 0.5381520384546911),('title_endswith_prefix', 0.5381520384546911),('title_tag_rank_query', 0.5341052631578947),('prefix_rank_query', 0.5332437402744378),('prefix_inter_title_url_len_rate_title_url', 0.5883230135831685),('prefix_inter_title_len_rate_title', 0.5849013681713302),('prefix_inter_title_len', 0.5577520570862782),('prefix_inter_title_url_len', 0.5577520570862782),('title_has_num', 0.5553931400210762),('title_url_has_num', 0.5528372061282286),('prefix_inter_title_len_rate_prefix', 0.5519949951341582),('prefix_inter_title_url_len_rate_prefix', 0.5519949951341582),('query_values_sum', 0.5480669119178178),('prefix_has_letter', 0.5424572971835432),('title_has_letter', 0.5422515440763617),('title_url_has_letter', 0.5422515440763617),('prefix_has_url', 0.5420468903551874),('prefix_has_num', 0.5417295211366427),('title_prefix_cos_distance', 0.6091805298829328),('title_prefix_distance', 0.6065538527686497),('title_query_str_cos_distance', 0.5671591672263264),('title_query_str_distance', 0.5649487336185238),('title_has_symbol', 0.552434392855921),('prefix_has_symbol', 0.5423157894736842)]"
   ]
  },
  {
   "cell_type": "code",
   "execution_count": 34,
   "metadata": {
    "collapsed": true
   },
   "outputs": [
    {
     "data": {
      "text/plain": [
       "[('title_query_dict_cos_distance', 0.6204140256658445),\n",
       " ('title_max_distance', 0.619008525418377),\n",
       " ('title_rank_in_query_origin', 0.6173192163194337),\n",
       " ('title_max_cos_distance', 0.6163573709335779),\n",
       " ('title_rank_in_query_origin_count', 0.6142071723103836),\n",
       " ('title_rank_in_query_origin_tag_count', 0.6136491118728576),\n",
       " ('title_rate', 0.6129634907064374),\n",
       " ('title_in_query_count', 0.6128478186190313),\n",
       " ('title_in_query', 0.6128478186190313),\n",
       " ('title_in_query_tag_count', 0.6127627580589582),\n",
       " ('title_rank_in_query', 0.6123902811347156),\n",
       " ('rank_first_origin_rate_sub', 0.6122913505311077),\n",
       " ('title_rate_max_sub', 0.608851025812833),\n",
       " ('title_rank_in_query_count', 0.6083167809316332),\n",
       " ('title_rank_in_query_tag_count', 0.6082040409880826),\n",
       " ('title_str_cos_distance', 0.6062754941951678),\n",
       " ('title_str_distance', 0.6040697490426912),\n",
       " ('title_origin_str_cos_distance', 0.6029793977812996),\n",
       " ('title_origin_str_distance', 0.6028838535889717),\n",
       " ('is_max_rate_tag_count', 0.6016869117790731),\n",
       " ('is_max_rate_count', 0.600767629456154),\n",
       " ('is_max_rate', 0.600767629456154),\n",
       " ('title_equal_prefix_tag_count', 0.5987489391129411),\n",
       " ('title_equal_prefix_count', 0.5971060081786727),\n",
       " ('title_equal_prefix', 0.5971060081786727),\n",
       " ('title_first_distance', 0.5820831828775892),\n",
       " ('prefix_tag_count', 0.5810161818237435),\n",
       " ('title_query_dict_distance', 0.5798574445617739),\n",
       " ('title_startswith_prefix_tag_count', 0.575589824700145),\n",
       " ('title_startswith_prefix_count', 0.5746374657285369),\n",
       " ('title_startswith_prefix', 0.5746374657285369),\n",
       " ('title_first_cos_distance', 0.5730636145861059),\n",
       " ('rate_big5_tag_count', 0.5645436548569869),\n",
       " ('rate_big5_count', 0.5642532545187412),\n",
       " ('rate_big5', 0.5642532545187412),\n",
       " ('title_len', 0.5612982408291286),\n",
       " ('title_endswith_prefix_tag_count', 0.5603760186656748),\n",
       " ('prefix_in_title_count', 0.5602442333785618),\n",
       " ('prefix_in_title', 0.5602442333785618),\n",
       " ('prefix_in_title_tag_count', 0.5601519056015192),\n",
       " ('is_first_rate_count', 0.5556928144945439),\n",
       " ('is_first_rate', 0.5556928144945439),\n",
       " ('dict_len_tag_count', 0.5540346314420642),\n",
       " ('is_first_rate_tag_count', 0.5540303436887192),\n",
       " ('tag_rank_query_re', 0.5518176885512751),\n",
       " ('title_tag_count', 0.5478763681420802),\n",
       " ('prefix_count', 0.5477649975893656),\n",
       " ('title_count', 0.5476510993752373),\n",
       " ('prefix_len', 0.5475966398271115),\n",
       " ('max_title_rate', 0.5443090845805778),\n",
       " ('rank_first_origin_rate', 0.5442124708096615),\n",
       " ('title_rank_query_re', 0.5431192660550459),\n",
       " ('title_tag_rank_query_re', 0.5422568620806506),\n",
       " ('prefix_len_tag_count', 0.5422209774541381),\n",
       " ('tag_count', 0.5419159569226437),\n",
       " ('dict_len', 0.5418097707997477),\n",
       " ('prefix_rank_query_re', 0.541692573402418),\n",
       " ('dict_len_count', 0.5413581330057905),\n",
       " ('prefix_len_count', 0.5408330714709682),\n",
       " ('title_rank_query', 0.5407931912518749),\n",
       " ('prefix_title_count', 0.540550033367286),\n",
       " ('tag_rank_query', 0.5401511157968722),\n",
       " ('title_endswith_prefix_count', 0.5381520384546911),\n",
       " ('title_endswith_prefix', 0.5381520384546911),\n",
       " ('title_tag_rank_query', 0.5341052631578947),\n",
       " ('prefix_rank_query', 0.5332437402744378)]"
      ]
     },
     "execution_count": 34,
     "metadata": {},
     "output_type": "execute_result"
    }
   ],
   "source": [
    "sorted(feature_importance.items(), key=lambda x: x[1], reverse=True)"
   ]
  },
  {
   "cell_type": "code",
   "execution_count": 17,
   "metadata": {
    "collapsed": true
   },
   "outputs": [
    {
     "data": {
      "text/plain": [
       "[('prefix_inter_title_url_len_rate_title_url', 0.5883230135831685),\n",
       " ('prefix_inter_title_len_rate_title', 0.5849013681713302),\n",
       " ('prefix_inter_title_len', 0.5577520570862782),\n",
       " ('prefix_inter_title_url_len', 0.5577520570862782),\n",
       " ('title_has_num', 0.5553931400210762),\n",
       " ('title_url_has_num', 0.5528372061282286),\n",
       " ('prefix_inter_title_len_rate_prefix', 0.5519949951341582),\n",
       " ('prefix_inter_title_url_len_rate_prefix', 0.5519949951341582),\n",
       " ('query_values_sum', 0.5480669119178178),\n",
       " ('prefix_has_letter', 0.5424572971835432),\n",
       " ('title_has_letter', 0.5422515440763617),\n",
       " ('title_url_has_letter', 0.5422515440763617),\n",
       " ('prefix_has_url', 0.5420468903551874),\n",
       " ('prefix_has_num', 0.5417295211366427)]"
      ]
     },
     "execution_count": 17,
     "metadata": {},
     "output_type": "execute_result"
    }
   ],
   "source": [
    "sorted(feature_importance.items(), key=lambda x: x[1], reverse=True)"
   ]
  },
  {
   "cell_type": "code",
   "execution_count": 17,
   "metadata": {},
   "outputs": [
    {
     "data": {
      "text/plain": [
       "[('title_prefix_cos_distance', 0.6091805298829328),\n",
       " ('title_prefix_distance', 0.6065538527686497),\n",
       " ('title_query_str_cos_distance', 0.5671591672263264),\n",
       " ('title_query_str_distance', 0.5649487336185238),\n",
       " ('title_has_symbol', 0.552434392855921),\n",
       " ('prefix_has_symbol', 0.5423157894736842)]"
      ]
     },
     "execution_count": 17,
     "metadata": {},
     "output_type": "execute_result"
    }
   ],
   "source": [
    "sorted(feature_importance.items(), key=lambda x: x[1], reverse=True)"
   ]
  },
  {
   "cell_type": "markdown",
   "metadata": {},
   "source": [
    "## good feature"
   ]
  },
  {
   "cell_type": "code",
   "execution_count": 10,
   "metadata": {},
   "outputs": [],
   "source": [
    "import lightgbm as lgb\n",
    "from sklearn.metrics import f1_score"
   ]
  },
  {
   "cell_type": "code",
   "execution_count": 11,
   "metadata": {},
   "outputs": [],
   "source": [
    "def lgb_f1(y_pred, data):\n",
    "    y_true = data.get_label()\n",
    "    y_pred = np.round(y_pred)\n",
    "    return 'f1', f1_score(y_true, y_pred), True"
   ]
  },
  {
   "cell_type": "code",
   "execution_count": 12,
   "metadata": {},
   "outputs": [],
   "source": [
    "good_fea = ['title_query_dict_cos_distance','title_max_distance','title_rank_in_query_origin','title_max_cos_distance','title_rank_in_query_origin_count','title_rank_in_query_origin_tag_count','title_rate','title_in_query_count','title_in_query','title_in_query_tag_count','title_rank_in_query','rank_first_origin_rate_sub','title_rate_max_sub','title_rank_in_query_count','title_rank_in_query_tag_count','title_str_cos_distance','title_str_distance','title_origin_str_cos_distance','title_origin_str_distance','is_max_rate_tag_count','is_max_rate_count','is_max_rate','title_equal_prefix_tag_count','title_equal_prefix_count','title_equal_prefix','title_first_distance','prefix_tag_count','title_query_dict_distance','title_startswith_prefix_tag_count','title_startswith_prefix_count','title_startswith_prefix','title_first_cos_distance']"
   ]
  },
  {
   "cell_type": "code",
   "execution_count": 13,
   "metadata": {},
   "outputs": [],
   "source": [
    "for i in good_fea:\n",
    "    spr_tmp = csc_matrix(df[i]).transpose()\n",
    "    spr_df = hstack((spr_df, spr_tmp))\n",
    "\n",
    "spr_df = spr_df.astype(np.float64)\n",
    "spr_df = spr_df.tocsc()"
   ]
  },
  {
   "cell_type": "code",
   "execution_count": 18,
   "metadata": {
    "code_folding": []
   },
   "outputs": [
    {
     "name": "stdout",
     "output_type": "stream",
     "text": [
      "Training until validation scores don't improve for 100 rounds.\n",
      "[100]\ttrain's binary_logloss: 0.49272\ttrain's f1: 0.650941\tval's binary_logloss: 0.512573\tval's f1: 0.644021\n",
      "[200]\ttrain's binary_logloss: 0.478078\ttrain's f1: 0.668619\tval's binary_logloss: 0.5009\tval's f1: 0.658275\n",
      "[300]\ttrain's binary_logloss: 0.469041\ttrain's f1: 0.677875\tval's binary_logloss: 0.494272\tval's f1: 0.666272\n",
      "[400]\ttrain's binary_logloss: 0.462899\ttrain's f1: 0.683956\tval's binary_logloss: 0.489751\tval's f1: 0.6711\n",
      "[500]\ttrain's binary_logloss: 0.458542\ttrain's f1: 0.688352\tval's binary_logloss: 0.486099\tval's f1: 0.673855\n",
      "[600]\ttrain's binary_logloss: 0.454394\ttrain's f1: 0.692689\tval's binary_logloss: 0.483349\tval's f1: 0.677704\n",
      "[700]\ttrain's binary_logloss: 0.450261\ttrain's f1: 0.697105\tval's binary_logloss: 0.480596\tval's f1: 0.681139\n",
      "[800]\ttrain's binary_logloss: 0.447386\ttrain's f1: 0.699779\tval's binary_logloss: 0.479196\tval's f1: 0.68308\n",
      "[900]\ttrain's binary_logloss: 0.444656\ttrain's f1: 0.702189\tval's binary_logloss: 0.477545\tval's f1: 0.684303\n",
      "[1000]\ttrain's binary_logloss: 0.44125\ttrain's f1: 0.706118\tval's binary_logloss: 0.475638\tval's f1: 0.686386\n",
      "[1100]\ttrain's binary_logloss: 0.439192\ttrain's f1: 0.708046\tval's binary_logloss: 0.474611\tval's f1: 0.687188\n",
      "[1200]\ttrain's binary_logloss: 0.436923\ttrain's f1: 0.710607\tval's binary_logloss: 0.473296\tval's f1: 0.688052\n",
      "[1300]\ttrain's binary_logloss: 0.433997\ttrain's f1: 0.713761\tval's binary_logloss: 0.471981\tval's f1: 0.689266\n",
      "[1400]\ttrain's binary_logloss: 0.431942\ttrain's f1: 0.715822\tval's binary_logloss: 0.470829\tval's f1: 0.69005\n",
      "[1500]\ttrain's binary_logloss: 0.429072\ttrain's f1: 0.718999\tval's binary_logloss: 0.469696\tval's f1: 0.691946\n",
      "[1600]\ttrain's binary_logloss: 0.427191\ttrain's f1: 0.720883\tval's binary_logloss: 0.46904\tval's f1: 0.692624\n",
      "[1700]\ttrain's binary_logloss: 0.424861\ttrain's f1: 0.723206\tval's binary_logloss: 0.468129\tval's f1: 0.693733\n",
      "[1800]\ttrain's binary_logloss: 0.422378\ttrain's f1: 0.725956\tval's binary_logloss: 0.467362\tval's f1: 0.693985\n",
      "Early stopping, best iteration is:\n",
      "[1710]\ttrain's binary_logloss: 0.424515\ttrain's f1: 0.723536\tval's binary_logloss: 0.468091\tval's f1: 0.694294\n"
     ]
    }
   ],
   "source": [
    "cv_params =  {\n",
    "        'boosting_type': 'gbdt',\n",
    "        'objective': 'binary',\n",
    "        'num_leaves': 63,\n",
    "        'learning_rate': 0.3,\n",
    "        'feature_fraction': 0.8,\n",
    "        'bagging_fraction': 0.8,\n",
    "        'lambda_l1': 0.2,\n",
    "        'lambda_l2': 0.2,\n",
    "        'seed': 2018\n",
    "        }\n",
    "\n",
    "train_data = lgb.Dataset(spr_df[:2000000, :], label=df[df.is_val == 0].label)\n",
    "val_data = lgb.Dataset(spr_df[2000000:2050000, :], label=df[df.is_val == 1].label)\n",
    "bst = lgb.train(cv_params, train_data, early_stopping_rounds=100, verbose_eval=100, valid_sets=[train_data, val_data], \n",
    "            valid_names=['train', 'val'], num_boost_round=10000, feval=lgb_f1)"
   ]
  }
 ],
 "metadata": {
  "kernelspec": {
   "display_name": "Python 3",
   "language": "python",
   "name": "python3"
  },
  "language_info": {
   "codemirror_mode": {
    "name": "ipython",
    "version": 3
   },
   "file_extension": ".py",
   "mimetype": "text/x-python",
   "name": "python",
   "nbconvert_exporter": "python",
   "pygments_lexer": "ipython3",
   "version": "3.6.3"
  }
 },
 "nbformat": 4,
 "nbformat_minor": 2
}
