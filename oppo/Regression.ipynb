{
 "cells": [
  {
   "cell_type": "code",
   "execution_count": 1,
   "metadata": {},
   "outputs": [],
   "source": [
    "import numpy as np\n",
    "import os\n",
    "import pandas as pd\n",
    "pd.set_option('display.max_columns', None)\n",
    "import matplotlib.pyplot as plt\n",
    "# import seaborn as sns\n",
    "import pickle\n",
    "import time\n",
    "import gc\n",
    "from tqdm import tqdm, tqdm_notebook\n",
    "\n",
    "%matplotlib inline\n",
    "\n",
    "#每次可以输出多个变量\n",
    "from IPython.core.interactiveshell import InteractiveShell\n",
    "InteractiveShell.ast_node_interactivity = \"all\"\n",
    "\n",
    "from pylab import rcParams\n",
    "rcParams['figure.figsize'] = 14, 6\n",
    "\n",
    "import warnings\n",
    "warnings.filterwarnings(\"ignore\")\n",
    "\n",
    "#中文字体\n",
    "import matplotlib\n",
    "matplotlib.use('qt4agg')\n",
    "#指定默认字体\n",
    "matplotlib.rcParams['font.sans-serif'] = ['SimHei']\n",
    "matplotlib.rcParams['font.family'] = 'sans-serif'\n",
    "#解决负号'-'显示为方块的问题\n",
    "matplotlib.rcParams['axes.unicode_minus'] = False"
   ]
  },
  {
   "cell_type": "code",
   "execution_count": 2,
   "metadata": {},
   "outputs": [
    {
     "data": {
      "text/plain": [
       "(2050000, 13)"
      ]
     },
     "execution_count": 2,
     "metadata": {},
     "output_type": "execute_result"
    }
   ],
   "source": [
    "df = pd.read_csv('./feature/df_preprocess.csv', encoding='utf-8')\n",
    "\n",
    "df.shape"
   ]
  },
  {
   "cell_type": "code",
   "execution_count": 5,
   "metadata": {},
   "outputs": [],
   "source": [
    "import lightgbm as lgb\n",
    "from sklearn.metrics import f1_score"
   ]
  },
  {
   "cell_type": "code",
   "execution_count": 8,
   "metadata": {},
   "outputs": [
    {
     "data": {
      "text/plain": [
       "(2000000, 13)"
      ]
     },
     "execution_count": 8,
     "metadata": {},
     "output_type": "execute_result"
    },
    {
     "data": {
      "text/plain": [
       "(50000, 13)"
      ]
     },
     "execution_count": 8,
     "metadata": {},
     "output_type": "execute_result"
    }
   ],
   "source": [
    "train = df[df.is_val == 0]\n",
    "val = df[df.is_val == 1]\n",
    "\n",
    "train.shape\n",
    "val.shape"
   ]
  },
  {
   "cell_type": "code",
   "execution_count": 87,
   "metadata": {
    "scrolled": true
   },
   "outputs": [
    {
     "name": "stdout",
     "output_type": "stream",
     "text": [
      "Training until validation scores don't improve for 100 rounds.\n",
      "[100]\ttrain's rmse: 0.313702\tval's rmse: 0.389206\n",
      "[200]\ttrain's rmse: 0.311701\tval's rmse: 0.388081\n",
      "[300]\ttrain's rmse: 0.310732\tval's rmse: 0.38759\n",
      "[400]\ttrain's rmse: 0.309881\tval's rmse: 0.387152\n",
      "[500]\ttrain's rmse: 0.309419\tval's rmse: 0.386973\n",
      "[600]\ttrain's rmse: 0.308982\tval's rmse: 0.386731\n",
      "[700]\ttrain's rmse: 0.308492\tval's rmse: 0.386471\n",
      "[800]\ttrain's rmse: 0.307934\tval's rmse: 0.386186\n",
      "[900]\ttrain's rmse: 0.307573\tval's rmse: 0.38602\n",
      "[1000]\ttrain's rmse: 0.307232\tval's rmse: 0.385799\n",
      "[1100]\ttrain's rmse: 0.307031\tval's rmse: 0.385676\n",
      "[1200]\ttrain's rmse: 0.306799\tval's rmse: 0.385563\n",
      "[1300]\ttrain's rmse: 0.306632\tval's rmse: 0.385503\n",
      "[1400]\ttrain's rmse: 0.306249\tval's rmse: 0.385275\n",
      "[1500]\ttrain's rmse: 0.305994\tval's rmse: 0.385113\n",
      "[1600]\ttrain's rmse: 0.305702\tval's rmse: 0.384989\n",
      "[1700]\ttrain's rmse: 0.305505\tval's rmse: 0.384913\n",
      "[1800]\ttrain's rmse: 0.305388\tval's rmse: 0.384878\n",
      "[1900]\ttrain's rmse: 0.305239\tval's rmse: 0.384806\n",
      "[2000]\ttrain's rmse: 0.305076\tval's rmse: 0.384733\n",
      "[2100]\ttrain's rmse: 0.304962\tval's rmse: 0.384688\n",
      "[2200]\ttrain's rmse: 0.304788\tval's rmse: 0.384601\n",
      "[2300]\ttrain's rmse: 0.304611\tval's rmse: 0.384509\n",
      "[2400]\ttrain's rmse: 0.304409\tval's rmse: 0.384447\n",
      "[2500]\ttrain's rmse: 0.304315\tval's rmse: 0.384406\n",
      "[2600]\ttrain's rmse: 0.304223\tval's rmse: 0.384355\n",
      "[2700]\ttrain's rmse: 0.304058\tval's rmse: 0.384249\n",
      "[2800]\ttrain's rmse: 0.303877\tval's rmse: 0.384169\n",
      "[2900]\ttrain's rmse: 0.303784\tval's rmse: 0.38412\n",
      "[3000]\ttrain's rmse: 0.303645\tval's rmse: 0.384044\n",
      "[3100]\ttrain's rmse: 0.303569\tval's rmse: 0.384019\n",
      "[3200]\ttrain's rmse: 0.30343\tval's rmse: 0.383951\n",
      "[3300]\ttrain's rmse: 0.303306\tval's rmse: 0.383913\n",
      "[3400]\ttrain's rmse: 0.303214\tval's rmse: 0.383865\n",
      "[3500]\ttrain's rmse: 0.303084\tval's rmse: 0.383801\n",
      "[3600]\ttrain's rmse: 0.302983\tval's rmse: 0.383751\n",
      "[3700]\ttrain's rmse: 0.302897\tval's rmse: 0.383715\n",
      "[3800]\ttrain's rmse: 0.302841\tval's rmse: 0.383682\n",
      "[3900]\ttrain's rmse: 0.302766\tval's rmse: 0.383667\n",
      "[4000]\ttrain's rmse: 0.302678\tval's rmse: 0.383637\n",
      "[4100]\ttrain's rmse: 0.302619\tval's rmse: 0.383619\n",
      "[4200]\ttrain's rmse: 0.302529\tval's rmse: 0.383594\n",
      "[4300]\ttrain's rmse: 0.302464\tval's rmse: 0.383566\n",
      "[4400]\ttrain's rmse: 0.302397\tval's rmse: 0.383545\n",
      "[4500]\ttrain's rmse: 0.302327\tval's rmse: 0.383532\n",
      "[4600]\ttrain's rmse: 0.30227\tval's rmse: 0.383514\n",
      "[4700]\ttrain's rmse: 0.30221\tval's rmse: 0.383475\n",
      "[4800]\ttrain's rmse: 0.302145\tval's rmse: 0.383449\n",
      "[4900]\ttrain's rmse: 0.302067\tval's rmse: 0.383413\n",
      "[5000]\ttrain's rmse: 0.301988\tval's rmse: 0.383395\n",
      "[5100]\ttrain's rmse: 0.301929\tval's rmse: 0.383374\n",
      "[5200]\ttrain's rmse: 0.3019\tval's rmse: 0.383371\n",
      "[5300]\ttrain's rmse: 0.301849\tval's rmse: 0.383357\n",
      "[5400]\ttrain's rmse: 0.301805\tval's rmse: 0.383328\n",
      "[5500]\ttrain's rmse: 0.30176\tval's rmse: 0.383325\n",
      "[5600]\ttrain's rmse: 0.301692\tval's rmse: 0.383301\n",
      "[5700]\ttrain's rmse: 0.301649\tval's rmse: 0.383288\n",
      "[5800]\ttrain's rmse: 0.301613\tval's rmse: 0.383285\n",
      "[5900]\ttrain's rmse: 0.301562\tval's rmse: 0.383282\n",
      "[6000]\ttrain's rmse: 0.301501\tval's rmse: 0.383239\n",
      "[6100]\ttrain's rmse: 0.301454\tval's rmse: 0.383213\n",
      "[6200]\ttrain's rmse: 0.3014\tval's rmse: 0.383195\n",
      "Early stopping, best iteration is:\n",
      "[6181]\ttrain's rmse: 0.301404\tval's rmse: 0.383193\n"
     ]
    }
   ],
   "source": [
    "cv_params =  {\n",
    "    'objective': 'regression',\n",
    "    'metric': 'rmse',\n",
    "#     'min_data_in_leaf': 300,\n",
    "    'num_leaves': 31,\n",
    "    'max_depth': 7,\n",
    "    'learning_rate': 0.1,\n",
    "    'feature_fraction': 0.8,\n",
    "    'bagging_fraction': 0.8,\n",
    "    'seed': 2018\n",
    "    }\n",
    "    \n",
    "# [6181]\ttrain's rmse: 0.301404\tval's rmse: 0.383193\n",
    "train_data = lgb.Dataset(train[['dict_len', 'title_rate', 'title_rate_max_sub']], label=train.bayes_label)\n",
    "val_data = lgb.Dataset(val[['dict_len', 'title_rate', 'title_rate_max_sub']], label=val.bayes_label)\n",
    "\n",
    "bst = lgb.train(cv_params, train_data, early_stopping_rounds=100, verbose_eval=100, valid_sets=[train_data, val_data], \n",
    "                    valid_names=['train', 'val'], num_boost_round=10000)"
   ]
  },
  {
   "cell_type": "code",
   "execution_count": 89,
   "metadata": {},
   "outputs": [],
   "source": [
    "pred = bst.predict(val[['dict_len', 'title_rate', 'title_rate_max_sub']])"
   ]
  },
  {
   "cell_type": "code",
   "execution_count": 95,
   "metadata": {},
   "outputs": [
    {
     "data": {
      "text/plain": [
       "0.461889548151529"
      ]
     },
     "execution_count": 95,
     "metadata": {},
     "output_type": "execute_result"
    }
   ],
   "source": [
    "f1_score(val.label, pred.round())"
   ]
  }
 ],
 "metadata": {
  "kernelspec": {
   "display_name": "Python 3",
   "language": "python",
   "name": "python3"
  },
  "language_info": {
   "codemirror_mode": {
    "name": "ipython",
    "version": 3
   },
   "file_extension": ".py",
   "mimetype": "text/x-python",
   "name": "python",
   "nbconvert_exporter": "python",
   "pygments_lexer": "ipython3",
   "version": "3.6.3"
  }
 },
 "nbformat": 4,
 "nbformat_minor": 2
}
