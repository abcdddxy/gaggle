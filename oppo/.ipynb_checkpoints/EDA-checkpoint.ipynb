{
 "cells": [
  {
   "cell_type": "code",
   "execution_count": 1,
   "metadata": {},
   "outputs": [],
   "source": [
    "import numpy as np\n",
    "import os\n",
    "import pandas as pd\n",
    "pd.set_option('display.max_columns', None)\n",
    "import matplotlib.pyplot as plt\n",
    "# import seaborn as sns\n",
    "import pickle\n",
    "import time\n",
    "import gc\n",
    "from tqdm import tqdm, tqdm_notebook\n",
    "\n",
    "%matplotlib inline\n",
    "\n",
    "#每次可以输出多个变量\n",
    "from IPython.core.interactiveshell import InteractiveShell\n",
    "InteractiveShell.ast_node_interactivity = \"all\"\n",
    "\n",
    "from pylab import rcParams\n",
    "rcParams['figure.figsize'] = 14, 6\n",
    "\n",
    "import warnings\n",
    "warnings.filterwarnings(\"ignore\")\n",
    "\n",
    "#中文字体\n",
    "import matplotlib\n",
    "matplotlib.use('qt4agg')\n",
    "#指定默认字体\n",
    "matplotlib.rcParams['font.sans-serif'] = ['SimHei']\n",
    "matplotlib.rcParams['font.family'] = 'sans-serif'\n",
    "#解决负号'-'显示为方块的问题\n",
    "matplotlib.rcParams['axes.unicode_minus'] = False"
   ]
  },
  {
   "cell_type": "code",
   "execution_count": 2,
   "metadata": {
    "scrolled": false
   },
   "outputs": [
    {
     "data": {
      "text/plain": [
       "(2000000, 5)"
      ]
     },
     "execution_count": 2,
     "metadata": {},
     "output_type": "execute_result"
    },
    {
     "data": {
      "text/plain": [
       "(50000, 5)"
      ]
     },
     "execution_count": 2,
     "metadata": {},
     "output_type": "execute_result"
    },
    {
     "data": {
      "text/plain": [
       "(50000, 4)"
      ]
     },
     "execution_count": 2,
     "metadata": {},
     "output_type": "execute_result"
    }
   ],
   "source": [
    "train = pd.read_csv('./data/oppo_round1_train_20180926.txt', names=['prefix', 'query_prediction', 'title', 'tag', 'label'], sep='\\t')\n",
    "val = pd.read_csv('./data/oppo_round1_vali_20180926.txt', names=['prefix', 'query_prediction', 'title', 'tag', 'label'], sep='\\t')\n",
    "test = pd.read_csv('./data/oppo_round1_test_A_20180926.txt', names=['prefix', 'query_prediction', 'title', 'tag'], sep='\\t')\n",
    "\n",
    "train.shape\n",
    "val.shape\n",
    "test.shape"
   ]
  },
  {
   "cell_type": "code",
   "execution_count": 3,
   "metadata": {},
   "outputs": [
    {
     "data": {
      "text/plain": [
       "0    1250531\n",
       "1     749469\n",
       "Name: label, dtype: int64"
      ]
     },
     "execution_count": 3,
     "metadata": {},
     "output_type": "execute_result"
    },
    {
     "data": {
      "text/plain": [
       "0    31187\n",
       "1    18813\n",
       "Name: label, dtype: int64"
      ]
     },
     "execution_count": 3,
     "metadata": {},
     "output_type": "execute_result"
    }
   ],
   "source": [
    "train.label.value_counts()\n",
    "val.label.value_counts()"
   ]
  },
  {
   "cell_type": "code",
   "execution_count": 4,
   "metadata": {},
   "outputs": [
    {
     "data": {
      "text/plain": [
       "prefix                  1\n",
       "query_prediction    37248\n",
       "title                   0\n",
       "tag                     0\n",
       "label                   0\n",
       "dtype: int64"
      ]
     },
     "execution_count": 4,
     "metadata": {},
     "output_type": "execute_result"
    },
    {
     "data": {
      "text/plain": [
       "prefix                0\n",
       "query_prediction    958\n",
       "title                 0\n",
       "tag                   0\n",
       "label                 0\n",
       "dtype: int64"
      ]
     },
     "execution_count": 4,
     "metadata": {},
     "output_type": "execute_result"
    },
    {
     "data": {
      "text/plain": [
       "prefix                0\n",
       "query_prediction    964\n",
       "title                 0\n",
       "tag                   0\n",
       "dtype: int64"
      ]
     },
     "execution_count": 4,
     "metadata": {},
     "output_type": "execute_result"
    }
   ],
   "source": [
    "train.isnull().sum()\n",
    "val.isnull().sum()\n",
    "test.isnull().sum()"
   ]
  },
  {
   "cell_type": "code",
   "execution_count": 5,
   "metadata": {},
   "outputs": [
    {
     "data": {
      "text/plain": [
       "169913"
      ]
     },
     "execution_count": 5,
     "metadata": {},
     "output_type": "execute_result"
    },
    {
     "name": "stdout",
     "output_type": "stream",
     "text": [
      "23908 / 17968\n",
      "24198 / 18111\n"
     ]
    },
    {
     "data": {
      "text/plain": [
       "8700"
      ]
     },
     "execution_count": 5,
     "metadata": {},
     "output_type": "execute_result"
    }
   ],
   "source": [
    "len(train.prefix.unique())\n",
    "print(len(val.prefix.unique()), '/', len(set(val.prefix.unique()) & set(train.prefix.unique())))\n",
    "print(len(test.prefix.unique()), '/', len(set(test.prefix.unique()) & set(train.prefix.unique())))\n",
    "\n",
    "len(set(val.prefix.unique()) & set(test.prefix.unique()))"
   ]
  },
  {
   "cell_type": "code",
   "execution_count": 6,
   "metadata": {},
   "outputs": [],
   "source": [
    "train.query_prediction = train.query_prediction.apply(lambda x:eval(x) if type(x) == str else None)\n",
    "val.query_prediction = val.query_prediction.apply(lambda x:eval(x) if type(x) == str else None)\n",
    "test.query_prediction = test.query_prediction.apply(lambda x:eval(x) if type(x) == str else None)"
   ]
  },
  {
   "cell_type": "code",
   "execution_count": 7,
   "metadata": {},
   "outputs": [],
   "source": [
    "train.query_prediction = train.query_prediction.apply(lambda x:dict(sorted(x.items(), key=lambda x:x[1], reverse=True)) if x != None else {})\n",
    "val.query_prediction = val.query_prediction.apply(lambda x:dict(sorted(x.items(), key=lambda x:x[1], reverse=True)) if x != None else {})\n",
    "test.query_prediction = test.query_prediction.apply(lambda x:dict(sorted(x.items(), key=lambda x:x[1], reverse=True)) if x != None else {})"
   ]
  },
  {
   "cell_type": "code",
   "execution_count": 8,
   "metadata": {},
   "outputs": [],
   "source": [
    "train['dict_len'] = train.query_prediction.apply(len)\n",
    "val['dict_len'] = val.query_prediction.apply(len)\n",
    "test['dict_len'] = test.query_prediction.apply(len)"
   ]
  },
  {
   "cell_type": "code",
   "execution_count": 11,
   "metadata": {},
   "outputs": [],
   "source": [
    "bayes_train = train.groupby(['title', 'tag'], as_index=False)['label'].agg({'bayes_label':'mean'})\n",
    "bayes_val = val.groupby(['title', 'tag'], as_index=False)['label'].agg({'bayes_label':'mean'})"
   ]
  },
  {
   "cell_type": "code",
   "execution_count": 12,
   "metadata": {
    "scrolled": true
   },
   "outputs": [],
   "source": [
    "train = train.merge(bayes_train, on=['title', 'tag'], how='left')\n",
    "val = val.merge(bayes_val, on=['title', 'tag'], how='left')\n",
    "test['bayes_label'] = 0"
   ]
  },
  {
   "cell_type": "code",
   "execution_count": 13,
   "metadata": {},
   "outputs": [],
   "source": [
    "def get_title_rate(x):\n",
    "    if x.title in x.query_prediction:\n",
    "        return float(x.query_prediction[x.title])\n",
    "    else:\n",
    "        return 0\n",
    "\n",
    "train['title_rate'] = train.apply(get_title_rate, axis=1)\n",
    "val['title_rate'] = val.apply(get_title_rate, axis=1)\n",
    "test['title_rate'] = test.apply(get_title_rate, axis=1)"
   ]
  },
  {
   "cell_type": "code",
   "execution_count": 14,
   "metadata": {},
   "outputs": [],
   "source": [
    "train['title_tag'] = train['title'] + '_' + train['tag']\n",
    "val['title_tag'] = val['title'] + '_' + val['tag']\n",
    "test['title_tag'] = test['title'] + '_' + test['tag']"
   ]
  },
  {
   "cell_type": "code",
   "execution_count": 15,
   "metadata": {},
   "outputs": [],
   "source": [
    "train['is_max_rate'] = train.apply(lambda x: 1 if x.query_prediction != {} and float(list(x.query_prediction.values())[0]) == x.title_rate else 0, axis=1)\n",
    "val['is_max_rate'] = val.apply(lambda x: 1 if x.query_prediction != {} and float(list(x.query_prediction.values())[0]) == x.title_rate else 0, axis=1)\n",
    "test['is_max_rate'] = test.apply(lambda x: 1 if x.query_prediction != {} and float(list(x.query_prediction.values())[0]) == x.title_rate else 0, axis=1)"
   ]
  },
  {
   "cell_type": "code",
   "execution_count": null,
   "metadata": {},
   "outputs": [],
   "source": [
    "train['max_title_rate'] = train.apply(lambda x: float(list(x.query_prediction.values())[0]) if x.query_prediction != {} else 0.5, axis=1)\n",
    "val['max_title_rate'] = val.apply(lambda x: float(list(x.query_prediction.values())[0]) if x.query_prediction != {} else 0.5, axis=1)\n",
    "test['max_title_rate'] = test.apply(lambda x: float(list(x.query_prediction.values())[0]) if x.query_prediction != {} else 0.5, axis=1)"
   ]
  },
  {
   "cell_type": "code",
   "execution_count": 16,
   "metadata": {},
   "outputs": [],
   "source": [
    "train['title_rate_max_sub'] = train.apply(lambda x: float(list(x.query_prediction.values())[0]) - x.title_rate if x.query_prediction != {} else 0.5, axis=1)\n",
    "val['title_rate_max_sub'] = val.apply(lambda x: float(list(x.query_prediction.values())[0]) - x.title_rate if x.query_prediction != {} else 0.5, axis=1)\n",
    "test['title_rate_max_sub'] = test.apply(lambda x: float(list(x.query_prediction.values())[0]) - x.title_rate if x.query_prediction != {} else 0.5, axis=1)"
   ]
  },
  {
   "cell_type": "code",
   "execution_count": 17,
   "metadata": {},
   "outputs": [
    {
     "data": {
      "text/plain": [
       "(2100000, 12)"
      ]
     },
     "execution_count": 17,
     "metadata": {},
     "output_type": "execute_result"
    }
   ],
   "source": [
    "train['is_val'] = 0\n",
    "val['is_val'] = 1\n",
    "test['is_val'] = -1\n",
    "\n",
    "df = pd.concat([train, val], axis=0)\n",
    "df = pd.concat([df, test], axis=0)\n",
    "df.reset_index(drop=True, inplace=True)\n",
    "df.shape"
   ]
  },
  {
   "cell_type": "code",
   "execution_count": 19,
   "metadata": {},
   "outputs": [],
   "source": [
    "import hashlib\n",
    "\n",
    "def get_user_id(x):\n",
    "    md5 = hashlib.md5(str(x.query_prediction).encode(encoding='UTF-8'))\n",
    "    return md5.hexdigest()\n",
    "\n",
    "def get_item_id(x):\n",
    "    md5 = hashlib.md5(str(x.title_tag).encode(encoding='UTF-8'))\n",
    "    return md5.hexdigest()\n",
    "\n",
    "df['user_id'] = df.apply(get_user_id, axis=1)\n",
    "df['item_id'] = df.apply(get_item_id, axis=1)"
   ]
  },
  {
   "cell_type": "code",
   "execution_count": 16,
   "metadata": {},
   "outputs": [
    {
     "data": {
      "text/html": [
       "<div>\n",
       "<style>\n",
       "    .dataframe thead tr:only-child th {\n",
       "        text-align: right;\n",
       "    }\n",
       "\n",
       "    .dataframe thead th {\n",
       "        text-align: left;\n",
       "    }\n",
       "\n",
       "    .dataframe tbody tr th {\n",
       "        vertical-align: top;\n",
       "    }\n",
       "</style>\n",
       "<table border=\"1\" class=\"dataframe\">\n",
       "  <thead>\n",
       "    <tr style=\"text-align: right;\">\n",
       "      <th></th>\n",
       "      <th>prefix</th>\n",
       "      <th>query_prediction</th>\n",
       "      <th>title</th>\n",
       "      <th>tag</th>\n",
       "      <th>label</th>\n",
       "      <th>dict_len</th>\n",
       "      <th>bayes_label</th>\n",
       "      <th>title_rate</th>\n",
       "      <th>title_tag</th>\n",
       "      <th>is_max_rate</th>\n",
       "      <th>title_rate_max_sub</th>\n",
       "      <th>user_id</th>\n",
       "      <th>item_id</th>\n",
       "    </tr>\n",
       "  </thead>\n",
       "  <tbody>\n",
       "    <tr>\n",
       "      <th>40248</th>\n",
       "      <td>刺激战场</td>\n",
       "      <td>{'刺激战场': '0.113', '刺激战场灵敏度': '0.051', '刺激战场辅助'...</td>\n",
       "      <td>刺激战场官网</td>\n",
       "      <td>网站</td>\n",
       "      <td>0</td>\n",
       "      <td>11</td>\n",
       "      <td>0.250000</td>\n",
       "      <td>0.011</td>\n",
       "      <td>刺激战场官网_网站</td>\n",
       "      <td>0</td>\n",
       "      <td>0.102</td>\n",
       "      <td>923d4665cb160f141f4189e9d500e5eb</td>\n",
       "      <td>b189694d54fa156b9ccc89b17ede5745</td>\n",
       "    </tr>\n",
       "    <tr>\n",
       "      <th>44470</th>\n",
       "      <td>刺激战场</td>\n",
       "      <td>{'刺激战场': '0.113', '刺激战场灵敏度': '0.051', '刺激战场辅助'...</td>\n",
       "      <td>绝地求生：刺激战场</td>\n",
       "      <td>百科</td>\n",
       "      <td>1</td>\n",
       "      <td>11</td>\n",
       "      <td>0.307692</td>\n",
       "      <td>0.000</td>\n",
       "      <td>绝地求生：刺激战场_百科</td>\n",
       "      <td>0</td>\n",
       "      <td>0.113</td>\n",
       "      <td>923d4665cb160f141f4189e9d500e5eb</td>\n",
       "      <td>9c5d918d17320fdfc7424ac861f1de91</td>\n",
       "    </tr>\n",
       "    <tr>\n",
       "      <th>44688</th>\n",
       "      <td>刺激战场</td>\n",
       "      <td>{'刺激战场': '0.113', '刺激战场灵敏度': '0.051', '刺激战场辅助'...</td>\n",
       "      <td>刺激战场官网</td>\n",
       "      <td>网站</td>\n",
       "      <td>1</td>\n",
       "      <td>11</td>\n",
       "      <td>0.250000</td>\n",
       "      <td>0.011</td>\n",
       "      <td>刺激战场官网_网站</td>\n",
       "      <td>0</td>\n",
       "      <td>0.102</td>\n",
       "      <td>923d4665cb160f141f4189e9d500e5eb</td>\n",
       "      <td>b189694d54fa156b9ccc89b17ede5745</td>\n",
       "    </tr>\n",
       "    <tr>\n",
       "      <th>46181</th>\n",
       "      <td>刺激战场</td>\n",
       "      <td>{'刺激战场': '0.113', '刺激战场灵敏度': '0.051', '刺激战场辅助'...</td>\n",
       "      <td>绝地求生：刺激战场</td>\n",
       "      <td>百科</td>\n",
       "      <td>0</td>\n",
       "      <td>11</td>\n",
       "      <td>0.307692</td>\n",
       "      <td>0.000</td>\n",
       "      <td>绝地求生：刺激战场_百科</td>\n",
       "      <td>0</td>\n",
       "      <td>0.113</td>\n",
       "      <td>923d4665cb160f141f4189e9d500e5eb</td>\n",
       "      <td>9c5d918d17320fdfc7424ac861f1de91</td>\n",
       "    </tr>\n",
       "  </tbody>\n",
       "</table>\n",
       "</div>"
      ],
      "text/plain": [
       "      prefix                                   query_prediction      title  \\\n",
       "40248   刺激战场  {'刺激战场': '0.113', '刺激战场灵敏度': '0.051', '刺激战场辅助'...     刺激战场官网   \n",
       "44470   刺激战场  {'刺激战场': '0.113', '刺激战场灵敏度': '0.051', '刺激战场辅助'...  绝地求生：刺激战场   \n",
       "44688   刺激战场  {'刺激战场': '0.113', '刺激战场灵敏度': '0.051', '刺激战场辅助'...     刺激战场官网   \n",
       "46181   刺激战场  {'刺激战场': '0.113', '刺激战场灵敏度': '0.051', '刺激战场辅助'...  绝地求生：刺激战场   \n",
       "\n",
       "      tag  label  dict_len  bayes_label  title_rate     title_tag  \\\n",
       "40248  网站      0        11     0.250000       0.011     刺激战场官网_网站   \n",
       "44470  百科      1        11     0.307692       0.000  绝地求生：刺激战场_百科   \n",
       "44688  网站      1        11     0.250000       0.011     刺激战场官网_网站   \n",
       "46181  百科      0        11     0.307692       0.000  绝地求生：刺激战场_百科   \n",
       "\n",
       "       is_max_rate  title_rate_max_sub                           user_id  \\\n",
       "40248            0               0.102  923d4665cb160f141f4189e9d500e5eb   \n",
       "44470            0               0.113  923d4665cb160f141f4189e9d500e5eb   \n",
       "44688            0               0.102  923d4665cb160f141f4189e9d500e5eb   \n",
       "46181            0               0.113  923d4665cb160f141f4189e9d500e5eb   \n",
       "\n",
       "                                item_id  \n",
       "40248  b189694d54fa156b9ccc89b17ede5745  \n",
       "44470  9c5d918d17320fdfc7424ac861f1de91  \n",
       "44688  b189694d54fa156b9ccc89b17ede5745  \n",
       "46181  9c5d918d17320fdfc7424ac861f1de91  "
      ]
     },
     "execution_count": 16,
     "metadata": {},
     "output_type": "execute_result"
    }
   ],
   "source": [
    "val[val.prefix == '刺激战场']"
   ]
  },
  {
   "cell_type": "code",
   "execution_count": 21,
   "metadata": {},
   "outputs": [],
   "source": [
    "df.to_csv('./feature/df_preprocess_andtest.csv', index=None, encoding='utf-8')"
   ]
  }
 ],
 "metadata": {
  "kernelspec": {
   "display_name": "Python 3",
   "language": "python",
   "name": "python3"
  },
  "language_info": {
   "codemirror_mode": {
    "name": "ipython",
    "version": 3
   },
   "file_extension": ".py",
   "mimetype": "text/x-python",
   "name": "python",
   "nbconvert_exporter": "python",
   "pygments_lexer": "ipython3",
   "version": "3.6.3"
  }
 },
 "nbformat": 4,
 "nbformat_minor": 2
}
