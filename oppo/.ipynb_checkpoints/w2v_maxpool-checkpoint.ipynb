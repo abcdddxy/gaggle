{
 "cells": [
  {
   "cell_type": "code",
   "execution_count": 2,
   "metadata": {},
   "outputs": [],
   "source": [
    "import numpy as np\n",
    "import os\n",
    "import pandas as pd\n",
    "pd.set_option('display.max_columns', None)\n",
    "import matplotlib.pyplot as plt\n",
    "# import seaborn as sns\n",
    "import pickle\n",
    "import time\n",
    "import gc\n",
    "from tqdm import tqdm, tqdm_notebook\n",
    "\n",
    "%matplotlib inline\n",
    "\n",
    "#每次可以输出多个变量\n",
    "from IPython.core.interactiveshell import InteractiveShell\n",
    "InteractiveShell.ast_node_interactivity = \"all\"\n",
    "\n",
    "from pylab import rcParams\n",
    "rcParams['figure.figsize'] = 14, 6\n",
    "\n",
    "import warnings\n",
    "warnings.filterwarnings(\"ignore\")\n",
    "\n",
    "#中文字体\n",
    "import matplotlib\n",
    "matplotlib.use('qt4agg')\n",
    "#指定默认字体\n",
    "matplotlib.rcParams['font.sans-serif'] = ['SimHei']\n",
    "matplotlib.rcParams['font.family'] = 'sans-serif'\n",
    "#解决负号'-'显示为方块的问题\n",
    "matplotlib.rcParams['axes.unicode_minus'] = False"
   ]
  },
  {
   "cell_type": "code",
   "execution_count": 3,
   "metadata": {},
   "outputs": [],
   "source": [
    "import jieba\n",
    "import urllib"
   ]
  },
  {
   "cell_type": "code",
   "execution_count": 4,
   "metadata": {},
   "outputs": [],
   "source": [
    "def read_vectors(path, topn):  # read top n word vectors, i.e. top is 10000\n",
    "    lines_num, dim = 0, 0\n",
    "    vectors = {}\n",
    "    iw = []\n",
    "    wi = {}\n",
    "    with open(path, encoding='utf-8', errors='ignore') as f:\n",
    "        first_line = True\n",
    "        for line in f:\n",
    "            if first_line:\n",
    "                first_line = False\n",
    "                dim = int(line.rstrip().split()[1])\n",
    "                continue\n",
    "            lines_num += 1\n",
    "            tokens = line.rstrip().split(' ')\n",
    "            vectors[tokens[0]] = np.asarray([float(x) for x in tokens[1:]])\n",
    "            iw.append(tokens[0])\n",
    "            if topn != 0 and lines_num >= topn:\n",
    "                break\n",
    "    for i, w in enumerate(iw):\n",
    "        wi[w] = i\n",
    "    return vectors, iw, wi, dim"
   ]
  },
  {
   "cell_type": "code",
   "execution_count": 5,
   "metadata": {},
   "outputs": [],
   "source": [
    "w2v = read_vectors('../w2v/merge_sgns_bigram_char300.txt', 0)"
   ]
  },
  {
   "cell_type": "code",
   "execution_count": 7,
   "metadata": {
    "scrolled": true
   },
   "outputs": [
    {
     "data": {
      "text/plain": [
       "(250000, 5)"
      ]
     },
     "execution_count": 7,
     "metadata": {},
     "output_type": "execute_result"
    }
   ],
   "source": [
    "df = pd.read_csv('./feature/featurefull_testB.csv', encoding='gbk', usecols=['prefix', 'title', 'dict_len', 'query_prediction', 'query_prediction_origin'])\n",
    "\n",
    "df.shape"
   ]
  },
  {
   "cell_type": "code",
   "execution_count": 8,
   "metadata": {},
   "outputs": [],
   "source": [
    "df['title'] = df.title.apply(lambda x: urllib.parse.unquote(x))\n",
    "df['prefix'] = df.prefix.apply(lambda x: urllib.parse.unquote(x))"
   ]
  },
  {
   "cell_type": "code",
   "execution_count": 9,
   "metadata": {},
   "outputs": [
    {
     "name": "stdout",
     "output_type": "stream",
     "text": [
      "Wall time: 35.4 s\n"
     ]
    }
   ],
   "source": [
    "%%time\n",
    "df['query_prediction'] = df.apply(lambda x: eval(x.query_prediction) if x.dict_len != 0 else {}, axis=1)\n",
    "df['query_prediction_origin'] = df.apply(lambda x: eval(x.query_prediction_origin) if x.dict_len != 0 else {}, axis=1)\n",
    "\n",
    "df['max_query'] = df.apply(lambda x: list(x.query_prediction.keys())[0] if x.dict_len != 0 else '', axis=1)\n",
    "df['first_query'] = df.apply(lambda x: list(x.query_prediction_origin.keys())[0] if x.dict_len != 0 else '', axis=1)"
   ]
  },
  {
   "cell_type": "markdown",
   "metadata": {},
   "source": [
    "## 词向量"
   ]
  },
  {
   "cell_type": "code",
   "execution_count": 10,
   "metadata": {},
   "outputs": [],
   "source": [
    "def get_sent_vector_max(x):\n",
    "    tmp_list = list(jieba.cut(x))\n",
    "    vec = [[0] * 300]\n",
    "    vec_num = 0\n",
    "    for word in tmp_list:\n",
    "        if word in w2v[0]:\n",
    "            vec.append(w2v[0][word])\n",
    "            vec_num += 1\n",
    "        else:\n",
    "            for letter in word:\n",
    "                if letter in w2v[0]:\n",
    "                    vec.append(w2v[0][letter])\n",
    "                    vec_num += 1\n",
    "    vec = np.array(vec).max(axis=0)\n",
    "    return vec / (vec_num + 1)\n",
    "\n",
    "def get_sent_dict_vector_max(x):\n",
    "    vec = [[0] * 300]\n",
    "    weight = sum(np.array(list(x.values())).astype(float))\n",
    "    for k, v in x.items():\n",
    "        vec_num = 0\n",
    "        tmp_vec = []\n",
    "        tmp_list = list(jieba.cut(k))\n",
    "        for word in tmp_list:\n",
    "            if word in w2v[0]:\n",
    "                tmp_vec.append(w2v[0][word])\n",
    "                vec_num += 1\n",
    "            else:\n",
    "                for letter in word:\n",
    "                    if letter in w2v[0]:\n",
    "                        tmp_vec.append(w2v[0][letter])\n",
    "                        vec_num += 1\n",
    "        tmp_vec = np.array(vec).max(axis=0)\n",
    "        tmp_vec = tmp_vec / (vec_num + 1)\n",
    "        vec.append(tmp_vec * float(v))\n",
    "    return vec / (weight + 1)"
   ]
  },
  {
   "cell_type": "code",
   "execution_count": 11,
   "metadata": {},
   "outputs": [],
   "source": [
    "from sklearn.metrics.pairwise import pairwise_distances"
   ]
  },
  {
   "cell_type": "code",
   "execution_count": 12,
   "metadata": {
    "scrolled": true
   },
   "outputs": [
    {
     "name": "stderr",
     "output_type": "stream",
     "text": [
      "Building prefix dict from the default dictionary ...\n",
      "Dumping model to file cache C:\\Users\\ZERO\\AppData\\Local\\Temp\\jieba.cache\n",
      "Loading model cost 0.921 seconds.\n",
      "Prefix dict has been built succesfully.\n"
     ]
    },
    {
     "name": "stdout",
     "output_type": "stream",
     "text": [
      "Wall time: 2min 42s\n"
     ]
    }
   ],
   "source": [
    "%%time\n",
    "df['max_query_vec'] = df.max_query.apply(get_sent_vector_max)\n",
    "df['first_query_vec'] = df.first_query.apply(get_sent_vector_max)\n",
    "df['title_vec'] = df.title.apply(get_sent_vector_max)\n",
    "\n",
    "df['title_max_distance_maxpool'] = df.apply(lambda x: np.linalg.norm(x.title_vec - x.max_query_vec), axis=1)\n",
    "df['title_first_distance_maxpool'] = df.apply(lambda x: np.linalg.norm(x.title_vec - x.first_query_vec), axis=1)\n",
    "df['title_max_cos_distance_maxpool'] = df.apply(lambda x: pairwise_distances([x.title_vec, x.max_query_vec], metric='cosine')[0, 1], axis=1)\n",
    "df['title_first_cos_distance_maxpool'] = df.apply(lambda x: pairwise_distances([x.title_vec, x.first_query_vec] ,metric='cosine')[0, 1], axis=1)"
   ]
  },
  {
   "cell_type": "code",
   "execution_count": 15,
   "metadata": {},
   "outputs": [
    {
     "name": "stdout",
     "output_type": "stream",
     "text": [
      "Wall time: 4min 38s\n"
     ]
    }
   ],
   "source": [
    "%%time\n",
    "df['query_str_joint'] = df.query_prediction.apply(lambda x: ''.join(list(x.keys())))\n",
    "df['query_origin_str_joint'] = df.query_prediction_origin.apply(lambda x: ''.join(list(x.keys())))\n",
    "\n",
    "df['query_str_vec'] = df.query_str_joint.apply(get_sent_vector_max)\n",
    "df['query_origin_str_vec'] = df.query_origin_str_joint.apply(get_sent_vector_max)\n",
    "\n",
    "df['title_str_distance_maxpool'] = df.apply(lambda x: np.linalg.norm(x.title_vec - x.query_str_vec), axis=1)\n",
    "df['title_origin_str_distance_maxpool'] = df.apply(lambda x: np.linalg.norm(x.title_vec - x.query_origin_str_vec), axis=1)\n",
    "df['title_str_cos_distance_maxpool'] = df.apply(lambda x: pairwise_distances([x.title_vec, x.query_str_vec], metric='cosine')[0, 1], axis=1)\n",
    "df['title_origin_str_cos_distance_maxpool'] = df.apply(lambda x: pairwise_distances([x.title_vec, x.query_origin_str_vec], metric='cosine')[0, 1], axis=1)"
   ]
  },
  {
   "cell_type": "code",
   "execution_count": 16,
   "metadata": {},
   "outputs": [],
   "source": [
    "def get_sent_vector(x):\n",
    "    tmp_list = list(jieba.cut(x))\n",
    "    vec = [0] * 300\n",
    "    vec_num = 0\n",
    "    for word in tmp_list:\n",
    "        if word in w2v[0]:\n",
    "            vec += w2v[0][word]\n",
    "            vec_num += 1\n",
    "        else:\n",
    "            for letter in word:\n",
    "                if letter in w2v[0]:\n",
    "                    vec += w2v[0][letter]\n",
    "                    vec_num += 1\n",
    "    return np.array(vec) / (vec_num + 1)\n",
    "\n",
    "def get_sent_dict_vector(x):\n",
    "    vec = np.array([0] * 300)\n",
    "    weight = sum(np.array(list(x.values())).astype(float))\n",
    "    for k, v in x.items():\n",
    "        vec_num = 0\n",
    "        tmp_vec = [0] * 300\n",
    "        tmp_list = list(jieba.cut(k))\n",
    "        for word in tmp_list:\n",
    "            if word in w2v[0]:\n",
    "                tmp_vec += w2v[0][word]\n",
    "                vec_num += 1\n",
    "            else:\n",
    "                for letter in word:\n",
    "                    if letter in w2v[0]:\n",
    "                        tmp_vec += w2v[0][letter]\n",
    "                        vec_num += 1\n",
    "        tmp_vec = np.array(tmp_vec) / (vec_num + 1)\n",
    "        vec = vec + tmp_vec * float(v)\n",
    "    return vec / (weight + 1)"
   ]
  },
  {
   "cell_type": "code",
   "execution_count": null,
   "metadata": {},
   "outputs": [],
   "source": [
    "%%time\n",
    "df['query_dict_vec'] = df.query_prediction.apply(get_sent_dict_vector)\n",
    "df['title_vec'] = df.title.apply(get_sent_vector)\n",
    "\n",
    "df['title_query_dict_distance'] = df.apply(lambda x: np.linalg.norm(x.title_vec - x.query_dict_vec), axis=1)\n",
    "df['title_query_dict_cos_distance'] = df.apply(lambda x: pairwise_distances([x.title_vec, x.query_dict_vec] ,metric='cosine')[0, 1], axis=1)"
   ]
  },
  {
   "cell_type": "code",
   "execution_count": null,
   "metadata": {},
   "outputs": [],
   "source": [
    "%%time\n",
    "# df['title_vec'] = df.title.apply(get_sent_vector)\n",
    "df['prefix_vec'] = df.prefix.apply(get_sent_vector)\n",
    "\n",
    "df['title_prefix_distance'] = df.apply(lambda x: np.linalg.norm(x.title_vec - x.prefix_vec), axis=1)\n",
    "df['title_prefix_cos_distance'] = df.apply(lambda x: pairwise_distances([x.title_vec, x.prefix_vec], metric='cosine')[0, 1], axis=1)"
   ]
  },
  {
   "cell_type": "code",
   "execution_count": null,
   "metadata": {},
   "outputs": [],
   "source": [
    "def get_str_set(x):\n",
    "    tmp = []\n",
    "    for i in list(jieba.cut(x)):\n",
    "        if i not in tmp:\n",
    "            tmp.append(i)\n",
    "    return ''.join(tmp)"
   ]
  },
  {
   "cell_type": "code",
   "execution_count": null,
   "metadata": {},
   "outputs": [],
   "source": [
    "%%time\n",
    "df['query_str_joint'] = df.query_str_joint.apply(get_str_set)\n",
    "                                                  \n",
    "df['query_set_str_vec'] = df.query_str_joint.apply(get_sent_vector)\n",
    "\n",
    "df['title_query_str_distance'] = df.apply(lambda x: np.linalg.norm(x.title_vec - x.query_set_str_vec), axis=1)\n",
    "df['title_query_str_cos_distance'] = df.apply(lambda x: pairwise_distances([x.title_vec, x.query_set_str_vec] ,metric='cosine')[0, 1], axis=1)"
   ]
  },
  {
   "cell_type": "code",
   "execution_count": null,
   "metadata": {},
   "outputs": [],
   "source": [
    "%%time\n",
    "import re\n",
    "\n",
    "df['prefix_has_symbol'] = df.prefix.apply(lambda x: 0 if re.search(\"[\\s+\\.\\!\\/_,$%^*(+\\\"\\']+|[+——！，。？、~@#￥%……&*（）]+\", x) == None else 1)\n",
    "df['title_has_symbol'] = df.title.apply(lambda x: 0 if re.search(\"[\\s+\\.\\!\\/_,$%^*(+\\\"\\']+|[+——！，。？、~@#￥%……&*（）]+\", x) == None else 1)"
   ]
  },
  {
   "cell_type": "code",
   "execution_count": 20,
   "metadata": {},
   "outputs": [],
   "source": [
    "df[[i for i in df.columns if 'distance' in i or 'symbol' in i]].to_csv('./feature/featurefull_dis1_testB.csv', index=None)"
   ]
  }
 ],
 "metadata": {
  "kernelspec": {
   "display_name": "Python 3",
   "language": "python",
   "name": "python3"
  },
  "language_info": {
   "codemirror_mode": {
    "name": "ipython",
    "version": 3
   },
   "file_extension": ".py",
   "mimetype": "text/x-python",
   "name": "python",
   "nbconvert_exporter": "python",
   "pygments_lexer": "ipython3",
   "version": "3.6.3"
  }
 },
 "nbformat": 4,
 "nbformat_minor": 2
}
