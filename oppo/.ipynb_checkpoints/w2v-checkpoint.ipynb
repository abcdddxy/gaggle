{
 "cells": [
  {
   "cell_type": "code",
   "execution_count": 1,
   "metadata": {},
   "outputs": [],
   "source": [
    "import numpy as np\n",
    "import os\n",
    "import pandas as pd\n",
    "pd.set_option('display.max_columns', None)\n",
    "import matplotlib.pyplot as plt\n",
    "# import seaborn as sns\n",
    "import pickle\n",
    "import time\n",
    "import gc\n",
    "from tqdm import tqdm, tqdm_notebook\n",
    "\n",
    "%matplotlib inline\n",
    "\n",
    "#每次可以输出多个变量\n",
    "from IPython.core.interactiveshell import InteractiveShell\n",
    "InteractiveShell.ast_node_interactivity = \"all\"\n",
    "\n",
    "from pylab import rcParams\n",
    "rcParams['figure.figsize'] = 14, 6\n",
    "\n",
    "import warnings\n",
    "warnings.filterwarnings(\"ignore\")\n",
    "\n",
    "#中文字体\n",
    "import matplotlib\n",
    "matplotlib.use('qt4agg')\n",
    "#指定默认字体\n",
    "matplotlib.rcParams['font.sans-serif'] = ['SimHei']\n",
    "matplotlib.rcParams['font.family'] = 'sans-serif'\n",
    "#解决负号'-'显示为方块的问题\n",
    "matplotlib.rcParams['axes.unicode_minus'] = False"
   ]
  },
  {
   "cell_type": "code",
   "execution_count": 8,
   "metadata": {},
   "outputs": [],
   "source": [
    "import urllib"
   ]
  },
  {
   "cell_type": "code",
   "execution_count": 2,
   "metadata": {},
   "outputs": [],
   "source": [
    "def read_vectors(path, topn):  # read top n word vectors, i.e. top is 10000\n",
    "    lines_num, dim = 0, 0\n",
    "    vectors = {}\n",
    "    iw = []\n",
    "    wi = {}\n",
    "    with open(path, encoding='utf-8', errors='ignore') as f:\n",
    "        first_line = True\n",
    "        for line in f:\n",
    "            if first_line:\n",
    "                first_line = False\n",
    "                dim = int(line.rstrip().split()[1])\n",
    "                continue\n",
    "            lines_num += 1\n",
    "            tokens = line.rstrip().split(' ')\n",
    "            vectors[tokens[0]] = np.asarray([float(x) for x in tokens[1:]])\n",
    "            iw.append(tokens[0])\n",
    "            if topn != 0 and lines_num >= topn:\n",
    "                break\n",
    "    for i, w in enumerate(iw):\n",
    "        wi[w] = i\n",
    "    return vectors, iw, wi, dim"
   ]
  },
  {
   "cell_type": "code",
   "execution_count": 3,
   "metadata": {
    "scrolled": true
   },
   "outputs": [
    {
     "data": {
      "text/plain": [
       "(2100000, 5)"
      ]
     },
     "execution_count": 3,
     "metadata": {},
     "output_type": "execute_result"
    }
   ],
   "source": [
    "df = pd.read_csv('./feature/df_feature4_ctr_extra.csv', encoding='utf-8', usecols=['prefix', 'title', 'dict_len', 'query_prediction', 'query_prediction_origin'])\n",
    "\n",
    "df.shape"
   ]
  },
  {
   "cell_type": "code",
   "execution_count": 9,
   "metadata": {},
   "outputs": [],
   "source": [
    "df['title'] = df.title.apply(lambda x: urllib.parse.unquote(x))\n",
    "df['prefix'] = df.prefix.apply(lambda x: urllib.parse.unquote(x))"
   ]
  },
  {
   "cell_type": "code",
   "execution_count": 4,
   "metadata": {},
   "outputs": [
    {
     "name": "stdout",
     "output_type": "stream",
     "text": [
      "Wall time: 3min 35s\n"
     ]
    }
   ],
   "source": [
    "%%time\n",
    "# df['query_prediction'] = df.apply(lambda x: eval(x.query_prediction) if x.dict_len != 0 else {}, axis=1)\n",
    "# df['query_prediction_origin'] = df.apply(lambda x: eval(x.query_prediction_origin) if x.dict_len != 0 else {}, axis=1)\n",
    "\n",
    "df['max_query'] = df.apply(lambda x: list(eval(x.query_prediction).keys())[0] if x.dict_len != 0 else '', axis=1)\n",
    "df['first_query'] = df.apply(lambda x: list(eval(x.query_prediction_origin).keys())[0] if x.dict_len != 0 else '', axis=1)"
   ]
  },
  {
   "cell_type": "markdown",
   "metadata": {},
   "source": [
    "## 词向量"
   ]
  },
  {
   "cell_type": "code",
   "execution_count": 4,
   "metadata": {},
   "outputs": [],
   "source": [
    "import jieba"
   ]
  },
  {
   "cell_type": "code",
   "execution_count": 5,
   "metadata": {},
   "outputs": [],
   "source": [
    "w2v = read_vectors('./data/new/merge_sgns_bigram_char300.txt', 0)"
   ]
  },
  {
   "cell_type": "code",
   "execution_count": 6,
   "metadata": {},
   "outputs": [],
   "source": [
    "def get_sent_vector(x):\n",
    "    tmp_list = list(jieba.cut(x))\n",
    "    vec = [0] * 300\n",
    "    vec_num = 0\n",
    "    for word in tmp_list:\n",
    "        if word in w2v[0]:\n",
    "            vec += w2v[0][word]\n",
    "            vec_num += 1\n",
    "        else:\n",
    "            for letter in word:\n",
    "                if letter in w2v[0]:\n",
    "                    vec += w2v[0][letter]\n",
    "                    vec_num += 1\n",
    "    return np.array(vec) / (vec_num + 1)\n",
    "\n",
    "def get_sent_dict_vector(x):\n",
    "    vec = np.array([0] * 300)\n",
    "    weight = sum(np.array(list(x.values())).astype(float))\n",
    "    for k, v in x.items():\n",
    "        vec_num = 0\n",
    "        tmp_vec = [0] * 300\n",
    "        tmp_list = list(jieba.cut(k))\n",
    "        for word in tmp_list:\n",
    "            if word in w2v[0]:\n",
    "                tmp_vec += w2v[0][word]\n",
    "                vec_num += 1\n",
    "            else:\n",
    "                for letter in word:\n",
    "                    if letter in w2v[0]:\n",
    "                        tmp_vec += w2v[0][letter]\n",
    "                        vec_num += 1\n",
    "        tmp_vec = np.array(tmp_vec) / (vec_num + 1)\n",
    "        vec = vec + tmp_vec * float(v)\n",
    "    return vec / (weight + 1)"
   ]
  },
  {
   "cell_type": "code",
   "execution_count": 7,
   "metadata": {},
   "outputs": [],
   "source": [
    "from sklearn.metrics.pairwise import pairwise_distances"
   ]
  },
  {
   "cell_type": "code",
   "execution_count": 9,
   "metadata": {
    "scrolled": true
   },
   "outputs": [
    {
     "name": "stderr",
     "output_type": "stream",
     "text": [
      "Building prefix dict from the default dictionary ...\n",
      "Loading model from cache C:\\Users\\ZERO\\AppData\\Local\\Temp\\jieba.cache\n",
      "Loading model cost 0.790 seconds.\n",
      "Prefix dict has been built succesfully.\n"
     ]
    },
    {
     "name": "stdout",
     "output_type": "stream",
     "text": [
      "Wall time: 55min 4s\n"
     ]
    }
   ],
   "source": [
    "%%time\n",
    "df['max_query_vec'] = df.max_query.apply(get_sent_vector)\n",
    "df['first_query_vec'] = df.first_query.apply(get_sent_vector)\n",
    "df['title_vec'] = df.title.apply(get_sent_vector)\n",
    "\n",
    "df['title_max_distance'] = df.apply(lambda x: np.linalg.norm(x.title_vec - x.max_query_vec), axis=1)\n",
    "df['title_first_distance'] = df.apply(lambda x: np.linalg.norm(x.title_vec - x.first_query_vec), axis=1)\n",
    "df['title_max_cos_distance'] = df.apply(lambda x: pairwise_distances([x.title_vec, x.max_query_vec], metric='cosine')[0, 1], axis=1)\n",
    "df['title_first_cos_distance'] = df.apply(lambda x: pairwise_distances([x.title_vec, x.first_query_vec] ,metric='cosine')[0, 1], axis=1)"
   ]
  },
  {
   "cell_type": "code",
   "execution_count": 10,
   "metadata": {},
   "outputs": [],
   "source": [
    "# df[['title_max_distance', 'title_first_distance', 'title_max_cos_distance', 'title_first_cos_distance',]].to_csv('./feature/feature_maxfirst_dis.csv', index=None)"
   ]
  },
  {
   "cell_type": "code",
   "execution_count": 18,
   "metadata": {},
   "outputs": [
    {
     "name": "stdout",
     "output_type": "stream",
     "text": [
      "Wall time: 1h 36min 16s\n"
     ]
    }
   ],
   "source": [
    "%%time\n",
    "df['query_str_joint'] = df.query_prediction.apply(lambda x: ''.join(list(eval(x).keys())))\n",
    "df['query_origin_str_joint'] = df.query_prediction_origin.apply(lambda x: ''.join(list(eval(x).keys())))\n",
    "\n",
    "# df['title_vec'] = df.title.apply(get_sent_vector)\n",
    "df['query_str_vec'] = df.query_str_joint.apply(get_sent_vector)\n",
    "df['query_origin_str_vec'] = df.query_origin_str_joint.apply(get_sent_vector)\n",
    "\n",
    "df['title_str_distance'] = df.apply(lambda x: np.linalg.norm(x.title_vec - x.query_str_vec), axis=1)\n",
    "df['title_origin_str_distance'] = df.apply(lambda x: np.linalg.norm(x.title_vec - x.query_origin_str_vec), axis=1)\n",
    "df['title_str_cos_distance'] = df.apply(lambda x: pairwise_distances([x.title_vec, x.query_str_vec], metric='cosine')[0, 1], axis=1)\n",
    "df['title_origin_str_cos_distance'] = df.apply(lambda x: pairwise_distances([x.title_vec, x.query_origin_str_vec], metric='cosine')[0, 1], axis=1)"
   ]
  },
  {
   "cell_type": "code",
   "execution_count": 20,
   "metadata": {},
   "outputs": [],
   "source": [
    "df[['title_max_distance', 'title_first_distance', 'title_max_cos_distance', 'title_first_cos_distance', 'title_str_distance', 'title_origin_str_distance', 'title_str_cos_distance', 'title_origin_str_cos_distance']].to_csv('./feature/feature_vector_dis.csv', index=None)"
   ]
  },
  {
   "cell_type": "code",
   "execution_count": 24,
   "metadata": {},
   "outputs": [
    {
     "name": "stdout",
     "output_type": "stream",
     "text": [
      "Wall time: 23min 49s\n"
     ]
    }
   ],
   "source": [
    "%%time\n",
    "df['query_dict_vec'] = df.query_prediction.apply(get_sent_dict_vector)\n",
    "df['title_vec'] = df.title.apply(get_sent_vector)\n",
    "\n",
    "df['title_query_dict_distance'] = df.apply(lambda x: np.linalg.norm(x.title_vec - x.query_dict_vec), axis=1)\n",
    "df['title_query_dict_cos_distance'] = df.apply(lambda x: pairwise_distances([x.title_vec, x.query_dict_vec] ,metric='cosine')[0, 1], axis=1)"
   ]
  },
  {
   "cell_type": "code",
   "execution_count": 26,
   "metadata": {},
   "outputs": [],
   "source": [
    "df[['title_query_dict_distance', 'title_query_dict_cos_distance']].to_csv('./feature/feature_dict_dis.csv', index=None)"
   ]
  },
  {
   "cell_type": "code",
   "execution_count": 11,
   "metadata": {},
   "outputs": [
    {
     "name": "stderr",
     "output_type": "stream",
     "text": [
      "Building prefix dict from the default dictionary ...\n",
      "Loading model from cache C:\\Users\\ZERO\\AppData\\Local\\Temp\\jieba.cache\n",
      "Loading model cost 0.792 seconds.\n",
      "Prefix dict has been built succesfully.\n"
     ]
    },
    {
     "name": "stdout",
     "output_type": "stream",
     "text": [
      "Wall time: 13min 11s\n"
     ]
    }
   ],
   "source": [
    "%%time\n",
    "df['title_vec'] = df.title.apply(get_sent_vector)\n",
    "df['prefix_vec'] = df.prefix.apply(get_sent_vector)\n",
    "\n",
    "df['title_prefix_distance'] = df.apply(lambda x: np.linalg.norm(x.title_vec - x.prefix_vec), axis=1)\n",
    "df['title_prefix_cos_distance'] = df.apply(lambda x: pairwise_distances([x.title_vec, x.prefix_vec], metric='cosine')[0, 1], axis=1)"
   ]
  },
  {
   "cell_type": "code",
   "execution_count": 22,
   "metadata": {},
   "outputs": [],
   "source": [
    "def get_str_set(x):\n",
    "    tmp = []\n",
    "    for i in list(jieba.cut(x)):\n",
    "        if i not in tmp:\n",
    "            tmp.append(i)\n",
    "    return ''.join(tmp)"
   ]
  },
  {
   "cell_type": "code",
   "execution_count": 29,
   "metadata": {},
   "outputs": [
    {
     "name": "stdout",
     "output_type": "stream",
     "text": [
      "Wall time: 30min 8s\n"
     ]
    }
   ],
   "source": [
    "%%time\n",
    "# df['query_str_joint'] = df.query_prediction.apply(lambda x: ''.join(list(eval(x).keys())))\n",
    "# df['query_str_joint'] = df.query_str_joint.apply(get_str_set)\n",
    "                                                  \n",
    "df['query_set_str_vec'] = df.query_str_joint.apply(get_sent_vector)\n",
    "\n",
    "df['title_query_str_distance'] = df.apply(lambda x: np.linalg.norm(x.title_vec - x.query_set_str_vec), axis=1)\n",
    "df['title_query_str_cos_distance'] = df.apply(lambda x: pairwise_distances([x.title_vec, x.query_set_str_vec] ,metric='cosine')[0, 1], axis=1)"
   ]
  },
  {
   "cell_type": "code",
   "execution_count": 31,
   "metadata": {},
   "outputs": [],
   "source": [
    "import re"
   ]
  },
  {
   "cell_type": "code",
   "execution_count": 41,
   "metadata": {},
   "outputs": [
    {
     "name": "stdout",
     "output_type": "stream",
     "text": [
      "Wall time: 4.86 s\n"
     ]
    }
   ],
   "source": [
    "%%time\n",
    "df['prefix_has_symbol'] = df.prefix.apply(lambda x: 0 if re.search(\"[\\s+\\.\\!\\/_,$%^*(+\\\"\\']+|[+——！，。？、~@#￥%……&*（）]+\", x) == None else 1)\n",
    "df['title_has_symbol'] = df.title.apply(lambda x: 0 if re.search(\"[\\s+\\.\\!\\/_,$%^*(+\\\"\\']+|[+——！，。？、~@#￥%……&*（）]+\", x) == None else 1)"
   ]
  },
  {
   "cell_type": "code",
   "execution_count": 43,
   "metadata": {},
   "outputs": [],
   "source": [
    "df = df.drop(['prefix', 'title', 'dict_len', 'query_prediction', 'query_prediction_origin'], axis=1)"
   ]
  },
  {
   "cell_type": "code",
   "execution_count": 46,
   "metadata": {},
   "outputs": [
    {
     "data": {
      "text/html": [
       "<div>\n",
       "<style>\n",
       "    .dataframe thead tr:only-child th {\n",
       "        text-align: right;\n",
       "    }\n",
       "\n",
       "    .dataframe thead th {\n",
       "        text-align: left;\n",
       "    }\n",
       "\n",
       "    .dataframe tbody tr th {\n",
       "        vertical-align: top;\n",
       "    }\n",
       "</style>\n",
       "<table border=\"1\" class=\"dataframe\">\n",
       "  <thead>\n",
       "    <tr style=\"text-align: right;\">\n",
       "      <th></th>\n",
       "      <th>title_vec</th>\n",
       "      <th>prefix_vec</th>\n",
       "      <th>title_prefix_distance</th>\n",
       "      <th>title_prefix_cos_distance</th>\n",
       "      <th>query_str_joint</th>\n",
       "      <th>query_set_str_vec</th>\n",
       "      <th>title_query_dict_distance</th>\n",
       "      <th>title_query_dict_cos_distance</th>\n",
       "      <th>prefix_has_symbol</th>\n",
       "      <th>title_has_symbol</th>\n",
       "    </tr>\n",
       "  </thead>\n",
       "  <tbody>\n",
       "    <tr>\n",
       "      <th>0</th>\n",
       "      <td>[0.0337765, -0.1731035, -0.5104975, -0.0241735...</td>\n",
       "      <td>[0.0337765, -0.1731035, -0.5104975, -0.0241735...</td>\n",
       "      <td>0.000000</td>\n",
       "      <td>2.220446e-16</td>\n",
       "      <td>小品大全搞笑演员剧本幽默相亲视频宋小宝不差钱</td>\n",
       "      <td>[0.016928076923076928, -0.1652573846153846, -0...</td>\n",
       "      <td>3.317580</td>\n",
       "      <td>0.343387</td>\n",
       "      <td>0</td>\n",
       "      <td>0</td>\n",
       "    </tr>\n",
       "    <tr>\n",
       "      <th>1</th>\n",
       "      <td>[0.4005244285714285, -0.03125885714285714, 0.0...</td>\n",
       "      <td>[0.81625, -0.3558175, -0.1878285, -0.624525, -...</td>\n",
       "      <td>3.927479</td>\n",
       "      <td>4.247249e-01</td>\n",
       "      <td>136853678921368年1368个单词就够了13688..cc13688cc赛马会1...</td>\n",
       "      <td>[0.842020643835616, 0.2105076438356164, 0.0967...</td>\n",
       "      <td>5.002446</td>\n",
       "      <td>0.555026</td>\n",
       "      <td>0</td>\n",
       "      <td>1</td>\n",
       "    </tr>\n",
       "    <tr>\n",
       "      <th>2</th>\n",
       "      <td>[0.6821196666666666, -0.12039066666666666, -0....</td>\n",
       "      <td>[0.81625, -0.3558175, -0.1878285, -0.624525, -...</td>\n",
       "      <td>2.648985</td>\n",
       "      <td>1.757834e-01</td>\n",
       "      <td>136853678921368年1368个单词就够了13688..cc13688cc赛马会1...</td>\n",
       "      <td>[0.842020643835616, 0.2105076438356164, 0.0967...</td>\n",
       "      <td>5.272705</td>\n",
       "      <td>0.577531</td>\n",
       "      <td>0</td>\n",
       "      <td>0</td>\n",
       "    </tr>\n",
       "    <tr>\n",
       "      <th>3</th>\n",
       "      <td>[0.2094338, -0.2712448, 0.236579, -0.3817948, ...</td>\n",
       "      <td>[0.044081, 0.1652645, 0.304232, -0.376705, 0.0...</td>\n",
       "      <td>2.863331</td>\n",
       "      <td>2.085416e-01</td>\n",
       "      <td>银耳红枣汤银耳汤的做法功效莲子羹莲子汤大全为什么不能天天吃</td>\n",
       "      <td>[0.2041154, -0.13926186666666665, -0.030743666...</td>\n",
       "      <td>2.049898</td>\n",
       "      <td>0.108278</td>\n",
       "      <td>0</td>\n",
       "      <td>0</td>\n",
       "    </tr>\n",
       "    <tr>\n",
       "      <th>4</th>\n",
       "      <td>[0.32899949999999994, -0.15711216666666664, -0...</td>\n",
       "      <td>[0.2517735, -0.032728249999999987, -0.29727975...</td>\n",
       "      <td>2.007140</td>\n",
       "      <td>1.129009e-01</td>\n",
       "      <td>月经量少是什么原因怎么办怎么调理吃药该喝红糖水好吗发黑</td>\n",
       "      <td>[0.2247555294117647, -0.15643829411764706, -0....</td>\n",
       "      <td>2.170613</td>\n",
       "      <td>0.138948</td>\n",
       "      <td>0</td>\n",
       "      <td>0</td>\n",
       "    </tr>\n",
       "  </tbody>\n",
       "</table>\n",
       "</div>"
      ],
      "text/plain": [
       "                                           title_vec  \\\n",
       "0  [0.0337765, -0.1731035, -0.5104975, -0.0241735...   \n",
       "1  [0.4005244285714285, -0.03125885714285714, 0.0...   \n",
       "2  [0.6821196666666666, -0.12039066666666666, -0....   \n",
       "3  [0.2094338, -0.2712448, 0.236579, -0.3817948, ...   \n",
       "4  [0.32899949999999994, -0.15711216666666664, -0...   \n",
       "\n",
       "                                          prefix_vec  title_prefix_distance  \\\n",
       "0  [0.0337765, -0.1731035, -0.5104975, -0.0241735...               0.000000   \n",
       "1  [0.81625, -0.3558175, -0.1878285, -0.624525, -...               3.927479   \n",
       "2  [0.81625, -0.3558175, -0.1878285, -0.624525, -...               2.648985   \n",
       "3  [0.044081, 0.1652645, 0.304232, -0.376705, 0.0...               2.863331   \n",
       "4  [0.2517735, -0.032728249999999987, -0.29727975...               2.007140   \n",
       "\n",
       "   title_prefix_cos_distance  \\\n",
       "0               2.220446e-16   \n",
       "1               4.247249e-01   \n",
       "2               1.757834e-01   \n",
       "3               2.085416e-01   \n",
       "4               1.129009e-01   \n",
       "\n",
       "                                     query_str_joint  \\\n",
       "0                             小品大全搞笑演员剧本幽默相亲视频宋小宝不差钱   \n",
       "1  136853678921368年1368个单词就够了13688..cc13688cc赛马会1...   \n",
       "2  136853678921368年1368个单词就够了13688..cc13688cc赛马会1...   \n",
       "3                      银耳红枣汤银耳汤的做法功效莲子羹莲子汤大全为什么不能天天吃   \n",
       "4                        月经量少是什么原因怎么办怎么调理吃药该喝红糖水好吗发黑   \n",
       "\n",
       "                                   query_set_str_vec  \\\n",
       "0  [0.016928076923076928, -0.1652573846153846, -0...   \n",
       "1  [0.842020643835616, 0.2105076438356164, 0.0967...   \n",
       "2  [0.842020643835616, 0.2105076438356164, 0.0967...   \n",
       "3  [0.2041154, -0.13926186666666665, -0.030743666...   \n",
       "4  [0.2247555294117647, -0.15643829411764706, -0....   \n",
       "\n",
       "   title_query_dict_distance  title_query_dict_cos_distance  \\\n",
       "0                   3.317580                       0.343387   \n",
       "1                   5.002446                       0.555026   \n",
       "2                   5.272705                       0.577531   \n",
       "3                   2.049898                       0.108278   \n",
       "4                   2.170613                       0.138948   \n",
       "\n",
       "   prefix_has_symbol  title_has_symbol  \n",
       "0                  0                 0  \n",
       "1                  0                 1  \n",
       "2                  0                 0  \n",
       "3                  0                 0  \n",
       "4                  0                 0  "
      ]
     },
     "execution_count": 46,
     "metadata": {},
     "output_type": "execute_result"
    }
   ],
   "source": [
    "df.head()"
   ]
  },
  {
   "cell_type": "code",
   "execution_count": 45,
   "metadata": {},
   "outputs": [],
   "source": [
    "df[['title_prefix_distance','title_prefix_cos_distance','title_query_str_distance','title_query_str_cos_distance','prefix_has_symbol','title_has_symbol']].to_csv('./feature/feature_titpre_dis.csv', index=None)"
   ]
  }
 ],
 "metadata": {
  "kernelspec": {
   "display_name": "Python 3",
   "language": "python",
   "name": "python3"
  },
  "language_info": {
   "codemirror_mode": {
    "name": "ipython",
    "version": 3
   },
   "file_extension": ".py",
   "mimetype": "text/x-python",
   "name": "python",
   "nbconvert_exporter": "python",
   "pygments_lexer": "ipython3",
   "version": "3.6.3"
  }
 },
 "nbformat": 4,
 "nbformat_minor": 2
}
