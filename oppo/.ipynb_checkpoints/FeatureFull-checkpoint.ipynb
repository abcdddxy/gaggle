{
 "cells": [
  {
   "cell_type": "code",
   "execution_count": 1,
   "metadata": {},
   "outputs": [],
   "source": [
    "import numpy as np\n",
    "import os\n",
    "import pandas as pd\n",
    "pd.set_option('display.max_columns', None)\n",
    "import matplotlib.pyplot as plt\n",
    "# import seaborn as sns\n",
    "import pickle\n",
    "import time\n",
    "import gc\n",
    "from tqdm import tqdm, tqdm_notebook\n",
    "\n",
    "%matplotlib inline\n",
    "\n",
    "#每次可以输出多个变量\n",
    "from IPython.core.interactiveshell import InteractiveShell\n",
    "InteractiveShell.ast_node_interactivity = \"all\"\n",
    "\n",
    "from pylab import rcParams\n",
    "rcParams['figure.figsize'] = 14, 6\n",
    "\n",
    "import warnings\n",
    "warnings.filterwarnings(\"ignore\")\n",
    "\n",
    "#中文字体\n",
    "import matplotlib\n",
    "matplotlib.use('qt4agg')\n",
    "#指定默认字体\n",
    "matplotlib.rcParams['font.sans-serif'] = ['SimHei']\n",
    "matplotlib.rcParams['font.family'] = 'sans-serif'\n",
    "#解决负号'-'显示为方块的问题\n",
    "matplotlib.rcParams['axes.unicode_minus'] = False"
   ]
  },
  {
   "cell_type": "code",
   "execution_count": 2,
   "metadata": {},
   "outputs": [],
   "source": [
    "# train_query = pd.read_csv('./data/oppo_round1_train_20180926.txt', names=['prefix', 'query_prediction', 'title', 'tag', 'label'], sep='\\t')\n",
    "# train_query2 = pd.read_csv('./data/new/oppo_round1_train_20180929.txt', names=['prefix', 'query_prediction', 'title', 'tag', 'label'], sep='\\t')\n",
    "# train_query = pd.concat([train_query1, train_query2], axis=0)\n",
    "\n",
    "# val_query = pd.read_csv('./data/new/oppo_round1_vali_20180929.txt', names=['prefix', 'query_prediction', 'title', 'tag', 'label'], sep='\\t')\n",
    "# test_query = pd.read_csv('./data/new/oppo_round1_test_A_20180929.txt', names=['prefix', 'query_prediction', 'title', 'tag'], sep='\\t')"
   ]
  },
  {
   "cell_type": "code",
   "execution_count": 3,
   "metadata": {},
   "outputs": [],
   "source": [
    "# df = pd.concat([train_query, val_query, test_query], axis=0)\n",
    "# df.reset_index(drop=True, inplace=True)"
   ]
  },
  {
   "cell_type": "code",
   "execution_count": null,
   "metadata": {},
   "outputs": [],
   "source": [
    "df = pd.read_csv('', names=['prefix', 'query_prediction', 'title', 'tag'], sep='\\t')"
   ]
  },
  {
   "cell_type": "code",
   "execution_count": 4,
   "metadata": {},
   "outputs": [],
   "source": [
    "df.label = df.label.fillna(-1)"
   ]
  },
  {
   "cell_type": "code",
   "execution_count": 5,
   "metadata": {},
   "outputs": [],
   "source": [
    "df.query_prediction = df.query_prediction.apply(lambda x:eval(x) if type(x) == str else {})"
   ]
  },
  {
   "cell_type": "code",
   "execution_count": 6,
   "metadata": {},
   "outputs": [],
   "source": [
    "df['query_prediction_origin'] = df.query_prediction\n",
    "df.query_prediction = df.query_prediction.apply(lambda x:dict(sorted(x.items(), key=lambda x:x[1], reverse=True)))"
   ]
  },
  {
   "cell_type": "code",
   "execution_count": 7,
   "metadata": {},
   "outputs": [],
   "source": [
    "df['dict_len'] = df.query_prediction.apply(len)"
   ]
  },
  {
   "cell_type": "code",
   "execution_count": 8,
   "metadata": {},
   "outputs": [],
   "source": [
    "def get_title_rate(x):\n",
    "    if x.title in x.query_prediction:\n",
    "        return float(x.query_prediction[x.title])\n",
    "    else:\n",
    "        return 0\n",
    "\n",
    "df['title_rate'] = df.apply(get_title_rate, axis=1)"
   ]
  },
  {
   "cell_type": "code",
   "execution_count": 28,
   "metadata": {},
   "outputs": [],
   "source": [
    "df['is_max_rate'] = df.apply(lambda x: 1 if x.query_prediction != {} and float(list(x.query_prediction.values())[0]) == x.title_rate else 0, axis=1)"
   ]
  },
  {
   "cell_type": "code",
   "execution_count": 29,
   "metadata": {},
   "outputs": [],
   "source": [
    "df['max_title_rate'] = df.apply(lambda x: float(list(x.query_prediction.values())[0]) if x.query_prediction != {} else 0.5, axis=1)"
   ]
  },
  {
   "cell_type": "code",
   "execution_count": 9,
   "metadata": {},
   "outputs": [],
   "source": [
    "df['title_tag'] = df['title'] + '_' + df['tag']"
   ]
  },
  {
   "cell_type": "code",
   "execution_count": 10,
   "metadata": {},
   "outputs": [],
   "source": [
    "df['title_rate_max_sub'] = df.apply(lambda x: float(list(x.query_prediction.values())[0]) - x.title_rate if x.query_prediction != {} else 0.5, axis=1)"
   ]
  },
  {
   "cell_type": "code",
   "execution_count": 11,
   "metadata": {},
   "outputs": [],
   "source": [
    "import hashlib\n",
    "\n",
    "def get_user_id(x):\n",
    "    md5 = hashlib.md5(str(x.query_prediction).encode(encoding='UTF-8'))\n",
    "    return md5.hexdigest()\n",
    "\n",
    "def get_item_id(x):\n",
    "    md5 = hashlib.md5(str(x.title_tag).encode(encoding='UTF-8'))\n",
    "    return md5.hexdigest()\n",
    "\n",
    "df['user_id'] = df.apply(get_user_id, axis=1)\n",
    "df['item_id'] = df.apply(get_item_id, axis=1)"
   ]
  },
  {
   "cell_type": "code",
   "execution_count": 12,
   "metadata": {},
   "outputs": [],
   "source": [
    "df.prefix = df.prefix.fillna('no_pre')"
   ]
  },
  {
   "cell_type": "code",
   "execution_count": 18,
   "metadata": {},
   "outputs": [
    {
     "name": "stdout",
     "output_type": "stream",
     "text": [
      "Wall time: 4min 51s\n"
     ]
    }
   ],
   "source": [
    "%%time\n",
    "df['is_first_rate'] = df.apply(lambda x: 1 if x.dict_len != 0 and list(x.query_prediction_origin.keys())[0] == x.title else 0, axis=1)\n",
    "df['title_equal_prefix'] = df.apply(lambda x: 1 if x.prefix == x.title else 0, axis=1)\n",
    "df['prefix_in_title'] = df.apply(lambda x: 1 if x.prefix in x.title else 0, axis=1)\n",
    "df['title_startswith_prefix'] = df.apply(lambda x: 1 if x.title.startswith(x.prefix) else 0, axis=1)\n",
    "df['title_endswith_prefix'] = df.apply(lambda x: 1 if x.title.endswith(x.prefix) else 0, axis=1)\n",
    "df['rate_big1'] = df.apply(lambda x: 1 if x.title_rate >= 0.1 else 0, axis=1)\n",
    "df['rate_big5'] = df.apply(lambda x: 1 if x.title_rate >= 0.5 else 0, axis=1)\n",
    "df['title_in_query'] = df.apply(lambda x: 1 if x.title in x.query_prediction else 0, axis=1)\n",
    "\n",
    "df['title_rank_in_query'] = df.apply(lambda x: list(x.query_prediction.keys()).index(x.title)+1 if x.title_in_query == 1 else 11, axis=1)\n",
    "df['title_rank_in_query_origin'] = df.apply(lambda x: list(x.query_prediction_origin.keys()).index(x.title)+1 if x.title_in_query == 1 else 11, axis=1)\n",
    "df['rank_first_origin_rate'] = df.apply(lambda x: float(list(x.query_prediction_origin.values())[0]) if x.dict_len != 0 else 0.6, axis=1)\n",
    "df['rank_first_origin_rate_sub'] = df.apply(lambda x: x.title_rate - x.rank_first_origin_rate, axis=1)"
   ]
  },
  {
   "cell_type": "markdown",
   "metadata": {},
   "source": [
    "## ctr"
   ]
  },
  {
   "cell_type": "code",
   "execution_count": 22,
   "metadata": {},
   "outputs": [
    {
     "data": {
      "text/plain": [
       "(2100000, 24)"
      ]
     },
     "execution_count": 22,
     "metadata": {},
     "output_type": "execute_result"
    }
   ],
   "source": [
    "df.shape"
   ]
  },
  {
   "cell_type": "code",
   "execution_count": 24,
   "metadata": {
    "scrolled": true
   },
   "outputs": [
    {
     "data": {
      "application/vnd.jupyter.widget-view+json": {
       "model_id": "fc339c4fe930426c9af61dc509fa344c",
       "version_major": 2,
       "version_minor": 0
      },
      "text/plain": [
       "A Jupyter Widget"
      ]
     },
     "metadata": {},
     "output_type": "display_data"
    },
    {
     "name": "stdout",
     "output_type": "stream",
     "text": [
      "\n"
     ]
    },
    {
     "data": {
      "application/vnd.jupyter.widget-view+json": {
       "model_id": "e7417232282c4c5bb27b1edf4fd546b2",
       "version_major": 2,
       "version_minor": 0
      },
      "text/plain": [
       "A Jupyter Widget"
      ]
     },
     "metadata": {},
     "output_type": "display_data"
    },
    {
     "name": "stdout",
     "output_type": "stream",
     "text": [
      "\n"
     ]
    }
   ],
   "source": [
    "items = ['prefix', 'title', 'tag']\n",
    "\n",
    "for item in tqdm_notebook(items):\n",
    "    temp = df.groupby(item, as_index = False)['label'].agg({item + '_count':'count'})\n",
    "    df = pd.merge(df, temp, on=item, how='left')\n",
    "    del temp\n",
    "    _ = gc.collect()\n",
    "    \n",
    "for i in tqdm_notebook(range(len(items))):\n",
    "    for j in range(i + 1, len(items)):\n",
    "        item_g = [items[i], items[j]]\n",
    "        temp = df.groupby(item_g, as_index=False)['label'].agg({'_'.join(item_g) + '_count':'count'})\n",
    "        df = pd.merge(df, temp, on=item_g, how='left')\n",
    "        del temp\n",
    "        _ = gc.collect()"
   ]
  },
  {
   "cell_type": "markdown",
   "metadata": {},
   "source": [
    "## 额外特征"
   ]
  },
  {
   "cell_type": "code",
   "execution_count": 36,
   "metadata": {},
   "outputs": [],
   "source": [
    "df['prefix_len'] = df.prefix.apply(len)"
   ]
  },
  {
   "cell_type": "code",
   "execution_count": 37,
   "metadata": {},
   "outputs": [
    {
     "data": {
      "application/vnd.jupyter.widget-view+json": {
       "model_id": "00c5ac009ac843f6b4708983e96f4a0f",
       "version_major": 2,
       "version_minor": 0
      },
      "text/plain": [
       "A Jupyter Widget"
      ]
     },
     "metadata": {},
     "output_type": "display_data"
    },
    {
     "name": "stdout",
     "output_type": "stream",
     "text": [
      "\n"
     ]
    },
    {
     "data": {
      "application/vnd.jupyter.widget-view+json": {
       "model_id": "58c84b1810574e2fa9c26268ca4ac38b",
       "version_major": 2,
       "version_minor": 0
      },
      "text/plain": [
       "A Jupyter Widget"
      ]
     },
     "metadata": {},
     "output_type": "display_data"
    },
    {
     "name": "stdout",
     "output_type": "stream",
     "text": [
      "\n"
     ]
    }
   ],
   "source": [
    "items = ['prefix_len','dict_len','is_max_rate','is_first_rate','title_equal_prefix','prefix_in_title','title_startswith_prefix','title_endswith_prefix','rate_big5','title_in_query','title_rank_in_query','title_rank_in_query_origin']\n",
    "\n",
    "for item in tqdm_notebook(items):\n",
    "    temp = df.groupby(item, as_index=False)['label'].agg({item + '_count':'count'})\n",
    "    df = pd.merge(df, temp, on=item, how='left')\n",
    "    del temp\n",
    "    _ = gc.collect()\n",
    "\n",
    "for i in tqdm_notebook(range(len(items))):\n",
    "    item_g = [items[i], 'tag']\n",
    "    temp = df.groupby(item_g, as_index=False)['label'].agg({'_'.join(item_g) + '_count':'count'})\n",
    "    df = pd.merge(df, temp, on=item_g, how='left')\n",
    "    del temp\n",
    "    _ = gc.collect()"
   ]
  },
  {
   "cell_type": "code",
   "execution_count": 38,
   "metadata": {},
   "outputs": [
    {
     "data": {
      "text/plain": [
       "(2100000, 57)"
      ]
     },
     "execution_count": 38,
     "metadata": {},
     "output_type": "execute_result"
    }
   ],
   "source": [
    "df.shape"
   ]
  },
  {
   "cell_type": "markdown",
   "metadata": {},
   "source": [
    "## rank query"
   ]
  },
  {
   "cell_type": "code",
   "execution_count": 42,
   "metadata": {},
   "outputs": [],
   "source": [
    "from collections import defaultdict"
   ]
  },
  {
   "cell_type": "code",
   "execution_count": 40,
   "metadata": {},
   "outputs": [],
   "source": [
    "df['prefix_len'] = df.prefix.apply(len)\n",
    "df['title_len'] = df.title.apply(len)"
   ]
  },
  {
   "cell_type": "code",
   "execution_count": 43,
   "metadata": {},
   "outputs": [
    {
     "data": {
      "application/vnd.jupyter.widget-view+json": {
       "model_id": "de0ebc7c258d42a7946b049e75eeabfa",
       "version_major": 2,
       "version_minor": 0
      },
      "text/plain": [
       "A Jupyter Widget"
      ]
     },
     "metadata": {},
     "output_type": "display_data"
    },
    {
     "name": "stdout",
     "output_type": "stream",
     "text": [
      "\n"
     ]
    }
   ],
   "source": [
    "def get_rank_query(x):\n",
    "    tmp_dict[x] += 1\n",
    "    return tmp_dict[x]\n",
    "    \n",
    "for fea in tqdm_notebook(['prefix', 'title', 'tag', 'title_tag']):\n",
    "    tmp_dict = defaultdict(lambda: -1)\n",
    "    df[fea + '_rank_query'] = df[fea].apply(get_rank_query)\n",
    "    df[fea + '_rank_query_re'] = df[fea + '_rank_query']"
   ]
  },
  {
   "cell_type": "markdown",
   "metadata": {},
   "source": [
    "## 符号数字"
   ]
  },
  {
   "cell_type": "code",
   "execution_count": 50,
   "metadata": {},
   "outputs": [],
   "source": [
    "import urllib\n",
    "import re"
   ]
  },
  {
   "cell_type": "code",
   "execution_count": 53,
   "metadata": {},
   "outputs": [
    {
     "name": "stdout",
     "output_type": "stream",
     "text": [
      "Wall time: 19.7 s\n"
     ]
    }
   ],
   "source": [
    "%%time\n",
    "df['query_values_sum'] = df.query_prediction.apply(lambda x: sum(np.array(list(x.values())).astype(float)))"
   ]
  },
  {
   "cell_type": "code",
   "execution_count": 55,
   "metadata": {},
   "outputs": [],
   "source": [
    "df['title_url'] = df.title.apply(lambda x: urllib.parse.unquote(x))\n",
    "df['prefix_has_url'] = df.apply(lambda x: 0 if x.title_url == x.title else 1, axis=1)\n",
    "\n",
    "df['prefix_has_num'] = df.prefix.apply(lambda x: 0 if re.search('\\d', x) == None else 1)\n",
    "df['prefix_has_letter'] = df.prefix.apply(lambda x: 0 if re.search('\\w', x) == None else 1)\n",
    "df['title_has_num'] = df.title.apply(lambda x: 0 if re.search('\\d', x) == None else 1)\n",
    "df['title_has_letter'] = df.title.apply(lambda x: 0 if re.search('\\w', x) == None else 1)\n",
    "df['title_url_has_num'] = df.title_url.apply(lambda x: 0 if re.search('\\d', x) == None else 1)\n",
    "df['title_url_has_letter'] = df.title_url.apply(lambda x: 0 if re.search('\\w', x) == None else 1)"
   ]
  },
  {
   "cell_type": "code",
   "execution_count": 56,
   "metadata": {},
   "outputs": [],
   "source": [
    "df['prefix_inter_title_len'] = df.apply(lambda x: len(set(x.prefix).intersection(set(x.title))), axis=1)\n",
    "df['prefix_inter_title_url_len'] = df.apply(lambda x: len(set(x.prefix).intersection(set(x.title_url))), axis=1)\n",
    "\n",
    "df['prefix_inter_title_len_rate_prefix'] = df.apply(lambda x: x.prefix_inter_title_len / (len(set(x.prefix))+1), axis=1)\n",
    "df['prefix_inter_title_len_rate_title'] = df.apply(lambda x: x.prefix_inter_title_len / (len(set(x.title))+1), axis=1)\n",
    "df['prefix_inter_title_url_len_rate_prefix'] = df.apply(lambda x: x.prefix_inter_title_url_len / (len(set(x.prefix))+1), axis=1)\n",
    "df['prefix_inter_title_url_len_rate_title_url'] = df.apply(lambda x: x.prefix_inter_title_url_len / (len(set(x.title_url))+1), axis=1)"
   ]
  },
  {
   "cell_type": "code",
   "execution_count": 59,
   "metadata": {},
   "outputs": [],
   "source": [
    "df.to_csv('./feature/featurefull_testB.csv', index=None)"
   ]
  }
 ],
 "metadata": {
  "anaconda-cloud": {},
  "kernelspec": {
   "display_name": "Python 3",
   "language": "python",
   "name": "python3"
  },
  "language_info": {
   "codemirror_mode": {
    "name": "ipython",
    "version": 3
   },
   "file_extension": ".py",
   "mimetype": "text/x-python",
   "name": "python",
   "nbconvert_exporter": "python",
   "pygments_lexer": "ipython3",
   "version": "3.6.3"
  }
 },
 "nbformat": 4,
 "nbformat_minor": 2
}
