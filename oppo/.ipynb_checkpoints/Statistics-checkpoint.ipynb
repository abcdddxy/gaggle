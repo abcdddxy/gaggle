{
 "cells": [
  {
   "cell_type": "code",
   "execution_count": 1,
   "metadata": {},
   "outputs": [],
   "source": [
    "import pandas as pd\n",
    "import numpy as np\n",
    "\n",
    "#每次可以输出多个变量\n",
    "from IPython.core.interactiveshell import InteractiveShell\n",
    "InteractiveShell.ast_node_interactivity = \"all\""
   ]
  },
  {
   "cell_type": "code",
   "execution_count": 2,
   "metadata": {},
   "outputs": [],
   "source": [
    "def bbb(a,b):\n",
    "    c = {}\n",
    "    for i,j in eval(a).items():\n",
    "        c[i.lower()] = j\n",
    "\n",
    "    if b.lower() in c:\n",
    "        if float(c[b.lower()])>0.1:\n",
    "            return 1\n",
    "        else:\n",
    "            return 0\n",
    "    else:\n",
    "        return 0"
   ]
  },
  {
   "cell_type": "code",
   "execution_count": 3,
   "metadata": {},
   "outputs": [],
   "source": [
    "train_data1 = pd.read_table('./data/oppo_round1_train_20180926.txt',sep='\\t',names=['prefix','query_prediction','title','tag','label'],header=None,encoding='utf-8').astype(str)\n",
    "train_data2 = pd.read_table('./data/new/oppo_round1_train_20180929.txt',sep='\\t',names=['prefix','query_prediction','title','tag','label'],header=None,encoding='utf-8').astype(str)\n",
    "train_data = pd.concat([train_data1,train_data2], axis=0)\n",
    "val_data = pd.read_table('./data/new/oppo_round1_vali_20180929.txt',sep='\\t',names=['prefix','query_prediction','title','tag','label'],header=None,encoding='utf-8').astype(str)\n",
    "test_data = pd.read_table('./data/new/oppo_round1_test_B_20181106.txt',sep='\\t',names=['prefix','query_prediction','title','tag','label'],header=None,encoding='utf-8').astype(str)\n",
    "\n",
    "train_data = pd.concat([train_data,val_data], axis=0)\n",
    "train_data['label'] = train_data['label'].apply(lambda x:int(x))\n",
    "val_data['label'] = val_data['label'].apply(lambda x:int(x))\n",
    "train_data['prefix_num'] = train_data['prefix'].apply(lambda x:len(x))\n",
    "train_data['title_num'] = train_data['title'].apply(lambda x:len(x))\n",
    "test_data['prefix_num'] = test_data['prefix'].apply(lambda x:len(x))\n",
    "test_data['title_num'] = test_data['title'].apply(lambda x:len(x))\n",
    "\n",
    "test_data['in_query_big'] = test_data.apply(lambda x:bbb(x['query_prediction'],x['title']),axis=1)"
   ]
  },
  {
   "cell_type": "code",
   "execution_count": 4,
   "metadata": {},
   "outputs": [],
   "source": [
    "temp1 = train_data.groupby(['prefix','title','tag'],as_index=False)['label'].agg({'click1':'sum','count1':'count','ctr1':'mean'})\n",
    "temp2 = train_data.groupby(['prefix','title'],as_index=False)['label'].agg({'click2':'sum','count2':'count','ctr2':'mean'})\n",
    "temp3 = train_data.groupby(['prefix','tag'],as_index=False)['label'].agg({'click3':'sum','count3':'count','ctr3':'mean'})\n",
    "temp4 = train_data.groupby(['title','tag'],as_index=False)['label'].agg({'click4':'sum','count4':'count','ctr4':'mean'})\n",
    "temp5 = train_data.groupby('prefix',as_index=False)['label'].agg({'click5':'sum','count5':'count','ctr5':'mean'})\n",
    "temp6 = train_data.groupby('title',as_index=False)['label'].agg({'click6':'sum','count6':'count','ctr6':'mean'})\n",
    "temp7 = train_data.groupby('tag',as_index=False)['label'].agg({'click7':'sum','count7':'count','ctr7':'mean'})\n",
    "temp8 = train_data.groupby(['prefix_num','title_num','tag'],as_index=False)['label'].agg({'click8':'sum','count8':'count','ctr8':'mean'})\n",
    "\n",
    "a = pd.merge(test_data,temp1,on=['prefix','title','tag'],how='left')\n",
    "b = pd.merge(test_data,temp2,on=['prefix','title'],how='left')\n",
    "c = pd.merge(test_data,temp3,on=['prefix','tag'],how='left')\n",
    "d = pd.merge(test_data,temp4,on=['title','tag'],how='left')\n",
    "e = pd.merge(test_data,temp5,on='prefix',how='left')\n",
    "f = pd.merge(test_data,temp6,on='title',how='left')\n",
    "g = pd.merge(test_data,temp7,on='tag',how='left')\n",
    "h = pd.merge(test_data,temp8,on=['prefix_num','title_num','tag'],how='left')\n",
    "\n",
    "a['ctr2'] = b['ctr2']\n",
    "a['ctr3'] = c['ctr3']\n",
    "a['ctr4'] = d['ctr4']\n",
    "a['ctr5'] = e['ctr5']\n",
    "a['ctr6'] = f['ctr6']\n",
    "a['ctr7'] = g['ctr7']\n",
    "a['ctr8'] = h['ctr8']\n",
    "\n",
    "a['count2'] = b['count2']\n",
    "a['count3'] = c['count3']\n",
    "a['count4'] = d['count4']\n",
    "a['count5'] = e['count5']\n",
    "a['count6'] = f['count6']\n",
    "a['count7'] = g['count7']\n",
    "\n",
    "a = a.fillna(0)\n",
    "a['label2'] = 0\n",
    "\n",
    "num1 = np.where((a['ctr1']>0.4),1,0)\n",
    "num4 = np.where((a['ctr1']<=0.4)&(a['ctr1']>=0.2)&(a['ctr4']>0.55),1,0)\n",
    "num7 = np.where((a['count1']==0)&(a['count4']==0)&(a['in_query_big']==0)&(a['ctr8']>0.5),1,0)\n",
    "num8 = np.where((a['count1']==0)&(a['count4']==0)&(a['in_query_big']==1),1,0)\n",
    "num9 = np.where((a['ctr4']>0.4)&(a['count1']==0),1,0)\n",
    "num10 = np.where((a['count1']==0)&(a['ctr4']<=0.4)&(a['ctr4']>=0.2)&(a['in_query_big']==1),1,0)\n",
    "\n",
    "numall = np.array(num1)+np.array(num4)+np.array(num8)+np.array(num7)+np.array(num9)+np.array(num10)"
   ]
  },
  {
   "cell_type": "code",
   "execution_count": 5,
   "metadata": {},
   "outputs": [
    {
     "data": {
      "text/plain": [
       "(250000, 26)"
      ]
     },
     "execution_count": 5,
     "metadata": {},
     "output_type": "execute_result"
    }
   ],
   "source": [
    "a['label3'] = numall\n",
    "a.shape\n",
    "a['label3'].to_csv('./result/baseline_b.csv',index=False)"
   ]
  },
  {
   "cell_type": "code",
   "execution_count": 6,
   "metadata": {},
   "outputs": [
    {
     "data": {
      "text/plain": [
       "(250000, 1)"
      ]
     },
     "execution_count": 6,
     "metadata": {},
     "output_type": "execute_result"
    }
   ],
   "source": [
    "result = pd.read_csv('./result/result_testB_result.csv', header=None)\n",
    "result.shape"
   ]
  },
  {
   "cell_type": "code",
   "execution_count": 7,
   "metadata": {},
   "outputs": [],
   "source": [
    "a['pred'] = result"
   ]
  },
  {
   "cell_type": "code",
   "execution_count": 8,
   "metadata": {},
   "outputs": [],
   "source": [
    "a['is_equal'] = a.apply(lambda x: 1 if x.label3 == x.pred else 0, axis=1)"
   ]
  },
  {
   "cell_type": "code",
   "execution_count": 9,
   "metadata": {},
   "outputs": [
    {
     "data": {
      "text/plain": [
       "205064"
      ]
     },
     "execution_count": 9,
     "metadata": {},
     "output_type": "execute_result"
    }
   ],
   "source": [
    "a.is_equal.sum()"
   ]
  },
  {
   "cell_type": "code",
   "execution_count": 10,
   "metadata": {
    "collapsed": true
   },
   "outputs": [
    {
     "data": {
      "text/html": [
       "<div>\n",
       "<style>\n",
       "    .dataframe thead tr:only-child th {\n",
       "        text-align: right;\n",
       "    }\n",
       "\n",
       "    .dataframe thead th {\n",
       "        text-align: left;\n",
       "    }\n",
       "\n",
       "    .dataframe tbody tr th {\n",
       "        vertical-align: top;\n",
       "    }\n",
       "</style>\n",
       "<table border=\"1\" class=\"dataframe\">\n",
       "  <thead>\n",
       "    <tr style=\"text-align: right;\">\n",
       "      <th></th>\n",
       "      <th>prefix</th>\n",
       "      <th>query_prediction</th>\n",
       "      <th>title</th>\n",
       "      <th>tag</th>\n",
       "      <th>label</th>\n",
       "      <th>prefix_num</th>\n",
       "      <th>title_num</th>\n",
       "      <th>in_query_big</th>\n",
       "      <th>click1</th>\n",
       "      <th>count1</th>\n",
       "      <th>...</th>\n",
       "      <th>count2</th>\n",
       "      <th>count3</th>\n",
       "      <th>count4</th>\n",
       "      <th>count5</th>\n",
       "      <th>count6</th>\n",
       "      <th>count7</th>\n",
       "      <th>label2</th>\n",
       "      <th>label3</th>\n",
       "      <th>pred</th>\n",
       "      <th>is_equal</th>\n",
       "    </tr>\n",
       "  </thead>\n",
       "  <tbody>\n",
       "    <tr>\n",
       "      <th>0</th>\n",
       "      <td>新生儿游泳</td>\n",
       "      <td>{\"新生儿游泳去黄疸吗\": \"0.013\", \"新生儿游泳时间\": \"0.012\", \"新生...</td>\n",
       "      <td>新生儿游泳到底好不好呀？</td>\n",
       "      <td>健康</td>\n",
       "      <td>nan</td>\n",
       "      <td>5</td>\n",
       "      <td>12</td>\n",
       "      <td>0</td>\n",
       "      <td>1.0</td>\n",
       "      <td>1.0</td>\n",
       "      <td>...</td>\n",
       "      <td>1.0</td>\n",
       "      <td>1.0</td>\n",
       "      <td>1.0</td>\n",
       "      <td>3.0</td>\n",
       "      <td>1.0</td>\n",
       "      <td>268099</td>\n",
       "      <td>0</td>\n",
       "      <td>1</td>\n",
       "      <td>0</td>\n",
       "      <td>0</td>\n",
       "    </tr>\n",
       "    <tr>\n",
       "      <th>1</th>\n",
       "      <td>吴奇隆</td>\n",
       "      <td>{\"吴奇隆李小冉\": \"0.011\", \"吴奇隆电视剧\": \"0.021\", \"吴奇隆的综艺...</td>\n",
       "      <td>吴奇隆刘诗诗公开恋情 马苏怎么办呢</td>\n",
       "      <td>影视</td>\n",
       "      <td>nan</td>\n",
       "      <td>3</td>\n",
       "      <td>17</td>\n",
       "      <td>0</td>\n",
       "      <td>5.0</td>\n",
       "      <td>78.0</td>\n",
       "      <td>...</td>\n",
       "      <td>78.0</td>\n",
       "      <td>78.0</td>\n",
       "      <td>133.0</td>\n",
       "      <td>321.0</td>\n",
       "      <td>133.0</td>\n",
       "      <td>71112</td>\n",
       "      <td>0</td>\n",
       "      <td>0</td>\n",
       "      <td>0</td>\n",
       "      <td>1</td>\n",
       "    </tr>\n",
       "    <tr>\n",
       "      <th>2</th>\n",
       "      <td>炎</td>\n",
       "      <td>{\"炎琥宁\": \"0.013\", \"炎武战神\": \"0.023\", \"炎帝\": \"0.020...</td>\n",
       "      <td>炎亚纶</td>\n",
       "      <td>百科</td>\n",
       "      <td>nan</td>\n",
       "      <td>1</td>\n",
       "      <td>3</td>\n",
       "      <td>0</td>\n",
       "      <td>8.0</td>\n",
       "      <td>8.0</td>\n",
       "      <td>...</td>\n",
       "      <td>8.0</td>\n",
       "      <td>8.0</td>\n",
       "      <td>8.0</td>\n",
       "      <td>20.0</td>\n",
       "      <td>8.0</td>\n",
       "      <td>1474283</td>\n",
       "      <td>0</td>\n",
       "      <td>1</td>\n",
       "      <td>1</td>\n",
       "      <td>1</td>\n",
       "    </tr>\n",
       "    <tr>\n",
       "      <th>3</th>\n",
       "      <td>知乎</td>\n",
       "      <td>{\"知乎2018必读书单\": \"0.004\", \"知乎翎春君\": \"0.007\", \"知乎暗...</td>\n",
       "      <td>知乎</td>\n",
       "      <td>应用</td>\n",
       "      <td>nan</td>\n",
       "      <td>2</td>\n",
       "      <td>2</td>\n",
       "      <td>0</td>\n",
       "      <td>249.0</td>\n",
       "      <td>495.0</td>\n",
       "      <td>...</td>\n",
       "      <td>982.0</td>\n",
       "      <td>495.0</td>\n",
       "      <td>1511.0</td>\n",
       "      <td>1502.0</td>\n",
       "      <td>2171.0</td>\n",
       "      <td>683549</td>\n",
       "      <td>0</td>\n",
       "      <td>1</td>\n",
       "      <td>1</td>\n",
       "      <td>1</td>\n",
       "    </tr>\n",
       "    <tr>\n",
       "      <th>4</th>\n",
       "      <td>快递查</td>\n",
       "      <td>{\"快递查询询\": \"0.001\", \"快递查单号\": \"0.001\", \"快递查询自动识别...</td>\n",
       "      <td>快递查询</td>\n",
       "      <td>应用</td>\n",
       "      <td>nan</td>\n",
       "      <td>3</td>\n",
       "      <td>4</td>\n",
       "      <td>1</td>\n",
       "      <td>68.0</td>\n",
       "      <td>82.0</td>\n",
       "      <td>...</td>\n",
       "      <td>82.0</td>\n",
       "      <td>82.0</td>\n",
       "      <td>362.0</td>\n",
       "      <td>253.0</td>\n",
       "      <td>362.0</td>\n",
       "      <td>683549</td>\n",
       "      <td>0</td>\n",
       "      <td>1</td>\n",
       "      <td>1</td>\n",
       "      <td>1</td>\n",
       "    </tr>\n",
       "  </tbody>\n",
       "</table>\n",
       "<p>5 rows × 28 columns</p>\n",
       "</div>"
      ],
      "text/plain": [
       "  prefix                                   query_prediction  \\\n",
       "0  新生儿游泳  {\"新生儿游泳去黄疸吗\": \"0.013\", \"新生儿游泳时间\": \"0.012\", \"新生...   \n",
       "1    吴奇隆  {\"吴奇隆李小冉\": \"0.011\", \"吴奇隆电视剧\": \"0.021\", \"吴奇隆的综艺...   \n",
       "2      炎  {\"炎琥宁\": \"0.013\", \"炎武战神\": \"0.023\", \"炎帝\": \"0.020...   \n",
       "3     知乎  {\"知乎2018必读书单\": \"0.004\", \"知乎翎春君\": \"0.007\", \"知乎暗...   \n",
       "4    快递查  {\"快递查询询\": \"0.001\", \"快递查单号\": \"0.001\", \"快递查询自动识别...   \n",
       "\n",
       "               title tag label  prefix_num  title_num  in_query_big  click1  \\\n",
       "0       新生儿游泳到底好不好呀？  健康   nan           5         12             0     1.0   \n",
       "1  吴奇隆刘诗诗公开恋情 马苏怎么办呢  影视   nan           3         17             0     5.0   \n",
       "2                炎亚纶  百科   nan           1          3             0     8.0   \n",
       "3                 知乎  应用   nan           2          2             0   249.0   \n",
       "4               快递查询  应用   nan           3          4             1    68.0   \n",
       "\n",
       "   count1    ...     count2  count3  count4  count5  count6   count7  label2  \\\n",
       "0     1.0    ...        1.0     1.0     1.0     3.0     1.0   268099       0   \n",
       "1    78.0    ...       78.0    78.0   133.0   321.0   133.0    71112       0   \n",
       "2     8.0    ...        8.0     8.0     8.0    20.0     8.0  1474283       0   \n",
       "3   495.0    ...      982.0   495.0  1511.0  1502.0  2171.0   683549       0   \n",
       "4    82.0    ...       82.0    82.0   362.0   253.0   362.0   683549       0   \n",
       "\n",
       "   label3  pred  is_equal  \n",
       "0       1     0         0  \n",
       "1       0     0         1  \n",
       "2       1     1         1  \n",
       "3       1     1         1  \n",
       "4       1     1         1  \n",
       "\n",
       "[5 rows x 28 columns]"
      ]
     },
     "execution_count": 10,
     "metadata": {},
     "output_type": "execute_result"
    }
   ],
   "source": [
    "a.head()"
   ]
  },
  {
   "cell_type": "markdown",
   "metadata": {},
   "source": [
    "## 特征"
   ]
  },
  {
   "cell_type": "code",
   "execution_count": 11,
   "metadata": {},
   "outputs": [
    {
     "data": {
      "text/plain": [
       "(250000, 104)"
      ]
     },
     "execution_count": 11,
     "metadata": {},
     "output_type": "execute_result"
    }
   ],
   "source": [
    "df3 = pd.read_csv('./feature/featurefull_testB.csv', encoding='gbk')\n",
    "\n",
    "feature1 = pd.read_csv('./feature/featurefull_dis1_testB.csv')\n",
    "feature2 = pd.read_csv('./feature/featurefull_dis2_testB.csv')\n",
    "\n",
    "df3 = pd.concat([df3, feature1, feature2], axis=1)\n",
    "df3.shape"
   ]
  },
  {
   "cell_type": "code",
   "execution_count": 12,
   "metadata": {},
   "outputs": [],
   "source": [
    "df = pd.concat([a, df3], axis=1)"
   ]
  },
  {
   "cell_type": "code",
   "execution_count": 13,
   "metadata": {},
   "outputs": [
    {
     "data": {
      "text/plain": [
       "(250000, 132)"
      ]
     },
     "execution_count": 13,
     "metadata": {},
     "output_type": "execute_result"
    }
   ],
   "source": [
    "df.shape"
   ]
  },
  {
   "cell_type": "code",
   "execution_count": 14,
   "metadata": {},
   "outputs": [
    {
     "data": {
      "text/html": [
       "<div>\n",
       "<style>\n",
       "    .dataframe thead tr:only-child th {\n",
       "        text-align: right;\n",
       "    }\n",
       "\n",
       "    .dataframe thead th {\n",
       "        text-align: left;\n",
       "    }\n",
       "\n",
       "    .dataframe tbody tr th {\n",
       "        vertical-align: top;\n",
       "    }\n",
       "</style>\n",
       "<table border=\"1\" class=\"dataframe\">\n",
       "  <thead>\n",
       "    <tr style=\"text-align: right;\">\n",
       "      <th></th>\n",
       "      <th>title_max_distance_maxpool</th>\n",
       "      <th>title_first_distance_maxpool</th>\n",
       "      <th>title_max_cos_distance_maxpool</th>\n",
       "      <th>title_first_cos_distance_maxpool</th>\n",
       "      <th>title_str_distance_maxpool</th>\n",
       "      <th>title_origin_str_distance_maxpool</th>\n",
       "      <th>title_str_cos_distance_maxpool</th>\n",
       "      <th>title_origin_str_cos_distance_maxpool</th>\n",
       "      <th>title_query_dict_distance</th>\n",
       "      <th>title_query_dict_cos_distance</th>\n",
       "      <th>...</th>\n",
       "      <th>title_query_str_distance</th>\n",
       "      <th>title_query_str_cos_distance</th>\n",
       "      <th>title_max_distance</th>\n",
       "      <th>title_first_distance</th>\n",
       "      <th>title_max_cos_distance</th>\n",
       "      <th>title_first_cos_distance</th>\n",
       "      <th>title_str_distance</th>\n",
       "      <th>title_origin_str_distance</th>\n",
       "      <th>title_str_cos_distance</th>\n",
       "      <th>title_origin_str_cos_distance</th>\n",
       "    </tr>\n",
       "  </thead>\n",
       "  <tbody>\n",
       "    <tr>\n",
       "      <th>0</th>\n",
       "      <td>0.905071</td>\n",
       "      <td>0.676132</td>\n",
       "      <td>1.349066e-01</td>\n",
       "      <td>0.074902</td>\n",
       "      <td>1.126576</td>\n",
       "      <td>1.126576</td>\n",
       "      <td>0.111900</td>\n",
       "      <td>0.111900</td>\n",
       "      <td>3.253811</td>\n",
       "      <td>0.260470</td>\n",
       "      <td>...</td>\n",
       "      <td>2.839202</td>\n",
       "      <td>0.243608</td>\n",
       "      <td>2.563005</td>\n",
       "      <td>2.723751</td>\n",
       "      <td>0.185665</td>\n",
       "      <td>0.218950</td>\n",
       "      <td>2.805068</td>\n",
       "      <td>2.805068</td>\n",
       "      <td>0.203234</td>\n",
       "      <td>0.203234</td>\n",
       "    </tr>\n",
       "    <tr>\n",
       "      <th>1</th>\n",
       "      <td>0.767536</td>\n",
       "      <td>1.815259</td>\n",
       "      <td>1.218726e-01</td>\n",
       "      <td>0.213779</td>\n",
       "      <td>0.870760</td>\n",
       "      <td>0.870760</td>\n",
       "      <td>0.114477</td>\n",
       "      <td>0.114477</td>\n",
       "      <td>3.260757</td>\n",
       "      <td>0.170760</td>\n",
       "      <td>...</td>\n",
       "      <td>2.394865</td>\n",
       "      <td>0.196116</td>\n",
       "      <td>2.446395</td>\n",
       "      <td>3.537574</td>\n",
       "      <td>0.202474</td>\n",
       "      <td>0.357697</td>\n",
       "      <td>3.106488</td>\n",
       "      <td>3.106488</td>\n",
       "      <td>0.202159</td>\n",
       "      <td>0.202159</td>\n",
       "    </tr>\n",
       "    <tr>\n",
       "      <th>2</th>\n",
       "      <td>0.000000</td>\n",
       "      <td>2.824372</td>\n",
       "      <td>0.000000e+00</td>\n",
       "      <td>0.540281</td>\n",
       "      <td>2.829457</td>\n",
       "      <td>2.829457</td>\n",
       "      <td>0.356906</td>\n",
       "      <td>0.356906</td>\n",
       "      <td>4.010782</td>\n",
       "      <td>0.200286</td>\n",
       "      <td>...</td>\n",
       "      <td>3.972606</td>\n",
       "      <td>0.495217</td>\n",
       "      <td>4.428393</td>\n",
       "      <td>4.887666</td>\n",
       "      <td>0.606649</td>\n",
       "      <td>0.702936</td>\n",
       "      <td>3.999783</td>\n",
       "      <td>3.999783</td>\n",
       "      <td>0.499355</td>\n",
       "      <td>0.499355</td>\n",
       "    </tr>\n",
       "    <tr>\n",
       "      <th>3</th>\n",
       "      <td>1.388712</td>\n",
       "      <td>1.379703</td>\n",
       "      <td>2.455698e-01</td>\n",
       "      <td>0.254382</td>\n",
       "      <td>1.863668</td>\n",
       "      <td>1.863668</td>\n",
       "      <td>0.327346</td>\n",
       "      <td>0.327346</td>\n",
       "      <td>4.411204</td>\n",
       "      <td>0.082787</td>\n",
       "      <td>...</td>\n",
       "      <td>2.883861</td>\n",
       "      <td>0.202170</td>\n",
       "      <td>2.822812</td>\n",
       "      <td>2.822812</td>\n",
       "      <td>0.191541</td>\n",
       "      <td>0.191541</td>\n",
       "      <td>2.008406</td>\n",
       "      <td>2.008406</td>\n",
       "      <td>0.092278</td>\n",
       "      <td>0.092278</td>\n",
       "    </tr>\n",
       "    <tr>\n",
       "      <th>4</th>\n",
       "      <td>0.000000</td>\n",
       "      <td>0.930447</td>\n",
       "      <td>4.440892e-16</td>\n",
       "      <td>0.053961</td>\n",
       "      <td>2.452586</td>\n",
       "      <td>2.452586</td>\n",
       "      <td>0.170481</td>\n",
       "      <td>0.170481</td>\n",
       "      <td>2.611621</td>\n",
       "      <td>0.026567</td>\n",
       "      <td>...</td>\n",
       "      <td>3.265587</td>\n",
       "      <td>0.276505</td>\n",
       "      <td>2.392440</td>\n",
       "      <td>2.392440</td>\n",
       "      <td>0.120153</td>\n",
       "      <td>0.120153</td>\n",
       "      <td>1.995977</td>\n",
       "      <td>1.995977</td>\n",
       "      <td>0.088244</td>\n",
       "      <td>0.088244</td>\n",
       "    </tr>\n",
       "  </tbody>\n",
       "</table>\n",
       "<p>5 rows × 22 columns</p>\n",
       "</div>"
      ],
      "text/plain": [
       "   title_max_distance_maxpool  title_first_distance_maxpool  \\\n",
       "0                    0.905071                      0.676132   \n",
       "1                    0.767536                      1.815259   \n",
       "2                    0.000000                      2.824372   \n",
       "3                    1.388712                      1.379703   \n",
       "4                    0.000000                      0.930447   \n",
       "\n",
       "   title_max_cos_distance_maxpool  title_first_cos_distance_maxpool  \\\n",
       "0                    1.349066e-01                          0.074902   \n",
       "1                    1.218726e-01                          0.213779   \n",
       "2                    0.000000e+00                          0.540281   \n",
       "3                    2.455698e-01                          0.254382   \n",
       "4                    4.440892e-16                          0.053961   \n",
       "\n",
       "   title_str_distance_maxpool  title_origin_str_distance_maxpool  \\\n",
       "0                    1.126576                           1.126576   \n",
       "1                    0.870760                           0.870760   \n",
       "2                    2.829457                           2.829457   \n",
       "3                    1.863668                           1.863668   \n",
       "4                    2.452586                           2.452586   \n",
       "\n",
       "   title_str_cos_distance_maxpool  title_origin_str_cos_distance_maxpool  \\\n",
       "0                        0.111900                               0.111900   \n",
       "1                        0.114477                               0.114477   \n",
       "2                        0.356906                               0.356906   \n",
       "3                        0.327346                               0.327346   \n",
       "4                        0.170481                               0.170481   \n",
       "\n",
       "   title_query_dict_distance  title_query_dict_cos_distance  \\\n",
       "0                   3.253811                       0.260470   \n",
       "1                   3.260757                       0.170760   \n",
       "2                   4.010782                       0.200286   \n",
       "3                   4.411204                       0.082787   \n",
       "4                   2.611621                       0.026567   \n",
       "\n",
       "               ...                title_query_str_distance  \\\n",
       "0              ...                                2.839202   \n",
       "1              ...                                2.394865   \n",
       "2              ...                                3.972606   \n",
       "3              ...                                2.883861   \n",
       "4              ...                                3.265587   \n",
       "\n",
       "   title_query_str_cos_distance  title_max_distance  title_first_distance  \\\n",
       "0                      0.243608            2.563005              2.723751   \n",
       "1                      0.196116            2.446395              3.537574   \n",
       "2                      0.495217            4.428393              4.887666   \n",
       "3                      0.202170            2.822812              2.822812   \n",
       "4                      0.276505            2.392440              2.392440   \n",
       "\n",
       "   title_max_cos_distance  title_first_cos_distance  title_str_distance  \\\n",
       "0                0.185665                  0.218950            2.805068   \n",
       "1                0.202474                  0.357697            3.106488   \n",
       "2                0.606649                  0.702936            3.999783   \n",
       "3                0.191541                  0.191541            2.008406   \n",
       "4                0.120153                  0.120153            1.995977   \n",
       "\n",
       "   title_origin_str_distance  title_str_cos_distance  \\\n",
       "0                   2.805068                0.203234   \n",
       "1                   3.106488                0.202159   \n",
       "2                   3.999783                0.499355   \n",
       "3                   2.008406                0.092278   \n",
       "4                   1.995977                0.088244   \n",
       "\n",
       "   title_origin_str_cos_distance  \n",
       "0                       0.203234  \n",
       "1                       0.202159  \n",
       "2                       0.499355  \n",
       "3                       0.092278  \n",
       "4                       0.088244  \n",
       "\n",
       "[5 rows x 22 columns]"
      ]
     },
     "execution_count": 14,
     "metadata": {},
     "output_type": "execute_result"
    }
   ],
   "source": [
    "df3[[i for i in df3.columns if 'distance' in i]].head()"
   ]
  },
  {
   "cell_type": "code",
   "execution_count": 15,
   "metadata": {},
   "outputs": [
    {
     "data": {
      "text/html": [
       "<div>\n",
       "<style>\n",
       "    .dataframe thead tr:only-child th {\n",
       "        text-align: right;\n",
       "    }\n",
       "\n",
       "    .dataframe thead th {\n",
       "        text-align: left;\n",
       "    }\n",
       "\n",
       "    .dataframe tbody tr th {\n",
       "        vertical-align: top;\n",
       "    }\n",
       "</style>\n",
       "<table border=\"1\" class=\"dataframe\">\n",
       "  <thead>\n",
       "    <tr style=\"text-align: right;\">\n",
       "      <th></th>\n",
       "      <th>title_max_distance_maxpool</th>\n",
       "      <th>title_first_distance_maxpool</th>\n",
       "      <th>title_max_cos_distance_maxpool</th>\n",
       "      <th>title_first_cos_distance_maxpool</th>\n",
       "      <th>title_str_distance_maxpool</th>\n",
       "      <th>title_origin_str_distance_maxpool</th>\n",
       "      <th>title_str_cos_distance_maxpool</th>\n",
       "      <th>title_origin_str_cos_distance_maxpool</th>\n",
       "      <th>title_query_dict_distance</th>\n",
       "      <th>title_query_dict_cos_distance</th>\n",
       "      <th>...</th>\n",
       "      <th>title_query_str_distance</th>\n",
       "      <th>title_query_str_cos_distance</th>\n",
       "      <th>title_max_distance</th>\n",
       "      <th>title_first_distance</th>\n",
       "      <th>title_max_cos_distance</th>\n",
       "      <th>title_first_cos_distance</th>\n",
       "      <th>title_str_distance</th>\n",
       "      <th>title_origin_str_distance</th>\n",
       "      <th>title_str_cos_distance</th>\n",
       "      <th>title_origin_str_cos_distance</th>\n",
       "    </tr>\n",
       "  </thead>\n",
       "  <tbody>\n",
       "    <tr>\n",
       "      <th>0</th>\n",
       "      <td>0.905071</td>\n",
       "      <td>0.676132</td>\n",
       "      <td>0.134907</td>\n",
       "      <td>0.074902</td>\n",
       "      <td>1.126576</td>\n",
       "      <td>1.126576</td>\n",
       "      <td>0.111900</td>\n",
       "      <td>0.111900</td>\n",
       "      <td>3.253811</td>\n",
       "      <td>0.260470</td>\n",
       "      <td>...</td>\n",
       "      <td>2.839202</td>\n",
       "      <td>0.243608</td>\n",
       "      <td>2.563005</td>\n",
       "      <td>2.723751</td>\n",
       "      <td>1.856648e-01</td>\n",
       "      <td>0.218950</td>\n",
       "      <td>2.805068</td>\n",
       "      <td>2.805068</td>\n",
       "      <td>0.203234</td>\n",
       "      <td>0.203234</td>\n",
       "    </tr>\n",
       "    <tr>\n",
       "      <th>11</th>\n",
       "      <td>1.766726</td>\n",
       "      <td>1.660834</td>\n",
       "      <td>0.219857</td>\n",
       "      <td>0.179482</td>\n",
       "      <td>2.422782</td>\n",
       "      <td>2.422782</td>\n",
       "      <td>0.183381</td>\n",
       "      <td>0.183381</td>\n",
       "      <td>4.048393</td>\n",
       "      <td>0.224800</td>\n",
       "      <td>...</td>\n",
       "      <td>3.556213</td>\n",
       "      <td>0.257301</td>\n",
       "      <td>4.100356</td>\n",
       "      <td>4.100356</td>\n",
       "      <td>3.371395e-01</td>\n",
       "      <td>0.337140</td>\n",
       "      <td>3.800643</td>\n",
       "      <td>3.800643</td>\n",
       "      <td>0.214435</td>\n",
       "      <td>0.214435</td>\n",
       "    </tr>\n",
       "    <tr>\n",
       "      <th>12</th>\n",
       "      <td>1.071904</td>\n",
       "      <td>0.792930</td>\n",
       "      <td>0.143545</td>\n",
       "      <td>0.060310</td>\n",
       "      <td>1.643434</td>\n",
       "      <td>1.643434</td>\n",
       "      <td>0.184091</td>\n",
       "      <td>0.184091</td>\n",
       "      <td>2.944234</td>\n",
       "      <td>0.085730</td>\n",
       "      <td>...</td>\n",
       "      <td>2.220254</td>\n",
       "      <td>0.157986</td>\n",
       "      <td>2.569170</td>\n",
       "      <td>2.471685</td>\n",
       "      <td>2.193557e-01</td>\n",
       "      <td>0.201857</td>\n",
       "      <td>1.552429</td>\n",
       "      <td>1.552429</td>\n",
       "      <td>0.073815</td>\n",
       "      <td>0.073815</td>\n",
       "    </tr>\n",
       "    <tr>\n",
       "      <th>14</th>\n",
       "      <td>0.000000</td>\n",
       "      <td>1.025008</td>\n",
       "      <td>0.000000</td>\n",
       "      <td>0.101506</td>\n",
       "      <td>2.079283</td>\n",
       "      <td>2.079283</td>\n",
       "      <td>0.232233</td>\n",
       "      <td>0.232233</td>\n",
       "      <td>2.668621</td>\n",
       "      <td>0.022176</td>\n",
       "      <td>...</td>\n",
       "      <td>3.545001</td>\n",
       "      <td>0.415064</td>\n",
       "      <td>0.000000</td>\n",
       "      <td>1.899261</td>\n",
       "      <td>2.220446e-16</td>\n",
       "      <td>0.111368</td>\n",
       "      <td>1.415711</td>\n",
       "      <td>1.415711</td>\n",
       "      <td>0.052241</td>\n",
       "      <td>0.052241</td>\n",
       "    </tr>\n",
       "    <tr>\n",
       "      <th>21</th>\n",
       "      <td>1.875101</td>\n",
       "      <td>1.873195</td>\n",
       "      <td>0.236768</td>\n",
       "      <td>0.235744</td>\n",
       "      <td>2.680995</td>\n",
       "      <td>2.680995</td>\n",
       "      <td>0.330978</td>\n",
       "      <td>0.330978</td>\n",
       "      <td>3.269632</td>\n",
       "      <td>0.255270</td>\n",
       "      <td>...</td>\n",
       "      <td>3.483648</td>\n",
       "      <td>0.411813</td>\n",
       "      <td>2.809299</td>\n",
       "      <td>2.809299</td>\n",
       "      <td>2.584060e-01</td>\n",
       "      <td>0.258406</td>\n",
       "      <td>2.857868</td>\n",
       "      <td>2.857868</td>\n",
       "      <td>0.250990</td>\n",
       "      <td>0.250990</td>\n",
       "    </tr>\n",
       "  </tbody>\n",
       "</table>\n",
       "<p>5 rows × 22 columns</p>\n",
       "</div>"
      ],
      "text/plain": [
       "    title_max_distance_maxpool  title_first_distance_maxpool  \\\n",
       "0                     0.905071                      0.676132   \n",
       "11                    1.766726                      1.660834   \n",
       "12                    1.071904                      0.792930   \n",
       "14                    0.000000                      1.025008   \n",
       "21                    1.875101                      1.873195   \n",
       "\n",
       "    title_max_cos_distance_maxpool  title_first_cos_distance_maxpool  \\\n",
       "0                         0.134907                          0.074902   \n",
       "11                        0.219857                          0.179482   \n",
       "12                        0.143545                          0.060310   \n",
       "14                        0.000000                          0.101506   \n",
       "21                        0.236768                          0.235744   \n",
       "\n",
       "    title_str_distance_maxpool  title_origin_str_distance_maxpool  \\\n",
       "0                     1.126576                           1.126576   \n",
       "11                    2.422782                           2.422782   \n",
       "12                    1.643434                           1.643434   \n",
       "14                    2.079283                           2.079283   \n",
       "21                    2.680995                           2.680995   \n",
       "\n",
       "    title_str_cos_distance_maxpool  title_origin_str_cos_distance_maxpool  \\\n",
       "0                         0.111900                               0.111900   \n",
       "11                        0.183381                               0.183381   \n",
       "12                        0.184091                               0.184091   \n",
       "14                        0.232233                               0.232233   \n",
       "21                        0.330978                               0.330978   \n",
       "\n",
       "    title_query_dict_distance  title_query_dict_cos_distance  \\\n",
       "0                    3.253811                       0.260470   \n",
       "11                   4.048393                       0.224800   \n",
       "12                   2.944234                       0.085730   \n",
       "14                   2.668621                       0.022176   \n",
       "21                   3.269632                       0.255270   \n",
       "\n",
       "                ...                title_query_str_distance  \\\n",
       "0               ...                                2.839202   \n",
       "11              ...                                3.556213   \n",
       "12              ...                                2.220254   \n",
       "14              ...                                3.545001   \n",
       "21              ...                                3.483648   \n",
       "\n",
       "    title_query_str_cos_distance  title_max_distance  title_first_distance  \\\n",
       "0                       0.243608            2.563005              2.723751   \n",
       "11                      0.257301            4.100356              4.100356   \n",
       "12                      0.157986            2.569170              2.471685   \n",
       "14                      0.415064            0.000000              1.899261   \n",
       "21                      0.411813            2.809299              2.809299   \n",
       "\n",
       "    title_max_cos_distance  title_first_cos_distance  title_str_distance  \\\n",
       "0             1.856648e-01                  0.218950            2.805068   \n",
       "11            3.371395e-01                  0.337140            3.800643   \n",
       "12            2.193557e-01                  0.201857            1.552429   \n",
       "14            2.220446e-16                  0.111368            1.415711   \n",
       "21            2.584060e-01                  0.258406            2.857868   \n",
       "\n",
       "    title_origin_str_distance  title_str_cos_distance  \\\n",
       "0                    2.805068                0.203234   \n",
       "11                   3.800643                0.214435   \n",
       "12                   1.552429                0.073815   \n",
       "14                   1.415711                0.052241   \n",
       "21                   2.857868                0.250990   \n",
       "\n",
       "    title_origin_str_cos_distance  \n",
       "0                        0.203234  \n",
       "11                       0.214435  \n",
       "12                       0.073815  \n",
       "14                       0.052241  \n",
       "21                       0.250990  \n",
       "\n",
       "[5 rows x 22 columns]"
      ]
     },
     "execution_count": 15,
     "metadata": {},
     "output_type": "execute_result"
    }
   ],
   "source": [
    "df[df.is_equal == 0][[i for i in df.columns if 'distance' in i]].head()"
   ]
  },
  {
   "cell_type": "code",
   "execution_count": 16,
   "metadata": {},
   "outputs": [],
   "source": [
    "dis_cols = [i for i in df.columns if 'distance' in i and 'cos' not in i]\n",
    "sim_cols = [i for i in df.columns if 'cos' in i]"
   ]
  },
  {
   "cell_type": "code",
   "execution_count": 17,
   "metadata": {},
   "outputs": [],
   "source": [
    "df['distance_sum'] = df.apply(lambda x: sum([x[i] for i in dis_cols]), axis=1)\n",
    "df['sim_sum'] = df.apply(lambda x: sum([x[i] for i in sim_cols]), axis=1)"
   ]
  },
  {
   "cell_type": "code",
   "execution_count": 18,
   "metadata": {},
   "outputs": [
    {
     "data": {
      "text/plain": [
       "25.416252448127487"
      ]
     },
     "execution_count": 18,
     "metadata": {},
     "output_type": "execute_result"
    },
    {
     "data": {
      "text/plain": [
       "2.185430275432723"
      ]
     },
     "execution_count": 18,
     "metadata": {},
     "output_type": "execute_result"
    }
   ],
   "source": [
    "df[(df.is_equal == 1) & (df.pred == 1)]['distance_sum'].mean()\n",
    "df[(df.is_equal == 1) & (df.pred == 1)]['sim_sum'].mean()"
   ]
  },
  {
   "cell_type": "code",
   "execution_count": 19,
   "metadata": {},
   "outputs": [],
   "source": [
    "df['result'] = -1"
   ]
  },
  {
   "cell_type": "code",
   "execution_count": 20,
   "metadata": {},
   "outputs": [
    {
     "data": {
      "text/plain": [
       "-1    250000\n",
       "Name: result, dtype: int64"
      ]
     },
     "execution_count": 20,
     "metadata": {},
     "output_type": "execute_result"
    }
   ],
   "source": [
    "df.result.value_counts()"
   ]
  },
  {
   "cell_type": "code",
   "execution_count": 21,
   "metadata": {},
   "outputs": [],
   "source": [
    "df['result'] = df.apply(lambda x: x.pred if x.is_equal == 1 else -1, axis=1)"
   ]
  },
  {
   "cell_type": "code",
   "execution_count": 22,
   "metadata": {},
   "outputs": [
    {
     "data": {
      "text/plain": [
       " 0    126488\n",
       " 1     78576\n",
       "-1     44936\n",
       "Name: result, dtype: int64"
      ]
     },
     "execution_count": 22,
     "metadata": {},
     "output_type": "execute_result"
    }
   ],
   "source": [
    "df.result.value_counts()"
   ]
  },
  {
   "cell_type": "code",
   "execution_count": 23,
   "metadata": {},
   "outputs": [],
   "source": [
    "df['result'] = df.apply(lambda x: 1 if x.is_equal == 0 and x.distance_sum >= 25.4 and x.sim_sum <= 2.2 else x.result, axis=1)"
   ]
  },
  {
   "cell_type": "code",
   "execution_count": 31,
   "metadata": {},
   "outputs": [],
   "source": [
    "df['result'] = df.apply(lambda x: 1 if x.is_equal == 0 and x.distance_sum >= 22.5 and x.sim_sum <= 2.8 else x.result, axis=1)"
   ]
  },
  {
   "cell_type": "code",
   "execution_count": 32,
   "metadata": {},
   "outputs": [
    {
     "data": {
      "text/plain": [
       " 0    126488\n",
       " 1    100099\n",
       "-1     23413\n",
       "Name: result, dtype: int64"
      ]
     },
     "execution_count": 32,
     "metadata": {},
     "output_type": "execute_result"
    }
   ],
   "source": [
    "df.result.value_counts()"
   ]
  },
  {
   "cell_type": "code",
   "execution_count": 33,
   "metadata": {},
   "outputs": [],
   "source": [
    "df['result'] = df.apply(lambda x: 0 if x.result == -1 else x.result, axis=1)"
   ]
  },
  {
   "cell_type": "code",
   "execution_count": 34,
   "metadata": {},
   "outputs": [
    {
     "data": {
      "text/plain": [
       "0    149901\n",
       "1    100099\n",
       "Name: result, dtype: int64"
      ]
     },
     "execution_count": 34,
     "metadata": {},
     "output_type": "execute_result"
    }
   ],
   "source": [
    "df.result.value_counts()"
   ]
  },
  {
   "cell_type": "code",
   "execution_count": 35,
   "metadata": {},
   "outputs": [],
   "source": [
    "by_col = ['result', 'label3', 'pred', 'is_equal', 'distance_sum', 'sim_sum']"
   ]
  },
  {
   "cell_type": "code",
   "execution_count": 36,
   "metadata": {
    "scrolled": true
   },
   "outputs": [
    {
     "data": {
      "text/plain": [
       "100099"
      ]
     },
     "execution_count": 36,
     "metadata": {},
     "output_type": "execute_result"
    },
    {
     "data": {
      "text/html": [
       "<div>\n",
       "<style>\n",
       "    .dataframe thead tr:only-child th {\n",
       "        text-align: right;\n",
       "    }\n",
       "\n",
       "    .dataframe thead th {\n",
       "        text-align: left;\n",
       "    }\n",
       "\n",
       "    .dataframe tbody tr th {\n",
       "        vertical-align: top;\n",
       "    }\n",
       "</style>\n",
       "<table border=\"1\" class=\"dataframe\">\n",
       "  <thead>\n",
       "    <tr style=\"text-align: right;\">\n",
       "      <th></th>\n",
       "      <th>result</th>\n",
       "      <th>label3</th>\n",
       "      <th>pred</th>\n",
       "      <th>is_equal</th>\n",
       "      <th>distance_sum</th>\n",
       "      <th>sim_sum</th>\n",
       "    </tr>\n",
       "  </thead>\n",
       "  <tbody>\n",
       "    <tr>\n",
       "      <th>0</th>\n",
       "      <td>1</td>\n",
       "      <td>1</td>\n",
       "      <td>0</td>\n",
       "      <td>0</td>\n",
       "      <td>24.477256</td>\n",
       "      <td>2.092606</td>\n",
       "    </tr>\n",
       "    <tr>\n",
       "      <th>1</th>\n",
       "      <td>0</td>\n",
       "      <td>0</td>\n",
       "      <td>0</td>\n",
       "      <td>1</td>\n",
       "      <td>25.821839</td>\n",
       "      <td>2.247696</td>\n",
       "    </tr>\n",
       "    <tr>\n",
       "      <th>2</th>\n",
       "      <td>1</td>\n",
       "      <td>1</td>\n",
       "      <td>1</td>\n",
       "      <td>1</td>\n",
       "      <td>38.676026</td>\n",
       "      <td>4.922591</td>\n",
       "    </tr>\n",
       "    <tr>\n",
       "      <th>3</th>\n",
       "      <td>1</td>\n",
       "      <td>1</td>\n",
       "      <td>1</td>\n",
       "      <td>1</td>\n",
       "      <td>23.453253</td>\n",
       "      <td>2.007239</td>\n",
       "    </tr>\n",
       "    <tr>\n",
       "      <th>4</th>\n",
       "      <td>1</td>\n",
       "      <td>1</td>\n",
       "      <td>1</td>\n",
       "      <td>1</td>\n",
       "      <td>23.312174</td>\n",
       "      <td>1.316312</td>\n",
       "    </tr>\n",
       "  </tbody>\n",
       "</table>\n",
       "</div>"
      ],
      "text/plain": [
       "   result  label3  pred  is_equal  distance_sum   sim_sum\n",
       "0       1       1     0         0     24.477256  2.092606\n",
       "1       0       0     0         1     25.821839  2.247696\n",
       "2       1       1     1         1     38.676026  4.922591\n",
       "3       1       1     1         1     23.453253  2.007239\n",
       "4       1       1     1         1     23.312174  1.316312"
      ]
     },
     "execution_count": 36,
     "metadata": {},
     "output_type": "execute_result"
    }
   ],
   "source": [
    "df.result.sum()\n",
    "df[by_col].head()"
   ]
  },
  {
   "cell_type": "code",
   "execution_count": 37,
   "metadata": {},
   "outputs": [],
   "source": [
    "df.result.to_csv('./result/ffm_resultb.csv', index=None, header=None)"
   ]
  }
 ],
 "metadata": {
  "kernelspec": {
   "display_name": "Python 3",
   "language": "python",
   "name": "python3"
  },
  "language_info": {
   "codemirror_mode": {
    "name": "ipython",
    "version": 3
   },
   "file_extension": ".py",
   "mimetype": "text/x-python",
   "name": "python",
   "nbconvert_exporter": "python",
   "pygments_lexer": "ipython3",
   "version": "3.6.3"
  }
 },
 "nbformat": 4,
 "nbformat_minor": 2
}
