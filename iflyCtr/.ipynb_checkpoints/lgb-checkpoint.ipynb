{
 "cells": [
  {
   "cell_type": "code",
   "execution_count": 1,
   "metadata": {},
   "outputs": [],
   "source": [
    "import numpy as np\n",
    "import os\n",
    "import pandas as pd\n",
    "pd.set_option('display.max_columns', None)\n",
    "import matplotlib.pyplot as plt\n",
    "# import seaborn as sns\n",
    "import pickle\n",
    "import time\n",
    "import gc\n",
    "from tqdm import tqdm, tqdm_notebook\n",
    "\n",
    "%matplotlib inline\n",
    "\n",
    "#每次可以输出多个变量\n",
    "from IPython.core.interactiveshell import InteractiveShell\n",
    "InteractiveShell.ast_node_interactivity = \"all\"\n",
    "\n",
    "from pylab import rcParams\n",
    "rcParams['figure.figsize'] = 14, 6\n",
    "\n",
    "import warnings\n",
    "warnings.filterwarnings(\"ignore\")\n",
    "\n",
    "#中文字体\n",
    "import matplotlib\n",
    "matplotlib.use('qt4agg')\n",
    "#指定默认字体\n",
    "matplotlib.rcParams['font.sans-serif'] = ['SimHei']\n",
    "matplotlib.rcParams['font.family'] = 'sans-serif'\n",
    "#解决负号'-'显示为方块的问题\n",
    "matplotlib.rcParams['axes.unicode_minus'] = False"
   ]
  },
  {
   "cell_type": "code",
   "execution_count": null,
   "metadata": {},
   "outputs": [
    {
     "data": {
      "text/plain": [
       "686"
      ]
     },
     "execution_count": 2,
     "metadata": {},
     "output_type": "execute_result"
    }
   ],
   "source": [
    "tmp = pd.read_csv('./data/df_preprocess.csv', nrows=1)\n",
    "\n",
    "bool_col = ['creative_is_jump','creative_is_download','creative_is_js','creative_is_voicead','creative_has_deeplink','app_paid']\n",
    "zip_col = ['city','province','carrier','devtype','make','model','nnt','os','osv','os_name','adid','advert_id','orderid','campaign_id','creative_id','creative_tp_dnf','app_cate_id','app_id','inner_slot_id','creative_type','advert_name','advert_industry_inner_split_0','advert_industry_inner_split_1']\n",
    "good_fea = ['inner_slot_id_modelpos/nag_rate','model_inner_slot_idpos/nag_rate','creative_type_modelpos/nag_rate','model_creative_typepos/nag_rate','model_app_idpos/nag_rate','app_id_modelpos/nag_rate','creative_tp_dnf_modelpos/nag_rate','model_creative_tp_dnfpos/nag_rate','model_app_cate_idpos/nag_rate','app_cate_id_modelpos/nag_rate','model_user_tags_21pos/nag_rate','user_tags_21_modelpos/nag_rate','advert_name_modelpos/nag_rate','model_advert_namepos/nag_rate','model_user_tags_4pos/nag_rate','user_tags_4_modelpos/nag_rate','model_creative_is_jumppos/nag_rate','creative_is_download_modelpos/nag_rate','creative_is_jump_modelpos/nag_rate','model_creative_is_downloadpos/nag_rate','user_tags_15_modelpos/nag_rate','model_user_tags_15pos/nag_rate','model_user_tags_37pos/nag_rate','user_tags_37_modelpos/nag_rate','inner_slot_id_osvpos/nag_rate','osv_inner_slot_idpos/nag_rate','model_user_tags_31pos/nag_rate','user_tags_31_modelpos/nag_rate','model_advert_idpos/nag_rate','advert_id_modelpos/nag_rate','user_tags_29_modelpos/nag_rate','model_user_tags_29pos/nag_rate','user_tags_16_modelpos/nag_rate','model_user_tags_16pos/nag_rate','advert_industry_inner_split_1_modelpos/nag_rate','model_advert_industry_inner_split_1pos/nag_rate','make_inner_slot_idpos/nag_rate','inner_slot_id_makepos/nag_rate','model_user_tags_19pos/nag_rate','user_tags_19_modelpos/nag_rate','user_tags_25_modelpos/nag_rate','model_user_tags_25pos/nag_rate','model_user_tags_17pos/nag_rate','user_tags_17_modelpos/nag_rate','model_user_tags_6pos/nag_rate','user_tags_6_modelpos/nag_rate','campaign_id_modelpos/nag_rate','model_campaign_idpos/nag_rate','user_tags_1_modelpos/nag_rate','user_tags_2_modelpos/nag_rate','model_user_tags_1pos/nag_rate','model_user_tags_2pos/nag_rate','model_user_tags_12pos/nag_rate','model_user_tags_14pos/nag_rate','model_user_tags_13pos/nag_rate','user_tags_12_modelpos/nag_rate','user_tags_14_modelpos/nag_rate','user_tags_13_modelpos/nag_rate','model_creative_has_deeplinkpos/nag_rate','creative_has_deeplink_modelpos/nag_rate','model_makepos/nag_rate','make_modelpos/nag_rate','model_devtypepos/nag_rate','devtype_modelpos/nag_rate','model_user_tags_10pos/nag_rate','user_tags_10_modelpos/nag_rate','model_user_tags_18pos/nag_rate','user_tags_18_modelpos/nag_rate','user_tags_28_modelpos/nag_rate','model_user_tags_28pos/nag_rate','user_tags_30_modelpos/nag_rate','model_user_tags_30pos/nag_rate','model_ospos/nag_rate','model_os_namepos/nag_rate','os_modelpos/nag_rate','os_name_modelpos/nag_rate','user_tags_24_modelpos/nag_rate','model_user_tags_24pos/nag_rate','model_user_tags_3pos/nag_rate','user_tags_3_modelpos/nag_rate','nnt_modelpos/nag_rate','model_nntpos/nag_rate','model_user_tags_11pos/nag_rate','user_tags_11_modelpos/nag_rate','inner_slot_id_user_tags_31pos/nag_rate','user_tags_31_inner_slot_idpos/nag_rate','inner_slot_id_user_tags_30pos/nag_rate','user_tags_30_inner_slot_idpos/nag_rate','model_user_tags_0pos/nag_rate','user_tags_0_modelpos/nag_rate','model_carrierpos/nag_rate','carrier_modelpos/nag_rate','model_user_tags_22pos/nag_rate','user_tags_22_modelpos/nag_rate','user_tags_20_modelpos/nag_rate','model_user_tags_20pos/nag_rate','user_tags_36_modelpos/nag_rate','model_user_tags_36pos/nag_rate','model_user_tags_26pos/nag_rate','user_tags_26_modelpos/nag_rate','model_user_tags_32pos/nag_rate','user_tags_32_modelpos/nag_rate','advert_industry_inner_split_0_modelpos/nag_rate','model_advert_industry_inner_split_0pos/nag_rate','model_user_tags_27pos/nag_rate','user_tags_27_modelpos/nag_rate','modelpos/nag_rate','creative_is_js_modelpos/nag_rate','app_paid_modelpos/nag_rate','model_creative_is_jspos/nag_rate','model_app_paidpos/nag_rate','creative_is_voicead_modelpos/nag_rate','model_creative_is_voiceadpos/nag_rate','user_tags_7_modelpos/nag_rate','model_user_tags_7pos/nag_rate','model_user_tags_8pos/nag_rate','user_tags_8_modelpos/nag_rate','model_orderidpos/nag_rate','orderid_modelpos/nag_rate','model_user_tags_34pos/nag_rate','user_tags_34_modelpos/nag_rate','user_tags_5_modelpos/nag_rate','model_user_tags_5pos/nag_rate','user_tags_35_modelpos/nag_rate','model_user_tags_35pos/nag_rate','osv_modelpos/nag_rate','model_osvpos/nag_rate','osv_orderidpos/nag_rate','orderid_osvpos/nag_rate','app_id_osvpos/nag_rate','osv_app_idpos/nag_rate','user_tags_23_modelpos/nag_rate','model_user_tags_23pos/nag_rate','inner_slot_id_user_tags_18pos/nag_rate','user_tags_18_inner_slot_idpos/nag_rate','user_tags_32_inner_slot_idpos/nag_rate','inner_slot_id_user_tags_32pos/nag_rate','user_tags_10_app_cate_idpos/nag_rate','app_cate_id_user_tags_10pos/nag_rate','user_tags_23_makepos/nag_rate','make_user_tags_23pos/nag_rate','model_creative_idpos/nag_rate','creative_id_modelpos/nag_rate','user_tags_33_modelpos/nag_rate','model_user_tags_33pos/nag_rate','adid_modelpos/nag_rate','model_adidpos/nag_rate','user_tags_18_adidpos/nag_rate','adid_user_tags_18pos/nag_rate','inner_slot_id_user_tags_2pos/nag_rate','user_tags_1_inner_slot_idpos/nag_rate','user_tags_2_inner_slot_idpos/nag_rate','inner_slot_id_user_tags_1pos/nag_rate','user_tags_26_adidpos/nag_rate','adid_user_tags_26pos/nag_rate','creative_id_user_tags_32pos/nag_rate','user_tags_32_creative_idpos/nag_rate','user_tags_11_carrierpos/nag_rate','carrier_user_tags_11pos/nag_rate','inner_slot_id_nag_sample','adid_osvpos/nag_rate','osv_adidpos/nag_rate','user_tags_15_orderidpos/nag_rate','orderid_user_tags_15pos/nag_rate','user_tags_10_creative_idpos/nag_rate','creative_id_user_tags_10pos/nag_rate','inner_slot_id_nntpos/nag_rate','nnt_inner_slot_idpos/nag_rate','make_app_idpos/nag_rate','app_id_makepos/nag_rate','user_tags_25_adidpos/nag_rate','adid_user_tags_25pos/nag_rate','user_tags_29_user_tags_21pos/nag_rate','user_tags_21_user_tags_29pos/nag_rate','creative_id_osvpos/nag_rate','osv_creative_idpos/nag_rate','advert_id_user_tags_26pos/nag_rate','user_tags_26_advert_idpos/nag_rate','user_tags_9_modelpos/nag_rate','model_user_tags_9pos/nag_rate','click_creative_width_mean','click_creative_width_var','user_tags_16_inner_slot_idpos/nag_rate','inner_slot_id_user_tags_16pos/nag_rate','user_tags_19_orderidpos/nag_rate','orderid_user_tags_19pos/nag_rate','creative_id_app_idpos/nag_rate','app_id_creative_idpos/nag_rate','creative_tp_dnf_user_tags_3pos/nag_rate','user_tags_3_creative_tp_dnfpos/nag_rate','user_tags_11_adidpos/nag_rate','adid_user_tags_11pos/nag_rate','inner_slot_id_user_tags_25pos/nag_rate','user_tags_25_inner_slot_idpos/nag_rate','user_tags_10_inner_slot_idpos/nag_rate','inner_slot_id_user_tags_10pos/nag_rate','creative_has_deeplink_creative_typepos/nag_rate','creative_type_creative_has_deeplinkpos/nag_rate','user_tags_20_inner_slot_idpos/nag_rate','inner_slot_id_user_tags_20pos/nag_rate','user_tags_8_adidpos/nag_rate','adid_user_tags_7pos/nag_rate','adid_user_tags_8pos/nag_rate','user_tags_7_adidpos/nag_rate','creative_id_inner_slot_idpos/nag_rate','inner_slot_id_creative_idpos/nag_rate','user_tags_31_app_idpos/nag_rate','app_id_user_tags_31pos/nag_rate','user_tags_27_inner_slot_idpos/nag_rate','inner_slot_id_user_tags_27pos/nag_rate','creative_id_user_tags_31pos/nag_rate','user_tags_31_creative_idpos/nag_rate','app_cate_id_osvpos/nag_rate','osv_app_cate_idpos/nag_rate','user_tags_30_adidpos/nag_rate','adid_user_tags_30pos/nag_rate','app_cate_id_nntpos/nag_rate','nnt_app_cate_idpos/nag_rate','user_tags_33_creative_typepos/nag_rate','creative_type_user_tags_33pos/nag_rate','carrier_user_tags_4pos/nag_rate','user_tags_4_carrierpos/nag_rate','advert_industry_inner_split_1_creative_is_jumppos/nag_rate','advert_industry_inner_split_1_creative_is_downloadpos/nag_rate','creative_is_download_advert_industry_inner_split_1pos/nag_rate','creative_is_jump_advert_industry_inner_split_1pos/nag_rate','user_tags_31_user_tags_11pos/nag_rate','user_tags_11_user_tags_30pos/nag_rate','user_tags_30_user_tags_11pos/nag_rate','user_tags_11_user_tags_31pos/nag_rate','user_tags_31_orderidpos/nag_rate','orderid_user_tags_31pos/nag_rate','user_tags_37_user_tags_29pos/nag_rate','user_tags_29_user_tags_37pos/nag_rate','make_user_tags_30pos/nag_rate','user_tags_30_makepos/nag_rate','adid_user_tags_20pos/nag_rate','user_tags_20_adidpos/nag_rate','user_tags_35_app_cate_idpos/nag_rate','app_cate_id_user_tags_35pos/nag_rate','devtype_inner_slot_idpos/nag_rate','inner_slot_id_devtypepos/nag_rate','user_tags_27_orderidpos/nag_rate','orderid_user_tags_27pos/nag_rate','user_tags_25_campaign_idpos/nag_rate','campaign_id_user_tags_25pos/nag_rate','province_pos_sample','creative_type_app_cate_idpos/nag_rate','app_cate_id_creative_typepos/nag_rate','user_tags_32_adidpos/nag_rate','adid_user_tags_32pos/nag_rate','creative_type_app_idpos/nag_rate','app_id_creative_typepos/nag_rate','user_tags_18_orderidpos/nag_rate','orderid_user_tags_18pos/nag_rate','user_tags_15_creative_tp_dnfpos/nag_rate','creative_tp_dnf_user_tags_15pos/nag_rate','app_cate_id_user_tags_29pos/nag_rate','user_tags_29_app_cate_idpos/nag_rate','user_tags_20_user_tags_21pos/nag_rate','user_tags_21_user_tags_20pos/nag_rate','user_tags_3_creative_idpos/nag_rate','creative_id_user_tags_3pos/nag_rate','orderid_makepos/nag_rate','make_orderidpos/nag_rate','creative_type_single_last_time_sub','user_tags_29_app_idpos/nag_rate','app_id_user_tags_29pos/nag_rate','app_cate_id_user_tags_20pos/nag_rate','user_tags_20_app_cate_idpos/nag_rate','make_app_cate_idpos/nag_rate','app_cate_id_makepos/nag_rate','adid_user_tags_27pos/nag_rate','user_tags_27_adidpos/nag_rate','adid_user_tags_6pos/nag_rate','user_tags_6_adidpos/nag_rate','user_tags_25_orderidpos/nag_rate','orderid_user_tags_25pos/nag_rate','app_cate_id_user_tags_11pos/nag_rate','user_tags_11_app_cate_idpos/nag_rate','advert_industry_inner_split_0_user_tags_1pos/nag_rate','user_tags_2_advert_industry_inner_split_0pos/nag_rate','advert_industry_inner_split_0_user_tags_2pos/nag_rate','user_tags_1_advert_industry_inner_split_0pos/nag_rate','inner_slot_id_user_tags_29pos/nag_rate','user_tags_29_inner_slot_idpos/nag_rate','nnt_single_next_time_sub','user_tags_28_user_tags_26pos/nag_rate','user_tags_26_user_tags_28pos/nag_rate','user_tags_0_inner_slot_idpos/nag_rate','inner_slot_id_user_tags_0pos/nag_rate','orderid_user_tags_29pos/nag_rate','user_tags_29_orderidpos/nag_rate','make_user_tags_18pos/nag_rate','user_tags_18_makepos/nag_rate','nnt_user_tags_9pos/nag_rate','user_tags_9_nntpos/nag_rate','inner_slot_id_app_idpos/nag_rate','app_id_inner_slot_idpos/nag_rate','user_tags_32_app_cate_idpos/nag_rate','app_cate_id_user_tags_32pos/nag_rate','make_user_tags_1pos/nag_rate','user_tags_1_makepos/nag_rate','make_user_tags_2pos/nag_rate','user_tags_2_makepos/nag_rate','os_adidpos/nag_rate','adid_ospos/nag_rate','os_name_adidpos/nag_rate','adid_os_namepos/nag_rate','app_cate_id_single_next_time_sub','creative_id_user_tags_12pos/nag_rate','user_tags_12_creative_idpos/nag_rate','creative_id_user_tags_13pos/nag_rate','user_tags_14_creative_idpos/nag_rate','user_tags_13_creative_idpos/nag_rate','creative_id_user_tags_14pos/nag_rate','user_tags_28_orderidpos/nag_rate','orderid_user_tags_28pos/nag_rate','user_tags_6_citypos/nag_rate','city_user_tags_6pos/nag_rate','user_tags_4_nntpos/nag_rate','nnt_user_tags_4pos/nag_rate','user_tags_0_creative_idpos/nag_rate','creative_id_user_tags_0pos/nag_rate','user_tags_36_user_tags_4pos/nag_rate','user_tags_4_user_tags_36pos/nag_rate','user_tags_23_provincepos/nag_rate','province_user_tags_23pos/nag_rate','user_tags_9_campaign_idpos/nag_rate','campaign_id_user_tags_9pos/nag_rate','app_cate_id_user_tags_3pos/nag_rate','user_tags_3_app_cate_idpos/nag_rate','make_advert_industry_inner_split_0pos/nag_rate','advert_industry_inner_split_0_makepos/nag_rate','creative_id_user_tags_18pos/nag_rate','user_tags_18_creative_idpos/nag_rate','adid_user_tags_29pos/nag_rate','user_tags_29_adidpos/nag_rate','user_tags_25_user_tags_17pos/nag_rate','user_tags_17_user_tags_25pos/nag_rate','user_tags_21_user_tags_19pos/nag_rate','user_tags_19_user_tags_21pos/nag_rate','user_tags_21_user_tags_36pos/nag_rate','user_tags_36_user_tags_21pos/nag_rate','nnt_devtypepos/nag_rate','devtype_nntpos/nag_rate','creative_tp_dnf_app_idpos/nag_rate','app_id_creative_tp_dnfpos/nag_rate','creative_type_advert_industry_inner_split_1pos/nag_rate','advert_industry_inner_split_1_creative_typepos/nag_rate','app_cate_id_carrierpos/nag_rate','carrier_app_cate_idpos/nag_rate','inner_slot_id_user_tags_6pos/nag_rate','user_tags_6_inner_slot_idpos/nag_rate','creative_type_osvpos/nag_rate','osv_creative_typepos/nag_rate','advert_industry_inner_split_1_user_tags_11pos/nag_rate','user_tags_11_advert_industry_inner_split_1pos/nag_rate','nnt_user_tags_1pos/nag_rate','nnt_user_tags_2pos/nag_rate','user_tags_1_nntpos/nag_rate','user_tags_2_nntpos/nag_rate','user_tags_21_adidpos/nag_rate','adid_user_tags_21pos/nag_rate','user_tags_17_user_tags_26pos/nag_rate','user_tags_26_user_tags_17pos/nag_rate','creative_has_deeplink_nntpos/nag_rate','nnt_creative_has_deeplinkpos/nag_rate','nnt_user_tags_22pos/nag_rate','user_tags_22_nntpos/nag_rate','user_tags_36_creative_typepos/nag_rate','creative_type_user_tags_36pos/nag_rate','user_tags_14_orderidpos/nag_rate','user_tags_13_orderidpos/nag_rate','orderid_user_tags_14pos/nag_rate','user_tags_12_orderidpos/nag_rate','orderid_user_tags_12pos/nag_rate','orderid_user_tags_13pos/nag_rate','advert_id_user_tags_6pos/nag_rate','user_tags_6_advert_idpos/nag_rate','user_tags_15_creative_typepos/nag_rate','creative_type_user_tags_15pos/nag_rate','user_tags_33_inner_slot_idpos/nag_rate','inner_slot_id_user_tags_33pos/nag_rate','user_tags_26_makepos/nag_rate','make_user_tags_26pos/nag_rate','devtype_single_next_time_sub','user_tags_7_nntpos/nag_rate','user_tags_8_nntpos/nag_rate','nnt_user_tags_7pos/nag_rate','nnt_user_tags_8pos/nag_rate','user_tags_30_creative_idpos/nag_rate','creative_id_user_tags_30pos/nag_rate','user_tags_32_provincepos/nag_rate','province_user_tags_32pos/nag_rate','advert_industry_inner_split_0_single_last_time_sub','user_tags_33_app_cate_idpos/nag_rate','app_cate_id_user_tags_33pos/nag_rate','adid_nntpos/nag_rate','nnt_adidpos/nag_rate','creative_type_user_tags_6pos/nag_rate','user_tags_6_creative_typepos/nag_rate','inner_slot_id_ospos/nag_rate','os_name_inner_slot_idpos/nag_rate','inner_slot_id_os_namepos/nag_rate','os_inner_slot_idpos/nag_rate','user_tags_26_nntpos/nag_rate','nnt_user_tags_26pos/nag_rate','user_tags_21_nntpos/nag_rate','nnt_user_tags_21pos/nag_rate','user_tags_21_app_idpos/nag_rate','app_id_user_tags_21pos/nag_rate','carrier_devtypepos/nag_rate','devtype_carrierpos/nag_rate','user_tags_19_makepos/nag_rate','make_user_tags_19pos/nag_rate','devtype_adidpos/nag_rate','adid_devtypepos/nag_rate','devtype_user_tags_37pos/nag_rate','user_tags_37_devtypepos/nag_rate','creative_id_user_tags_34pos/nag_rate','user_tags_34_creative_idpos/nag_rate','province_user_tags_29pos/nag_rate','user_tags_29_provincepos/nag_rate','user_tags_32_user_tags_18pos/nag_rate','user_tags_18_user_tags_32pos/nag_rate','user_tags_36_adidpos/nag_rate','adid_user_tags_36pos/nag_rate','carrier_user_tags_7pos/nag_rate','user_tags_8_carrierpos/nag_rate','carrier_user_tags_8pos/nag_rate','user_tags_7_carrierpos/nag_rate','orderid_creative_typepos/nag_rate','creative_type_orderidpos/nag_rate','nnt_user_tags_20pos/nag_rate','user_tags_20_nntpos/nag_rate','user_tags_28_creative_idpos/nag_rate','creative_id_user_tags_28pos/nag_rate','osv_carrierpos/nag_rate','carrier_osvpos/nag_rate','user_tags_27_user_tags_11pos/nag_rate','user_tags_11_user_tags_27pos/nag_rate','user_tags_26_user_tags_18pos/nag_rate','user_tags_18_user_tags_26pos/nag_rate','user_tags_31_user_tags_1pos/nag_rate','user_tags_1_user_tags_30pos/nag_rate','user_tags_2_user_tags_31pos/nag_rate','user_tags_2_user_tags_30pos/nag_rate','user_tags_30_user_tags_1pos/nag_rate','user_tags_30_user_tags_2pos/nag_rate','user_tags_31_user_tags_2pos/nag_rate','user_tags_1_user_tags_31pos/nag_rate','user_tags_17_campaign_idpos/nag_rate','campaign_id_user_tags_17pos/nag_rate','osv_user_tags_13pos/nag_rate','user_tags_14_osvpos/nag_rate','osv_user_tags_14pos/nag_rate','user_tags_12_osvpos/nag_rate','osv_user_tags_12pos/nag_rate','user_tags_13_osvpos/nag_rate','user_tags_22_user_tags_19pos/nag_rate','user_tags_19_user_tags_22pos/nag_rate','app_cate_id_user_tags_28pos/nag_rate','user_tags_28_app_cate_idpos/nag_rate','advert_name_app_cate_idpos/nag_rate','app_cate_id_advert_namepos/nag_rate','creative_is_voicead_nntpos/nag_rate','nnt_creative_is_jspos/nag_rate','nnt_app_paidpos/nag_rate','creative_is_js_nntpos/nag_rate','nntpos/nag_rate','nnt_creative_is_voiceadpos/nag_rate','app_paid_nntpos/nag_rate','orderid_user_tags_23pos/nag_rate','user_tags_23_orderidpos/nag_rate','creative_type_advert_industry_inner_split_0pos/nag_rate','advert_industry_inner_split_0_creative_typepos/nag_rate','user_tags_5_nntpos/nag_rate','nnt_user_tags_5pos/nag_rate','inner_slot_id_single_next_time_sub','user_tags_4_user_tags_31pos/nag_rate','user_tags_4_user_tags_30pos/nag_rate','user_tags_31_user_tags_4pos/nag_rate','user_tags_30_user_tags_4pos/nag_rate','user_tags_12_user_tags_3pos/nag_rate','user_tags_14_user_tags_3pos/nag_rate','user_tags_3_user_tags_14pos/nag_rate','user_tags_3_user_tags_13pos/nag_rate','user_tags_3_user_tags_12pos/nag_rate','user_tags_13_user_tags_3pos/nag_rate','user_tags_26_creative_idpos/nag_rate','creative_id_user_tags_26pos/nag_rate','advert_id_user_tags_10pos/nag_rate','user_tags_10_advert_idpos/nag_rate','user_tags_10_orderidpos/nag_rate','orderid_user_tags_10pos/nag_rate','user_tags_23_app_idpos/nag_rate','app_id_user_tags_23pos/nag_rate','user_tags_10_user_tags_25pos/nag_rate','user_tags_25_user_tags_10pos/nag_rate','user_tags_3_makepos/nag_rate','make_user_tags_3pos/nag_rate','user_tags_17_user_tags_20pos/nag_rate','user_tags_20_user_tags_17pos/nag_rate','make_adidpos/nag_rate','adid_makepos/nag_rate','user_tags_11_inner_slot_idpos/nag_rate','inner_slot_id_user_tags_11pos/nag_rate','user_tags_11_user_tags_16pos/nag_rate','user_tags_16_user_tags_11pos/nag_rate','campaign_id_user_tags_15pos/nag_rate','user_tags_15_campaign_idpos/nag_rate','user_tags_36_app_idpos/nag_rate','app_id_user_tags_36pos/nag_rate','user_tags_17_user_tags_9pos/nag_rate','user_tags_9_user_tags_17pos/nag_rate','user_tags_24_user_tags_6pos/nag_rate','user_tags_6_user_tags_24pos/nag_rate','user_tags_21_user_tags_6pos/nag_rate','user_tags_6_user_tags_21pos/nag_rate','adid_user_tags_0pos/nag_rate','user_tags_0_adidpos/nag_rate','user_tags_17_user_tags_16pos/nag_rate','user_tags_16_user_tags_17pos/nag_rate','user_tags_22_user_tags_4pos/nag_rate','user_tags_4_user_tags_22pos/nag_rate','user_tags_12_user_tags_22pos/nag_rate','user_tags_22_user_tags_12pos/nag_rate','user_tags_22_user_tags_13pos/nag_rate','user_tags_22_user_tags_14pos/nag_rate','user_tags_14_user_tags_22pos/nag_rate','user_tags_13_user_tags_22pos/nag_rate','user_tags_27_user_tags_5pos/nag_rate','user_tags_5_user_tags_27pos/nag_rate','app_cate_id_user_tags_19pos/nag_rate','user_tags_19_app_cate_idpos/nag_rate','inner_slot_id_user_tags_7pos/nag_rate','user_tags_7_inner_slot_idpos/nag_rate','user_tags_8_inner_slot_idpos/nag_rate','inner_slot_id_user_tags_8pos/nag_rate','campaign_id_user_tags_13pos/nag_rate','campaign_id_user_tags_14pos/nag_rate','user_tags_12_campaign_idpos/nag_rate','user_tags_14_campaign_idpos/nag_rate','campaign_id_user_tags_12pos/nag_rate','user_tags_13_campaign_idpos/nag_rate','user_tags_11_creative_typepos/nag_rate','creative_type_user_tags_11pos/nag_rate','user_tags_5_advert_namepos/nag_rate','advert_name_user_tags_5pos/nag_rate','os_name_user_tags_5pos/nag_rate','user_tags_5_os_namepos/nag_rate','os_user_tags_5pos/nag_rate','user_tags_5_ospos/nag_rate','user_tags_31_carrierpos/nag_rate','carrier_user_tags_31pos/nag_rate','creative_has_deeplink_inner_slot_idpos/nag_rate','inner_slot_id_creative_has_deeplinkpos/nag_rate','user_tags_24_adidpos/nag_rate','adid_user_tags_24pos/nag_rate','osv_campaign_idpos/nag_rate','campaign_id_osvpos/nag_rate','user_tags_17_user_tags_18pos/nag_rate','user_tags_18_user_tags_17pos/nag_rate','osv_creative_is_downloadpos/nag_rate','osv_creative_is_jumppos/nag_rate','creative_is_jump_osvpos/nag_rate','creative_is_download_osvpos/nag_rate','osv_user_tags_7pos/nag_rate','user_tags_7_osvpos/nag_rate','osv_user_tags_8pos/nag_rate','user_tags_8_osvpos/nag_rate','user_tags_31_app_cate_idpos/nag_rate','app_cate_id_user_tags_31pos/nag_rate','user_tags_30_app_cate_idpos/nag_rate','app_cate_id_user_tags_30pos/nag_rate','city_user_tags_20pos/nag_rate','user_tags_20_citypos/nag_rate','user_tags_36_advert_industry_inner_split_1pos/nag_rate','advert_industry_inner_split_1_user_tags_36pos/nag_rate','user_tags_3_user_tags_15pos/nag_rate','user_tags_15_user_tags_3pos/nag_rate','user_tags_9_os_namepos/nag_rate','os_name_user_tags_9pos/nag_rate','os_user_tags_9pos/nag_rate','user_tags_9_ospos/nag_rate','os_name_user_tags_3pos/nag_rate','user_tags_3_os_namepos/nag_rate','os_user_tags_3pos/nag_rate','user_tags_3_ospos/nag_rate','user_tags_33_user_tags_28pos/nag_rate','user_tags_28_user_tags_33pos/nag_rate','make_nag_sample','app_cate_id_user_tags_27pos/nag_rate','user_tags_27_app_cate_idpos/nag_rate','user_tags_21_user_tags_9pos/nag_rate','user_tags_9_user_tags_21pos/nag_rate','user_tags_34_user_tags_30pos/nag_rate','user_tags_30_user_tags_34pos/nag_rate','user_tags_31_user_tags_34pos/nag_rate','user_tags_34_user_tags_31pos/nag_rate','nnt_user_tags_24pos/nag_rate','user_tags_24_nntpos/nag_rate','city_user_tags_34pos/nag_rate','user_tags_34_citypos/nag_rate','app_id_creative_is_jumppos/nag_rate','creative_is_jump_app_idpos/nag_rate','creative_is_download_app_idpos/nag_rate','app_id_creative_is_downloadpos/nag_rate','user_tags_24_user_tags_34pos/nag_rate','user_tags_34_user_tags_24pos/nag_rate','user_tags_35_user_tags_22pos/nag_rate','user_tags_22_user_tags_35pos/nag_rate','user_tags_6_user_tags_29pos/nag_rate','user_tags_29_user_tags_6pos/nag_rate','user_tags_34_advert_namepos/nag_rate','advert_name_user_tags_34pos/nag_rate','advert_id_user_tags_21pos/nag_rate','user_tags_21_advert_idpos/nag_rate','creative_id_user_tags_22pos/nag_rate','user_tags_22_creative_idpos/nag_rate','devtype_app_cate_idpos/nag_rate','app_cate_id_devtypepos/nag_rate','user_tags_11_user_tags_32pos/nag_rate','user_tags_32_user_tags_11pos/nag_rate','app_id_adidpos/nag_rate','adid_app_idpos/nag_rate','advert_name_carrierpos/nag_rate','carrier_advert_namepos/nag_rate','user_tags_36_user_tags_19pos/nag_rate','user_tags_19_user_tags_36pos/nag_rate','app_id_user_tags_24pos/nag_rate','user_tags_24_app_idpos/nag_rate','make_nntpos/nag_rate','nnt_makepos/nag_rate','user_tags_28_inner_slot_idpos/nag_rate','inner_slot_id_user_tags_28pos/nag_rate','inner_slot_id_user_tags_23pos/nag_rate','user_tags_23_inner_slot_idpos/nag_rate','adid_user_tags_28pos/nag_rate','user_tags_28_adidpos/nag_rate','user_tags_30_user_tags_10pos/nag_rate','user_tags_10_user_tags_30pos/nag_rate','advert_id_os_namepos/nag_rate','os_advert_idpos/nag_rate','advert_id_ospos/nag_rate','os_name_advert_idpos/nag_rate','app_cate_id_creative_is_downloadpos/nag_rate','creative_is_jump_app_cate_idpos/nag_rate','app_cate_id_creative_is_jumppos/nag_rate','creative_is_download_app_cate_idpos/nag_rate','adid_user_tags_1pos/nag_rate','adid_user_tags_2pos/nag_rate','user_tags_1_adidpos/nag_rate','user_tags_2_adidpos/nag_rate','inner_slot_id_single_last_time_sub','adid_user_tags_31pos/nag_rate','user_tags_31_adidpos/nag_rate','carrier_user_tags_9pos/nag_rate','user_tags_9_carrierpos/nag_rate','user_tags_27_user_tags_36pos/nag_rate','user_tags_36_user_tags_27pos/nag_rate','user_tags_24_user_tags_9pos/nag_rate','user_tags_9_user_tags_24pos/nag_rate','osv_creative_tp_dnfpos/nag_rate','creative_tp_dnf_osvpos/nag_rate','creative_has_deeplink_provincepos/nag_rate','province_creative_has_deeplinkpos/nag_rate','user_tags_34_campaign_idpos/nag_rate','campaign_id_user_tags_34pos/nag_rate','user_tags_25_ospos/nag_rate','os_user_tags_25pos/nag_rate','user_tags_25_os_namepos/nag_rate','os_name_user_tags_25pos/nag_rate','user_tags_6_nntpos/nag_rate','nnt_user_tags_6pos/nag_rate','user_tags_30_user_tags_15pos/nag_rate','user_tags_15_user_tags_30pos/nag_rate','user_tags_31_user_tags_15pos/nag_rate','user_tags_15_user_tags_31pos/nag_rate','user_tags_2_user_tags_29pos/nag_rate','user_tags_1_user_tags_29pos/nag_rate','user_tags_29_user_tags_2pos/nag_rate','user_tags_29_user_tags_1pos/nag_rate','user_tags_9_inner_slot_idpos/nag_rate','inner_slot_id_user_tags_9pos/nag_rate']\n",
    "len(good_fea)\n",
    "\n",
    "cate_col = bool_col + zip_col\n",
    "full_col = list(tmp.columns)\n",
    "use_col = list(set(tmp.columns) - {'instance_id', 'time', 'click'})"
   ]
  },
  {
   "cell_type": "code",
   "execution_count": 3,
   "metadata": {
    "scrolled": true
   },
   "outputs": [
    {
     "data": {
      "text/plain": [
       "(308512, 858)"
      ]
     },
     "execution_count": 3,
     "metadata": {},
     "output_type": "execute_result"
    },
    {
     "data": {
      "text/plain": [
       "(40024, 858)"
      ]
     },
     "execution_count": 3,
     "metadata": {},
     "output_type": "execute_result"
    }
   ],
   "source": [
    "# train = pd.read_csv('./feature/feature_nonoise/full_feature_train.csv', usecols=full_col+good_fea)\n",
    "# test = pd.read_csv('./feature/feature_nonoise/full_feature_test.csv', usecols=full_col+good_fea)\n",
    "\n",
    "# train.shape\n",
    "# test.shape"
   ]
  },
  {
   "cell_type": "code",
   "execution_count": null,
   "metadata": {},
   "outputs": [],
   "source": [
    "df = pd.read_csv('./feature/feature_nonoise/full_feature.csv', usecols=full_col+good_fea)\n",
    "\n",
    "df.shape"
   ]
  },
  {
   "cell_type": "code",
   "execution_count": null,
   "metadata": {},
   "outputs": [],
   "source": [
    "import lightgbm as lgb\n",
    "from sklearn.model_selection import train_test_split"
   ]
  },
  {
   "cell_type": "markdown",
   "metadata": {},
   "source": [
    "## 随机划分，不一致"
   ]
  },
  {
   "cell_type": "code",
   "execution_count": 5,
   "metadata": {},
   "outputs": [
    {
     "data": {
      "text/plain": [
       "(246809, 858)"
      ]
     },
     "execution_count": 5,
     "metadata": {},
     "output_type": "execute_result"
    },
    {
     "data": {
      "text/plain": [
       "(61703, 858)"
      ]
     },
     "execution_count": 5,
     "metadata": {},
     "output_type": "execute_result"
    }
   ],
   "source": [
    "X_train, X_val, y_train, y_val = train_test_split(train, train.click, test_size=0.2, random_state=2018)\n",
    "\n",
    "X_train.shape\n",
    "X_val.shape"
   ]
  },
  {
   "cell_type": "code",
   "execution_count": 13,
   "metadata": {
    "collapsed": true
   },
   "outputs": [
    {
     "name": "stdout",
     "output_type": "stream",
     "text": [
      "0 0.41584043975052454\n",
      "1 0.41565268938066946\n",
      "2 0.41565178757254084\n",
      "3 0.41566122282837464\n",
      "4 0.41558752918846315\n",
      "5 0.4157292344850518\n",
      "6 0.41565334150457045\n",
      "7 0.4155983918954125\n",
      "8 0.41565949241975353\n",
      "9 0.41551244535007564\n",
      "10 0.41558192408281885\n",
      "11 0.4156339420068518\n",
      "12 0.4157007839144168\n",
      "13 0.4156781142370399\n",
      "14 0.4156434045186464\n",
      "15 0.4156337662434052\n",
      "16 0.4154851406062387\n",
      "17 0.41550359920436875\n",
      "18 0.41550188053149884\n",
      "19 0.41545803592242725\n",
      "20 0.4154940761582814\n",
      "21 0.4154230550760291\n",
      "22 0.4155908940457068\n",
      "23 0.4155074847273492\n",
      "24 0.41546068529750346\n",
      "25 0.41559840277791016\n",
      "26 0.4155297644069765\n",
      "27 0.415476734192187\n",
      "28 0.415420272438133\n",
      "29 0.41555344574697634\n",
      "30 0.41557353481257253\n",
      "31 0.4156083240835058\n",
      "32 0.4155108027349359\n",
      "33 0.41555829259558735\n",
      "34 0.41546289333573266\n",
      "35 0.415503987405662\n",
      "36 0.41546715852317917\n",
      "37 0.4154533881491833\n",
      "38 0.41543020925221535\n",
      "39 0.4155277467273772\n",
      "40 0.4155566227491832\n",
      "41 0.41546898908600277\n",
      "42 0.4154296702716307\n",
      "43 0.41541241752961705\n",
      "44 0.41554576882348493\n",
      "45 0.415521383687905\n",
      "46 0.41544087403511604\n",
      "47 0.4155137291585402\n",
      "48 0.41535083935250555\n",
      "49 0.4154253408568113\n",
      "50 0.4154026732502869\n",
      "51 0.4154994040130628\n",
      "52 0.41543798301546997\n",
      "53 0.41540883672938067\n"
     ]
    },
    {
     "ename": "KeyboardInterrupt",
     "evalue": "",
     "output_type": "error",
     "traceback": [
      "\u001b[1;31m---------------------------------------------------------------------------\u001b[0m",
      "\u001b[1;31mKeyboardInterrupt\u001b[0m                         Traceback (most recent call last)",
      "\u001b[1;32m<ipython-input-13-3b372aaddef1>\u001b[0m in \u001b[0;36m<module>\u001b[1;34m()\u001b[0m\n\u001b[0;32m     19\u001b[0m \u001b[1;33m\u001b[0m\u001b[0m\n\u001b[0;32m     20\u001b[0m     bst = lgb.train(cv_params, train_data, early_stopping_rounds=100, verbose_eval=0, valid_sets=[train_data, val_data], \n\u001b[1;32m---> 21\u001b[1;33m                     valid_names=['train', 'val'], num_boost_round=10000)\n\u001b[0m\u001b[0;32m     22\u001b[0m     \u001b[0mprint\u001b[0m\u001b[1;33m(\u001b[0m\u001b[0mi\u001b[0m\u001b[1;33m,\u001b[0m \u001b[0mbst\u001b[0m\u001b[1;33m.\u001b[0m\u001b[0mbest_score\u001b[0m\u001b[1;33m[\u001b[0m\u001b[1;34m'val'\u001b[0m\u001b[1;33m]\u001b[0m\u001b[1;33m[\u001b[0m\u001b[1;34m'binary_logloss'\u001b[0m\u001b[1;33m]\u001b[0m\u001b[1;33m)\u001b[0m\u001b[1;33m\u001b[0m\u001b[0m\n",
      "\u001b[1;32m~\\Anaconda3\\lib\\site-packages\\lightgbm\\engine.py\u001b[0m in \u001b[0;36mtrain\u001b[1;34m(params, train_set, num_boost_round, valid_sets, valid_names, fobj, feval, init_model, feature_name, categorical_feature, early_stopping_rounds, evals_result, verbose_eval, learning_rates, keep_training_booster, callbacks)\u001b[0m\n\u001b[0;32m    199\u001b[0m                                     evaluation_result_list=None))\n\u001b[0;32m    200\u001b[0m \u001b[1;33m\u001b[0m\u001b[0m\n\u001b[1;32m--> 201\u001b[1;33m         \u001b[0mbooster\u001b[0m\u001b[1;33m.\u001b[0m\u001b[0mupdate\u001b[0m\u001b[1;33m(\u001b[0m\u001b[0mfobj\u001b[0m\u001b[1;33m=\u001b[0m\u001b[0mfobj\u001b[0m\u001b[1;33m)\u001b[0m\u001b[1;33m\u001b[0m\u001b[0m\n\u001b[0m\u001b[0;32m    202\u001b[0m \u001b[1;33m\u001b[0m\u001b[0m\n\u001b[0;32m    203\u001b[0m         \u001b[0mevaluation_result_list\u001b[0m \u001b[1;33m=\u001b[0m \u001b[1;33m[\u001b[0m\u001b[1;33m]\u001b[0m\u001b[1;33m\u001b[0m\u001b[0m\n",
      "\u001b[1;32m~\\Anaconda3\\lib\\site-packages\\lightgbm\\basic.py\u001b[0m in \u001b[0;36mupdate\u001b[1;34m(self, train_set, fobj)\u001b[0m\n\u001b[0;32m   1519\u001b[0m             _safe_call(_LIB.LGBM_BoosterUpdateOneIter(\n\u001b[0;32m   1520\u001b[0m                 \u001b[0mself\u001b[0m\u001b[1;33m.\u001b[0m\u001b[0mhandle\u001b[0m\u001b[1;33m,\u001b[0m\u001b[1;33m\u001b[0m\u001b[0m\n\u001b[1;32m-> 1521\u001b[1;33m                 ctypes.byref(is_finished)))\n\u001b[0m\u001b[0;32m   1522\u001b[0m             \u001b[0mself\u001b[0m\u001b[1;33m.\u001b[0m\u001b[0m__is_predicted_cur_iter\u001b[0m \u001b[1;33m=\u001b[0m \u001b[1;33m[\u001b[0m\u001b[1;32mFalse\u001b[0m \u001b[1;32mfor\u001b[0m \u001b[0m_\u001b[0m \u001b[1;32min\u001b[0m \u001b[0mrange_\u001b[0m\u001b[1;33m(\u001b[0m\u001b[0mself\u001b[0m\u001b[1;33m.\u001b[0m\u001b[0m__num_dataset\u001b[0m\u001b[1;33m)\u001b[0m\u001b[1;33m]\u001b[0m\u001b[1;33m\u001b[0m\u001b[0m\n\u001b[0;32m   1523\u001b[0m             \u001b[1;32mreturn\u001b[0m \u001b[0mis_finished\u001b[0m\u001b[1;33m.\u001b[0m\u001b[0mvalue\u001b[0m \u001b[1;33m==\u001b[0m \u001b[1;36m1\u001b[0m\u001b[1;33m\u001b[0m\u001b[0m\n",
      "\u001b[1;31mKeyboardInterrupt\u001b[0m: "
     ]
    }
   ],
   "source": [
    "for i in range(79):\n",
    "    tmp_col = use_col + good_fea[:(i+1)*10]\n",
    "    train_data = lgb.Dataset(X_train[tmp_col], label=X_train['click'], categorical_feature=cate_col)\n",
    "    val_data = lgb.Dataset(X_val[tmp_col], label=X_val['click'], categorical_feature=cate_col)\n",
    "    \n",
    "    cv_params =  {\n",
    "            'objective': 'binary',\n",
    "            'metric': 'binary_logloss',\n",
    "            'min_data_in_leaf': 30,\n",
    "            'num_leaves': 15,\n",
    "            'max_depth': 5,\n",
    "            'learning_rate': 0.05,\n",
    "            'feature_fraction': 0.8,\n",
    "            'bagging_fraction': 0.8,\n",
    "            'lambda_l1': 0.2,\n",
    "            'lambda_l2': 0.2,\n",
    "            'seed': 2018\n",
    "            }\n",
    "    \n",
    "    bst = lgb.train(cv_params, train_data, early_stopping_rounds=100, verbose_eval=0, valid_sets=[train_data, val_data], \n",
    "                    valid_names=['train', 'val'], num_boost_round=10000)\n",
    "    print(i, bst.best_score['val']['binary_logloss'])"
   ]
  },
  {
   "cell_type": "code",
   "execution_count": 10,
   "metadata": {
    "scrolled": true
   },
   "outputs": [
    {
     "data": {
      "application/vnd.jupyter.widget-view+json": {
       "model_id": "b4738a5218774d63bfdc39de5be56b9a",
       "version_major": 2,
       "version_minor": 0
      },
      "text/plain": [
       "A Jupyter Widget"
      ]
     },
     "metadata": {},
     "output_type": "display_data"
    },
    {
     "name": "stdout",
     "output_type": "stream",
     "text": [
      "\n"
     ]
    }
   ],
   "source": [
    "tmp_col = use_col.copy()\n",
    "pre_score = 0\n",
    "best_score = 1\n",
    "best_fea = []\n",
    "\n",
    "for i in tqdm_notebook(good_fea):\n",
    "    tmp_col.append(i)\n",
    "    train_data = lgb.Dataset(X_train[tmp_col], label=X_train['click'], categorical_feature=cate_col)\n",
    "    val_data = lgb.Dataset(X_val[tmp_col], label=X_val['click'], categorical_feature=cate_col)\n",
    "    \n",
    "    cv_params =  {\n",
    "            'objective': 'binary',\n",
    "            'metric': 'binary_logloss',\n",
    "            'min_data_in_leaf': 30,\n",
    "            'num_leaves': 15,\n",
    "            'max_depth': 5,\n",
    "            'learning_rate': 0.05,\n",
    "            'feature_fraction': 0.8,\n",
    "            'bagging_fraction': 0.8,\n",
    "            'lambda_l1': 0.2,\n",
    "            'lambda_l2': 0.2,\n",
    "            'seed': 2018\n",
    "            }\n",
    "    \n",
    "    bst = lgb.train(cv_params, train_data, early_stopping_rounds=100, verbose_eval=0, valid_sets=[train_data, val_data], \n",
    "                    valid_names=['train', 'val'], num_boost_round=10000)\n",
    "    if best_score > bst.best_score['val']['binary_logloss']:\n",
    "        best_fea.append(i)\n",
    "        best_score = bst.best_score['val']['binary_logloss']\n",
    "    else:\n",
    "        tmp_col.remove(i)\n",
    "    pre_score = bst.best_score['val']['binary_logloss']"
   ]
  },
  {
   "cell_type": "markdown",
   "metadata": {},
   "source": [
    "## cv"
   ]
  },
  {
   "cell_type": "code",
   "execution_count": null,
   "metadata": {},
   "outputs": [],
   "source": [
    "cv_params =  {\n",
    "    'objective': 'binary',\n",
    "    'metric': 'binary_logloss',\n",
    "    'min_data_in_leaf': 30,\n",
    "    'num_leaves': 15,\n",
    "    'max_depth': 5,\n",
    "    'learning_rate': 0.05,\n",
    "    'feature_fraction': 0.8,\n",
    "    'bagging_fraction': 0.8,\n",
    "    'lambda_l1': 0.2,\n",
    "    'lambda_l2': 0.2,\n",
    "    'seed': 2018\n",
    "    }\n",
    "    \n",
    "train_data = lgb.Dataset(df[df.click != -1][use_col], label=df[df.click != -1]['click'], categorical_feature=cate_col)\n",
    "bst = lgb.train(cv_params, train_data, nfold=3, early_stopping_rounds=100, verbose_eval=100, num_boost_round=10000)"
   ]
  },
  {
   "cell_type": "code",
   "execution_count": null,
   "metadata": {},
   "outputs": [],
   "source": [
    "tmp_col = use_col.copy()\n",
    "pre_score = 0\n",
    "best_score = 1\n",
    "best_fea = []\n",
    "\n",
    "\n",
    "for i in tqdm_notebook(good_fea):\n",
    "    tmp_col.append(i)\n",
    "    train_data = lgb.Dataset(df[df.click != -1][tmp_col], label=df[df.click != -1]['click'], categorical_feature=cate_col)\n",
    "    \n",
    "    bst = lgb.train(cv_params, train_data, nfold=3, early_stopping_rounds=100, verbose_eval=100, num_boost_round=10000)\n",
    "    if best_score > bst.best_score['val']['binary_logloss']:\n",
    "        best_fea.append(i)\n",
    "        best_score = bst.best_score['val']['binary_logloss']\n",
    "    else:\n",
    "        tmp_col.remove(i)\n",
    "    pre_score = bst.best_score['val']['binary_logloss']"
   ]
  },
  {
   "cell_type": "markdown",
   "metadata": {},
   "source": [
    "## 6.1训练，6.2验证"
   ]
  },
  {
   "cell_type": "code",
   "execution_count": null,
   "metadata": {},
   "outputs": [],
   "source": []
  },
  {
   "cell_type": "code",
   "execution_count": null,
   "metadata": {},
   "outputs": [],
   "source": []
  },
  {
   "cell_type": "code",
   "execution_count": 9,
   "metadata": {},
   "outputs": [
    {
     "name": "stdout",
     "output_type": "stream",
     "text": [
      "169 0.4156691979590625\n"
     ]
    }
   ],
   "source": [
    "tmp_col = use_col + best_fea\n",
    "train_data = lgb.Dataset(X_train[tmp_col], label=X_train['click'], categorical_feature=cate_col)\n",
    "val_data = lgb.Dataset(X_val[tmp_col], label=X_val['click'], categorical_feature=cate_col)\n",
    "\n",
    "cv_params =  {\n",
    "        'objective': 'binary',\n",
    "        'metric': 'binary_logloss',\n",
    "        'min_data_in_leaf': 30,\n",
    "        'num_leaves': 15,\n",
    "        'max_depth': 5,\n",
    "        'learning_rate': 0.05,\n",
    "        'feature_fraction': 0.8,\n",
    "        'bagging_fraction': 0.8,\n",
    "        'lambda_l1': 0.2,\n",
    "        'lambda_l2': 0.2,\n",
    "        'seed': 2018\n",
    "        }\n",
    "\n",
    "bst = lgb.train(cv_params, train_data, early_stopping_rounds=100, verbose_eval=0, valid_sets=[train_data, val_data], \n",
    "                valid_names=['train', 'val'], num_boost_round=10000)\n",
    "print(bst.best_iteration, bst.best_score['val']['binary_logloss'])"
   ]
  },
  {
   "cell_type": "code",
   "execution_count": 17,
   "metadata": {
    "collapsed": true
   },
   "outputs": [
    {
     "data": {
      "text/plain": [
       "[('model', 563),\n",
       " ('city', 421),\n",
       " ('adid', 179),\n",
       " ('creative_id_creative_is_voiceadpos/nag_rate', 124),\n",
       " ('orderid', 112),\n",
       " ('user_tags_25_inner_slot_idpos/nag_rate', 99),\n",
       " ('app_cate_id_advert_idpos/nag_rate', 89),\n",
       " ('orderid_osvpos/nag_rate', 86),\n",
       " ('make_inner_slot_idpos/nag_rate', 68),\n",
       " ('app_id_user_tags_31pos/nag_rate', 64),\n",
       " ('inner_slot_id', 61),\n",
       " ('creative_id', 54),\n",
       " ('province', 54),\n",
       " ('osv_inner_slot_idpos/nag_rate', 54),\n",
       " ('user_tags_30_inner_slot_idpos/nag_rate', 53),\n",
       " ('model_creative_typepos/nag_rate', 52),\n",
       " ('inner_slot_id_user_tags_31pos/nag_rate', 50),\n",
       " ('model_inner_slot_idpos/nag_rate', 46),\n",
       " ('adid_modelpos/nag_rate', 46),\n",
       " ('inner_slot_id_user_tags_18pos/nag_rate', 45),\n",
       " ('creative_id_user_tags_8pos/nag_rate', 44),\n",
       " ('app_cate_id_modelpos/nag_rate', 43),\n",
       " ('osv', 36),\n",
       " ('osv_app_idpos/nag_rate', 36),\n",
       " ('make', 35),\n",
       " ('model_creative_idpos/nag_rate', 33),\n",
       " ('advert_industry_inner_split_0_modelpos/nag_rate', 32),\n",
       " ('creative_tp_dnf_modelpos/nag_rate', 30),\n",
       " ('osv_modelpos/nag_rate', 29),\n",
       " ('advert_name_modelpos/nag_rate', 28),\n",
       " ('creative_id_app_paidpos/nag_rate', 28),\n",
       " ('app_id_modelpos/nag_rate', 25),\n",
       " ('nnt_modelpos/nag_rate', 23),\n",
       " ('user_tags_17_makepos/nag_rate', 23),\n",
       " ('orderid_modelpos/nag_rate', 22),\n",
       " ('make_modelpos/nag_rate', 18),\n",
       " ('campaign_id', 17),\n",
       " ('app_id', 17),\n",
       " ('carrier_makepos/nag_rate', 17),\n",
       " ('user_tags_9_modelpos/nag_rate', 15),\n",
       " ('advert_id_app_cate_idpos/nag_rate', 15),\n",
       " ('model_creative_is_downloadpos/nag_rate', 14),\n",
       " ('osv_orderidpos/nag_rate', 14),\n",
       " ('inner_slot_id_user_tags_25pos/nag_rate', 14),\n",
       " ('advert_industry_inner_split_1_modelpos/nag_rate', 13),\n",
       " ('inner_slot_id_makepos/nag_rate', 13),\n",
       " ('user_tags_30_user_tags_15pos/nag_rate', 13),\n",
       " ('model_advert_namepos/nag_rate', 12),\n",
       " ('model_user_tags_36pos/nag_rate', 12),\n",
       " ('inner_slot_id_modelpos/nag_rate', 11),\n",
       " ('model_campaign_idpos/nag_rate', 11),\n",
       " ('model_user_tags_23pos/nag_rate', 11),\n",
       " ('creative_id_user_tags_7pos/nag_rate', 11),\n",
       " ('model_user_tags_15pos/nag_rate', 10),\n",
       " ('user_tags_19', 9),\n",
       " ('model_app_idpos/nag_rate', 9),\n",
       " ('inner_slot_id_osvpos/nag_rate', 9),\n",
       " ('user_tags_0_modelpos/nag_rate', 9),\n",
       " ('advert_id_modelpos/nag_rate', 9),\n",
       " ('creative_width', 8),\n",
       " ('inner_slot_id_user_tags_30pos/nag_rate', 8),\n",
       " ('model_advert_industry_inner_split_0pos/nag_rate', 7),\n",
       " ('user_tags_31_inner_slot_idpos/nag_rate', 7),\n",
       " ('user_tags_32_modelpos/nag_rate', 7),\n",
       " ('model_adidpos/nag_rate', 7),\n",
       " ('model_nntpos/nag_rate', 7),\n",
       " ('user_tags_22', 6),\n",
       " ('model_advert_industry_inner_split_1pos/nag_rate', 6),\n",
       " ('model_orderidpos/nag_rate', 6),\n",
       " ('user_tags_18_inner_slot_idpos/nag_rate', 6),\n",
       " ('user_tags_31_app_idpos/nag_rate', 6),\n",
       " ('advert_name', 5),\n",
       " ('model_creative_tp_dnfpos/nag_rate', 5),\n",
       " ('user_tags_31_modelpos/nag_rate', 5),\n",
       " ('user_tags_17_modelpos/nag_rate', 5),\n",
       " ('model_user_tags_6pos/nag_rate', 5),\n",
       " ('user_tags_18_modelpos/nag_rate', 5),\n",
       " ('model_user_tags_11pos/nag_rate', 5),\n",
       " ('user_tags_37_modelpos/nag_rate', 5),\n",
       " ('user_tags_4_modelpos/nag_rate', 5),\n",
       " ('user_tags_33_modelpos/nag_rate', 5),\n",
       " ('model_user_tags_22pos/nag_rate', 5),\n",
       " ('user_tags_31_user_tags_15pos/nag_rate', 5),\n",
       " ('make_user_tags_17pos/nag_rate', 5),\n",
       " ('creative_type_modelpos/nag_rate', 4),\n",
       " ('model_osvpos/nag_rate', 4),\n",
       " ('devtype_modelpos/nag_rate', 4),\n",
       " ('user_tags_16_modelpos/nag_rate', 4),\n",
       " ('model_user_tags_27pos/nag_rate', 4),\n",
       " ('model_user_tags_29pos/nag_rate', 4),\n",
       " ('user_tags_26', 3),\n",
       " ('model_app_cate_idpos/nag_rate', 3),\n",
       " ('user_tags_14_modelpos/nag_rate', 3),\n",
       " ('user_tags_5_modelpos/nag_rate', 3),\n",
       " ('user_tags_24_modelpos/nag_rate', 3),\n",
       " ('creative_id_modelpos/nag_rate', 3),\n",
       " ('user_tags_35_modelpos/nag_rate', 3),\n",
       " ('user_tags_20_modelpos/nag_rate', 3),\n",
       " ('creative_idpos/nag_rate', 3),\n",
       " ('user_tags_36_modelpos/nag_rate', 3),\n",
       " ('make_carrierpos/nag_rate', 3),\n",
       " ('advert_industry_inner_split_1', 2),\n",
       " ('user_tags_24', 2),\n",
       " ('user_tags_25', 2),\n",
       " ('creative_height', 2),\n",
       " ('user_tags_32', 2),\n",
       " ('user_tags_6', 2),\n",
       " ('carrier', 2),\n",
       " ('advert_id', 2),\n",
       " ('app_cate_id', 2),\n",
       " ('user_tags_15_modelpos/nag_rate', 2),\n",
       " ('model_user_tags_17pos/nag_rate', 2),\n",
       " ('model_os_namepos/nag_rate', 2),\n",
       " ('user_tags_7_modelpos/nag_rate', 2),\n",
       " ('model_user_tags_3pos/nag_rate', 2),\n",
       " ('user_tags_19_modelpos/nag_rate', 2),\n",
       " ('user_tags_11_modelpos/nag_rate', 2),\n",
       " ('user_tags_23_modelpos/nag_rate', 2),\n",
       " ('user_tags_7_creative_idpos/nag_rate', 2),\n",
       " ('user_tags_8', 1),\n",
       " ('user_tags_30', 1),\n",
       " ('user_tags_33', 1),\n",
       " ('user_tags_2', 1),\n",
       " ('user_tags_18', 1),\n",
       " ('user_tags_31', 1),\n",
       " ('user_tags_27', 1),\n",
       " ('user_tags_20', 1),\n",
       " ('model_creative_has_deeplinkpos/nag_rate', 1),\n",
       " ('campaign_id_modelpos/nag_rate', 1),\n",
       " ('model_advert_idpos/nag_rate', 1),\n",
       " ('user_tags_8_modelpos/nag_rate', 1),\n",
       " ('model_user_tags_12pos/nag_rate', 1),\n",
       " ('model_user_tags_14pos/nag_rate', 1),\n",
       " ('model_user_tags_18pos/nag_rate', 1),\n",
       " ('creative_is_jump_modelpos/nag_rate', 1),\n",
       " ('model_user_tags_37pos/nag_rate', 1),\n",
       " ('model_user_tags_1pos/nag_rate', 1),\n",
       " ('app_id_osvpos/nag_rate', 1),\n",
       " ('user_tags_28_modelpos/nag_rate', 1),\n",
       " ('user_tags_30_modelpos/nag_rate', 1),\n",
       " ('user_tags_29_modelpos/nag_rate', 1),\n",
       " ('creative_is_js_creative_idpos/nag_rate', 1),\n",
       " ('user_tags_8_creative_idpos/nag_rate', 1),\n",
       " ('user_tags_5', 0),\n",
       " ('user_tags_1', 0),\n",
       " ('devtype', 0),\n",
       " ('user_tags_13', 0),\n",
       " ('user_tags_36', 0),\n",
       " ('user_tags_0', 0),\n",
       " ('creative_type', 0),\n",
       " ('user_tags_16', 0),\n",
       " ('creative_is_jump', 0),\n",
       " ('creative_is_js', 0),\n",
       " ('user_tags_15', 0),\n",
       " ('user_tags_3', 0),\n",
       " ('creative_is_voicead', 0),\n",
       " ('user_tags_12', 0),\n",
       " ('user_tags_11', 0),\n",
       " ('user_tags_35', 0),\n",
       " ('creative_has_deeplink', 0),\n",
       " ('user_tags_34', 0),\n",
       " ('app_paid', 0),\n",
       " ('nnt', 0),\n",
       " ('creative_is_download', 0),\n",
       " ('user_tags_10', 0),\n",
       " ('user_tags_17', 0),\n",
       " ('user_tags_28', 0),\n",
       " ('user_tags_9', 0),\n",
       " ('user_tags_4', 0),\n",
       " ('os_name', 0),\n",
       " ('advert_industry_inner_split_0', 0),\n",
       " ('user_tags_21', 0),\n",
       " ('creative_tp_dnf', 0),\n",
       " ('user_tags_14', 0),\n",
       " ('user_tags_23', 0),\n",
       " ('os', 0),\n",
       " ('user_tags_29', 0),\n",
       " ('user_tags_7', 0),\n",
       " ('user_tags_37', 0),\n",
       " ('model_user_tags_31pos/nag_rate', 0),\n",
       " ('creative_has_deeplink_modelpos/nag_rate', 0),\n",
       " ('model_user_tags_0pos/nag_rate', 0),\n",
       " ('user_tags_6_modelpos/nag_rate', 0),\n",
       " ('os_modelpos/nag_rate', 0),\n",
       " ('os_name_modelpos/nag_rate', 0),\n",
       " ('model_ospos/nag_rate', 0),\n",
       " ('model_user_tags_8pos/nag_rate', 0),\n",
       " ('model_user_tags_7pos/nag_rate', 0),\n",
       " ('user_tags_13_modelpos/nag_rate', 0),\n",
       " ('user_tags_12_modelpos/nag_rate', 0),\n",
       " ('model_user_tags_13pos/nag_rate', 0),\n",
       " ('user_tags_3_modelpos/nag_rate', 0),\n",
       " ('model_user_tags_19pos/nag_rate', 0),\n",
       " ('model_creative_is_jumppos/nag_rate', 0),\n",
       " ('creative_is_download_modelpos/nag_rate', 0),\n",
       " ('model_user_tags_5pos/nag_rate', 0),\n",
       " ('model_devtypepos/nag_rate', 0),\n",
       " ('model_creative_is_jspos/nag_rate', 0),\n",
       " ('model_creative_is_voiceadpos/nag_rate', 0),\n",
       " ('app_paid_modelpos/nag_rate', 0),\n",
       " ('creative_is_voicead_modelpos/nag_rate', 0),\n",
       " ('creative_is_js_modelpos/nag_rate', 0),\n",
       " ('model_app_paidpos/nag_rate', 0),\n",
       " ('modelpos/nag_rate', 0),\n",
       " ('model_user_tags_24pos/nag_rate', 0),\n",
       " ('model_user_tags_16pos/nag_rate', 0),\n",
       " ('model_user_tags_2pos/nag_rate', 0),\n",
       " ('user_tags_2_modelpos/nag_rate', 0),\n",
       " ('user_tags_1_modelpos/nag_rate', 0),\n",
       " ('model_user_tags_4pos/nag_rate', 0),\n",
       " ('model_user_tags_33pos/nag_rate', 0),\n",
       " ('model_user_tags_32pos/nag_rate', 0),\n",
       " ('user_tags_22_modelpos/nag_rate', 0),\n",
       " ('model_makepos/nag_rate', 0),\n",
       " ('model_user_tags_35pos/nag_rate', 0),\n",
       " ('user_tags_27_modelpos/nag_rate', 0),\n",
       " ('model_user_tags_28pos/nag_rate', 0),\n",
       " ('model_user_tags_20pos/nag_rate', 0),\n",
       " ('model_user_tags_30pos/nag_rate', 0),\n",
       " ('app_paid_creative_idpos/nag_rate', 0),\n",
       " ('creative_is_voicead_creative_idpos/nag_rate', 0),\n",
       " ('creative_id_creative_is_jspos/nag_rate', 0),\n",
       " ('user_tags_15_user_tags_31pos/nag_rate', 0),\n",
       " ('user_tags_15_user_tags_30pos/nag_rate', 0),\n",
       " ('model_user_tags_9pos/nag_rate', 0)]"
      ]
     },
     "execution_count": 17,
     "metadata": {},
     "output_type": "execute_result"
    }
   ],
   "source": [
    "tmp = dict(zip(lgb.Booster.feature_name(bst), lgb.Booster.feature_importance(bst)))\n",
    "sorted(tmp.items(), key=lambda x:x[1], reverse=True)"
   ]
  },
  {
   "cell_type": "code",
   "execution_count": 16,
   "metadata": {},
   "outputs": [],
   "source": [
    "train_data = lgb.Dataset(train[use_col+good_fea[:220]], label=train['click'], categorical_feature=cate_col)\n",
    "# test_data = lgb.Dataset(df[df.click == -1][use_col], categorical_feature=cate_col)\n",
    "\n",
    "bst = lgb.train(cv_params, train_data, verbose_eval=100, num_boost_round=int(bst.best_iteration*1.1))"
   ]
  },
  {
   "cell_type": "code",
   "execution_count": 17,
   "metadata": {},
   "outputs": [],
   "source": [
    "pred = pd.DataFrame()\n",
    "pred['instance_id'] = test['instance_id']\n",
    "pred['predicted_score'] = bst.predict(test[use_col+good_fea[:220]])\n",
    "test = pd.read_csv('./data/round1_iflyad_test_feature.txt', usecols=['instance_id'], sep='\\t')\n",
    "test = test.merge(pred, on=['instance_id'], how='left')"
   ]
  },
  {
   "cell_type": "code",
   "execution_count": 18,
   "metadata": {},
   "outputs": [
    {
     "data": {
      "text/html": [
       "<div>\n",
       "<style>\n",
       "    .dataframe thead tr:only-child th {\n",
       "        text-align: right;\n",
       "    }\n",
       "\n",
       "    .dataframe thead th {\n",
       "        text-align: left;\n",
       "    }\n",
       "\n",
       "    .dataframe tbody tr th {\n",
       "        vertical-align: top;\n",
       "    }\n",
       "</style>\n",
       "<table border=\"1\" class=\"dataframe\">\n",
       "  <thead>\n",
       "    <tr style=\"text-align: right;\">\n",
       "      <th></th>\n",
       "      <th>instance_id</th>\n",
       "      <th>predicted_score</th>\n",
       "    </tr>\n",
       "  </thead>\n",
       "  <tbody>\n",
       "    <tr>\n",
       "      <th>0</th>\n",
       "      <td>6930856710792380886</td>\n",
       "      <td>0.067566</td>\n",
       "    </tr>\n",
       "    <tr>\n",
       "      <th>1</th>\n",
       "      <td>5460409694420131920</td>\n",
       "      <td>0.251502</td>\n",
       "    </tr>\n",
       "    <tr>\n",
       "      <th>2</th>\n",
       "      <td>982813438159141507</td>\n",
       "      <td>0.029025</td>\n",
       "    </tr>\n",
       "    <tr>\n",
       "      <th>3</th>\n",
       "      <td>529991959116679673</td>\n",
       "      <td>0.179472</td>\n",
       "    </tr>\n",
       "    <tr>\n",
       "      <th>4</th>\n",
       "      <td>5357053206615171780</td>\n",
       "      <td>0.003443</td>\n",
       "    </tr>\n",
       "  </tbody>\n",
       "</table>\n",
       "</div>"
      ],
      "text/plain": [
       "           instance_id  predicted_score\n",
       "0  6930856710792380886         0.067566\n",
       "1  5460409694420131920         0.251502\n",
       "2   982813438159141507         0.029025\n",
       "3   529991959116679673         0.179472\n",
       "4  5357053206615171780         0.003443"
      ]
     },
     "execution_count": 18,
     "metadata": {},
     "output_type": "execute_result"
    }
   ],
   "source": [
    "test.head()"
   ]
  },
  {
   "cell_type": "code",
   "execution_count": 19,
   "metadata": {},
   "outputs": [],
   "source": [
    "test.to_csv('./result/lgb_feature_goodfea220.csv', index=None)"
   ]
  }
 ],
 "metadata": {
  "anaconda-cloud": {},
  "kernelspec": {
   "display_name": "Python 3",
   "language": "python",
   "name": "python3"
  },
  "language_info": {
   "codemirror_mode": {
    "name": "ipython",
    "version": 3
   },
   "file_extension": ".py",
   "mimetype": "text/x-python",
   "name": "python",
   "nbconvert_exporter": "python",
   "pygments_lexer": "ipython3",
   "version": "3.6.3"
  }
 },
 "nbformat": 4,
 "nbformat_minor": 1
}
