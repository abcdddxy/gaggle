{
 "cells": [
  {
   "cell_type": "code",
   "execution_count": 2,
   "metadata": {},
   "outputs": [],
   "source": [
    "import numpy as np\n",
    "import os\n",
    "import pandas as pd\n",
    "pd.set_option('display.max_columns', None)\n",
    "import matplotlib.pyplot as plt\n",
    "# import seaborn as sns\n",
    "import pickle\n",
    "import time\n",
    "import gc\n",
    "from tqdm import tqdm, tqdm_notebook\n",
    "\n",
    "%matplotlib inline\n",
    "\n",
    "#每次可以输出多个变量\n",
    "from IPython.core.interactiveshell import InteractiveShell\n",
    "InteractiveShell.ast_node_interactivity = \"all\"\n",
    "\n",
    "from pylab import rcParams\n",
    "rcParams['figure.figsize'] = 14, 6\n",
    "\n",
    "import warnings\n",
    "warnings.filterwarnings(\"ignore\")\n",
    "\n",
    "#中文字体\n",
    "import matplotlib\n",
    "matplotlib.use('qt4agg')\n",
    "#指定默认字体\n",
    "matplotlib.rcParams['font.sans-serif'] = ['SimHei']\n",
    "matplotlib.rcParams['font.family'] = 'sans-serif'\n",
    "#解决负号'-'显示为方块的问题\n",
    "matplotlib.rcParams['axes.unicode_minus'] = False"
   ]
  },
  {
   "cell_type": "code",
   "execution_count": 3,
   "metadata": {},
   "outputs": [],
   "source": [
    "label = pd.read_csv('./data/round1_iflyad_train.txt', sep='\\t', usecols=['click'])\n",
    "name_col = list(np.load('./feature/sparse_fea_name.np.npy'))\n",
    "train_len = 1001650"
   ]
  },
  {
   "cell_type": "code",
   "execution_count": 4,
   "metadata": {},
   "outputs": [],
   "source": [
    "from scipy import sparse\n",
    "import lightgbm as lgb"
   ]
  },
  {
   "cell_type": "code",
   "execution_count": 46,
   "metadata": {},
   "outputs": [],
   "source": [
    "spr_df = sparse.load_npz('./data/sparse_df_content_noinstanceid.npz')\n",
    "# name_col.remove('instance_id')"
   ]
  },
  {
   "cell_type": "code",
   "execution_count": 49,
   "metadata": {},
   "outputs": [],
   "source": [
    "spr_df.data = np.array(spr_df.data, dtype=np.float64)"
   ]
  },
  {
   "cell_type": "code",
   "execution_count": 50,
   "metadata": {
    "scrolled": true
   },
   "outputs": [
    {
     "name": "stdout",
     "output_type": "stream",
     "text": [
      "[100]\tcv_agg's binary_logloss: 0.426093 + 6.08436e-05\n",
      "[200]\tcv_agg's binary_logloss: 0.422111 + 9.09832e-05\n",
      "[300]\tcv_agg's binary_logloss: 0.420628 + 0.000123998\n",
      "[400]\tcv_agg's binary_logloss: 0.419784 + 0.000115317\n",
      "[500]\tcv_agg's binary_logloss: 0.419189 + 0.000136964\n",
      "[600]\tcv_agg's binary_logloss: 0.418797 + 0.000146487\n",
      "[700]\tcv_agg's binary_logloss: 0.418498 + 0.00014391\n",
      "[800]\tcv_agg's binary_logloss: 0.418267 + 0.000129932\n",
      "[900]\tcv_agg's binary_logloss: 0.41809 + 0.000136038\n",
      "[1000]\tcv_agg's binary_logloss: 0.417965 + 0.000135858\n",
      "[1100]\tcv_agg's binary_logloss: 0.417847 + 0.000128018\n",
      "[1200]\tcv_agg's binary_logloss: 0.417754 + 0.000123504\n",
      "[1300]\tcv_agg's binary_logloss: 0.417674 + 0.000133176\n",
      "[1400]\tcv_agg's binary_logloss: 0.417605 + 0.000136355\n",
      "[1500]\tcv_agg's binary_logloss: 0.41755 + 0.000130366\n",
      "[1600]\tcv_agg's binary_logloss: 0.417519 + 0.000136987\n",
      "[1700]\tcv_agg's binary_logloss: 0.417491 + 0.000148554\n",
      "[1800]\tcv_agg's binary_logloss: 0.417464 + 0.000158124\n",
      "[1900]\tcv_agg's binary_logloss: 0.417444 + 0.000164024\n",
      "[2000]\tcv_agg's binary_logloss: 0.417419 + 0.000171602\n",
      "[2100]\tcv_agg's binary_logloss: 0.417402 + 0.000172811\n",
      "[2200]\tcv_agg's binary_logloss: 0.417406 + 0.00017365\n",
      "full features: 2124 0.4174006524561557\n"
     ]
    }
   ],
   "source": [
    "cv_params =  {\n",
    "    'objective': 'binary',\n",
    "    'metric': 'binary_logloss',\n",
    "    'min_data_in_leaf': 300,\n",
    "    'num_leaves': 15,\n",
    "    'max_depth': 5,\n",
    "    'learning_rate': 0.05,\n",
    "    'feature_fraction': 0.8,\n",
    "    'bagging_fraction': 0.8,\n",
    "    'lambda_l1': 0.2,\n",
    "    'lambda_l2': 0.2,\n",
    "    'seed': 2018\n",
    "    }\n",
    "    \n",
    "# content:2253 0.4173767716758179\n",
    "# no_content:3247 0.41655446978701055\n",
    "# content no_instance_id:2124 0.4174006524561557\n",
    "train_data = lgb.Dataset(spr_df[:train_len, ], label=label.click)\n",
    "train_data.set_feature_name(name_col)\n",
    "bst = lgb.cv(cv_params, train_data, nfold=3, early_stopping_rounds=100, verbose_eval=100, num_boost_round=10000, seed=2018)\n",
    "print('full features:', len(bst['binary_logloss-mean']), bst['binary_logloss-mean'][-1])"
   ]
  },
  {
   "cell_type": "code",
   "execution_count": 51,
   "metadata": {},
   "outputs": [],
   "source": [
    "bst = lgb.train(cv_params, train_data, verbose_eval=100, num_boost_round=int(len(bst['binary_logloss-mean'])*1))"
   ]
  },
  {
   "cell_type": "markdown",
   "metadata": {},
   "source": [
    "## feature select"
   ]
  },
  {
   "cell_type": "code",
   "execution_count": 30,
   "metadata": {
    "scrolled": false
   },
   "outputs": [
    {
     "data": {
      "text/plain": [
       "('Column_482', 0)"
      ]
     },
     "execution_count": 30,
     "metadata": {},
     "output_type": "execute_result"
    }
   ],
   "source": [
    "fea_imp = dict(zip(lgb.Booster.feature_name(bst), lgb.Booster.feature_importance(bst)))\n",
    "sorted(fea_imp.items(), key=lambda x:x[1], reverse=True)[2000]"
   ]
  },
  {
   "cell_type": "code",
   "execution_count": 40,
   "metadata": {},
   "outputs": [
    {
     "data": {
      "text/plain": [
       "1595"
      ]
     },
     "execution_count": 40,
     "metadata": {},
     "output_type": "execute_result"
    }
   ],
   "source": [
    "good_fea = [int(i[0][i[0].find('_')+1:]) for i in fea_imp.items() if i[1] >= 1]\n",
    "len(good_fea)"
   ]
  },
  {
   "cell_type": "code",
   "execution_count": 34,
   "metadata": {
    "code_folding": [],
    "scrolled": true
   },
   "outputs": [
    {
     "data": {
      "text/plain": [
       "<1001650x876 sparse matrix of type '<class 'numpy.float64'>'\n",
       "\twith 75286733 stored elements in Compressed Sparse Column format>"
      ]
     },
     "execution_count": 34,
     "metadata": {},
     "output_type": "execute_result"
    }
   ],
   "source": [
    "spr_df[:train_len, good_fea]"
   ]
  },
  {
   "cell_type": "code",
   "execution_count": 12,
   "metadata": {},
   "outputs": [],
   "source": [
    "# np.save('./feature/fea_imp_10.np', np.array(good_fea))"
   ]
  },
  {
   "cell_type": "code",
   "execution_count": 41,
   "metadata": {
    "code_folding": [],
    "scrolled": true
   },
   "outputs": [
    {
     "name": "stdout",
     "output_type": "stream",
     "text": [
      "[100]\tcv_agg's binary_logloss: 0.424268 + 6.04845e-05\n",
      "[200]\tcv_agg's binary_logloss: 0.420938 + 0.000101993\n",
      "[300]\tcv_agg's binary_logloss: 0.419631 + 0.000129766\n",
      "[400]\tcv_agg's binary_logloss: 0.418889 + 0.000120081\n",
      "[500]\tcv_agg's binary_logloss: 0.418419 + 0.00012162\n",
      "[600]\tcv_agg's binary_logloss: 0.418109 + 0.000157707\n",
      "[700]\tcv_agg's binary_logloss: 0.417901 + 0.000166423\n",
      "[800]\tcv_agg's binary_logloss: 0.417768 + 0.000172144\n",
      "[900]\tcv_agg's binary_logloss: 0.417671 + 0.000163151\n",
      "[1000]\tcv_agg's binary_logloss: 0.417584 + 0.000172872\n",
      "[1100]\tcv_agg's binary_logloss: 0.417523 + 0.000177609\n",
      "[1200]\tcv_agg's binary_logloss: 0.417473 + 0.000176013\n",
      "[1300]\tcv_agg's binary_logloss: 0.417439 + 0.000177537\n",
      "[1400]\tcv_agg's binary_logloss: 0.417406 + 0.000187188\n",
      "[1500]\tcv_agg's binary_logloss: 0.417378 + 0.000192172\n",
      "[1600]\tcv_agg's binary_logloss: 0.417358 + 0.000192455\n",
      "[1700]\tcv_agg's binary_logloss: 0.417348 + 0.000193428\n",
      "[1800]\tcv_agg's binary_logloss: 0.417349 + 0.000195676\n",
      "good features: 1726 0.4173405521582061\n"
     ]
    }
   ],
   "source": [
    "cv_params =  {\n",
    "    'objective': 'binary',\n",
    "    'metric': 'binary_logloss',\n",
    "    'min_data_in_leaf': 300,\n",
    "    'num_leaves': 15,\n",
    "    'max_depth': 7,\n",
    "    'learning_rate': 0.05,\n",
    "    'feature_fraction': 0.8,\n",
    "    'bagging_fraction': 0.8,\n",
    "    'lambda_l1': 0.2,\n",
    "    'lambda_l2': 0.2,\n",
    "    'seed': 2018\n",
    "    }\n",
    "    \n",
    "# content:2253 0.4173767716758179\n",
    "# no_content:3247 0.41655446978701055\n",
    "# good>=10:3972 0.41587608675203386\n",
    "train_data = lgb.Dataset(spr_df[:train_len, good_fea].toarray(), label=label.click)\n",
    "# train_data.set_feature_name(name_col)\n",
    "bst = lgb.cv(cv_params, train_data, nfold=3, early_stopping_rounds=100, verbose_eval=100, num_boost_round=10000, seed=2018)\n",
    "print('good features:', len(bst['binary_logloss-mean']), bst['binary_logloss-mean'][-1])"
   ]
  },
  {
   "cell_type": "code",
   "execution_count": 42,
   "metadata": {},
   "outputs": [],
   "source": [
    "bst = lgb.train(cv_params, train_data, verbose_eval=100, num_boost_round=int(len(bst['binary_logloss-mean'])*1))"
   ]
  },
  {
   "cell_type": "markdown",
   "metadata": {},
   "source": [
    "## result"
   ]
  },
  {
   "cell_type": "code",
   "execution_count": 43,
   "metadata": {},
   "outputs": [],
   "source": [
    "test = pd.read_csv('./data/round1_iflyad_test_feature.txt', usecols=['instance_id'], sep='\\t')\n",
    "test['predicted_score'] = bst.predict(spr_df[train_len:, good_fea].toarray())"
   ]
  },
  {
   "cell_type": "code",
   "execution_count": 44,
   "metadata": {},
   "outputs": [
    {
     "data": {
      "text/plain": [
       "(40024, 2)"
      ]
     },
     "execution_count": 44,
     "metadata": {},
     "output_type": "execute_result"
    },
    {
     "data": {
      "text/html": [
       "<div>\n",
       "<style>\n",
       "    .dataframe thead tr:only-child th {\n",
       "        text-align: right;\n",
       "    }\n",
       "\n",
       "    .dataframe thead th {\n",
       "        text-align: left;\n",
       "    }\n",
       "\n",
       "    .dataframe tbody tr th {\n",
       "        vertical-align: top;\n",
       "    }\n",
       "</style>\n",
       "<table border=\"1\" class=\"dataframe\">\n",
       "  <thead>\n",
       "    <tr style=\"text-align: right;\">\n",
       "      <th></th>\n",
       "      <th>instance_id</th>\n",
       "      <th>predicted_score</th>\n",
       "    </tr>\n",
       "  </thead>\n",
       "  <tbody>\n",
       "    <tr>\n",
       "      <th>0</th>\n",
       "      <td>6930856710792380886</td>\n",
       "      <td>0.125810</td>\n",
       "    </tr>\n",
       "    <tr>\n",
       "      <th>1</th>\n",
       "      <td>5460409694420131920</td>\n",
       "      <td>0.272476</td>\n",
       "    </tr>\n",
       "    <tr>\n",
       "      <th>2</th>\n",
       "      <td>982813438159141507</td>\n",
       "      <td>0.092677</td>\n",
       "    </tr>\n",
       "    <tr>\n",
       "      <th>3</th>\n",
       "      <td>529991959116679673</td>\n",
       "      <td>0.262487</td>\n",
       "    </tr>\n",
       "    <tr>\n",
       "      <th>4</th>\n",
       "      <td>5357053206615171780</td>\n",
       "      <td>0.004271</td>\n",
       "    </tr>\n",
       "  </tbody>\n",
       "</table>\n",
       "</div>"
      ],
      "text/plain": [
       "           instance_id  predicted_score\n",
       "0  6930856710792380886         0.125810\n",
       "1  5460409694420131920         0.272476\n",
       "2   982813438159141507         0.092677\n",
       "3   529991959116679673         0.262487\n",
       "4  5357053206615171780         0.004271"
      ]
     },
     "execution_count": 44,
     "metadata": {},
     "output_type": "execute_result"
    }
   ],
   "source": [
    "test.shape\n",
    "test.head()"
   ]
  },
  {
   "cell_type": "code",
   "execution_count": 45,
   "metadata": {},
   "outputs": [],
   "source": [
    "test.to_csv('./result/lgb_feature_full_sparse_noinstanceid_good1.csv', index=None)"
   ]
  }
 ],
 "metadata": {
  "anaconda-cloud": {},
  "kernelspec": {
   "display_name": "Python 3",
   "language": "python",
   "name": "python3"
  },
  "language_info": {
   "codemirror_mode": {
    "name": "ipython",
    "version": 3
   },
   "file_extension": ".py",
   "mimetype": "text/x-python",
   "name": "python",
   "nbconvert_exporter": "python",
   "pygments_lexer": "ipython3",
   "version": "3.6.3"
  },
  "widgets": {
   "state": {
    "08ae1d50fd424c7bbb1f7c4b072811b7": {
     "views": [
      {
       "cell_index": 11
      }
     ]
    },
    "29a04f081e0d45aa846a7a8c382a78d2": {
     "views": [
      {
       "cell_index": 19
      }
     ]
    },
    "7d5ab1c2e6c04c898582aa1211c38c1b": {
     "views": [
      {
       "cell_index": 10
      }
     ]
    },
    "9d38fe633c114d89b194d1c25d7e8283": {
     "views": [
      {
       "cell_index": 13
      }
     ]
    }
   },
   "version": "1.2.0"
  }
 },
 "nbformat": 4,
 "nbformat_minor": 1
}
