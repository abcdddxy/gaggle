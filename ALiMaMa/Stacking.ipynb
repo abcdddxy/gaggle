{
 "cells": [
  {
   "cell_type": "markdown",
   "metadata": {},
   "source": [
    "# 给大爷建个文件夹，路径 ../csv"
   ]
  },
  {
   "cell_type": "code",
   "execution_count": 1,
   "metadata": {
    "collapsed": true
   },
   "outputs": [],
   "source": [
    "import pandas as pd\n",
    "import lightgbm as lgb\n",
    "import numpy as np\n",
    "import datetime\n",
    "from sklearn.feature_selection import SelectKBest,chi2\n",
    "from minepy import MINE\n",
    "from tqdm import tqdm\n",
    "import pickle as pk\n",
    "import gc \n",
    "import time"
   ]
  },
  {
   "cell_type": "markdown",
   "metadata": {},
   "source": [
    "## 特征列"
   ]
  },
  {
   "cell_type": "code",
   "execution_count": 2,
   "metadata": {
    "collapsed": true
   },
   "outputs": [],
   "source": [
    "# 400+个\n",
    "predictors = ['user_query_collect_rank', 'time_slice_shop_review_num_level_bayes_rate_1', 'user_query_rank2_item_score', 'category_col_9', 'shop_id_isnew', 'user_query_maxqueryitem_p_similarity2', 'item_gender_count', 'user_query_rank1_user_sell_trade_power_mean_item_minus', 'user_query_max2_shop_score', 'user_query_percent1_24h_cat_hot', 'common_category_prob2', 'property_9', 'user_query_max1_city_hot', 'query_col_12', 'user_query_percent1_item_hot', 'property_4', 'property_count', 'item_brand_collect_category_rank', 'item_city_id_shop_id_bayes_rate_2', 'user_query_queryitem_c_similarity_percent', 'user_shop_num_last', 'shop_current_hour_query', 'user_query_max_score7_percent', 'user_query_percent1_city_hot', 'item_brand_id_user_star_level_percent', 'user_query_max_score2_rank', 'user_query_rank2_item_trade_hot', 'item_pv_category_rank', 'query_category_2', 'item_sales_level+context_page_id_pred_1', 'user_query_max2_item_score3', 'user_firstquery_timedelta', 'user_query_percent1_user_sell_trade_power_mean_item_minus', 'item_brand_pv_category_percent', 'user_query_max2_item_score2', 'user_query_max_score10_rank', 'shop_id_user_gender_id_percent', 'item_brand_sales_div_pv_category_percent', 'user_query_service_percent', 'item_brand_pv_category_rank', 'item_occupation_count', 'brand_current_hour_percent', 'user_query_rank2_shop_hot', 'category_col_7', 'item_price_category_percent', 'common_property_prob2', 'star_category_mean', 'gender_star', 'user_isnew', 'item_gender_trade_count', 'user_query_rank2_24h_cat_hot', 'item_city_sales_category_percent', 'shop_item_count_his', 'user_today_query_percent', 'sale_price', 'user_query_sales_div_pv_percent', 'user_query_min1_idx', 'user_query_sale_rank', 'user_query_max_score4_percent', 'item_brand_id_shop_review_num_level_bayes_rate_1', 'user_query_percent2_brand_hot', 'user_query_max_score10', 'user_query_rank1_24h_ppt_hot', 'item_city_collect_category_rank', 'user_trade_percent', 'item_sales_stair_user_age_stair_bayes_rate_1', 'common_category', 'item_city_id_isnew', 'user_query_price_percent', 'user_query_max_score8', 'item_city_pv_category_percent', 'user_query_best_description', 'user_query_shopstar_percent', 'category_2', 'item_city_pv_category_rank', 'user_query_goodreview_percent', 'item_brand_sales_category_percent', 'item_city_sales_category_rank', 'user_query_rank1_user_hot', 'user_query_max_score8_rank', 'user_next_count', 'user_query_rank1_instance_id', 'mins', 'user_query_min2_idx', 'user_query_description_rank', 'brand_trade_percent', 'item_cnt_dayavg_total', 'user_lastquery_timedelta', 'user_cnt_total', 'user_query_rank2_item_score3', 'item_current_hour_percent', 'item_collect_category_percent', 'item_brand_id_user_occupation_id_percent', 'user_query_max2_occupation_hot', 'user_brand_age_dist', 'user_query_min2_user_sell_power_mean_item_minus', 'query_col_11', 'item_price_category_rank', 'user_query_rank2_instance_id', 'user_query_rank2_brand_hot', 'user_query_max_score7_rank', 'user_cnt_dayavg_total', 'user_query_best_service', 'user_query_max1_item_score2', 'item_city_collect_category_percent', 'user_query_percent2_user_hot', 'item_price_stair', 'user_query_max1_user_hot', 'user_fisrt_num', 'item_brand_sales_div_pv_category_rank', 'user_query_rank2_shop_score', 'query_col_10', 'query_col_7', 'user_query_percent1_brand_hot', 'item_brand_id_user_gender_id_percent', 'category_col_11', 'item_collected_level_bayes_rate_1', 'item_today_query_percent', 'user_query_percent2_item_score2', 'brand_today_query_percent', 'user_item_fisrt_num', 'user_query_rank1_occupation_hot', 'user_query_percent2_city_hot', 'user_id_bayes_rate_2', 'user_query_delivery_rank', 'user_query_max_score1', 'item_sales_category_percent', 'user_query_percent2_24h_cat_hot', 'gender_occ', 'property_3', 'property_7', 'user_query_percent1_item_trade_hot', 'item_id_isnew', 'item_today_query', 'user_query_times', 'user_query_min1_user_sell_power_mean_item_minus', 'item_brand_id_user_age_level_percent', 'item_city_price_category_rank', 'brand_current_hour_query', 'user_query_pv_rank', 'user_query_max2_brand_hot', 'query_col_0', 'user_cnt_day', 'user_query_rank2_item_score2', 'user_query_queryitem_p_similarity_percent', 'user_query_queryitem_p_similarity_rank', 'common_property_prob', 'shop_item_cnt+star_property_max_pred_1', 'item_collected_stair', 'price_collect', 'category_col_13', 'user_query_queryitem_c_similarity_rank', 'item_collect_category_rank', 'user_query_max1_shop_score', 'category_col_10', 'property_1', 'user_query_percent2_idx', 'item_score3', 'user_query_rank2_occupation_hot', 'user_query_max1_occupation_hot', 'query_categroy_count', 'user_query_collect_percent', 'user_query_max_score4_rank', 'user_query_percent1_shop_score', 'common_category_prob', 'item_city_sales_div_pv_category_percent', 'item_pv_stair_bayes_rate_1', 'category_count', 'user_query_max2_24h_cat_hot', 'user_yesterhour_query', 'brand_item_count', 'user_query_max1_brand_hot', 'query_col_3', 'user_query_max2_item_trade_hot', 'item_day_query', 'instance_id', 'shop_id_user_occupation_id_percent', 'shop_id_user_age_level_percent', 'property_5', 'category_col_8', 'user_star_stair', 'user_star_level+star_property_max_pred_1', 'user_query_rank2_item_hot', 'user_query_percent2_item_score', 'user_query_max2_item_hot', 'property_8', 'query_col_1', 'user_query_max1_item_score3', 'user_shop_fisrt_num', 'user_query_percent1_shop_hot', 'user_query_max2_shop_hot', 'user_query_max_score9_percent', 'user_query_best_delivery', 'review_star', 'user_query_day', 'item_sales_category_rank', 'user_query_percent1_occupation_hot', 'context_timestamp', 'item_city_sales_div_pv_category_rank', 'user_query_percent2_user_sell_trade_power_mean_item_minus', 'item_collect_div_pv', 'category_col_3', 'user_occupation_stair', 'hour_stair', 'user_query_rank1_shop_hot', 'user_query_rank1_item_trade_hot', 'user_query_max2_user_hot', 'user_query_delivery_percent', 'query_category_3', 'user_occupation_id_isnew', 'query_col_8', 'user_item_num_last', 'user_today_query', 'user_query_max_score9', 'item_pred_cat_cos', 'user_query_max_score8_percent', 'query_category_0', 'user_query_maxcollect', 'brand_avg_star', 'user_query_percent1_idx', 'user_query_maxsell', 'user_shop_num_next', 'shop_cnt_dayavg_total', 'user_item_star_dist', 'item_cnt_day', 'user_query_max_score1_percent', 'category_col_2', 'user_query_percent1_instance_id', 'user_city_trade_count', 'user_query_max_score3_percent', 'user_query_queryitem_p_similarity_rank2', 'user_query_max1_shop_hot', 'user_lastquery', 'item_pred_ppt_cos', 'user_query_percent2_user_sell_power_mean_item_minus', 'user_query_minute', 'user_query_price_rank', 'item_brand_collect_category_percent', 'user_query_min1_user_sell_trade_power_mean_item_minus', 'user_query_max2_city_hot', 'user_city_count', 'user_query_maxsales_div_pv', 'user_query_queryitem_c_similarity_rank2', 'user_current_hour_percent', 'user_query_queryitem_p_similarity_percent2', 'user_total_query_times', 'user_query_sales_div_pv_rank', 'item_brand_id', 'item_age_count', 'query_col_9', 'brand_avg_age', 'user_query_rank1_user_sell_power_mean_item_minus', 'query_category_4', 'user_query_rank2_city_hot', 'user_query_maxpv', 'user_age_level_isnew', 'user_query_description_percent', 'item_pv_stair_shop_id_bayes_rate_2', 'category_col_5', 'user_sell_trade_power_mean', 'user_query_maxreview', 'user_query_rank1_idx', 'query_category_5', 'item_city_id', 'item_id_user_gender_id_percent', 'user_query_rank2_idx', 'user_query_min2_user_sell_trade_power_mean_item_minus', 'user_query_review_percent', 'query_col_4', 'user_query_min2_instance_id', 'gender_filled', 'user_query_percent2_shop_score', 'user_query_percent2_instance_id', 'shop_avg_age', 'max_user_item_click', 'user_query_percent1_user_sell_power_mean_item_minus', 'item_score', 'user_query_max_score5_rank', 'user_query_percent2_item_trade_hot', 'user_query_cheapest', 'user_query_rank1_shop_score', 'category_col_14', 'item_price_level+item_pv_level_pred_1', 'user_query_max1_item_trade_hot', 'shop_today_query_percent', 'user_query_max_score9_rank', 'user_query_maxqueryitem_c_similarity2', 'shop_id', 'item_pv_stair', 'category_col_15', 'query_col_13', 'user_query_max1_24h_cat_hot', 'item_avg_age', 'category_1', 'shop_cnt_day', 'category_col_1', 'item_brand_id_isnew', 'item_pv_category_percent', 'property_6', 'query_col_2', 'sale_collect', 'user_query_max_score1_rank', 'user_query_rank2_user_sell_power_mean_item_minus', 'user_query_max_score10_percent', 'category_col_12', 'brand_trade_hot', 'user_query_max1_instance_id', 'user_query_max_score3', 'user_query_maxqueryitem_c_similarity', 'user_current_hour_query', 'item_sales_level_user_id_bayes_rate_1', 'user_query_percent2_item_hot', 'shop_item_cnt', 'shop_score_description', 'pred_cat_mean_0', 'star_category_min', 'pred_cat_mean_4', 'pred_cat_mean_6', 'item_price_level_pred_1', 'item_cat_vec_19', 'item_collected_level', 'shop_brand_cnt', 'pred_cat_mean_7', 'item_collected_level+item_id_pred_1', 'item_pv_level+shop_review_positive_rate_pred_1', 'item_cat_vec_13', 'shop_review_num_level+hist_hour_ctr_pred_1', 'pred_cat_mean_2', 'item_city_id+context_page_id_pred_1', 'star_category_var', '24h_user_seem_times', 'star_property_min', '24h_ppt_hot', 'shop_item_cnt+shop_brand_cnt_pred_1', 'shop_star_level', 'shop_review_positive_rate', 'user_gender_id', 'pred_cat_mean_17', 'shop_review_num_level+shop_item_cnt_pred_1', 'user_star_level', 'item_cat_vec_1', 'item_cat_vec_4', 'item_cat_vec_8', 'user_age_level', 'item_cat_vec_23', 'item_price_level+item_pred_cat_cos_pred_1', 'pred_cat_mean_23', '24h_cat_hot', 'star_category_max', 'shop_star_level+shop_item_cnt_pred_1', 'pred_cat_mean_13', 'pred_cat_mean_11', 'pred_cat_mean_1', 'shop_id_pred_1', 'item_cat_vec_9', 'shop_review_num_level', 'item_cat_vec_11', 'item_cat_vec_20', 'item_sales_level', 'item_price_level', 'item_cat_vec_21', 'pred_cat_mean_21', 'shop_score_delivery', 'star_property_max', 'item_cat_vec_3', 'item_cat_vec_0', 'star_property_mean', 'pred_cat_mean_22', 'pred_cat_mean_5', 'item_cat_vec_2', 'item_cat_vec_15', 'item_brand_id+shop_brand_cnt_pred_1', 'item_collected_level+user_gender_id_pred_1', 'pred_cat_mean_14', 'shop_item_cnt+star_property_var_pred_1', 'item_sales_level+item_collected_level_pred_1', 'item_cat_vec_7', 'user_gender_id+star_category_min_pred_1', 'pred_cat_mean_3', 'item_collected_level+shop_score_description_pred_1', 'user_age_level+user_id_pred_1', 'item_cat_vec_6', 'item_cat_vec_12', 'item_pv_level', 'item_cat_vec_5', 'pred_cat_mean_20', 'pred_cat_mean_12', 'item_brand_id+star_property_max_pred_1', 'shop_score_service', 'item_cat_vec_18', 'item_id_pred_1', 'user_age_level+user_star_level_pred_1', 'user_star_level+shop_id_pred_1', 'user_occupation_id', 'item_cat_vec_16', 'pred_cat_mean_15', 'item_brand_id+shop_score_description_pred_1', 'pred_cat_mean_9', 'pred_cat_mean_8', 'star_property_var', 'item_cat_vec_10', 'pred_cat_mean_18', 'item_brand_id+item_price_level_pred_1', 'item_brand_id+hist_hour_ctr_pred_1', 'item_id+hist_hour_ctr_pred_1', 'item_sales_level+item_pv_level_pred_1', 'item_cat_vec_22', '24h_user_seem_times_pred_1', 'pred_cat_mean_19', 'item_cat_vec_14', 'item_cat_vec_17', 'pred_cat_mean_16', 'pred_cat_mean_10', 'brand_is_trade_his', 'user_minute_query', 'item_property_split_count', 'user_sell_power', 'minute', 'user_hour_query', 'yesterday', 'item_occupation_trade_count', 'user_is_trade_his', 'item_is_his', 'city_item_count_his', 'user_context_count', 'user_count_first_time_sub', 'next_time_sub', 'user_item_count', 'user_sell_trade_power_mean_item_minus', 'user_hour_count', 'max_click_time_sub', 'user_item_count_first_time_sub', 'user_shop_num', 'item_is_trade_his', 'user_sell_power_mean', 'user_shop_count_first_time_sub', 'shop_score', 'city_trade_hot', 'shop_trade_hot', 'occupation_hot', 'item_hot', 'pred_property_split_count', 'is_last_user_item_click', 'user_shop_count', 'shop_hot', 'item_minute_query', 'item_pred_property_score', 'is_home', 'yesterhour', 'is_last_click', 'context_page_id', 'user_shop_last_time_sub', 'item_pred_property_score_pred%', 'city_brand_count', 'user_is_his', 'max_user_item_click_time_sub', 'user_yesterday_query', 'last_time_sub', 'user_item_num', 'user_item_next_time_sub', 'occupation_trade_percent', 'user_day_query', 'item_category_split_count', 'user_shop_next_time_sub', 'user_count', 'user_brand_trade_count', 'item_pred_property_score_item%', 'brand_is_his', 'user_item_last_time_sub', 'user_minute_count', 'item_trade_percent', 'city_item_count', 'user_shop_trade_count', 'brand_hot', 'shop_item_count', 'user_brand_count', 'hour', 'user_trade_hot', 'user_sell_power_mean_item_minus', 'user_item_trade_count', 'item_pred_category_score', 'day', 'city_hot', 'user_item_day_num', 'user_context_trade_count', 'city_brand_count_his', 'user_day_count', 'brand_item_count_his', 'occupation_trade_hot', 'user_item_minute_query', 'user_item_hour_query', 'user_hot', 'user_sell_trade_power', 'pred_category_split_count', 'user_shop_day_num', 'item_score2', 'item_pred_category_score_item%']"
   ]
  },
  {
   "cell_type": "markdown",
   "metadata": {},
   "source": [
    "## 读数据"
   ]
  },
  {
   "cell_type": "code",
   "execution_count": 3,
   "metadata": {
    "collapsed": true
   },
   "outputs": [],
   "source": [
    "df_full = pd.read_csv('../features/df_final.csv',usecols= predictors + ['instance_id','is_trade']) # ps: day 在特征中"
   ]
  },
  {
   "cell_type": "markdown",
   "metadata": {},
   "source": [
    "## 数据切分"
   ]
  },
  {
   "cell_type": "code",
   "execution_count": 4,
   "metadata": {
    "collapsed": true
   },
   "outputs": [],
   "source": [
    "trainset = df_full[df_full.day<25]"
   ]
  },
  {
   "cell_type": "code",
   "execution_count": 5,
   "metadata": {
    "collapsed": true
   },
   "outputs": [],
   "source": [
    "testset = df_full[df_full.day==25]"
   ]
  },
  {
   "cell_type": "code",
   "execution_count": 6,
   "metadata": {},
   "outputs": [
    {
     "data": {
      "text/plain": [
       "((260523, 498), (42888, 498))"
      ]
     },
     "execution_count": 6,
     "metadata": {},
     "output_type": "execute_result"
    }
   ],
   "source": [
    "trainset.shape,testset.shape"
   ]
  },
  {
   "cell_type": "markdown",
   "metadata": {},
   "source": [
    "## 训练"
   ]
  },
  {
   "cell_type": "code",
   "execution_count": 7,
   "metadata": {
    "collapsed": true
   },
   "outputs": [],
   "source": [
    "def stacking_day(d_train, d_test, d):\n",
    "    train = d_train[d_train.day != d]\n",
    "    pred  = d_train[d_train.day == d]\n",
    "    return model_train(train, pred, d_test)"
   ]
  },
  {
   "cell_type": "code",
   "execution_count": null,
   "metadata": {
    "collapsed": true
   },
   "outputs": [],
   "source": [
    "model_name = 'lgb_cjf'\n",
    "def model_train(train, pred, test):   \n",
    "    # 参数\n",
    "    lgbmodel = lgb.LGBMClassifier(\n",
    "        objective='binary',\n",
    "        # metric='binary_error',\n",
    "        num_leaves=7,\n",
    "        max_depth=2,\n",
    "        learning_rate=0.01,\n",
    "        reg_alpha = .4,\n",
    "        reg_lambda = .2,\n",
    "        random_state=2018,\n",
    "        colsample_bytree=0.8,\n",
    "        subsample=0.9,\n",
    "        n_estimators=20000,\n",
    "        n_jobs = 7,\n",
    "    )\n",
    "    # 训练模型\n",
    "    model = lgbmodel.fit(train[predictors],train['is_trade'],eval_set=[(pred[predictors],pred['is_trade'])],early_stopping_rounds=50,verbose=False)\n",
    "    return model.predict_proba(pred[predictors])[:,1], model.predict_proba(test[predictors])[:,1]"
   ]
  },
  {
   "cell_type": "code",
   "execution_count": null,
   "metadata": {
    "collapsed": true
   },
   "outputs": [],
   "source": [
    "%%time\n",
    "for d in range(21,25):\n",
    "    pred_prob, test_prob = stacking_day(trainset, testset, d)\n",
    "    trainset.loc[trainset.day==d, model_name+'_prob'] = pred_prob\n",
    "    testset[model_name + '_prob_%d'%(d-20)] = test_prob\n",
    "trainset[['instance_id','day',model_name+'_prob']].to_csv('../csv/train_%s.csv'%(model_name),index=False)\n",
    "testset[model_name + '_prob'] = testset.iloc[:,-4:].mean(axis=1)\n",
    "testset[['instance_id','day',model_name + '_prob']].to_csv('../csv/test_%s.csv'%(model_name),index=False)"
   ]
  },
  {
   "cell_type": "code",
   "execution_count": null,
   "metadata": {
    "collapsed": true
   },
   "outputs": [],
   "source": []
  }
 ],
 "metadata": {
  "kernelspec": {
   "display_name": "Python 3",
   "language": "python",
   "name": "python3"
  },
  "language_info": {
   "codemirror_mode": {
    "name": "ipython",
    "version": 3
   },
   "file_extension": ".py",
   "mimetype": "text/x-python",
   "name": "python",
   "nbconvert_exporter": "python",
   "pygments_lexer": "ipython3",
   "version": "3.6.1"
  }
 },
 "nbformat": 4,
 "nbformat_minor": 2
}
