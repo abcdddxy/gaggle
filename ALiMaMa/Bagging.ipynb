{
 "cells": [
  {
   "cell_type": "code",
   "execution_count": 1,
   "metadata": {
    "collapsed": true
   },
   "outputs": [],
   "source": [
    "import pandas as pd\n",
    "# import seaborn as sns\n",
    "import lightgbm as lgb\n",
    "import numpy as np\n",
    "from sklearn.ensemble import GradientBoostingClassifier\n",
    "import ast\n",
    "import matplotlib.pyplot as plt\n",
    "import random\n",
    "from sklearn.model_selection import GridSearchCV\n",
    "import seaborn as sns\n",
    "from collections import Counter\n",
    "from sklearn.model_selection import StratifiedKFold\n",
    "\n",
    "%matplotlib inline"
   ]
  },
  {
   "cell_type": "markdown",
   "metadata": {},
   "source": [
    "### Data"
   ]
  },
  {
   "cell_type": "code",
   "execution_count": 2,
   "metadata": {
    "collapsed": true
   },
   "outputs": [],
   "source": [
    "use_449_feas = [\n",
    "    'user_query_percent1_city_hot', 'city_trade_hot',\n",
    "    'user_query_max2_item_score3', 'item_id_pred_1',\n",
    "    'shop_review_num_level+shop_item_cnt_pred_1',\n",
    "    'item_brand_id+item_price_level_pred_1', 'shop_current_hour_query',\n",
    "    'item_city_id+context_page_id_pred_1',\n",
    "    'item_city_sales_div_pv_category_percent', 'item_cat_vec_4',\n",
    "    'user_query_min2_instance_id',\n",
    "    'user_query_min1_user_sell_power_mean_item_minus', 'brand_hot',\n",
    "    'item_cnt_dayavg_total', 'pred_cat_mean_22', 'shop_id',\n",
    "    'shop_score_service', 'item_brand_id_user_gender_id_percent',\n",
    "    'user_query_min1_user_sell_trade_power_mean_item_minus',\n",
    "    'user_context_trade_count', 'item_city_sales_div_pv_category_rank',\n",
    "    'pred_property_split_count', 'query_col_10', 'user_context_count',\n",
    "    'category_col_11', 'user_item_last_time_sub', 'user_current_hour_query',\n",
    "    'user_query_max2_occupation_hot', 'user_age_level_isnew', 'item_is_his',\n",
    "    'user_query_percent1_user_sell_power_mean_item_minus',\n",
    "    '24h_user_seem_times_pred_1', 'item_cat_vec_19', 'shop_cnt_dayavg_total',\n",
    "    'user_query_maxsell', 'shop_cnt_day', 'shop_current_hour_percent',\n",
    "    'star_property_var', 'user_query_max_score5', 'query_col_1',\n",
    "    'user_query_percent1_item_score', 'user_isnew', 'sale_price',\n",
    "    'user_query_percent2_item_score3', 'user_brand_count', 'shop_cnt_total',\n",
    "    'pred_cat_mean_1', 'shop_review_num_level', 'user_day_count',\n",
    "    'pred_cat_mean_12', 'pred_cat_mean_4', 'item_id',\n",
    "    'item_sales_level+item_pv_level_pred_1', 'item_cnt_total',\n",
    "    'pred_cat_mean_20', 'user_query_cheapest', 'shop_item_cnt',\n",
    "    'user_query_percent1_instance_id', 'star_category_max', 'query_category_0',\n",
    "    'user_query_maxpv', 'common_category_prob2', 'user_query_rank2_city_hot',\n",
    "    'user_query_percent2_city_hot', 'user_query_goodreview_percent',\n",
    "    'user_star_level', 'shop_today_query_percent',\n",
    "    'user_query_max_score3_rank', 'shop_review_positive_rate',\n",
    "    'user_query_rank2_user_sell_trade_power_mean_item_minus',\n",
    "    'item_cat_vec_15', 'user_hour_count', 'pred_cat_mean_14',\n",
    "    'is_last_user_item_click', 'item_brand_sales_category_percent',\n",
    "    'pred_cat_mean_17', 'user_query_max2_brand_hot',\n",
    "    'user_query_percent2_instance_id', 'user_query_rank1_item_score2',\n",
    "    'item_hot', 'user_query_sales_div_pv_percent', 'user_hour_query',\n",
    "    'user_query_rank2_item_score3', 'city_item_count', 'user_item_age_dist',\n",
    "    'user_query_min2_idx', 'user_sell_power', 'item_today_query_percent',\n",
    "    'user_query_rank1_occupation_hot', 'user_query_rank2_brand_hot',\n",
    "    'user_query_maxqueryitem_c_similarity2', 'user_query_max_score6_percent',\n",
    "    'item_cat_vec_6', 'item_cat_vec_10', 'user_query_max2_shop_score',\n",
    "    'item_pred_property_score', 'item_city_sales_category_percent',\n",
    "    'category_col_15', 'user_item_hour_query',\n",
    "    'user_age_level+user_star_level_pred_1', 'user_query_rank1_item_trade_hot',\n",
    "    'query_col_6', 'user_query_max_score3_percent', 'common_category',\n",
    "    'city_hot', 'user_query_max2_item_hot', 'query_col_9', 'shop_id_pred_1',\n",
    "    'mins', 'item_id+hist_hour_ctr_pred_1', 'shop_avg_star',\n",
    "    'user_query_percent2_24h_ppt_hot', 'query_col_4',\n",
    "    'item_pv_level+shop_review_positive_rate_pred_1', 'property_4',\n",
    "    'user_sell_trade_power', 'shop_id_isnew', 'user_query_max1_item_score2',\n",
    "    'user_query_max_score9_percent', 'item_id_isnew', 'shop_item_count',\n",
    "    'user_query_queryitem_p_similarity_rank', 'item_cat_vec_9',\n",
    "    'user_query_max_score7_percent', 'city_brand_count',\n",
    "    'item_brand_id+star_property_max_pred_1', 'pred_cat_mean_2',\n",
    "    'user_query_max_score9', 'item_city_pv_category_percent',\n",
    "    'user_query_max_score3', 'user_hot', 'user_shop_num',\n",
    "    'common_category_prob', 'user_query_price_percent', 'property_3',\n",
    "    'query_category_3', 'user_query_max1_shop_hot', 'occupation_trade_percent',\n",
    "    'hour', 'user_query_pv_rank', 'item_cat_vec_7',\n",
    "    'item_pred_property_score_item%', 'time_slice', 'pred_cat_mean_0',\n",
    "    'item_cat_vec_16', 'property_2', 'user_query_delivery_percent',\n",
    "    'user_query_max_score5_rank', 'item_cat_vec_0', 'category_count',\n",
    "    'user_query_percent1_item_hot', 'is_last_click', 'pred_cat_mean_6',\n",
    "    'user_query_rank2_instance_id', 'item_brand_sales_category_rank',\n",
    "    'star_category_var', 'user_count_first_time_sub',\n",
    "    'item_city_collect_category_percent', 'user_shop_count',\n",
    "    'user_query_percent2_brand_hot', 'user_query_percent1_user_hot',\n",
    "    'user_query_maxshopstar', 'user_query_max_score2_rank',\n",
    "    'user_query_best_delivery', 'query_col_11', 'item_pv_stair',\n",
    "    'query_category_4', 'user_item_star_dist', 'user_query_max_score1',\n",
    "    'shop_item_cnt+shop_brand_cnt_pred_1', 'category_col_12',\n",
    "    'user_query_min2_user_sell_trade_power_mean_item_minus',\n",
    "    'user_query_percent2_item_score2', 'user_day_query',\n",
    "    'user_brand_trade_count', 'yesterhour', 'user_occupation_id',\n",
    "    'user_minute_count', 'yesterday', 'item_cat_vec_21', 'item_cat_vec_11',\n",
    "    'pred_cat_mean_3', 'user_item_count_first_time_sub',\n",
    "    'user_item_next_time_sub', 'user_query_rank2_shop_score', 'user_trade_hot',\n",
    "    'item_collect_category_rank', 'item_cat_vec_1', 'item_cat_vec_3',\n",
    "    'user_query_max_score1_rank', 'shop_item_cnt+star_property_var_pred_1',\n",
    "    'user_sell_power_mean_item_minus', 'pred_cat_mean_23',\n",
    "    'user_query_max1_shop_score', 'user_gender_id+star_category_min_pred_1',\n",
    "    'item_brand_id+shop_brand_cnt_pred_1', 'user_occupation_stair',\n",
    "    'property_6', 'user_query_queryitem_p_similarity_percent2',\n",
    "    'item_cat_vec_5', 'star_property_max', 'user_query_rank2_user_hot',\n",
    "    'brand_today_query', 'sale_collect', 'item_cat_vec_2',\n",
    "    'user_query_percent2_item_trade_hot', 'item_brand_pv_category_percent',\n",
    "    'user_query_percent1_shop_hot', 'user_count', 'item_price_level_pred_1',\n",
    "    'pred_cat_mean_5', 'user_query_rank2_item_score',\n",
    "    'item_city_price_category_percent', 'item_brand_collect_category_percent',\n",
    "    'user_query_percent1_user_sell_trade_power_mean_item_minus', 'item_score2',\n",
    "    'user_query_percent2_shop_score', 'shop_trade_hot',\n",
    "    'user_query_rank1_24h_ppt_hot', 'item_brand_sales_div_pv_category_rank',\n",
    "    'item_city_collect_category_rank', 'user_gender_id', 'user_query_times',\n",
    "    'item_pv_category_rank', 'user_query_max_score4', 'max_click_time_sub',\n",
    "    'next_time_sub', 'pred_cat_mean_18', 'pred_cat_mean_16',\n",
    "    'user_query_max2_item_trade_hot', 'minute', 'common_property',\n",
    "    'item_city_sales_category_rank', 'user_occupation_id_isnew', 'query_col_2',\n",
    "    'item_pv_category_percent', 'brand_avg_age', 'property_0',\n",
    "    'user_query_delivery_rank', 'item_brand_id_user_occupation_id_percent',\n",
    "    'user_query_max_score7_rank', 'user_query_max2_shop_hot', 'category_col_3',\n",
    "    'pred_cat_mean_13', 'item_cat_vec_14',\n",
    "    'user_query_maxqueryitem_p_similarity', 'user_item_num',\n",
    "    'user_star_level+shop_id_pred_1', 'user_query_rank2_idx',\n",
    "    'user_query_rank1_item_score3', 'is_home', 'item_cat_vec_17',\n",
    "    'pred_cat_mean_21', 'user_query_maxqueryitem_c_similarity', 'query_col_12',\n",
    "    'common_property_prob2', 'user_query_service_percent',\n",
    "    'user_query_percent2_item_score', 'user_query_goodreview_rank',\n",
    "    'item_avg_age', 'query_col_8', 'property_7',\n",
    "    'user_query_percent2_user_sell_trade_power_mean_item_minus',\n",
    "    'user_query_description_rank', '24h_user_seem_times', 'brand_is_trade_his',\n",
    "    'user_query_review_percent', 'user_query_max2_item_score',\n",
    "    'item_sales_category_rank', 'user_today_query_percent',\n",
    "    'user_query_max2_item_score2', 'query_category_2', 'brand_item_count_his',\n",
    "    'user_query_queryitem_p_similarity_rank2', 'category_col_1',\n",
    "    'item_collected_level+user_gender_id_pred_1', 'category_col_8',\n",
    "    'user_item_day_num', 'user_query_rank2_item_hot', 'context_timestamp',\n",
    "    'item_pred_category_score_item%', 'item_collect_div_pv',\n",
    "    'item_brand_id_user_age_level_percent', 'category_col_7',\n",
    "    'query_category_5', 'user_age_level+user_id_pred_1',\n",
    "    'user_query_review_rank', 'user_current_hour_percent',\n",
    "    'user_query_percent1_24h_ppt_hot', 'user_query_max_score2_percent',\n",
    "    'item_id_user_gender_id_percent', 'user_shop_last_time_sub',\n",
    "    'common_property_prob', 'brand_current_hour_query', 'item_cnt_day',\n",
    "    'city_brand_count_his', 'user_query_collect_percent', 'user_shop_day_num',\n",
    "    'user_query_sale_rank', 'shop_score_delivery', 'query_col_3',\n",
    "    'user_query_queryitem_c_similarity_rank2',\n",
    "    'user_query_percent2_user_sell_power_mean_item_minus', 'item_price_level',\n",
    "    'category_2', 'user_query_min2_user_sell_power_mean_item_minus',\n",
    "    'category_col_5', 'user_query_max1_24h_cat_hot', 'query_col_7',\n",
    "    'item_cat_vec_13', 'item_sales_div_pv_percent', 'shop_score',\n",
    "    'user_query_percent2_occupation_hot', 'user_sell_power_mean',\n",
    "    'item_current_hour_percent', 'occupation_hot', 'item_cat_vec_20',\n",
    "    'item_brand_pv_category_rank', 'user_query_rank2_item_score2',\n",
    "    'property_5', 'user_query_max_score8_rank', 'brand_today_query_percent',\n",
    "    'pred_cat_mean_10', 'user_query_percent1_item_trade_hot', 'property_8',\n",
    "    'item_brand_sales_div_pv_category_percent', 'pred_cat_mean_15',\n",
    "    'category_col_2', 'user_query_rank2_occupation_hot',\n",
    "    'user_item_trade_count', 'item_property_split_count',\n",
    "    'user_firstquery_timedelta', 'city_item_count_his',\n",
    "    'user_query_max_score10_percent', 'occupation_trade_hot', 'item_brand_id',\n",
    "    'gender_age', 'user_query_rank2_24h_ppt_hot', 'user_minute_query',\n",
    "    'item_brand_id_isnew', 'category_col_14', 'category_col_9',\n",
    "    'pred_cat_mean_9', 'user_query_best_service', 'user_query_maxsales_div_pv',\n",
    "    'gender_filled', 'item_price_level+item_pred_cat_cos_pred_1',\n",
    "    'category_col_13', 'user_lastquery_timedelta', 'item_price_stair',\n",
    "    'pred_cat_mean_19', 'item_trade_percent', 'item_minute_query',\n",
    "    '24h_cat_hot', 'user_query_rank1_shop_score',\n",
    "    'user_query_queryitem_p_similarity_percent', 'item_sales_category_percent',\n",
    "    'user_query_max1_item_score3', 'user_is_his',\n",
    "    'user_query_max_score1_percent', 'item_cat_vec_22', 'item_is_trade_his',\n",
    "    'user_query_max2_user_hot', 'user_query_max1_instance_id',\n",
    "    'shop_star_level+shop_item_cnt_pred_1', 'user_query_rank2_shop_hot',\n",
    "    'item_collected_level+shop_score_description_pred_1',\n",
    "    'user_query_percent1_item_score2', 'user_query_percent2_item_hot',\n",
    "    'max_user_item_click_time_sub', 'shop_score_description',\n",
    "    'item_id_user_star_level_percent', 'user_cnt_day', 'item_collected_stair',\n",
    "    'user_query_percent1_occupation_hot', 'item_city_pv_category_rank',\n",
    "    'brand_is_his', '24h_ppt_hot', 'user_query_rank1_city_hot',\n",
    "    'item_pv_level', 'user_query_percent1_24h_cat_hot',\n",
    "    'item_sales_div_pv_rank', 'user_item_minute_query', 'context_page_id',\n",
    "    'user_query_maxqueryitem_p_similarity2', 'item_brand_price_category_rank',\n",
    "    'item_pred_property_score_pred%', 'item_cat_vec_8',\n",
    "    'user_query_max1_brand_hot', 'star_property_min',\n",
    "    'user_query_description_percent', 'star_property_mean',\n",
    "    'item_sales_level+item_collected_level_pred_1',\n",
    "    'item_collected_level+item_id_pred_1', 'item_brand_price_category_percent',\n",
    "    'user_query_max1_occupation_hot', 'user_query_maxgoodreview', 'day',\n",
    "    'category_1', 'item_sales_div_pv', 'pred_category_split_count',\n",
    "    'user_query_min1_idx', 'user_query_max_score4_rank', 'user_query_maxreview',\n",
    "    'user_id', 'user_shop_trade_count', 'pred_cat_mean_7',\n",
    "    'item_brand_id+hist_hour_ctr_pred_1', 'item_city_price_category_rank',\n",
    "    'item_brand_id+shop_score_description_pred_1',\n",
    "    'item_brand_collect_category_rank', 'item_city_id_isnew',\n",
    "    'user_brand_age_dist', 'shop_id_user_star_level_percent',\n",
    "    'user_query_queryitem_c_similarity_percent2',\n",
    "    'user_query_rank1_user_sell_trade_power_mean_item_minus',\n",
    "    'user_query_max_score2', 'user_query_max1_city_hot', 'user_item_count',\n",
    "    'user_query_shopstar_rank', 'hour_stair', 'last_time_sub',\n",
    "    'user_cnt_total', 'user_shop_next_time_sub', 'user_query_max2_24h_ppt_hot',\n",
    "    'shop_today_query', 'item_occupation_trade_count', 'item_cat_vec_18',\n",
    "    'shop_review_num_level+hist_hour_ctr_pred_1', 'shop_hot',\n",
    "    'user_query_max_score5_percent', 'user_query_max2_24h_cat_hot',\n",
    "    'user_yesterday_query', 'pred_cat_mean_11', 'shop_star_level',\n",
    "    'user_shop_count_first_time_sub', 'user_is_trade_his', 'shop_brand_cnt',\n",
    "    'item_cat_vec_23', 'star_category_min', 'user_total_query_times',\n",
    "    'item_cat_vec_12', 'user_sell_trade_power_mean_item_minus',\n",
    "    'pred_cat_mean_8', 'item_category_split_count', 'review_star',\n",
    "    'user_query_rank1_idx', 'item_pred_category_score', 'category_col_6'\n",
    "]"
   ]
  },
  {
   "cell_type": "code",
   "execution_count": 3,
   "metadata": {
    "scrolled": true
   },
   "outputs": [
    {
     "data": {
      "text/plain": [
       "(303411, 451)"
      ]
     },
     "execution_count": 3,
     "metadata": {},
     "output_type": "execute_result"
    }
   ],
   "source": [
    "full = pd.read_csv('./input/df_final.csv', usecols=use_449_feas + ['instance_id', 'is_trade'])\n",
    "full.shape"
   ]
  },
  {
   "cell_type": "code",
   "execution_count": 4,
   "metadata": {},
   "outputs": [
    {
     "data": {
      "text/plain": [
       "42888"
      ]
     },
     "execution_count": 4,
     "metadata": {},
     "output_type": "execute_result"
    }
   ],
   "source": [
    "test_len = (full.is_trade==-1).sum()\n",
    "test_len"
   ]
  },
  {
   "cell_type": "code",
   "execution_count": 6,
   "metadata": {},
   "outputs": [
    {
     "data": {
      "text/plain": [
       "260523"
      ]
     },
     "execution_count": 6,
     "metadata": {},
     "output_type": "execute_result"
    }
   ],
   "source": [
    "train_len = full.shape[0] - test_len\n",
    "train_len"
   ]
  },
  {
   "cell_type": "markdown",
   "metadata": {
    "collapsed": true
   },
   "source": [
    "### Bagging"
   ]
  },
  {
   "cell_type": "code",
   "execution_count": 26,
   "metadata": {
    "collapsed": true
   },
   "outputs": [],
   "source": [
    "import os\n",
    "def lgb_pipeline(iteration, params, dtrain, test, cat_feas, sub_ins_id, rst_path, prefix, cv_fold=3):\n",
    "    print('='*20, iteration, '='*20)\n",
    "    if not os.path.exists(rst_path):\n",
    "        os.makedirs(rst_path)\n",
    "    \n",
    "    # 通过cv找最佳的nround\n",
    "#     lgb_log = lgb.cv(params, dtrain, num_boost_round = 9000, early_stopping_rounds = 50,\n",
    "#                  nfold=cv_fold, verbose_eval=200, categorical_feature=cat_feas)\n",
    "\n",
    "#     print(len(lgb_log['binary_logloss-mean']), lgb_log['binary_logloss-mean'][-1], \n",
    "#             (lgb_log['binary_logloss-stdv'][-1]))\n",
    "#     nround = len(lgb_log['binary_logloss-mean']) + 50\n",
    "    \n",
    "    nround = 10\n",
    "    \n",
    "    model = lgb.train(params, dtrain, nround, categorical_feature=cat_feas)\n",
    "\n",
    "    # predict\n",
    "    test_y = model.predict(test)\n",
    "    test_result = pd.DataFrame(sub_ins_id, columns=[\"instance_id\"])\n",
    "    test_result[\"predicted_score\"] = test_y\n",
    "    test_result.to_csv(rst_path+\"lgb_{0}.csv\".format(iteration), index=None, sep=' ')\n",
    "    print('save to', rst_path + prefix +\"{0}.csv\".format(iteration))"
   ]
  },
  {
   "cell_type": "code",
   "execution_count": 10,
   "metadata": {
    "scrolled": true
   },
   "outputs": [
    {
     "name": "stdout",
     "output_type": "stream",
     "text": [
      "449 314 135\n"
     ]
    }
   ],
   "source": [
    "# 特征重要性排列\n",
    "imp_feas = pd.read_csv('./input/lgb_449_imp.csv')['feature_name'].values\n",
    "\n",
    "must_use_fea_len = int(len(imp_feas)*0.7)\n",
    "must_use_fea = imp_feas[:must_use_fea_len]\n",
    "cadi_fea = imp_feas[must_use_fea_len:]\n",
    "\n",
    "print(len(imp_feas), len(must_use_fea), len(cadi_fea))"
   ]
  },
  {
   "cell_type": "code",
   "execution_count": 31,
   "metadata": {
    "collapsed": true
   },
   "outputs": [],
   "source": [
    "bagging_cnt = 30\n",
    "\n",
    "learning_rate_list = np.random.randint(7, 25, bagging_cnt) /1000.0\n",
    "num_leaves_list = np.random.randint(2**3-2, 2**4+10, bagging_cnt)\n",
    "max_depth_list = np.random.randint(3, 4, bagging_cnt)\n",
    "feature_fraction_list = np.random.randint(400, 650, bagging_cnt)/1000.0\n",
    "min_data_in_leaf_list = np.random.randint(20, 40, bagging_cnt)\n",
    "lambda_l1_list = np.random.randint(2000, 3500, bagging_cnt)/100000.0\n",
    "lambda_l2_list = np.random.randint(0, 1000, bagging_cnt)/100000.0\n",
    "\n",
    "n_feature_list = np.random.randint(70, 100, bagging_cnt)\n",
    "\n",
    "assert(len(learning_rate_list) == bagging_cnt)\n",
    "assert(len(num_leaves_list) == bagging_cnt)\n",
    "assert(len(max_depth_list) == bagging_cnt)\n",
    "assert(len(feature_fraction_list) == bagging_cnt)\n",
    "assert(len(min_data_in_leaf_list) == bagging_cnt)\n",
    "assert(len(lambda_l1_list) == bagging_cnt)\n",
    "assert(len(lambda_l2_list) == bagging_cnt)\n",
    "assert(len(n_feature_list) == bagging_cnt)\n",
    "\n",
    "\n",
    "random.shuffle(learning_rate_list)\n",
    "random.shuffle(num_leaves_list)\n",
    "random.shuffle(max_depth_list)\n",
    "random.shuffle(feature_fraction_list)\n",
    "random.shuffle(min_data_in_leaf_list)\n",
    "random.shuffle(lambda_l1_list)\n",
    "random.shuffle(lambda_l2_list)\n",
    "random.shuffle(n_feature_list)"
   ]
  },
  {
   "cell_type": "code",
   "execution_count": 32,
   "metadata": {
    "collapsed": true
   },
   "outputs": [
    {
     "name": "stdout",
     "output_type": "stream",
     "text": [
      "use fea len: 397\n",
      "params:  {'feature_fraction': 0.42699999999999999, 'learning_rate': 0.0080000000000000002, 'objective': 'binary', 'num_leaves': 15, 'lambda_l1': 0.029010000000000001, 'metric': {'binary_logloss'}, 'task': 'train', 'max_depth': 3, 'boosting_type': 'gbdt', 'lambda_l2': 0.0045799999999999999, 'min_data_in_leaf': 26}\n",
      "==================== 1 ====================\n",
      "save to ./bagging/lgb_1/lgb_1.csv\n",
      "use fea len: 405\n",
      "params:  {'learning_rate': 0.016, 'categorical_column': [57, 91, 117, 291, 292], 'max_bin': 255, 'verbose': 1, 'task': 'train', 'min_data_in_leaf': 21, 'feature_fraction': 0.56399999999999995, 'objective': 'binary', 'num_leaves': 9, 'lambda_l1': 0.027869999999999999, 'boosting_type': 'gbdt', 'metric': {'binary_logloss'}, 'max_depth': 3, 'lambda_l2': 0.00314}\n",
      "==================== 2 ====================\n",
      "save to ./bagging/lgb_1/lgb_2.csv\n",
      "use fea len: 400\n",
      "params:  {'learning_rate': 0.0089999999999999993, 'categorical_column': [57, 91, 117, 291, 292], 'max_bin': 255, 'verbose': 1, 'task': 'train', 'min_data_in_leaf': 34, 'feature_fraction': 0.55700000000000005, 'objective': 'binary', 'num_leaves': 21, 'lambda_l1': 0.024920000000000001, 'boosting_type': 'gbdt', 'metric': {'binary_logloss'}, 'max_depth': 3, 'lambda_l2': 0.00014999999999999999}\n",
      "==================== 3 ====================\n",
      "save to ./bagging/lgb_1/lgb_3.csv\n",
      "use fea len: 392\n",
      "params:  {'learning_rate': 0.0080000000000000002, 'categorical_column': [57, 91, 117, 291, 292], 'max_bin': 255, 'verbose': 1, 'task': 'train', 'min_data_in_leaf': 34, 'feature_fraction': 0.44700000000000001, 'objective': 'binary', 'num_leaves': 23, 'lambda_l1': 0.02018, 'boosting_type': 'gbdt', 'metric': {'binary_logloss'}, 'max_depth': 3, 'lambda_l2': 0.0054200000000000003}\n",
      "==================== 4 ====================\n",
      "save to ./bagging/lgb_1/lgb_4.csv\n",
      "use fea len: 400\n",
      "params:  {'learning_rate': 0.0089999999999999993, 'categorical_column': [57, 91, 117, 291, 292], 'max_bin': 255, 'verbose': 1, 'task': 'train', 'min_data_in_leaf': 36, 'feature_fraction': 0.40300000000000002, 'objective': 'binary', 'num_leaves': 19, 'lambda_l1': 0.034369999999999998, 'boosting_type': 'gbdt', 'metric': {'binary_logloss'}, 'max_depth': 3, 'lambda_l2': 0.0034299999999999999}\n",
      "==================== 5 ====================\n"
     ]
    },
    {
     "ename": "KeyboardInterrupt",
     "evalue": "",
     "output_type": "error",
     "traceback": [
      "\u001b[0;31m---------------------------------------------------------------------------\u001b[0m",
      "\u001b[0;31mKeyboardInterrupt\u001b[0m                         Traceback (most recent call last)",
      "\u001b[0;32m<ipython-input-32-48e8232dba92>\u001b[0m in \u001b[0;36m<module>\u001b[0;34m()\u001b[0m\n\u001b[1;32m     52\u001b[0m     \u001b[0mprint\u001b[0m\u001b[0;34m(\u001b[0m\u001b[0;34m'params: '\u001b[0m\u001b[0;34m,\u001b[0m \u001b[0mparams\u001b[0m\u001b[0;34m)\u001b[0m\u001b[0;34m\u001b[0m\u001b[0m\n\u001b[1;32m     53\u001b[0m     lgb_pipeline(bagging_cnt, params, dtrain=train_data, test=full[-test_len:][use_feas], cat_feas=cat_feas,\n\u001b[0;32m---> 54\u001b[0;31m                  sub_ins_id = full[-test_len:]['instance_id'].values, rst_path = rst_path, cv_fold=6, prefix=prefix)\n\u001b[0m",
      "\u001b[0;32m<ipython-input-26-f0d7b3d69710>\u001b[0m in \u001b[0;36mlgb_pipeline\u001b[0;34m(iteration, params, dtrain, test, cat_feas, sub_ins_id, rst_path, prefix, cv_fold)\u001b[0m\n\u001b[1;32m     15\u001b[0m     \u001b[0mnround\u001b[0m \u001b[0;34m=\u001b[0m \u001b[0;36m10\u001b[0m\u001b[0;34m\u001b[0m\u001b[0m\n\u001b[1;32m     16\u001b[0m \u001b[0;34m\u001b[0m\u001b[0m\n\u001b[0;32m---> 17\u001b[0;31m     \u001b[0mmodel\u001b[0m \u001b[0;34m=\u001b[0m \u001b[0mlgb\u001b[0m\u001b[0;34m.\u001b[0m\u001b[0mtrain\u001b[0m\u001b[0;34m(\u001b[0m\u001b[0mparams\u001b[0m\u001b[0;34m,\u001b[0m \u001b[0mdtrain\u001b[0m\u001b[0;34m,\u001b[0m \u001b[0mnround\u001b[0m\u001b[0;34m,\u001b[0m \u001b[0mcategorical_feature\u001b[0m\u001b[0;34m=\u001b[0m\u001b[0mcat_feas\u001b[0m\u001b[0;34m)\u001b[0m\u001b[0;34m\u001b[0m\u001b[0m\n\u001b[0m\u001b[1;32m     18\u001b[0m \u001b[0;34m\u001b[0m\u001b[0m\n\u001b[1;32m     19\u001b[0m     \u001b[0;31m# predict\u001b[0m\u001b[0;34m\u001b[0m\u001b[0;34m\u001b[0m\u001b[0m\n",
      "\u001b[0;32m/usr/local/miniconda2/envs/py35/lib/python3.5/site-packages/lightgbm/engine.py\u001b[0m in \u001b[0;36mtrain\u001b[0;34m(params, train_set, num_boost_round, valid_sets, valid_names, fobj, feval, init_model, feature_name, categorical_feature, early_stopping_rounds, evals_result, verbose_eval, learning_rates, callbacks)\u001b[0m\n\u001b[1;32m    161\u001b[0m \u001b[0;34m\u001b[0m\u001b[0m\n\u001b[1;32m    162\u001b[0m     \u001b[0;34m\"\"\"construct booster\"\"\"\u001b[0m\u001b[0;34m\u001b[0m\u001b[0m\n\u001b[0;32m--> 163\u001b[0;31m     \u001b[0mbooster\u001b[0m \u001b[0;34m=\u001b[0m \u001b[0mBooster\u001b[0m\u001b[0;34m(\u001b[0m\u001b[0mparams\u001b[0m\u001b[0;34m=\u001b[0m\u001b[0mparams\u001b[0m\u001b[0;34m,\u001b[0m \u001b[0mtrain_set\u001b[0m\u001b[0;34m=\u001b[0m\u001b[0mtrain_set\u001b[0m\u001b[0;34m)\u001b[0m\u001b[0;34m\u001b[0m\u001b[0m\n\u001b[0m\u001b[1;32m    164\u001b[0m     \u001b[0;32mif\u001b[0m \u001b[0mis_valid_contain_train\u001b[0m\u001b[0;34m:\u001b[0m\u001b[0;34m\u001b[0m\u001b[0m\n\u001b[1;32m    165\u001b[0m         \u001b[0mbooster\u001b[0m\u001b[0;34m.\u001b[0m\u001b[0mset_train_data_name\u001b[0m\u001b[0;34m(\u001b[0m\u001b[0mtrain_data_name\u001b[0m\u001b[0;34m)\u001b[0m\u001b[0;34m\u001b[0m\u001b[0m\n",
      "\u001b[0;32m/usr/local/miniconda2/envs/py35/lib/python3.5/site-packages/lightgbm/basic.py\u001b[0m in \u001b[0;36m__init__\u001b[0;34m(self, params, train_set, model_file, silent)\u001b[0m\n\u001b[1;32m   1209\u001b[0m             \u001b[0;34m\"\"\"construct booster object\"\"\"\u001b[0m\u001b[0;34m\u001b[0m\u001b[0m\n\u001b[1;32m   1210\u001b[0m             _safe_call(_LIB.LGBM_BoosterCreate(\n\u001b[0;32m-> 1211\u001b[0;31m                 \u001b[0mtrain_set\u001b[0m\u001b[0;34m.\u001b[0m\u001b[0mconstruct\u001b[0m\u001b[0;34m(\u001b[0m\u001b[0;34m)\u001b[0m\u001b[0;34m.\u001b[0m\u001b[0mhandle\u001b[0m\u001b[0;34m,\u001b[0m\u001b[0;34m\u001b[0m\u001b[0m\n\u001b[0m\u001b[1;32m   1212\u001b[0m                 \u001b[0mc_str\u001b[0m\u001b[0;34m(\u001b[0m\u001b[0mparams_str\u001b[0m\u001b[0;34m)\u001b[0m\u001b[0;34m,\u001b[0m\u001b[0;34m\u001b[0m\u001b[0m\n\u001b[1;32m   1213\u001b[0m                 ctypes.byref(self.handle)))\n",
      "\u001b[0;32m/usr/local/miniconda2/envs/py35/lib/python3.5/site-packages/lightgbm/basic.py\u001b[0m in \u001b[0;36mconstruct\u001b[0;34m(self)\u001b[0m\n\u001b[1;32m    805\u001b[0m                                 \u001b[0mweight\u001b[0m\u001b[0;34m=\u001b[0m\u001b[0mself\u001b[0m\u001b[0;34m.\u001b[0m\u001b[0mweight\u001b[0m\u001b[0;34m,\u001b[0m \u001b[0mgroup\u001b[0m\u001b[0;34m=\u001b[0m\u001b[0mself\u001b[0m\u001b[0;34m.\u001b[0m\u001b[0mgroup\u001b[0m\u001b[0;34m,\u001b[0m \u001b[0mpredictor\u001b[0m\u001b[0;34m=\u001b[0m\u001b[0mself\u001b[0m\u001b[0;34m.\u001b[0m\u001b[0m_predictor\u001b[0m\u001b[0;34m,\u001b[0m\u001b[0;34m\u001b[0m\u001b[0m\n\u001b[1;32m    806\u001b[0m                                 \u001b[0msilent\u001b[0m\u001b[0;34m=\u001b[0m\u001b[0mself\u001b[0m\u001b[0;34m.\u001b[0m\u001b[0msilent\u001b[0m\u001b[0;34m,\u001b[0m \u001b[0mfeature_name\u001b[0m\u001b[0;34m=\u001b[0m\u001b[0mself\u001b[0m\u001b[0;34m.\u001b[0m\u001b[0mfeature_name\u001b[0m\u001b[0;34m,\u001b[0m\u001b[0;34m\u001b[0m\u001b[0m\n\u001b[0;32m--> 807\u001b[0;31m                                 categorical_feature=self.categorical_feature, params=self.params)\n\u001b[0m\u001b[1;32m    808\u001b[0m             \u001b[0;32mif\u001b[0m \u001b[0mself\u001b[0m\u001b[0;34m.\u001b[0m\u001b[0mfree_raw_data\u001b[0m\u001b[0;34m:\u001b[0m\u001b[0;34m\u001b[0m\u001b[0m\n\u001b[1;32m    809\u001b[0m                 \u001b[0mself\u001b[0m\u001b[0;34m.\u001b[0m\u001b[0mdata\u001b[0m \u001b[0;34m=\u001b[0m \u001b[0;32mNone\u001b[0m\u001b[0;34m\u001b[0m\u001b[0m\n",
      "\u001b[0;32m/usr/local/miniconda2/envs/py35/lib/python3.5/site-packages/lightgbm/basic.py\u001b[0m in \u001b[0;36m_lazy_init\u001b[0;34m(self, data, label, max_bin, reference, weight, group, predictor, silent, feature_name, categorical_feature, params)\u001b[0m\n\u001b[1;32m    670\u001b[0m             \u001b[0mself\u001b[0m\u001b[0;34m.\u001b[0m\u001b[0m__init_from_csc\u001b[0m\u001b[0;34m(\u001b[0m\u001b[0mdata\u001b[0m\u001b[0;34m,\u001b[0m \u001b[0mparams_str\u001b[0m\u001b[0;34m,\u001b[0m \u001b[0mref_dataset\u001b[0m\u001b[0;34m)\u001b[0m\u001b[0;34m\u001b[0m\u001b[0m\n\u001b[1;32m    671\u001b[0m         \u001b[0;32melif\u001b[0m \u001b[0misinstance\u001b[0m\u001b[0;34m(\u001b[0m\u001b[0mdata\u001b[0m\u001b[0;34m,\u001b[0m \u001b[0mnp\u001b[0m\u001b[0;34m.\u001b[0m\u001b[0mndarray\u001b[0m\u001b[0;34m)\u001b[0m\u001b[0;34m:\u001b[0m\u001b[0;34m\u001b[0m\u001b[0m\n\u001b[0;32m--> 672\u001b[0;31m             \u001b[0mself\u001b[0m\u001b[0;34m.\u001b[0m\u001b[0m__init_from_np2d\u001b[0m\u001b[0;34m(\u001b[0m\u001b[0mdata\u001b[0m\u001b[0;34m,\u001b[0m \u001b[0mparams_str\u001b[0m\u001b[0;34m,\u001b[0m \u001b[0mref_dataset\u001b[0m\u001b[0;34m)\u001b[0m\u001b[0;34m\u001b[0m\u001b[0m\n\u001b[0m\u001b[1;32m    673\u001b[0m         \u001b[0;32melse\u001b[0m\u001b[0;34m:\u001b[0m\u001b[0;34m\u001b[0m\u001b[0m\n\u001b[1;32m    674\u001b[0m             \u001b[0;32mtry\u001b[0m\u001b[0;34m:\u001b[0m\u001b[0;34m\u001b[0m\u001b[0m\n",
      "\u001b[0;32m/usr/local/miniconda2/envs/py35/lib/python3.5/site-packages/lightgbm/basic.py\u001b[0m in \u001b[0;36m__init_from_np2d\u001b[0;34m(self, mat, params_str, ref_dataset)\u001b[0m\n\u001b[1;32m    728\u001b[0m             \u001b[0mc_str\u001b[0m\u001b[0;34m(\u001b[0m\u001b[0mparams_str\u001b[0m\u001b[0;34m)\u001b[0m\u001b[0;34m,\u001b[0m\u001b[0;34m\u001b[0m\u001b[0m\n\u001b[1;32m    729\u001b[0m             \u001b[0mref_dataset\u001b[0m\u001b[0;34m,\u001b[0m\u001b[0;34m\u001b[0m\u001b[0m\n\u001b[0;32m--> 730\u001b[0;31m             ctypes.byref(self.handle)))\n\u001b[0m\u001b[1;32m    731\u001b[0m \u001b[0;34m\u001b[0m\u001b[0m\n\u001b[1;32m    732\u001b[0m     \u001b[0;32mdef\u001b[0m \u001b[0m__init_from_csr\u001b[0m\u001b[0;34m(\u001b[0m\u001b[0mself\u001b[0m\u001b[0;34m,\u001b[0m \u001b[0mcsr\u001b[0m\u001b[0;34m,\u001b[0m \u001b[0mparams_str\u001b[0m\u001b[0;34m,\u001b[0m \u001b[0mref_dataset\u001b[0m\u001b[0;34m)\u001b[0m\u001b[0;34m:\u001b[0m\u001b[0;34m\u001b[0m\u001b[0m\n",
      "\u001b[0;31mKeyboardInterrupt\u001b[0m: "
     ]
    }
   ],
   "source": [
    "params = {\n",
    "        'learning_rate':0.01,#0.01\n",
    "        'task': 'train',\n",
    "        'boosting_type': 'gbdt',\n",
    "        'objective': 'binary',\n",
    "        'metric': { 'binary_logloss'},\n",
    "        'num_leaves': 2**3,\n",
    "        'max_depth':3,\n",
    "        'feature_fraction': 0.3,\n",
    "        'min_data_in_leaf': 40,\n",
    "# #         'bagging_fraction': 0.8,\n",
    "        'lambda_l1':0.03,\n",
    "#         'lambda_l2':0.01,\n",
    "\n",
    "    }\n",
    "\n",
    "cat_feas_cad = ['item_brand_id', 'item_city_id', 'user_gender_id', 'user_occupation_id', \n",
    "                'context_hour', 'context_page_id'\n",
    "                'user_id', 'context_id', 'shop_id','item_id',\n",
    "#             'context_day'\n",
    "#            'user_age_level',\n",
    "           ]\n",
    "rst_path = './bagging/lgb_1/'\n",
    "prefix = 'lgb_'\n",
    "\n",
    "bagging_cnt = 0\n",
    "for param_item in zip(learning_rate_list, num_leaves_list, max_depth_list, feature_fraction_list, min_data_in_leaf_list, \n",
    "                      lambda_l1_list, lambda_l2_list, n_feature_list):\n",
    "    bagging_cnt += 1\n",
    "    \n",
    "    params['learning_rate'] = param_item[0]\n",
    "    params['num_leaves'] = param_item[1]\n",
    "    params['max_depth'] = param_item[2]\n",
    "    params['feature_fraction'] = param_item[3]\n",
    "    params['min_data_in_leaf'] = param_item[4]\n",
    "    params['lambda_l1'] = param_item[5]\n",
    "    params['lambda_l2'] = param_item[6]\n",
    "    \n",
    "    use_feas = must_use_fea.tolist() + random.sample(list(cadi_fea), param_item[7])\n",
    "    cat_feas = []\n",
    "    for cat_f in cat_feas_cad:\n",
    "        if cat_f in use_feas:\n",
    "            cat_feas += [cat_f]\n",
    "    \n",
    "    train_data = lgb.Dataset(full[:train_len][use_feas], label=full[:train_len]['is_trade'].astype(int), \n",
    "                     feature_name=use_feas, free_raw_data=False)\n",
    "    \n",
    "    print('use fea len:', len(use_feas))\n",
    "    \n",
    "#       print('use fea:', use_feas)\n",
    "    \n",
    "    print('params: ', params)\n",
    "    lgb_pipeline(bagging_cnt, params, dtrain=train_data, test=full[-test_len:][use_feas], cat_feas=[],\n",
    "                 sub_ins_id = full[-test_len:]['instance_id'].values, rst_path = rst_path, cv_fold=6, prefix=prefix)\n"
   ]
  },
  {
   "cell_type": "code",
   "execution_count": 33,
   "metadata": {},
   "outputs": [
    {
     "name": "stdout",
     "output_type": "stream",
     "text": [
      "lgb_1.csv\n",
      "lgb_2.csv\n",
      "lgb_3.csv\n",
      "lgb_4.csv\n",
      "rst count: 4\n"
     ]
    },
    {
     "data": {
      "text/html": [
       "<div>\n",
       "<style>\n",
       "    .dataframe thead tr:only-child th {\n",
       "        text-align: right;\n",
       "    }\n",
       "\n",
       "    .dataframe thead th {\n",
       "        text-align: left;\n",
       "    }\n",
       "\n",
       "    .dataframe tbody tr th {\n",
       "        vertical-align: top;\n",
       "    }\n",
       "</style>\n",
       "<table border=\"1\" class=\"dataframe\">\n",
       "  <thead>\n",
       "    <tr style=\"text-align: right;\">\n",
       "      <th></th>\n",
       "      <th>instance_id</th>\n",
       "      <th>predicted_score</th>\n",
       "    </tr>\n",
       "  </thead>\n",
       "  <tbody>\n",
       "    <tr>\n",
       "      <th>0</th>\n",
       "      <td>55144604125888</td>\n",
       "      <td>0.452221</td>\n",
       "    </tr>\n",
       "    <tr>\n",
       "      <th>1</th>\n",
       "      <td>221669167755726</td>\n",
       "      <td>0.452926</td>\n",
       "    </tr>\n",
       "    <tr>\n",
       "      <th>2</th>\n",
       "      <td>566644865989395</td>\n",
       "      <td>0.452185</td>\n",
       "    </tr>\n",
       "    <tr>\n",
       "      <th>3</th>\n",
       "      <td>954943998950521</td>\n",
       "      <td>0.453088</td>\n",
       "    </tr>\n",
       "    <tr>\n",
       "      <th>4</th>\n",
       "      <td>1192015136416062</td>\n",
       "      <td>0.453596</td>\n",
       "    </tr>\n",
       "  </tbody>\n",
       "</table>\n",
       "</div>"
      ],
      "text/plain": [
       "        instance_id  predicted_score\n",
       "0    55144604125888         0.452221\n",
       "1   221669167755726         0.452926\n",
       "2   566644865989395         0.452185\n",
       "3   954943998950521         0.453088\n",
       "4  1192015136416062         0.453596"
      ]
     },
     "execution_count": 33,
     "metadata": {},
     "output_type": "execute_result"
    }
   ],
   "source": [
    "bagging_rst_files = os.listdir(rst_path)\n",
    "\n",
    "rst_cnt = 0\n",
    "df_fnl_rst = pd.DataFrame()\n",
    "for rst_file in bagging_rst_files:\n",
    "    if rst_file[:len(prefix)] != prefix:\n",
    "        continue\n",
    "    else:\n",
    "        print(rst_file)\n",
    "        rst_cnt += 1\n",
    "    if df_fnl_rst.shape[0] == 0:\n",
    "        df_fnl_rst = pd.read_csv(rst_path + rst_file, sep=' ')\n",
    "    else:\n",
    "        df_crt_rst = pd.read_csv(rst_path + rst_file, sep=' ')\n",
    "        df_fnl_rst['predicted_score'] += df_crt_rst['predicted_score']\n",
    "\n",
    "print('rst count:', rst_cnt)\n",
    "df_fnl_rst['predicted_score']/=rst_cnt\n",
    "df_fnl_rst.head()"
   ]
  },
  {
   "cell_type": "code",
   "execution_count": 91,
   "metadata": {
    "collapsed": true,
    "scrolled": true
   },
   "outputs": [],
   "source": [
    "df_fnl_rst.to_csv(rst_path + prefix + 'fnl.csv', index=False, sep=' ')"
   ]
  },
  {
   "cell_type": "code",
   "execution_count": null,
   "metadata": {
    "collapsed": true
   },
   "outputs": [],
   "source": []
  },
  {
   "cell_type": "code",
   "execution_count": null,
   "metadata": {
    "collapsed": true
   },
   "outputs": [],
   "source": []
  },
  {
   "cell_type": "code",
   "execution_count": null,
   "metadata": {
    "collapsed": true
   },
   "outputs": [],
   "source": []
  },
  {
   "cell_type": "code",
   "execution_count": null,
   "metadata": {
    "collapsed": true
   },
   "outputs": [],
   "source": []
  }
 ],
 "metadata": {
  "kernelspec": {
   "display_name": "Python 3",
   "language": "python",
   "name": "python3"
  },
  "language_info": {
   "codemirror_mode": {
    "name": "ipython",
    "version": 3
   },
   "file_extension": ".py",
   "mimetype": "text/x-python",
   "name": "python",
   "nbconvert_exporter": "python",
   "pygments_lexer": "ipython3",
   "version": "3.5.3"
  }
 },
 "nbformat": 4,
 "nbformat_minor": 2
}
