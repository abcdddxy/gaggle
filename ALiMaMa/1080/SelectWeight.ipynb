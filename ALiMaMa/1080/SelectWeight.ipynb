{
 "cells": [
  {
   "cell_type": "code",
   "execution_count": 4,
   "metadata": {},
   "outputs": [],
   "source": [
    "import numpy as np\n",
    "import pandas as pd\n",
    "pd.set_option('display.max_columns', None)\n",
    "import matplotlib.pyplot as plt\n",
    "# import seaborn as sns\n",
    "import pickle\n",
    "import time\n",
    "import gc\n",
    "# from tqdm import tqdm\n",
    "\n",
    "%matplotlib inline\n",
    "\n",
    "#每次可以输出多个变量\n",
    "from IPython.core.interactiveshell import InteractiveShell\n",
    "InteractiveShell.ast_node_interactivity = \"all\"\n",
    "\n",
    "from pylab import rcParams\n",
    "rcParams['figure.figsize'] = 14, 6\n",
    "\n",
    "import warnings\n",
    "warnings.filterwarnings(\"ignore\")\n",
    "\n",
    "#中文字体\n",
    "import matplotlib\n",
    "matplotlib.use('qt4agg')\n",
    "#指定默认字体\n",
    "matplotlib.rcParams['font.sans-serif'] = ['SimHei']\n",
    "matplotlib.rcParams['font.family'] = 'sans-serif'\n",
    "#解决负号'-'显示为方块的问题\n",
    "matplotlib.rcParams['axes.unicode_minus'] = False"
   ]
  },
  {
   "cell_type": "code",
   "execution_count": 14,
   "metadata": {},
   "outputs": [
    {
     "data": {
      "text/plain": [
       "(269737, 2)"
      ]
     },
     "execution_count": 14,
     "metadata": {},
     "output_type": "execute_result"
    },
    {
     "data": {
      "text/plain": [
       "(1077175, 2)"
      ]
     },
     "execution_count": 14,
     "metadata": {},
     "output_type": "execute_result"
    },
    {
     "data": {
      "text/plain": [
       "(269737, 3)"
      ]
     },
     "execution_count": 14,
     "metadata": {},
     "output_type": "execute_result"
    }
   ],
   "source": [
    "pred1 = pd.read_csv('pred_model1.csv')\n",
    "pred2 = pd.read_csv('pred_model2.csv')\n",
    "pred3 = pd.read_csv('pred_model3.csv')\n",
    "\n",
    "pred1.shape\n",
    "pred2.shape\n",
    "pred3.shape"
   ]
  },
  {
   "cell_type": "code",
   "execution_count": 15,
   "metadata": {},
   "outputs": [
    {
     "data": {
      "text/plain": [
       "1103"
      ]
     },
     "execution_count": 15,
     "metadata": {},
     "output_type": "execute_result"
    },
    {
     "data": {
      "text/plain": [
       "(269737, 5)"
      ]
     },
     "execution_count": 15,
     "metadata": {},
     "output_type": "execute_result"
    }
   ],
   "source": [
    "pred = pred1.merge(pred2, on=['instance_id'], how='left')\n",
    "pred = pred.merge(pred3, on=['instance_id'], how='left')\n",
    "\n",
    "del pred1\n",
    "del pred2\n",
    "del pred3\n",
    "gc.collect()\n",
    "\n",
    "pred.shape"
   ]
  },
  {
   "cell_type": "code",
   "execution_count": 16,
   "metadata": {},
   "outputs": [
    {
     "data": {
      "text/html": [
       "<div>\n",
       "<style scoped>\n",
       "    .dataframe tbody tr th:only-of-type {\n",
       "        vertical-align: middle;\n",
       "    }\n",
       "\n",
       "    .dataframe tbody tr th {\n",
       "        vertical-align: top;\n",
       "    }\n",
       "\n",
       "    .dataframe thead th {\n",
       "        text-align: right;\n",
       "    }\n",
       "</style>\n",
       "<table border=\"1\" class=\"dataframe\">\n",
       "  <thead>\n",
       "    <tr style=\"text-align: right;\">\n",
       "      <th></th>\n",
       "      <th>instance_id</th>\n",
       "      <th>pred1</th>\n",
       "      <th>pred2</th>\n",
       "      <th>pred3</th>\n",
       "      <th>is_trade</th>\n",
       "    </tr>\n",
       "  </thead>\n",
       "  <tbody>\n",
       "    <tr>\n",
       "      <th>0</th>\n",
       "      <td>9026430732534853093</td>\n",
       "      <td>0.004561</td>\n",
       "      <td>0.003338</td>\n",
       "      <td>0.002570</td>\n",
       "      <td>0</td>\n",
       "    </tr>\n",
       "    <tr>\n",
       "      <th>1</th>\n",
       "      <td>9155155901436899292</td>\n",
       "      <td>0.031189</td>\n",
       "      <td>0.012083</td>\n",
       "      <td>0.000627</td>\n",
       "      <td>0</td>\n",
       "    </tr>\n",
       "    <tr>\n",
       "      <th>2</th>\n",
       "      <td>3094163606679545517</td>\n",
       "      <td>0.022309</td>\n",
       "      <td>0.007001</td>\n",
       "      <td>0.000848</td>\n",
       "      <td>0</td>\n",
       "    </tr>\n",
       "    <tr>\n",
       "      <th>3</th>\n",
       "      <td>8573303376462104822</td>\n",
       "      <td>0.122812</td>\n",
       "      <td>0.054428</td>\n",
       "      <td>0.021033</td>\n",
       "      <td>0</td>\n",
       "    </tr>\n",
       "    <tr>\n",
       "      <th>4</th>\n",
       "      <td>3578285614312748801</td>\n",
       "      <td>0.043221</td>\n",
       "      <td>0.000757</td>\n",
       "      <td>0.000127</td>\n",
       "      <td>0</td>\n",
       "    </tr>\n",
       "  </tbody>\n",
       "</table>\n",
       "</div>"
      ],
      "text/plain": [
       "           instance_id     pred1     pred2     pred3  is_trade\n",
       "0  9026430732534853093  0.004561  0.003338  0.002570         0\n",
       "1  9155155901436899292  0.031189  0.012083  0.000627         0\n",
       "2  3094163606679545517  0.022309  0.007001  0.000848         0\n",
       "3  8573303376462104822  0.122812  0.054428  0.021033         0\n",
       "4  3578285614312748801  0.043221  0.000757  0.000127         0"
      ]
     },
     "execution_count": 16,
     "metadata": {},
     "output_type": "execute_result"
    }
   ],
   "source": [
    "pred.columns = ['instance_id', 'pred1', 'pred2', 'pred3', 'is_trade']\n",
    "pred.head()"
   ]
  },
  {
   "cell_type": "code",
   "execution_count": 17,
   "metadata": {},
   "outputs": [],
   "source": [
    "from sklearn.metrics import log_loss"
   ]
  },
  {
   "cell_type": "code",
   "execution_count": 21,
   "metadata": {},
   "outputs": [
    {
     "name": "stdout",
     "output_type": "stream",
     "text": [
      "0.16360208795625725->0.9:0.09999999999999998\n",
      "CPU times: user 3.1 s, sys: 20 ms, total: 3.12 s\n",
      "Wall time: 2.97 s\n"
     ]
    }
   ],
   "source": [
    "%%time\n",
    "best_logloss = 1\n",
    "best_i = 0\n",
    "\n",
    "for i in range(0, 1000, 25):\n",
    "    i = i / 1000\n",
    "    tmp = i * pred.pred1 + (1 - i) * pred.pred2\n",
    "    tmp_loss = log_loss(pred.is_trade, tmp)\n",
    "    if tmp_loss < best_logloss:\n",
    "        best_logloss = tmp_loss\n",
    "        best_i = i\n",
    "            \n",
    "print(str(best_logloss) + '->' + str(best_i) + ':' + str(1 - best_i))"
   ]
  },
  {
   "cell_type": "code",
   "execution_count": 34,
   "metadata": {},
   "outputs": [
    {
     "name": "stdout",
     "output_type": "stream",
     "text": [
      "0.16360208795625725->900:100:0\n",
      "CPU times: user 1min 8s, sys: 488 ms, total: 1min 8s\n",
      "Wall time: 1min 4s\n"
     ]
    }
   ],
   "source": [
    "%%time\n",
    "best_logloss = 1\n",
    "best_i = 0\n",
    "best_j = 0\n",
    "\n",
    "for i in range(0, 1001, 25):\n",
    "    for j in range(0, 1001-i, 25):\n",
    "        tmp = i/1000 * pred.pred1 + j/1000 * pred.pred2 + (1 - i/1000 - j/1000) * pred.pred3\n",
    "        tmp_loss = log_loss(pred.is_trade, tmp)\n",
    "        if tmp_loss < best_logloss:\n",
    "            best_logloss = tmp_loss\n",
    "            best_i = i\n",
    "            best_j = j\n",
    "            \n",
    "print(str(best_logloss) + '->' + str(best_i) + ':' + str(best_j) + ':' + str(1000 - best_i - best_j))"
   ]
  }
 ],
 "metadata": {
  "kernelspec": {
   "display_name": "Python 3",
   "language": "python",
   "name": "python3"
  },
  "language_info": {
   "codemirror_mode": {
    "name": "ipython",
    "version": 3
   },
   "file_extension": ".py",
   "mimetype": "text/x-python",
   "name": "python",
   "nbconvert_exporter": "python",
   "pygments_lexer": "ipython3",
   "version": "3.6.4"
  }
 },
 "nbformat": 4,
 "nbformat_minor": 2
}
