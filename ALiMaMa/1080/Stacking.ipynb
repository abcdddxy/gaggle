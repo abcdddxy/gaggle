{
 "cells": [
  {
   "cell_type": "code",
   "execution_count": 1,
   "metadata": {},
   "outputs": [],
   "source": [
    "import numpy as np\n",
    "import pandas as pd\n",
    "pd.set_option('display.max_columns', None)\n",
    "import matplotlib.pyplot as plt\n",
    "# import seaborn as sns\n",
    "import pickle\n",
    "import gc\n",
    "import time\n",
    "from tqdm import tqdm\n",
    "\n",
    "%matplotlib inline\n",
    "\n",
    "#每次可以输出多个变量\n",
    "from IPython.core.interactiveshell import InteractiveShell\n",
    "InteractiveShell.ast_node_interactivity = \"all\"\n",
    "\n",
    "from pylab import rcParams\n",
    "rcParams['figure.figsize'] = 14, 6\n",
    "\n",
    "import warnings\n",
    "warnings.filterwarnings(\"ignore\")\n",
    "\n",
    "#中文字体\n",
    "import matplotlib\n",
    "matplotlib.use('qt4agg')\n",
    "#指定默认字体\n",
    "matplotlib.rcParams['font.sans-serif'] = ['SimHei']\n",
    "matplotlib.rcParams['font.family'] = 'sans-serif'\n",
    "#解决负号'-'显示为方块的问题\n",
    "matplotlib.rcParams['axes.unicode_minus'] = False"
   ]
  },
  {
   "cell_type": "code",
   "execution_count": 2,
   "metadata": {},
   "outputs": [],
   "source": [
    "import pandas as pd\n",
    "import lightgbm as lgb\n",
    "import numpy as np\n",
    "import datetime\n",
    "from sklearn.feature_selection import SelectKBest,chi2\n",
    "# from minepy import MINE\n",
    "from tqdm import tqdm\n",
    "import gc \n",
    "import time"
   ]
  },
  {
   "cell_type": "markdown",
   "metadata": {},
   "source": [
    "## 特征列"
   ]
  },
  {
   "cell_type": "code",
   "execution_count": 3,
   "metadata": {},
   "outputs": [],
   "source": [
    "origin = [\n",
    "    'item_price_level', 'item_sales_level', 'item_collected_level',\n",
    "    'item_pv_level', 'user_gender_id', 'user_age_level', 'user_occupation_id',\n",
    "    'user_star_level', 'context_page_id', 'shop_review_num_level',\n",
    "    'shop_review_positive_rate', 'shop_star_level', 'shop_score_service',\n",
    "    'shop_score_delivery', 'shop_score_description'\n",
    "]\n",
    "\n",
    "features_zero = [\n",
    "    'user_count_first_time_sub_full_time', 'user_item_day_num',\n",
    "    'user_trade_hot', 'user_hour_query', 'yesterhour',\n",
    "    'user_minute_count', 'item_occupation_trade_count', 'user_context_count',\n",
    "    'user_sell_power_mean_item_minus', 'city_trade_hot', 'city_item_count_his',\n",
    "    'user_count_first_time_sub', 'user_item_next_time_sub_full_time',\n",
    "    'user_item_next_time_sub', 'item_property_split_count', 'city_item_count',\n",
    "    'max_click', 'brand_trade_percent', 'user_item_num',\n",
    "    'user_shop_next_time_sub_full_time', 'city_brand_count', 'item_trade_hot',\n",
    "    'user_sell_power', 'user_sell_trade_power', 'brand_item_count',\n",
    "    'item_trade_percent', 'user_hot', 'user_shop_count_first_time_sub',\n",
    "    'user_item_day_num_full_time', 'is_last_click', 'item_minute_query',\n",
    "    'user_is_his', 'shop_item_count_his', 'user_item_last_time_sub_full_time',\n",
    "    'user_shop_next_time_sub', 'max_click_time_sub', 'user_item_count',\n",
    "    'item_score', 'last_time_sub', 'user_sell_power_mean',\n",
    "    'user_shop_last_time_sub', 'item_hot', 'user_sell_trade_power_mean',\n",
    "    'user_sell_trade_power_mean_item_minus', 'last_time_sub_full_time',\n",
    "    'brand_trade_hot', 'item_gender_trade_count',\n",
    "    'next_time_sub_full_time', 'max_click_full_time',\n",
    "    'user_shop_last_time_sub_full_time', 'user_item_hour_query',\n",
    "    'shop_item_count', 'user_minute_query', 'brand_item_count_his',\n",
    "    'item_age_trade_count', 'user_day_query', 'max_user_item_click_time_sub',\n",
    "    'item_is_trade_his', 'item_pred_category_score_item%', 'user_query_day',\n",
    "    'item_day_query', 'city_hot', 'user_item_count_first_time_sub',\n",
    "    'item_score2', 'user_query_day_hour', 'hour', 'city_brand_count_his',\n",
    "    'is_last_user_item_click', 'user_shop_num_full_time',\n",
    "    'item_pred_category_score', 'user_item_day_query',\n",
    "    'user_item_last_time_sub', 'user_is_trade_his',\n",
    "    'user_shop_day_num_full_time', 'brand_hot', 'user_shop_day_num',\n",
    "    'user_count', 'shop_trade_hot', 'is_last_user_item_click_full_time',\n",
    "    'next_time_sub', 'user_shop_num', 'shop_hot',\n",
    "    'user_shop_count_first_time_sub_full_time',\n",
    "    'item_pred_property_score_item%',\n",
    "    'user_item_count_first_time_sub_full_time', 'max_user_item_click',\n",
    "    'max_user_item_click_time_sub_full_time', 'user_trade_percent',\n",
    "    'item_hour_query', 'user_yesterday_query', 'min_time', 'user_query_minute',\n",
    "    'max_user_item_click_full_time', 'is_last_click_full_time'\n",
    "]\n",
    "\n",
    "features_cjf = ['user_lastquery_timedelta','user_lastquery','item_price_level_shop_id_bayes_rate_2','item_price_level_shop_id_bayes_rate_1','item_price_stair_shop_id_bayes_rate_1','item_id_bayes_rate_1','item_price_stair_shop_id_bayes_rate_2','item_id_shop_id_bayes_rate_1','item_id_bayes_rate_2','item_id_shop_id_bayes_rate_2','item_id_shop_star_level_bayes_rate_1','item_city_id_shop_id_bayes_rate_2','item_id_shop_review_num_level_bayes_rate_2','item_id_shop_star_level_bayes_rate_2','item_sales_stair_shop_id_bayes_rate_2','item_city_id_shop_id_bayes_rate_1','item_sales_stair_shop_id_bayes_rate_1','shop_id_bayes_rate_2','item_id_shop_review_num_level_bayes_rate_1','item_pv_stair_shop_id_bayes_rate_2','item_brand_id_shop_id_bayes_rate_1','item_pv_stair_shop_id_bayes_rate_1','item_brand_id_shop_id_bayes_rate_2','item_id_gender_filled_bayes_rate_1','item_id_gender_filled_bayes_rate_2','shop_id_gender_filled_bayes_rate_1','shop_id_gender_filled_bayes_rate_2','item_id_user_star_stair_bayes_rate_1','shop_id_user_star_stair_bayes_rate_1','shop_id_user_star_stair_bayes_rate_2','item_collected_level_shop_id_bayes_rate_1','item_collected_level_shop_id_bayes_rate_2','user_query_max_score7_percent','item_sales_level_shop_id_bayes_rate_1','item_sales_level_shop_id_bayes_rate_2','item_pv_level_shop_id_bayes_rate_1','user_query_max_score3_percent','user_query_max_score6_percent','user_query_max_score8_percent','shop_id_user_occupation_stair_bayes_rate_2','shop_id_user_occupation_stair_bayes_rate_1','user_query_max_score5_percent','shop_id_user_age_stair_bayes_rate_2','user_query_max_score1_percent','user_query_max_score2_percent','context_page_stair_shop_id_bayes_rate_2','context_page_stair_shop_id_bayes_rate_1','shop_id_user_age_stair_bayes_rate_1','item_id_user_occupation_stair_bayes_rate_2','item_id_user_gender_id_bayes_rate_1','context_page_stair_item_id_bayes_rate_1','context_page_stair_item_id_bayes_rate_2','shop_id_user_gender_id_bayes_rate_2','item_id_user_occupation_stair_bayes_rate_1','item_id_user_gender_id_bayes_rate_2','shop_id_user_gender_id_bayes_rate_1','item_id_user_age_stair_bayes_rate_2','item_id_user_age_stair_bayes_rate_1','user_query_max_score9_percent','shop_id_user_occupation_id_bayes_rate_2','shop_id_user_occupation_id_bayes_rate_1','user_query_max_score4_percent','user_total_query_times','item_brand_id_shop_star_level_bayes_rate_2','item_brand_id_shop_review_num_level_bayes_rate_1','item_brand_id_shop_star_level_bayes_rate_1','item_brand_id_shop_review_num_level_bayes_rate_2','item_id_user_occupation_id_bayes_rate_2','item_id_user_occupation_id_bayes_rate_1','item_brand_id_bayes_rate_1','item_brand_id_bayes_rate_2','user_query_queryitem_c_similarity_rank2','user_query_goodreview_rank','item_brand_id_gender_filled_bayes_rate_2','item_brand_id_gender_filled_bayes_rate_1','user_query_shopstar_rank','item_brand_id_user_star_stair_bayes_rate_1','user_query_service_rank','user_query_queryitem_c_similarity_rank','user_query_review_rank','item_brand_id_user_star_stair_bayes_rate_2','user_query_queryitem_p_similarity_rank2','user_query_delivery_rank','user_query_queryitem_p_similarity_rank','item_brand_id_user_occupation_stair_bayes_rate_2','shop_id_user_age_level_bayes_rate_2','item_brand_id_user_occupation_stair_bayes_rate_1','user_query_pv_rank','user_query_max_score10_rank','user_query_max_score9_rank','context_page_id_shop_id_bayes_rate_2','item_brand_id_user_age_stair_bayes_rate_1','item_brand_id_user_age_stair_bayes_rate_2','item_brand_id_user_gender_id_bayes_rate_1','item_brand_id_user_gender_id_bayes_rate_2','context_page_id_shop_id_bayes_rate_1','context_page_stair_item_brand_id_bayes_rate_2','context_page_id_item_id_bayes_rate_2','context_page_id_item_id_bayes_rate_1','item_brand_id_user_occupation_id_bayes_rate_1','user_query_collect_rank','user_query_price_rank','item_brand_id_user_occupation_id_bayes_rate_2','item_id_user_age_level_bayes_rate_2','item_id_user_age_level_bayes_rate_1','user_current_hour_query','user_query_sales_div_pv_percent','user_query_max_score2','user_query_max_score4_rank','user_query_collect_percent','user_query_price_percent','user_query_max_score3_rank','user_query_max_score8_rank','user_query_max_score6_rank','user_query_queryitem_p_similarity_percent','user_query_queryitem_p_similarity_percent2','shop_id_user_star_level_bayes_rate_1','shop_id_user_star_level_bayes_rate_2','user_today_query','user_today_query_percent','user_query_sale_rank','user_query_queryitem_c_similarity_percent2','user_query_sales_div_pv_rank','user_query_max_score5','user_query_pv_percent','user_query_shopstar_percent','item_id_user_star_level_bayes_rate_2','user_query_max_score7_rank','user_id_bayes_rate_2','item_brand_id_user_age_level_bayes_rate_1','item_id_user_star_level_bayes_rate_1','user_query_max_score1','item_brand_id_user_age_level_bayes_rate_2','user_query_queryitem_c_similarity_percent','user_query_review_percent','user_current_hour_percent','hour_shop_id_bayes_rate_1','user_id_bayes_rate_1','user_query_goodreview_percent','user_query_max_score3','user_query_max_score8','user_query_description_percent','context_page_id_item_brand_id_bayes_rate_1','context_page_id_item_brand_id_bayes_rate_2','item_pv_stair_user_id_bayes_rate_2','item_pv_stair_user_id_bayes_rate_1','user_query_max_score5_rank','user_query_service_percent','time_slice_user_gender_id_bayes_rate_2','user_query_max_score1_rank','user_query_max_score2_rank','time_slice_gender_filled_bayes_rate_1','time_slice_item_price_stair_bayes_rate_2','time_slice_user_gender_id_bayes_rate_1','time_slice_item_price_stair_bayes_rate_1','time_slice','time_slice_gender_filled_bayes_rate_2','hour_gender_filled_bayes_rate_2','hour_user_gender_id_bayes_rate_1','hour_gender_filled_bayes_rate_1','hour_bayes_rate_1','hour_item_pv_stair_bayes_rate_1','time_slice_user_age_level_bayes_rate_1','time_slice_bayes_rate_1','time_slice_bayes_rate_2','time_slice_item_pv_stair_bayes_rate_1','time_slice_item_pv_stair_bayes_rate_2','user_query_max_score6','hour_user_gender_id_bayes_rate_2','time_slice_user_age_stair_bayes_rate_1','hour','time_slice_user_age_stair_bayes_rate_2','time_slice_user_occupation_stair_bayes_rate_2','hour_bayes_rate_2','hour_item_price_stair_bayes_rate_1','hour_item_price_stair_bayes_rate_2','hour_item_pv_stair_bayes_rate_2','hour_user_age_stair_bayes_rate_1','time_slice_user_age_level_bayes_rate_2','time_slice_user_occupation_stair_bayes_rate_1','time_slice_user_star_stair_bayes_rate_2','hour_user_age_level_bayes_rate_1','item_brand_id_user_star_level_bayes_rate_2','item_brand_id_user_star_level_bayes_rate_1','time_slice_user_star_stair_bayes_rate_1','hour_item_brand_id_bayes_rate_2','time_slice_item_sales_stair_bayes_rate_1','hour_user_age_stair_bayes_rate_2','hour_user_star_stair_bayes_rate_2','time_slice_user_occupation_id_bayes_rate_2','hour_user_age_level_bayes_rate_2','hour_user_occupation_id_bayes_rate_2','time_slice_user_occupation_id_bayes_rate_1','hour_user_star_stair_bayes_rate_1','time_slice_item_sales_stair_bayes_rate_2','hour_item_id_bayes_rate_2','hour_item_brand_id_bayes_rate_1','hour_item_city_id_bayes_rate_2','hour_item_sales_stair_bayes_rate_1','hour_user_occupation_id_bayes_rate_1','hour_user_occupation_stair_bayes_rate_1','hour_item_city_id_bayes_rate_1','hour_user_occupation_stair_bayes_rate_2','hour_item_pv_level_bayes_rate_1','hour_item_id_bayes_rate_1','time_slice_item_price_level_bayes_rate_1','time_slice_item_price_level_bayes_rate_2','context_page_stair_user_id_bayes_rate_2','time_slice_item_sales_level_bayes_rate_1','time_slice_item_sales_level_bayes_rate_2','hour_item_sales_level_bayes_rate_1','hour_item_pv_level_bayes_rate_2','context_page_stair_user_id_bayes_rate_1','shop_today_query','time_slice_item_pv_level_bayes_rate_2','hour_user_star_level_bayes_rate_2','hour_user_star_level_bayes_rate_1','item_city_id_shop_star_level_bayes_rate_1','item_price_stair_user_id_bayes_rate_1','time_slice_item_collected_level_bayes_rate_2','time_slice_item_collected_level_bayes_rate_1','item_city_id_shop_star_level_bayes_rate_2','time_slice_item_pv_level_bayes_rate_1','hour_shop_review_num_level_bayes_rate_2','user_query_max_score9','time_slice_user_star_level_bayes_rate_1','hour_item_collected_level_bayes_rate_2','item_price_stair_user_id_bayes_rate_2','hour_shop_star_level_bayes_rate_1','item_city_id_shop_review_num_level_bayes_rate_1','hour_shop_star_level_bayes_rate_2','time_slice_item_city_id_bayes_rate_1','time_slice_shop_id_bayes_rate_2','time_slice_user_star_level_bayes_rate_2','item_city_id_shop_review_num_level_bayes_rate_2','hour_shop_review_num_level_bayes_rate_1','time_slice_item_city_id_bayes_rate_2','user_query_max_score7','shop_today_query_percent','time_slice_shop_id_bayes_rate_1','time_slice_shop_star_level_bayes_rate_2','time_slice_shop_review_num_level_bayes_rate_2','time_slice_shop_star_level_bayes_rate_1','user_query_maxreview','shop_current_hour_query','user_query_best_service','time_slice_shop_review_num_level_bayes_rate_1','user_query_maxshopstar','user_query_best_description','shop_cnt_dayavg_total','time_slice_item_brand_id_bayes_rate_2','user_query_best_delivery','time_slice_item_brand_id_bayes_rate_1','user_cnt_total','user_cnt_dayavg_total','category_1','shop_cnt_total','user_query_maxgoodreview','user_query_max_score4','shop_cnt_day','context_page_id_user_id_bayes_rate_2','item_sales_stair_user_id_bayes_rate_2','item_sales_stair_user_id_bayes_rate_1','context_page_id_user_id_bayes_rate_1','shop_current_hour_percent','user_query_maxcollect','query_category_0','item_price_category_percent','item_city_id_bayes_rate_2','user_query_maxpv','item_city_id_bayes_rate_1','time_slice_item_id_bayes_rate_1','item_city_id_gender_filled_bayes_rate_2','item_city_id_gender_filled_bayes_rate_1','item_city_id_user_star_stair_bayes_rate_2','item_city_id_user_star_stair_bayes_rate_1','brand_today_query','time_slice_item_id_bayes_rate_2','item_city_id_user_gender_id_bayes_rate_1','item_city_id_user_age_stair_bayes_rate_1','item_city_id_user_gender_id_bayes_rate_2','item_city_id_user_age_stair_bayes_rate_2','context_page_stair_item_city_id_bayes_rate_1','item_city_id_user_occupation_id_bayes_rate_1','brand_current_hour_percent','item_price_level_user_id_bayes_rate_2','item_city_id_user_occupation_id_bayes_rate_2','brand_current_hour_query','item_city_id_user_occupation_stair_bayes_rate_2','user_query_max_score10','item_price_category_rank','context_page_stair_item_city_id_bayes_rate_2','item_city_id_user_occupation_stair_bayes_rate_1','user_query_maxsell','item_city_id_user_age_level_bayes_rate_1','item_city_id_user_age_level_bayes_rate_2','item_city_id','user_query_maxsales_div_pv','item_city_sales_category_percent','item_city_id_user_star_level_bayes_rate_1','context_page_id_item_city_id_bayes_rate_1','item_city_id_user_star_level_bayes_rate_2','context_page_id_item_city_id_bayes_rate_2','user_query_maxqueryitem_c_similarity','property_count','category_2','item_brand_price_category_percent','item_brand_pv_category_rank','user_query_maxqueryitem_p_similarity','item_collected_level_user_id_bayes_rate_1','user_query_maxqueryitem_c_similarity2','property_0','item_city_pv_category_percent','item_city_price_category_percent','shop_star_level_user_id_bayes_rate_1','shop_star_level_user_id_bayes_rate_2','item_collected_level_user_id_bayes_rate_2','item_pv_level_user_id_bayes_rate_2','item_city_sales_div_pv_category_percent','item_pv_level_user_id_bayes_rate_1','property_27','item_city_collect_category_rank','property_26','shop_review_num_level_user_id_bayes_rate_1','shop_id_user_gender_id_percent','property_30','user_query_maxqueryitem_p_similarity2','property_29','item_collect_category_rank','item_city_collect_category_percent','property_28','item_brand_sales_category_rank','item_city_sales_category_rank','shop_review_num_level_user_id_bayes_rate_2','item_sales_level_user_id_bayes_rate_2','property_31','item_id_user_gender_id_percent','hour_user_id_bayes_rate_1','item_city_sales_div_pv_category_rank','user_query_cheapest','hour_user_id_bayes_rate_2','item_id_user_id_bayes_rate_1','item_brand_collect_category_rank','shop_avg_age','item_brand_sales_category_percent','item_brand_id_user_gender_id_percent','item_city_pv_category_rank','item_brand_sales_div_pv_category_rank','item_sales_level_user_id_bayes_rate_1','property_33','brand_avg_star','common_category_prob2','item_brand_price_category_rank','user_isnew','item_collect_category_percent','property_32','category_col_47','property_1','property_25','item_id_user_id_bayes_rate_2','item_sales_category_percent','brand_avg_age','property_36','shop_id','property_34','property_38','query_category_1','property_3','shop_id_user_id_bayes_rate_1','shop_avg_star','property_24','item_brand_collect_category_percent','item_sales_div_pv_rank','item_brand_sales_div_pv_category_percent','property_2','item_pv_category_rank','property_35','item_pv_category_percent','category_col_19','shop_id_user_id_bayes_rate_2','query_col_0','property_39','item_price_level_user_age_stair_bayes_rate_1','item_price_level_user_age_stair_bayes_rate_2','item_sales_category_rank','common_category','category_col_78','item_brand_pv_category_percent','common_category_prob','item_current_hour_query','shop_id_user_age_level_percent','property_22','property_6','property_12','item_price_level_bayes_rate_1','item_price_level_bayes_rate_2','shop_id_user_occupation_id_percent','item_avg_age','property_37','category_col_31','item_price_level_user_gender_id_bayes_rate_1','item_price_level_user_gender_id_bayes_rate_2','property_11','property_4','item_avg_star','user_cnt_day','item_price_stair_user_age_level_bayes_rate_2','item_price_level_user_star_stair_bayes_rate_1','item_price_level_user_star_stair_bayes_rate_2','property_19','user_shop_age_dist','item_price_stair_user_age_level_bayes_rate_1','item_price_stair_user_age_stair_bayes_rate_1','item_price_stair_user_age_stair_bayes_rate_2','item_collected_level_shop_review_num_level_bayes_rate_1','user_gender_id_bayes_rate_1','user_gender_id_bayes_rate_2','item_price_level_user_age_level_bayes_rate_1','property_10','context_page_id_user_age_stair_bayes_rate_2','item_collected_level_shop_review_num_level_bayes_rate_2','item_price_stair_user_occupation_id_bayes_rate_1','item_price_stair_user_occupation_id_bayes_rate_2','item_price_stair_gender_filled_bayes_rate_2','property_14','item_price_stair_gender_filled_bayes_rate_1','item_today_query','property_7','category_col_56','item_city_id_user_id_bayes_rate_2','item_price_level_gender_filled_bayes_rate_1','item_price_level_gender_filled_bayes_rate_2','user_brand_age_dist','category_col_84','item_pv_stair_gender_filled_bayes_rate_2','user_brand_star_dist','user_shop_dist_dist','item_brand_id','category_col_45','item_pv_stair_user_star_stair_bayes_rate_1','item_pv_stair_user_star_stair_bayes_rate_2','shop_review_num_level_bayes_rate_1','context_page_id_gender_filled_bayes_rate_1','context_page_id_user_star_stair_bayes_rate_2','item_price_stair_user_star_stair_bayes_rate_1','item_price_stair_user_star_stair_bayes_rate_2','item_collected_level_shop_star_level_bayes_rate_1','item_sales_level_user_gender_id_bayes_rate_2','category_col_59','item_collected_level_shop_star_level_bayes_rate_2','item_price_stair_bayes_rate_1','item_price_stair_bayes_rate_2','item_sales_level_user_gender_id_bayes_rate_1','property_8','time_slice_user_id_bayes_rate_2','item_cnt_dayavg_total','property_9','category_col_83']\n",
    "features_cjf.remove('hour')\n",
    "features_cjf.remove('user_cnt_day')\n",
    "features_cjf.remove('shop_cnt_day')\n",
    "\n",
    "features_cjy = ['item_cat_vec0', 'item_cat_vec1', 'item_cat_vec2',\n",
    "       'item_cat_vec3', 'item_cat_vec4', 'item_cat_vec5', 'item_cat_vec6',\n",
    "       'item_cat_vec7', 'item_cat_vec8', 'item_cat_vec9', 'item_cat_vec10',\n",
    "       'item_cat_vec11', 'item_cat_vec12', 'item_cat_vec13', 'item_cat_vec14',\n",
    "       'item_cat_vec15', 'shop_item_cnt', 'shop_brand_cnt',\n",
    "       'item_pred_cat_cos', 'item_pred_ppt_cos', 'age_category_min',\n",
    "       'gender_category_mean', 'occupation_category_max', 'star_category_max',\n",
    "       'gender_category_min', 'star_category_min', 'occupation_category_min',\n",
    "       '24h_cat_hot_item', '24h_ppt_hot_item', '24h_user_seem_times_item',\n",
    "       '24h_cat_hot', '24h_ppt_hot', '24h_user_seem_times', 'item_id_pred_1',\n",
    "       'shop_id_pred_1','item_brand_id_pred_1','user_id_pred_1','context_hour_pred_1',\n",
    "       'hist_hour_ctr_pred_1','shop_item_cnt_pred_1','gender_category_min_pred_1','gender_category_mean_pred_1',\n",
    "       'occupation_category_min_pred_1','item_brand_id+item_city_id_pred_1','item_brand_id+item_price_level_pred_1',\n",
    "       'item_brand_id+item_sales_level_pred_1','item_brand_id+item_collected_level_pred_1','item_brand_id+item_pv_level_pred_1',\n",
    "       'context_page_id+context_hour_pred_1','shop_review_num_level+shop_item_cnt_pred_1','shop_star_level+shop_item_cnt_pred_1',\n",
    "       'shop_item_cnt+shop_brand_cnt_pred_1','shop_review_positive_rate+shop_item_cnt_pred_1','shop_review_num_level+shop_review_positive_rate_pred_1',\n",
    "       'item_city_id+item_pv_level_pred_1','item_sales_level+item_collected_level_pred_1','item_city_id+item_price_level_pred_1',\n",
    "       'shop_score_description+shop_item_cnt_pred_1','shop_score_delivery+shop_item_cnt_pred_1','shop_review_positive_rate+shop_star_level_pred_1',\n",
    "       'item_price_level+item_collected_level_pred_1','shop_score_service+shop_score_delivery_pred_1','shop_star_level+shop_brand_cnt_pred_1',\n",
    "       'item_city_id+item_collected_level_pred_1','item_city_id+item_sales_level_pred_1','shop_star_level+shop_score_description_pred_1',\n",
    "       'shop_review_positive_rate+shop_score_service_pred_1','user_age_level+user_star_level_pred_1','shop_review_num_level+shop_brand_cnt_pred_1',\n",
    "       'shop_score_service+shop_score_description_pred_1','shop_review_num_level+shop_score_service_pred_1','shop_star_level+shop_score_delivery_pred_1',\n",
    "       'user_occupation_id+user_star_level_pred_1']\n",
    "\n",
    "target = ['is_trade']\n",
    "\n",
    "by = ['instance_id']"
   ]
  },
  {
   "cell_type": "code",
   "execution_count": 4,
   "metadata": {},
   "outputs": [
    {
     "data": {
      "text/plain": [
       "637"
      ]
     },
     "execution_count": 4,
     "metadata": {},
     "output_type": "execute_result"
    }
   ],
   "source": [
    "predictors = list(set(origin + features_zero + features_cjf + features_cjy))\n",
    "len(predictors)"
   ]
  },
  {
   "cell_type": "markdown",
   "metadata": {},
   "source": [
    "## 读数据"
   ]
  },
  {
   "cell_type": "code",
   "execution_count": 5,
   "metadata": {},
   "outputs": [
    {
     "data": {
      "text/plain": [
       "(2357860, 642)"
      ]
     },
     "execution_count": 5,
     "metadata": {},
     "output_type": "execute_result"
    },
    {
     "data": {
      "text/plain": [
       "(1729656, 642)"
      ]
     },
     "execution_count": 5,
     "metadata": {},
     "output_type": "execute_result"
    }
   ],
   "source": [
    "train = pd.read_csv('train_model2_mix_final.csv')\n",
    "test = pd.read_csv('test_model2_mix_final.csv')\n",
    "\n",
    "train.shape\n",
    "test.shape"
   ]
  },
  {
   "cell_type": "markdown",
   "metadata": {},
   "source": [
    "## 切分结果"
   ]
  },
  {
   "cell_type": "code",
   "execution_count": 6,
   "metadata": {},
   "outputs": [
    {
     "data": {
      "text/plain": [
       "{0: array([      1467332744642,      31168815605908,      34184420712504, ...,\n",
       "        5971377741080961986, 5974120441804431573, 5984460737438686294]),\n",
       " 1: array([4013803974121919208, 4013915255555117537, 4014097568838562892, ...,\n",
       "        5464551454004330330, 5466156937331656891, 5470385729918491039]),\n",
       " 2: array([ 239711996433822837,  239734248409520136,  239775700966388495, ...,\n",
       "        8573050094989475734, 8578725633646746836, 8579438100404380058]),\n",
       " 3: array([4154201336437765114, 4154375151458362143, 4154380146478054260, ...,\n",
       "        8266179397285344615, 8266755394251995579, 8267168646953887462]),\n",
       " 4: array([6060183997054029599, 6060304206666061504, 6060435031736288732, ...,\n",
       "        9223078109497825671, 9223185444724062390, 9223340447851431399])}"
      ]
     },
     "execution_count": 6,
     "metadata": {},
     "output_type": "execute_result"
    }
   ],
   "source": [
    "split_dict = pickle.load(open('45th_5f_stratifiedkfold.pk', 'rb'))\n",
    "split_dict"
   ]
  },
  {
   "cell_type": "code",
   "execution_count": 7,
   "metadata": {},
   "outputs": [
    {
     "data": {
      "text/plain": [
       "(471573, 642)"
      ]
     },
     "execution_count": 7,
     "metadata": {},
     "output_type": "execute_result"
    }
   ],
   "source": [
    "train[train.instance_id.isin(list(split_dict[0]))].shape"
   ]
  },
  {
   "cell_type": "markdown",
   "metadata": {},
   "source": [
    "## 训练"
   ]
  },
  {
   "cell_type": "code",
   "execution_count": 8,
   "metadata": {},
   "outputs": [],
   "source": [
    "import lightgbm as lgb\n",
    "import xgboost as xgb\n",
    "from sklearn.ensemble import RandomForestClassifier"
   ]
  },
  {
   "cell_type": "code",
   "execution_count": 9,
   "metadata": {},
   "outputs": [],
   "source": [
    "def stacking_day(d_train, d_test, d):\n",
    "    train = d_train[~d_train.instance_id.isin(list(split_dict[d]))]\n",
    "    pred  = d_train[d_train.instance_id.isin(list(split_dict[d]))]\n",
    "    return model_train(train, pred, d_test)"
   ]
  },
  {
   "cell_type": "code",
   "execution_count": 10,
   "metadata": {},
   "outputs": [],
   "source": [
    "model_name = 'lgb_zero'\n",
    "def model_train(train, pred, test):   \n",
    "    # 参数\n",
    "    lgb_online = lgb.LGBMClassifier(\n",
    "        objective='binary',\n",
    "        metric='binary_logloss',\n",
    "        num_leaves=7,#35,\n",
    "        max_depth=3,\n",
    "        learning_rate=0.05, # small_eta\n",
    "        reg_alpha = .4,\n",
    "        reg_lambda = .2,\n",
    "        colsample_bytree = .8,\n",
    "        subsample = .9,\n",
    "        random_state=1024,\n",
    "        n_estimators=1400,\n",
    "        n_jobs = 31,\n",
    "        histogram_pool_size=30270,\n",
    "        max_bin=63\n",
    "    )\n",
    "    # 训练模型\n",
    "    model = lgb_online.fit(train[predictors],train['is_trade'],eval_set=[(pred[predictors],pred['is_trade'])],early_stopping_rounds=50,verbose=False)\n",
    "    return model.predict_proba(pred[predictors])[:,1], model.predict_proba(test[predictors])[:,1]"
   ]
  },
  {
   "cell_type": "code",
   "execution_count": 11,
   "metadata": {
    "collapsed": true
   },
   "outputs": [
    {
     "ename": "MemoryError",
     "evalue": "",
     "output_type": "error",
     "traceback": [
      "\u001b[0;31m---------------------------------------------------------------------------\u001b[0m",
      "\u001b[0;31mMemoryError\u001b[0m                               Traceback (most recent call last)",
      "\u001b[0;32m<timed exec>\u001b[0m in \u001b[0;36m<module>\u001b[0;34m()\u001b[0m\n",
      "\u001b[0;32m<ipython-input-9-6a923f3f647b>\u001b[0m in \u001b[0;36mstacking_day\u001b[0;34m(d_train, d_test, d)\u001b[0m\n\u001b[1;32m      2\u001b[0m     \u001b[0mtrain\u001b[0m \u001b[0;34m=\u001b[0m \u001b[0md_train\u001b[0m\u001b[0;34m[\u001b[0m\u001b[0;34m~\u001b[0m\u001b[0md_train\u001b[0m\u001b[0;34m.\u001b[0m\u001b[0minstance_id\u001b[0m\u001b[0;34m.\u001b[0m\u001b[0misin\u001b[0m\u001b[0;34m(\u001b[0m\u001b[0mlist\u001b[0m\u001b[0;34m(\u001b[0m\u001b[0msplit_dict\u001b[0m\u001b[0;34m[\u001b[0m\u001b[0md\u001b[0m\u001b[0;34m]\u001b[0m\u001b[0;34m)\u001b[0m\u001b[0;34m)\u001b[0m\u001b[0;34m]\u001b[0m\u001b[0;34m\u001b[0m\u001b[0m\n\u001b[1;32m      3\u001b[0m     \u001b[0mpred\u001b[0m  \u001b[0;34m=\u001b[0m \u001b[0md_train\u001b[0m\u001b[0;34m[\u001b[0m\u001b[0md_train\u001b[0m\u001b[0;34m.\u001b[0m\u001b[0minstance_id\u001b[0m\u001b[0;34m.\u001b[0m\u001b[0misin\u001b[0m\u001b[0;34m(\u001b[0m\u001b[0mlist\u001b[0m\u001b[0;34m(\u001b[0m\u001b[0msplit_dict\u001b[0m\u001b[0;34m[\u001b[0m\u001b[0md\u001b[0m\u001b[0;34m]\u001b[0m\u001b[0;34m)\u001b[0m\u001b[0;34m)\u001b[0m\u001b[0;34m]\u001b[0m\u001b[0;34m\u001b[0m\u001b[0m\n\u001b[0;32m----> 4\u001b[0;31m     \u001b[0;32mreturn\u001b[0m \u001b[0mmodel_train\u001b[0m\u001b[0;34m(\u001b[0m\u001b[0mtrain\u001b[0m\u001b[0;34m,\u001b[0m \u001b[0mpred\u001b[0m\u001b[0;34m,\u001b[0m \u001b[0md_test\u001b[0m\u001b[0;34m)\u001b[0m\u001b[0;34m\u001b[0m\u001b[0m\n\u001b[0m",
      "\u001b[0;32m<ipython-input-10-09254b8a7c70>\u001b[0m in \u001b[0;36mmodel_train\u001b[0;34m(train, pred, test)\u001b[0m\n\u001b[1;32m     19\u001b[0m     )\n\u001b[1;32m     20\u001b[0m     \u001b[0;31m# 训练模型\u001b[0m\u001b[0;34m\u001b[0m\u001b[0;34m\u001b[0m\u001b[0m\n\u001b[0;32m---> 21\u001b[0;31m     \u001b[0mmodel\u001b[0m \u001b[0;34m=\u001b[0m \u001b[0mlgb_online\u001b[0m\u001b[0;34m.\u001b[0m\u001b[0mfit\u001b[0m\u001b[0;34m(\u001b[0m\u001b[0mtrain\u001b[0m\u001b[0;34m[\u001b[0m\u001b[0mpredictors\u001b[0m\u001b[0;34m]\u001b[0m\u001b[0;34m,\u001b[0m\u001b[0mtrain\u001b[0m\u001b[0;34m[\u001b[0m\u001b[0;34m'is_trade'\u001b[0m\u001b[0;34m]\u001b[0m\u001b[0;34m,\u001b[0m\u001b[0meval_set\u001b[0m\u001b[0;34m=\u001b[0m\u001b[0;34m[\u001b[0m\u001b[0;34m(\u001b[0m\u001b[0mpred\u001b[0m\u001b[0;34m[\u001b[0m\u001b[0mpredictors\u001b[0m\u001b[0;34m]\u001b[0m\u001b[0;34m,\u001b[0m\u001b[0mpred\u001b[0m\u001b[0;34m[\u001b[0m\u001b[0;34m'is_trade'\u001b[0m\u001b[0;34m]\u001b[0m\u001b[0;34m)\u001b[0m\u001b[0;34m]\u001b[0m\u001b[0;34m,\u001b[0m\u001b[0mearly_stopping_rounds\u001b[0m\u001b[0;34m=\u001b[0m\u001b[0;36m50\u001b[0m\u001b[0;34m,\u001b[0m\u001b[0mverbose\u001b[0m\u001b[0;34m=\u001b[0m\u001b[0;32mFalse\u001b[0m\u001b[0;34m)\u001b[0m\u001b[0;34m\u001b[0m\u001b[0m\n\u001b[0m\u001b[1;32m     22\u001b[0m     \u001b[0;32mreturn\u001b[0m \u001b[0mmodel\u001b[0m\u001b[0;34m.\u001b[0m\u001b[0mpredict_proba\u001b[0m\u001b[0;34m(\u001b[0m\u001b[0mpred\u001b[0m\u001b[0;34m[\u001b[0m\u001b[0mpredictors\u001b[0m\u001b[0;34m]\u001b[0m\u001b[0;34m)\u001b[0m\u001b[0;34m[\u001b[0m\u001b[0;34m:\u001b[0m\u001b[0;34m,\u001b[0m\u001b[0;36m1\u001b[0m\u001b[0;34m]\u001b[0m\u001b[0;34m,\u001b[0m \u001b[0mmodel\u001b[0m\u001b[0;34m.\u001b[0m\u001b[0mpredict_proba\u001b[0m\u001b[0;34m(\u001b[0m\u001b[0mtest\u001b[0m\u001b[0;34m[\u001b[0m\u001b[0mpredictors\u001b[0m\u001b[0;34m]\u001b[0m\u001b[0;34m)\u001b[0m\u001b[0;34m[\u001b[0m\u001b[0;34m:\u001b[0m\u001b[0;34m,\u001b[0m\u001b[0;36m1\u001b[0m\u001b[0;34m]\u001b[0m\u001b[0;34m\u001b[0m\u001b[0m\n",
      "\u001b[0;32m~/anaconda3/lib/python3.6/site-packages/lightgbm/sklearn.py\u001b[0m in \u001b[0;36mfit\u001b[0;34m(self, X, y, sample_weight, init_score, eval_set, eval_names, eval_sample_weight, eval_class_weight, eval_init_score, eval_metric, early_stopping_rounds, verbose, feature_name, categorical_feature, callbacks)\u001b[0m\n\u001b[1;32m    677\u001b[0m                                         \u001b[0mverbose\u001b[0m\u001b[0;34m=\u001b[0m\u001b[0mverbose\u001b[0m\u001b[0;34m,\u001b[0m \u001b[0mfeature_name\u001b[0m\u001b[0;34m=\u001b[0m\u001b[0mfeature_name\u001b[0m\u001b[0;34m,\u001b[0m\u001b[0;34m\u001b[0m\u001b[0m\n\u001b[1;32m    678\u001b[0m                                         \u001b[0mcategorical_feature\u001b[0m\u001b[0;34m=\u001b[0m\u001b[0mcategorical_feature\u001b[0m\u001b[0;34m,\u001b[0m\u001b[0;34m\u001b[0m\u001b[0m\n\u001b[0;32m--> 679\u001b[0;31m                                         callbacks=callbacks)\n\u001b[0m\u001b[1;32m    680\u001b[0m         \u001b[0;32mreturn\u001b[0m \u001b[0mself\u001b[0m\u001b[0;34m\u001b[0m\u001b[0m\n\u001b[1;32m    681\u001b[0m \u001b[0;34m\u001b[0m\u001b[0m\n",
      "\u001b[0;32m~/anaconda3/lib/python3.6/site-packages/lightgbm/sklearn.py\u001b[0m in \u001b[0;36mfit\u001b[0;34m(self, X, y, sample_weight, init_score, group, eval_set, eval_names, eval_sample_weight, eval_class_weight, eval_init_score, eval_group, eval_metric, early_stopping_rounds, verbose, feature_name, categorical_feature, callbacks)\u001b[0m\n\u001b[1;32m    471\u001b[0m                               \u001b[0mverbose_eval\u001b[0m\u001b[0;34m=\u001b[0m\u001b[0mverbose\u001b[0m\u001b[0;34m,\u001b[0m \u001b[0mfeature_name\u001b[0m\u001b[0;34m=\u001b[0m\u001b[0mfeature_name\u001b[0m\u001b[0;34m,\u001b[0m\u001b[0;34m\u001b[0m\u001b[0m\n\u001b[1;32m    472\u001b[0m                               \u001b[0mcategorical_feature\u001b[0m\u001b[0;34m=\u001b[0m\u001b[0mcategorical_feature\u001b[0m\u001b[0;34m,\u001b[0m\u001b[0;34m\u001b[0m\u001b[0m\n\u001b[0;32m--> 473\u001b[0;31m                               callbacks=callbacks)\n\u001b[0m\u001b[1;32m    474\u001b[0m \u001b[0;34m\u001b[0m\u001b[0m\n\u001b[1;32m    475\u001b[0m         \u001b[0;32mif\u001b[0m \u001b[0mevals_result\u001b[0m\u001b[0;34m:\u001b[0m\u001b[0;34m\u001b[0m\u001b[0m\n",
      "\u001b[0;32m~/anaconda3/lib/python3.6/site-packages/lightgbm/engine.py\u001b[0m in \u001b[0;36mtrain\u001b[0;34m(params, train_set, num_boost_round, valid_sets, valid_names, fobj, feval, init_model, feature_name, categorical_feature, early_stopping_rounds, evals_result, verbose_eval, learning_rates, keep_training_booster, callbacks)\u001b[0m\n\u001b[1;32m    178\u001b[0m     \u001b[0;31m# construct booster\u001b[0m\u001b[0;34m\u001b[0m\u001b[0;34m\u001b[0m\u001b[0m\n\u001b[1;32m    179\u001b[0m     \u001b[0;32mtry\u001b[0m\u001b[0;34m:\u001b[0m\u001b[0;34m\u001b[0m\u001b[0m\n\u001b[0;32m--> 180\u001b[0;31m         \u001b[0mbooster\u001b[0m \u001b[0;34m=\u001b[0m \u001b[0mBooster\u001b[0m\u001b[0;34m(\u001b[0m\u001b[0mparams\u001b[0m\u001b[0;34m=\u001b[0m\u001b[0mparams\u001b[0m\u001b[0;34m,\u001b[0m \u001b[0mtrain_set\u001b[0m\u001b[0;34m=\u001b[0m\u001b[0mtrain_set\u001b[0m\u001b[0;34m)\u001b[0m\u001b[0;34m\u001b[0m\u001b[0m\n\u001b[0m\u001b[1;32m    181\u001b[0m         \u001b[0;32mif\u001b[0m \u001b[0mis_valid_contain_train\u001b[0m\u001b[0;34m:\u001b[0m\u001b[0;34m\u001b[0m\u001b[0m\n\u001b[1;32m    182\u001b[0m             \u001b[0mbooster\u001b[0m\u001b[0;34m.\u001b[0m\u001b[0mset_train_data_name\u001b[0m\u001b[0;34m(\u001b[0m\u001b[0mtrain_data_name\u001b[0m\u001b[0;34m)\u001b[0m\u001b[0;34m\u001b[0m\u001b[0m\n",
      "\u001b[0;32m~/anaconda3/lib/python3.6/site-packages/lightgbm/basic.py\u001b[0m in \u001b[0;36m__init__\u001b[0;34m(self, params, train_set, model_file, silent)\u001b[0m\n\u001b[1;32m   1300\u001b[0m             \u001b[0mself\u001b[0m\u001b[0;34m.\u001b[0m\u001b[0mhandle\u001b[0m \u001b[0;34m=\u001b[0m \u001b[0mctypes\u001b[0m\u001b[0;34m.\u001b[0m\u001b[0mc_void_p\u001b[0m\u001b[0;34m(\u001b[0m\u001b[0;34m)\u001b[0m\u001b[0;34m\u001b[0m\u001b[0m\n\u001b[1;32m   1301\u001b[0m             _safe_call(_LIB.LGBM_BoosterCreate(\n\u001b[0;32m-> 1302\u001b[0;31m                 \u001b[0mtrain_set\u001b[0m\u001b[0;34m.\u001b[0m\u001b[0mconstruct\u001b[0m\u001b[0;34m(\u001b[0m\u001b[0;34m)\u001b[0m\u001b[0;34m.\u001b[0m\u001b[0mhandle\u001b[0m\u001b[0;34m,\u001b[0m\u001b[0;34m\u001b[0m\u001b[0m\n\u001b[0m\u001b[1;32m   1303\u001b[0m                 \u001b[0mc_str\u001b[0m\u001b[0;34m(\u001b[0m\u001b[0mparams_str\u001b[0m\u001b[0;34m)\u001b[0m\u001b[0;34m,\u001b[0m\u001b[0;34m\u001b[0m\u001b[0m\n\u001b[1;32m   1304\u001b[0m                 ctypes.byref(self.handle)))\n",
      "\u001b[0;32m~/anaconda3/lib/python3.6/site-packages/lightgbm/basic.py\u001b[0m in \u001b[0;36mconstruct\u001b[0;34m(self)\u001b[0m\n\u001b[1;32m    854\u001b[0m                                 \u001b[0mweight\u001b[0m\u001b[0;34m=\u001b[0m\u001b[0mself\u001b[0m\u001b[0;34m.\u001b[0m\u001b[0mweight\u001b[0m\u001b[0;34m,\u001b[0m \u001b[0mgroup\u001b[0m\u001b[0;34m=\u001b[0m\u001b[0mself\u001b[0m\u001b[0;34m.\u001b[0m\u001b[0mgroup\u001b[0m\u001b[0;34m,\u001b[0m \u001b[0minit_score\u001b[0m\u001b[0;34m=\u001b[0m\u001b[0mself\u001b[0m\u001b[0;34m.\u001b[0m\u001b[0minit_score\u001b[0m\u001b[0;34m,\u001b[0m\u001b[0;34m\u001b[0m\u001b[0m\n\u001b[1;32m    855\u001b[0m                                 \u001b[0mpredictor\u001b[0m\u001b[0;34m=\u001b[0m\u001b[0mself\u001b[0m\u001b[0;34m.\u001b[0m\u001b[0m_predictor\u001b[0m\u001b[0;34m,\u001b[0m \u001b[0msilent\u001b[0m\u001b[0;34m=\u001b[0m\u001b[0mself\u001b[0m\u001b[0;34m.\u001b[0m\u001b[0msilent\u001b[0m\u001b[0;34m,\u001b[0m \u001b[0mfeature_name\u001b[0m\u001b[0;34m=\u001b[0m\u001b[0mself\u001b[0m\u001b[0;34m.\u001b[0m\u001b[0mfeature_name\u001b[0m\u001b[0;34m,\u001b[0m\u001b[0;34m\u001b[0m\u001b[0m\n\u001b[0;32m--> 856\u001b[0;31m                                 categorical_feature=self.categorical_feature, params=self.params)\n\u001b[0m\u001b[1;32m    857\u001b[0m             \u001b[0;32mif\u001b[0m \u001b[0mself\u001b[0m\u001b[0;34m.\u001b[0m\u001b[0mfree_raw_data\u001b[0m\u001b[0;34m:\u001b[0m\u001b[0;34m\u001b[0m\u001b[0m\n\u001b[1;32m    858\u001b[0m                 \u001b[0mself\u001b[0m\u001b[0;34m.\u001b[0m\u001b[0mdata\u001b[0m \u001b[0;34m=\u001b[0m \u001b[0;32mNone\u001b[0m\u001b[0;34m\u001b[0m\u001b[0m\n",
      "\u001b[0;32m~/anaconda3/lib/python3.6/site-packages/lightgbm/basic.py\u001b[0m in \u001b[0;36m_lazy_init\u001b[0;34m(self, data, label, reference, weight, group, init_score, predictor, silent, feature_name, categorical_feature, params)\u001b[0m\n\u001b[1;32m    646\u001b[0m             \u001b[0mself\u001b[0m\u001b[0;34m.\u001b[0m\u001b[0mpandas_categorical\u001b[0m \u001b[0;34m=\u001b[0m \u001b[0mreference\u001b[0m\u001b[0;34m.\u001b[0m\u001b[0mpandas_categorical\u001b[0m\u001b[0;34m\u001b[0m\u001b[0m\n\u001b[1;32m    647\u001b[0m             \u001b[0mcategorical_feature\u001b[0m \u001b[0;34m=\u001b[0m \u001b[0mreference\u001b[0m\u001b[0;34m.\u001b[0m\u001b[0mcategorical_feature\u001b[0m\u001b[0;34m\u001b[0m\u001b[0m\n\u001b[0;32m--> 648\u001b[0;31m         \u001b[0mdata\u001b[0m\u001b[0;34m,\u001b[0m \u001b[0mfeature_name\u001b[0m\u001b[0;34m,\u001b[0m \u001b[0mcategorical_feature\u001b[0m\u001b[0;34m,\u001b[0m \u001b[0mself\u001b[0m\u001b[0;34m.\u001b[0m\u001b[0mpandas_categorical\u001b[0m \u001b[0;34m=\u001b[0m \u001b[0m_data_from_pandas\u001b[0m\u001b[0;34m(\u001b[0m\u001b[0mdata\u001b[0m\u001b[0;34m,\u001b[0m \u001b[0mfeature_name\u001b[0m\u001b[0;34m,\u001b[0m \u001b[0mcategorical_feature\u001b[0m\u001b[0;34m,\u001b[0m \u001b[0mself\u001b[0m\u001b[0;34m.\u001b[0m\u001b[0mpandas_categorical\u001b[0m\u001b[0;34m)\u001b[0m\u001b[0;34m\u001b[0m\u001b[0m\n\u001b[0m\u001b[1;32m    649\u001b[0m         \u001b[0mlabel\u001b[0m \u001b[0;34m=\u001b[0m \u001b[0m_label_from_pandas\u001b[0m\u001b[0;34m(\u001b[0m\u001b[0mlabel\u001b[0m\u001b[0;34m)\u001b[0m\u001b[0;34m\u001b[0m\u001b[0m\n\u001b[1;32m    650\u001b[0m         \u001b[0mself\u001b[0m\u001b[0;34m.\u001b[0m\u001b[0mdata_has_header\u001b[0m \u001b[0;34m=\u001b[0m \u001b[0;32mFalse\u001b[0m\u001b[0;34m\u001b[0m\u001b[0m\n",
      "\u001b[0;32m~/anaconda3/lib/python3.6/site-packages/lightgbm/basic.py\u001b[0m in \u001b[0;36m_data_from_pandas\u001b[0;34m(data, feature_name, categorical_feature, pandas_categorical)\u001b[0m\n\u001b[1;32m    269\u001b[0m             \u001b[0mmsg\u001b[0m \u001b[0;34m=\u001b[0m \u001b[0;34m\"\"\"DataFrame.dtypes for data must be int, float or bool. Did not expect the data types in fields \"\"\"\u001b[0m\u001b[0;34m\u001b[0m\u001b[0m\n\u001b[1;32m    270\u001b[0m             \u001b[0;32mraise\u001b[0m \u001b[0mValueError\u001b[0m\u001b[0;34m(\u001b[0m\u001b[0mmsg\u001b[0m \u001b[0;34m+\u001b[0m \u001b[0;34m', '\u001b[0m\u001b[0;34m.\u001b[0m\u001b[0mjoin\u001b[0m\u001b[0;34m(\u001b[0m\u001b[0mbad_fields\u001b[0m\u001b[0;34m)\u001b[0m\u001b[0;34m)\u001b[0m\u001b[0;34m\u001b[0m\u001b[0m\n\u001b[0;32m--> 271\u001b[0;31m         \u001b[0mdata\u001b[0m \u001b[0;34m=\u001b[0m \u001b[0mdata\u001b[0m\u001b[0;34m.\u001b[0m\u001b[0mvalues\u001b[0m\u001b[0;34m.\u001b[0m\u001b[0mastype\u001b[0m\u001b[0;34m(\u001b[0m\u001b[0;34m'float'\u001b[0m\u001b[0;34m)\u001b[0m\u001b[0;34m\u001b[0m\u001b[0m\n\u001b[0m\u001b[1;32m    272\u001b[0m     \u001b[0;32melse\u001b[0m\u001b[0;34m:\u001b[0m\u001b[0;34m\u001b[0m\u001b[0m\n\u001b[1;32m    273\u001b[0m         \u001b[0;32mif\u001b[0m \u001b[0mfeature_name\u001b[0m \u001b[0;34m==\u001b[0m \u001b[0;34m'auto'\u001b[0m\u001b[0;34m:\u001b[0m\u001b[0;34m\u001b[0m\u001b[0m\n",
      "\u001b[0;31mMemoryError\u001b[0m: "
     ]
    }
   ],
   "source": [
    "%%time\n",
    "train[model_name+'_prob'] = 0\n",
    "for d in range(0, 5):\n",
    "    pred_prob, test_prob = stacking_day(train, test, d)\n",
    "    train[model_name+'_prob'][train.instance_id.isin(list(split_dict[0]))] = pred_prob\n",
    "    test[model_name + '_prob_%d'%d] = test_prob\n",
    "train[['instance_id',model_name+'_prob']].to_csv('./stacking/train_%s.csv'%(model_name),index=False)\n",
    "test[model_name + '_prob'] = testset.iloc[:,-4:].mean(axis=1)\n",
    "test[['instance_id',model_name + '_prob']].to_csv('./stacking/test_%s.csv'%(model_name),index=False)"
   ]
  },
  {
   "cell_type": "code",
   "execution_count": 12,
   "metadata": {},
   "outputs": [],
   "source": [
    "model_name = 'xgb_zero'\n",
    "def model_train(train, pred, test):   \n",
    "    # 参数\n",
    "    params = {\n",
    "        'objective': 'binary:logistic',\n",
    "        'eta': 0.05,\n",
    "        'colsample_bytree': 0.886,\n",
    "        'min_child_weight': 1.6,\n",
    "        'max_depth': 4,\n",
    "        'subsample': 0.886,\n",
    "        'gamma': 0.1,\n",
    "        'lambda': 10,\n",
    "        'verbose_eval': True,\n",
    "        'eval_metric': 'logloss',\n",
    "        'seed': 201803,\n",
    "        'missing': -1\n",
    "    }\n",
    "\n",
    "    len(predictors)\n",
    "\n",
    "    xgbtrain = xgb.DMatrix(train[predictors], train[target])\n",
    "    xgbtest = xgb.DMatrix(test[predictors])\n",
    "    model = xgb.train(params, xgbtrain, num_boost_round=cv.shape[0])\n",
    "\n",
    "    return model.predict(pred[predictors]), model.predict(test[predictors])"
   ]
  },
  {
   "cell_type": "code",
   "execution_count": 13,
   "metadata": {
    "collapsed": true
   },
   "outputs": [
    {
     "ename": "MemoryError",
     "evalue": "",
     "output_type": "error",
     "traceback": [
      "\u001b[0;31m---------------------------------------------------------------------------\u001b[0m",
      "\u001b[0;31mMemoryError\u001b[0m                               Traceback (most recent call last)",
      "\u001b[0;32m<timed exec>\u001b[0m in \u001b[0;36m<module>\u001b[0;34m()\u001b[0m\n",
      "\u001b[0;32m<ipython-input-9-6a923f3f647b>\u001b[0m in \u001b[0;36mstacking_day\u001b[0;34m(d_train, d_test, d)\u001b[0m\n\u001b[1;32m      2\u001b[0m     \u001b[0mtrain\u001b[0m \u001b[0;34m=\u001b[0m \u001b[0md_train\u001b[0m\u001b[0;34m[\u001b[0m\u001b[0;34m~\u001b[0m\u001b[0md_train\u001b[0m\u001b[0;34m.\u001b[0m\u001b[0minstance_id\u001b[0m\u001b[0;34m.\u001b[0m\u001b[0misin\u001b[0m\u001b[0;34m(\u001b[0m\u001b[0mlist\u001b[0m\u001b[0;34m(\u001b[0m\u001b[0msplit_dict\u001b[0m\u001b[0;34m[\u001b[0m\u001b[0md\u001b[0m\u001b[0;34m]\u001b[0m\u001b[0;34m)\u001b[0m\u001b[0;34m)\u001b[0m\u001b[0;34m]\u001b[0m\u001b[0;34m\u001b[0m\u001b[0m\n\u001b[1;32m      3\u001b[0m     \u001b[0mpred\u001b[0m  \u001b[0;34m=\u001b[0m \u001b[0md_train\u001b[0m\u001b[0;34m[\u001b[0m\u001b[0md_train\u001b[0m\u001b[0;34m.\u001b[0m\u001b[0minstance_id\u001b[0m\u001b[0;34m.\u001b[0m\u001b[0misin\u001b[0m\u001b[0;34m(\u001b[0m\u001b[0mlist\u001b[0m\u001b[0;34m(\u001b[0m\u001b[0msplit_dict\u001b[0m\u001b[0;34m[\u001b[0m\u001b[0md\u001b[0m\u001b[0;34m]\u001b[0m\u001b[0;34m)\u001b[0m\u001b[0;34m)\u001b[0m\u001b[0;34m]\u001b[0m\u001b[0;34m\u001b[0m\u001b[0m\n\u001b[0;32m----> 4\u001b[0;31m     \u001b[0;32mreturn\u001b[0m \u001b[0mmodel_train\u001b[0m\u001b[0;34m(\u001b[0m\u001b[0mtrain\u001b[0m\u001b[0;34m,\u001b[0m \u001b[0mpred\u001b[0m\u001b[0;34m,\u001b[0m \u001b[0md_test\u001b[0m\u001b[0;34m)\u001b[0m\u001b[0;34m\u001b[0m\u001b[0m\n\u001b[0m",
      "\u001b[0;32m<ipython-input-12-9c5d594ae986>\u001b[0m in \u001b[0;36mmodel_train\u001b[0;34m(train, pred, test)\u001b[0m\n\u001b[1;32m     19\u001b[0m     \u001b[0mlen\u001b[0m\u001b[0;34m(\u001b[0m\u001b[0mpredictors\u001b[0m\u001b[0;34m)\u001b[0m\u001b[0;34m\u001b[0m\u001b[0m\n\u001b[1;32m     20\u001b[0m \u001b[0;34m\u001b[0m\u001b[0m\n\u001b[0;32m---> 21\u001b[0;31m     \u001b[0mxgbtrain\u001b[0m \u001b[0;34m=\u001b[0m \u001b[0mxgb\u001b[0m\u001b[0;34m.\u001b[0m\u001b[0mDMatrix\u001b[0m\u001b[0;34m(\u001b[0m\u001b[0mtrain\u001b[0m\u001b[0;34m[\u001b[0m\u001b[0mpredictors\u001b[0m\u001b[0;34m]\u001b[0m\u001b[0;34m,\u001b[0m \u001b[0mtrain\u001b[0m\u001b[0;34m[\u001b[0m\u001b[0mtarget\u001b[0m\u001b[0;34m]\u001b[0m\u001b[0;34m)\u001b[0m\u001b[0;34m\u001b[0m\u001b[0m\n\u001b[0m\u001b[1;32m     22\u001b[0m     \u001b[0mxgbtest\u001b[0m \u001b[0;34m=\u001b[0m \u001b[0mxgb\u001b[0m\u001b[0;34m.\u001b[0m\u001b[0mDMatrix\u001b[0m\u001b[0;34m(\u001b[0m\u001b[0mtest\u001b[0m\u001b[0;34m[\u001b[0m\u001b[0mpredictors\u001b[0m\u001b[0;34m]\u001b[0m\u001b[0;34m)\u001b[0m\u001b[0;34m\u001b[0m\u001b[0m\n\u001b[1;32m     23\u001b[0m     \u001b[0mmodel\u001b[0m \u001b[0;34m=\u001b[0m \u001b[0mxgb\u001b[0m\u001b[0;34m.\u001b[0m\u001b[0mtrain\u001b[0m\u001b[0;34m(\u001b[0m\u001b[0mparams\u001b[0m\u001b[0;34m,\u001b[0m \u001b[0mxgbtrain\u001b[0m\u001b[0;34m,\u001b[0m \u001b[0mnum_boost_round\u001b[0m\u001b[0;34m=\u001b[0m\u001b[0mcv\u001b[0m\u001b[0;34m.\u001b[0m\u001b[0mshape\u001b[0m\u001b[0;34m[\u001b[0m\u001b[0;36m0\u001b[0m\u001b[0;34m]\u001b[0m\u001b[0;34m)\u001b[0m\u001b[0;34m\u001b[0m\u001b[0m\n",
      "\u001b[0;32m~/anaconda3/lib/python3.6/site-packages/pandas/core/frame.py\u001b[0m in \u001b[0;36m__getitem__\u001b[0;34m(self, key)\u001b[0m\n\u001b[1;32m   2131\u001b[0m         \u001b[0;32mif\u001b[0m \u001b[0misinstance\u001b[0m\u001b[0;34m(\u001b[0m\u001b[0mkey\u001b[0m\u001b[0;34m,\u001b[0m \u001b[0;34m(\u001b[0m\u001b[0mSeries\u001b[0m\u001b[0;34m,\u001b[0m \u001b[0mnp\u001b[0m\u001b[0;34m.\u001b[0m\u001b[0mndarray\u001b[0m\u001b[0;34m,\u001b[0m \u001b[0mIndex\u001b[0m\u001b[0;34m,\u001b[0m \u001b[0mlist\u001b[0m\u001b[0;34m)\u001b[0m\u001b[0;34m)\u001b[0m\u001b[0;34m:\u001b[0m\u001b[0;34m\u001b[0m\u001b[0m\n\u001b[1;32m   2132\u001b[0m             \u001b[0;31m# either boolean or fancy integer index\u001b[0m\u001b[0;34m\u001b[0m\u001b[0;34m\u001b[0m\u001b[0m\n\u001b[0;32m-> 2133\u001b[0;31m             \u001b[0;32mreturn\u001b[0m \u001b[0mself\u001b[0m\u001b[0;34m.\u001b[0m\u001b[0m_getitem_array\u001b[0m\u001b[0;34m(\u001b[0m\u001b[0mkey\u001b[0m\u001b[0;34m)\u001b[0m\u001b[0;34m\u001b[0m\u001b[0m\n\u001b[0m\u001b[1;32m   2134\u001b[0m         \u001b[0;32melif\u001b[0m \u001b[0misinstance\u001b[0m\u001b[0;34m(\u001b[0m\u001b[0mkey\u001b[0m\u001b[0;34m,\u001b[0m \u001b[0mDataFrame\u001b[0m\u001b[0;34m)\u001b[0m\u001b[0;34m:\u001b[0m\u001b[0;34m\u001b[0m\u001b[0m\n\u001b[1;32m   2135\u001b[0m             \u001b[0;32mreturn\u001b[0m \u001b[0mself\u001b[0m\u001b[0;34m.\u001b[0m\u001b[0m_getitem_frame\u001b[0m\u001b[0;34m(\u001b[0m\u001b[0mkey\u001b[0m\u001b[0;34m)\u001b[0m\u001b[0;34m\u001b[0m\u001b[0m\n",
      "\u001b[0;32m~/anaconda3/lib/python3.6/site-packages/pandas/core/frame.py\u001b[0m in \u001b[0;36m_getitem_array\u001b[0;34m(self, key)\u001b[0m\n\u001b[1;32m   2176\u001b[0m         \u001b[0;32melse\u001b[0m\u001b[0;34m:\u001b[0m\u001b[0;34m\u001b[0m\u001b[0m\n\u001b[1;32m   2177\u001b[0m             \u001b[0mindexer\u001b[0m \u001b[0;34m=\u001b[0m \u001b[0mself\u001b[0m\u001b[0;34m.\u001b[0m\u001b[0mloc\u001b[0m\u001b[0;34m.\u001b[0m\u001b[0m_convert_to_indexer\u001b[0m\u001b[0;34m(\u001b[0m\u001b[0mkey\u001b[0m\u001b[0;34m,\u001b[0m \u001b[0maxis\u001b[0m\u001b[0;34m=\u001b[0m\u001b[0;36m1\u001b[0m\u001b[0;34m)\u001b[0m\u001b[0;34m\u001b[0m\u001b[0m\n\u001b[0;32m-> 2178\u001b[0;31m             \u001b[0;32mreturn\u001b[0m \u001b[0mself\u001b[0m\u001b[0;34m.\u001b[0m\u001b[0m_take\u001b[0m\u001b[0;34m(\u001b[0m\u001b[0mindexer\u001b[0m\u001b[0;34m,\u001b[0m \u001b[0maxis\u001b[0m\u001b[0;34m=\u001b[0m\u001b[0;36m1\u001b[0m\u001b[0;34m,\u001b[0m \u001b[0mconvert\u001b[0m\u001b[0;34m=\u001b[0m\u001b[0;32mTrue\u001b[0m\u001b[0;34m)\u001b[0m\u001b[0;34m\u001b[0m\u001b[0m\n\u001b[0m\u001b[1;32m   2179\u001b[0m \u001b[0;34m\u001b[0m\u001b[0m\n\u001b[1;32m   2180\u001b[0m     \u001b[0;32mdef\u001b[0m \u001b[0m_getitem_multilevel\u001b[0m\u001b[0;34m(\u001b[0m\u001b[0mself\u001b[0m\u001b[0;34m,\u001b[0m \u001b[0mkey\u001b[0m\u001b[0;34m)\u001b[0m\u001b[0;34m:\u001b[0m\u001b[0;34m\u001b[0m\u001b[0m\n",
      "\u001b[0;32m~/anaconda3/lib/python3.6/site-packages/pandas/core/generic.py\u001b[0m in \u001b[0;36m_take\u001b[0;34m(self, indices, axis, convert, is_copy)\u001b[0m\n\u001b[1;32m   2148\u001b[0m         new_data = self._data.take(indices,\n\u001b[1;32m   2149\u001b[0m                                    \u001b[0maxis\u001b[0m\u001b[0;34m=\u001b[0m\u001b[0mself\u001b[0m\u001b[0;34m.\u001b[0m\u001b[0m_get_block_manager_axis\u001b[0m\u001b[0;34m(\u001b[0m\u001b[0maxis\u001b[0m\u001b[0;34m)\u001b[0m\u001b[0;34m,\u001b[0m\u001b[0;34m\u001b[0m\u001b[0m\n\u001b[0;32m-> 2150\u001b[0;31m                                    verify=True)\n\u001b[0m\u001b[1;32m   2151\u001b[0m         \u001b[0mresult\u001b[0m \u001b[0;34m=\u001b[0m \u001b[0mself\u001b[0m\u001b[0;34m.\u001b[0m\u001b[0m_constructor\u001b[0m\u001b[0;34m(\u001b[0m\u001b[0mnew_data\u001b[0m\u001b[0;34m)\u001b[0m\u001b[0;34m.\u001b[0m\u001b[0m__finalize__\u001b[0m\u001b[0;34m(\u001b[0m\u001b[0mself\u001b[0m\u001b[0;34m)\u001b[0m\u001b[0;34m\u001b[0m\u001b[0m\n\u001b[1;32m   2152\u001b[0m \u001b[0;34m\u001b[0m\u001b[0m\n",
      "\u001b[0;32m~/anaconda3/lib/python3.6/site-packages/pandas/core/internals.py\u001b[0m in \u001b[0;36mtake\u001b[0;34m(self, indexer, axis, verify, convert)\u001b[0m\n\u001b[1;32m   4262\u001b[0m         \u001b[0mnew_labels\u001b[0m \u001b[0;34m=\u001b[0m \u001b[0mself\u001b[0m\u001b[0;34m.\u001b[0m\u001b[0maxes\u001b[0m\u001b[0;34m[\u001b[0m\u001b[0maxis\u001b[0m\u001b[0;34m]\u001b[0m\u001b[0;34m.\u001b[0m\u001b[0mtake\u001b[0m\u001b[0;34m(\u001b[0m\u001b[0mindexer\u001b[0m\u001b[0;34m)\u001b[0m\u001b[0;34m\u001b[0m\u001b[0m\n\u001b[1;32m   4263\u001b[0m         return self.reindex_indexer(new_axis=new_labels, indexer=indexer,\n\u001b[0;32m-> 4264\u001b[0;31m                                     axis=axis, allow_dups=True)\n\u001b[0m\u001b[1;32m   4265\u001b[0m \u001b[0;34m\u001b[0m\u001b[0m\n\u001b[1;32m   4266\u001b[0m     \u001b[0;32mdef\u001b[0m \u001b[0mmerge\u001b[0m\u001b[0;34m(\u001b[0m\u001b[0mself\u001b[0m\u001b[0;34m,\u001b[0m \u001b[0mother\u001b[0m\u001b[0;34m,\u001b[0m \u001b[0mlsuffix\u001b[0m\u001b[0;34m=\u001b[0m\u001b[0;34m''\u001b[0m\u001b[0;34m,\u001b[0m \u001b[0mrsuffix\u001b[0m\u001b[0;34m=\u001b[0m\u001b[0;34m''\u001b[0m\u001b[0;34m)\u001b[0m\u001b[0;34m:\u001b[0m\u001b[0;34m\u001b[0m\u001b[0m\n",
      "\u001b[0;32m~/anaconda3/lib/python3.6/site-packages/pandas/core/internals.py\u001b[0m in \u001b[0;36mreindex_indexer\u001b[0;34m(self, new_axis, indexer, axis, fill_value, allow_dups, copy)\u001b[0m\n\u001b[1;32m   4144\u001b[0m         \u001b[0;32mif\u001b[0m \u001b[0maxis\u001b[0m \u001b[0;34m==\u001b[0m \u001b[0;36m0\u001b[0m\u001b[0;34m:\u001b[0m\u001b[0;34m\u001b[0m\u001b[0m\n\u001b[1;32m   4145\u001b[0m             new_blocks = self._slice_take_blocks_ax0(indexer,\n\u001b[0;32m-> 4146\u001b[0;31m                                                      fill_tuple=(fill_value,))\n\u001b[0m\u001b[1;32m   4147\u001b[0m         \u001b[0;32melse\u001b[0m\u001b[0;34m:\u001b[0m\u001b[0;34m\u001b[0m\u001b[0m\n\u001b[1;32m   4148\u001b[0m             new_blocks = [blk.take_nd(indexer, axis=axis, fill_tuple=(\n",
      "\u001b[0;32m~/anaconda3/lib/python3.6/site-packages/pandas/core/internals.py\u001b[0m in \u001b[0;36m_slice_take_blocks_ax0\u001b[0;34m(self, slice_or_indexer, fill_tuple)\u001b[0m\n\u001b[1;32m   4224\u001b[0m                     blocks.append(blk.take_nd(blklocs[mgr_locs.indexer],\n\u001b[1;32m   4225\u001b[0m                                               \u001b[0maxis\u001b[0m\u001b[0;34m=\u001b[0m\u001b[0;36m0\u001b[0m\u001b[0;34m,\u001b[0m \u001b[0mnew_mgr_locs\u001b[0m\u001b[0;34m=\u001b[0m\u001b[0mmgr_locs\u001b[0m\u001b[0;34m,\u001b[0m\u001b[0;34m\u001b[0m\u001b[0m\n\u001b[0;32m-> 4226\u001b[0;31m                                               fill_tuple=None))\n\u001b[0m\u001b[1;32m   4227\u001b[0m \u001b[0;34m\u001b[0m\u001b[0m\n\u001b[1;32m   4228\u001b[0m         \u001b[0;32mreturn\u001b[0m \u001b[0mblocks\u001b[0m\u001b[0;34m\u001b[0m\u001b[0m\n",
      "\u001b[0;32m~/anaconda3/lib/python3.6/site-packages/pandas/core/internals.py\u001b[0m in \u001b[0;36mtake_nd\u001b[0;34m(self, indexer, axis, new_mgr_locs, fill_tuple)\u001b[0m\n\u001b[1;32m   1215\u001b[0m             \u001b[0mfill_value\u001b[0m \u001b[0;34m=\u001b[0m \u001b[0mself\u001b[0m\u001b[0;34m.\u001b[0m\u001b[0mfill_value\u001b[0m\u001b[0;34m\u001b[0m\u001b[0m\n\u001b[1;32m   1216\u001b[0m             new_values = algos.take_nd(values, indexer, axis=axis,\n\u001b[0;32m-> 1217\u001b[0;31m                                        allow_fill=False)\n\u001b[0m\u001b[1;32m   1218\u001b[0m         \u001b[0;32melse\u001b[0m\u001b[0;34m:\u001b[0m\u001b[0;34m\u001b[0m\u001b[0m\n\u001b[1;32m   1219\u001b[0m             \u001b[0mfill_value\u001b[0m \u001b[0;34m=\u001b[0m \u001b[0mfill_tuple\u001b[0m\u001b[0;34m[\u001b[0m\u001b[0;36m0\u001b[0m\u001b[0;34m]\u001b[0m\u001b[0;34m\u001b[0m\u001b[0m\n",
      "\u001b[0;32m~/anaconda3/lib/python3.6/site-packages/pandas/core/algorithms.py\u001b[0m in \u001b[0;36mtake_nd\u001b[0;34m(arr, indexer, axis, out, fill_value, mask_info, allow_fill)\u001b[0m\n\u001b[1;32m   1377\u001b[0m             \u001b[0mout\u001b[0m \u001b[0;34m=\u001b[0m \u001b[0mnp\u001b[0m\u001b[0;34m.\u001b[0m\u001b[0mempty\u001b[0m\u001b[0;34m(\u001b[0m\u001b[0mout_shape\u001b[0m\u001b[0;34m,\u001b[0m \u001b[0mdtype\u001b[0m\u001b[0;34m=\u001b[0m\u001b[0mdtype\u001b[0m\u001b[0;34m,\u001b[0m \u001b[0morder\u001b[0m\u001b[0;34m=\u001b[0m\u001b[0;34m'F'\u001b[0m\u001b[0;34m)\u001b[0m\u001b[0;34m\u001b[0m\u001b[0m\n\u001b[1;32m   1378\u001b[0m         \u001b[0;32melse\u001b[0m\u001b[0;34m:\u001b[0m\u001b[0;34m\u001b[0m\u001b[0m\n\u001b[0;32m-> 1379\u001b[0;31m             \u001b[0mout\u001b[0m \u001b[0;34m=\u001b[0m \u001b[0mnp\u001b[0m\u001b[0;34m.\u001b[0m\u001b[0mempty\u001b[0m\u001b[0;34m(\u001b[0m\u001b[0mout_shape\u001b[0m\u001b[0;34m,\u001b[0m \u001b[0mdtype\u001b[0m\u001b[0;34m=\u001b[0m\u001b[0mdtype\u001b[0m\u001b[0;34m)\u001b[0m\u001b[0;34m\u001b[0m\u001b[0m\n\u001b[0m\u001b[1;32m   1380\u001b[0m \u001b[0;34m\u001b[0m\u001b[0m\n\u001b[1;32m   1381\u001b[0m     func = _get_take_nd_function(arr.ndim, arr.dtype, out.dtype, axis=axis,\n",
      "\u001b[0;31mMemoryError\u001b[0m: "
     ]
    }
   ],
   "source": [
    "%%time\n",
    "train[model_name+'_prob'] = 0\n",
    "for d in range(0, 5):\n",
    "    pred_prob, test_prob = stacking_day(train, test, d)\n",
    "    train[model_name+'_prob'][train.instance_id.isin(list(split_dict[0]))] = pred_prob\n",
    "    test[model_name + '_prob_%d'%d] = test_prob\n",
    "train[['instance_id',model_name+'_prob']].to_csv('./stacking/train_%s.csv'%(model_name),index=False)\n",
    "test[model_name + '_prob'] = testset.iloc[:,-4:].mean(axis=1)\n",
    "test[['instance_id',model_name + '_prob']].to_csv('./stacking/test_%s.csv'%(model_name),index=False)"
   ]
  },
  {
   "cell_type": "code",
   "execution_count": 14,
   "metadata": {},
   "outputs": [],
   "source": [
    "model_name = 'rf_zero'\n",
    "def model_train(train, pred, test):   \n",
    "    # 参数\n",
    "    clf = RandomForestClassifier(\n",
    "    n_estimators=500, \n",
    "    max_depth=6, \n",
    "    min_samples_leaf=15,\n",
    "    n_jobs=-1)\n",
    "    clf.fit(train[predictors], train[target])\n",
    "    \n",
    "    return model.predict_proba(pred[predictors])[:,1], model.predict_proba(test[predictors])[:,1]"
   ]
  },
  {
   "cell_type": "code",
   "execution_count": 15,
   "metadata": {
    "collapsed": true
   },
   "outputs": [
    {
     "ename": "MemoryError",
     "evalue": "",
     "output_type": "error",
     "traceback": [
      "\u001b[0;31m---------------------------------------------------------------------------\u001b[0m",
      "\u001b[0;31mMemoryError\u001b[0m                               Traceback (most recent call last)",
      "\u001b[0;32m<timed exec>\u001b[0m in \u001b[0;36m<module>\u001b[0;34m()\u001b[0m\n",
      "\u001b[0;32m<ipython-input-9-6a923f3f647b>\u001b[0m in \u001b[0;36mstacking_day\u001b[0;34m(d_train, d_test, d)\u001b[0m\n\u001b[1;32m      2\u001b[0m     \u001b[0mtrain\u001b[0m \u001b[0;34m=\u001b[0m \u001b[0md_train\u001b[0m\u001b[0;34m[\u001b[0m\u001b[0;34m~\u001b[0m\u001b[0md_train\u001b[0m\u001b[0;34m.\u001b[0m\u001b[0minstance_id\u001b[0m\u001b[0;34m.\u001b[0m\u001b[0misin\u001b[0m\u001b[0;34m(\u001b[0m\u001b[0mlist\u001b[0m\u001b[0;34m(\u001b[0m\u001b[0msplit_dict\u001b[0m\u001b[0;34m[\u001b[0m\u001b[0md\u001b[0m\u001b[0;34m]\u001b[0m\u001b[0;34m)\u001b[0m\u001b[0;34m)\u001b[0m\u001b[0;34m]\u001b[0m\u001b[0;34m\u001b[0m\u001b[0m\n\u001b[1;32m      3\u001b[0m     \u001b[0mpred\u001b[0m  \u001b[0;34m=\u001b[0m \u001b[0md_train\u001b[0m\u001b[0;34m[\u001b[0m\u001b[0md_train\u001b[0m\u001b[0;34m.\u001b[0m\u001b[0minstance_id\u001b[0m\u001b[0;34m.\u001b[0m\u001b[0misin\u001b[0m\u001b[0;34m(\u001b[0m\u001b[0mlist\u001b[0m\u001b[0;34m(\u001b[0m\u001b[0msplit_dict\u001b[0m\u001b[0;34m[\u001b[0m\u001b[0md\u001b[0m\u001b[0;34m]\u001b[0m\u001b[0;34m)\u001b[0m\u001b[0;34m)\u001b[0m\u001b[0;34m]\u001b[0m\u001b[0;34m\u001b[0m\u001b[0m\n\u001b[0;32m----> 4\u001b[0;31m     \u001b[0;32mreturn\u001b[0m \u001b[0mmodel_train\u001b[0m\u001b[0;34m(\u001b[0m\u001b[0mtrain\u001b[0m\u001b[0;34m,\u001b[0m \u001b[0mpred\u001b[0m\u001b[0;34m,\u001b[0m \u001b[0md_test\u001b[0m\u001b[0;34m)\u001b[0m\u001b[0;34m\u001b[0m\u001b[0m\n\u001b[0m",
      "\u001b[0;32m<ipython-input-14-485e58815ed9>\u001b[0m in \u001b[0;36mmodel_train\u001b[0;34m(train, pred, test)\u001b[0m\n\u001b[1;32m      7\u001b[0m     \u001b[0mmin_samples_leaf\u001b[0m\u001b[0;34m=\u001b[0m\u001b[0;36m15\u001b[0m\u001b[0;34m,\u001b[0m\u001b[0;34m\u001b[0m\u001b[0m\n\u001b[1;32m      8\u001b[0m     n_jobs=-1)\n\u001b[0;32m----> 9\u001b[0;31m     \u001b[0mclf\u001b[0m\u001b[0;34m.\u001b[0m\u001b[0mfit\u001b[0m\u001b[0;34m(\u001b[0m\u001b[0mtrain\u001b[0m\u001b[0;34m[\u001b[0m\u001b[0mpredictors\u001b[0m\u001b[0;34m]\u001b[0m\u001b[0;34m,\u001b[0m \u001b[0mtrain\u001b[0m\u001b[0;34m[\u001b[0m\u001b[0mtarget\u001b[0m\u001b[0;34m]\u001b[0m\u001b[0;34m)\u001b[0m\u001b[0;34m\u001b[0m\u001b[0m\n\u001b[0m\u001b[1;32m     10\u001b[0m \u001b[0;34m\u001b[0m\u001b[0m\n\u001b[1;32m     11\u001b[0m     \u001b[0;32mreturn\u001b[0m \u001b[0mmodel\u001b[0m\u001b[0;34m.\u001b[0m\u001b[0mpredict_proba\u001b[0m\u001b[0;34m(\u001b[0m\u001b[0mpred\u001b[0m\u001b[0;34m[\u001b[0m\u001b[0mpredictors\u001b[0m\u001b[0;34m]\u001b[0m\u001b[0;34m)\u001b[0m\u001b[0;34m[\u001b[0m\u001b[0;34m:\u001b[0m\u001b[0;34m,\u001b[0m\u001b[0;36m1\u001b[0m\u001b[0;34m]\u001b[0m\u001b[0;34m,\u001b[0m \u001b[0mmodel\u001b[0m\u001b[0;34m.\u001b[0m\u001b[0mpredict_proba\u001b[0m\u001b[0;34m(\u001b[0m\u001b[0mtest\u001b[0m\u001b[0;34m[\u001b[0m\u001b[0mpredictors\u001b[0m\u001b[0;34m]\u001b[0m\u001b[0;34m)\u001b[0m\u001b[0;34m[\u001b[0m\u001b[0;34m:\u001b[0m\u001b[0;34m,\u001b[0m\u001b[0;36m1\u001b[0m\u001b[0;34m]\u001b[0m\u001b[0;34m\u001b[0m\u001b[0m\n",
      "\u001b[0;32m~/anaconda3/lib/python3.6/site-packages/pandas/core/frame.py\u001b[0m in \u001b[0;36m__getitem__\u001b[0;34m(self, key)\u001b[0m\n\u001b[1;32m   2131\u001b[0m         \u001b[0;32mif\u001b[0m \u001b[0misinstance\u001b[0m\u001b[0;34m(\u001b[0m\u001b[0mkey\u001b[0m\u001b[0;34m,\u001b[0m \u001b[0;34m(\u001b[0m\u001b[0mSeries\u001b[0m\u001b[0;34m,\u001b[0m \u001b[0mnp\u001b[0m\u001b[0;34m.\u001b[0m\u001b[0mndarray\u001b[0m\u001b[0;34m,\u001b[0m \u001b[0mIndex\u001b[0m\u001b[0;34m,\u001b[0m \u001b[0mlist\u001b[0m\u001b[0;34m)\u001b[0m\u001b[0;34m)\u001b[0m\u001b[0;34m:\u001b[0m\u001b[0;34m\u001b[0m\u001b[0m\n\u001b[1;32m   2132\u001b[0m             \u001b[0;31m# either boolean or fancy integer index\u001b[0m\u001b[0;34m\u001b[0m\u001b[0;34m\u001b[0m\u001b[0m\n\u001b[0;32m-> 2133\u001b[0;31m             \u001b[0;32mreturn\u001b[0m \u001b[0mself\u001b[0m\u001b[0;34m.\u001b[0m\u001b[0m_getitem_array\u001b[0m\u001b[0;34m(\u001b[0m\u001b[0mkey\u001b[0m\u001b[0;34m)\u001b[0m\u001b[0;34m\u001b[0m\u001b[0m\n\u001b[0m\u001b[1;32m   2134\u001b[0m         \u001b[0;32melif\u001b[0m \u001b[0misinstance\u001b[0m\u001b[0;34m(\u001b[0m\u001b[0mkey\u001b[0m\u001b[0;34m,\u001b[0m \u001b[0mDataFrame\u001b[0m\u001b[0;34m)\u001b[0m\u001b[0;34m:\u001b[0m\u001b[0;34m\u001b[0m\u001b[0m\n\u001b[1;32m   2135\u001b[0m             \u001b[0;32mreturn\u001b[0m \u001b[0mself\u001b[0m\u001b[0;34m.\u001b[0m\u001b[0m_getitem_frame\u001b[0m\u001b[0;34m(\u001b[0m\u001b[0mkey\u001b[0m\u001b[0;34m)\u001b[0m\u001b[0;34m\u001b[0m\u001b[0m\n",
      "\u001b[0;32m~/anaconda3/lib/python3.6/site-packages/pandas/core/frame.py\u001b[0m in \u001b[0;36m_getitem_array\u001b[0;34m(self, key)\u001b[0m\n\u001b[1;32m   2176\u001b[0m         \u001b[0;32melse\u001b[0m\u001b[0;34m:\u001b[0m\u001b[0;34m\u001b[0m\u001b[0m\n\u001b[1;32m   2177\u001b[0m             \u001b[0mindexer\u001b[0m \u001b[0;34m=\u001b[0m \u001b[0mself\u001b[0m\u001b[0;34m.\u001b[0m\u001b[0mloc\u001b[0m\u001b[0;34m.\u001b[0m\u001b[0m_convert_to_indexer\u001b[0m\u001b[0;34m(\u001b[0m\u001b[0mkey\u001b[0m\u001b[0;34m,\u001b[0m \u001b[0maxis\u001b[0m\u001b[0;34m=\u001b[0m\u001b[0;36m1\u001b[0m\u001b[0;34m)\u001b[0m\u001b[0;34m\u001b[0m\u001b[0m\n\u001b[0;32m-> 2178\u001b[0;31m             \u001b[0;32mreturn\u001b[0m \u001b[0mself\u001b[0m\u001b[0;34m.\u001b[0m\u001b[0m_take\u001b[0m\u001b[0;34m(\u001b[0m\u001b[0mindexer\u001b[0m\u001b[0;34m,\u001b[0m \u001b[0maxis\u001b[0m\u001b[0;34m=\u001b[0m\u001b[0;36m1\u001b[0m\u001b[0;34m,\u001b[0m \u001b[0mconvert\u001b[0m\u001b[0;34m=\u001b[0m\u001b[0;32mTrue\u001b[0m\u001b[0;34m)\u001b[0m\u001b[0;34m\u001b[0m\u001b[0m\n\u001b[0m\u001b[1;32m   2179\u001b[0m \u001b[0;34m\u001b[0m\u001b[0m\n\u001b[1;32m   2180\u001b[0m     \u001b[0;32mdef\u001b[0m \u001b[0m_getitem_multilevel\u001b[0m\u001b[0;34m(\u001b[0m\u001b[0mself\u001b[0m\u001b[0;34m,\u001b[0m \u001b[0mkey\u001b[0m\u001b[0;34m)\u001b[0m\u001b[0;34m:\u001b[0m\u001b[0;34m\u001b[0m\u001b[0m\n",
      "\u001b[0;32m~/anaconda3/lib/python3.6/site-packages/pandas/core/generic.py\u001b[0m in \u001b[0;36m_take\u001b[0;34m(self, indices, axis, convert, is_copy)\u001b[0m\n\u001b[1;32m   2148\u001b[0m         new_data = self._data.take(indices,\n\u001b[1;32m   2149\u001b[0m                                    \u001b[0maxis\u001b[0m\u001b[0;34m=\u001b[0m\u001b[0mself\u001b[0m\u001b[0;34m.\u001b[0m\u001b[0m_get_block_manager_axis\u001b[0m\u001b[0;34m(\u001b[0m\u001b[0maxis\u001b[0m\u001b[0;34m)\u001b[0m\u001b[0;34m,\u001b[0m\u001b[0;34m\u001b[0m\u001b[0m\n\u001b[0;32m-> 2150\u001b[0;31m                                    verify=True)\n\u001b[0m\u001b[1;32m   2151\u001b[0m         \u001b[0mresult\u001b[0m \u001b[0;34m=\u001b[0m \u001b[0mself\u001b[0m\u001b[0;34m.\u001b[0m\u001b[0m_constructor\u001b[0m\u001b[0;34m(\u001b[0m\u001b[0mnew_data\u001b[0m\u001b[0;34m)\u001b[0m\u001b[0;34m.\u001b[0m\u001b[0m__finalize__\u001b[0m\u001b[0;34m(\u001b[0m\u001b[0mself\u001b[0m\u001b[0;34m)\u001b[0m\u001b[0;34m\u001b[0m\u001b[0m\n\u001b[1;32m   2152\u001b[0m \u001b[0;34m\u001b[0m\u001b[0m\n",
      "\u001b[0;32m~/anaconda3/lib/python3.6/site-packages/pandas/core/internals.py\u001b[0m in \u001b[0;36mtake\u001b[0;34m(self, indexer, axis, verify, convert)\u001b[0m\n\u001b[1;32m   4262\u001b[0m         \u001b[0mnew_labels\u001b[0m \u001b[0;34m=\u001b[0m \u001b[0mself\u001b[0m\u001b[0;34m.\u001b[0m\u001b[0maxes\u001b[0m\u001b[0;34m[\u001b[0m\u001b[0maxis\u001b[0m\u001b[0;34m]\u001b[0m\u001b[0;34m.\u001b[0m\u001b[0mtake\u001b[0m\u001b[0;34m(\u001b[0m\u001b[0mindexer\u001b[0m\u001b[0;34m)\u001b[0m\u001b[0;34m\u001b[0m\u001b[0m\n\u001b[1;32m   4263\u001b[0m         return self.reindex_indexer(new_axis=new_labels, indexer=indexer,\n\u001b[0;32m-> 4264\u001b[0;31m                                     axis=axis, allow_dups=True)\n\u001b[0m\u001b[1;32m   4265\u001b[0m \u001b[0;34m\u001b[0m\u001b[0m\n\u001b[1;32m   4266\u001b[0m     \u001b[0;32mdef\u001b[0m \u001b[0mmerge\u001b[0m\u001b[0;34m(\u001b[0m\u001b[0mself\u001b[0m\u001b[0;34m,\u001b[0m \u001b[0mother\u001b[0m\u001b[0;34m,\u001b[0m \u001b[0mlsuffix\u001b[0m\u001b[0;34m=\u001b[0m\u001b[0;34m''\u001b[0m\u001b[0;34m,\u001b[0m \u001b[0mrsuffix\u001b[0m\u001b[0;34m=\u001b[0m\u001b[0;34m''\u001b[0m\u001b[0;34m)\u001b[0m\u001b[0;34m:\u001b[0m\u001b[0;34m\u001b[0m\u001b[0m\n",
      "\u001b[0;32m~/anaconda3/lib/python3.6/site-packages/pandas/core/internals.py\u001b[0m in \u001b[0;36mreindex_indexer\u001b[0;34m(self, new_axis, indexer, axis, fill_value, allow_dups, copy)\u001b[0m\n\u001b[1;32m   4144\u001b[0m         \u001b[0;32mif\u001b[0m \u001b[0maxis\u001b[0m \u001b[0;34m==\u001b[0m \u001b[0;36m0\u001b[0m\u001b[0;34m:\u001b[0m\u001b[0;34m\u001b[0m\u001b[0m\n\u001b[1;32m   4145\u001b[0m             new_blocks = self._slice_take_blocks_ax0(indexer,\n\u001b[0;32m-> 4146\u001b[0;31m                                                      fill_tuple=(fill_value,))\n\u001b[0m\u001b[1;32m   4147\u001b[0m         \u001b[0;32melse\u001b[0m\u001b[0;34m:\u001b[0m\u001b[0;34m\u001b[0m\u001b[0m\n\u001b[1;32m   4148\u001b[0m             new_blocks = [blk.take_nd(indexer, axis=axis, fill_tuple=(\n",
      "\u001b[0;32m~/anaconda3/lib/python3.6/site-packages/pandas/core/internals.py\u001b[0m in \u001b[0;36m_slice_take_blocks_ax0\u001b[0;34m(self, slice_or_indexer, fill_tuple)\u001b[0m\n\u001b[1;32m   4224\u001b[0m                     blocks.append(blk.take_nd(blklocs[mgr_locs.indexer],\n\u001b[1;32m   4225\u001b[0m                                               \u001b[0maxis\u001b[0m\u001b[0;34m=\u001b[0m\u001b[0;36m0\u001b[0m\u001b[0;34m,\u001b[0m \u001b[0mnew_mgr_locs\u001b[0m\u001b[0;34m=\u001b[0m\u001b[0mmgr_locs\u001b[0m\u001b[0;34m,\u001b[0m\u001b[0;34m\u001b[0m\u001b[0m\n\u001b[0;32m-> 4226\u001b[0;31m                                               fill_tuple=None))\n\u001b[0m\u001b[1;32m   4227\u001b[0m \u001b[0;34m\u001b[0m\u001b[0m\n\u001b[1;32m   4228\u001b[0m         \u001b[0;32mreturn\u001b[0m \u001b[0mblocks\u001b[0m\u001b[0;34m\u001b[0m\u001b[0m\n",
      "\u001b[0;32m~/anaconda3/lib/python3.6/site-packages/pandas/core/internals.py\u001b[0m in \u001b[0;36mtake_nd\u001b[0;34m(self, indexer, axis, new_mgr_locs, fill_tuple)\u001b[0m\n\u001b[1;32m   1215\u001b[0m             \u001b[0mfill_value\u001b[0m \u001b[0;34m=\u001b[0m \u001b[0mself\u001b[0m\u001b[0;34m.\u001b[0m\u001b[0mfill_value\u001b[0m\u001b[0;34m\u001b[0m\u001b[0m\n\u001b[1;32m   1216\u001b[0m             new_values = algos.take_nd(values, indexer, axis=axis,\n\u001b[0;32m-> 1217\u001b[0;31m                                        allow_fill=False)\n\u001b[0m\u001b[1;32m   1218\u001b[0m         \u001b[0;32melse\u001b[0m\u001b[0;34m:\u001b[0m\u001b[0;34m\u001b[0m\u001b[0m\n\u001b[1;32m   1219\u001b[0m             \u001b[0mfill_value\u001b[0m \u001b[0;34m=\u001b[0m \u001b[0mfill_tuple\u001b[0m\u001b[0;34m[\u001b[0m\u001b[0;36m0\u001b[0m\u001b[0;34m]\u001b[0m\u001b[0;34m\u001b[0m\u001b[0m\n",
      "\u001b[0;32m~/anaconda3/lib/python3.6/site-packages/pandas/core/algorithms.py\u001b[0m in \u001b[0;36mtake_nd\u001b[0;34m(arr, indexer, axis, out, fill_value, mask_info, allow_fill)\u001b[0m\n\u001b[1;32m   1377\u001b[0m             \u001b[0mout\u001b[0m \u001b[0;34m=\u001b[0m \u001b[0mnp\u001b[0m\u001b[0;34m.\u001b[0m\u001b[0mempty\u001b[0m\u001b[0;34m(\u001b[0m\u001b[0mout_shape\u001b[0m\u001b[0;34m,\u001b[0m \u001b[0mdtype\u001b[0m\u001b[0;34m=\u001b[0m\u001b[0mdtype\u001b[0m\u001b[0;34m,\u001b[0m \u001b[0morder\u001b[0m\u001b[0;34m=\u001b[0m\u001b[0;34m'F'\u001b[0m\u001b[0;34m)\u001b[0m\u001b[0;34m\u001b[0m\u001b[0m\n\u001b[1;32m   1378\u001b[0m         \u001b[0;32melse\u001b[0m\u001b[0;34m:\u001b[0m\u001b[0;34m\u001b[0m\u001b[0m\n\u001b[0;32m-> 1379\u001b[0;31m             \u001b[0mout\u001b[0m \u001b[0;34m=\u001b[0m \u001b[0mnp\u001b[0m\u001b[0;34m.\u001b[0m\u001b[0mempty\u001b[0m\u001b[0;34m(\u001b[0m\u001b[0mout_shape\u001b[0m\u001b[0;34m,\u001b[0m \u001b[0mdtype\u001b[0m\u001b[0;34m=\u001b[0m\u001b[0mdtype\u001b[0m\u001b[0;34m)\u001b[0m\u001b[0;34m\u001b[0m\u001b[0m\n\u001b[0m\u001b[1;32m   1380\u001b[0m \u001b[0;34m\u001b[0m\u001b[0m\n\u001b[1;32m   1381\u001b[0m     func = _get_take_nd_function(arr.ndim, arr.dtype, out.dtype, axis=axis,\n",
      "\u001b[0;31mMemoryError\u001b[0m: "
     ]
    }
   ],
   "source": [
    "%%time\n",
    "train[model_name+'_prob'] = 0\n",
    "for d in range(0, 5):\n",
    "    pred_prob, test_prob = stacking_day(train, test, d)\n",
    "    train[model_name+'_prob'][train.instance_id.isin(list(split_dict[0]))] = pred_prob\n",
    "    test[model_name + '_prob_%d'%d] = test_prob\n",
    "train[['instance_id',model_name+'_prob']].to_csv('./stacking/train_%s.csv'%(model_name),index=False)\n",
    "test[model_name + '_prob'] = testset.iloc[:,-4:].mean(axis=1)\n",
    "test[['instance_id',model_name + '_prob']].to_csv('./stacking/test_%s.csv'%(model_name),index=False)"
   ]
  },
  {
   "cell_type": "markdown",
   "metadata": {},
   "source": [
    "## stacking"
   ]
  },
  {
   "cell_type": "code",
   "execution_count": null,
   "metadata": {},
   "outputs": [],
   "source": [
    "train1 = pd.read_csv('./stacking/train_lgb_ze.csv')\n",
    "train2 = pd.read_csv('./stacking/train_xgb_ze.csv')\n",
    "train3 = pd.read_csv('./stacking/train_rf_ze.csv')\n",
    "\n",
    "train1.shape\n",
    "train2.shape\n",
    "train3.shape"
   ]
  },
  {
   "cell_type": "code",
   "execution_count": null,
   "metadata": {},
   "outputs": [],
   "source": [
    "train = train1.merge(train2, on=['instance_id'], how='left')\n",
    "train = train.merge(train3, on=['instance_id'], how='left')\n",
    "\n",
    "del train1\n",
    "del train2\n",
    "del train3\n",
    "gc.collect()"
   ]
  }
 ],
 "metadata": {
  "kernelspec": {
   "display_name": "Python 3",
   "language": "python",
   "name": "python3"
  },
  "language_info": {
   "codemirror_mode": {
    "name": "ipython",
    "version": 3
   },
   "file_extension": ".py",
   "mimetype": "text/x-python",
   "name": "python",
   "nbconvert_exporter": "python",
   "pygments_lexer": "ipython3",
   "version": "3.6.4"
  }
 },
 "nbformat": 4,
 "nbformat_minor": 2
}
