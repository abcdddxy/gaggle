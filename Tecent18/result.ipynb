{
 "cells": [
  {
   "cell_type": "code",
   "execution_count": 1,
   "metadata": {},
   "outputs": [],
   "source": [
    "import seaborn as sns\n",
    "# from sklearn.model_selection import train_test_split\n",
    "import gc\n",
    "import os\n",
    "import pandas as pd\n",
    "import numpy as np\n",
    "from sklearn.metrics import roc_auc_score\n",
    "from collections import Counter\n",
    "import matplotlib.pyplot as plt\n",
    "\n",
    "%matplotlib inline\n",
    "#每次可以输出多个变量\n",
    "from IPython.core.interactiveshell import InteractiveShell\n",
    "InteractiveShell.ast_node_interactivity = \"all\"\n",
    "\n",
    "from pylab import rcParams\n",
    "rcParams['figure.figsize'] = 14, 6\n",
    "\n",
    "import warnings\n",
    "warnings.filterwarnings(\"ignore\")\n",
    "\n",
    "#中文字体\n",
    "import matplotlib\n",
    "matplotlib.use('qt4agg')\n",
    "#指定默认字体\n",
    "matplotlib.rcParams['font.sans-serif'] = ['SimHei']\n",
    "matplotlib.rcParams['font.family'] = 'sans-serif'\n",
    "#解决负号'-'显示为方块的问题\n",
    "matplotlib.rcParams['axes.unicode_minus'] = False"
   ]
  },
  {
   "cell_type": "code",
   "execution_count": 44,
   "metadata": {
    "scrolled": false
   },
   "outputs": [
    {
     "data": {
      "text/plain": [
       "(2265879, 3)"
      ]
     },
     "execution_count": 44,
     "metadata": {},
     "output_type": "execute_result"
    },
    {
     "data": {
      "text/plain": [
       "(2265879, 3)"
      ]
     },
     "execution_count": 44,
     "metadata": {},
     "output_type": "execute_result"
    },
    {
     "data": {
      "text/plain": [
       "(2265879, 3)"
      ]
     },
     "execution_count": 44,
     "metadata": {},
     "output_type": "execute_result"
    }
   ],
   "source": [
    "result1 = pd.read_csv('./submit/submission_test2_0.75.csv')\n",
    "result2 = pd.read_csv('./submit/dnn_0523_v1_7458.zip')\n",
    "result3 = pd.read_csv('./submit/lgb.csv')\n",
    "\n",
    "result1.shape\n",
    "result2.shape\n",
    "result3.shape"
   ]
  },
  {
   "cell_type": "code",
   "execution_count": 45,
   "metadata": {},
   "outputs": [
    {
     "data": {
      "text/plain": [
       "(2265879, 5)"
      ]
     },
     "execution_count": 45,
     "metadata": {},
     "output_type": "execute_result"
    },
    {
     "data": {
      "text/html": [
       "<div>\n",
       "<style scoped>\n",
       "    .dataframe tbody tr th:only-of-type {\n",
       "        vertical-align: middle;\n",
       "    }\n",
       "\n",
       "    .dataframe tbody tr th {\n",
       "        vertical-align: top;\n",
       "    }\n",
       "\n",
       "    .dataframe thead th {\n",
       "        text-align: right;\n",
       "    }\n",
       "</style>\n",
       "<table border=\"1\" class=\"dataframe\">\n",
       "  <thead>\n",
       "    <tr style=\"text-align: right;\">\n",
       "      <th></th>\n",
       "      <th>aid</th>\n",
       "      <th>uid</th>\n",
       "      <th>score1</th>\n",
       "      <th>score2</th>\n",
       "      <th>score3</th>\n",
       "    </tr>\n",
       "  </thead>\n",
       "  <tbody>\n",
       "    <tr>\n",
       "      <th>0</th>\n",
       "      <td>1790</td>\n",
       "      <td>55374290</td>\n",
       "      <td>0.009278</td>\n",
       "      <td>0.089015</td>\n",
       "      <td>0.032487</td>\n",
       "    </tr>\n",
       "    <tr>\n",
       "      <th>1</th>\n",
       "      <td>1918</td>\n",
       "      <td>30704418</td>\n",
       "      <td>0.043932</td>\n",
       "      <td>0.132247</td>\n",
       "      <td>0.029739</td>\n",
       "    </tr>\n",
       "    <tr>\n",
       "      <th>2</th>\n",
       "      <td>1904</td>\n",
       "      <td>44454952</td>\n",
       "      <td>0.045259</td>\n",
       "      <td>0.145350</td>\n",
       "      <td>0.044198</td>\n",
       "    </tr>\n",
       "    <tr>\n",
       "      <th>3</th>\n",
       "      <td>562</td>\n",
       "      <td>30747797</td>\n",
       "      <td>0.050961</td>\n",
       "      <td>0.122601</td>\n",
       "      <td>0.054476</td>\n",
       "    </tr>\n",
       "    <tr>\n",
       "      <th>4</th>\n",
       "      <td>886</td>\n",
       "      <td>19138638</td>\n",
       "      <td>0.019318</td>\n",
       "      <td>0.099761</td>\n",
       "      <td>0.014037</td>\n",
       "    </tr>\n",
       "  </tbody>\n",
       "</table>\n",
       "</div>"
      ],
      "text/plain": [
       "    aid       uid    score1    score2    score3\n",
       "0  1790  55374290  0.009278  0.089015  0.032487\n",
       "1  1918  30704418  0.043932  0.132247  0.029739\n",
       "2  1904  44454952  0.045259  0.145350  0.044198\n",
       "3   562  30747797  0.050961  0.122601  0.054476\n",
       "4   886  19138638  0.019318  0.099761  0.014037"
      ]
     },
     "execution_count": 45,
     "metadata": {},
     "output_type": "execute_result"
    }
   ],
   "source": [
    "result1.columns = ['aid', 'uid', 'score1']\n",
    "result2.columns = ['aid', 'uid', 'score2']\n",
    "result3.columns = ['aid', 'uid', 'score3']\n",
    "\n",
    "result = result1.merge(result2, on=['aid', 'uid'], how='left')\n",
    "result = result.merge(result3, on=['aid', 'uid'], how='left')\n",
    "\n",
    "result.shape\n",
    "result.head()"
   ]
  },
  {
   "cell_type": "markdown",
   "metadata": {},
   "source": [
    "## rank"
   ]
  },
  {
   "cell_type": "code",
   "execution_count": 46,
   "metadata": {},
   "outputs": [],
   "source": [
    "result = result.sort_values(by=['score1'])\n",
    "result = result.reset_index(drop=True)\n",
    "result['rank1'] = result.index\n",
    "result = result.sort_values(by=['score2'])\n",
    "result = result.reset_index(drop=True)\n",
    "result['rank2'] = result.index\n",
    "result = result.sort_values(by=['score3'])\n",
    "result = result.reset_index(drop=True)\n",
    "result['rank3'] = result.index"
   ]
  },
  {
   "cell_type": "code",
   "execution_count": 47,
   "metadata": {},
   "outputs": [],
   "source": [
    "result['score'] = 0.7 * result.rank1 + 0.15 * result.rank2 + 0.15 * result.rank3\n",
    "\n",
    "result.score = (result.score - min(result.score)) / (max(result.score) - min(result.score))"
   ]
  },
  {
   "cell_type": "code",
   "execution_count": 48,
   "metadata": {
    "scrolled": true
   },
   "outputs": [
    {
     "data": {
      "text/html": [
       "<div>\n",
       "<style scoped>\n",
       "    .dataframe tbody tr th:only-of-type {\n",
       "        vertical-align: middle;\n",
       "    }\n",
       "\n",
       "    .dataframe tbody tr th {\n",
       "        vertical-align: top;\n",
       "    }\n",
       "\n",
       "    .dataframe thead th {\n",
       "        text-align: right;\n",
       "    }\n",
       "</style>\n",
       "<table border=\"1\" class=\"dataframe\">\n",
       "  <thead>\n",
       "    <tr style=\"text-align: right;\">\n",
       "      <th></th>\n",
       "      <th>aid</th>\n",
       "      <th>uid</th>\n",
       "      <th>score1</th>\n",
       "      <th>score2</th>\n",
       "      <th>score3</th>\n",
       "      <th>rank1</th>\n",
       "      <th>rank2</th>\n",
       "      <th>rank3</th>\n",
       "      <th>score</th>\n",
       "    </tr>\n",
       "  </thead>\n",
       "  <tbody>\n",
       "    <tr>\n",
       "      <th>0</th>\n",
       "      <td>70</td>\n",
       "      <td>70221733</td>\n",
       "      <td>0.000907</td>\n",
       "      <td>0.009882</td>\n",
       "      <td>0.000349</td>\n",
       "      <td>9997</td>\n",
       "      <td>3136</td>\n",
       "      <td>0</td>\n",
       "      <td>0.003283</td>\n",
       "    </tr>\n",
       "    <tr>\n",
       "      <th>1</th>\n",
       "      <td>1672</td>\n",
       "      <td>34115737</td>\n",
       "      <td>0.001743</td>\n",
       "      <td>0.020209</td>\n",
       "      <td>0.000400</td>\n",
       "      <td>31140</td>\n",
       "      <td>28406</td>\n",
       "      <td>1</td>\n",
       "      <td>0.011488</td>\n",
       "    </tr>\n",
       "    <tr>\n",
       "      <th>2</th>\n",
       "      <td>70</td>\n",
       "      <td>1190861</td>\n",
       "      <td>0.000421</td>\n",
       "      <td>0.005852</td>\n",
       "      <td>0.000426</td>\n",
       "      <td>2163</td>\n",
       "      <td>316</td>\n",
       "      <td>2</td>\n",
       "      <td>0.000676</td>\n",
       "    </tr>\n",
       "    <tr>\n",
       "      <th>3</th>\n",
       "      <td>1379</td>\n",
       "      <td>27944300</td>\n",
       "      <td>0.001219</td>\n",
       "      <td>0.012238</td>\n",
       "      <td>0.000437</td>\n",
       "      <td>17111</td>\n",
       "      <td>6622</td>\n",
       "      <td>3</td>\n",
       "      <td>0.005712</td>\n",
       "    </tr>\n",
       "    <tr>\n",
       "      <th>4</th>\n",
       "      <td>70</td>\n",
       "      <td>79863929</td>\n",
       "      <td>0.000336</td>\n",
       "      <td>0.007383</td>\n",
       "      <td>0.000438</td>\n",
       "      <td>1282</td>\n",
       "      <td>940</td>\n",
       "      <td>4</td>\n",
       "      <td>0.000446</td>\n",
       "    </tr>\n",
       "  </tbody>\n",
       "</table>\n",
       "</div>"
      ],
      "text/plain": [
       "    aid       uid    score1    score2    score3  rank1  rank2  rank3     score\n",
       "0    70  70221733  0.000907  0.009882  0.000349   9997   3136      0  0.003283\n",
       "1  1672  34115737  0.001743  0.020209  0.000400  31140  28406      1  0.011488\n",
       "2    70   1190861  0.000421  0.005852  0.000426   2163    316      2  0.000676\n",
       "3  1379  27944300  0.001219  0.012238  0.000437  17111   6622      3  0.005712\n",
       "4    70  79863929  0.000336  0.007383  0.000438   1282    940      4  0.000446"
      ]
     },
     "execution_count": 48,
     "metadata": {},
     "output_type": "execute_result"
    }
   ],
   "source": [
    "result.head()"
   ]
  },
  {
   "cell_type": "code",
   "execution_count": 49,
   "metadata": {},
   "outputs": [
    {
     "data": {
      "text/plain": [
       "0"
      ]
     },
     "execution_count": 49,
     "metadata": {},
     "output_type": "execute_result"
    },
    {
     "data": {
      "text/plain": [
       "0"
      ]
     },
     "execution_count": 49,
     "metadata": {},
     "output_type": "execute_result"
    },
    {
     "data": {
      "text/plain": [
       "0"
      ]
     },
     "execution_count": 49,
     "metadata": {},
     "output_type": "execute_result"
    }
   ],
   "source": [
    "sub_zip_name = 'rank7'\n",
    "result['score'] = result['score'].apply(lambda x: float('%.8f' % x))\n",
    "result[['aid', 'uid', 'score']].to_csv('submission.csv', index=False)\n",
    "os.system('zip -j '+sub_zip_name+'.zip submission.csv')\n",
    "os.system('mv submission.csv ./submit/'+sub_zip_name+'.csv')\n",
    "os.system('mv '+sub_zip_name+'.zip ./submit/')"
   ]
  },
  {
   "cell_type": "markdown",
   "metadata": {},
   "source": [
    "## merge"
   ]
  },
  {
   "cell_type": "code",
   "execution_count": 7,
   "metadata": {},
   "outputs": [],
   "source": [
    "def vote(x):\n",
    "    if (x.score1 >= 0.5) & (x.score2 >= 0.5):\n",
    "        return 2\n",
    "    elif (x.score1 < 0.5) & (x.score2 < 0.5):\n",
    "        return 0\n",
    "    else:\n",
    "        return 1"
   ]
  },
  {
   "cell_type": "code",
   "execution_count": 9,
   "metadata": {},
   "outputs": [
    {
     "data": {
      "text/plain": [
       "vote\n",
       "0    2253748\n",
       "1       6767\n",
       "2       5364\n",
       "Name: aid, dtype: int64"
      ]
     },
     "execution_count": 9,
     "metadata": {},
     "output_type": "execute_result"
    }
   ],
   "source": [
    "# result['vote'] = result.apply(vote, axis=1)\n",
    "\n",
    "result.groupby(['vote']).aid.count()"
   ]
  },
  {
   "cell_type": "code",
   "execution_count": 14,
   "metadata": {},
   "outputs": [],
   "source": [
    "def score(x):\n",
    "    if x.vote == 2:\n",
    "        return 0.9 * max(x.score1, x.score2) + 0.1 * min(x.score1, x.score2)\n",
    "    elif x.vote == 0:\n",
    "        return 0.1 * max(x.score1, x.score2) + 0.9 * min(x.score1, x.score2)\n",
    "    else:\n",
    "        return 0.8 * x.score1 + 0.2 * x.score2"
   ]
  },
  {
   "cell_type": "code",
   "execution_count": 15,
   "metadata": {},
   "outputs": [
    {
     "data": {
      "text/plain": [
       "(2265879, 6)"
      ]
     },
     "execution_count": 15,
     "metadata": {},
     "output_type": "execute_result"
    },
    {
     "data": {
      "text/html": [
       "<div>\n",
       "<style scoped>\n",
       "    .dataframe tbody tr th:only-of-type {\n",
       "        vertical-align: middle;\n",
       "    }\n",
       "\n",
       "    .dataframe tbody tr th {\n",
       "        vertical-align: top;\n",
       "    }\n",
       "\n",
       "    .dataframe thead th {\n",
       "        text-align: right;\n",
       "    }\n",
       "</style>\n",
       "<table border=\"1\" class=\"dataframe\">\n",
       "  <thead>\n",
       "    <tr style=\"text-align: right;\">\n",
       "      <th></th>\n",
       "      <th>aid</th>\n",
       "      <th>uid</th>\n",
       "      <th>score1</th>\n",
       "      <th>score2</th>\n",
       "      <th>vote</th>\n",
       "      <th>score</th>\n",
       "    </tr>\n",
       "  </thead>\n",
       "  <tbody>\n",
       "    <tr>\n",
       "      <th>0</th>\n",
       "      <td>1790</td>\n",
       "      <td>55374290</td>\n",
       "      <td>0.009278</td>\n",
       "      <td>0.089015</td>\n",
       "      <td>0</td>\n",
       "      <td>0.017251</td>\n",
       "    </tr>\n",
       "    <tr>\n",
       "      <th>1</th>\n",
       "      <td>1918</td>\n",
       "      <td>30704418</td>\n",
       "      <td>0.043932</td>\n",
       "      <td>0.132247</td>\n",
       "      <td>0</td>\n",
       "      <td>0.052763</td>\n",
       "    </tr>\n",
       "    <tr>\n",
       "      <th>2</th>\n",
       "      <td>1904</td>\n",
       "      <td>44454952</td>\n",
       "      <td>0.045259</td>\n",
       "      <td>0.145350</td>\n",
       "      <td>0</td>\n",
       "      <td>0.055268</td>\n",
       "    </tr>\n",
       "    <tr>\n",
       "      <th>3</th>\n",
       "      <td>562</td>\n",
       "      <td>30747797</td>\n",
       "      <td>0.050961</td>\n",
       "      <td>0.122601</td>\n",
       "      <td>0</td>\n",
       "      <td>0.058125</td>\n",
       "    </tr>\n",
       "    <tr>\n",
       "      <th>4</th>\n",
       "      <td>886</td>\n",
       "      <td>19138638</td>\n",
       "      <td>0.019318</td>\n",
       "      <td>0.099761</td>\n",
       "      <td>0</td>\n",
       "      <td>0.027363</td>\n",
       "    </tr>\n",
       "  </tbody>\n",
       "</table>\n",
       "</div>"
      ],
      "text/plain": [
       "    aid       uid    score1    score2  vote     score\n",
       "0  1790  55374290  0.009278  0.089015     0  0.017251\n",
       "1  1918  30704418  0.043932  0.132247     0  0.052763\n",
       "2  1904  44454952  0.045259  0.145350     0  0.055268\n",
       "3   562  30747797  0.050961  0.122601     0  0.058125\n",
       "4   886  19138638  0.019318  0.099761     0  0.027363"
      ]
     },
     "execution_count": 15,
     "metadata": {},
     "output_type": "execute_result"
    }
   ],
   "source": [
    "result['score'] = result.apply(score, axis=1)\n",
    "\n",
    "result.shape\n",
    "result.head()"
   ]
  },
  {
   "cell_type": "code",
   "execution_count": 17,
   "metadata": {},
   "outputs": [
    {
     "data": {
      "text/plain": [
       "0"
      ]
     },
     "execution_count": 17,
     "metadata": {},
     "output_type": "execute_result"
    },
    {
     "data": {
      "text/plain": [
       "0"
      ]
     },
     "execution_count": 17,
     "metadata": {},
     "output_type": "execute_result"
    },
    {
     "data": {
      "text/plain": [
       "0"
      ]
     },
     "execution_count": 17,
     "metadata": {},
     "output_type": "execute_result"
    }
   ],
   "source": [
    "sub_zip_name = 'vote82'\n",
    "result['score'] = result['score'].apply(lambda x: float('%.8f' % x))\n",
    "result[['aid', 'uid', 'score']].to_csv('submission.csv', index=False)\n",
    "os.system('zip -j '+sub_zip_name+'.zip submission.csv')\n",
    "os.system('mv submission.csv ./submit/'+sub_zip_name+'.csv')\n",
    "os.system('mv '+sub_zip_name+'.zip ./submit/')"
   ]
  },
  {
   "cell_type": "markdown",
   "metadata": {},
   "source": [
    "## lgb"
   ]
  },
  {
   "cell_type": "code",
   "execution_count": 2,
   "metadata": {},
   "outputs": [],
   "source": [
    "import lightgbm as lgb"
   ]
  },
  {
   "cell_type": "code",
   "execution_count": 3,
   "metadata": {},
   "outputs": [
    {
     "data": {
      "text/plain": [
       "(11064803, 156)"
      ]
     },
     "execution_count": 3,
     "metadata": {},
     "output_type": "execute_result"
    }
   ],
   "source": [
    "df = pd.read_csv('df_b.csv')\n",
    "\n",
    "df.shape"
   ]
  },
  {
   "cell_type": "code",
   "execution_count": 4,
   "metadata": {},
   "outputs": [
    {
     "data": {
      "text/plain": [
       "(8798814, 156)"
      ]
     },
     "execution_count": 4,
     "metadata": {},
     "output_type": "execute_result"
    },
    {
     "data": {
      "text/plain": [
       "(2265989, 156)"
      ]
     },
     "execution_count": 4,
     "metadata": {},
     "output_type": "execute_result"
    },
    {
     "data": {
      "text/plain": [
       "18"
      ]
     },
     "execution_count": 4,
     "metadata": {},
     "output_type": "execute_result"
    }
   ],
   "source": [
    "df['label'][df.label == -1] = 0\n",
    "\n",
    "train = df[df.label != -99]\n",
    "test = df[df.label == -99]\n",
    "\n",
    "train.shape\n",
    "test.shape\n",
    "\n",
    "del df\n",
    "gc.collect()"
   ]
  },
  {
   "cell_type": "code",
   "execution_count": null,
   "metadata": {},
   "outputs": [],
   "source": [
    "by = ['aid', 'uid']\n",
    "target = ['label']\n",
    "predictors = list(set(train.columns) - set(by) - set(target))"
   ]
  },
  {
   "cell_type": "code",
   "execution_count": null,
   "metadata": {},
   "outputs": [],
   "source": [
    "# lgb_cv\n",
    "params = {\n",
    "    'objective':'binary',\n",
    "        # metric='binary_error',\n",
    "        'num_leaves':7,\n",
    "        'max_depth':3,\n",
    "        'learning_rate':0.05,\n",
    "        'reg_alpha' : .4,\n",
    "        'reg_lambda' : .2,\n",
    "        'random_state':1024,\n",
    "        'colsample_bytree':0.8,\n",
    "        'subsample':0.9,\n",
    "#         'n_estimators':20000,\n",
    "        'n_jobs': 31,\n",
    "#         'device':'gpu',\n",
    "        'histogram_pool_size':30270,\n",
    "        'max_bin':63,\n",
    "        'gpu_use_dp':True\n",
    "}\n",
    "        \n",
    "len(predictors)\n",
    "\n",
    "lgb_train = lgb.Dataset(train[predictors],label = train['label'])\n",
    "print('Start training')\n",
    "cv = lgb.cv(params,lgb_train,num_boost_round=10000,nfold=3,early_stopping_rounds=50,seed=1024,verbose_eval=100)\n",
    "\n",
    "print('Baseline->' + str(len(cv['binary_logloss-mean'])) + ':' + str(cv['binary_logloss-mean'][-1]))"
   ]
  },
  {
   "cell_type": "code",
   "execution_count": null,
   "metadata": {},
   "outputs": [
    {
     "data": {
      "text/plain": [
       "153"
      ]
     },
     "execution_count": 6,
     "metadata": {},
     "output_type": "execute_result"
    }
   ],
   "source": [
    "lgb_online = lgb.LGBMClassifier(\n",
    "        objective='binary',\n",
    "        metric='binary_logloss',\n",
    "        num_leaves=7,#35,\n",
    "        max_depth=3,\n",
    "        learning_rate=0.05, # small_eta\n",
    "        reg_alpha = .4,\n",
    "        reg_lambda = .2,\n",
    "        colsample_bytree = .8,\n",
    "        subsample = .9,\n",
    "        random_state=1024,\n",
    "        n_estimators=4000,\n",
    "        n_jobs = 31,\n",
    "        histogram_pool_size=30270,\n",
    "        max_bin=63\n",
    "    )\n",
    "len(predictors)\n",
    "\n",
    "submit_model = lgb_online.fit(train[predictors], train['label'])\n",
    "\n",
    "test['score'] = submit_model.predict_proba(test[predictors])[:,1]\n",
    "test['score'] = test['score'].apply(lambda x: float('%.8f' % x))\n",
    "sub_zip_name = 'lgb'\n",
    "test[['aid', 'uid','score']].to_csv('submission.csv', index=False)\n",
    "os.system('zip -j '+sub_zip_name+'.zip submission.csv')\n",
    "os.system('mv submission.csv ./submit/'+sub_zip_name+'.csv')\n",
    "os.system('mv '+sub_zip_name+'.zip ./submit/')"
   ]
  }
 ],
 "metadata": {
  "kernelspec": {
   "display_name": "Python 3",
   "language": "python",
   "name": "python3"
  },
  "language_info": {
   "codemirror_mode": {
    "name": "ipython",
    "version": 3
   },
   "file_extension": ".py",
   "mimetype": "text/x-python",
   "name": "python",
   "nbconvert_exporter": "python",
   "pygments_lexer": "ipython3",
   "version": "3.6.4"
  }
 },
 "nbformat": 4,
 "nbformat_minor": 2
}
