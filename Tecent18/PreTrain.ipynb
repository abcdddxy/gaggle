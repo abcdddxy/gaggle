{
 "cells": [
  {
   "cell_type": "code",
   "execution_count": 10,
   "metadata": {},
   "outputs": [],
   "source": [
    "import numpy as np\n",
    "import pandas as pd\n",
    "pd.set_option('display.max_columns', None)\n",
    "import matplotlib.pyplot as plt\n",
    "# import seaborn as sns\n",
    "import pickle\n",
    "import time\n",
    "import math\n",
    "import gc\n",
    "from tqdm import tqdm, tqdm_notebook\n",
    "\n",
    "%matplotlib inline\n",
    "\n",
    "#每次可以输出多个变量\n",
    "from IPython.core.interactiveshell import InteractiveShell\n",
    "InteractiveShell.ast_node_interactivity = \"all\"\n",
    "\n",
    "from pylab import rcParams\n",
    "rcParams['figure.figsize'] = 14, 6\n",
    "\n",
    "import warnings\n",
    "warnings.filterwarnings(\"ignore\")\n",
    "\n",
    "#中文字体\n",
    "import matplotlib\n",
    "matplotlib.use('qt4agg')\n",
    "#指定默认字体\n",
    "matplotlib.rcParams['font.sans-serif'] = ['SimHei']\n",
    "matplotlib.rcParams['font.family'] = 'sans-serif'\n",
    "#解决负号'-'显示为方块的问题\n",
    "matplotlib.rcParams['axes.unicode_minus'] = False"
   ]
  },
  {
   "cell_type": "code",
   "execution_count": 2,
   "metadata": {},
   "outputs": [],
   "source": [
    "PATH = './output_r2/'"
   ]
  },
  {
   "cell_type": "code",
   "execution_count": 3,
   "metadata": {},
   "outputs": [],
   "source": [
    "by = ['aid', 'uid', 'kflod', 'label']\n",
    "split_col = ['marriageStatus', 'interest1', 'interest2', 'interest3', 'interest4', 'interest5', 'kw1', 'kw2', 'kw3',\n",
    "            'topic1', 'topic2', 'topic3', 'appIdInstall', 'appIdAction', 'ct', 'os']\n",
    "feature_col = ['age', 'gender', 'marriageStatus', 'education', 'consumptionAbility', 'LBS', 'interest1', 'interest2',\n",
    "               'interest3', 'interest4', 'interest5', 'kw1', 'kw2', 'kw3', 'topic1', 'topic2', 'topic3', 'appIdInstall',\n",
    "               'appIdAction', 'ct', 'os', 'carrier']\n",
    "single_col = ['age', 'gender', 'education', 'consumptionAbility', 'LBS', 'carrier','house']\n",
    "\n",
    "def spl_col(x):\n",
    "    if (type(x) == float) | (type(x) == int):\n",
    "        return x\n",
    "    elif type(x) == list:\n",
    "        return x[0].split(';')\n",
    "    else:\n",
    "        return x.split(';')"
   ]
  },
  {
   "cell_type": "code",
   "execution_count": 4,
   "metadata": {},
   "outputs": [
    {
     "data": {
      "text/plain": [
       "(1, 211)"
      ]
     },
     "execution_count": 4,
     "metadata": {},
     "output_type": "execute_result"
    },
    {
     "data": {
      "text/plain": [
       "(1, 211)"
      ]
     },
     "execution_count": 4,
     "metadata": {},
     "output_type": "execute_result"
    }
   ],
   "source": [
    "train_sample = pd.read_csv(PATH + 'train_kflod_new0', nrows=1)\n",
    "test_sample = pd.read_csv(PATH + 'test_kflod_new0', nrows=1)\n",
    "\n",
    "train_sample.shape\n",
    "test_sample.shape\n",
    "\n",
    "assert(set(train_sample.columns) == set(test_sample.columns))"
   ]
  },
  {
   "cell_type": "code",
   "execution_count": 5,
   "metadata": {},
   "outputs": [
    {
     "data": {
      "text/plain": [
       "185"
      ]
     },
     "execution_count": 5,
     "metadata": {},
     "output_type": "execute_result"
    }
   ],
   "source": [
    "cols = list(set(train_sample.columns) - set(feature_col) - set(by))\n",
    "len(cols)\n",
    "cnt = len(cols) // 5"
   ]
  },
  {
   "cell_type": "code",
   "execution_count": 7,
   "metadata": {},
   "outputs": [
    {
     "name": "stderr",
     "output_type": "stream",
     "text": [
      "100%|██████████| 4/4 [02:44<00:00, 41.12s/it]\n",
      "100%|██████████| 4/4 [02:53<00:00, 43.37s/it]\n",
      "100%|██████████| 4/4 [02:49<00:00, 42.43s/it]\n",
      "100%|██████████| 4/4 [02:49<00:00, 42.43s/it]\n",
      "100%|██████████| 4/4 [02:46<00:00, 41.59s/it]\n"
     ]
    }
   ],
   "source": [
    "for i in range(5):\n",
    "#     for j in tqdm(range(10)):\n",
    "#         tmp = pd.read_csv(PATH + 'train_kflod_new' + str(j), usecols=cols[i*cnt:(i+1)*cnt])\n",
    "#         tmp = tmp.as_matrix().astype(np.float32)\n",
    "#         if j == 0:\n",
    "#             train = tmp\n",
    "#             del tmp\n",
    "#             _ = gc.collect()\n",
    "#         else:\n",
    "#             train = np.concatenate((train, tmp))\n",
    "#             del tmp\n",
    "#             _ = gc.collect()\n",
    "    for j in tqdm(range(4)):\n",
    "        tmp = pd.read_csv(PATH + 'test_kflod_new_b' + str(j), usecols=cols[i*cnt:(i+1)*cnt])\n",
    "        tmp = tmp.as_matrix().astype(np.float32)\n",
    "        if j == 0:\n",
    "            test = tmp\n",
    "            del tmp\n",
    "            _ = gc.collect()\n",
    "        else:\n",
    "            test = np.concatenate((test, tmp))\n",
    "            del tmp\n",
    "            _ = gc.collect()\n",
    "            \n",
    "    if i == 0:\n",
    "#         train_all = train\n",
    "        test_all = test\n",
    "#         del train\n",
    "        del test\n",
    "        _ = gc.collect()\n",
    "    else:\n",
    "#         train_all = np.concatenate((train_all, train), axis=1)\n",
    "        test_all = np.concatenate((test_all, test), axis=1)\n",
    "#         del train\n",
    "        del test\n",
    "        _ = gc.collect()"
   ]
  },
  {
   "cell_type": "code",
   "execution_count": 8,
   "metadata": {},
   "outputs": [
    {
     "data": {
      "text/plain": [
       "(11727304, 185)"
      ]
     },
     "execution_count": 8,
     "metadata": {},
     "output_type": "execute_result"
    }
   ],
   "source": [
    "# train_all.shape\n",
    "test_all.shape\n",
    "# 57268773"
   ]
  },
  {
   "cell_type": "code",
   "execution_count": 9,
   "metadata": {},
   "outputs": [],
   "source": [
    "# np.save('./output_r2/train_new.npy', train_all)\n",
    "np.save('./output_r2/test_new_b.npy', test_all)"
   ]
  },
  {
   "cell_type": "code",
   "execution_count": 10,
   "metadata": {},
   "outputs": [],
   "source": [
    "df_all = np.concatenate((train_all, test_all))"
   ]
  },
  {
   "cell_type": "markdown",
   "metadata": {},
   "source": [
    "## bayes"
   ]
  },
  {
   "cell_type": "code",
   "execution_count": 4,
   "metadata": {},
   "outputs": [
    {
     "data": {
      "text/plain": [
       "720"
      ]
     },
     "execution_count": 4,
     "metadata": {},
     "output_type": "execute_result"
    }
   ],
   "source": [
    "cols = ['interest2_50_bayes_rate','interest2_63_bayes_rate','consumptionAbility_age_bayes_rate','interest2_68_bayes_rate','creativeSize_age_bayes_rate','adCategoryId_consumptionAbility_bayes_rate','interest2_2_bayes_rate','productType_consumptionAbility_bayes_rate','productId_consumptionAbility_bayes_rate','education_consumptionAbility_bayes_rate','consumptionAbility_education_bayes_rate','productType_age_bayes_rate','creativeSize_consumptionAbility_bayes_rate','gender_age_bayes_rate','education_age_bayes_rate','consumptionAbility_gender_bayes_rate','gender_consumptionAbility_bayes_rate','interest2_15_bayes_rate','productId_age_bayes_rate','interest2_0_bayes_rate','carrier_age_bayes_rate','house_age_bayes_rate','consumptionAbility_carrier_bayes_rate','carrier_consumptionAbility_bayes_rate','age_bayes_rate','aid_interest2_50_bayes_rate','house_consumptionAbility_bayes_rate','consumptionAbility_house_bayes_rate','creativeSize_education_bayes_rate','consumptionAbility_bayes_rate','adCategoryId_education_bayes_rate','interest5_119_bayes_rate','aid_interest2_63_bayes_rate','interest2_1_bayes_rate','productType_education_bayes_rate','education_gender_bayes_rate','gender_education_bayes_rate','aid_interest2_68_bayes_rate','aid_interest2_15_bayes_rate','interest2_60_bayes_rate','interest2_21_bayes_rate','interest2_29_bayes_rate','education_carrier_bayes_rate','carrier_education_bayes_rate','education_bayes_rate','education_house_bayes_rate','house_education_bayes_rate','productId_education_bayes_rate','interest2_70_bayes_rate','interest2_24_bayes_rate','aid_consumptionAbility_bayes_rate','interest2_48_bayes_rate','aid_interest5_119_bayes_rate','interest2_14_bayes_rate','os_2_bayes_rate','interest2_56_bayes_rate','interest5_7_bayes_rate','interest2_76_bayes_rate','interest2_22_bayes_rate','creativeSize_gender_bayes_rate','adCategoryId_carrier_bayes_rate','os_1_bayes_rate','productId_gender_bayes_rate','interest1_91_bayes_rate','interest5_1_bayes_rate','marriageStatus_6_bayes_rate','interest2_62_bayes_rate','interest1_97_bayes_rate','aid_interest2_70_bayes_rate','aid_age_bayes_rate','productType_gender_bayes_rate','interest2_9_bayes_rate','interest2_17_bayes_rate','ct_1_bayes_rate','interest1_9_bayes_rate','interest2_81_bayes_rate','adCategoryId_house_bayes_rate','interest5_12_bayes_rate','aid_interest1_97_bayes_rate','creativeSize_carrier_bayes_rate','advertiserId_age_bayes_rate','marriageStatus_3_bayes_rate','LBS_age_bayes_rate','interest2_43_bayes_rate','interest1_35_bayes_rate','aid_interest2_38_bayes_rate','marriageStatus_4_bayes_rate','interest1_66_bayes_rate','interest2_47_bayes_rate','interest2_80_bayes_rate','aid_interest2_41_bayes_rate','aid_interest5_7_bayes_rate','interest5_85_bayes_rate','interest5_113_bayes_rate','aid_interest2_37_bayes_rate','aid_interest2_76_bayes_rate','interest1_96_bayes_rate','interest5_62_bayes_rate','interest1_56_bayes_rate','interest5_36_bayes_rate','aid_interest5_12_bayes_rate','marriageStatus_8_bayes_rate','interest1_12_bayes_rate','interest5_129_bayes_rate','aid_interest1_20_bayes_rate','aid_interest1_44_bayes_rate','aid_os_2_bayes_rate','aid_marriageStatus_6_bayes_rate','interest1_3_bayes_rate','interest5_17_bayes_rate','gender_carrier_bayes_rate','carrier_gender_bayes_rate','aid_education_bayes_rate','productType_house_bayes_rate','aid_interest1_0_bayes_rate','interest1_44_bayes_rate','aid_interest1_9_bayes_rate','interest5_51_bayes_rate','interest1_23_bayes_rate','house_gender_bayes_rate','gender_house_bayes_rate','advertiserId_education_bayes_rate','LBS_consumptionAbility_bayes_rate','consumptionAbility_LBS_bayes_rate','aid_interest2_48_bayes_rate','interest1_45_bayes_rate','aid_interest5_107_bayes_rate','interest5_61_bayes_rate','interest1_87_bayes_rate','gender_bayes_rate','aid_interest5_78_bayes_rate','interest2_16_bayes_rate','interest5_97_bayes_rate','interest5_44_bayes_rate','interest1_101_bayes_rate','aid_interest1_66_bayes_rate','interest1_78_bayes_rate','aid_interest1_3_bayes_rate','productId_house_bayes_rate','aid_interest2_62_bayes_rate','interest5_80_bayes_rate','interest2_25_bayes_rate','interest2_78_bayes_rate','aid_interest1_45_bayes_rate','interest5_103_bayes_rate','interest5_104_bayes_rate','aid_interest5_72_bayes_rate','aid_interest2_80_bayes_rate','aid_interest5_37_bayes_rate','aid_interest5_1_bayes_rate','interest1_52_bayes_rate','aid_ct_1_bayes_rate','interest5_110_bayes_rate','interest3_9_bayes_rate','aid_interest1_64_bayes_rate','aid_marriageStatus_3_bayes_rate','interest2_27_bayes_rate','aid_interest5_83_bayes_rate','aid_interest1_13_bayes_rate','aid_interest1_53_bayes_rate','aid_interest5_0_bayes_rate','aid_interest5_36_bayes_rate','aid_carrier_bayes_rate','aid_interest5_3_bayes_rate','interest5_37_bayes_rate','aid_interest2_47_bayes_rate','interest4_10_bayes_rate','aid_interest5_97_bayes_rate','interest2_6_bayes_rate','interest5_115_bayes_rate','aid_interest5_26_bayes_rate','creativeSize_bayes_rate','aid_interest1_65_bayes_rate','aid_interest5_17_bayes_rate','campaignId_age_bayes_rate','interest3_0_bayes_rate','carrier_house_bayes_rate','house_carrier_bayes_rate','interest5_125_bayes_rate','interest2_55_bayes_rate','interest5_67_bayes_rate','productType_carrier_bayes_rate','interest5_33_bayes_rate','interest4_2_bayes_rate','interest5_114_bayes_rate','aid_interest5_85_bayes_rate','interest5_108_bayes_rate','interest5_35_bayes_rate','interest1_22_bayes_rate','interest5_32_bayes_rate','interest5_19_bayes_rate','interest3_2_bayes_rate','interest1_84_bayes_rate','interest2_71_bayes_rate','interest5_25_bayes_rate','campaignId_consumptionAbility_bayes_rate','interest5_2_bayes_rate','interest5_40_bayes_rate','aid_interest1_96_bayes_rate','interest3_10_bayes_rate','aid_interest1_56_bayes_rate','interest1_20_bayes_rate','aid_marriageStatus_4_bayes_rate','aid_interest5_57_bayes_rate','interest1_73_bayes_rate','interest1_70_bayes_rate','interest5_56_bayes_rate','interest5_9_bayes_rate','interest2_64_bayes_rate','interest5_123_bayes_rate','adCategoryId_bayes_rate','carrier_bayes_rate','interest5_57_bayes_rate','aid_interest5_10_bayes_rate','aid_ct_3_bayes_rate','aid_interest2_14_bayes_rate','aid_interest1_22_bayes_rate','aid_interest5_103_bayes_rate','interest1_90_bayes_rate','interest5_65_bayes_rate','interest3_5_bayes_rate','interest3_6_bayes_rate','interest3_7_bayes_rate','interest5_68_bayes_rate','productId_carrier_bayes_rate','interest5_72_bayes_rate','aid_interest1_5_bayes_rate','interest2_3_bayes_rate','aid_os_0_bayes_rate','interest1_67_bayes_rate','aid_interest1_12_bayes_rate','interest1_15_bayes_rate','interest5_24_bayes_rate','aid_interest1_73_bayes_rate','aid_ct_0_bayes_rate','interest5_71_bayes_rate','interest5_79_bayes_rate','aid_interest5_93_bayes_rate','aid_interest2_34_bayes_rate','interest2_44_bayes_rate','interest2_46_bayes_rate','interest4_0_bayes_rate','interest1_58_bayes_rate','interest1_17_bayes_rate','interest3_1_bayes_rate','interest3_3_bayes_rate','aid_interest5_129_bayes_rate','interest5_83_bayes_rate','interest1_39_bayes_rate','interest3_8_bayes_rate','carrier_LBS_bayes_rate','LBS_carrier_bayes_rate','interest2_69_bayes_rate','aid_interest1_50_bayes_rate','aid_interest5_74_bayes_rate','interest5_10_bayes_rate','aid_interest5_94_bayes_rate','interest1_60_bayes_rate','aid_interest5_59_bayes_rate','interest2_31_bayes_rate','interest5_4_bayes_rate','interest5_42_bayes_rate','aid_interest5_92_bayes_rate','interest1_43_bayes_rate','aid_interest5_73_bayes_rate','aid_interest1_18_bayes_rate','interest4_6_bayes_rate','interest4_5_bayes_rate','interest5_89_bayes_rate','aid_interest5_25_bayes_rate','interest5_6_bayes_rate','interest1_63_bayes_rate','aid_interest1_1_bayes_rate','house_bayes_rate','interest5_87_bayes_rate','interest5_48_bayes_rate','aid_interest5_106_bayes_rate','interest4_3_bayes_rate','interest4_1_bayes_rate','interest2_66_bayes_rate','aid_interest5_18_bayes_rate','aid_marriageStatus_8_bayes_rate','interest5_0_bayes_rate','interest2_10_bayes_rate','aid_interest5_58_bayes_rate','interest2_26_bayes_rate','aid_interest5_61_bayes_rate','interest5_122_bayes_rate','aid_interest5_110_bayes_rate','interest5_82_bayes_rate','interest3_4_bayes_rate','marriageStatus_1_bayes_rate','interest5_136_bayes_rate','interest5_100_bayes_rate','interest1_122_bayes_rate','interest5_99_bayes_rate','interest5_93_bayes_rate','interest5_102_bayes_rate','interest5_30_bayes_rate','aid_interest2_36_bayes_rate','aid_interest5_4_bayes_rate','aid_interest1_59_bayes_rate','aid_interest5_136_bayes_rate','aid_interest5_68_bayes_rate','marriageStatus_10_bayes_rate','aid_interest1_67_bayes_rate','interest2_23_bayes_rate','interest5_95_bayes_rate','interest1_82_bayes_rate','interest1_1_bayes_rate','interest1_110_bayes_rate','interest2_54_bayes_rate','aid_interest1_60_bayes_rate','interest5_28_bayes_rate','aid_os_1_bayes_rate','aid_interest1_15_bayes_rate','interest5_15_bayes_rate','aid_interest5_20_bayes_rate','interest1_34_bayes_rate','aid_interest5_130_bayes_rate','aid_interest1_16_bayes_rate','interest5_26_bayes_rate','interest5_38_bayes_rate','interest5_16_bayes_rate','aid_interest2_43_bayes_rate','ct_4_bayes_rate','interest2_20_bayes_rate','interest1_32_bayes_rate','interest1_75_bayes_rate','aid_interest2_33_bayes_rate','interest5_8_bayes_rate','interest5_96_bayes_rate','interest5_63_bayes_rate','interest1_47_bayes_rate','interest5_94_bayes_rate','interest1_36_bayes_rate','interest1_121_bayes_rate','interest1_106_bayes_rate','aid_interest5_62_bayes_rate','interest2_42_bayes_rate','interest1_116_bayes_rate','interest5_88_bayes_rate','aid_interest5_19_bayes_rate','interest1_30_bayes_rate','interest5_64_bayes_rate','aid_interest5_89_bayes_rate','interest2_5_bayes_rate','ct_0_bayes_rate','interest5_126_bayes_rate','aid_interest5_34_bayes_rate','interest5_27_bayes_rate','campaignId_carrier_bayes_rate','aid_interest5_124_bayes_rate','aid_interest1_23_bayes_rate','interest1_8_bayes_rate','interest1_107_bayes_rate','interest1_48_bayes_rate','interest2_11_bayes_rate','interest1_54_bayes_rate','aid_interest1_94_bayes_rate','interest1_113_bayes_rate','interest2_7_bayes_rate','advertiserId_house_bayes_rate','aid_interest1_17_bayes_rate','aid_interest5_123_bayes_rate','interest2_8_bayes_rate','interest1_27_bayes_rate','aid_interest5_69_bayes_rate','interest5_92_bayes_rate','aid_interest5_50_bayes_rate','interest2_77_bayes_rate','LBS_bayes_rate','interest2_67_bayes_rate','interest5_11_bayes_rate','aid_interest5_2_bayes_rate','aid_interest1_54_bayes_rate','aid_interest5_51_bayes_rate','interest5_20_bayes_rate','interest5_109_bayes_rate','interest5_74_bayes_rate','interest1_114_bayes_rate','LBS_house_bayes_rate','house_LBS_bayes_rate','aid_interest5_47_bayes_rate','interest2_4_bayes_rate','aid_marriageStatus_1_bayes_rate','creativeSize_LBS_bayes_rate','aid_interest2_31_bayes_rate','interest1_50_bayes_rate','interest1_88_bayes_rate','aid_interest1_63_bayes_rate','interest5_59_bayes_rate','interest1_40_bayes_rate','interest2_19_bayes_rate','interest5_117_bayes_rate','aid_interest1_47_bayes_rate','interest2_72_bayes_rate','marriageStatus_5_bayes_rate','interest5_43_bayes_rate','aid_interest5_48_bayes_rate','interest1_29_bayes_rate','aid_interest1_21_bayes_rate','interest1_28_bayes_rate','aid_interest1_84_bayes_rate','interest4_8_bayes_rate','interest1_26_bayes_rate','aid_interest5_49_bayes_rate','interest5_111_bayes_rate','interest4_7_bayes_rate','interest4_9_bayes_rate','aid_interest5_40_bayes_rate','interest5_39_bayes_rate','campaignId_gender_bayes_rate','interest1_21_bayes_rate','interest5_46_bayes_rate','interest2_51_bayes_rate','marriageStatus_11_bayes_rate','aid_interest5_80_bayes_rate','aid_interest5_33_bayes_rate','advertiserId_gender_bayes_rate','interest1_51_bayes_rate','interest1_109_bayes_rate','campaignId_LBS_bayes_rate','interest1_18_bayes_rate','aid_interest5_98_bayes_rate','interest1_119_bayes_rate','interest2_73_bayes_rate','aid_interest1_10_bayes_rate','interest5_29_bayes_rate','interest1_13_bayes_rate','interest1_53_bayes_rate','aid_interest5_122_bayes_rate','interest2_52_bayes_rate','interest1_61_bayes_rate','interest2_45_bayes_rate','interest2_18_bayes_rate','interest1_71_bayes_rate','interest1_77_bayes_rate','aid_interest5_35_bayes_rate','aid_interest5_24_bayes_rate','LBS_education_bayes_rate','education_LBS_bayes_rate','aid_interest5_79_bayes_rate','aid_interest2_46_bayes_rate','interest5_53_bayes_rate','aid_interest5_44_bayes_rate','interest1_108_bayes_rate','interest1_68_bayes_rate','aid_interest5_117_bayes_rate','interest1_98_bayes_rate','interest5_118_bayes_rate','interest2_53_bayes_rate','os_0_bayes_rate','productType_bayes_rate','aid_interest5_104_bayes_rate','interest5_3_bayes_rate','aid_interest5_65_bayes_rate','interest5_112_bayes_rate','interest2_30_bayes_rate','aid_interest5_95_bayes_rate','interest1_112_bayes_rate','interest1_64_bayes_rate','interest1_46_bayes_rate','aid_marriageStatus_5_bayes_rate','aid_interest1_58_bayes_rate','interest5_86_bayes_rate','aid_interest2_67_bayes_rate','interest1_49_bayes_rate','aid_marriageStatus_11_bayes_rate','aid_interest1_51_bayes_rate','advertiserId_bayes_rate','aid_interest5_14_bayes_rate','aid_interest5_39_bayes_rate','interest5_124_bayes_rate','aid_interest5_6_bayes_rate','aid_interest5_108_bayes_rate','aid_interest5_86_bayes_rate','interest1_102_bayes_rate','aid_interest5_75_bayes_rate','interest5_50_bayes_rate','aid_interest1_72_bayes_rate','interest5_13_bayes_rate','aid_interest2_42_bayes_rate','marriageStatus_7_bayes_rate','interest5_120_bayes_rate','aid_interest1_49_bayes_rate','aid_interest5_53_bayes_rate','interest5_49_bayes_rate','interest1_37_bayes_rate','interest5_127_bayes_rate','interest2_74_bayes_rate','interest5_133_bayes_rate','aid_interest1_19_bayes_rate','aid_interest5_13_bayes_rate','interest1_19_bayes_rate','interest1_57_bayes_rate','aid_interest1_4_bayes_rate','interest5_55_bayes_rate','aid_interest4_10_bayes_rate','aid_interest5_100_bayes_rate','interest2_65_bayes_rate','aid_interest1_6_bayes_rate','adCategoryId_LBS_bayes_rate','aid_interest5_67_bayes_rate','interest5_81_bayes_rate','aid_interest5_84_bayes_rate','aid_interest2_79_bayes_rate','interest5_131_bayes_rate','campaignId_house_bayes_rate','interest2_12_bayes_rate','interest2_59_bayes_rate','interest5_134_bayes_rate','aid_interest1_70_bayes_rate','aid_interest5_29_bayes_rate','aid_interest2_44_bayes_rate','interest1_72_bayes_rate','aid_interest1_71_bayes_rate','aid_interest1_52_bayes_rate','interest1_42_bayes_rate','aid_interest5_28_bayes_rate','interest5_128_bayes_rate','interest1_25_bayes_rate','interest5_23_bayes_rate','interest5_90_bayes_rate','aid_interest5_15_bayes_rate','interest5_60_bayes_rate','aid_interest5_131_bayes_rate','aid_interest1_55_bayes_rate','interest1_0_bayes_rate','aid_interest5_16_bayes_rate','aid_interest5_63_bayes_rate','interest1_103_bayes_rate','productType_LBS_bayes_rate','interest1_11_bayes_rate','aid_interest2_16_bayes_rate','aid_interest5_128_bayes_rate','interest5_75_bayes_rate','interest5_116_bayes_rate','interest1_62_bayes_rate','ct_2_bayes_rate','aid_interest5_43_bayes_rate','interest4_4_bayes_rate','aid_interest5_9_bayes_rate','interest5_58_bayes_rate','aid_interest2_32_bayes_rate','interest5_130_bayes_rate','interest1_79_bayes_rate','aid_interest4_7_bayes_rate','campaignId_education_bayes_rate','interest5_84_bayes_rate','aid_interest1_95_bayes_rate','aid_interest1_62_bayes_rate','interest5_34_bayes_rate','aid_interest5_56_bayes_rate','interest5_73_bayes_rate','ct_3_bayes_rate','aid_marriageStatus_14_bayes_rate','interest1_33_bayes_rate','aid_interest5_102_bayes_rate','aid_interest2_71_bayes_rate','aid_interest5_38_bayes_rate','aid_interest2_40_bayes_rate','aid_interest5_82_bayes_rate','interest5_18_bayes_rate','interest5_132_bayes_rate','interest1_111_bayes_rate','aid_interest2_75_bayes_rate','aid_house_bayes_rate','advertiserId_consumptionAbility_bayes_rate','aid_interest1_61_bayes_rate','aid_interest2_11_bayes_rate','interest1_6_bayes_rate','aid_interest5_77_bayes_rate','aid_interest5_60_bayes_rate','aid_interest5_96_bayes_rate','aid_interest5_127_bayes_rate','aid_interest5_55_bayes_rate','interest1_115_bayes_rate','interest1_31_bayes_rate','interest5_21_bayes_rate','interest1_93_bayes_rate','aid_interest5_22_bayes_rate','aid_interest2_49_bayes_rate','aid_interest5_42_bayes_rate','aid_interest1_7_bayes_rate','interest5_5_bayes_rate','aid_interest2_78_bayes_rate','advertiserId_carrier_bayes_rate','aid_interest1_48_bayes_rate','interest5_14_bayes_rate','aid_interest5_76_bayes_rate','aid_interest2_61_bayes_rate','aid_interest5_88_bayes_rate','advertiserId_LBS_bayes_rate','aid_interest5_54_bayes_rate','aid_interest5_30_bayes_rate','aid_interest2_13_bayes_rate','aid_interest4_2_bayes_rate','interest5_22_bayes_rate','aid_gender_bayes_rate','aid_interest4_1_bayes_rate','aid_interest4_3_bayes_rate','interest5_45_bayes_rate','aid_interest5_132_bayes_rate','interest1_16_bayes_rate','interest1_99_bayes_rate','interest1_117_bayes_rate','interest1_76_bayes_rate','aid_interest5_45_bayes_rate','aid_interest5_133_bayes_rate','aid_interest5_23_bayes_rate','interest1_118_bayes_rate','aid_marriageStatus_10_bayes_rate','aid_interest5_81_bayes_rate','interest5_76_bayes_rate','aid_marriageStatus_7_bayes_rate','aid_marriageStatus_13_bayes_rate','aid_interest1_14_bayes_rate','interest1_100_bayes_rate','aid_interest2_45_bayes_rate','aid_interest5_134_bayes_rate','aid_interest2_12_bayes_rate','aid_interest5_21_bayes_rate','aid_interest2_74_bayes_rate','interest1_4_bayes_rate','aid_interest2_73_bayes_rate','aid_interest1_11_bayes_rate','aid_marriageStatus_12_bayes_rate','interest1_65_bayes_rate','aid_marriageStatus_0_bayes_rate','aid_marriageStatus_2_bayes_rate','aid_interest5_41_bayes_rate','interest5_52_bayes_rate','marriageStatus_9_bayes_rate','aid_interest5_52_bayes_rate','interest5_69_bayes_rate','interest1_7_bayes_rate','aid_interest2_66_bayes_rate','interest1_69_bayes_rate','aid_interest5_118_bayes_rate','aid_interest4_8_bayes_rate','productId_LBS_bayes_rate','interest1_104_bayes_rate','interest5_54_bayes_rate','aid_interest5_11_bayes_rate','aid_interest5_99_bayes_rate','aid_interest5_87_bayes_rate','aid_interest2_64_bayes_rate','interest5_77_bayes_rate','interest1_14_bayes_rate','aid_interest2_77_bayes_rate','interest1_120_bayes_rate','aid_interest5_90_bayes_rate','aid_bayes_rate','aid_interest4_0_bayes_rate','aid_interest1_46_bayes_rate','interest1_80_bayes_rate','interest1_81_bayes_rate','interest5_66_bayes_rate','aid_interest1_57_bayes_rate','interest1_5_bayes_rate','aid_interest5_125_bayes_rate','aid_interest5_64_bayes_rate','aid_interest2_72_bayes_rate','aid_interest5_120_bayes_rate','aid_interest5_101_bayes_rate','aid_interest1_69_bayes_rate','interest2_57_bayes_rate','aid_interest3_9_bayes_rate','aid_interest5_8_bayes_rate','aid_interest4_4_bayes_rate','aid_interest5_66_bayes_rate','interest2_13_bayes_rate','interest2_61_bayes_rate','interest5_41_bayes_rate','aid_interest5_71_bayes_rate','interest5_31_bayes_rate','interest1_59_bayes_rate','interest5_91_bayes_rate','interest5_121_bayes_rate','interest2_58_bayes_rate','aid_interest5_46_bayes_rate','aid_interest5_126_bayes_rate','aid_interest2_35_bayes_rate','interest1_95_bayes_rate','interest5_47_bayes_rate','interest1_10_bayes_rate','aid_interest5_32_bayes_rate','interest5_70_bayes_rate','interest5_101_bayes_rate','interest1_92_bayes_rate','aid_interest1_2_bayes_rate','interest5_78_bayes_rate','aid_ct_4_bayes_rate','aid_interest2_65_bayes_rate','aid_interest4_6_bayes_rate','aid_interest4_5_bayes_rate','aid_interest5_5_bayes_rate','interest1_38_bayes_rate','aid_marriageStatus_9_bayes_rate','aid_interest2_39_bayes_rate','aid_interest5_121_bayes_rate','interest1_2_bayes_rate','interest2_49_bayes_rate','productId_bayes_rate','interest1_105_bayes_rate','aid_interest1_8_bayes_rate','aid_ct_2_bayes_rate','interest1_94_bayes_rate','interest1_83_bayes_rate','aid_interest5_105_bayes_rate','aid_interest3_10_bayes_rate','interest1_89_bayes_rate','aid_interest4_9_bayes_rate','aid_interest5_135_bayes_rate','interest2_75_bayes_rate','interest2_79_bayes_rate','aid_interest1_68_bayes_rate','interest1_86_bayes_rate','aid_interest1_74_bayes_rate']\n",
    "len(cols)"
   ]
  },
  {
   "cell_type": "code",
   "execution_count": 7,
   "metadata": {
    "scrolled": true
   },
   "outputs": [
    {
     "data": {
      "text/plain": [
       "720"
      ]
     },
     "execution_count": 7,
     "metadata": {},
     "output_type": "execute_result"
    }
   ],
   "source": [
    "len(cols)\n",
    "cnt = math.ceil(len(cols) / 10)"
   ]
  },
  {
   "cell_type": "code",
   "execution_count": 12,
   "metadata": {
    "scrolled": true
   },
   "outputs": [
    {
     "data": {
      "application/vnd.jupyter.widget-view+json": {
       "model_id": "d621102910b54c12a5f43eddd9d30798",
       "version_major": 2,
       "version_minor": 0
      },
      "text/html": [
       "<p>Failed to display Jupyter Widget of type <code>HBox</code>.</p>\n",
       "<p>\n",
       "  If you're reading this message in the Jupyter Notebook or JupyterLab Notebook, it may mean\n",
       "  that the widgets JavaScript is still loading. If this message persists, it\n",
       "  likely means that the widgets JavaScript library is either not installed or\n",
       "  not enabled. See the <a href=\"https://ipywidgets.readthedocs.io/en/stable/user_install.html\">Jupyter\n",
       "  Widgets Documentation</a> for setup instructions.\n",
       "</p>\n",
       "<p>\n",
       "  If you're reading this message in another frontend (for example, a static\n",
       "  rendering on GitHub or <a href=\"https://nbviewer.jupyter.org/\">NBViewer</a>),\n",
       "  it may mean that your frontend doesn't currently support widgets.\n",
       "</p>\n"
      ],
      "text/plain": [
       "HBox(children=(IntProgress(value=0, max=4), HTML(value='')))"
      ]
     },
     "metadata": {},
     "output_type": "display_data"
    },
    {
     "name": "stdout",
     "output_type": "stream",
     "text": [
      "\n",
      "\n"
     ]
    },
    {
     "data": {
      "application/vnd.jupyter.widget-view+json": {
       "model_id": "8a77dd35b6484b2988c69828e1b49703",
       "version_major": 2,
       "version_minor": 0
      },
      "text/html": [
       "<p>Failed to display Jupyter Widget of type <code>HBox</code>.</p>\n",
       "<p>\n",
       "  If you're reading this message in the Jupyter Notebook or JupyterLab Notebook, it may mean\n",
       "  that the widgets JavaScript is still loading. If this message persists, it\n",
       "  likely means that the widgets JavaScript library is either not installed or\n",
       "  not enabled. See the <a href=\"https://ipywidgets.readthedocs.io/en/stable/user_install.html\">Jupyter\n",
       "  Widgets Documentation</a> for setup instructions.\n",
       "</p>\n",
       "<p>\n",
       "  If you're reading this message in another frontend (for example, a static\n",
       "  rendering on GitHub or <a href=\"https://nbviewer.jupyter.org/\">NBViewer</a>),\n",
       "  it may mean that your frontend doesn't currently support widgets.\n",
       "</p>\n"
      ],
      "text/plain": [
       "HBox(children=(IntProgress(value=0, max=4), HTML(value='')))"
      ]
     },
     "metadata": {},
     "output_type": "display_data"
    },
    {
     "name": "stdout",
     "output_type": "stream",
     "text": [
      "\n"
     ]
    },
    {
     "data": {
      "application/vnd.jupyter.widget-view+json": {
       "model_id": "6b5b8d343321445aafd3a98af1da544e",
       "version_major": 2,
       "version_minor": 0
      },
      "text/html": [
       "<p>Failed to display Jupyter Widget of type <code>HBox</code>.</p>\n",
       "<p>\n",
       "  If you're reading this message in the Jupyter Notebook or JupyterLab Notebook, it may mean\n",
       "  that the widgets JavaScript is still loading. If this message persists, it\n",
       "  likely means that the widgets JavaScript library is either not installed or\n",
       "  not enabled. See the <a href=\"https://ipywidgets.readthedocs.io/en/stable/user_install.html\">Jupyter\n",
       "  Widgets Documentation</a> for setup instructions.\n",
       "</p>\n",
       "<p>\n",
       "  If you're reading this message in another frontend (for example, a static\n",
       "  rendering on GitHub or <a href=\"https://nbviewer.jupyter.org/\">NBViewer</a>),\n",
       "  it may mean that your frontend doesn't currently support widgets.\n",
       "</p>\n"
      ],
      "text/plain": [
       "HBox(children=(IntProgress(value=0, max=4), HTML(value='')))"
      ]
     },
     "metadata": {},
     "output_type": "display_data"
    },
    {
     "name": "stdout",
     "output_type": "stream",
     "text": [
      "\n"
     ]
    },
    {
     "data": {
      "application/vnd.jupyter.widget-view+json": {
       "model_id": "20c5cc1b020444c98a688ec94b2a2a93",
       "version_major": 2,
       "version_minor": 0
      },
      "text/html": [
       "<p>Failed to display Jupyter Widget of type <code>HBox</code>.</p>\n",
       "<p>\n",
       "  If you're reading this message in the Jupyter Notebook or JupyterLab Notebook, it may mean\n",
       "  that the widgets JavaScript is still loading. If this message persists, it\n",
       "  likely means that the widgets JavaScript library is either not installed or\n",
       "  not enabled. See the <a href=\"https://ipywidgets.readthedocs.io/en/stable/user_install.html\">Jupyter\n",
       "  Widgets Documentation</a> for setup instructions.\n",
       "</p>\n",
       "<p>\n",
       "  If you're reading this message in another frontend (for example, a static\n",
       "  rendering on GitHub or <a href=\"https://nbviewer.jupyter.org/\">NBViewer</a>),\n",
       "  it may mean that your frontend doesn't currently support widgets.\n",
       "</p>\n"
      ],
      "text/plain": [
       "HBox(children=(IntProgress(value=0, max=4), HTML(value='')))"
      ]
     },
     "metadata": {},
     "output_type": "display_data"
    },
    {
     "name": "stdout",
     "output_type": "stream",
     "text": [
      "\n"
     ]
    },
    {
     "data": {
      "application/vnd.jupyter.widget-view+json": {
       "model_id": "1c7239d7512f479887113d025bd872d9",
       "version_major": 2,
       "version_minor": 0
      },
      "text/html": [
       "<p>Failed to display Jupyter Widget of type <code>HBox</code>.</p>\n",
       "<p>\n",
       "  If you're reading this message in the Jupyter Notebook or JupyterLab Notebook, it may mean\n",
       "  that the widgets JavaScript is still loading. If this message persists, it\n",
       "  likely means that the widgets JavaScript library is either not installed or\n",
       "  not enabled. See the <a href=\"https://ipywidgets.readthedocs.io/en/stable/user_install.html\">Jupyter\n",
       "  Widgets Documentation</a> for setup instructions.\n",
       "</p>\n",
       "<p>\n",
       "  If you're reading this message in another frontend (for example, a static\n",
       "  rendering on GitHub or <a href=\"https://nbviewer.jupyter.org/\">NBViewer</a>),\n",
       "  it may mean that your frontend doesn't currently support widgets.\n",
       "</p>\n"
      ],
      "text/plain": [
       "HBox(children=(IntProgress(value=0, max=4), HTML(value='')))"
      ]
     },
     "metadata": {},
     "output_type": "display_data"
    },
    {
     "name": "stdout",
     "output_type": "stream",
     "text": [
      "\n"
     ]
    },
    {
     "data": {
      "application/vnd.jupyter.widget-view+json": {
       "model_id": "b67a842c3a36473394f78065282da84c",
       "version_major": 2,
       "version_minor": 0
      },
      "text/html": [
       "<p>Failed to display Jupyter Widget of type <code>HBox</code>.</p>\n",
       "<p>\n",
       "  If you're reading this message in the Jupyter Notebook or JupyterLab Notebook, it may mean\n",
       "  that the widgets JavaScript is still loading. If this message persists, it\n",
       "  likely means that the widgets JavaScript library is either not installed or\n",
       "  not enabled. See the <a href=\"https://ipywidgets.readthedocs.io/en/stable/user_install.html\">Jupyter\n",
       "  Widgets Documentation</a> for setup instructions.\n",
       "</p>\n",
       "<p>\n",
       "  If you're reading this message in another frontend (for example, a static\n",
       "  rendering on GitHub or <a href=\"https://nbviewer.jupyter.org/\">NBViewer</a>),\n",
       "  it may mean that your frontend doesn't currently support widgets.\n",
       "</p>\n"
      ],
      "text/plain": [
       "HBox(children=(IntProgress(value=0, max=4), HTML(value='')))"
      ]
     },
     "metadata": {},
     "output_type": "display_data"
    },
    {
     "name": "stdout",
     "output_type": "stream",
     "text": [
      "\n"
     ]
    },
    {
     "data": {
      "application/vnd.jupyter.widget-view+json": {
       "model_id": "f4da1a6926c747528208bd3e4bad1f9c",
       "version_major": 2,
       "version_minor": 0
      },
      "text/html": [
       "<p>Failed to display Jupyter Widget of type <code>HBox</code>.</p>\n",
       "<p>\n",
       "  If you're reading this message in the Jupyter Notebook or JupyterLab Notebook, it may mean\n",
       "  that the widgets JavaScript is still loading. If this message persists, it\n",
       "  likely means that the widgets JavaScript library is either not installed or\n",
       "  not enabled. See the <a href=\"https://ipywidgets.readthedocs.io/en/stable/user_install.html\">Jupyter\n",
       "  Widgets Documentation</a> for setup instructions.\n",
       "</p>\n",
       "<p>\n",
       "  If you're reading this message in another frontend (for example, a static\n",
       "  rendering on GitHub or <a href=\"https://nbviewer.jupyter.org/\">NBViewer</a>),\n",
       "  it may mean that your frontend doesn't currently support widgets.\n",
       "</p>\n"
      ],
      "text/plain": [
       "HBox(children=(IntProgress(value=0, max=4), HTML(value='')))"
      ]
     },
     "metadata": {},
     "output_type": "display_data"
    },
    {
     "name": "stdout",
     "output_type": "stream",
     "text": [
      "\n"
     ]
    },
    {
     "data": {
      "application/vnd.jupyter.widget-view+json": {
       "model_id": "07e47500d0414533bf1faaeae66cf0ae",
       "version_major": 2,
       "version_minor": 0
      },
      "text/html": [
       "<p>Failed to display Jupyter Widget of type <code>HBox</code>.</p>\n",
       "<p>\n",
       "  If you're reading this message in the Jupyter Notebook or JupyterLab Notebook, it may mean\n",
       "  that the widgets JavaScript is still loading. If this message persists, it\n",
       "  likely means that the widgets JavaScript library is either not installed or\n",
       "  not enabled. See the <a href=\"https://ipywidgets.readthedocs.io/en/stable/user_install.html\">Jupyter\n",
       "  Widgets Documentation</a> for setup instructions.\n",
       "</p>\n",
       "<p>\n",
       "  If you're reading this message in another frontend (for example, a static\n",
       "  rendering on GitHub or <a href=\"https://nbviewer.jupyter.org/\">NBViewer</a>),\n",
       "  it may mean that your frontend doesn't currently support widgets.\n",
       "</p>\n"
      ],
      "text/plain": [
       "HBox(children=(IntProgress(value=0, max=4), HTML(value='')))"
      ]
     },
     "metadata": {},
     "output_type": "display_data"
    },
    {
     "name": "stdout",
     "output_type": "stream",
     "text": [
      "\n"
     ]
    },
    {
     "data": {
      "application/vnd.jupyter.widget-view+json": {
       "model_id": "65c77dd3672b48bcb78d9d251253fa86",
       "version_major": 2,
       "version_minor": 0
      },
      "text/html": [
       "<p>Failed to display Jupyter Widget of type <code>HBox</code>.</p>\n",
       "<p>\n",
       "  If you're reading this message in the Jupyter Notebook or JupyterLab Notebook, it may mean\n",
       "  that the widgets JavaScript is still loading. If this message persists, it\n",
       "  likely means that the widgets JavaScript library is either not installed or\n",
       "  not enabled. See the <a href=\"https://ipywidgets.readthedocs.io/en/stable/user_install.html\">Jupyter\n",
       "  Widgets Documentation</a> for setup instructions.\n",
       "</p>\n",
       "<p>\n",
       "  If you're reading this message in another frontend (for example, a static\n",
       "  rendering on GitHub or <a href=\"https://nbviewer.jupyter.org/\">NBViewer</a>),\n",
       "  it may mean that your frontend doesn't currently support widgets.\n",
       "</p>\n"
      ],
      "text/plain": [
       "HBox(children=(IntProgress(value=0, max=4), HTML(value='')))"
      ]
     },
     "metadata": {},
     "output_type": "display_data"
    },
    {
     "name": "stdout",
     "output_type": "stream",
     "text": [
      "\n"
     ]
    },
    {
     "data": {
      "application/vnd.jupyter.widget-view+json": {
       "model_id": "1d61fb5b3d6941878b20b1eafdddd9f8",
       "version_major": 2,
       "version_minor": 0
      },
      "text/html": [
       "<p>Failed to display Jupyter Widget of type <code>HBox</code>.</p>\n",
       "<p>\n",
       "  If you're reading this message in the Jupyter Notebook or JupyterLab Notebook, it may mean\n",
       "  that the widgets JavaScript is still loading. If this message persists, it\n",
       "  likely means that the widgets JavaScript library is either not installed or\n",
       "  not enabled. See the <a href=\"https://ipywidgets.readthedocs.io/en/stable/user_install.html\">Jupyter\n",
       "  Widgets Documentation</a> for setup instructions.\n",
       "</p>\n",
       "<p>\n",
       "  If you're reading this message in another frontend (for example, a static\n",
       "  rendering on GitHub or <a href=\"https://nbviewer.jupyter.org/\">NBViewer</a>),\n",
       "  it may mean that your frontend doesn't currently support widgets.\n",
       "</p>\n"
      ],
      "text/plain": [
       "HBox(children=(IntProgress(value=0, max=4), HTML(value='')))"
      ]
     },
     "metadata": {},
     "output_type": "display_data"
    },
    {
     "name": "stdout",
     "output_type": "stream",
     "text": [
      "\n"
     ]
    }
   ],
   "source": [
    "start = 0\n",
    "for ii in range(start, 10):\n",
    "    for j in tqdm_notebook(range(4)):\n",
    "        tmp = pd.read_csv('./output_r2/test_bayes_b_' + str(j+1), usecols=cols[ii*cnt:(ii+1)*cnt])\n",
    "        for i in list(tmp.columns):\n",
    "            if tmp[i].isnull().sum() == tmp.shape[0]:\n",
    "                tmp[i] = tmp[i].fillna(0)\n",
    "            else:\n",
    "                tmp[i] = tmp[i].fillna(tmp[i].mode()[0])\n",
    "        tmp = tmp.as_matrix().astype(np.float16)\n",
    "        if j == 0:\n",
    "            df = tmp\n",
    "            del tmp\n",
    "            _ = gc.collect()\n",
    "        else:\n",
    "            df = np.concatenate((df, tmp))\n",
    "            del tmp\n",
    "            _ = gc.collect()\n",
    "            \n",
    "    if ii == start:\n",
    "        df_all = df\n",
    "        np.save('bayes_next_' + str(ii), df_all)\n",
    "        del df\n",
    "        _ = gc.collect()\n",
    "    else:\n",
    "        df_all = np.concatenate((df_all, df), axis=1)\n",
    "        if (ii == 2) | (ii == 5) | (ii == 9):\n",
    "            np.save('bayes_next_' + str(ii), df_all)\n",
    "        del df\n",
    "        _ = gc.collect()"
   ]
  },
  {
   "cell_type": "markdown",
   "metadata": {},
   "source": [
    "## normalization"
   ]
  },
  {
   "cell_type": "code",
   "execution_count": 5,
   "metadata": {},
   "outputs": [
    {
     "data": {
      "text/plain": [
       "(57268773, 185)"
      ]
     },
     "execution_count": 5,
     "metadata": {},
     "output_type": "execute_result"
    }
   ],
   "source": [
    "train_all = np.load('./output_r2/train_new.npy')\n",
    "test_all = np.load('./output_r2/test_new.npy')\n",
    "\n",
    "df_all = np.concatenate((train_all, test_all))\n",
    "df_all.shape"
   ]
  },
  {
   "cell_type": "code",
   "execution_count": 10,
   "metadata": {},
   "outputs": [],
   "source": [
    "from sklearn.preprocessing import OneHotEncoder, StandardScaler"
   ]
  },
  {
   "cell_type": "code",
   "execution_count": 15,
   "metadata": {},
   "outputs": [],
   "source": [
    "def gen_transform_tool(data, save_route = './output_r2/transform/'):\n",
    "    for i in range(data.shape[1]):\n",
    "        scaler_val = data[:, i][~np.isnan(data[:, i])]\n",
    "#         scaler = StandardScaler().fit(scaler_val.reshape((len(scaler_val), 1)))\n",
    "        scaler = pickle.load(open(save_route+str(i)+'.scaler', 'rb'))\n",
    "        print('scaler:', i, '->', save_route+str(i)+'.scaler')\n",
    "#         pickle.dump(scaler, open(save_route+str(i)+'.scaler', 'wb'))\n",
    "        data[:, i][np.isnan(data[:, i])] = scaler.mean_[0]\n",
    "        data[:, i] = scaler.transform(data[:, i].reshape((len(data), 1))).reshape((len(data),)).tolist()\n",
    "    return data"
   ]
  },
  {
   "cell_type": "code",
   "execution_count": 8,
   "metadata": {
    "collapsed": true
   },
   "outputs": [
    {
     "name": "stdout",
     "output_type": "stream",
     "text": [
      "scaler: 0 -> ./output_r2/transform/0.scaler\n",
      "scaler: 1 -> ./output_r2/transform/1.scaler\n",
      "scaler: 2 -> ./output_r2/transform/2.scaler\n",
      "scaler: 3 -> ./output_r2/transform/3.scaler\n",
      "scaler: 4 -> ./output_r2/transform/4.scaler\n",
      "scaler: 5 -> ./output_r2/transform/5.scaler\n",
      "scaler: 6 -> ./output_r2/transform/6.scaler\n",
      "scaler: 7 -> ./output_r2/transform/7.scaler\n",
      "scaler: 8 -> ./output_r2/transform/8.scaler\n",
      "scaler: 9 -> ./output_r2/transform/9.scaler\n",
      "scaler: 10 -> ./output_r2/transform/10.scaler\n",
      "scaler: 11 -> ./output_r2/transform/11.scaler\n",
      "scaler: 12 -> ./output_r2/transform/12.scaler\n",
      "scaler: 13 -> ./output_r2/transform/13.scaler\n",
      "scaler: 14 -> ./output_r2/transform/14.scaler\n",
      "scaler: 15 -> ./output_r2/transform/15.scaler\n",
      "scaler: 16 -> ./output_r2/transform/16.scaler\n",
      "scaler: 17 -> ./output_r2/transform/17.scaler\n",
      "scaler: 18 -> ./output_r2/transform/18.scaler\n",
      "scaler: 19 -> ./output_r2/transform/19.scaler\n",
      "scaler: 20 -> ./output_r2/transform/20.scaler\n",
      "scaler: 21 -> ./output_r2/transform/21.scaler\n",
      "scaler: 22 -> ./output_r2/transform/22.scaler\n",
      "scaler: 23 -> ./output_r2/transform/23.scaler\n",
      "scaler: 24 -> ./output_r2/transform/24.scaler\n",
      "scaler: 25 -> ./output_r2/transform/25.scaler\n",
      "scaler: 26 -> ./output_r2/transform/26.scaler\n",
      "scaler: 27 -> ./output_r2/transform/27.scaler\n",
      "scaler: 28 -> ./output_r2/transform/28.scaler\n",
      "scaler: 29 -> ./output_r2/transform/29.scaler\n",
      "scaler: 30 -> ./output_r2/transform/30.scaler\n",
      "scaler: 31 -> ./output_r2/transform/31.scaler\n",
      "scaler: 32 -> ./output_r2/transform/32.scaler\n",
      "scaler: 33 -> ./output_r2/transform/33.scaler\n",
      "scaler: 34 -> ./output_r2/transform/34.scaler\n",
      "scaler: 35 -> ./output_r2/transform/35.scaler\n",
      "scaler: 36 -> ./output_r2/transform/36.scaler\n",
      "scaler: 37 -> ./output_r2/transform/37.scaler\n",
      "scaler: 38 -> ./output_r2/transform/38.scaler\n",
      "scaler: 39 -> ./output_r2/transform/39.scaler\n",
      "scaler: 40 -> ./output_r2/transform/40.scaler\n",
      "scaler: 41 -> ./output_r2/transform/41.scaler\n",
      "scaler: 42 -> ./output_r2/transform/42.scaler\n",
      "scaler: 43 -> ./output_r2/transform/43.scaler\n",
      "scaler: 44 -> ./output_r2/transform/44.scaler\n",
      "scaler: 45 -> ./output_r2/transform/45.scaler\n",
      "scaler: 46 -> ./output_r2/transform/46.scaler\n",
      "scaler: 47 -> ./output_r2/transform/47.scaler\n",
      "scaler: 48 -> ./output_r2/transform/48.scaler\n",
      "scaler: 49 -> ./output_r2/transform/49.scaler\n",
      "scaler: 50 -> ./output_r2/transform/50.scaler\n",
      "scaler: 51 -> ./output_r2/transform/51.scaler\n",
      "scaler: 52 -> ./output_r2/transform/52.scaler\n",
      "scaler: 53 -> ./output_r2/transform/53.scaler\n",
      "scaler: 54 -> ./output_r2/transform/54.scaler\n",
      "scaler: 55 -> ./output_r2/transform/55.scaler\n",
      "scaler: 56 -> ./output_r2/transform/56.scaler\n",
      "scaler: 57 -> ./output_r2/transform/57.scaler\n",
      "scaler: 58 -> ./output_r2/transform/58.scaler\n",
      "scaler: 59 -> ./output_r2/transform/59.scaler\n",
      "scaler: 60 -> ./output_r2/transform/60.scaler\n",
      "scaler: 61 -> ./output_r2/transform/61.scaler\n",
      "scaler: 62 -> ./output_r2/transform/62.scaler\n",
      "scaler: 63 -> ./output_r2/transform/63.scaler\n",
      "scaler: 64 -> ./output_r2/transform/64.scaler\n",
      "scaler: 65 -> ./output_r2/transform/65.scaler\n",
      "scaler: 66 -> ./output_r2/transform/66.scaler\n",
      "scaler: 67 -> ./output_r2/transform/67.scaler\n",
      "scaler: 68 -> ./output_r2/transform/68.scaler\n",
      "scaler: 69 -> ./output_r2/transform/69.scaler\n",
      "scaler: 70 -> ./output_r2/transform/70.scaler\n",
      "scaler: 71 -> ./output_r2/transform/71.scaler\n",
      "scaler: 72 -> ./output_r2/transform/72.scaler\n",
      "scaler: 73 -> ./output_r2/transform/73.scaler\n",
      "scaler: 74 -> ./output_r2/transform/74.scaler\n",
      "scaler: 75 -> ./output_r2/transform/75.scaler\n",
      "scaler: 76 -> ./output_r2/transform/76.scaler\n",
      "scaler: 77 -> ./output_r2/transform/77.scaler\n",
      "scaler: 78 -> ./output_r2/transform/78.scaler\n",
      "scaler: 79 -> ./output_r2/transform/79.scaler\n",
      "scaler: 80 -> ./output_r2/transform/80.scaler\n",
      "scaler: 81 -> ./output_r2/transform/81.scaler\n",
      "scaler: 82 -> ./output_r2/transform/82.scaler\n",
      "scaler: 83 -> ./output_r2/transform/83.scaler\n",
      "scaler: 84 -> ./output_r2/transform/84.scaler\n",
      "scaler: 85 -> ./output_r2/transform/85.scaler\n",
      "scaler: 86 -> ./output_r2/transform/86.scaler\n",
      "scaler: 87 -> ./output_r2/transform/87.scaler\n",
      "scaler: 88 -> ./output_r2/transform/88.scaler\n",
      "scaler: 89 -> ./output_r2/transform/89.scaler\n",
      "scaler: 90 -> ./output_r2/transform/90.scaler\n",
      "scaler: 91 -> ./output_r2/transform/91.scaler\n",
      "scaler: 92 -> ./output_r2/transform/92.scaler\n",
      "scaler: 93 -> ./output_r2/transform/93.scaler\n",
      "scaler: 94 -> ./output_r2/transform/94.scaler\n",
      "scaler: 95 -> ./output_r2/transform/95.scaler\n",
      "scaler: 96 -> ./output_r2/transform/96.scaler\n",
      "scaler: 97 -> ./output_r2/transform/97.scaler\n",
      "scaler: 98 -> ./output_r2/transform/98.scaler\n",
      "scaler: 99 -> ./output_r2/transform/99.scaler\n",
      "scaler: 100 -> ./output_r2/transform/100.scaler\n",
      "scaler: 101 -> ./output_r2/transform/101.scaler\n",
      "scaler: 102 -> ./output_r2/transform/102.scaler\n",
      "scaler: 103 -> ./output_r2/transform/103.scaler\n",
      "scaler: 104 -> ./output_r2/transform/104.scaler\n",
      "scaler: 105 -> ./output_r2/transform/105.scaler\n",
      "scaler: 106 -> ./output_r2/transform/106.scaler\n",
      "scaler: 107 -> ./output_r2/transform/107.scaler\n",
      "scaler: 108 -> ./output_r2/transform/108.scaler\n",
      "scaler: 109 -> ./output_r2/transform/109.scaler\n",
      "scaler: 110 -> ./output_r2/transform/110.scaler\n",
      "scaler: 111 -> ./output_r2/transform/111.scaler\n",
      "scaler: 112 -> ./output_r2/transform/112.scaler\n",
      "scaler: 113 -> ./output_r2/transform/113.scaler\n",
      "scaler: 114 -> ./output_r2/transform/114.scaler\n",
      "scaler: 115 -> ./output_r2/transform/115.scaler\n",
      "scaler: 116 -> ./output_r2/transform/116.scaler\n",
      "scaler: 117 -> ./output_r2/transform/117.scaler\n",
      "scaler: 118 -> ./output_r2/transform/118.scaler\n",
      "scaler: 119 -> ./output_r2/transform/119.scaler\n",
      "scaler: 120 -> ./output_r2/transform/120.scaler\n",
      "scaler: 121 -> ./output_r2/transform/121.scaler\n",
      "scaler: 122 -> ./output_r2/transform/122.scaler\n",
      "scaler: 123 -> ./output_r2/transform/123.scaler\n",
      "scaler: 124 -> ./output_r2/transform/124.scaler\n",
      "scaler: 125 -> ./output_r2/transform/125.scaler\n",
      "scaler: 126 -> ./output_r2/transform/126.scaler\n",
      "scaler: 127 -> ./output_r2/transform/127.scaler\n",
      "scaler: 128 -> ./output_r2/transform/128.scaler\n",
      "scaler: 129 -> ./output_r2/transform/129.scaler\n",
      "scaler: 130 -> ./output_r2/transform/130.scaler\n",
      "scaler: 131 -> ./output_r2/transform/131.scaler\n",
      "scaler: 132 -> ./output_r2/transform/132.scaler\n",
      "scaler: 133 -> ./output_r2/transform/133.scaler\n",
      "scaler: 134 -> ./output_r2/transform/134.scaler\n",
      "scaler: 135 -> ./output_r2/transform/135.scaler\n",
      "scaler: 136 -> ./output_r2/transform/136.scaler\n",
      "scaler: 137 -> ./output_r2/transform/137.scaler\n",
      "scaler: 138 -> ./output_r2/transform/138.scaler\n",
      "scaler: 139 -> ./output_r2/transform/139.scaler\n",
      "scaler: 140 -> ./output_r2/transform/140.scaler\n",
      "scaler: 141 -> ./output_r2/transform/141.scaler\n",
      "scaler: 142 -> ./output_r2/transform/142.scaler\n",
      "scaler: 143 -> ./output_r2/transform/143.scaler\n",
      "scaler: 144 -> ./output_r2/transform/144.scaler\n",
      "scaler: 145 -> ./output_r2/transform/145.scaler\n",
      "scaler: 146 -> ./output_r2/transform/146.scaler\n",
      "scaler: 147 -> ./output_r2/transform/147.scaler\n",
      "scaler: 148 -> ./output_r2/transform/148.scaler\n",
      "scaler: 149 -> ./output_r2/transform/149.scaler\n",
      "scaler: 150 -> ./output_r2/transform/150.scaler\n",
      "scaler: 151 -> ./output_r2/transform/151.scaler\n",
      "scaler: 152 -> ./output_r2/transform/152.scaler\n",
      "scaler: 153 -> ./output_r2/transform/153.scaler\n",
      "scaler: 154 -> ./output_r2/transform/154.scaler\n",
      "scaler: 155 -> ./output_r2/transform/155.scaler\n",
      "scaler: 156 -> ./output_r2/transform/156.scaler\n",
      "scaler: 157 -> ./output_r2/transform/157.scaler\n",
      "scaler: 158 -> ./output_r2/transform/158.scaler\n",
      "scaler: 159 -> ./output_r2/transform/159.scaler\n",
      "scaler: 160 -> ./output_r2/transform/160.scaler\n",
      "scaler: 161 -> ./output_r2/transform/161.scaler\n",
      "scaler: 162 -> ./output_r2/transform/162.scaler\n",
      "scaler: 163 -> ./output_r2/transform/163.scaler\n",
      "scaler: 164 -> ./output_r2/transform/164.scaler\n",
      "scaler: 165 -> ./output_r2/transform/165.scaler\n",
      "scaler: 166 -> ./output_r2/transform/166.scaler\n",
      "scaler: 167 -> ./output_r2/transform/167.scaler\n",
      "scaler: 168 -> ./output_r2/transform/168.scaler\n",
      "scaler: 169 -> ./output_r2/transform/169.scaler\n",
      "scaler: 170 -> ./output_r2/transform/170.scaler\n",
      "scaler: 171 -> ./output_r2/transform/171.scaler\n",
      "scaler: 172 -> ./output_r2/transform/172.scaler\n",
      "scaler: 173 -> ./output_r2/transform/173.scaler\n",
      "scaler: 174 -> ./output_r2/transform/174.scaler\n",
      "scaler: 175 -> ./output_r2/transform/175.scaler\n"
     ]
    },
    {
     "name": "stdout",
     "output_type": "stream",
     "text": [
      "scaler: 176 -> ./output_r2/transform/176.scaler\n",
      "scaler: 177 -> ./output_r2/transform/177.scaler\n",
      "scaler: 178 -> ./output_r2/transform/178.scaler\n",
      "scaler: 179 -> ./output_r2/transform/179.scaler\n",
      "scaler: 180 -> ./output_r2/transform/180.scaler\n",
      "scaler: 181 -> ./output_r2/transform/181.scaler\n",
      "scaler: 182 -> ./output_r2/transform/182.scaler\n",
      "scaler: 183 -> ./output_r2/transform/183.scaler\n",
      "scaler: 184 -> ./output_r2/transform/184.scaler\n"
     ]
    }
   ],
   "source": [
    "df_all_tran = gen_transform_tool(df_all)\n",
    "# test_all_tran = gen_transform_tool(test_all)"
   ]
  },
  {
   "cell_type": "code",
   "execution_count": 38,
   "metadata": {},
   "outputs": [],
   "source": [
    "df_all_tran = df_all_tran.astype(np.float32)"
   ]
  },
  {
   "cell_type": "code",
   "execution_count": 2,
   "metadata": {},
   "outputs": [],
   "source": [
    "df_all_tran = np.load('./output_r2/df_all_tran_new.npy')"
   ]
  },
  {
   "cell_type": "code",
   "execution_count": 17,
   "metadata": {},
   "outputs": [],
   "source": [
    "# df_all_tran = df_all_tran.astype(np.float16)\n",
    "test_all_tran = test_all_tran.astype(np.float16)"
   ]
  },
  {
   "cell_type": "code",
   "execution_count": 18,
   "metadata": {},
   "outputs": [],
   "source": [
    "np.save('./output_r2/test_all_tran_b_float16_new.npy', test_all_tran)"
   ]
  }
 ],
 "metadata": {
  "kernelspec": {
   "display_name": "Python 3",
   "language": "python",
   "name": "python3"
  },
  "language_info": {
   "codemirror_mode": {
    "name": "ipython",
    "version": 3
   },
   "file_extension": ".py",
   "mimetype": "text/x-python",
   "name": "python",
   "nbconvert_exporter": "python",
   "pygments_lexer": "ipython3",
   "version": "3.6.4"
  }
 },
 "nbformat": 4,
 "nbformat_minor": 2
}
