{
 "cells": [
  {
   "cell_type": "code",
   "execution_count": 1,
   "metadata": {
    "collapsed": true
   },
   "outputs": [],
   "source": [
    "import numpy as np\n",
    "import pandas as pd\n",
    "pd.set_option('display.max_columns', None)\n",
    "import matplotlib.pyplot as plt\n",
    "# import seaborn as sns\n",
    "import pickle\n",
    "import time\n",
    "import gc\n",
    "# from tqdm import tqdm\n",
    "\n",
    "%matplotlib inline\n",
    "\n",
    "#每次可以输出多个变量\n",
    "from IPython.core.interactiveshell import InteractiveShell\n",
    "InteractiveShell.ast_node_interactivity = \"all\"\n",
    "\n",
    "from pylab import rcParams\n",
    "rcParams['figure.figsize'] = 14, 6\n",
    "\n",
    "import warnings\n",
    "warnings.filterwarnings(\"ignore\")\n",
    "\n",
    "#中文字体\n",
    "import matplotlib\n",
    "matplotlib.use('qt4agg')\n",
    "#指定默认字体\n",
    "matplotlib.rcParams['font.sans-serif'] = ['SimHei']\n",
    "matplotlib.rcParams['font.family'] = 'sans-serif'\n",
    "#解决负号'-'显示为方块的问题\n",
    "matplotlib.rcParams['axes.unicode_minus'] = False"
   ]
  },
  {
   "cell_type": "code",
   "execution_count": 2,
   "metadata": {
    "collapsed": true
   },
   "outputs": [],
   "source": [
    "def save_obj(obj, name):\n",
    "    with open('output_kflod/'+ name + '.pkl', 'wb') as f:\n",
    "        pickle.dump(obj, f, pickle.HIGHEST_PROTOCOL)\n",
    "\n",
    "def load_obj(name):\n",
    "    with open('output_kflod/' + name + '.pkl', 'rb') as f:\n",
    "        return pickle.load(f)"
   ]
  },
  {
   "cell_type": "code",
   "execution_count": 2,
   "metadata": {
    "collapsed": true
   },
   "outputs": [],
   "source": [
    "def save_obj(obj, name):\n",
    "    np.save('output_kflod/'+ name + '.npy', dict(tmp_dict))\n",
    "\n",
    "def load_obj(name):\n",
    "    return np.load('output_kflod/'+ name + '.npy').flatten()[0]"
   ]
  },
  {
   "cell_type": "code",
   "execution_count": 3,
   "metadata": {},
   "outputs": [
    {
     "data": {
      "text/plain": [
       "(11064803, 4)"
      ]
     },
     "execution_count": 3,
     "metadata": {},
     "output_type": "execute_result"
    },
    {
     "data": {
      "text/html": [
       "<div>\n",
       "<style>\n",
       "    .dataframe thead tr:only-child th {\n",
       "        text-align: right;\n",
       "    }\n",
       "\n",
       "    .dataframe thead th {\n",
       "        text-align: left;\n",
       "    }\n",
       "\n",
       "    .dataframe tbody tr th {\n",
       "        vertical-align: top;\n",
       "    }\n",
       "</style>\n",
       "<table border=\"1\" class=\"dataframe\">\n",
       "  <thead>\n",
       "    <tr style=\"text-align: right;\">\n",
       "      <th></th>\n",
       "      <th>aid</th>\n",
       "      <th>uid</th>\n",
       "      <th>label</th>\n",
       "      <th>is_his</th>\n",
       "    </tr>\n",
       "  </thead>\n",
       "  <tbody>\n",
       "    <tr>\n",
       "      <th>0</th>\n",
       "      <td>699</td>\n",
       "      <td>78508957</td>\n",
       "      <td>-1</td>\n",
       "      <td>0.0</td>\n",
       "    </tr>\n",
       "    <tr>\n",
       "      <th>1</th>\n",
       "      <td>1991</td>\n",
       "      <td>3637295</td>\n",
       "      <td>-1</td>\n",
       "      <td>0.0</td>\n",
       "    </tr>\n",
       "    <tr>\n",
       "      <th>2</th>\n",
       "      <td>1119</td>\n",
       "      <td>19229018</td>\n",
       "      <td>-1</td>\n",
       "      <td>0.0</td>\n",
       "    </tr>\n",
       "    <tr>\n",
       "      <th>3</th>\n",
       "      <td>2013</td>\n",
       "      <td>79277120</td>\n",
       "      <td>-1</td>\n",
       "      <td>0.0</td>\n",
       "    </tr>\n",
       "    <tr>\n",
       "      <th>4</th>\n",
       "      <td>692</td>\n",
       "      <td>41528441</td>\n",
       "      <td>-1</td>\n",
       "      <td>0.0</td>\n",
       "    </tr>\n",
       "  </tbody>\n",
       "</table>\n",
       "</div>"
      ],
      "text/plain": [
       "    aid       uid  label  is_his\n",
       "0   699  78508957     -1     0.0\n",
       "1  1991   3637295     -1     0.0\n",
       "2  1119  19229018     -1     0.0\n",
       "3  2013  79277120     -1     0.0\n",
       "4   692  41528441     -1     0.0"
      ]
     },
     "execution_count": 3,
     "metadata": {},
     "output_type": "execute_result"
    },
    {
     "data": {
      "text/plain": [
       "(11420039, 24)"
      ]
     },
     "execution_count": 3,
     "metadata": {},
     "output_type": "execute_result"
    },
    {
     "data": {
      "text/html": [
       "<div>\n",
       "<style>\n",
       "    .dataframe thead tr:only-child th {\n",
       "        text-align: right;\n",
       "    }\n",
       "\n",
       "    .dataframe thead th {\n",
       "        text-align: left;\n",
       "    }\n",
       "\n",
       "    .dataframe tbody tr th {\n",
       "        vertical-align: top;\n",
       "    }\n",
       "</style>\n",
       "<table border=\"1\" class=\"dataframe\">\n",
       "  <thead>\n",
       "    <tr style=\"text-align: right;\">\n",
       "      <th></th>\n",
       "      <th>uid</th>\n",
       "      <th>age</th>\n",
       "      <th>gender</th>\n",
       "      <th>marriageStatus</th>\n",
       "      <th>education</th>\n",
       "      <th>consumptionAbility</th>\n",
       "      <th>LBS</th>\n",
       "      <th>interest1</th>\n",
       "      <th>interest2</th>\n",
       "      <th>interest3</th>\n",
       "      <th>interest4</th>\n",
       "      <th>interest5</th>\n",
       "      <th>kw1</th>\n",
       "      <th>kw2</th>\n",
       "      <th>kw3</th>\n",
       "      <th>topic1</th>\n",
       "      <th>topic2</th>\n",
       "      <th>topic3</th>\n",
       "      <th>appIdInstall</th>\n",
       "      <th>appIdAction</th>\n",
       "      <th>ct</th>\n",
       "      <th>os</th>\n",
       "      <th>carrier</th>\n",
       "      <th>house</th>\n",
       "    </tr>\n",
       "  </thead>\n",
       "  <tbody>\n",
       "    <tr>\n",
       "      <th>0</th>\n",
       "      <td>26325489</td>\n",
       "      <td>4</td>\n",
       "      <td>2</td>\n",
       "      <td>11</td>\n",
       "      <td>7</td>\n",
       "      <td>2</td>\n",
       "      <td>950.0</td>\n",
       "      <td>93;70;77;86;109;47;75;69;45;8;29;49;83;6;46;36...</td>\n",
       "      <td>46;19;13;29</td>\n",
       "      <td>NaN</td>\n",
       "      <td>NaN</td>\n",
       "      <td>52;100;72;131;116;11;71;12;8;113;28;73;6;132;9...</td>\n",
       "      <td>664359;276966;734911;103617;562294</td>\n",
       "      <td>11395;79112;115065;77033;36176</td>\n",
       "      <td>NaN</td>\n",
       "      <td>9826;105;8525;5488;7281</td>\n",
       "      <td>9708;5553;6745;7477;7150</td>\n",
       "      <td>NaN</td>\n",
       "      <td>NaN</td>\n",
       "      <td>NaN</td>\n",
       "      <td>3;1</td>\n",
       "      <td>2</td>\n",
       "      <td>1</td>\n",
       "      <td>NaN</td>\n",
       "    </tr>\n",
       "    <tr>\n",
       "      <th>1</th>\n",
       "      <td>1184123</td>\n",
       "      <td>2</td>\n",
       "      <td>1</td>\n",
       "      <td>5;13</td>\n",
       "      <td>2</td>\n",
       "      <td>1</td>\n",
       "      <td>803.0</td>\n",
       "      <td>75;29</td>\n",
       "      <td>33</td>\n",
       "      <td>NaN</td>\n",
       "      <td>NaN</td>\n",
       "      <td>NaN</td>\n",
       "      <td>338851;361151;542834;496283;229952</td>\n",
       "      <td>80263;39618;53539;180;38163</td>\n",
       "      <td>NaN</td>\n",
       "      <td>4391;9140;5669;1348;4388</td>\n",
       "      <td>9401;7724;1380;8890;7153</td>\n",
       "      <td>NaN</td>\n",
       "      <td>NaN</td>\n",
       "      <td>NaN</td>\n",
       "      <td>3;1</td>\n",
       "      <td>1</td>\n",
       "      <td>1</td>\n",
       "      <td>NaN</td>\n",
       "    </tr>\n",
       "    <tr>\n",
       "      <th>2</th>\n",
       "      <td>76072711</td>\n",
       "      <td>1</td>\n",
       "      <td>1</td>\n",
       "      <td>13;10</td>\n",
       "      <td>5</td>\n",
       "      <td>1</td>\n",
       "      <td>927.0</td>\n",
       "      <td>70;12;28;106;59;49;41;6;42;115;35;116;36;11;96</td>\n",
       "      <td>51;22;79;81;70;6;21;4;41;35</td>\n",
       "      <td>NaN</td>\n",
       "      <td>NaN</td>\n",
       "      <td>77;72;80;116;101;13;1;109;8;50;6;42;76;9;46;36...</td>\n",
       "      <td>746140;695808;126355;771775;411511</td>\n",
       "      <td>105115;71378;41409;74061;44005</td>\n",
       "      <td>NaN</td>\n",
       "      <td>1502;5488;9826;2187;8088</td>\n",
       "      <td>5005;9154;2756;5612;4209</td>\n",
       "      <td>NaN</td>\n",
       "      <td>NaN</td>\n",
       "      <td>NaN</td>\n",
       "      <td>3;1</td>\n",
       "      <td>1</td>\n",
       "      <td>3</td>\n",
       "      <td>NaN</td>\n",
       "    </tr>\n",
       "    <tr>\n",
       "      <th>3</th>\n",
       "      <td>63071413</td>\n",
       "      <td>4</td>\n",
       "      <td>1</td>\n",
       "      <td>11</td>\n",
       "      <td>7</td>\n",
       "      <td>1</td>\n",
       "      <td>486.0</td>\n",
       "      <td>93;70;77;47;76;75;69;29;59;49;122;42;46;23;17;...</td>\n",
       "      <td>24;70;19;13;30;10</td>\n",
       "      <td>NaN</td>\n",
       "      <td>NaN</td>\n",
       "      <td>100;80;92;37;116;13;47;4;71;8;50;28;98;115;6;4...</td>\n",
       "      <td>283399;402245;734509;654027;32061</td>\n",
       "      <td>74010;32918;67882;116802;20957</td>\n",
       "      <td>NaN</td>\n",
       "      <td>1619;7342;3064;9213;8525</td>\n",
       "      <td>810;2438;5659;1844;9262</td>\n",
       "      <td>NaN</td>\n",
       "      <td>NaN</td>\n",
       "      <td>NaN</td>\n",
       "      <td>1;3</td>\n",
       "      <td>1;2</td>\n",
       "      <td>3</td>\n",
       "      <td>NaN</td>\n",
       "    </tr>\n",
       "    <tr>\n",
       "      <th>4</th>\n",
       "      <td>81294159</td>\n",
       "      <td>5</td>\n",
       "      <td>1</td>\n",
       "      <td>11</td>\n",
       "      <td>6</td>\n",
       "      <td>2</td>\n",
       "      <td>112.0</td>\n",
       "      <td>75;29;49;122;36;11</td>\n",
       "      <td>NaN</td>\n",
       "      <td>NaN</td>\n",
       "      <td>NaN</td>\n",
       "      <td>131;116;13;8;6;132;42;9;59;18;58;64;129;103</td>\n",
       "      <td>562294;157603;589706;657719;495672</td>\n",
       "      <td>62764;97803;89066;55545;74061</td>\n",
       "      <td>NaN</td>\n",
       "      <td>477;9826;5808;644;2747</td>\n",
       "      <td>5483;2199;5424;1511;7751</td>\n",
       "      <td>NaN</td>\n",
       "      <td>NaN</td>\n",
       "      <td>NaN</td>\n",
       "      <td>3;1;4;2</td>\n",
       "      <td>1</td>\n",
       "      <td>3</td>\n",
       "      <td>NaN</td>\n",
       "    </tr>\n",
       "  </tbody>\n",
       "</table>\n",
       "</div>"
      ],
      "text/plain": [
       "        uid  age  gender marriageStatus  education  consumptionAbility    LBS  \\\n",
       "0  26325489    4       2             11          7                   2  950.0   \n",
       "1   1184123    2       1           5;13          2                   1  803.0   \n",
       "2  76072711    1       1          13;10          5                   1  927.0   \n",
       "3  63071413    4       1             11          7                   1  486.0   \n",
       "4  81294159    5       1             11          6                   2  112.0   \n",
       "\n",
       "                                           interest1  \\\n",
       "0  93;70;77;86;109;47;75;69;45;8;29;49;83;6;46;36...   \n",
       "1                                              75;29   \n",
       "2     70;12;28;106;59;49;41;6;42;115;35;116;36;11;96   \n",
       "3  93;70;77;47;76;75;69;29;59;49;122;42;46;23;17;...   \n",
       "4                                 75;29;49;122;36;11   \n",
       "\n",
       "                     interest2 interest3 interest4  \\\n",
       "0                  46;19;13;29       NaN       NaN   \n",
       "1                           33       NaN       NaN   \n",
       "2  51;22;79;81;70;6;21;4;41;35       NaN       NaN   \n",
       "3            24;70;19;13;30;10       NaN       NaN   \n",
       "4                          NaN       NaN       NaN   \n",
       "\n",
       "                                           interest5  \\\n",
       "0  52;100;72;131;116;11;71;12;8;113;28;73;6;132;9...   \n",
       "1                                                NaN   \n",
       "2  77;72;80;116;101;13;1;109;8;50;6;42;76;9;46;36...   \n",
       "3  100;80;92;37;116;13;47;4;71;8;50;28;98;115;6;4...   \n",
       "4        131;116;13;8;6;132;42;9;59;18;58;64;129;103   \n",
       "\n",
       "                                  kw1                             kw2  kw3  \\\n",
       "0  664359;276966;734911;103617;562294  11395;79112;115065;77033;36176  NaN   \n",
       "1  338851;361151;542834;496283;229952     80263;39618;53539;180;38163  NaN   \n",
       "2  746140;695808;126355;771775;411511  105115;71378;41409;74061;44005  NaN   \n",
       "3   283399;402245;734509;654027;32061  74010;32918;67882;116802;20957  NaN   \n",
       "4  562294;157603;589706;657719;495672   62764;97803;89066;55545;74061  NaN   \n",
       "\n",
       "                     topic1                    topic2 topic3 appIdInstall  \\\n",
       "0   9826;105;8525;5488;7281  9708;5553;6745;7477;7150    NaN          NaN   \n",
       "1  4391;9140;5669;1348;4388  9401;7724;1380;8890;7153    NaN          NaN   \n",
       "2  1502;5488;9826;2187;8088  5005;9154;2756;5612;4209    NaN          NaN   \n",
       "3  1619;7342;3064;9213;8525   810;2438;5659;1844;9262    NaN          NaN   \n",
       "4    477;9826;5808;644;2747  5483;2199;5424;1511;7751    NaN          NaN   \n",
       "\n",
       "  appIdAction       ct   os  carrier  house  \n",
       "0         NaN      3;1    2        1    NaN  \n",
       "1         NaN      3;1    1        1    NaN  \n",
       "2         NaN      3;1    1        3    NaN  \n",
       "3         NaN      1;3  1;2        3    NaN  \n",
       "4         NaN  3;1;4;2    1        3    NaN  "
      ]
     },
     "execution_count": 3,
     "metadata": {},
     "output_type": "execute_result"
    }
   ],
   "source": [
    "df = pd.read_csv('df.csv')\n",
    "user = pd.read_csv('userFeature.csv')\n",
    "\n",
    "df.shape\n",
    "df.head()\n",
    "user.shape\n",
    "user.head()\n",
    "# (11064803, 5)"
   ]
  },
  {
   "cell_type": "code",
   "execution_count": 4,
   "metadata": {},
   "outputs": [
    {
     "data": {
      "text/plain": [
       "(8798814, 4)"
      ]
     },
     "execution_count": 4,
     "metadata": {},
     "output_type": "execute_result"
    }
   ],
   "source": [
    "train = df[df.label != -99]\n",
    "\n",
    "train.shape"
   ]
  },
  {
   "cell_type": "code",
   "execution_count": 5,
   "metadata": {
    "scrolled": true
   },
   "outputs": [
    {
     "data": {
      "text/plain": [
       "(8798814, 3)"
      ]
     },
     "execution_count": 5,
     "metadata": {},
     "output_type": "execute_result"
    },
    {
     "data": {
      "text/plain": [
       "kflod\n",
       "0    1759904\n",
       "1    1759835\n",
       "2    1759756\n",
       "3    1759691\n",
       "4    1759628\n",
       "Name: aid, dtype: int64"
      ]
     },
     "execution_count": 5,
     "metadata": {},
     "output_type": "execute_result"
    }
   ],
   "source": [
    "kflod = pd.read_csv('kflod5_auid.csv')\n",
    "\n",
    "kflod.shape\n",
    "kflod.groupby(['kflod']).aid.count()"
   ]
  },
  {
   "cell_type": "code",
   "execution_count": 2,
   "metadata": {
    "collapsed": true
   },
   "outputs": [],
   "source": [
    "split_col = ['marriageStatus', 'interest1', 'interest2', 'interest3', 'interest4', 'interest5', 'kw1', 'kw2', 'kw3',\n",
    "            'topic1', 'topic2', 'topic3', 'appIdInstall', 'appIdAction', 'ct', 'os']\n",
    "feature_col = ['age', 'gender', 'marriageStatus', 'education', 'consumptionAbility', 'LBS', 'interest1', 'interest2',\n",
    "               'interest3', 'interest4', 'interest5', 'kw1', 'kw2', 'kw3', 'topic1', 'topic2', 'topic3', 'appIdInstall',\n",
    "               'appIdAction', 'ct', 'os', 'carrier']\n",
    "single_col = ['age', 'gender', 'education', 'consumptionAbility', 'LBS', 'carrier','house']\n",
    "\n",
    "def spl_col(x):\n",
    "    if (type(x) == float) | (type(x) == int):\n",
    "        return x\n",
    "    elif type(x) == list:\n",
    "        return x[0].split(';')\n",
    "    else:\n",
    "        return x.split(';')"
   ]
  },
  {
   "cell_type": "markdown",
   "metadata": {},
   "source": [
    "# history"
   ]
  },
  {
   "cell_type": "code",
   "execution_count": 7,
   "metadata": {
    "collapsed": true
   },
   "outputs": [],
   "source": [
    "from collections import defaultdict, Counter\n",
    "import gc\n",
    "import ast"
   ]
  },
  {
   "cell_type": "code",
   "execution_count": 12,
   "metadata": {
    "collapsed": true
   },
   "outputs": [
    {
     "data": {
      "text/plain": [
       "7"
      ]
     },
     "execution_count": 12,
     "metadata": {},
     "output_type": "execute_result"
    },
    {
     "data": {
      "text/plain": [
       "0"
      ]
     },
     "execution_count": 12,
     "metadata": {},
     "output_type": "execute_result"
    },
    {
     "data": {
      "text/plain": [
       "0"
      ]
     },
     "execution_count": 12,
     "metadata": {},
     "output_type": "execute_result"
    },
    {
     "data": {
      "text/plain": [
       "0"
      ]
     },
     "execution_count": 12,
     "metadata": {},
     "output_type": "execute_result"
    },
    {
     "data": {
      "text/plain": [
       "0"
      ]
     },
     "execution_count": 12,
     "metadata": {},
     "output_type": "execute_result"
    },
    {
     "data": {
      "text/plain": [
       "0"
      ]
     },
     "execution_count": 12,
     "metadata": {},
     "output_type": "execute_result"
    },
    {
     "data": {
      "text/plain": [
       "0"
      ]
     },
     "execution_count": 12,
     "metadata": {},
     "output_type": "execute_result"
    },
    {
     "data": {
      "text/plain": [
       "0"
      ]
     },
     "execution_count": 12,
     "metadata": {},
     "output_type": "execute_result"
    },
    {
     "data": {
      "text/plain": [
       "0"
      ]
     },
     "execution_count": 12,
     "metadata": {},
     "output_type": "execute_result"
    },
    {
     "data": {
      "text/plain": [
       "0"
      ]
     },
     "execution_count": 12,
     "metadata": {},
     "output_type": "execute_result"
    },
    {
     "data": {
      "text/plain": [
       "0"
      ]
     },
     "execution_count": 12,
     "metadata": {},
     "output_type": "execute_result"
    },
    {
     "data": {
      "text/plain": [
       "0"
      ]
     },
     "execution_count": 12,
     "metadata": {},
     "output_type": "execute_result"
    },
    {
     "data": {
      "text/plain": [
       "0"
      ]
     },
     "execution_count": 12,
     "metadata": {},
     "output_type": "execute_result"
    },
    {
     "data": {
      "text/plain": [
       "0"
      ]
     },
     "execution_count": 12,
     "metadata": {},
     "output_type": "execute_result"
    },
    {
     "data": {
      "text/plain": [
       "0"
      ]
     },
     "execution_count": 12,
     "metadata": {},
     "output_type": "execute_result"
    },
    {
     "data": {
      "text/plain": [
       "0"
      ]
     },
     "execution_count": 12,
     "metadata": {},
     "output_type": "execute_result"
    },
    {
     "data": {
      "text/plain": [
       "0"
      ]
     },
     "execution_count": 12,
     "metadata": {},
     "output_type": "execute_result"
    },
    {
     "data": {
      "text/plain": [
       "0"
      ]
     },
     "execution_count": 12,
     "metadata": {},
     "output_type": "execute_result"
    },
    {
     "data": {
      "text/plain": [
       "0"
      ]
     },
     "execution_count": 12,
     "metadata": {},
     "output_type": "execute_result"
    },
    {
     "data": {
      "text/plain": [
       "0"
      ]
     },
     "execution_count": 12,
     "metadata": {},
     "output_type": "execute_result"
    },
    {
     "data": {
      "text/plain": [
       "0"
      ]
     },
     "execution_count": 12,
     "metadata": {},
     "output_type": "execute_result"
    },
    {
     "data": {
      "text/plain": [
       "0"
      ]
     },
     "execution_count": 12,
     "metadata": {},
     "output_type": "execute_result"
    },
    {
     "data": {
      "text/plain": [
       "0"
      ]
     },
     "execution_count": 12,
     "metadata": {},
     "output_type": "execute_result"
    },
    {
     "data": {
      "text/plain": [
       "0"
      ]
     },
     "execution_count": 12,
     "metadata": {},
     "output_type": "execute_result"
    },
    {
     "data": {
      "text/plain": [
       "0"
      ]
     },
     "execution_count": 12,
     "metadata": {},
     "output_type": "execute_result"
    },
    {
     "data": {
      "text/plain": [
       "0"
      ]
     },
     "execution_count": 12,
     "metadata": {},
     "output_type": "execute_result"
    },
    {
     "data": {
      "text/plain": [
       "0"
      ]
     },
     "execution_count": 12,
     "metadata": {},
     "output_type": "execute_result"
    },
    {
     "data": {
      "text/plain": [
       "0"
      ]
     },
     "execution_count": 12,
     "metadata": {},
     "output_type": "execute_result"
    },
    {
     "data": {
      "text/plain": [
       "0"
      ]
     },
     "execution_count": 12,
     "metadata": {},
     "output_type": "execute_result"
    },
    {
     "data": {
      "text/plain": [
       "0"
      ]
     },
     "execution_count": 12,
     "metadata": {},
     "output_type": "execute_result"
    },
    {
     "data": {
      "text/plain": [
       "0"
      ]
     },
     "execution_count": 12,
     "metadata": {},
     "output_type": "execute_result"
    },
    {
     "data": {
      "text/plain": [
       "0"
      ]
     },
     "execution_count": 12,
     "metadata": {},
     "output_type": "execute_result"
    },
    {
     "data": {
      "text/plain": [
       "0"
      ]
     },
     "execution_count": 12,
     "metadata": {},
     "output_type": "execute_result"
    },
    {
     "data": {
      "text/plain": [
       "0"
      ]
     },
     "execution_count": 12,
     "metadata": {},
     "output_type": "execute_result"
    },
    {
     "data": {
      "text/plain": [
       "0"
      ]
     },
     "execution_count": 12,
     "metadata": {},
     "output_type": "execute_result"
    },
    {
     "data": {
      "text/plain": [
       "0"
      ]
     },
     "execution_count": 12,
     "metadata": {},
     "output_type": "execute_result"
    },
    {
     "data": {
      "text/plain": [
       "0"
      ]
     },
     "execution_count": 12,
     "metadata": {},
     "output_type": "execute_result"
    },
    {
     "data": {
      "text/plain": [
       "0"
      ]
     },
     "execution_count": 12,
     "metadata": {},
     "output_type": "execute_result"
    },
    {
     "data": {
      "text/plain": [
       "0"
      ]
     },
     "execution_count": 12,
     "metadata": {},
     "output_type": "execute_result"
    },
    {
     "data": {
      "text/plain": [
       "0"
      ]
     },
     "execution_count": 12,
     "metadata": {},
     "output_type": "execute_result"
    },
    {
     "data": {
      "text/plain": [
       "0"
      ]
     },
     "execution_count": 12,
     "metadata": {},
     "output_type": "execute_result"
    },
    {
     "data": {
      "text/plain": [
       "0"
      ]
     },
     "execution_count": 12,
     "metadata": {},
     "output_type": "execute_result"
    },
    {
     "data": {
      "text/plain": [
       "0"
      ]
     },
     "execution_count": 12,
     "metadata": {},
     "output_type": "execute_result"
    },
    {
     "data": {
      "text/plain": [
       "0"
      ]
     },
     "execution_count": 12,
     "metadata": {},
     "output_type": "execute_result"
    },
    {
     "data": {
      "text/plain": [
       "0"
      ]
     },
     "execution_count": 12,
     "metadata": {},
     "output_type": "execute_result"
    },
    {
     "data": {
      "text/plain": [
       "0"
      ]
     },
     "execution_count": 12,
     "metadata": {},
     "output_type": "execute_result"
    },
    {
     "data": {
      "text/plain": [
       "0"
      ]
     },
     "execution_count": 12,
     "metadata": {},
     "output_type": "execute_result"
    },
    {
     "data": {
      "text/plain": [
       "0"
      ]
     },
     "execution_count": 12,
     "metadata": {},
     "output_type": "execute_result"
    },
    {
     "data": {
      "text/plain": [
       "0"
      ]
     },
     "execution_count": 12,
     "metadata": {},
     "output_type": "execute_result"
    },
    {
     "data": {
      "text/plain": [
       "0"
      ]
     },
     "execution_count": 12,
     "metadata": {},
     "output_type": "execute_result"
    },
    {
     "data": {
      "text/plain": [
       "0"
      ]
     },
     "execution_count": 12,
     "metadata": {},
     "output_type": "execute_result"
    },
    {
     "data": {
      "text/plain": [
       "0"
      ]
     },
     "execution_count": 12,
     "metadata": {},
     "output_type": "execute_result"
    },
    {
     "data": {
      "text/plain": [
       "0"
      ]
     },
     "execution_count": 12,
     "metadata": {},
     "output_type": "execute_result"
    },
    {
     "data": {
      "text/plain": [
       "0"
      ]
     },
     "execution_count": 12,
     "metadata": {},
     "output_type": "execute_result"
    },
    {
     "data": {
      "text/plain": [
       "0"
      ]
     },
     "execution_count": 12,
     "metadata": {},
     "output_type": "execute_result"
    },
    {
     "data": {
      "text/plain": [
       "0"
      ]
     },
     "execution_count": 12,
     "metadata": {},
     "output_type": "execute_result"
    },
    {
     "data": {
      "text/plain": [
       "0"
      ]
     },
     "execution_count": 12,
     "metadata": {},
     "output_type": "execute_result"
    },
    {
     "data": {
      "text/plain": [
       "0"
      ]
     },
     "execution_count": 12,
     "metadata": {},
     "output_type": "execute_result"
    },
    {
     "data": {
      "text/plain": [
       "0"
      ]
     },
     "execution_count": 12,
     "metadata": {},
     "output_type": "execute_result"
    },
    {
     "data": {
      "text/plain": [
       "0"
      ]
     },
     "execution_count": 12,
     "metadata": {},
     "output_type": "execute_result"
    },
    {
     "data": {
      "text/plain": [
       "0"
      ]
     },
     "execution_count": 12,
     "metadata": {},
     "output_type": "execute_result"
    },
    {
     "data": {
      "text/plain": [
       "0"
      ]
     },
     "execution_count": 12,
     "metadata": {},
     "output_type": "execute_result"
    },
    {
     "data": {
      "text/plain": [
       "0"
      ]
     },
     "execution_count": 12,
     "metadata": {},
     "output_type": "execute_result"
    },
    {
     "data": {
      "text/plain": [
       "0"
      ]
     },
     "execution_count": 12,
     "metadata": {},
     "output_type": "execute_result"
    },
    {
     "data": {
      "text/plain": [
       "0"
      ]
     },
     "execution_count": 12,
     "metadata": {},
     "output_type": "execute_result"
    },
    {
     "data": {
      "text/plain": [
       "0"
      ]
     },
     "execution_count": 12,
     "metadata": {},
     "output_type": "execute_result"
    },
    {
     "data": {
      "text/plain": [
       "0"
      ]
     },
     "execution_count": 12,
     "metadata": {},
     "output_type": "execute_result"
    },
    {
     "data": {
      "text/plain": [
       "0"
      ]
     },
     "execution_count": 12,
     "metadata": {},
     "output_type": "execute_result"
    },
    {
     "data": {
      "text/plain": [
       "0"
      ]
     },
     "execution_count": 12,
     "metadata": {},
     "output_type": "execute_result"
    },
    {
     "data": {
      "text/plain": [
       "0"
      ]
     },
     "execution_count": 12,
     "metadata": {},
     "output_type": "execute_result"
    },
    {
     "data": {
      "text/plain": [
       "0"
      ]
     },
     "execution_count": 12,
     "metadata": {},
     "output_type": "execute_result"
    },
    {
     "data": {
      "text/plain": [
       "0"
      ]
     },
     "execution_count": 12,
     "metadata": {},
     "output_type": "execute_result"
    },
    {
     "data": {
      "text/plain": [
       "0"
      ]
     },
     "execution_count": 12,
     "metadata": {},
     "output_type": "execute_result"
    },
    {
     "data": {
      "text/plain": [
       "0"
      ]
     },
     "execution_count": 12,
     "metadata": {},
     "output_type": "execute_result"
    },
    {
     "data": {
      "text/plain": [
       "0"
      ]
     },
     "execution_count": 12,
     "metadata": {},
     "output_type": "execute_result"
    },
    {
     "data": {
      "text/plain": [
       "0"
      ]
     },
     "execution_count": 12,
     "metadata": {},
     "output_type": "execute_result"
    },
    {
     "data": {
      "text/plain": [
       "21"
      ]
     },
     "execution_count": 12,
     "metadata": {},
     "output_type": "execute_result"
    },
    {
     "data": {
      "text/plain": [
       "0"
      ]
     },
     "execution_count": 12,
     "metadata": {},
     "output_type": "execute_result"
    },
    {
     "data": {
      "text/plain": [
       "0"
      ]
     },
     "execution_count": 12,
     "metadata": {},
     "output_type": "execute_result"
    },
    {
     "data": {
      "text/plain": [
       "0"
      ]
     },
     "execution_count": 12,
     "metadata": {},
     "output_type": "execute_result"
    },
    {
     "data": {
      "text/plain": [
       "0"
      ]
     },
     "execution_count": 12,
     "metadata": {},
     "output_type": "execute_result"
    },
    {
     "data": {
      "text/plain": [
       "0"
      ]
     },
     "execution_count": 12,
     "metadata": {},
     "output_type": "execute_result"
    },
    {
     "data": {
      "text/plain": [
       "0"
      ]
     },
     "execution_count": 12,
     "metadata": {},
     "output_type": "execute_result"
    },
    {
     "data": {
      "text/plain": [
       "0"
      ]
     },
     "execution_count": 12,
     "metadata": {},
     "output_type": "execute_result"
    },
    {
     "data": {
      "text/plain": [
       "0"
      ]
     },
     "execution_count": 12,
     "metadata": {},
     "output_type": "execute_result"
    },
    {
     "data": {
      "text/plain": [
       "0"
      ]
     },
     "execution_count": 12,
     "metadata": {},
     "output_type": "execute_result"
    },
    {
     "data": {
      "text/plain": [
       "0"
      ]
     },
     "execution_count": 12,
     "metadata": {},
     "output_type": "execute_result"
    },
    {
     "data": {
      "text/plain": [
       "0"
      ]
     },
     "execution_count": 12,
     "metadata": {},
     "output_type": "execute_result"
    },
    {
     "data": {
      "text/plain": [
       "0"
      ]
     },
     "execution_count": 12,
     "metadata": {},
     "output_type": "execute_result"
    },
    {
     "data": {
      "text/plain": [
       "0"
      ]
     },
     "execution_count": 12,
     "metadata": {},
     "output_type": "execute_result"
    },
    {
     "data": {
      "text/plain": [
       "0"
      ]
     },
     "execution_count": 12,
     "metadata": {},
     "output_type": "execute_result"
    },
    {
     "data": {
      "text/plain": [
       "0"
      ]
     },
     "execution_count": 12,
     "metadata": {},
     "output_type": "execute_result"
    },
    {
     "data": {
      "text/plain": [
       "0"
      ]
     },
     "execution_count": 12,
     "metadata": {},
     "output_type": "execute_result"
    },
    {
     "data": {
      "text/plain": [
       "0"
      ]
     },
     "execution_count": 12,
     "metadata": {},
     "output_type": "execute_result"
    },
    {
     "data": {
      "text/plain": [
       "0"
      ]
     },
     "execution_count": 12,
     "metadata": {},
     "output_type": "execute_result"
    },
    {
     "data": {
      "text/plain": [
       "0"
      ]
     },
     "execution_count": 12,
     "metadata": {},
     "output_type": "execute_result"
    },
    {
     "data": {
      "text/plain": [
       "0"
      ]
     },
     "execution_count": 12,
     "metadata": {},
     "output_type": "execute_result"
    },
    {
     "data": {
      "text/plain": [
       "0"
      ]
     },
     "execution_count": 12,
     "metadata": {},
     "output_type": "execute_result"
    },
    {
     "data": {
      "text/plain": [
       "0"
      ]
     },
     "execution_count": 12,
     "metadata": {},
     "output_type": "execute_result"
    },
    {
     "data": {
      "text/plain": [
       "0"
      ]
     },
     "execution_count": 12,
     "metadata": {},
     "output_type": "execute_result"
    },
    {
     "data": {
      "text/plain": [
       "0"
      ]
     },
     "execution_count": 12,
     "metadata": {},
     "output_type": "execute_result"
    },
    {
     "data": {
      "text/plain": [
       "0"
      ]
     },
     "execution_count": 12,
     "metadata": {},
     "output_type": "execute_result"
    },
    {
     "data": {
      "text/plain": [
       "0"
      ]
     },
     "execution_count": 12,
     "metadata": {},
     "output_type": "execute_result"
    },
    {
     "data": {
      "text/plain": [
       "0"
      ]
     },
     "execution_count": 12,
     "metadata": {},
     "output_type": "execute_result"
    },
    {
     "data": {
      "text/plain": [
       "0"
      ]
     },
     "execution_count": 12,
     "metadata": {},
     "output_type": "execute_result"
    },
    {
     "data": {
      "text/plain": [
       "0"
      ]
     },
     "execution_count": 12,
     "metadata": {},
     "output_type": "execute_result"
    },
    {
     "data": {
      "text/plain": [
       "0"
      ]
     },
     "execution_count": 12,
     "metadata": {},
     "output_type": "execute_result"
    },
    {
     "data": {
      "text/plain": [
       "0"
      ]
     },
     "execution_count": 12,
     "metadata": {},
     "output_type": "execute_result"
    },
    {
     "data": {
      "text/plain": [
       "0"
      ]
     },
     "execution_count": 12,
     "metadata": {},
     "output_type": "execute_result"
    },
    {
     "data": {
      "text/plain": [
       "0"
      ]
     },
     "execution_count": 12,
     "metadata": {},
     "output_type": "execute_result"
    },
    {
     "data": {
      "text/plain": [
       "0"
      ]
     },
     "execution_count": 12,
     "metadata": {},
     "output_type": "execute_result"
    },
    {
     "data": {
      "text/plain": [
       "0"
      ]
     },
     "execution_count": 12,
     "metadata": {},
     "output_type": "execute_result"
    },
    {
     "data": {
      "text/plain": [
       "0"
      ]
     },
     "execution_count": 12,
     "metadata": {},
     "output_type": "execute_result"
    },
    {
     "data": {
      "text/plain": [
       "0"
      ]
     },
     "execution_count": 12,
     "metadata": {},
     "output_type": "execute_result"
    },
    {
     "data": {
      "text/plain": [
       "0"
      ]
     },
     "execution_count": 12,
     "metadata": {},
     "output_type": "execute_result"
    },
    {
     "data": {
      "text/plain": [
       "0"
      ]
     },
     "execution_count": 12,
     "metadata": {},
     "output_type": "execute_result"
    },
    {
     "data": {
      "text/plain": [
       "0"
      ]
     },
     "execution_count": 12,
     "metadata": {},
     "output_type": "execute_result"
    },
    {
     "data": {
      "text/plain": [
       "0"
      ]
     },
     "execution_count": 12,
     "metadata": {},
     "output_type": "execute_result"
    },
    {
     "data": {
      "text/plain": [
       "0"
      ]
     },
     "execution_count": 12,
     "metadata": {},
     "output_type": "execute_result"
    },
    {
     "data": {
      "text/plain": [
       "0"
      ]
     },
     "execution_count": 12,
     "metadata": {},
     "output_type": "execute_result"
    },
    {
     "data": {
      "text/plain": [
       "0"
      ]
     },
     "execution_count": 12,
     "metadata": {},
     "output_type": "execute_result"
    },
    {
     "data": {
      "text/plain": [
       "0"
      ]
     },
     "execution_count": 12,
     "metadata": {},
     "output_type": "execute_result"
    },
    {
     "data": {
      "text/plain": [
       "0"
      ]
     },
     "execution_count": 12,
     "metadata": {},
     "output_type": "execute_result"
    },
    {
     "data": {
      "text/plain": [
       "0"
      ]
     },
     "execution_count": 12,
     "metadata": {},
     "output_type": "execute_result"
    },
    {
     "data": {
      "text/plain": [
       "0"
      ]
     },
     "execution_count": 12,
     "metadata": {},
     "output_type": "execute_result"
    },
    {
     "data": {
      "text/plain": [
       "0"
      ]
     },
     "execution_count": 12,
     "metadata": {},
     "output_type": "execute_result"
    },
    {
     "data": {
      "text/plain": [
       "0"
      ]
     },
     "execution_count": 12,
     "metadata": {},
     "output_type": "execute_result"
    },
    {
     "data": {
      "text/plain": [
       "0"
      ]
     },
     "execution_count": 12,
     "metadata": {},
     "output_type": "execute_result"
    },
    {
     "data": {
      "text/plain": [
       "0"
      ]
     },
     "execution_count": 12,
     "metadata": {},
     "output_type": "execute_result"
    },
    {
     "data": {
      "text/plain": [
       "0"
      ]
     },
     "execution_count": 12,
     "metadata": {},
     "output_type": "execute_result"
    },
    {
     "data": {
      "text/plain": [
       "0"
      ]
     },
     "execution_count": 12,
     "metadata": {},
     "output_type": "execute_result"
    },
    {
     "data": {
      "text/plain": [
       "0"
      ]
     },
     "execution_count": 12,
     "metadata": {},
     "output_type": "execute_result"
    },
    {
     "data": {
      "text/plain": [
       "0"
      ]
     },
     "execution_count": 12,
     "metadata": {},
     "output_type": "execute_result"
    },
    {
     "data": {
      "text/plain": [
       "0"
      ]
     },
     "execution_count": 12,
     "metadata": {},
     "output_type": "execute_result"
    },
    {
     "data": {
      "text/plain": [
       "0"
      ]
     },
     "execution_count": 12,
     "metadata": {},
     "output_type": "execute_result"
    },
    {
     "data": {
      "text/plain": [
       "0"
      ]
     },
     "execution_count": 12,
     "metadata": {},
     "output_type": "execute_result"
    },
    {
     "data": {
      "text/plain": [
       "0"
      ]
     },
     "execution_count": 12,
     "metadata": {},
     "output_type": "execute_result"
    },
    {
     "data": {
      "text/plain": [
       "0"
      ]
     },
     "execution_count": 12,
     "metadata": {},
     "output_type": "execute_result"
    },
    {
     "data": {
      "text/plain": [
       "0"
      ]
     },
     "execution_count": 12,
     "metadata": {},
     "output_type": "execute_result"
    },
    {
     "data": {
      "text/plain": [
       "0"
      ]
     },
     "execution_count": 12,
     "metadata": {},
     "output_type": "execute_result"
    },
    {
     "data": {
      "text/plain": [
       "0"
      ]
     },
     "execution_count": 12,
     "metadata": {},
     "output_type": "execute_result"
    },
    {
     "data": {
      "text/plain": [
       "0"
      ]
     },
     "execution_count": 12,
     "metadata": {},
     "output_type": "execute_result"
    },
    {
     "data": {
      "text/plain": [
       "0"
      ]
     },
     "execution_count": 12,
     "metadata": {},
     "output_type": "execute_result"
    },
    {
     "data": {
      "text/plain": [
       "0"
      ]
     },
     "execution_count": 12,
     "metadata": {},
     "output_type": "execute_result"
    },
    {
     "data": {
      "text/plain": [
       "0"
      ]
     },
     "execution_count": 12,
     "metadata": {},
     "output_type": "execute_result"
    },
    {
     "data": {
      "text/plain": [
       "0"
      ]
     },
     "execution_count": 12,
     "metadata": {},
     "output_type": "execute_result"
    },
    {
     "data": {
      "text/plain": [
       "0"
      ]
     },
     "execution_count": 12,
     "metadata": {},
     "output_type": "execute_result"
    },
    {
     "data": {
      "text/plain": [
       "0"
      ]
     },
     "execution_count": 12,
     "metadata": {},
     "output_type": "execute_result"
    },
    {
     "data": {
      "text/plain": [
       "0"
      ]
     },
     "execution_count": 12,
     "metadata": {},
     "output_type": "execute_result"
    },
    {
     "data": {
      "text/plain": [
       "0"
      ]
     },
     "execution_count": 12,
     "metadata": {},
     "output_type": "execute_result"
    },
    {
     "data": {
      "text/plain": [
       "0"
      ]
     },
     "execution_count": 12,
     "metadata": {},
     "output_type": "execute_result"
    },
    {
     "data": {
      "text/plain": [
       "0"
      ]
     },
     "execution_count": 12,
     "metadata": {},
     "output_type": "execute_result"
    },
    {
     "data": {
      "text/plain": [
       "0"
      ]
     },
     "execution_count": 12,
     "metadata": {},
     "output_type": "execute_result"
    },
    {
     "data": {
      "text/plain": [
       "21"
      ]
     },
     "execution_count": 12,
     "metadata": {},
     "output_type": "execute_result"
    },
    {
     "data": {
      "text/plain": [
       "0"
      ]
     },
     "execution_count": 12,
     "metadata": {},
     "output_type": "execute_result"
    },
    {
     "data": {
      "text/plain": [
       "0"
      ]
     },
     "execution_count": 12,
     "metadata": {},
     "output_type": "execute_result"
    },
    {
     "data": {
      "text/plain": [
       "0"
      ]
     },
     "execution_count": 12,
     "metadata": {},
     "output_type": "execute_result"
    },
    {
     "data": {
      "text/plain": [
       "0"
      ]
     },
     "execution_count": 12,
     "metadata": {},
     "output_type": "execute_result"
    },
    {
     "data": {
      "text/plain": [
       "0"
      ]
     },
     "execution_count": 12,
     "metadata": {},
     "output_type": "execute_result"
    },
    {
     "data": {
      "text/plain": [
       "0"
      ]
     },
     "execution_count": 12,
     "metadata": {},
     "output_type": "execute_result"
    },
    {
     "data": {
      "text/plain": [
       "0"
      ]
     },
     "execution_count": 12,
     "metadata": {},
     "output_type": "execute_result"
    },
    {
     "data": {
      "text/plain": [
       "0"
      ]
     },
     "execution_count": 12,
     "metadata": {},
     "output_type": "execute_result"
    },
    {
     "data": {
      "text/plain": [
       "0"
      ]
     },
     "execution_count": 12,
     "metadata": {},
     "output_type": "execute_result"
    },
    {
     "data": {
      "text/plain": [
       "0"
      ]
     },
     "execution_count": 12,
     "metadata": {},
     "output_type": "execute_result"
    },
    {
     "data": {
      "text/plain": [
       "0"
      ]
     },
     "execution_count": 12,
     "metadata": {},
     "output_type": "execute_result"
    },
    {
     "data": {
      "text/plain": [
       "0"
      ]
     },
     "execution_count": 12,
     "metadata": {},
     "output_type": "execute_result"
    },
    {
     "data": {
      "text/plain": [
       "0"
      ]
     },
     "execution_count": 12,
     "metadata": {},
     "output_type": "execute_result"
    },
    {
     "data": {
      "text/plain": [
       "0"
      ]
     },
     "execution_count": 12,
     "metadata": {},
     "output_type": "execute_result"
    },
    {
     "data": {
      "text/plain": [
       "0"
      ]
     },
     "execution_count": 12,
     "metadata": {},
     "output_type": "execute_result"
    },
    {
     "data": {
      "text/plain": [
       "0"
      ]
     },
     "execution_count": 12,
     "metadata": {},
     "output_type": "execute_result"
    },
    {
     "data": {
      "text/plain": [
       "0"
      ]
     },
     "execution_count": 12,
     "metadata": {},
     "output_type": "execute_result"
    },
    {
     "data": {
      "text/plain": [
       "0"
      ]
     },
     "execution_count": 12,
     "metadata": {},
     "output_type": "execute_result"
    },
    {
     "data": {
      "text/plain": [
       "0"
      ]
     },
     "execution_count": 12,
     "metadata": {},
     "output_type": "execute_result"
    },
    {
     "data": {
      "text/plain": [
       "0"
      ]
     },
     "execution_count": 12,
     "metadata": {},
     "output_type": "execute_result"
    },
    {
     "data": {
      "text/plain": [
       "0"
      ]
     },
     "execution_count": 12,
     "metadata": {},
     "output_type": "execute_result"
    },
    {
     "data": {
      "text/plain": [
       "0"
      ]
     },
     "execution_count": 12,
     "metadata": {},
     "output_type": "execute_result"
    },
    {
     "data": {
      "text/plain": [
       "0"
      ]
     },
     "execution_count": 12,
     "metadata": {},
     "output_type": "execute_result"
    },
    {
     "data": {
      "text/plain": [
       "0"
      ]
     },
     "execution_count": 12,
     "metadata": {},
     "output_type": "execute_result"
    },
    {
     "data": {
      "text/plain": [
       "0"
      ]
     },
     "execution_count": 12,
     "metadata": {},
     "output_type": "execute_result"
    },
    {
     "data": {
      "text/plain": [
       "0"
      ]
     },
     "execution_count": 12,
     "metadata": {},
     "output_type": "execute_result"
    },
    {
     "data": {
      "text/plain": [
       "0"
      ]
     },
     "execution_count": 12,
     "metadata": {},
     "output_type": "execute_result"
    },
    {
     "data": {
      "text/plain": [
       "0"
      ]
     },
     "execution_count": 12,
     "metadata": {},
     "output_type": "execute_result"
    },
    {
     "data": {
      "text/plain": [
       "0"
      ]
     },
     "execution_count": 12,
     "metadata": {},
     "output_type": "execute_result"
    },
    {
     "data": {
      "text/plain": [
       "0"
      ]
     },
     "execution_count": 12,
     "metadata": {},
     "output_type": "execute_result"
    },
    {
     "data": {
      "text/plain": [
       "0"
      ]
     },
     "execution_count": 12,
     "metadata": {},
     "output_type": "execute_result"
    },
    {
     "data": {
      "text/plain": [
       "0"
      ]
     },
     "execution_count": 12,
     "metadata": {},
     "output_type": "execute_result"
    },
    {
     "data": {
      "text/plain": [
       "0"
      ]
     },
     "execution_count": 12,
     "metadata": {},
     "output_type": "execute_result"
    },
    {
     "data": {
      "text/plain": [
       "0"
      ]
     },
     "execution_count": 12,
     "metadata": {},
     "output_type": "execute_result"
    },
    {
     "data": {
      "text/plain": [
       "0"
      ]
     },
     "execution_count": 12,
     "metadata": {},
     "output_type": "execute_result"
    },
    {
     "data": {
      "text/plain": [
       "0"
      ]
     },
     "execution_count": 12,
     "metadata": {},
     "output_type": "execute_result"
    },
    {
     "data": {
      "text/plain": [
       "0"
      ]
     },
     "execution_count": 12,
     "metadata": {},
     "output_type": "execute_result"
    },
    {
     "data": {
      "text/plain": [
       "0"
      ]
     },
     "execution_count": 12,
     "metadata": {},
     "output_type": "execute_result"
    },
    {
     "data": {
      "text/plain": [
       "0"
      ]
     },
     "execution_count": 12,
     "metadata": {},
     "output_type": "execute_result"
    },
    {
     "data": {
      "text/plain": [
       "0"
      ]
     },
     "execution_count": 12,
     "metadata": {},
     "output_type": "execute_result"
    },
    {
     "data": {
      "text/plain": [
       "0"
      ]
     },
     "execution_count": 12,
     "metadata": {},
     "output_type": "execute_result"
    },
    {
     "data": {
      "text/plain": [
       "0"
      ]
     },
     "execution_count": 12,
     "metadata": {},
     "output_type": "execute_result"
    },
    {
     "data": {
      "text/plain": [
       "0"
      ]
     },
     "execution_count": 12,
     "metadata": {},
     "output_type": "execute_result"
    },
    {
     "data": {
      "text/plain": [
       "0"
      ]
     },
     "execution_count": 12,
     "metadata": {},
     "output_type": "execute_result"
    },
    {
     "data": {
      "text/plain": [
       "0"
      ]
     },
     "execution_count": 12,
     "metadata": {},
     "output_type": "execute_result"
    },
    {
     "data": {
      "text/plain": [
       "0"
      ]
     },
     "execution_count": 12,
     "metadata": {},
     "output_type": "execute_result"
    },
    {
     "data": {
      "text/plain": [
       "0"
      ]
     },
     "execution_count": 12,
     "metadata": {},
     "output_type": "execute_result"
    },
    {
     "data": {
      "text/plain": [
       "0"
      ]
     },
     "execution_count": 12,
     "metadata": {},
     "output_type": "execute_result"
    },
    {
     "data": {
      "text/plain": [
       "0"
      ]
     },
     "execution_count": 12,
     "metadata": {},
     "output_type": "execute_result"
    },
    {
     "data": {
      "text/plain": [
       "0"
      ]
     },
     "execution_count": 12,
     "metadata": {},
     "output_type": "execute_result"
    },
    {
     "data": {
      "text/plain": [
       "0"
      ]
     },
     "execution_count": 12,
     "metadata": {},
     "output_type": "execute_result"
    },
    {
     "data": {
      "text/plain": [
       "0"
      ]
     },
     "execution_count": 12,
     "metadata": {},
     "output_type": "execute_result"
    },
    {
     "data": {
      "text/plain": [
       "0"
      ]
     },
     "execution_count": 12,
     "metadata": {},
     "output_type": "execute_result"
    },
    {
     "data": {
      "text/plain": [
       "0"
      ]
     },
     "execution_count": 12,
     "metadata": {},
     "output_type": "execute_result"
    },
    {
     "data": {
      "text/plain": [
       "0"
      ]
     },
     "execution_count": 12,
     "metadata": {},
     "output_type": "execute_result"
    },
    {
     "data": {
      "text/plain": [
       "0"
      ]
     },
     "execution_count": 12,
     "metadata": {},
     "output_type": "execute_result"
    },
    {
     "data": {
      "text/plain": [
       "0"
      ]
     },
     "execution_count": 12,
     "metadata": {},
     "output_type": "execute_result"
    },
    {
     "data": {
      "text/plain": [
       "0"
      ]
     },
     "execution_count": 12,
     "metadata": {},
     "output_type": "execute_result"
    },
    {
     "data": {
      "text/plain": [
       "0"
      ]
     },
     "execution_count": 12,
     "metadata": {},
     "output_type": "execute_result"
    },
    {
     "data": {
      "text/plain": [
       "0"
      ]
     },
     "execution_count": 12,
     "metadata": {},
     "output_type": "execute_result"
    },
    {
     "data": {
      "text/plain": [
       "0"
      ]
     },
     "execution_count": 12,
     "metadata": {},
     "output_type": "execute_result"
    },
    {
     "data": {
      "text/plain": [
       "0"
      ]
     },
     "execution_count": 12,
     "metadata": {},
     "output_type": "execute_result"
    },
    {
     "data": {
      "text/plain": [
       "0"
      ]
     },
     "execution_count": 12,
     "metadata": {},
     "output_type": "execute_result"
    },
    {
     "data": {
      "text/plain": [
       "0"
      ]
     },
     "execution_count": 12,
     "metadata": {},
     "output_type": "execute_result"
    },
    {
     "data": {
      "text/plain": [
       "0"
      ]
     },
     "execution_count": 12,
     "metadata": {},
     "output_type": "execute_result"
    },
    {
     "data": {
      "text/plain": [
       "0"
      ]
     },
     "execution_count": 12,
     "metadata": {},
     "output_type": "execute_result"
    },
    {
     "data": {
      "text/plain": [
       "0"
      ]
     },
     "execution_count": 12,
     "metadata": {},
     "output_type": "execute_result"
    },
    {
     "data": {
      "text/plain": [
       "0"
      ]
     },
     "execution_count": 12,
     "metadata": {},
     "output_type": "execute_result"
    },
    {
     "data": {
      "text/plain": [
       "0"
      ]
     },
     "execution_count": 12,
     "metadata": {},
     "output_type": "execute_result"
    },
    {
     "data": {
      "text/plain": [
       "0"
      ]
     },
     "execution_count": 12,
     "metadata": {},
     "output_type": "execute_result"
    },
    {
     "data": {
      "text/plain": [
       "0"
      ]
     },
     "execution_count": 12,
     "metadata": {},
     "output_type": "execute_result"
    },
    {
     "data": {
      "text/plain": [
       "0"
      ]
     },
     "execution_count": 12,
     "metadata": {},
     "output_type": "execute_result"
    },
    {
     "data": {
      "text/plain": [
       "0"
      ]
     },
     "execution_count": 12,
     "metadata": {},
     "output_type": "execute_result"
    },
    {
     "data": {
      "text/plain": [
       "0"
      ]
     },
     "execution_count": 12,
     "metadata": {},
     "output_type": "execute_result"
    },
    {
     "data": {
      "text/plain": [
       "0"
      ]
     },
     "execution_count": 12,
     "metadata": {},
     "output_type": "execute_result"
    },
    {
     "data": {
      "text/plain": [
       "0"
      ]
     },
     "execution_count": 12,
     "metadata": {},
     "output_type": "execute_result"
    },
    {
     "data": {
      "text/plain": [
       "21"
      ]
     },
     "execution_count": 12,
     "metadata": {},
     "output_type": "execute_result"
    },
    {
     "data": {
      "text/plain": [
       "0"
      ]
     },
     "execution_count": 12,
     "metadata": {},
     "output_type": "execute_result"
    },
    {
     "data": {
      "text/plain": [
       "0"
      ]
     },
     "execution_count": 12,
     "metadata": {},
     "output_type": "execute_result"
    },
    {
     "data": {
      "text/plain": [
       "0"
      ]
     },
     "execution_count": 12,
     "metadata": {},
     "output_type": "execute_result"
    },
    {
     "data": {
      "text/plain": [
       "0"
      ]
     },
     "execution_count": 12,
     "metadata": {},
     "output_type": "execute_result"
    },
    {
     "data": {
      "text/plain": [
       "0"
      ]
     },
     "execution_count": 12,
     "metadata": {},
     "output_type": "execute_result"
    },
    {
     "data": {
      "text/plain": [
       "0"
      ]
     },
     "execution_count": 12,
     "metadata": {},
     "output_type": "execute_result"
    },
    {
     "data": {
      "text/plain": [
       "0"
      ]
     },
     "execution_count": 12,
     "metadata": {},
     "output_type": "execute_result"
    },
    {
     "data": {
      "text/plain": [
       "0"
      ]
     },
     "execution_count": 12,
     "metadata": {},
     "output_type": "execute_result"
    },
    {
     "data": {
      "text/plain": [
       "0"
      ]
     },
     "execution_count": 12,
     "metadata": {},
     "output_type": "execute_result"
    },
    {
     "data": {
      "text/plain": [
       "0"
      ]
     },
     "execution_count": 12,
     "metadata": {},
     "output_type": "execute_result"
    },
    {
     "data": {
      "text/plain": [
       "0"
      ]
     },
     "execution_count": 12,
     "metadata": {},
     "output_type": "execute_result"
    },
    {
     "data": {
      "text/plain": [
       "0"
      ]
     },
     "execution_count": 12,
     "metadata": {},
     "output_type": "execute_result"
    },
    {
     "data": {
      "text/plain": [
       "0"
      ]
     },
     "execution_count": 12,
     "metadata": {},
     "output_type": "execute_result"
    },
    {
     "data": {
      "text/plain": [
       "0"
      ]
     },
     "execution_count": 12,
     "metadata": {},
     "output_type": "execute_result"
    },
    {
     "data": {
      "text/plain": [
       "0"
      ]
     },
     "execution_count": 12,
     "metadata": {},
     "output_type": "execute_result"
    },
    {
     "data": {
      "text/plain": [
       "0"
      ]
     },
     "execution_count": 12,
     "metadata": {},
     "output_type": "execute_result"
    },
    {
     "data": {
      "text/plain": [
       "0"
      ]
     },
     "execution_count": 12,
     "metadata": {},
     "output_type": "execute_result"
    },
    {
     "data": {
      "text/plain": [
       "0"
      ]
     },
     "execution_count": 12,
     "metadata": {},
     "output_type": "execute_result"
    },
    {
     "data": {
      "text/plain": [
       "0"
      ]
     },
     "execution_count": 12,
     "metadata": {},
     "output_type": "execute_result"
    },
    {
     "data": {
      "text/plain": [
       "0"
      ]
     },
     "execution_count": 12,
     "metadata": {},
     "output_type": "execute_result"
    },
    {
     "data": {
      "text/plain": [
       "0"
      ]
     },
     "execution_count": 12,
     "metadata": {},
     "output_type": "execute_result"
    },
    {
     "data": {
      "text/plain": [
       "0"
      ]
     },
     "execution_count": 12,
     "metadata": {},
     "output_type": "execute_result"
    },
    {
     "data": {
      "text/plain": [
       "0"
      ]
     },
     "execution_count": 12,
     "metadata": {},
     "output_type": "execute_result"
    },
    {
     "data": {
      "text/plain": [
       "0"
      ]
     },
     "execution_count": 12,
     "metadata": {},
     "output_type": "execute_result"
    },
    {
     "data": {
      "text/plain": [
       "0"
      ]
     },
     "execution_count": 12,
     "metadata": {},
     "output_type": "execute_result"
    },
    {
     "data": {
      "text/plain": [
       "0"
      ]
     },
     "execution_count": 12,
     "metadata": {},
     "output_type": "execute_result"
    },
    {
     "data": {
      "text/plain": [
       "0"
      ]
     },
     "execution_count": 12,
     "metadata": {},
     "output_type": "execute_result"
    },
    {
     "data": {
      "text/plain": [
       "0"
      ]
     },
     "execution_count": 12,
     "metadata": {},
     "output_type": "execute_result"
    },
    {
     "data": {
      "text/plain": [
       "0"
      ]
     },
     "execution_count": 12,
     "metadata": {},
     "output_type": "execute_result"
    },
    {
     "data": {
      "text/plain": [
       "0"
      ]
     },
     "execution_count": 12,
     "metadata": {},
     "output_type": "execute_result"
    },
    {
     "data": {
      "text/plain": [
       "0"
      ]
     },
     "execution_count": 12,
     "metadata": {},
     "output_type": "execute_result"
    },
    {
     "data": {
      "text/plain": [
       "0"
      ]
     },
     "execution_count": 12,
     "metadata": {},
     "output_type": "execute_result"
    },
    {
     "data": {
      "text/plain": [
       "0"
      ]
     },
     "execution_count": 12,
     "metadata": {},
     "output_type": "execute_result"
    },
    {
     "data": {
      "text/plain": [
       "0"
      ]
     },
     "execution_count": 12,
     "metadata": {},
     "output_type": "execute_result"
    },
    {
     "data": {
      "text/plain": [
       "0"
      ]
     },
     "execution_count": 12,
     "metadata": {},
     "output_type": "execute_result"
    },
    {
     "data": {
      "text/plain": [
       "0"
      ]
     },
     "execution_count": 12,
     "metadata": {},
     "output_type": "execute_result"
    },
    {
     "data": {
      "text/plain": [
       "0"
      ]
     },
     "execution_count": 12,
     "metadata": {},
     "output_type": "execute_result"
    },
    {
     "data": {
      "text/plain": [
       "0"
      ]
     },
     "execution_count": 12,
     "metadata": {},
     "output_type": "execute_result"
    },
    {
     "data": {
      "text/plain": [
       "0"
      ]
     },
     "execution_count": 12,
     "metadata": {},
     "output_type": "execute_result"
    },
    {
     "data": {
      "text/plain": [
       "0"
      ]
     },
     "execution_count": 12,
     "metadata": {},
     "output_type": "execute_result"
    },
    {
     "data": {
      "text/plain": [
       "0"
      ]
     },
     "execution_count": 12,
     "metadata": {},
     "output_type": "execute_result"
    },
    {
     "data": {
      "text/plain": [
       "0"
      ]
     },
     "execution_count": 12,
     "metadata": {},
     "output_type": "execute_result"
    },
    {
     "data": {
      "text/plain": [
       "0"
      ]
     },
     "execution_count": 12,
     "metadata": {},
     "output_type": "execute_result"
    },
    {
     "data": {
      "text/plain": [
       "0"
      ]
     },
     "execution_count": 12,
     "metadata": {},
     "output_type": "execute_result"
    },
    {
     "data": {
      "text/plain": [
       "0"
      ]
     },
     "execution_count": 12,
     "metadata": {},
     "output_type": "execute_result"
    },
    {
     "data": {
      "text/plain": [
       "0"
      ]
     },
     "execution_count": 12,
     "metadata": {},
     "output_type": "execute_result"
    },
    {
     "data": {
      "text/plain": [
       "0"
      ]
     },
     "execution_count": 12,
     "metadata": {},
     "output_type": "execute_result"
    },
    {
     "data": {
      "text/plain": [
       "0"
      ]
     },
     "execution_count": 12,
     "metadata": {},
     "output_type": "execute_result"
    },
    {
     "data": {
      "text/plain": [
       "0"
      ]
     },
     "execution_count": 12,
     "metadata": {},
     "output_type": "execute_result"
    },
    {
     "data": {
      "text/plain": [
       "0"
      ]
     },
     "execution_count": 12,
     "metadata": {},
     "output_type": "execute_result"
    },
    {
     "data": {
      "text/plain": [
       "0"
      ]
     },
     "execution_count": 12,
     "metadata": {},
     "output_type": "execute_result"
    },
    {
     "data": {
      "text/plain": [
       "0"
      ]
     },
     "execution_count": 12,
     "metadata": {},
     "output_type": "execute_result"
    },
    {
     "data": {
      "text/plain": [
       "0"
      ]
     },
     "execution_count": 12,
     "metadata": {},
     "output_type": "execute_result"
    },
    {
     "data": {
      "text/plain": [
       "0"
      ]
     },
     "execution_count": 12,
     "metadata": {},
     "output_type": "execute_result"
    },
    {
     "data": {
      "text/plain": [
       "0"
      ]
     },
     "execution_count": 12,
     "metadata": {},
     "output_type": "execute_result"
    },
    {
     "data": {
      "text/plain": [
       "0"
      ]
     },
     "execution_count": 12,
     "metadata": {},
     "output_type": "execute_result"
    },
    {
     "data": {
      "text/plain": [
       "0"
      ]
     },
     "execution_count": 12,
     "metadata": {},
     "output_type": "execute_result"
    },
    {
     "data": {
      "text/plain": [
       "0"
      ]
     },
     "execution_count": 12,
     "metadata": {},
     "output_type": "execute_result"
    },
    {
     "data": {
      "text/plain": [
       "0"
      ]
     },
     "execution_count": 12,
     "metadata": {},
     "output_type": "execute_result"
    },
    {
     "data": {
      "text/plain": [
       "0"
      ]
     },
     "execution_count": 12,
     "metadata": {},
     "output_type": "execute_result"
    },
    {
     "data": {
      "text/plain": [
       "0"
      ]
     },
     "execution_count": 12,
     "metadata": {},
     "output_type": "execute_result"
    },
    {
     "data": {
      "text/plain": [
       "0"
      ]
     },
     "execution_count": 12,
     "metadata": {},
     "output_type": "execute_result"
    },
    {
     "data": {
      "text/plain": [
       "0"
      ]
     },
     "execution_count": 12,
     "metadata": {},
     "output_type": "execute_result"
    },
    {
     "data": {
      "text/plain": [
       "0"
      ]
     },
     "execution_count": 12,
     "metadata": {},
     "output_type": "execute_result"
    },
    {
     "data": {
      "text/plain": [
       "0"
      ]
     },
     "execution_count": 12,
     "metadata": {},
     "output_type": "execute_result"
    },
    {
     "data": {
      "text/plain": [
       "0"
      ]
     },
     "execution_count": 12,
     "metadata": {},
     "output_type": "execute_result"
    },
    {
     "data": {
      "text/plain": [
       "0"
      ]
     },
     "execution_count": 12,
     "metadata": {},
     "output_type": "execute_result"
    },
    {
     "data": {
      "text/plain": [
       "0"
      ]
     },
     "execution_count": 12,
     "metadata": {},
     "output_type": "execute_result"
    },
    {
     "data": {
      "text/plain": [
       "0"
      ]
     },
     "execution_count": 12,
     "metadata": {},
     "output_type": "execute_result"
    },
    {
     "data": {
      "text/plain": [
       "0"
      ]
     },
     "execution_count": 12,
     "metadata": {},
     "output_type": "execute_result"
    },
    {
     "data": {
      "text/plain": [
       "0"
      ]
     },
     "execution_count": 12,
     "metadata": {},
     "output_type": "execute_result"
    },
    {
     "data": {
      "text/plain": [
       "0"
      ]
     },
     "execution_count": 12,
     "metadata": {},
     "output_type": "execute_result"
    },
    {
     "data": {
      "text/plain": [
       "0"
      ]
     },
     "execution_count": 12,
     "metadata": {},
     "output_type": "execute_result"
    },
    {
     "data": {
      "text/plain": [
       "0"
      ]
     },
     "execution_count": 12,
     "metadata": {},
     "output_type": "execute_result"
    },
    {
     "data": {
      "text/plain": [
       "0"
      ]
     },
     "execution_count": 12,
     "metadata": {},
     "output_type": "execute_result"
    },
    {
     "data": {
      "text/plain": [
       "0"
      ]
     },
     "execution_count": 12,
     "metadata": {},
     "output_type": "execute_result"
    },
    {
     "data": {
      "text/plain": [
       "21"
      ]
     },
     "execution_count": 12,
     "metadata": {},
     "output_type": "execute_result"
    },
    {
     "data": {
      "text/plain": [
       "0"
      ]
     },
     "execution_count": 12,
     "metadata": {},
     "output_type": "execute_result"
    },
    {
     "data": {
      "text/plain": [
       "0"
      ]
     },
     "execution_count": 12,
     "metadata": {},
     "output_type": "execute_result"
    },
    {
     "data": {
      "text/plain": [
       "0"
      ]
     },
     "execution_count": 12,
     "metadata": {},
     "output_type": "execute_result"
    },
    {
     "data": {
      "text/plain": [
       "0"
      ]
     },
     "execution_count": 12,
     "metadata": {},
     "output_type": "execute_result"
    },
    {
     "data": {
      "text/plain": [
       "0"
      ]
     },
     "execution_count": 12,
     "metadata": {},
     "output_type": "execute_result"
    },
    {
     "data": {
      "text/plain": [
       "0"
      ]
     },
     "execution_count": 12,
     "metadata": {},
     "output_type": "execute_result"
    },
    {
     "data": {
      "text/plain": [
       "0"
      ]
     },
     "execution_count": 12,
     "metadata": {},
     "output_type": "execute_result"
    },
    {
     "data": {
      "text/plain": [
       "0"
      ]
     },
     "execution_count": 12,
     "metadata": {},
     "output_type": "execute_result"
    },
    {
     "data": {
      "text/plain": [
       "0"
      ]
     },
     "execution_count": 12,
     "metadata": {},
     "output_type": "execute_result"
    },
    {
     "data": {
      "text/plain": [
       "0"
      ]
     },
     "execution_count": 12,
     "metadata": {},
     "output_type": "execute_result"
    },
    {
     "data": {
      "text/plain": [
       "0"
      ]
     },
     "execution_count": 12,
     "metadata": {},
     "output_type": "execute_result"
    },
    {
     "data": {
      "text/plain": [
       "0"
      ]
     },
     "execution_count": 12,
     "metadata": {},
     "output_type": "execute_result"
    },
    {
     "data": {
      "text/plain": [
       "0"
      ]
     },
     "execution_count": 12,
     "metadata": {},
     "output_type": "execute_result"
    },
    {
     "data": {
      "text/plain": [
       "0"
      ]
     },
     "execution_count": 12,
     "metadata": {},
     "output_type": "execute_result"
    },
    {
     "data": {
      "text/plain": [
       "0"
      ]
     },
     "execution_count": 12,
     "metadata": {},
     "output_type": "execute_result"
    },
    {
     "data": {
      "text/plain": [
       "0"
      ]
     },
     "execution_count": 12,
     "metadata": {},
     "output_type": "execute_result"
    },
    {
     "data": {
      "text/plain": [
       "0"
      ]
     },
     "execution_count": 12,
     "metadata": {},
     "output_type": "execute_result"
    },
    {
     "data": {
      "text/plain": [
       "0"
      ]
     },
     "execution_count": 12,
     "metadata": {},
     "output_type": "execute_result"
    },
    {
     "data": {
      "text/plain": [
       "0"
      ]
     },
     "execution_count": 12,
     "metadata": {},
     "output_type": "execute_result"
    },
    {
     "data": {
      "text/plain": [
       "0"
      ]
     },
     "execution_count": 12,
     "metadata": {},
     "output_type": "execute_result"
    },
    {
     "data": {
      "text/plain": [
       "0"
      ]
     },
     "execution_count": 12,
     "metadata": {},
     "output_type": "execute_result"
    },
    {
     "data": {
      "text/plain": [
       "0"
      ]
     },
     "execution_count": 12,
     "metadata": {},
     "output_type": "execute_result"
    },
    {
     "data": {
      "text/plain": [
       "0"
      ]
     },
     "execution_count": 12,
     "metadata": {},
     "output_type": "execute_result"
    },
    {
     "data": {
      "text/plain": [
       "0"
      ]
     },
     "execution_count": 12,
     "metadata": {},
     "output_type": "execute_result"
    },
    {
     "data": {
      "text/plain": [
       "0"
      ]
     },
     "execution_count": 12,
     "metadata": {},
     "output_type": "execute_result"
    },
    {
     "data": {
      "text/plain": [
       "0"
      ]
     },
     "execution_count": 12,
     "metadata": {},
     "output_type": "execute_result"
    },
    {
     "data": {
      "text/plain": [
       "0"
      ]
     },
     "execution_count": 12,
     "metadata": {},
     "output_type": "execute_result"
    },
    {
     "data": {
      "text/plain": [
       "0"
      ]
     },
     "execution_count": 12,
     "metadata": {},
     "output_type": "execute_result"
    },
    {
     "data": {
      "text/plain": [
       "0"
      ]
     },
     "execution_count": 12,
     "metadata": {},
     "output_type": "execute_result"
    },
    {
     "data": {
      "text/plain": [
       "0"
      ]
     },
     "execution_count": 12,
     "metadata": {},
     "output_type": "execute_result"
    },
    {
     "data": {
      "text/plain": [
       "0"
      ]
     },
     "execution_count": 12,
     "metadata": {},
     "output_type": "execute_result"
    },
    {
     "data": {
      "text/plain": [
       "0"
      ]
     },
     "execution_count": 12,
     "metadata": {},
     "output_type": "execute_result"
    },
    {
     "data": {
      "text/plain": [
       "0"
      ]
     },
     "execution_count": 12,
     "metadata": {},
     "output_type": "execute_result"
    },
    {
     "data": {
      "text/plain": [
       "0"
      ]
     },
     "execution_count": 12,
     "metadata": {},
     "output_type": "execute_result"
    },
    {
     "data": {
      "text/plain": [
       "0"
      ]
     },
     "execution_count": 12,
     "metadata": {},
     "output_type": "execute_result"
    },
    {
     "data": {
      "text/plain": [
       "0"
      ]
     },
     "execution_count": 12,
     "metadata": {},
     "output_type": "execute_result"
    },
    {
     "data": {
      "text/plain": [
       "0"
      ]
     },
     "execution_count": 12,
     "metadata": {},
     "output_type": "execute_result"
    },
    {
     "data": {
      "text/plain": [
       "0"
      ]
     },
     "execution_count": 12,
     "metadata": {},
     "output_type": "execute_result"
    },
    {
     "data": {
      "text/plain": [
       "0"
      ]
     },
     "execution_count": 12,
     "metadata": {},
     "output_type": "execute_result"
    },
    {
     "data": {
      "text/plain": [
       "0"
      ]
     },
     "execution_count": 12,
     "metadata": {},
     "output_type": "execute_result"
    },
    {
     "data": {
      "text/plain": [
       "0"
      ]
     },
     "execution_count": 12,
     "metadata": {},
     "output_type": "execute_result"
    },
    {
     "data": {
      "text/plain": [
       "0"
      ]
     },
     "execution_count": 12,
     "metadata": {},
     "output_type": "execute_result"
    },
    {
     "data": {
      "text/plain": [
       "0"
      ]
     },
     "execution_count": 12,
     "metadata": {},
     "output_type": "execute_result"
    },
    {
     "data": {
      "text/plain": [
       "0"
      ]
     },
     "execution_count": 12,
     "metadata": {},
     "output_type": "execute_result"
    },
    {
     "data": {
      "text/plain": [
       "0"
      ]
     },
     "execution_count": 12,
     "metadata": {},
     "output_type": "execute_result"
    },
    {
     "data": {
      "text/plain": [
       "0"
      ]
     },
     "execution_count": 12,
     "metadata": {},
     "output_type": "execute_result"
    },
    {
     "data": {
      "text/plain": [
       "0"
      ]
     },
     "execution_count": 12,
     "metadata": {},
     "output_type": "execute_result"
    },
    {
     "data": {
      "text/plain": [
       "0"
      ]
     },
     "execution_count": 12,
     "metadata": {},
     "output_type": "execute_result"
    },
    {
     "data": {
      "text/plain": [
       "0"
      ]
     },
     "execution_count": 12,
     "metadata": {},
     "output_type": "execute_result"
    },
    {
     "data": {
      "text/plain": [
       "0"
      ]
     },
     "execution_count": 12,
     "metadata": {},
     "output_type": "execute_result"
    },
    {
     "data": {
      "text/plain": [
       "0"
      ]
     },
     "execution_count": 12,
     "metadata": {},
     "output_type": "execute_result"
    },
    {
     "data": {
      "text/plain": [
       "0"
      ]
     },
     "execution_count": 12,
     "metadata": {},
     "output_type": "execute_result"
    },
    {
     "data": {
      "text/plain": [
       "0"
      ]
     },
     "execution_count": 12,
     "metadata": {},
     "output_type": "execute_result"
    },
    {
     "data": {
      "text/plain": [
       "0"
      ]
     },
     "execution_count": 12,
     "metadata": {},
     "output_type": "execute_result"
    },
    {
     "data": {
      "text/plain": [
       "0"
      ]
     },
     "execution_count": 12,
     "metadata": {},
     "output_type": "execute_result"
    },
    {
     "data": {
      "text/plain": [
       "0"
      ]
     },
     "execution_count": 12,
     "metadata": {},
     "output_type": "execute_result"
    },
    {
     "data": {
      "text/plain": [
       "0"
      ]
     },
     "execution_count": 12,
     "metadata": {},
     "output_type": "execute_result"
    },
    {
     "data": {
      "text/plain": [
       "0"
      ]
     },
     "execution_count": 12,
     "metadata": {},
     "output_type": "execute_result"
    },
    {
     "data": {
      "text/plain": [
       "0"
      ]
     },
     "execution_count": 12,
     "metadata": {},
     "output_type": "execute_result"
    },
    {
     "data": {
      "text/plain": [
       "0"
      ]
     },
     "execution_count": 12,
     "metadata": {},
     "output_type": "execute_result"
    },
    {
     "data": {
      "text/plain": [
       "0"
      ]
     },
     "execution_count": 12,
     "metadata": {},
     "output_type": "execute_result"
    },
    {
     "data": {
      "text/plain": [
       "0"
      ]
     },
     "execution_count": 12,
     "metadata": {},
     "output_type": "execute_result"
    },
    {
     "data": {
      "text/plain": [
       "0"
      ]
     },
     "execution_count": 12,
     "metadata": {},
     "output_type": "execute_result"
    },
    {
     "data": {
      "text/plain": [
       "0"
      ]
     },
     "execution_count": 12,
     "metadata": {},
     "output_type": "execute_result"
    },
    {
     "data": {
      "text/plain": [
       "0"
      ]
     },
     "execution_count": 12,
     "metadata": {},
     "output_type": "execute_result"
    },
    {
     "data": {
      "text/plain": [
       "0"
      ]
     },
     "execution_count": 12,
     "metadata": {},
     "output_type": "execute_result"
    },
    {
     "data": {
      "text/plain": [
       "0"
      ]
     },
     "execution_count": 12,
     "metadata": {},
     "output_type": "execute_result"
    },
    {
     "data": {
      "text/plain": [
       "0"
      ]
     },
     "execution_count": 12,
     "metadata": {},
     "output_type": "execute_result"
    },
    {
     "data": {
      "text/plain": [
       "0"
      ]
     },
     "execution_count": 12,
     "metadata": {},
     "output_type": "execute_result"
    },
    {
     "data": {
      "text/plain": [
       "0"
      ]
     },
     "execution_count": 12,
     "metadata": {},
     "output_type": "execute_result"
    },
    {
     "data": {
      "text/plain": [
       "0"
      ]
     },
     "execution_count": 12,
     "metadata": {},
     "output_type": "execute_result"
    },
    {
     "data": {
      "text/plain": [
       "0"
      ]
     },
     "execution_count": 12,
     "metadata": {},
     "output_type": "execute_result"
    },
    {
     "data": {
      "text/plain": [
       "0"
      ]
     },
     "execution_count": 12,
     "metadata": {},
     "output_type": "execute_result"
    },
    {
     "data": {
      "text/plain": [
       "0"
      ]
     },
     "execution_count": 12,
     "metadata": {},
     "output_type": "execute_result"
    },
    {
     "data": {
      "text/plain": [
       "0"
      ]
     },
     "execution_count": 12,
     "metadata": {},
     "output_type": "execute_result"
    },
    {
     "data": {
      "text/plain": [
       "0"
      ]
     },
     "execution_count": 12,
     "metadata": {},
     "output_type": "execute_result"
    },
    {
     "data": {
      "text/plain": [
       "21"
      ]
     },
     "execution_count": 12,
     "metadata": {},
     "output_type": "execute_result"
    }
   ],
   "source": [
    "for k in range(0, 5):\n",
    "    tmp_his = kflod[kflod.kflod == k]\n",
    "    tmp_his = tmp_his.merge(train, on=['aid', 'uid'], how='left')\n",
    "    tmp_his = tmp_his.merge(user, on=['uid'], how='left')\n",
    "    \n",
    "    for i in split_col:\n",
    "        tmp_his[i] = tmp_his[i].apply(spl_col)\n",
    "\n",
    "    tmp_his_pos = tmp_his[tmp_his.label == 1]\n",
    "    \n",
    "    for i in split_col:\n",
    "        tmp_dict = defaultdict(lambda: 0)\n",
    "        for j in range(0, tmp_his.shape[0]):\n",
    "            if type(tmp_his[i][j]) == list:\n",
    "                for word in tmp_his[i][j]:\n",
    "                    tmp_dict[word] += 1\n",
    "        save_obj(tmp_dict, str(i + '_dict_' + str(k)))\n",
    "        del tmp_dict\n",
    "        gc.collect()\n",
    "        \n",
    "    for i in split_col:\n",
    "        tmp_dict = defaultdict(lambda: 0)\n",
    "        for j in list(tmp_his_pos.index):\n",
    "            if type(tmp_his_pos[i][j]) == list:\n",
    "                for word in tmp_his_pos[i][j]:\n",
    "                    tmp_dict[word] += 1\n",
    "        save_obj(tmp_dict, str(i + '_pos_dict_' + str(k)))\n",
    "        del tmp_dict\n",
    "        gc.collect()\n",
    "        \n",
    "    for i in feature_col:\n",
    "        tmp_dict = defaultdict(lambda: 0)\n",
    "        for j in range(0, tmp_his.shape[0]):\n",
    "            if type(tmp_his[i][j]) == list:\n",
    "                tmp_dict[tuple(tmp_his[i][j])] += 1\n",
    "            elif (type(tmp_his[i][j]) == np.int64) | (type(tmp_his[i][j]) == np.float64):\n",
    "                tmp_dict[tmp_his[i][j]] += 1\n",
    "            else:\n",
    "                tmp_dict[tuple([999])] += 1\n",
    "        save_obj(tmp_dict, str(i + '_full_dict_' + str(k)))\n",
    "        del tmp_dict\n",
    "        gc.collect()\n",
    "        \n",
    "    for i in feature_col:\n",
    "        tmp_dict = defaultdict(lambda: 0)\n",
    "        for j in list(tmp_his_pos.index):\n",
    "            if type(tmp_his_pos[i][j]) == list:\n",
    "                tmp_dict[tuple(tmp_his_pos[i][j])] += 1\n",
    "            elif (type(tmp_his_pos[i][j]) == np.int64) | (type(tmp_his_pos[i][j]) == np.float64):\n",
    "                tmp_dict[tmp_his_pos[i][j]] += 1\n",
    "            else:\n",
    "                tmp_dict[tuple([999])] += 1\n",
    "        save_obj(tmp_dict, str(i + '_full_pos_dict_' + str(k)))\n",
    "        del tmp_dict\n",
    "        gc.collect()\n",
    "    \n",
    "    del tmp_his\n",
    "    del tmp_his_pos\n",
    "    gc.collect()"
   ]
  },
  {
   "cell_type": "markdown",
   "metadata": {},
   "source": [
    "# train"
   ]
  },
  {
   "cell_type": "code",
   "execution_count": 10,
   "metadata": {},
   "outputs": [
    {
     "data": {
      "text/plain": [
       "label\n",
       "-99    2265989\n",
       "-1     8376853\n",
       " 1      421961\n",
       "Name: aid, dtype: int64"
      ]
     },
     "execution_count": 10,
     "metadata": {},
     "output_type": "execute_result"
    }
   ],
   "source": [
    "df.groupby(['label']).aid.count()\n",
    "\n",
    "train = df[df.label != -99]\n",
    "test = df[df.label == -99]"
   ]
  },
  {
   "cell_type": "code",
   "execution_count": 11,
   "metadata": {
    "collapsed": true
   },
   "outputs": [
    {
     "data": {
      "text/plain": [
       "24"
      ]
     },
     "execution_count": 11,
     "metadata": {},
     "output_type": "execute_result"
    },
    {
     "data": {
      "text/plain": [
       "28"
      ]
     },
     "execution_count": 11,
     "metadata": {},
     "output_type": "execute_result"
    },
    {
     "data": {
      "text/plain": [
       "24"
      ]
     },
     "execution_count": 11,
     "metadata": {},
     "output_type": "execute_result"
    },
    {
     "data": {
      "text/plain": [
       "14"
      ]
     },
     "execution_count": 11,
     "metadata": {},
     "output_type": "execute_result"
    },
    {
     "data": {
      "text/plain": [
       "24"
      ]
     },
     "execution_count": 11,
     "metadata": {},
     "output_type": "execute_result"
    },
    {
     "data": {
      "text/plain": [
       "14"
      ]
     },
     "execution_count": 11,
     "metadata": {},
     "output_type": "execute_result"
    },
    {
     "data": {
      "text/plain": [
       "24"
      ]
     },
     "execution_count": 11,
     "metadata": {},
     "output_type": "execute_result"
    },
    {
     "data": {
      "text/plain": [
       "14"
      ]
     },
     "execution_count": 11,
     "metadata": {},
     "output_type": "execute_result"
    },
    {
     "data": {
      "text/plain": [
       "24"
      ]
     },
     "execution_count": 11,
     "metadata": {},
     "output_type": "execute_result"
    },
    {
     "data": {
      "text/plain": [
       "14"
      ]
     },
     "execution_count": 11,
     "metadata": {},
     "output_type": "execute_result"
    },
    {
     "data": {
      "text/plain": [
       "24"
      ]
     },
     "execution_count": 11,
     "metadata": {},
     "output_type": "execute_result"
    },
    {
     "data": {
      "text/plain": [
       "14"
      ]
     },
     "execution_count": 11,
     "metadata": {},
     "output_type": "execute_result"
    },
    {
     "data": {
      "text/plain": [
       "24"
      ]
     },
     "execution_count": 11,
     "metadata": {},
     "output_type": "execute_result"
    },
    {
     "data": {
      "text/plain": [
       "14"
      ]
     },
     "execution_count": 11,
     "metadata": {},
     "output_type": "execute_result"
    },
    {
     "data": {
      "text/plain": [
       "24"
      ]
     },
     "execution_count": 11,
     "metadata": {},
     "output_type": "execute_result"
    },
    {
     "data": {
      "text/plain": [
       "14"
      ]
     },
     "execution_count": 11,
     "metadata": {},
     "output_type": "execute_result"
    },
    {
     "data": {
      "text/plain": [
       "24"
      ]
     },
     "execution_count": 11,
     "metadata": {},
     "output_type": "execute_result"
    },
    {
     "data": {
      "text/plain": [
       "14"
      ]
     },
     "execution_count": 11,
     "metadata": {},
     "output_type": "execute_result"
    },
    {
     "data": {
      "text/plain": [
       "24"
      ]
     },
     "execution_count": 11,
     "metadata": {},
     "output_type": "execute_result"
    },
    {
     "data": {
      "text/plain": [
       "14"
      ]
     },
     "execution_count": 11,
     "metadata": {},
     "output_type": "execute_result"
    },
    {
     "data": {
      "text/plain": [
       "24"
      ]
     },
     "execution_count": 11,
     "metadata": {},
     "output_type": "execute_result"
    },
    {
     "data": {
      "text/plain": [
       "14"
      ]
     },
     "execution_count": 11,
     "metadata": {},
     "output_type": "execute_result"
    },
    {
     "data": {
      "text/plain": [
       "24"
      ]
     },
     "execution_count": 11,
     "metadata": {},
     "output_type": "execute_result"
    },
    {
     "data": {
      "text/plain": [
       "14"
      ]
     },
     "execution_count": 11,
     "metadata": {},
     "output_type": "execute_result"
    },
    {
     "data": {
      "text/plain": [
       "24"
      ]
     },
     "execution_count": 11,
     "metadata": {},
     "output_type": "execute_result"
    },
    {
     "data": {
      "text/plain": [
       "14"
      ]
     },
     "execution_count": 11,
     "metadata": {},
     "output_type": "execute_result"
    },
    {
     "data": {
      "text/plain": [
       "24"
      ]
     },
     "execution_count": 11,
     "metadata": {},
     "output_type": "execute_result"
    },
    {
     "data": {
      "text/plain": [
       "14"
      ]
     },
     "execution_count": 11,
     "metadata": {},
     "output_type": "execute_result"
    },
    {
     "data": {
      "text/plain": [
       "24"
      ]
     },
     "execution_count": 11,
     "metadata": {},
     "output_type": "execute_result"
    },
    {
     "data": {
      "text/plain": [
       "14"
      ]
     },
     "execution_count": 11,
     "metadata": {},
     "output_type": "execute_result"
    },
    {
     "data": {
      "text/plain": [
       "24"
      ]
     },
     "execution_count": 11,
     "metadata": {},
     "output_type": "execute_result"
    },
    {
     "data": {
      "text/plain": [
       "14"
      ]
     },
     "execution_count": 11,
     "metadata": {},
     "output_type": "execute_result"
    },
    {
     "data": {
      "text/plain": [
       "24"
      ]
     },
     "execution_count": 11,
     "metadata": {},
     "output_type": "execute_result"
    },
    {
     "data": {
      "text/plain": [
       "14"
      ]
     },
     "execution_count": 11,
     "metadata": {},
     "output_type": "execute_result"
    },
    {
     "data": {
      "text/plain": [
       "24"
      ]
     },
     "execution_count": 11,
     "metadata": {},
     "output_type": "execute_result"
    },
    {
     "data": {
      "text/plain": [
       "14"
      ]
     },
     "execution_count": 11,
     "metadata": {},
     "output_type": "execute_result"
    },
    {
     "data": {
      "text/plain": [
       "24"
      ]
     },
     "execution_count": 11,
     "metadata": {},
     "output_type": "execute_result"
    },
    {
     "data": {
      "text/plain": [
       "14"
      ]
     },
     "execution_count": 11,
     "metadata": {},
     "output_type": "execute_result"
    },
    {
     "data": {
      "text/plain": [
       "24"
      ]
     },
     "execution_count": 11,
     "metadata": {},
     "output_type": "execute_result"
    },
    {
     "data": {
      "text/plain": [
       "14"
      ]
     },
     "execution_count": 11,
     "metadata": {},
     "output_type": "execute_result"
    },
    {
     "data": {
      "text/plain": [
       "24"
      ]
     },
     "execution_count": 11,
     "metadata": {},
     "output_type": "execute_result"
    },
    {
     "data": {
      "text/plain": [
       "14"
      ]
     },
     "execution_count": 11,
     "metadata": {},
     "output_type": "execute_result"
    },
    {
     "data": {
      "text/plain": [
       "24"
      ]
     },
     "execution_count": 11,
     "metadata": {},
     "output_type": "execute_result"
    },
    {
     "data": {
      "text/plain": [
       "14"
      ]
     },
     "execution_count": 11,
     "metadata": {},
     "output_type": "execute_result"
    },
    {
     "data": {
      "text/plain": [
       "0"
      ]
     },
     "execution_count": 11,
     "metadata": {},
     "output_type": "execute_result"
    },
    {
     "data": {
      "text/plain": [
       "14"
      ]
     },
     "execution_count": 11,
     "metadata": {},
     "output_type": "execute_result"
    },
    {
     "data": {
      "text/plain": [
       "0"
      ]
     },
     "execution_count": 11,
     "metadata": {},
     "output_type": "execute_result"
    },
    {
     "data": {
      "text/plain": [
       "14"
      ]
     },
     "execution_count": 11,
     "metadata": {},
     "output_type": "execute_result"
    },
    {
     "data": {
      "text/plain": [
       "6"
      ]
     },
     "execution_count": 11,
     "metadata": {},
     "output_type": "execute_result"
    },
    {
     "data": {
      "text/plain": [
       "14"
      ]
     },
     "execution_count": 11,
     "metadata": {},
     "output_type": "execute_result"
    },
    {
     "data": {
      "text/plain": [
       "15"
      ]
     },
     "execution_count": 11,
     "metadata": {},
     "output_type": "execute_result"
    },
    {
     "data": {
      "text/plain": [
       "14"
      ]
     },
     "execution_count": 11,
     "metadata": {},
     "output_type": "execute_result"
    },
    {
     "data": {
      "text/plain": [
       "0"
      ]
     },
     "execution_count": 11,
     "metadata": {},
     "output_type": "execute_result"
    },
    {
     "data": {
      "text/plain": [
       "14"
      ]
     },
     "execution_count": 11,
     "metadata": {},
     "output_type": "execute_result"
    },
    {
     "data": {
      "text/plain": [
       "0"
      ]
     },
     "execution_count": 11,
     "metadata": {},
     "output_type": "execute_result"
    },
    {
     "data": {
      "text/plain": [
       "14"
      ]
     },
     "execution_count": 11,
     "metadata": {},
     "output_type": "execute_result"
    },
    {
     "data": {
      "text/plain": [
       "0"
      ]
     },
     "execution_count": 11,
     "metadata": {},
     "output_type": "execute_result"
    },
    {
     "data": {
      "text/plain": [
       "14"
      ]
     },
     "execution_count": 11,
     "metadata": {},
     "output_type": "execute_result"
    },
    {
     "data": {
      "text/plain": [
       "0"
      ]
     },
     "execution_count": 11,
     "metadata": {},
     "output_type": "execute_result"
    },
    {
     "data": {
      "text/plain": [
       "14"
      ]
     },
     "execution_count": 11,
     "metadata": {},
     "output_type": "execute_result"
    },
    {
     "data": {
      "text/plain": [
       "0"
      ]
     },
     "execution_count": 11,
     "metadata": {},
     "output_type": "execute_result"
    },
    {
     "data": {
      "text/plain": [
       "14"
      ]
     },
     "execution_count": 11,
     "metadata": {},
     "output_type": "execute_result"
    },
    {
     "data": {
      "text/plain": [
       "0"
      ]
     },
     "execution_count": 11,
     "metadata": {},
     "output_type": "execute_result"
    },
    {
     "data": {
      "text/plain": [
       "14"
      ]
     },
     "execution_count": 11,
     "metadata": {},
     "output_type": "execute_result"
    },
    {
     "data": {
      "text/plain": [
       "0"
      ]
     },
     "execution_count": 11,
     "metadata": {},
     "output_type": "execute_result"
    },
    {
     "data": {
      "text/plain": [
       "14"
      ]
     },
     "execution_count": 11,
     "metadata": {},
     "output_type": "execute_result"
    },
    {
     "data": {
      "text/plain": [
       "0"
      ]
     },
     "execution_count": 11,
     "metadata": {},
     "output_type": "execute_result"
    },
    {
     "data": {
      "text/plain": [
       "14"
      ]
     },
     "execution_count": 11,
     "metadata": {},
     "output_type": "execute_result"
    },
    {
     "data": {
      "text/plain": [
       "6"
      ]
     },
     "execution_count": 11,
     "metadata": {},
     "output_type": "execute_result"
    },
    {
     "data": {
      "text/plain": [
       "14"
      ]
     },
     "execution_count": 11,
     "metadata": {},
     "output_type": "execute_result"
    },
    {
     "data": {
      "text/plain": [
       "24"
      ]
     },
     "execution_count": 11,
     "metadata": {},
     "output_type": "execute_result"
    },
    {
     "data": {
      "text/plain": [
       "14"
      ]
     },
     "execution_count": 11,
     "metadata": {},
     "output_type": "execute_result"
    },
    {
     "data": {
      "text/plain": [
       "24"
      ]
     },
     "execution_count": 11,
     "metadata": {},
     "output_type": "execute_result"
    },
    {
     "data": {
      "text/plain": [
       "14"
      ]
     },
     "execution_count": 11,
     "metadata": {},
     "output_type": "execute_result"
    },
    {
     "data": {
      "text/plain": [
       "24"
      ]
     },
     "execution_count": 11,
     "metadata": {},
     "output_type": "execute_result"
    },
    {
     "data": {
      "text/plain": [
       "14"
      ]
     },
     "execution_count": 11,
     "metadata": {},
     "output_type": "execute_result"
    },
    {
     "data": {
      "text/plain": [
       "62"
      ]
     },
     "execution_count": 11,
     "metadata": {},
     "output_type": "execute_result"
    },
    {
     "data": {
      "text/plain": [
       "42"
      ]
     },
     "execution_count": 11,
     "metadata": {},
     "output_type": "execute_result"
    },
    {
     "data": {
      "text/plain": [
       "42"
      ]
     },
     "execution_count": 11,
     "metadata": {},
     "output_type": "execute_result"
    },
    {
     "data": {
      "text/plain": [
       "70"
      ]
     },
     "execution_count": 11,
     "metadata": {},
     "output_type": "execute_result"
    },
    {
     "data": {
      "text/plain": [
       "83"
      ]
     },
     "execution_count": 11,
     "metadata": {},
     "output_type": "execute_result"
    },
    {
     "data": {
      "text/plain": [
       "70"
      ]
     },
     "execution_count": 11,
     "metadata": {},
     "output_type": "execute_result"
    },
    {
     "data": {
      "text/plain": [
       "70"
      ]
     },
     "execution_count": 11,
     "metadata": {},
     "output_type": "execute_result"
    },
    {
     "data": {
      "text/plain": [
       "7"
      ]
     },
     "execution_count": 11,
     "metadata": {},
     "output_type": "execute_result"
    },
    {
     "data": {
      "text/plain": [
       "24"
      ]
     },
     "execution_count": 11,
     "metadata": {},
     "output_type": "execute_result"
    },
    {
     "data": {
      "text/plain": [
       "14"
      ]
     },
     "execution_count": 11,
     "metadata": {},
     "output_type": "execute_result"
    },
    {
     "data": {
      "text/plain": [
       "24"
      ]
     },
     "execution_count": 11,
     "metadata": {},
     "output_type": "execute_result"
    },
    {
     "data": {
      "text/plain": [
       "14"
      ]
     },
     "execution_count": 11,
     "metadata": {},
     "output_type": "execute_result"
    },
    {
     "data": {
      "text/plain": [
       "24"
      ]
     },
     "execution_count": 11,
     "metadata": {},
     "output_type": "execute_result"
    },
    {
     "data": {
      "text/plain": [
       "14"
      ]
     },
     "execution_count": 11,
     "metadata": {},
     "output_type": "execute_result"
    },
    {
     "data": {
      "text/plain": [
       "24"
      ]
     },
     "execution_count": 11,
     "metadata": {},
     "output_type": "execute_result"
    },
    {
     "data": {
      "text/plain": [
       "14"
      ]
     },
     "execution_count": 11,
     "metadata": {},
     "output_type": "execute_result"
    },
    {
     "data": {
      "text/plain": [
       "24"
      ]
     },
     "execution_count": 11,
     "metadata": {},
     "output_type": "execute_result"
    },
    {
     "data": {
      "text/plain": [
       "14"
      ]
     },
     "execution_count": 11,
     "metadata": {},
     "output_type": "execute_result"
    },
    {
     "data": {
      "text/plain": [
       "24"
      ]
     },
     "execution_count": 11,
     "metadata": {},
     "output_type": "execute_result"
    },
    {
     "data": {
      "text/plain": [
       "14"
      ]
     },
     "execution_count": 11,
     "metadata": {},
     "output_type": "execute_result"
    },
    {
     "data": {
      "text/plain": [
       "24"
      ]
     },
     "execution_count": 11,
     "metadata": {},
     "output_type": "execute_result"
    },
    {
     "data": {
      "text/plain": [
       "14"
      ]
     },
     "execution_count": 11,
     "metadata": {},
     "output_type": "execute_result"
    },
    {
     "data": {
      "text/plain": [
       "24"
      ]
     },
     "execution_count": 11,
     "metadata": {},
     "output_type": "execute_result"
    },
    {
     "data": {
      "text/plain": [
       "14"
      ]
     },
     "execution_count": 11,
     "metadata": {},
     "output_type": "execute_result"
    },
    {
     "data": {
      "text/plain": [
       "24"
      ]
     },
     "execution_count": 11,
     "metadata": {},
     "output_type": "execute_result"
    },
    {
     "data": {
      "text/plain": [
       "14"
      ]
     },
     "execution_count": 11,
     "metadata": {},
     "output_type": "execute_result"
    },
    {
     "data": {
      "text/plain": [
       "24"
      ]
     },
     "execution_count": 11,
     "metadata": {},
     "output_type": "execute_result"
    },
    {
     "data": {
      "text/plain": [
       "14"
      ]
     },
     "execution_count": 11,
     "metadata": {},
     "output_type": "execute_result"
    },
    {
     "data": {
      "text/plain": [
       "24"
      ]
     },
     "execution_count": 11,
     "metadata": {},
     "output_type": "execute_result"
    },
    {
     "data": {
      "text/plain": [
       "14"
      ]
     },
     "execution_count": 11,
     "metadata": {},
     "output_type": "execute_result"
    },
    {
     "data": {
      "text/plain": [
       "24"
      ]
     },
     "execution_count": 11,
     "metadata": {},
     "output_type": "execute_result"
    },
    {
     "data": {
      "text/plain": [
       "14"
      ]
     },
     "execution_count": 11,
     "metadata": {},
     "output_type": "execute_result"
    },
    {
     "data": {
      "text/plain": [
       "24"
      ]
     },
     "execution_count": 11,
     "metadata": {},
     "output_type": "execute_result"
    },
    {
     "data": {
      "text/plain": [
       "14"
      ]
     },
     "execution_count": 11,
     "metadata": {},
     "output_type": "execute_result"
    },
    {
     "data": {
      "text/plain": [
       "24"
      ]
     },
     "execution_count": 11,
     "metadata": {},
     "output_type": "execute_result"
    },
    {
     "data": {
      "text/plain": [
       "14"
      ]
     },
     "execution_count": 11,
     "metadata": {},
     "output_type": "execute_result"
    },
    {
     "data": {
      "text/plain": [
       "24"
      ]
     },
     "execution_count": 11,
     "metadata": {},
     "output_type": "execute_result"
    },
    {
     "data": {
      "text/plain": [
       "14"
      ]
     },
     "execution_count": 11,
     "metadata": {},
     "output_type": "execute_result"
    },
    {
     "data": {
      "text/plain": [
       "24"
      ]
     },
     "execution_count": 11,
     "metadata": {},
     "output_type": "execute_result"
    },
    {
     "data": {
      "text/plain": [
       "14"
      ]
     },
     "execution_count": 11,
     "metadata": {},
     "output_type": "execute_result"
    },
    {
     "data": {
      "text/plain": [
       "24"
      ]
     },
     "execution_count": 11,
     "metadata": {},
     "output_type": "execute_result"
    },
    {
     "data": {
      "text/plain": [
       "14"
      ]
     },
     "execution_count": 11,
     "metadata": {},
     "output_type": "execute_result"
    },
    {
     "data": {
      "text/plain": [
       "24"
      ]
     },
     "execution_count": 11,
     "metadata": {},
     "output_type": "execute_result"
    },
    {
     "data": {
      "text/plain": [
       "14"
      ]
     },
     "execution_count": 11,
     "metadata": {},
     "output_type": "execute_result"
    },
    {
     "data": {
      "text/plain": [
       "24"
      ]
     },
     "execution_count": 11,
     "metadata": {},
     "output_type": "execute_result"
    },
    {
     "data": {
      "text/plain": [
       "14"
      ]
     },
     "execution_count": 11,
     "metadata": {},
     "output_type": "execute_result"
    },
    {
     "data": {
      "text/plain": [
       "24"
      ]
     },
     "execution_count": 11,
     "metadata": {},
     "output_type": "execute_result"
    },
    {
     "data": {
      "text/plain": [
       "14"
      ]
     },
     "execution_count": 11,
     "metadata": {},
     "output_type": "execute_result"
    },
    {
     "data": {
      "text/plain": [
       "24"
      ]
     },
     "execution_count": 11,
     "metadata": {},
     "output_type": "execute_result"
    },
    {
     "data": {
      "text/plain": [
       "14"
      ]
     },
     "execution_count": 11,
     "metadata": {},
     "output_type": "execute_result"
    },
    {
     "data": {
      "text/plain": [
       "24"
      ]
     },
     "execution_count": 11,
     "metadata": {},
     "output_type": "execute_result"
    },
    {
     "data": {
      "text/plain": [
       "14"
      ]
     },
     "execution_count": 11,
     "metadata": {},
     "output_type": "execute_result"
    },
    {
     "data": {
      "text/plain": [
       "0"
      ]
     },
     "execution_count": 11,
     "metadata": {},
     "output_type": "execute_result"
    },
    {
     "data": {
      "text/plain": [
       "14"
      ]
     },
     "execution_count": 11,
     "metadata": {},
     "output_type": "execute_result"
    },
    {
     "data": {
      "text/plain": [
       "0"
      ]
     },
     "execution_count": 11,
     "metadata": {},
     "output_type": "execute_result"
    },
    {
     "data": {
      "text/plain": [
       "14"
      ]
     },
     "execution_count": 11,
     "metadata": {},
     "output_type": "execute_result"
    },
    {
     "data": {
      "text/plain": [
       "6"
      ]
     },
     "execution_count": 11,
     "metadata": {},
     "output_type": "execute_result"
    },
    {
     "data": {
      "text/plain": [
       "14"
      ]
     },
     "execution_count": 11,
     "metadata": {},
     "output_type": "execute_result"
    },
    {
     "data": {
      "text/plain": [
       "15"
      ]
     },
     "execution_count": 11,
     "metadata": {},
     "output_type": "execute_result"
    },
    {
     "data": {
      "text/plain": [
       "14"
      ]
     },
     "execution_count": 11,
     "metadata": {},
     "output_type": "execute_result"
    },
    {
     "data": {
      "text/plain": [
       "0"
      ]
     },
     "execution_count": 11,
     "metadata": {},
     "output_type": "execute_result"
    },
    {
     "data": {
      "text/plain": [
       "14"
      ]
     },
     "execution_count": 11,
     "metadata": {},
     "output_type": "execute_result"
    },
    {
     "data": {
      "text/plain": [
       "0"
      ]
     },
     "execution_count": 11,
     "metadata": {},
     "output_type": "execute_result"
    },
    {
     "data": {
      "text/plain": [
       "14"
      ]
     },
     "execution_count": 11,
     "metadata": {},
     "output_type": "execute_result"
    },
    {
     "data": {
      "text/plain": [
       "0"
      ]
     },
     "execution_count": 11,
     "metadata": {},
     "output_type": "execute_result"
    },
    {
     "data": {
      "text/plain": [
       "14"
      ]
     },
     "execution_count": 11,
     "metadata": {},
     "output_type": "execute_result"
    },
    {
     "data": {
      "text/plain": [
       "0"
      ]
     },
     "execution_count": 11,
     "metadata": {},
     "output_type": "execute_result"
    },
    {
     "data": {
      "text/plain": [
       "14"
      ]
     },
     "execution_count": 11,
     "metadata": {},
     "output_type": "execute_result"
    },
    {
     "data": {
      "text/plain": [
       "0"
      ]
     },
     "execution_count": 11,
     "metadata": {},
     "output_type": "execute_result"
    },
    {
     "data": {
      "text/plain": [
       "14"
      ]
     },
     "execution_count": 11,
     "metadata": {},
     "output_type": "execute_result"
    },
    {
     "data": {
      "text/plain": [
       "0"
      ]
     },
     "execution_count": 11,
     "metadata": {},
     "output_type": "execute_result"
    },
    {
     "data": {
      "text/plain": [
       "14"
      ]
     },
     "execution_count": 11,
     "metadata": {},
     "output_type": "execute_result"
    },
    {
     "data": {
      "text/plain": [
       "0"
      ]
     },
     "execution_count": 11,
     "metadata": {},
     "output_type": "execute_result"
    },
    {
     "data": {
      "text/plain": [
       "14"
      ]
     },
     "execution_count": 11,
     "metadata": {},
     "output_type": "execute_result"
    },
    {
     "data": {
      "text/plain": [
       "0"
      ]
     },
     "execution_count": 11,
     "metadata": {},
     "output_type": "execute_result"
    },
    {
     "data": {
      "text/plain": [
       "14"
      ]
     },
     "execution_count": 11,
     "metadata": {},
     "output_type": "execute_result"
    },
    {
     "data": {
      "text/plain": [
       "6"
      ]
     },
     "execution_count": 11,
     "metadata": {},
     "output_type": "execute_result"
    },
    {
     "data": {
      "text/plain": [
       "14"
      ]
     },
     "execution_count": 11,
     "metadata": {},
     "output_type": "execute_result"
    },
    {
     "data": {
      "text/plain": [
       "24"
      ]
     },
     "execution_count": 11,
     "metadata": {},
     "output_type": "execute_result"
    },
    {
     "data": {
      "text/plain": [
       "14"
      ]
     },
     "execution_count": 11,
     "metadata": {},
     "output_type": "execute_result"
    },
    {
     "data": {
      "text/plain": [
       "24"
      ]
     },
     "execution_count": 11,
     "metadata": {},
     "output_type": "execute_result"
    },
    {
     "data": {
      "text/plain": [
       "14"
      ]
     },
     "execution_count": 11,
     "metadata": {},
     "output_type": "execute_result"
    },
    {
     "data": {
      "text/plain": [
       "24"
      ]
     },
     "execution_count": 11,
     "metadata": {},
     "output_type": "execute_result"
    },
    {
     "data": {
      "text/plain": [
       "14"
      ]
     },
     "execution_count": 11,
     "metadata": {},
     "output_type": "execute_result"
    },
    {
     "data": {
      "text/plain": [
       "49"
      ]
     },
     "execution_count": 11,
     "metadata": {},
     "output_type": "execute_result"
    },
    {
     "data": {
      "text/plain": [
       "42"
      ]
     },
     "execution_count": 11,
     "metadata": {},
     "output_type": "execute_result"
    },
    {
     "data": {
      "text/plain": [
       "42"
      ]
     },
     "execution_count": 11,
     "metadata": {},
     "output_type": "execute_result"
    },
    {
     "data": {
      "text/plain": [
       "70"
      ]
     },
     "execution_count": 11,
     "metadata": {},
     "output_type": "execute_result"
    },
    {
     "data": {
      "text/plain": [
       "70"
      ]
     },
     "execution_count": 11,
     "metadata": {},
     "output_type": "execute_result"
    },
    {
     "data": {
      "text/plain": [
       "70"
      ]
     },
     "execution_count": 11,
     "metadata": {},
     "output_type": "execute_result"
    },
    {
     "data": {
      "text/plain": [
       "70"
      ]
     },
     "execution_count": 11,
     "metadata": {},
     "output_type": "execute_result"
    },
    {
     "data": {
      "text/plain": [
       "7"
      ]
     },
     "execution_count": 11,
     "metadata": {},
     "output_type": "execute_result"
    },
    {
     "data": {
      "text/plain": [
       "24"
      ]
     },
     "execution_count": 11,
     "metadata": {},
     "output_type": "execute_result"
    },
    {
     "data": {
      "text/plain": [
       "14"
      ]
     },
     "execution_count": 11,
     "metadata": {},
     "output_type": "execute_result"
    },
    {
     "data": {
      "text/plain": [
       "24"
      ]
     },
     "execution_count": 11,
     "metadata": {},
     "output_type": "execute_result"
    },
    {
     "data": {
      "text/plain": [
       "14"
      ]
     },
     "execution_count": 11,
     "metadata": {},
     "output_type": "execute_result"
    },
    {
     "data": {
      "text/plain": [
       "24"
      ]
     },
     "execution_count": 11,
     "metadata": {},
     "output_type": "execute_result"
    },
    {
     "data": {
      "text/plain": [
       "14"
      ]
     },
     "execution_count": 11,
     "metadata": {},
     "output_type": "execute_result"
    },
    {
     "data": {
      "text/plain": [
       "24"
      ]
     },
     "execution_count": 11,
     "metadata": {},
     "output_type": "execute_result"
    },
    {
     "data": {
      "text/plain": [
       "14"
      ]
     },
     "execution_count": 11,
     "metadata": {},
     "output_type": "execute_result"
    },
    {
     "data": {
      "text/plain": [
       "24"
      ]
     },
     "execution_count": 11,
     "metadata": {},
     "output_type": "execute_result"
    },
    {
     "data": {
      "text/plain": [
       "14"
      ]
     },
     "execution_count": 11,
     "metadata": {},
     "output_type": "execute_result"
    },
    {
     "data": {
      "text/plain": [
       "24"
      ]
     },
     "execution_count": 11,
     "metadata": {},
     "output_type": "execute_result"
    },
    {
     "data": {
      "text/plain": [
       "14"
      ]
     },
     "execution_count": 11,
     "metadata": {},
     "output_type": "execute_result"
    },
    {
     "data": {
      "text/plain": [
       "24"
      ]
     },
     "execution_count": 11,
     "metadata": {},
     "output_type": "execute_result"
    },
    {
     "data": {
      "text/plain": [
       "14"
      ]
     },
     "execution_count": 11,
     "metadata": {},
     "output_type": "execute_result"
    },
    {
     "data": {
      "text/plain": [
       "24"
      ]
     },
     "execution_count": 11,
     "metadata": {},
     "output_type": "execute_result"
    },
    {
     "data": {
      "text/plain": [
       "14"
      ]
     },
     "execution_count": 11,
     "metadata": {},
     "output_type": "execute_result"
    },
    {
     "data": {
      "text/plain": [
       "24"
      ]
     },
     "execution_count": 11,
     "metadata": {},
     "output_type": "execute_result"
    },
    {
     "data": {
      "text/plain": [
       "14"
      ]
     },
     "execution_count": 11,
     "metadata": {},
     "output_type": "execute_result"
    },
    {
     "data": {
      "text/plain": [
       "24"
      ]
     },
     "execution_count": 11,
     "metadata": {},
     "output_type": "execute_result"
    },
    {
     "data": {
      "text/plain": [
       "14"
      ]
     },
     "execution_count": 11,
     "metadata": {},
     "output_type": "execute_result"
    },
    {
     "data": {
      "text/plain": [
       "24"
      ]
     },
     "execution_count": 11,
     "metadata": {},
     "output_type": "execute_result"
    },
    {
     "data": {
      "text/plain": [
       "14"
      ]
     },
     "execution_count": 11,
     "metadata": {},
     "output_type": "execute_result"
    },
    {
     "data": {
      "text/plain": [
       "24"
      ]
     },
     "execution_count": 11,
     "metadata": {},
     "output_type": "execute_result"
    },
    {
     "data": {
      "text/plain": [
       "14"
      ]
     },
     "execution_count": 11,
     "metadata": {},
     "output_type": "execute_result"
    },
    {
     "data": {
      "text/plain": [
       "24"
      ]
     },
     "execution_count": 11,
     "metadata": {},
     "output_type": "execute_result"
    },
    {
     "data": {
      "text/plain": [
       "14"
      ]
     },
     "execution_count": 11,
     "metadata": {},
     "output_type": "execute_result"
    },
    {
     "data": {
      "text/plain": [
       "24"
      ]
     },
     "execution_count": 11,
     "metadata": {},
     "output_type": "execute_result"
    },
    {
     "data": {
      "text/plain": [
       "14"
      ]
     },
     "execution_count": 11,
     "metadata": {},
     "output_type": "execute_result"
    },
    {
     "data": {
      "text/plain": [
       "24"
      ]
     },
     "execution_count": 11,
     "metadata": {},
     "output_type": "execute_result"
    },
    {
     "data": {
      "text/plain": [
       "14"
      ]
     },
     "execution_count": 11,
     "metadata": {},
     "output_type": "execute_result"
    },
    {
     "data": {
      "text/plain": [
       "24"
      ]
     },
     "execution_count": 11,
     "metadata": {},
     "output_type": "execute_result"
    },
    {
     "data": {
      "text/plain": [
       "14"
      ]
     },
     "execution_count": 11,
     "metadata": {},
     "output_type": "execute_result"
    },
    {
     "data": {
      "text/plain": [
       "24"
      ]
     },
     "execution_count": 11,
     "metadata": {},
     "output_type": "execute_result"
    },
    {
     "data": {
      "text/plain": [
       "14"
      ]
     },
     "execution_count": 11,
     "metadata": {},
     "output_type": "execute_result"
    },
    {
     "data": {
      "text/plain": [
       "24"
      ]
     },
     "execution_count": 11,
     "metadata": {},
     "output_type": "execute_result"
    },
    {
     "data": {
      "text/plain": [
       "14"
      ]
     },
     "execution_count": 11,
     "metadata": {},
     "output_type": "execute_result"
    },
    {
     "data": {
      "text/plain": [
       "24"
      ]
     },
     "execution_count": 11,
     "metadata": {},
     "output_type": "execute_result"
    },
    {
     "data": {
      "text/plain": [
       "14"
      ]
     },
     "execution_count": 11,
     "metadata": {},
     "output_type": "execute_result"
    },
    {
     "data": {
      "text/plain": [
       "24"
      ]
     },
     "execution_count": 11,
     "metadata": {},
     "output_type": "execute_result"
    },
    {
     "data": {
      "text/plain": [
       "14"
      ]
     },
     "execution_count": 11,
     "metadata": {},
     "output_type": "execute_result"
    },
    {
     "data": {
      "text/plain": [
       "24"
      ]
     },
     "execution_count": 11,
     "metadata": {},
     "output_type": "execute_result"
    },
    {
     "data": {
      "text/plain": [
       "14"
      ]
     },
     "execution_count": 11,
     "metadata": {},
     "output_type": "execute_result"
    },
    {
     "data": {
      "text/plain": [
       "24"
      ]
     },
     "execution_count": 11,
     "metadata": {},
     "output_type": "execute_result"
    },
    {
     "data": {
      "text/plain": [
       "14"
      ]
     },
     "execution_count": 11,
     "metadata": {},
     "output_type": "execute_result"
    },
    {
     "data": {
      "text/plain": [
       "0"
      ]
     },
     "execution_count": 11,
     "metadata": {},
     "output_type": "execute_result"
    },
    {
     "data": {
      "text/plain": [
       "14"
      ]
     },
     "execution_count": 11,
     "metadata": {},
     "output_type": "execute_result"
    },
    {
     "data": {
      "text/plain": [
       "0"
      ]
     },
     "execution_count": 11,
     "metadata": {},
     "output_type": "execute_result"
    },
    {
     "data": {
      "text/plain": [
       "14"
      ]
     },
     "execution_count": 11,
     "metadata": {},
     "output_type": "execute_result"
    },
    {
     "data": {
      "text/plain": [
       "6"
      ]
     },
     "execution_count": 11,
     "metadata": {},
     "output_type": "execute_result"
    },
    {
     "data": {
      "text/plain": [
       "14"
      ]
     },
     "execution_count": 11,
     "metadata": {},
     "output_type": "execute_result"
    },
    {
     "data": {
      "text/plain": [
       "15"
      ]
     },
     "execution_count": 11,
     "metadata": {},
     "output_type": "execute_result"
    },
    {
     "data": {
      "text/plain": [
       "14"
      ]
     },
     "execution_count": 11,
     "metadata": {},
     "output_type": "execute_result"
    },
    {
     "data": {
      "text/plain": [
       "0"
      ]
     },
     "execution_count": 11,
     "metadata": {},
     "output_type": "execute_result"
    },
    {
     "data": {
      "text/plain": [
       "14"
      ]
     },
     "execution_count": 11,
     "metadata": {},
     "output_type": "execute_result"
    },
    {
     "data": {
      "text/plain": [
       "0"
      ]
     },
     "execution_count": 11,
     "metadata": {},
     "output_type": "execute_result"
    },
    {
     "data": {
      "text/plain": [
       "14"
      ]
     },
     "execution_count": 11,
     "metadata": {},
     "output_type": "execute_result"
    },
    {
     "data": {
      "text/plain": [
       "0"
      ]
     },
     "execution_count": 11,
     "metadata": {},
     "output_type": "execute_result"
    },
    {
     "data": {
      "text/plain": [
       "14"
      ]
     },
     "execution_count": 11,
     "metadata": {},
     "output_type": "execute_result"
    },
    {
     "data": {
      "text/plain": [
       "0"
      ]
     },
     "execution_count": 11,
     "metadata": {},
     "output_type": "execute_result"
    },
    {
     "data": {
      "text/plain": [
       "14"
      ]
     },
     "execution_count": 11,
     "metadata": {},
     "output_type": "execute_result"
    },
    {
     "data": {
      "text/plain": [
       "0"
      ]
     },
     "execution_count": 11,
     "metadata": {},
     "output_type": "execute_result"
    },
    {
     "data": {
      "text/plain": [
       "14"
      ]
     },
     "execution_count": 11,
     "metadata": {},
     "output_type": "execute_result"
    },
    {
     "data": {
      "text/plain": [
       "0"
      ]
     },
     "execution_count": 11,
     "metadata": {},
     "output_type": "execute_result"
    },
    {
     "data": {
      "text/plain": [
       "14"
      ]
     },
     "execution_count": 11,
     "metadata": {},
     "output_type": "execute_result"
    },
    {
     "data": {
      "text/plain": [
       "0"
      ]
     },
     "execution_count": 11,
     "metadata": {},
     "output_type": "execute_result"
    },
    {
     "data": {
      "text/plain": [
       "14"
      ]
     },
     "execution_count": 11,
     "metadata": {},
     "output_type": "execute_result"
    },
    {
     "data": {
      "text/plain": [
       "0"
      ]
     },
     "execution_count": 11,
     "metadata": {},
     "output_type": "execute_result"
    },
    {
     "data": {
      "text/plain": [
       "14"
      ]
     },
     "execution_count": 11,
     "metadata": {},
     "output_type": "execute_result"
    },
    {
     "data": {
      "text/plain": [
       "6"
      ]
     },
     "execution_count": 11,
     "metadata": {},
     "output_type": "execute_result"
    },
    {
     "data": {
      "text/plain": [
       "14"
      ]
     },
     "execution_count": 11,
     "metadata": {},
     "output_type": "execute_result"
    },
    {
     "data": {
      "text/plain": [
       "24"
      ]
     },
     "execution_count": 11,
     "metadata": {},
     "output_type": "execute_result"
    },
    {
     "data": {
      "text/plain": [
       "14"
      ]
     },
     "execution_count": 11,
     "metadata": {},
     "output_type": "execute_result"
    },
    {
     "data": {
      "text/plain": [
       "24"
      ]
     },
     "execution_count": 11,
     "metadata": {},
     "output_type": "execute_result"
    },
    {
     "data": {
      "text/plain": [
       "14"
      ]
     },
     "execution_count": 11,
     "metadata": {},
     "output_type": "execute_result"
    },
    {
     "data": {
      "text/plain": [
       "24"
      ]
     },
     "execution_count": 11,
     "metadata": {},
     "output_type": "execute_result"
    },
    {
     "data": {
      "text/plain": [
       "14"
      ]
     },
     "execution_count": 11,
     "metadata": {},
     "output_type": "execute_result"
    },
    {
     "data": {
      "text/plain": [
       "49"
      ]
     },
     "execution_count": 11,
     "metadata": {},
     "output_type": "execute_result"
    },
    {
     "data": {
      "text/plain": [
       "42"
      ]
     },
     "execution_count": 11,
     "metadata": {},
     "output_type": "execute_result"
    },
    {
     "data": {
      "text/plain": [
       "42"
      ]
     },
     "execution_count": 11,
     "metadata": {},
     "output_type": "execute_result"
    },
    {
     "data": {
      "text/plain": [
       "70"
      ]
     },
     "execution_count": 11,
     "metadata": {},
     "output_type": "execute_result"
    },
    {
     "data": {
      "text/plain": [
       "70"
      ]
     },
     "execution_count": 11,
     "metadata": {},
     "output_type": "execute_result"
    },
    {
     "data": {
      "text/plain": [
       "70"
      ]
     },
     "execution_count": 11,
     "metadata": {},
     "output_type": "execute_result"
    },
    {
     "data": {
      "text/plain": [
       "70"
      ]
     },
     "execution_count": 11,
     "metadata": {},
     "output_type": "execute_result"
    },
    {
     "data": {
      "text/plain": [
       "7"
      ]
     },
     "execution_count": 11,
     "metadata": {},
     "output_type": "execute_result"
    },
    {
     "data": {
      "text/plain": [
       "24"
      ]
     },
     "execution_count": 11,
     "metadata": {},
     "output_type": "execute_result"
    },
    {
     "data": {
      "text/plain": [
       "14"
      ]
     },
     "execution_count": 11,
     "metadata": {},
     "output_type": "execute_result"
    },
    {
     "data": {
      "text/plain": [
       "24"
      ]
     },
     "execution_count": 11,
     "metadata": {},
     "output_type": "execute_result"
    },
    {
     "data": {
      "text/plain": [
       "14"
      ]
     },
     "execution_count": 11,
     "metadata": {},
     "output_type": "execute_result"
    },
    {
     "data": {
      "text/plain": [
       "24"
      ]
     },
     "execution_count": 11,
     "metadata": {},
     "output_type": "execute_result"
    },
    {
     "data": {
      "text/plain": [
       "14"
      ]
     },
     "execution_count": 11,
     "metadata": {},
     "output_type": "execute_result"
    },
    {
     "data": {
      "text/plain": [
       "24"
      ]
     },
     "execution_count": 11,
     "metadata": {},
     "output_type": "execute_result"
    },
    {
     "data": {
      "text/plain": [
       "14"
      ]
     },
     "execution_count": 11,
     "metadata": {},
     "output_type": "execute_result"
    },
    {
     "data": {
      "text/plain": [
       "24"
      ]
     },
     "execution_count": 11,
     "metadata": {},
     "output_type": "execute_result"
    },
    {
     "data": {
      "text/plain": [
       "14"
      ]
     },
     "execution_count": 11,
     "metadata": {},
     "output_type": "execute_result"
    },
    {
     "data": {
      "text/plain": [
       "24"
      ]
     },
     "execution_count": 11,
     "metadata": {},
     "output_type": "execute_result"
    },
    {
     "data": {
      "text/plain": [
       "14"
      ]
     },
     "execution_count": 11,
     "metadata": {},
     "output_type": "execute_result"
    },
    {
     "data": {
      "text/plain": [
       "24"
      ]
     },
     "execution_count": 11,
     "metadata": {},
     "output_type": "execute_result"
    },
    {
     "data": {
      "text/plain": [
       "14"
      ]
     },
     "execution_count": 11,
     "metadata": {},
     "output_type": "execute_result"
    },
    {
     "data": {
      "text/plain": [
       "24"
      ]
     },
     "execution_count": 11,
     "metadata": {},
     "output_type": "execute_result"
    },
    {
     "data": {
      "text/plain": [
       "14"
      ]
     },
     "execution_count": 11,
     "metadata": {},
     "output_type": "execute_result"
    },
    {
     "data": {
      "text/plain": [
       "24"
      ]
     },
     "execution_count": 11,
     "metadata": {},
     "output_type": "execute_result"
    },
    {
     "data": {
      "text/plain": [
       "14"
      ]
     },
     "execution_count": 11,
     "metadata": {},
     "output_type": "execute_result"
    },
    {
     "data": {
      "text/plain": [
       "24"
      ]
     },
     "execution_count": 11,
     "metadata": {},
     "output_type": "execute_result"
    },
    {
     "data": {
      "text/plain": [
       "14"
      ]
     },
     "execution_count": 11,
     "metadata": {},
     "output_type": "execute_result"
    },
    {
     "data": {
      "text/plain": [
       "24"
      ]
     },
     "execution_count": 11,
     "metadata": {},
     "output_type": "execute_result"
    },
    {
     "data": {
      "text/plain": [
       "14"
      ]
     },
     "execution_count": 11,
     "metadata": {},
     "output_type": "execute_result"
    },
    {
     "data": {
      "text/plain": [
       "24"
      ]
     },
     "execution_count": 11,
     "metadata": {},
     "output_type": "execute_result"
    },
    {
     "data": {
      "text/plain": [
       "14"
      ]
     },
     "execution_count": 11,
     "metadata": {},
     "output_type": "execute_result"
    },
    {
     "data": {
      "text/plain": [
       "24"
      ]
     },
     "execution_count": 11,
     "metadata": {},
     "output_type": "execute_result"
    },
    {
     "data": {
      "text/plain": [
       "14"
      ]
     },
     "execution_count": 11,
     "metadata": {},
     "output_type": "execute_result"
    },
    {
     "data": {
      "text/plain": [
       "24"
      ]
     },
     "execution_count": 11,
     "metadata": {},
     "output_type": "execute_result"
    },
    {
     "data": {
      "text/plain": [
       "14"
      ]
     },
     "execution_count": 11,
     "metadata": {},
     "output_type": "execute_result"
    },
    {
     "data": {
      "text/plain": [
       "24"
      ]
     },
     "execution_count": 11,
     "metadata": {},
     "output_type": "execute_result"
    },
    {
     "data": {
      "text/plain": [
       "14"
      ]
     },
     "execution_count": 11,
     "metadata": {},
     "output_type": "execute_result"
    },
    {
     "data": {
      "text/plain": [
       "24"
      ]
     },
     "execution_count": 11,
     "metadata": {},
     "output_type": "execute_result"
    },
    {
     "data": {
      "text/plain": [
       "14"
      ]
     },
     "execution_count": 11,
     "metadata": {},
     "output_type": "execute_result"
    },
    {
     "data": {
      "text/plain": [
       "24"
      ]
     },
     "execution_count": 11,
     "metadata": {},
     "output_type": "execute_result"
    },
    {
     "data": {
      "text/plain": [
       "14"
      ]
     },
     "execution_count": 11,
     "metadata": {},
     "output_type": "execute_result"
    },
    {
     "data": {
      "text/plain": [
       "24"
      ]
     },
     "execution_count": 11,
     "metadata": {},
     "output_type": "execute_result"
    },
    {
     "data": {
      "text/plain": [
       "14"
      ]
     },
     "execution_count": 11,
     "metadata": {},
     "output_type": "execute_result"
    },
    {
     "data": {
      "text/plain": [
       "24"
      ]
     },
     "execution_count": 11,
     "metadata": {},
     "output_type": "execute_result"
    },
    {
     "data": {
      "text/plain": [
       "14"
      ]
     },
     "execution_count": 11,
     "metadata": {},
     "output_type": "execute_result"
    },
    {
     "data": {
      "text/plain": [
       "24"
      ]
     },
     "execution_count": 11,
     "metadata": {},
     "output_type": "execute_result"
    },
    {
     "data": {
      "text/plain": [
       "14"
      ]
     },
     "execution_count": 11,
     "metadata": {},
     "output_type": "execute_result"
    },
    {
     "data": {
      "text/plain": [
       "24"
      ]
     },
     "execution_count": 11,
     "metadata": {},
     "output_type": "execute_result"
    },
    {
     "data": {
      "text/plain": [
       "14"
      ]
     },
     "execution_count": 11,
     "metadata": {},
     "output_type": "execute_result"
    },
    {
     "data": {
      "text/plain": [
       "24"
      ]
     },
     "execution_count": 11,
     "metadata": {},
     "output_type": "execute_result"
    },
    {
     "data": {
      "text/plain": [
       "14"
      ]
     },
     "execution_count": 11,
     "metadata": {},
     "output_type": "execute_result"
    },
    {
     "data": {
      "text/plain": [
       "0"
      ]
     },
     "execution_count": 11,
     "metadata": {},
     "output_type": "execute_result"
    },
    {
     "data": {
      "text/plain": [
       "14"
      ]
     },
     "execution_count": 11,
     "metadata": {},
     "output_type": "execute_result"
    },
    {
     "data": {
      "text/plain": [
       "0"
      ]
     },
     "execution_count": 11,
     "metadata": {},
     "output_type": "execute_result"
    },
    {
     "data": {
      "text/plain": [
       "14"
      ]
     },
     "execution_count": 11,
     "metadata": {},
     "output_type": "execute_result"
    },
    {
     "data": {
      "text/plain": [
       "6"
      ]
     },
     "execution_count": 11,
     "metadata": {},
     "output_type": "execute_result"
    },
    {
     "data": {
      "text/plain": [
       "14"
      ]
     },
     "execution_count": 11,
     "metadata": {},
     "output_type": "execute_result"
    },
    {
     "data": {
      "text/plain": [
       "15"
      ]
     },
     "execution_count": 11,
     "metadata": {},
     "output_type": "execute_result"
    },
    {
     "data": {
      "text/plain": [
       "14"
      ]
     },
     "execution_count": 11,
     "metadata": {},
     "output_type": "execute_result"
    },
    {
     "data": {
      "text/plain": [
       "0"
      ]
     },
     "execution_count": 11,
     "metadata": {},
     "output_type": "execute_result"
    },
    {
     "data": {
      "text/plain": [
       "14"
      ]
     },
     "execution_count": 11,
     "metadata": {},
     "output_type": "execute_result"
    },
    {
     "data": {
      "text/plain": [
       "0"
      ]
     },
     "execution_count": 11,
     "metadata": {},
     "output_type": "execute_result"
    },
    {
     "data": {
      "text/plain": [
       "14"
      ]
     },
     "execution_count": 11,
     "metadata": {},
     "output_type": "execute_result"
    },
    {
     "data": {
      "text/plain": [
       "0"
      ]
     },
     "execution_count": 11,
     "metadata": {},
     "output_type": "execute_result"
    },
    {
     "data": {
      "text/plain": [
       "14"
      ]
     },
     "execution_count": 11,
     "metadata": {},
     "output_type": "execute_result"
    },
    {
     "data": {
      "text/plain": [
       "0"
      ]
     },
     "execution_count": 11,
     "metadata": {},
     "output_type": "execute_result"
    },
    {
     "data": {
      "text/plain": [
       "14"
      ]
     },
     "execution_count": 11,
     "metadata": {},
     "output_type": "execute_result"
    },
    {
     "data": {
      "text/plain": [
       "0"
      ]
     },
     "execution_count": 11,
     "metadata": {},
     "output_type": "execute_result"
    },
    {
     "data": {
      "text/plain": [
       "14"
      ]
     },
     "execution_count": 11,
     "metadata": {},
     "output_type": "execute_result"
    },
    {
     "data": {
      "text/plain": [
       "0"
      ]
     },
     "execution_count": 11,
     "metadata": {},
     "output_type": "execute_result"
    },
    {
     "data": {
      "text/plain": [
       "14"
      ]
     },
     "execution_count": 11,
     "metadata": {},
     "output_type": "execute_result"
    },
    {
     "data": {
      "text/plain": [
       "0"
      ]
     },
     "execution_count": 11,
     "metadata": {},
     "output_type": "execute_result"
    },
    {
     "data": {
      "text/plain": [
       "14"
      ]
     },
     "execution_count": 11,
     "metadata": {},
     "output_type": "execute_result"
    },
    {
     "data": {
      "text/plain": [
       "0"
      ]
     },
     "execution_count": 11,
     "metadata": {},
     "output_type": "execute_result"
    },
    {
     "data": {
      "text/plain": [
       "14"
      ]
     },
     "execution_count": 11,
     "metadata": {},
     "output_type": "execute_result"
    },
    {
     "data": {
      "text/plain": [
       "6"
      ]
     },
     "execution_count": 11,
     "metadata": {},
     "output_type": "execute_result"
    },
    {
     "data": {
      "text/plain": [
       "14"
      ]
     },
     "execution_count": 11,
     "metadata": {},
     "output_type": "execute_result"
    },
    {
     "data": {
      "text/plain": [
       "24"
      ]
     },
     "execution_count": 11,
     "metadata": {},
     "output_type": "execute_result"
    },
    {
     "data": {
      "text/plain": [
       "14"
      ]
     },
     "execution_count": 11,
     "metadata": {},
     "output_type": "execute_result"
    },
    {
     "data": {
      "text/plain": [
       "24"
      ]
     },
     "execution_count": 11,
     "metadata": {},
     "output_type": "execute_result"
    },
    {
     "data": {
      "text/plain": [
       "14"
      ]
     },
     "execution_count": 11,
     "metadata": {},
     "output_type": "execute_result"
    },
    {
     "data": {
      "text/plain": [
       "24"
      ]
     },
     "execution_count": 11,
     "metadata": {},
     "output_type": "execute_result"
    },
    {
     "data": {
      "text/plain": [
       "14"
      ]
     },
     "execution_count": 11,
     "metadata": {},
     "output_type": "execute_result"
    },
    {
     "data": {
      "text/plain": [
       "49"
      ]
     },
     "execution_count": 11,
     "metadata": {},
     "output_type": "execute_result"
    },
    {
     "data": {
      "text/plain": [
       "42"
      ]
     },
     "execution_count": 11,
     "metadata": {},
     "output_type": "execute_result"
    },
    {
     "data": {
      "text/plain": [
       "42"
      ]
     },
     "execution_count": 11,
     "metadata": {},
     "output_type": "execute_result"
    },
    {
     "data": {
      "text/plain": [
       "70"
      ]
     },
     "execution_count": 11,
     "metadata": {},
     "output_type": "execute_result"
    },
    {
     "data": {
      "text/plain": [
       "70"
      ]
     },
     "execution_count": 11,
     "metadata": {},
     "output_type": "execute_result"
    },
    {
     "data": {
      "text/plain": [
       "70"
      ]
     },
     "execution_count": 11,
     "metadata": {},
     "output_type": "execute_result"
    },
    {
     "data": {
      "text/plain": [
       "70"
      ]
     },
     "execution_count": 11,
     "metadata": {},
     "output_type": "execute_result"
    },
    {
     "data": {
      "text/plain": [
       "7"
      ]
     },
     "execution_count": 11,
     "metadata": {},
     "output_type": "execute_result"
    },
    {
     "data": {
      "text/plain": [
       "24"
      ]
     },
     "execution_count": 11,
     "metadata": {},
     "output_type": "execute_result"
    },
    {
     "data": {
      "text/plain": [
       "14"
      ]
     },
     "execution_count": 11,
     "metadata": {},
     "output_type": "execute_result"
    },
    {
     "data": {
      "text/plain": [
       "24"
      ]
     },
     "execution_count": 11,
     "metadata": {},
     "output_type": "execute_result"
    },
    {
     "data": {
      "text/plain": [
       "14"
      ]
     },
     "execution_count": 11,
     "metadata": {},
     "output_type": "execute_result"
    },
    {
     "data": {
      "text/plain": [
       "24"
      ]
     },
     "execution_count": 11,
     "metadata": {},
     "output_type": "execute_result"
    },
    {
     "data": {
      "text/plain": [
       "14"
      ]
     },
     "execution_count": 11,
     "metadata": {},
     "output_type": "execute_result"
    },
    {
     "data": {
      "text/plain": [
       "24"
      ]
     },
     "execution_count": 11,
     "metadata": {},
     "output_type": "execute_result"
    },
    {
     "data": {
      "text/plain": [
       "14"
      ]
     },
     "execution_count": 11,
     "metadata": {},
     "output_type": "execute_result"
    },
    {
     "data": {
      "text/plain": [
       "24"
      ]
     },
     "execution_count": 11,
     "metadata": {},
     "output_type": "execute_result"
    },
    {
     "data": {
      "text/plain": [
       "14"
      ]
     },
     "execution_count": 11,
     "metadata": {},
     "output_type": "execute_result"
    },
    {
     "data": {
      "text/plain": [
       "24"
      ]
     },
     "execution_count": 11,
     "metadata": {},
     "output_type": "execute_result"
    },
    {
     "data": {
      "text/plain": [
       "14"
      ]
     },
     "execution_count": 11,
     "metadata": {},
     "output_type": "execute_result"
    },
    {
     "data": {
      "text/plain": [
       "24"
      ]
     },
     "execution_count": 11,
     "metadata": {},
     "output_type": "execute_result"
    },
    {
     "data": {
      "text/plain": [
       "14"
      ]
     },
     "execution_count": 11,
     "metadata": {},
     "output_type": "execute_result"
    },
    {
     "data": {
      "text/plain": [
       "24"
      ]
     },
     "execution_count": 11,
     "metadata": {},
     "output_type": "execute_result"
    },
    {
     "data": {
      "text/plain": [
       "14"
      ]
     },
     "execution_count": 11,
     "metadata": {},
     "output_type": "execute_result"
    },
    {
     "data": {
      "text/plain": [
       "24"
      ]
     },
     "execution_count": 11,
     "metadata": {},
     "output_type": "execute_result"
    },
    {
     "data": {
      "text/plain": [
       "14"
      ]
     },
     "execution_count": 11,
     "metadata": {},
     "output_type": "execute_result"
    },
    {
     "data": {
      "text/plain": [
       "24"
      ]
     },
     "execution_count": 11,
     "metadata": {},
     "output_type": "execute_result"
    },
    {
     "data": {
      "text/plain": [
       "14"
      ]
     },
     "execution_count": 11,
     "metadata": {},
     "output_type": "execute_result"
    },
    {
     "data": {
      "text/plain": [
       "24"
      ]
     },
     "execution_count": 11,
     "metadata": {},
     "output_type": "execute_result"
    },
    {
     "data": {
      "text/plain": [
       "14"
      ]
     },
     "execution_count": 11,
     "metadata": {},
     "output_type": "execute_result"
    },
    {
     "data": {
      "text/plain": [
       "24"
      ]
     },
     "execution_count": 11,
     "metadata": {},
     "output_type": "execute_result"
    },
    {
     "data": {
      "text/plain": [
       "14"
      ]
     },
     "execution_count": 11,
     "metadata": {},
     "output_type": "execute_result"
    },
    {
     "data": {
      "text/plain": [
       "24"
      ]
     },
     "execution_count": 11,
     "metadata": {},
     "output_type": "execute_result"
    },
    {
     "data": {
      "text/plain": [
       "14"
      ]
     },
     "execution_count": 11,
     "metadata": {},
     "output_type": "execute_result"
    },
    {
     "data": {
      "text/plain": [
       "24"
      ]
     },
     "execution_count": 11,
     "metadata": {},
     "output_type": "execute_result"
    },
    {
     "data": {
      "text/plain": [
       "14"
      ]
     },
     "execution_count": 11,
     "metadata": {},
     "output_type": "execute_result"
    },
    {
     "data": {
      "text/plain": [
       "24"
      ]
     },
     "execution_count": 11,
     "metadata": {},
     "output_type": "execute_result"
    },
    {
     "data": {
      "text/plain": [
       "14"
      ]
     },
     "execution_count": 11,
     "metadata": {},
     "output_type": "execute_result"
    },
    {
     "data": {
      "text/plain": [
       "24"
      ]
     },
     "execution_count": 11,
     "metadata": {},
     "output_type": "execute_result"
    },
    {
     "data": {
      "text/plain": [
       "14"
      ]
     },
     "execution_count": 11,
     "metadata": {},
     "output_type": "execute_result"
    },
    {
     "data": {
      "text/plain": [
       "24"
      ]
     },
     "execution_count": 11,
     "metadata": {},
     "output_type": "execute_result"
    },
    {
     "data": {
      "text/plain": [
       "14"
      ]
     },
     "execution_count": 11,
     "metadata": {},
     "output_type": "execute_result"
    },
    {
     "data": {
      "text/plain": [
       "24"
      ]
     },
     "execution_count": 11,
     "metadata": {},
     "output_type": "execute_result"
    },
    {
     "data": {
      "text/plain": [
       "14"
      ]
     },
     "execution_count": 11,
     "metadata": {},
     "output_type": "execute_result"
    },
    {
     "data": {
      "text/plain": [
       "24"
      ]
     },
     "execution_count": 11,
     "metadata": {},
     "output_type": "execute_result"
    },
    {
     "data": {
      "text/plain": [
       "14"
      ]
     },
     "execution_count": 11,
     "metadata": {},
     "output_type": "execute_result"
    },
    {
     "data": {
      "text/plain": [
       "24"
      ]
     },
     "execution_count": 11,
     "metadata": {},
     "output_type": "execute_result"
    },
    {
     "data": {
      "text/plain": [
       "14"
      ]
     },
     "execution_count": 11,
     "metadata": {},
     "output_type": "execute_result"
    },
    {
     "data": {
      "text/plain": [
       "24"
      ]
     },
     "execution_count": 11,
     "metadata": {},
     "output_type": "execute_result"
    },
    {
     "data": {
      "text/plain": [
       "14"
      ]
     },
     "execution_count": 11,
     "metadata": {},
     "output_type": "execute_result"
    },
    {
     "data": {
      "text/plain": [
       "24"
      ]
     },
     "execution_count": 11,
     "metadata": {},
     "output_type": "execute_result"
    },
    {
     "data": {
      "text/plain": [
       "14"
      ]
     },
     "execution_count": 11,
     "metadata": {},
     "output_type": "execute_result"
    },
    {
     "data": {
      "text/plain": [
       "0"
      ]
     },
     "execution_count": 11,
     "metadata": {},
     "output_type": "execute_result"
    },
    {
     "data": {
      "text/plain": [
       "14"
      ]
     },
     "execution_count": 11,
     "metadata": {},
     "output_type": "execute_result"
    },
    {
     "data": {
      "text/plain": [
       "0"
      ]
     },
     "execution_count": 11,
     "metadata": {},
     "output_type": "execute_result"
    },
    {
     "data": {
      "text/plain": [
       "14"
      ]
     },
     "execution_count": 11,
     "metadata": {},
     "output_type": "execute_result"
    },
    {
     "data": {
      "text/plain": [
       "6"
      ]
     },
     "execution_count": 11,
     "metadata": {},
     "output_type": "execute_result"
    },
    {
     "data": {
      "text/plain": [
       "14"
      ]
     },
     "execution_count": 11,
     "metadata": {},
     "output_type": "execute_result"
    },
    {
     "data": {
      "text/plain": [
       "15"
      ]
     },
     "execution_count": 11,
     "metadata": {},
     "output_type": "execute_result"
    },
    {
     "data": {
      "text/plain": [
       "14"
      ]
     },
     "execution_count": 11,
     "metadata": {},
     "output_type": "execute_result"
    },
    {
     "data": {
      "text/plain": [
       "0"
      ]
     },
     "execution_count": 11,
     "metadata": {},
     "output_type": "execute_result"
    },
    {
     "data": {
      "text/plain": [
       "14"
      ]
     },
     "execution_count": 11,
     "metadata": {},
     "output_type": "execute_result"
    },
    {
     "data": {
      "text/plain": [
       "0"
      ]
     },
     "execution_count": 11,
     "metadata": {},
     "output_type": "execute_result"
    },
    {
     "data": {
      "text/plain": [
       "14"
      ]
     },
     "execution_count": 11,
     "metadata": {},
     "output_type": "execute_result"
    },
    {
     "data": {
      "text/plain": [
       "0"
      ]
     },
     "execution_count": 11,
     "metadata": {},
     "output_type": "execute_result"
    },
    {
     "data": {
      "text/plain": [
       "14"
      ]
     },
     "execution_count": 11,
     "metadata": {},
     "output_type": "execute_result"
    },
    {
     "data": {
      "text/plain": [
       "0"
      ]
     },
     "execution_count": 11,
     "metadata": {},
     "output_type": "execute_result"
    },
    {
     "data": {
      "text/plain": [
       "14"
      ]
     },
     "execution_count": 11,
     "metadata": {},
     "output_type": "execute_result"
    },
    {
     "data": {
      "text/plain": [
       "0"
      ]
     },
     "execution_count": 11,
     "metadata": {},
     "output_type": "execute_result"
    },
    {
     "data": {
      "text/plain": [
       "14"
      ]
     },
     "execution_count": 11,
     "metadata": {},
     "output_type": "execute_result"
    },
    {
     "data": {
      "text/plain": [
       "0"
      ]
     },
     "execution_count": 11,
     "metadata": {},
     "output_type": "execute_result"
    },
    {
     "data": {
      "text/plain": [
       "14"
      ]
     },
     "execution_count": 11,
     "metadata": {},
     "output_type": "execute_result"
    },
    {
     "data": {
      "text/plain": [
       "0"
      ]
     },
     "execution_count": 11,
     "metadata": {},
     "output_type": "execute_result"
    },
    {
     "data": {
      "text/plain": [
       "14"
      ]
     },
     "execution_count": 11,
     "metadata": {},
     "output_type": "execute_result"
    },
    {
     "data": {
      "text/plain": [
       "0"
      ]
     },
     "execution_count": 11,
     "metadata": {},
     "output_type": "execute_result"
    },
    {
     "data": {
      "text/plain": [
       "14"
      ]
     },
     "execution_count": 11,
     "metadata": {},
     "output_type": "execute_result"
    },
    {
     "data": {
      "text/plain": [
       "6"
      ]
     },
     "execution_count": 11,
     "metadata": {},
     "output_type": "execute_result"
    },
    {
     "data": {
      "text/plain": [
       "14"
      ]
     },
     "execution_count": 11,
     "metadata": {},
     "output_type": "execute_result"
    },
    {
     "data": {
      "text/plain": [
       "24"
      ]
     },
     "execution_count": 11,
     "metadata": {},
     "output_type": "execute_result"
    },
    {
     "data": {
      "text/plain": [
       "14"
      ]
     },
     "execution_count": 11,
     "metadata": {},
     "output_type": "execute_result"
    },
    {
     "data": {
      "text/plain": [
       "24"
      ]
     },
     "execution_count": 11,
     "metadata": {},
     "output_type": "execute_result"
    },
    {
     "data": {
      "text/plain": [
       "14"
      ]
     },
     "execution_count": 11,
     "metadata": {},
     "output_type": "execute_result"
    },
    {
     "data": {
      "text/plain": [
       "24"
      ]
     },
     "execution_count": 11,
     "metadata": {},
     "output_type": "execute_result"
    },
    {
     "data": {
      "text/plain": [
       "14"
      ]
     },
     "execution_count": 11,
     "metadata": {},
     "output_type": "execute_result"
    },
    {
     "data": {
      "text/plain": [
       "49"
      ]
     },
     "execution_count": 11,
     "metadata": {},
     "output_type": "execute_result"
    },
    {
     "data": {
      "text/plain": [
       "42"
      ]
     },
     "execution_count": 11,
     "metadata": {},
     "output_type": "execute_result"
    },
    {
     "data": {
      "text/plain": [
       "42"
      ]
     },
     "execution_count": 11,
     "metadata": {},
     "output_type": "execute_result"
    },
    {
     "data": {
      "text/plain": [
       "70"
      ]
     },
     "execution_count": 11,
     "metadata": {},
     "output_type": "execute_result"
    },
    {
     "data": {
      "text/plain": [
       "70"
      ]
     },
     "execution_count": 11,
     "metadata": {},
     "output_type": "execute_result"
    },
    {
     "data": {
      "text/plain": [
       "70"
      ]
     },
     "execution_count": 11,
     "metadata": {},
     "output_type": "execute_result"
    },
    {
     "data": {
      "text/plain": [
       "70"
      ]
     },
     "execution_count": 11,
     "metadata": {},
     "output_type": "execute_result"
    },
    {
     "data": {
      "text/plain": [
       "7"
      ]
     },
     "execution_count": 11,
     "metadata": {},
     "output_type": "execute_result"
    }
   ],
   "source": [
    "for k in range(0, 5):\n",
    "#     tmp_tr = kflod[kflod.kflod == k]\n",
    "    tmp_tr = test\n",
    "    tmp_his = kflod[kflod.kflod != k]\n",
    "    \n",
    "#     tmp_tr = tmp_tr.merge(train, on=['aid', 'uid'], how='left')\n",
    "    tmp_tr = tmp_tr.merge(user, on=['uid'], how='left')\n",
    "    tmp_tr.LBS = tmp_tr.LBS.fillna(tmp_tr.LBS.mean())\n",
    "    tmp_tr.house = tmp_tr.house.fillna(0)\n",
    "    \n",
    "    tmp_his = tmp_his.merge(train, on=['aid', 'uid'], how='left')\n",
    "    tmp_his = tmp_his.merge(user[single_col + ['uid']], on=['uid'], how='left')\n",
    "    tmp_his.LBS = tmp_his.LBS.fillna(tmp_his.LBS.mean())\n",
    "    tmp_his.house = tmp_his.house.fillna(0)\n",
    "    tmp_his_pos = tmp_his[tmp_his.label == 1]\n",
    "    \n",
    "    for i in split_col:\n",
    "        tmp_tr[i] = tmp_tr[i].apply(spl_col)\n",
    "    \n",
    "    li = list(range(0 ,5))\n",
    "    li.remove(k)\n",
    "    \n",
    "    for i in split_col:\n",
    "        for ti in li:\n",
    "            locals()['tmp_dict' + str(li.index(ti) + 1)] = load_obj(str(i + '_dict_' + str(ti)))\n",
    "        tmp_dict = Counter(tmp_dict1) + Counter(tmp_dict2) + Counter(tmp_dict3) + Counter(tmp_dict4)\n",
    "        tmp_dict = dict(tmp_dict)\n",
    "        \n",
    "        for ti in li:\n",
    "            locals()['tmp_dict' + str(li.index(ti) + 1)] = load_obj(str(i + '_pos_dict_' + str(ti)))\n",
    "        tmp_pos_dict = Counter(tmp_dict1) + Counter(tmp_dict2) + Counter(tmp_dict3) + Counter(tmp_dict4)\n",
    "        tmp_pos_dict = dict(tmp_pos_dict)\n",
    "        \n",
    "        del tmp_dict1\n",
    "        del tmp_dict2\n",
    "        del tmp_dict3\n",
    "        del tmp_dict4\n",
    "        gc.collect()\n",
    "        \n",
    "        tmp_list1 = list(np.zeros(tmp_tr.shape[0]))\n",
    "        tmp_list2 = list(np.zeros(tmp_tr.shape[0]))\n",
    "        for kk in range(0, tmp_tr.shape[0]):\n",
    "            if type(tmp_tr[i][kk]) == list:\n",
    "                for j in tmp_tr[i][kk]:\n",
    "                    if j in tmp_dict.keys():\n",
    "                        tmp_list1[kk] = tmp_list1[kk] + tmp_dict[j]\n",
    "                    if j in tmp_pos_dict.keys():\n",
    "                        tmp_list2[kk] = tmp_list2[kk] + tmp_pos_dict[j]\n",
    "        tmp_tr[str(i + '_split_count_score')] = tmp_list1\n",
    "        tmp_tr[str(i + '_split_pos_count_score')] = tmp_list2\n",
    "        \n",
    "        del tmp_dict\n",
    "        del tmp_pos_dict\n",
    "        del tmp_list1\n",
    "        del tmp_list2\n",
    "        gc.collect()\n",
    "        \n",
    "    for i in feature_col:\n",
    "        for ti in li:\n",
    "            locals()['tmp_dict' + str(li.index(ti) + 1)] = load_obj(str(i + '_full_dict_' + str(ti)))\n",
    "        tmp_dict = Counter(tmp_dict1) + Counter(tmp_dict2) + Counter(tmp_dict3) + Counter(tmp_dict4)\n",
    "        tmp_dict = dict(tmp_dict)\n",
    "        \n",
    "        for ti in li:\n",
    "            locals()['tmp_dict' + str(li.index(ti) + 1)] = load_obj(str(i + '_full_pos_dict_' + str(ti)))\n",
    "        tmp_pos_dict = Counter(tmp_dict1) + Counter(tmp_dict2) + Counter(tmp_dict3) + Counter(tmp_dict4)\n",
    "        tmp_pos_dict = dict(tmp_pos_dict)\n",
    "        \n",
    "        del tmp_dict1\n",
    "        del tmp_dict2\n",
    "        del tmp_dict3\n",
    "        del tmp_dict4\n",
    "        gc.collect()\n",
    "        \n",
    "        tmp_list1 = list(np.zeros(tmp_tr.shape[0]))\n",
    "        tmp_list2 = list(np.zeros(tmp_tr.shape[0]))\n",
    "        for kk in range(0, tmp_tr.shape[0]):\n",
    "            if type(tmp_tr[i][kk]) == list:\n",
    "                if tuple(tmp_tr[i][kk]) in tmp_dict.keys():\n",
    "                    tmp_list1[kk] = tmp_list1[kk] + tmp_dict[tuple(tmp_tr[i][kk])]\n",
    "                if tuple(tmp_tr[i][kk]) in tmp_pos_dict.keys():\n",
    "                    tmp_list2[kk] = tmp_list2[kk] + tmp_pos_dict[tuple(tmp_tr[i][kk])]\n",
    "            elif (type(tmp_tr[i][kk]) == np.int64) | (type(tmp_tr[i][kk]) == np.float64):\n",
    "                if tmp_tr[i][kk] in tmp_dict.keys():\n",
    "                    tmp_list1[kk] = tmp_list1[kk] + tmp_dict[tmp_tr[i][kk]]\n",
    "                if tmp_tr[i][kk] in tmp_pos_dict.keys():\n",
    "                    tmp_list2[kk] = tmp_list2[kk] + tmp_pos_dict[tmp_tr[i][kk]]\n",
    "        tmp_tr[str(i + '_feature_count_score')] = tmp_list1\n",
    "        tmp_tr[str(i + '_feature_pos_count_score')] = tmp_list2\n",
    "        \n",
    "        del tmp_dict\n",
    "        del tmp_pos_dict\n",
    "        del tmp_list1\n",
    "        del tmp_list2\n",
    "        gc.collect()\n",
    "        \n",
    "    for i in single_col:\n",
    "        locals()[str(i + '_feature')] = tmp_his.groupby(\n",
    "            ['aid'], as_index=False)[i].agg({\n",
    "                str(i + '_max'):\n",
    "                'max',\n",
    "                str(i + '_min'):\n",
    "                'min',\n",
    "                str(i + '_mean'):\n",
    "                'mean',\n",
    "                str(i + '_std'):\n",
    "                'std'\n",
    "            })\n",
    "        locals()[str(i + '_pos_feature')] = tmp_his_pos.groupby(\n",
    "            ['aid'], as_index=False)[i].agg({\n",
    "                str(i + '_pos_max'):\n",
    "                'max',\n",
    "                str(i + '_pos_min'):\n",
    "                'min',\n",
    "                str(i + '_pos_mean'):\n",
    "                'mean',\n",
    "                str(i + '_pos_std'):\n",
    "                'std'\n",
    "            })\n",
    "        tmp_tr = tmp_tr.merge(locals()[str(i + '_feature')], on=['aid'], how='left')\n",
    "        tmp_tr = tmp_tr.merge(locals()[str(i + '_pos_feature')], on=['aid'], how='left')\n",
    "        tmp_tr[str(i + '_mean_sub')] = abs(tmp_tr[i] - tmp_tr[str(i + '_mean')])\n",
    "        tmp_tr[str(i + '_mean_pos_sub')] = abs(tmp_tr[i] - tmp_tr[str(i + '_pos_mean')])\n",
    "        del locals()[str(i + '_feature')]\n",
    "        del locals()[str(i + '_pos_feature')]\n",
    "        gc.collect()\n",
    "        \n",
    "    tmp_tr.to_csv('test_kflod' + str(k), index=None)\n",
    "    del tmp_tr\n",
    "    del tmp_his\n",
    "    del tmp_his_pos\n",
    "    gc.collect()"
   ]
  },
  {
   "cell_type": "markdown",
   "metadata": {},
   "source": [
    "# test"
   ]
  },
  {
   "cell_type": "code",
   "execution_count": 24,
   "metadata": {},
   "outputs": [
    {
     "data": {
      "text/plain": [
       "(2265989, 4)"
      ]
     },
     "execution_count": 24,
     "metadata": {},
     "output_type": "execute_result"
    },
    {
     "data": {
      "text/html": [
       "<div>\n",
       "<style>\n",
       "    .dataframe thead tr:only-child th {\n",
       "        text-align: right;\n",
       "    }\n",
       "\n",
       "    .dataframe thead th {\n",
       "        text-align: left;\n",
       "    }\n",
       "\n",
       "    .dataframe tbody tr th {\n",
       "        vertical-align: top;\n",
       "    }\n",
       "</style>\n",
       "<table border=\"1\" class=\"dataframe\">\n",
       "  <thead>\n",
       "    <tr style=\"text-align: right;\">\n",
       "      <th></th>\n",
       "      <th>aid</th>\n",
       "      <th>uid</th>\n",
       "      <th>label</th>\n",
       "      <th>is_his</th>\n",
       "    </tr>\n",
       "  </thead>\n",
       "  <tbody>\n",
       "    <tr>\n",
       "      <th>0</th>\n",
       "      <td>2118</td>\n",
       "      <td>64355836</td>\n",
       "      <td>-99</td>\n",
       "      <td>-99.0</td>\n",
       "    </tr>\n",
       "    <tr>\n",
       "      <th>1</th>\n",
       "      <td>692</td>\n",
       "      <td>45051997</td>\n",
       "      <td>-99</td>\n",
       "      <td>-99.0</td>\n",
       "    </tr>\n",
       "    <tr>\n",
       "      <th>2</th>\n",
       "      <td>692</td>\n",
       "      <td>10869198</td>\n",
       "      <td>-99</td>\n",
       "      <td>-99.0</td>\n",
       "    </tr>\n",
       "    <tr>\n",
       "      <th>3</th>\n",
       "      <td>1918</td>\n",
       "      <td>75929554</td>\n",
       "      <td>-99</td>\n",
       "      <td>-99.0</td>\n",
       "    </tr>\n",
       "    <tr>\n",
       "      <th>4</th>\n",
       "      <td>1596</td>\n",
       "      <td>5790162</td>\n",
       "      <td>-99</td>\n",
       "      <td>-99.0</td>\n",
       "    </tr>\n",
       "  </tbody>\n",
       "</table>\n",
       "</div>"
      ],
      "text/plain": [
       "    aid       uid  label  is_his\n",
       "0  2118  64355836    -99   -99.0\n",
       "1   692  45051997    -99   -99.0\n",
       "2   692  10869198    -99   -99.0\n",
       "3  1918  75929554    -99   -99.0\n",
       "4  1596   5790162    -99   -99.0"
      ]
     },
     "execution_count": 24,
     "metadata": {},
     "output_type": "execute_result"
    }
   ],
   "source": [
    "test = df[df.label == -99]\n",
    "test.reset_index(drop=True, inplace=True)\n",
    "\n",
    "test.shape\n",
    "test.head()"
   ]
  },
  {
   "cell_type": "code",
   "execution_count": 31,
   "metadata": {
    "collapsed": true
   },
   "outputs": [
    {
     "data": {
      "text/plain": [
       "4739"
      ]
     },
     "execution_count": 31,
     "metadata": {},
     "output_type": "execute_result"
    },
    {
     "data": {
      "text/plain": [
       "14"
      ]
     },
     "execution_count": 31,
     "metadata": {},
     "output_type": "execute_result"
    },
    {
     "data": {
      "text/plain": [
       "30"
      ]
     },
     "execution_count": 31,
     "metadata": {},
     "output_type": "execute_result"
    },
    {
     "data": {
      "text/plain": [
       "14"
      ]
     },
     "execution_count": 31,
     "metadata": {},
     "output_type": "execute_result"
    },
    {
     "data": {
      "text/plain": [
       "30"
      ]
     },
     "execution_count": 31,
     "metadata": {},
     "output_type": "execute_result"
    },
    {
     "data": {
      "text/plain": [
       "14"
      ]
     },
     "execution_count": 31,
     "metadata": {},
     "output_type": "execute_result"
    },
    {
     "data": {
      "text/plain": [
       "30"
      ]
     },
     "execution_count": 31,
     "metadata": {},
     "output_type": "execute_result"
    },
    {
     "data": {
      "text/plain": [
       "14"
      ]
     },
     "execution_count": 31,
     "metadata": {},
     "output_type": "execute_result"
    },
    {
     "data": {
      "text/plain": [
       "30"
      ]
     },
     "execution_count": 31,
     "metadata": {},
     "output_type": "execute_result"
    },
    {
     "data": {
      "text/plain": [
       "14"
      ]
     },
     "execution_count": 31,
     "metadata": {},
     "output_type": "execute_result"
    },
    {
     "data": {
      "text/plain": [
       "30"
      ]
     },
     "execution_count": 31,
     "metadata": {},
     "output_type": "execute_result"
    },
    {
     "data": {
      "text/plain": [
       "14"
      ]
     },
     "execution_count": 31,
     "metadata": {},
     "output_type": "execute_result"
    },
    {
     "data": {
      "text/plain": [
       "30"
      ]
     },
     "execution_count": 31,
     "metadata": {},
     "output_type": "execute_result"
    },
    {
     "data": {
      "text/plain": [
       "14"
      ]
     },
     "execution_count": 31,
     "metadata": {},
     "output_type": "execute_result"
    },
    {
     "data": {
      "text/plain": [
       "30"
      ]
     },
     "execution_count": 31,
     "metadata": {},
     "output_type": "execute_result"
    },
    {
     "data": {
      "text/plain": [
       "14"
      ]
     },
     "execution_count": 31,
     "metadata": {},
     "output_type": "execute_result"
    },
    {
     "data": {
      "text/plain": [
       "30"
      ]
     },
     "execution_count": 31,
     "metadata": {},
     "output_type": "execute_result"
    },
    {
     "data": {
      "text/plain": [
       "14"
      ]
     },
     "execution_count": 31,
     "metadata": {},
     "output_type": "execute_result"
    },
    {
     "data": {
      "text/plain": [
       "30"
      ]
     },
     "execution_count": 31,
     "metadata": {},
     "output_type": "execute_result"
    },
    {
     "data": {
      "text/plain": [
       "14"
      ]
     },
     "execution_count": 31,
     "metadata": {},
     "output_type": "execute_result"
    },
    {
     "data": {
      "text/plain": [
       "30"
      ]
     },
     "execution_count": 31,
     "metadata": {},
     "output_type": "execute_result"
    },
    {
     "data": {
      "text/plain": [
       "14"
      ]
     },
     "execution_count": 31,
     "metadata": {},
     "output_type": "execute_result"
    },
    {
     "data": {
      "text/plain": [
       "30"
      ]
     },
     "execution_count": 31,
     "metadata": {},
     "output_type": "execute_result"
    },
    {
     "data": {
      "text/plain": [
       "14"
      ]
     },
     "execution_count": 31,
     "metadata": {},
     "output_type": "execute_result"
    },
    {
     "data": {
      "text/plain": [
       "30"
      ]
     },
     "execution_count": 31,
     "metadata": {},
     "output_type": "execute_result"
    },
    {
     "data": {
      "text/plain": [
       "14"
      ]
     },
     "execution_count": 31,
     "metadata": {},
     "output_type": "execute_result"
    },
    {
     "data": {
      "text/plain": [
       "30"
      ]
     },
     "execution_count": 31,
     "metadata": {},
     "output_type": "execute_result"
    },
    {
     "data": {
      "text/plain": [
       "14"
      ]
     },
     "execution_count": 31,
     "metadata": {},
     "output_type": "execute_result"
    },
    {
     "data": {
      "text/plain": [
       "30"
      ]
     },
     "execution_count": 31,
     "metadata": {},
     "output_type": "execute_result"
    },
    {
     "data": {
      "text/plain": [
       "14"
      ]
     },
     "execution_count": 31,
     "metadata": {},
     "output_type": "execute_result"
    },
    {
     "data": {
      "text/plain": [
       "30"
      ]
     },
     "execution_count": 31,
     "metadata": {},
     "output_type": "execute_result"
    },
    {
     "data": {
      "text/plain": [
       "14"
      ]
     },
     "execution_count": 31,
     "metadata": {},
     "output_type": "execute_result"
    },
    {
     "data": {
      "text/plain": [
       "30"
      ]
     },
     "execution_count": 31,
     "metadata": {},
     "output_type": "execute_result"
    },
    {
     "data": {
      "text/plain": [
       "14"
      ]
     },
     "execution_count": 31,
     "metadata": {},
     "output_type": "execute_result"
    },
    {
     "data": {
      "text/plain": [
       "30"
      ]
     },
     "execution_count": 31,
     "metadata": {},
     "output_type": "execute_result"
    },
    {
     "data": {
      "text/plain": [
       "14"
      ]
     },
     "execution_count": 31,
     "metadata": {},
     "output_type": "execute_result"
    },
    {
     "data": {
      "text/plain": [
       "30"
      ]
     },
     "execution_count": 31,
     "metadata": {},
     "output_type": "execute_result"
    },
    {
     "data": {
      "text/plain": [
       "14"
      ]
     },
     "execution_count": 31,
     "metadata": {},
     "output_type": "execute_result"
    },
    {
     "data": {
      "text/plain": [
       "30"
      ]
     },
     "execution_count": 31,
     "metadata": {},
     "output_type": "execute_result"
    },
    {
     "data": {
      "text/plain": [
       "14"
      ]
     },
     "execution_count": 31,
     "metadata": {},
     "output_type": "execute_result"
    },
    {
     "data": {
      "text/plain": [
       "30"
      ]
     },
     "execution_count": 31,
     "metadata": {},
     "output_type": "execute_result"
    },
    {
     "data": {
      "text/plain": [
       "14"
      ]
     },
     "execution_count": 31,
     "metadata": {},
     "output_type": "execute_result"
    },
    {
     "data": {
      "text/plain": [
       "30"
      ]
     },
     "execution_count": 31,
     "metadata": {},
     "output_type": "execute_result"
    },
    {
     "data": {
      "text/plain": [
       "14"
      ]
     },
     "execution_count": 31,
     "metadata": {},
     "output_type": "execute_result"
    },
    {
     "data": {
      "text/plain": [
       "0"
      ]
     },
     "execution_count": 31,
     "metadata": {},
     "output_type": "execute_result"
    },
    {
     "data": {
      "text/plain": [
       "14"
      ]
     },
     "execution_count": 31,
     "metadata": {},
     "output_type": "execute_result"
    },
    {
     "data": {
      "text/plain": [
       "0"
      ]
     },
     "execution_count": 31,
     "metadata": {},
     "output_type": "execute_result"
    },
    {
     "data": {
      "text/plain": [
       "14"
      ]
     },
     "execution_count": 31,
     "metadata": {},
     "output_type": "execute_result"
    },
    {
     "data": {
      "text/plain": [
       "12"
      ]
     },
     "execution_count": 31,
     "metadata": {},
     "output_type": "execute_result"
    },
    {
     "data": {
      "text/plain": [
       "14"
      ]
     },
     "execution_count": 31,
     "metadata": {},
     "output_type": "execute_result"
    },
    {
     "data": {
      "text/plain": [
       "12"
      ]
     },
     "execution_count": 31,
     "metadata": {},
     "output_type": "execute_result"
    },
    {
     "data": {
      "text/plain": [
       "14"
      ]
     },
     "execution_count": 31,
     "metadata": {},
     "output_type": "execute_result"
    },
    {
     "data": {
      "text/plain": [
       "0"
      ]
     },
     "execution_count": 31,
     "metadata": {},
     "output_type": "execute_result"
    },
    {
     "data": {
      "text/plain": [
       "14"
      ]
     },
     "execution_count": 31,
     "metadata": {},
     "output_type": "execute_result"
    },
    {
     "data": {
      "text/plain": [
       "0"
      ]
     },
     "execution_count": 31,
     "metadata": {},
     "output_type": "execute_result"
    },
    {
     "data": {
      "text/plain": [
       "14"
      ]
     },
     "execution_count": 31,
     "metadata": {},
     "output_type": "execute_result"
    },
    {
     "data": {
      "text/plain": [
       "0"
      ]
     },
     "execution_count": 31,
     "metadata": {},
     "output_type": "execute_result"
    },
    {
     "data": {
      "text/plain": [
       "14"
      ]
     },
     "execution_count": 31,
     "metadata": {},
     "output_type": "execute_result"
    },
    {
     "data": {
      "text/plain": [
       "0"
      ]
     },
     "execution_count": 31,
     "metadata": {},
     "output_type": "execute_result"
    },
    {
     "data": {
      "text/plain": [
       "14"
      ]
     },
     "execution_count": 31,
     "metadata": {},
     "output_type": "execute_result"
    },
    {
     "data": {
      "text/plain": [
       "0"
      ]
     },
     "execution_count": 31,
     "metadata": {},
     "output_type": "execute_result"
    },
    {
     "data": {
      "text/plain": [
       "14"
      ]
     },
     "execution_count": 31,
     "metadata": {},
     "output_type": "execute_result"
    },
    {
     "data": {
      "text/plain": [
       "0"
      ]
     },
     "execution_count": 31,
     "metadata": {},
     "output_type": "execute_result"
    },
    {
     "data": {
      "text/plain": [
       "14"
      ]
     },
     "execution_count": 31,
     "metadata": {},
     "output_type": "execute_result"
    },
    {
     "data": {
      "text/plain": [
       "0"
      ]
     },
     "execution_count": 31,
     "metadata": {},
     "output_type": "execute_result"
    },
    {
     "data": {
      "text/plain": [
       "14"
      ]
     },
     "execution_count": 31,
     "metadata": {},
     "output_type": "execute_result"
    },
    {
     "data": {
      "text/plain": [
       "0"
      ]
     },
     "execution_count": 31,
     "metadata": {},
     "output_type": "execute_result"
    },
    {
     "data": {
      "text/plain": [
       "14"
      ]
     },
     "execution_count": 31,
     "metadata": {},
     "output_type": "execute_result"
    },
    {
     "data": {
      "text/plain": [
       "6"
      ]
     },
     "execution_count": 31,
     "metadata": {},
     "output_type": "execute_result"
    },
    {
     "data": {
      "text/plain": [
       "14"
      ]
     },
     "execution_count": 31,
     "metadata": {},
     "output_type": "execute_result"
    },
    {
     "data": {
      "text/plain": [
       "30"
      ]
     },
     "execution_count": 31,
     "metadata": {},
     "output_type": "execute_result"
    },
    {
     "data": {
      "text/plain": [
       "14"
      ]
     },
     "execution_count": 31,
     "metadata": {},
     "output_type": "execute_result"
    },
    {
     "data": {
      "text/plain": [
       "30"
      ]
     },
     "execution_count": 31,
     "metadata": {},
     "output_type": "execute_result"
    },
    {
     "data": {
      "text/plain": [
       "14"
      ]
     },
     "execution_count": 31,
     "metadata": {},
     "output_type": "execute_result"
    },
    {
     "data": {
      "text/plain": [
       "30"
      ]
     },
     "execution_count": 31,
     "metadata": {},
     "output_type": "execute_result"
    },
    {
     "data": {
      "text/plain": [
       "14"
      ]
     },
     "execution_count": 31,
     "metadata": {},
     "output_type": "execute_result"
    },
    {
     "data": {
      "text/plain": [
       "49"
      ]
     },
     "execution_count": 31,
     "metadata": {},
     "output_type": "execute_result"
    },
    {
     "data": {
      "text/plain": [
       "42"
      ]
     },
     "execution_count": 31,
     "metadata": {},
     "output_type": "execute_result"
    },
    {
     "data": {
      "text/plain": [
       "42"
      ]
     },
     "execution_count": 31,
     "metadata": {},
     "output_type": "execute_result"
    },
    {
     "data": {
      "text/plain": [
       "70"
      ]
     },
     "execution_count": 31,
     "metadata": {},
     "output_type": "execute_result"
    },
    {
     "data": {
      "text/plain": [
       "70"
      ]
     },
     "execution_count": 31,
     "metadata": {},
     "output_type": "execute_result"
    },
    {
     "data": {
      "text/plain": [
       "70"
      ]
     },
     "execution_count": 31,
     "metadata": {},
     "output_type": "execute_result"
    },
    {
     "data": {
      "text/plain": [
       "70"
      ]
     },
     "execution_count": 31,
     "metadata": {},
     "output_type": "execute_result"
    },
    {
     "data": {
      "text/plain": [
       "7"
      ]
     },
     "execution_count": 31,
     "metadata": {},
     "output_type": "execute_result"
    }
   ],
   "source": [
    "test = df[df.label == -99]\n",
    "test.reset_index(drop=True, inplace=True)\n",
    "test = test.merge(user, on=['uid'], how='left')\n",
    "test.LBS = test.LBS.fillna(test.LBS.mean())\n",
    "test.house = test.house.fillna(0)\n",
    "    \n",
    "for i in split_col:\n",
    "    test[i] = test[i].apply(spl_col)\n",
    "\n",
    "tmp_his = df[df.label != -99]\n",
    "tmp_his = tmp_his.merge(user[single_col + ['uid']], on=['uid'], how='left')\n",
    "tmp_his.LBS = tmp_his.LBS.fillna(tmp_his.LBS.mean())\n",
    "tmp_his.house = tmp_his.house.fillna(0)\n",
    "tmp_his_pos = tmp_his[tmp_his.label == 1]\n",
    "\n",
    "for i in split_col:\n",
    "    for ti in range(0, 5):\n",
    "        locals()['tmp_dict' + str(ti + 1)] = load_obj(str(i + '_dict_' + str(ti)))\n",
    "    tmp_dict = Counter(tmp_dict1) + Counter(tmp_dict2) + Counter(tmp_dict3) + Counter(tmp_dict4) + Counter(tmp_dict5)\n",
    "    tmp_dict = dict(tmp_dict)\n",
    "    \n",
    "    for ti in range(0, 5):\n",
    "        locals()['tmp_dict' + str(ti + 1)] = load_obj(str(i + '_pos_dict_' + str(ti)))\n",
    "    tmp_pos_dict = Counter(tmp_dict1) + Counter(tmp_dict2) + Counter(tmp_dict3) + Counter(tmp_dict4) + Counter(tmp_dict5)\n",
    "    tmp_pos_dict = dict(tmp_pos_dict)\n",
    "        \n",
    "    del tmp_dict1\n",
    "    del tmp_dict2\n",
    "    del tmp_dict3\n",
    "    del tmp_dict4\n",
    "    del tmp_dict5\n",
    "    gc.collect()\n",
    "        \n",
    "    tmp_list1 = list(np.zeros(test.shape[0]))\n",
    "    tmp_list2 = list(np.zeros(test.shape[0]))\n",
    "    for kk in range(0, test.shape[0]):\n",
    "        if type(test[i][kk]) == list:\n",
    "            for j in test[i][kk]:\n",
    "                if j in test.keys():\n",
    "                    tmp_list1[kk] = tmp_list1[kk] + tmp_dict[j]\n",
    "                if j in tmp_pos_dict.keys():\n",
    "                    tmp_list2[kk] = tmp_list2[kk] + tmp_pos_dict[j]\n",
    "    test[str(i + '_split_count_score')] = tmp_list1\n",
    "    test[str(i + '_split_pos_count_score')] = tmp_list2\n",
    "        \n",
    "    del tmp_dict\n",
    "    del tmp_pos_dict\n",
    "    del tmp_list1\n",
    "    del tmp_list2\n",
    "    gc.collect()\n",
    "    \n",
    "for i in feature_col:\n",
    "    for ti in range(0, 5):\n",
    "        locals()['tmp_dict' + str(ti + 1)] = load_obj(str(i + '_full_dict_' + str(ti)))\n",
    "    tmp_dict = Counter(tmp_dict1) + Counter(tmp_dict2) + Counter(tmp_dict3) + Counter(tmp_dict4) + Counter(tmp_dict5)\n",
    "    tmp_dict = dict(tmp_dict)\n",
    "    \n",
    "    for ti in range(0, 5):\n",
    "        locals()['tmp_dict' + str(ti + 1)] = load_obj(str(i + '_full_pos_dict_' + str(ti)))\n",
    "    tmp_pos_dict = Counter(tmp_dict1) + Counter(tmp_dict2) + Counter(tmp_dict3) + Counter(tmp_dict4) + Counter(tmp_dict5)\n",
    "    tmp_pos_dict = dict(tmp_pos_dict)\n",
    "        \n",
    "    del tmp_dict1\n",
    "    del tmp_dict2\n",
    "    del tmp_dict3\n",
    "    del tmp_dict4\n",
    "    del tmp_dict5\n",
    "    gc.collect()\n",
    "        \n",
    "    tmp_list1 = list(np.zeros(test.shape[0]))\n",
    "    tmp_list2 = list(np.zeros(test.shape[0]))\n",
    "    for kk in range(0, test.shape[0]):\n",
    "        if type(test[i][kk]) == list:\n",
    "            if tuple(test[i][kk]) in tmp_dict.keys():\n",
    "                tmp_list1[kk] = tmp_list1[kk] + tmp_dict[tuple(test[i][kk])]\n",
    "            if tuple(test[i][kk]) in tmp_pos_dict.keys():\n",
    "                tmp_list2[kk] = tmp_list2[kk] + tmp_pos_dict[tuple(test[i][kk])]\n",
    "        elif (type(test[i][kk]) == np.int64) | (type(test[i][kk]) == np.float64):\n",
    "            if test[i][kk] in tmp_dict.keys():\n",
    "                tmp_list1[kk] = tmp_list1[kk] + tmp_dict[test[i][kk]]\n",
    "            if test[i][kk] in tmp_pos_dict.keys():\n",
    "                tmp_list2[kk] = tmp_list2[kk] + tmp_pos_dict[test[i][kk]]\n",
    "    test[str(i + '_feature_count_score')] = tmp_list1\n",
    "    test[str(i + '_feature_pos_count_score')] = tmp_list2\n",
    "        \n",
    "    del tmp_dict\n",
    "    del tmp_pos_dict\n",
    "    del tmp_list1\n",
    "    del tmp_list2\n",
    "    gc.collect()\n",
    "    \n",
    "for i in single_col:\n",
    "    locals()[str(i + '_feature')] = tmp_his.groupby(\n",
    "        ['aid'], as_index=False)[i].agg({\n",
    "            str(i + '_max'):\n",
    "            'max',\n",
    "            str(i + '_min'):\n",
    "            'min',\n",
    "            str(i + '_mean'):\n",
    "            'mean',\n",
    "            str(i + '_std'):\n",
    "            'std'\n",
    "        })\n",
    "    locals()[str(i + '_pos_feature')] = tmp_his_pos.groupby(\n",
    "        ['aid'], as_index=False)[i].agg({\n",
    "            str(i + '_pos_max'):\n",
    "            'max',\n",
    "            str(i + '_pos_min'):\n",
    "            'min',\n",
    "            str(i + '_pos_mean'):\n",
    "            'mean',\n",
    "            str(i + '_pos_std'):\n",
    "            'std'\n",
    "        })\n",
    "    test = test.merge(locals()[str(i + '_feature')], on=['aid'], how='left')\n",
    "    test = test.merge(locals()[str(i + '_pos_feature')], on=['aid'], how='left')\n",
    "    test[str(i + '_mean_sub')] = abs(test[i] - test[str(i + '_mean')])\n",
    "    test[str(i + '_mean_pos_sub')] = abs(test[i] - test[str(i + '_pos_mean')])\n",
    "    del locals()[str(i + '_feature')]\n",
    "    del locals()[str(i + '_pos_feature')]\n",
    "    gc.collect()\n",
    "        \n",
    "test.to_csv('test_kflod', index=None)\n",
    "del test\n",
    "del tmp_his\n",
    "del tmp_his_pos\n",
    "gc.collect()"
   ]
  },
  {
   "cell_type": "markdown",
   "metadata": {},
   "source": [
    "# xgb分开"
   ]
  },
  {
   "cell_type": "code",
   "execution_count": 3,
   "metadata": {
    "collapsed": true
   },
   "outputs": [],
   "source": [
    "import xgboost as xgb\n",
    "import gc"
   ]
  },
  {
   "cell_type": "code",
   "execution_count": 4,
   "metadata": {},
   "outputs": [],
   "source": [
    "full_col = ['carrier_pos_max','carrier_min','gender_pos_min','interest1_feature_count_score','carrier','carrier_feature_count_score','kw1_feature_pos_count_score','interest2_feature_count_score','appIdAction_split_pos_count_score','education_max','ct_feature_count_score','interest2_feature_pos_count_score','topic3_feature_count_score','house_pos_mean','LBS_mean_sub','education','kw1_split_pos_count_score','os_split_pos_count_score','appIdInstall_split_pos_count_score','interest4_split_count_score','interest5_split_pos_count_score','LBS_pos_mean','topic2_feature_pos_count_score','education_std','carrier_std','consumptionAbility_pos_std','gender_std','interest2_split_pos_count_score','age_std','kw2_split_pos_count_score','gender_mean_sub','LBS_pos_std','topic3_split_pos_count_score','consumptionAbility_max','carrier_max','LBS_feature_count_score','consumptionAbility_mean','house_pos_max','appIdAction_feature_pos_count_score','LBS_min','consumptionAbility_mean_pos_sub','consumptionAbility_feature_count_score','house_mean','age_mean','house_pos_min','house_pos_std','LBS_mean_pos_sub','interest1_feature_pos_count_score','ct_split_count_score','topic2_split_pos_count_score','topic2_feature_count_score','topic1_split_count_score','age_feature_pos_count_score','aid','interest3_split_count_score','kw3_split_count_score','house_max','interest5_feature_count_score','kw2_feature_count_score','LBS_std','house_mean_sub','LBS_mean','kw3_split_pos_count_score','topic1_split_pos_count_score','interest1_split_pos_count_score','gender','gender_pos_mean','gender_feature_count_score','appIdAction_feature_count_score','carrier_mean_pos_sub','interest3_split_pos_count_score','age_pos_min','education_pos_mean','house_std','age_mean_sub','marriageStatus_feature_count_score','appIdInstall_feature_pos_count_score','house','education_pos_max','consumptionAbility_pos_min','age_feature_count_score','education_mean_pos_sub','interest3_feature_count_score','age_mean_pos_sub','gender_pos_max','uid','kw2_split_count_score','topic2_split_count_score','education_feature_count_score','interest4_feature_pos_count_score','age_max','carrier_pos_min','gender_feature_pos_count_score','consumptionAbility_std','education_pos_min','interest4_split_pos_count_score','consumptionAbility_pos_mean','interest5_split_count_score','os_feature_count_score','os_split_count_score','label','appIdInstall_split_count_score','LBS_pos_max','kw3_feature_count_score','topic3_split_count_score','topic1_feature_pos_count_score','education_pos_std','LBS_pos_min','carrier_pos_mean','topic1_feature_count_score','education_min','carrier_mean','education_mean','kw2_feature_pos_count_score','consumptionAbility_pos_max','consumptionAbility_mean_sub','gender_pos_std','age_min','interest4_feature_count_score','ct_split_pos_count_score','LBS','gender_min','marriageStatus_split_pos_count_score','gender_mean_pos_sub','carrier_feature_pos_count_score','topic3_feature_pos_count_score','interest5_feature_pos_count_score','age_pos_max','appIdAction_split_count_score','LBS_max','kw1_feature_count_score','marriageStatus_split_count_score','education_mean_sub','consumptionAbility_min','marriageStatus_feature_pos_count_score','consumptionAbility_feature_pos_count_score','appIdInstall_feature_count_score','LBS_feature_pos_count_score','interest3_feature_pos_count_score','age','os_feature_pos_count_score','interest1_split_count_score','kw1_split_count_score','kw3_feature_pos_count_score','ct_feature_pos_count_score','age_pos_std','carrier_pos_std','gender_mean','gender_max','age_pos_mean','house_mean_pos_sub','house_min','education_feature_pos_count_score','consumptionAbility','interest2_split_count_score','carrier_mean_sub']"
   ]
  },
  {
   "cell_type": "code",
   "execution_count": null,
   "metadata": {},
   "outputs": [],
   "source": [
    "# full_col = list(set(train1.columns) - set(split_col) - set(['is_his', 'kflod']))\n",
    "predictors = list(set(train1.columns) - set(split_col) - set(['is_his', 'aid', 'uid', 'label', 'kflod']))\n",
    "target = ['label']\n",
    "len(set(predictors) & set(train1.columns))\n",
    "# len(set(predictors) & set(test.columns))\n",
    "len(predictors)"
   ]
  },
  {
   "cell_type": "code",
   "execution_count": 11,
   "metadata": {},
   "outputs": [
    {
     "name": "stdout",
     "output_type": "stream",
     "text": [
      "1980:0.72182\n"
     ]
    }
   ],
   "source": [
    "#cv\n",
    "params = {\n",
    "    'objective': 'binary:logistic',\n",
    "    'eta': 0.05,\n",
    "    'colsample_bytree': 0.886,\n",
    "    'min_child_weight': 1.6,\n",
    "    'max_depth': 4,\n",
    "    'subsample': 0.886,\n",
    "    'gamma': 0.1,\n",
    "    'lambda': 10,\n",
    "    'verbose_eval': True,\n",
    "    'eval_metric': 'auc',\n",
    "    'seed': 201803,\n",
    "    'missing': 0\n",
    "}\n",
    "\n",
    "len(predictors)\n",
    "\n",
    "train1['label'][train1.label == -1] = 0\n",
    "xgbtrain = xgb.DMatrix(train1[predictors], train1[target])\n",
    "\n",
    "cv = xgb.cv(\n",
    "    params,\n",
    "    dtrain=xgbtrain,\n",
    "    num_boost_round=10000,\n",
    "    nfold=3,\n",
    "    verbose_eval=100,\n",
    "    early_stopping_rounds=50,\n",
    "    seed=201803)\n",
    "print(str(cv.shape[0]) + ':' + str(cv.iloc[-1, :]['test-auc-mean']))\n",
    "# 1980:0.72182"
   ]
  },
  {
   "cell_type": "code",
   "execution_count": 6,
   "metadata": {},
   "outputs": [
    {
     "data": {
      "text/plain": [
       "(2265989, 2)"
      ]
     },
     "execution_count": 6,
     "metadata": {},
     "output_type": "execute_result"
    },
    {
     "data": {
      "text/html": [
       "<div>\n",
       "<style>\n",
       "    .dataframe thead tr:only-child th {\n",
       "        text-align: right;\n",
       "    }\n",
       "\n",
       "    .dataframe thead th {\n",
       "        text-align: left;\n",
       "    }\n",
       "\n",
       "    .dataframe tbody tr th {\n",
       "        vertical-align: top;\n",
       "    }\n",
       "</style>\n",
       "<table border=\"1\" class=\"dataframe\">\n",
       "  <thead>\n",
       "    <tr style=\"text-align: right;\">\n",
       "      <th></th>\n",
       "      <th>aid</th>\n",
       "      <th>uid</th>\n",
       "    </tr>\n",
       "  </thead>\n",
       "  <tbody>\n",
       "    <tr>\n",
       "      <th>0</th>\n",
       "      <td>2118</td>\n",
       "      <td>64355836</td>\n",
       "    </tr>\n",
       "    <tr>\n",
       "      <th>1</th>\n",
       "      <td>692</td>\n",
       "      <td>45051997</td>\n",
       "    </tr>\n",
       "    <tr>\n",
       "      <th>2</th>\n",
       "      <td>692</td>\n",
       "      <td>10869198</td>\n",
       "    </tr>\n",
       "    <tr>\n",
       "      <th>3</th>\n",
       "      <td>1918</td>\n",
       "      <td>75929554</td>\n",
       "    </tr>\n",
       "    <tr>\n",
       "      <th>4</th>\n",
       "      <td>1596</td>\n",
       "      <td>5790162</td>\n",
       "    </tr>\n",
       "  </tbody>\n",
       "</table>\n",
       "</div>"
      ],
      "text/plain": [
       "    aid       uid\n",
       "0  2118  64355836\n",
       "1   692  45051997\n",
       "2   692  10869198\n",
       "3  1918  75929554\n",
       "4  1596   5790162"
      ]
     },
     "execution_count": 6,
     "metadata": {},
     "output_type": "execute_result"
    }
   ],
   "source": [
    "test = pd.read_csv('test_kflod', usecols=['aid', 'uid'])\n",
    "\n",
    "test.shape\n",
    "test.head()"
   ]
  },
  {
   "cell_type": "code",
   "execution_count": 14,
   "metadata": {},
   "outputs": [],
   "source": [
    "#train/test\n",
    "params = {\n",
    "    'objective': 'binary:logistic',\n",
    "    'eta': 0.05,\n",
    "    'colsample_bytree': 0.886,\n",
    "    'min_child_weight': 1.6,\n",
    "    'max_depth': 4,\n",
    "    'subsample': 0.886,\n",
    "    'gamma': 0.1,\n",
    "    'lambda': 10,\n",
    "#     'scale_pos_weight': int(train[train.label == 0].shape[0]/train[train.label == 1].shape[0]),\n",
    "    'verbose_eval': 1,\n",
    "    'eval_metric': 'auc',\n",
    "    'seed': 201803,\n",
    "    'missing': -1\n",
    "}\n",
    "\n",
    "# for i in range(0, 5):\n",
    "#     tmp_train = pd.read_csv('tr_kflod' + str(i), usecols=full_col)\n",
    "#     tmp_test = pd.read_csv('test_kflod' + str(i), usecols=full_col)\n",
    "#     predictors = list(set(tmp_train.columns) - set(split_col) - set(['is_his', 'aid', 'uid', 'label', 'kflod']))\n",
    "#     len(predictors)\n",
    "#     target = ['label']\n",
    "#     print('start kflod_' + str(i))\n",
    "#     tmp_train['label'][tmp_train.label == -1] = 0\n",
    "#     xgbtrain = xgb.DMatrix(tmp_train[predictors], tmp_train[target])\n",
    "#     xgbtest = xgb.DMatrix(tmp_test[predictors])\n",
    "\n",
    "#     model = xgb.train(params, xgbtrain, num_boost_round=1980, verbose_eval=100)\n",
    "#     y_pred = model.predict(xgbtest)\n",
    "#     y_pred = pd.Series(y_pred, name='test')\n",
    "    \n",
    "#     test['score_' + str(i)] = list(y_pred)\n",
    "#     print('finish kflod_' + str(i))\n",
    "    \n",
    "#     del tmp_train\n",
    "#     del tmp_test\n",
    "#     gc.collect()\n",
    "    \n",
    "test['score'] = (test['score_0'] + test['score_1'] + test['score_2'] + test['score_3'] + test['score_4']) / 5"
   ]
  },
  {
   "cell_type": "code",
   "execution_count": 15,
   "metadata": {},
   "outputs": [
    {
     "data": {
      "text/html": [
       "<div>\n",
       "<style>\n",
       "    .dataframe thead tr:only-child th {\n",
       "        text-align: right;\n",
       "    }\n",
       "\n",
       "    .dataframe thead th {\n",
       "        text-align: left;\n",
       "    }\n",
       "\n",
       "    .dataframe tbody tr th {\n",
       "        vertical-align: top;\n",
       "    }\n",
       "</style>\n",
       "<table border=\"1\" class=\"dataframe\">\n",
       "  <thead>\n",
       "    <tr style=\"text-align: right;\">\n",
       "      <th></th>\n",
       "      <th>aid</th>\n",
       "      <th>uid</th>\n",
       "      <th>score_0</th>\n",
       "      <th>score_1</th>\n",
       "      <th>score_2</th>\n",
       "      <th>score_3</th>\n",
       "      <th>score_4</th>\n",
       "      <th>score</th>\n",
       "    </tr>\n",
       "  </thead>\n",
       "  <tbody>\n",
       "    <tr>\n",
       "      <th>0</th>\n",
       "      <td>2118</td>\n",
       "      <td>64355836</td>\n",
       "      <td>0.046616</td>\n",
       "      <td>0.047110</td>\n",
       "      <td>0.042533</td>\n",
       "      <td>0.043293</td>\n",
       "      <td>0.048661</td>\n",
       "      <td>0.045643</td>\n",
       "    </tr>\n",
       "    <tr>\n",
       "      <th>1</th>\n",
       "      <td>692</td>\n",
       "      <td>45051997</td>\n",
       "      <td>0.029959</td>\n",
       "      <td>0.031260</td>\n",
       "      <td>0.037797</td>\n",
       "      <td>0.040466</td>\n",
       "      <td>0.032353</td>\n",
       "      <td>0.034367</td>\n",
       "    </tr>\n",
       "    <tr>\n",
       "      <th>2</th>\n",
       "      <td>692</td>\n",
       "      <td>10869198</td>\n",
       "      <td>0.034535</td>\n",
       "      <td>0.040661</td>\n",
       "      <td>0.027282</td>\n",
       "      <td>0.032500</td>\n",
       "      <td>0.028964</td>\n",
       "      <td>0.032788</td>\n",
       "    </tr>\n",
       "    <tr>\n",
       "      <th>3</th>\n",
       "      <td>1918</td>\n",
       "      <td>75929554</td>\n",
       "      <td>0.031406</td>\n",
       "      <td>0.038289</td>\n",
       "      <td>0.031384</td>\n",
       "      <td>0.042147</td>\n",
       "      <td>0.035950</td>\n",
       "      <td>0.035835</td>\n",
       "    </tr>\n",
       "    <tr>\n",
       "      <th>4</th>\n",
       "      <td>1596</td>\n",
       "      <td>5790162</td>\n",
       "      <td>0.138514</td>\n",
       "      <td>0.214496</td>\n",
       "      <td>0.153955</td>\n",
       "      <td>0.207861</td>\n",
       "      <td>0.194549</td>\n",
       "      <td>0.181875</td>\n",
       "    </tr>\n",
       "  </tbody>\n",
       "</table>\n",
       "</div>"
      ],
      "text/plain": [
       "    aid       uid   score_0   score_1   score_2   score_3   score_4     score\n",
       "0  2118  64355836  0.046616  0.047110  0.042533  0.043293  0.048661  0.045643\n",
       "1   692  45051997  0.029959  0.031260  0.037797  0.040466  0.032353  0.034367\n",
       "2   692  10869198  0.034535  0.040661  0.027282  0.032500  0.028964  0.032788\n",
       "3  1918  75929554  0.031406  0.038289  0.031384  0.042147  0.035950  0.035835\n",
       "4  1596   5790162  0.138514  0.214496  0.153955  0.207861  0.194549  0.181875"
      ]
     },
     "execution_count": 15,
     "metadata": {},
     "output_type": "execute_result"
    }
   ],
   "source": [
    "test[['aid','uid','score_0','score_1','score_2','score_3','score_4','score']].head()"
   ]
  },
  {
   "cell_type": "code",
   "execution_count": 16,
   "metadata": {},
   "outputs": [
    {
     "data": {
      "text/plain": [
       "0"
      ]
     },
     "execution_count": 16,
     "metadata": {},
     "output_type": "execute_result"
    }
   ],
   "source": [
    "import os\n",
    "result = test[['aid','uid','score_1']]\n",
    "result.columns = ['aid','uid','score']\n",
    "result.to_csv('submission.csv', index=False, float_format='%.8f')\n",
    "os.system('zip ./result/xgb_kflod_new.zip submission.csv')"
   ]
  },
  {
   "cell_type": "markdown",
   "metadata": {},
   "source": [
    "# xgb合体"
   ]
  },
  {
   "cell_type": "code",
   "execution_count": 3,
   "metadata": {
    "collapsed": true
   },
   "outputs": [],
   "source": [
    "import xgboost as xgb\n",
    "import gc"
   ]
  },
  {
   "cell_type": "code",
   "execution_count": 4,
   "metadata": {
    "collapsed": true
   },
   "outputs": [],
   "source": [
    "full_col = ['carrier_pos_max','carrier_min','gender_pos_min','interest1_feature_count_score','carrier','carrier_feature_count_score','kw1_feature_pos_count_score','interest2_feature_count_score','appIdAction_split_pos_count_score','education_max','ct_feature_count_score','interest2_feature_pos_count_score','topic3_feature_count_score','house_pos_mean','LBS_mean_sub','education','kw1_split_pos_count_score','os_split_pos_count_score','appIdInstall_split_pos_count_score','interest4_split_count_score','interest5_split_pos_count_score','LBS_pos_mean','topic2_feature_pos_count_score','education_std','carrier_std','consumptionAbility_pos_std','gender_std','interest2_split_pos_count_score','age_std','kw2_split_pos_count_score','gender_mean_sub','LBS_pos_std','topic3_split_pos_count_score','consumptionAbility_max','carrier_max','LBS_feature_count_score','consumptionAbility_mean','house_pos_max','appIdAction_feature_pos_count_score','LBS_min','consumptionAbility_mean_pos_sub','consumptionAbility_feature_count_score','house_mean','age_mean','house_pos_min','house_pos_std','LBS_mean_pos_sub','interest1_feature_pos_count_score','ct_split_count_score','topic2_split_pos_count_score','topic2_feature_count_score','topic1_split_count_score','age_feature_pos_count_score','aid','interest3_split_count_score','kw3_split_count_score','house_max','interest5_feature_count_score','kw2_feature_count_score','LBS_std','house_mean_sub','LBS_mean','kw3_split_pos_count_score','topic1_split_pos_count_score','interest1_split_pos_count_score','gender','gender_pos_mean','gender_feature_count_score','appIdAction_feature_count_score','carrier_mean_pos_sub','interest3_split_pos_count_score','age_pos_min','education_pos_mean','house_std','age_mean_sub','marriageStatus_feature_count_score','appIdInstall_feature_pos_count_score','house','education_pos_max','consumptionAbility_pos_min','age_feature_count_score','education_mean_pos_sub','interest3_feature_count_score','age_mean_pos_sub','gender_pos_max','uid','kw2_split_count_score','topic2_split_count_score','education_feature_count_score','interest4_feature_pos_count_score','age_max','carrier_pos_min','gender_feature_pos_count_score','consumptionAbility_std','education_pos_min','interest4_split_pos_count_score','consumptionAbility_pos_mean','interest5_split_count_score','os_feature_count_score','os_split_count_score','label','appIdInstall_split_count_score','LBS_pos_max','kw3_feature_count_score','topic3_split_count_score','topic1_feature_pos_count_score','education_pos_std','LBS_pos_min','carrier_pos_mean','topic1_feature_count_score','education_min','carrier_mean','education_mean','kw2_feature_pos_count_score','consumptionAbility_pos_max','consumptionAbility_mean_sub','gender_pos_std','age_min','interest4_feature_count_score','ct_split_pos_count_score','LBS','gender_min','marriageStatus_split_pos_count_score','gender_mean_pos_sub','carrier_feature_pos_count_score','topic3_feature_pos_count_score','interest5_feature_pos_count_score','age_pos_max','appIdAction_split_count_score','LBS_max','kw1_feature_count_score','marriageStatus_split_count_score','education_mean_sub','consumptionAbility_min','marriageStatus_feature_pos_count_score','consumptionAbility_feature_pos_count_score','appIdInstall_feature_count_score','LBS_feature_pos_count_score','interest3_feature_pos_count_score','age','os_feature_pos_count_score','interest1_split_count_score','kw1_split_count_score','kw3_feature_pos_count_score','ct_feature_pos_count_score','age_pos_std','carrier_pos_std','gender_mean','gender_max','age_pos_mean','house_mean_pos_sub','house_min','education_feature_pos_count_score','consumptionAbility','interest2_split_count_score','carrier_mean_sub']"
   ]
  },
  {
   "cell_type": "code",
   "execution_count": 5,
   "metadata": {},
   "outputs": [
    {
     "data": {
      "text/plain": [
       "(1759904, 156)"
      ]
     },
     "execution_count": 5,
     "metadata": {},
     "output_type": "execute_result"
    },
    {
     "data": {
      "text/plain": [
       "(1759835, 156)"
      ]
     },
     "execution_count": 5,
     "metadata": {},
     "output_type": "execute_result"
    },
    {
     "data": {
      "text/plain": [
       "(1759756, 156)"
      ]
     },
     "execution_count": 5,
     "metadata": {},
     "output_type": "execute_result"
    },
    {
     "data": {
      "text/plain": [
       "(1759691, 156)"
      ]
     },
     "execution_count": 5,
     "metadata": {},
     "output_type": "execute_result"
    },
    {
     "data": {
      "text/plain": [
       "(1759628, 156)"
      ]
     },
     "execution_count": 5,
     "metadata": {},
     "output_type": "execute_result"
    }
   ],
   "source": [
    "train1 = pd.read_csv('tr_kflod0', usecols=full_col)\n",
    "train2 = pd.read_csv('tr_kflod1', usecols=full_col)\n",
    "train3 = pd.read_csv('tr_kflod2', usecols=full_col)\n",
    "train4 = pd.read_csv('tr_kflod3', usecols=full_col)\n",
    "train5 = pd.read_csv('tr_kflod4', usecols=full_col)\n",
    "# test1 = pd.read_csv('test_kflod0', usecols=full_col)\n",
    "# test2 = pd.read_csv('test_kflod1', usecols=full_col)\n",
    "# test3 = pd.read_csv('test_kflod2', usecols=full_col)\n",
    "# test4 = pd.read_csv('test_kflod3', usecols=full_col)\n",
    "# test5 = pd.read_csv('test_kflod4', usecols=full_col)\n",
    "\n",
    "\n",
    "train1.shape\n",
    "train2.shape\n",
    "train3.shape\n",
    "train4.shape\n",
    "train5.shape\n",
    "# test1.shape\n",
    "# test2.shape\n",
    "# test3.shape\n",
    "# test4.shape\n",
    "# test5.shape"
   ]
  },
  {
   "cell_type": "code",
   "execution_count": 6,
   "metadata": {},
   "outputs": [
    {
     "data": {
      "text/plain": [
       "28"
      ]
     },
     "execution_count": 6,
     "metadata": {},
     "output_type": "execute_result"
    }
   ],
   "source": [
    "train = pd.concat([train1, train2, train3, train4, train5])\n",
    "\n",
    "del train1\n",
    "del train2\n",
    "del train3\n",
    "del train4\n",
    "del train5\n",
    "\n",
    "gc.collect()"
   ]
  },
  {
   "cell_type": "code",
   "execution_count": 7,
   "metadata": {},
   "outputs": [
    {
     "data": {
      "text/plain": [
       "153"
      ]
     },
     "execution_count": 7,
     "metadata": {},
     "output_type": "execute_result"
    },
    {
     "data": {
      "text/plain": [
       "153"
      ]
     },
     "execution_count": 7,
     "metadata": {},
     "output_type": "execute_result"
    }
   ],
   "source": [
    "# full_col = list(set(train1.columns) - set(split_col) - set(['is_his', 'kflod']))\n",
    "predictors = list(set(train.columns) - set(split_col) - set(['is_his', 'aid', 'uid', 'label', 'kflod']))\n",
    "target = ['label']\n",
    "len(set(predictors) & set(train.columns))\n",
    "# len(set(predictors) & set(test.columns))\n",
    "len(predictors)"
   ]
  },
  {
   "cell_type": "code",
   "execution_count": null,
   "metadata": {},
   "outputs": [
    {
     "data": {
      "text/plain": [
       "153"
      ]
     },
     "execution_count": 8,
     "metadata": {},
     "output_type": "execute_result"
    }
   ],
   "source": [
    "#cv\n",
    "params = {\n",
    "    'objective': 'binary:logistic',\n",
    "    'eta': 0.05,\n",
    "    'colsample_bytree': 0.886,\n",
    "    'min_child_weight': 1.6,\n",
    "    'max_depth': 4,\n",
    "    'subsample': 0.886,\n",
    "    'gamma': 0.1,\n",
    "    'lambda': 10,\n",
    "    'verbose_eval': True,\n",
    "    'eval_metric': 'auc',\n",
    "    'seed': 201803,\n",
    "    'missing': 0\n",
    "}\n",
    "\n",
    "len(predictors)\n",
    "\n",
    "train['label'][train.label == -1] = 0\n",
    "xgbtrain = xgb.DMatrix(train[predictors], train[target])\n",
    "\n",
    "cv = xgb.cv(\n",
    "    params,\n",
    "    dtrain=xgbtrain,\n",
    "    num_boost_round=10000,\n",
    "    nfold=3,\n",
    "    verbose_eval=100,\n",
    "    early_stopping_rounds=50,\n",
    "    seed=201803)\n",
    "print(str(cv.shape[0]) + ':' + str(cv.iloc[-1, :]['test-auc-mean']))"
   ]
  },
  {
   "cell_type": "code",
   "execution_count": 6,
   "metadata": {},
   "outputs": [
    {
     "data": {
      "text/plain": [
       "(2265989, 2)"
      ]
     },
     "execution_count": 6,
     "metadata": {},
     "output_type": "execute_result"
    },
    {
     "data": {
      "text/html": [
       "<div>\n",
       "<style>\n",
       "    .dataframe thead tr:only-child th {\n",
       "        text-align: right;\n",
       "    }\n",
       "\n",
       "    .dataframe thead th {\n",
       "        text-align: left;\n",
       "    }\n",
       "\n",
       "    .dataframe tbody tr th {\n",
       "        vertical-align: top;\n",
       "    }\n",
       "</style>\n",
       "<table border=\"1\" class=\"dataframe\">\n",
       "  <thead>\n",
       "    <tr style=\"text-align: right;\">\n",
       "      <th></th>\n",
       "      <th>aid</th>\n",
       "      <th>uid</th>\n",
       "    </tr>\n",
       "  </thead>\n",
       "  <tbody>\n",
       "    <tr>\n",
       "      <th>0</th>\n",
       "      <td>2118</td>\n",
       "      <td>64355836</td>\n",
       "    </tr>\n",
       "    <tr>\n",
       "      <th>1</th>\n",
       "      <td>692</td>\n",
       "      <td>45051997</td>\n",
       "    </tr>\n",
       "    <tr>\n",
       "      <th>2</th>\n",
       "      <td>692</td>\n",
       "      <td>10869198</td>\n",
       "    </tr>\n",
       "    <tr>\n",
       "      <th>3</th>\n",
       "      <td>1918</td>\n",
       "      <td>75929554</td>\n",
       "    </tr>\n",
       "    <tr>\n",
       "      <th>4</th>\n",
       "      <td>1596</td>\n",
       "      <td>5790162</td>\n",
       "    </tr>\n",
       "  </tbody>\n",
       "</table>\n",
       "</div>"
      ],
      "text/plain": [
       "    aid       uid\n",
       "0  2118  64355836\n",
       "1   692  45051997\n",
       "2   692  10869198\n",
       "3  1918  75929554\n",
       "4  1596   5790162"
      ]
     },
     "execution_count": 6,
     "metadata": {},
     "output_type": "execute_result"
    }
   ],
   "source": [
    "test = pd.read_csv('test_kflod', usecols=['aid', 'uid'])\n",
    "\n",
    "test.shape\n",
    "test.head()"
   ]
  },
  {
   "cell_type": "code",
   "execution_count": null,
   "metadata": {
    "collapsed": true
   },
   "outputs": [],
   "source": [
    "# 整合跑模型\n",
    "params = {\n",
    "    'objective': 'binary:logistic',\n",
    "    'eta': 0.05,\n",
    "    'colsample_bytree': 0.886,\n",
    "    'min_child_weight': 1.6,\n",
    "    'max_depth': 4,\n",
    "    'subsample': 0.886,\n",
    "    'gamma': 0.1,\n",
    "    'lambda': 10,\n",
    "#     'scale_pos_weight': int(train[train.label == 0].shape[0]/train[train.label == 1].shape[0]),\n",
    "    'verbose_eval': 1,\n",
    "    'eval_metric': 'auc',\n",
    "    'seed': 201803,\n",
    "    'missing': -1\n",
    "}\n",
    "\n",
    "tmp_train = pd.read_csv('tr_kflod' + str(i), usecols=full_col)\n",
    "tmp_test = pd.read_csv('test_kflod' + str(i), usecols=full_col)\n",
    "predictors = list(set(tmp_train.columns) - set(split_col) - set(['is_his', 'aid', 'uid', 'label', 'kflod']))\n",
    "len(predictors)\n",
    "target = ['label']\n",
    "print('start kflod_' + str(i))\n",
    "tmp_train['label'][tmp_train.label == -1] = 0\n",
    "xgbtrain = xgb.DMatrix(tmp_train[predictors], tmp_train[target])\n",
    "xgbtest = xgb.DMatrix(tmp_test[predictors])\n",
    "\n",
    "model = xgb.train(params, xgbtrain, num_boost_round=1980, verbose_eval=100)\n",
    "y_pred = model.predict(xgbtest)\n",
    "y_pred = pd.Series(y_pred, name='test')\n",
    "    \n",
    "test['score_' + str(i)] = list(y_pred)\n",
    "print('finish kflod_' + str(i))\n",
    "    \n",
    "del tmp_train\n",
    "del tmp_test\n",
    "gc.collect()\n",
    "    \n",
    "test['score'] = (test['score_0'] + test['score_1'] + test['score_2'] + test['score_3'] + test['score_4']) / 5"
   ]
  },
  {
   "cell_type": "code",
   "execution_count": 16,
   "metadata": {
    "collapsed": true
   },
   "outputs": [
    {
     "data": {
      "text/html": [
       "<div>\n",
       "<style>\n",
       "    .dataframe thead tr:only-child th {\n",
       "        text-align: right;\n",
       "    }\n",
       "\n",
       "    .dataframe thead th {\n",
       "        text-align: left;\n",
       "    }\n",
       "\n",
       "    .dataframe tbody tr th {\n",
       "        vertical-align: top;\n",
       "    }\n",
       "</style>\n",
       "<table border=\"1\" class=\"dataframe\">\n",
       "  <thead>\n",
       "    <tr style=\"text-align: right;\">\n",
       "      <th></th>\n",
       "      <th>aid</th>\n",
       "      <th>uid</th>\n",
       "      <th>label</th>\n",
       "      <th>is_his</th>\n",
       "      <th>age</th>\n",
       "      <th>gender</th>\n",
       "      <th>marriageStatus</th>\n",
       "      <th>education</th>\n",
       "      <th>consumptionAbility</th>\n",
       "      <th>LBS</th>\n",
       "      <th>interest1</th>\n",
       "      <th>interest2</th>\n",
       "      <th>interest3</th>\n",
       "      <th>interest4</th>\n",
       "      <th>interest5</th>\n",
       "      <th>kw1</th>\n",
       "      <th>kw2</th>\n",
       "      <th>kw3</th>\n",
       "      <th>topic1</th>\n",
       "      <th>topic2</th>\n",
       "      <th>topic3</th>\n",
       "      <th>appIdInstall</th>\n",
       "      <th>appIdAction</th>\n",
       "      <th>ct</th>\n",
       "      <th>os</th>\n",
       "      <th>carrier</th>\n",
       "      <th>house</th>\n",
       "      <th>marriageStatus_split_count_score</th>\n",
       "      <th>marriageStatus_split_pos_count_score</th>\n",
       "      <th>interest1_split_count_score</th>\n",
       "      <th>interest1_split_pos_count_score</th>\n",
       "      <th>interest2_split_count_score</th>\n",
       "      <th>interest2_split_pos_count_score</th>\n",
       "      <th>interest3_split_count_score</th>\n",
       "      <th>interest3_split_pos_count_score</th>\n",
       "      <th>interest4_split_count_score</th>\n",
       "      <th>interest4_split_pos_count_score</th>\n",
       "      <th>interest5_split_count_score</th>\n",
       "      <th>interest5_split_pos_count_score</th>\n",
       "      <th>kw1_split_count_score</th>\n",
       "      <th>kw1_split_pos_count_score</th>\n",
       "      <th>kw2_split_count_score</th>\n",
       "      <th>kw2_split_pos_count_score</th>\n",
       "      <th>kw3_split_count_score</th>\n",
       "      <th>kw3_split_pos_count_score</th>\n",
       "      <th>topic1_split_count_score</th>\n",
       "      <th>topic1_split_pos_count_score</th>\n",
       "      <th>topic2_split_count_score</th>\n",
       "      <th>topic2_split_pos_count_score</th>\n",
       "      <th>topic3_split_count_score</th>\n",
       "      <th>topic3_split_pos_count_score</th>\n",
       "      <th>appIdInstall_split_count_score</th>\n",
       "      <th>appIdInstall_split_pos_count_score</th>\n",
       "      <th>appIdAction_split_count_score</th>\n",
       "      <th>appIdAction_split_pos_count_score</th>\n",
       "      <th>ct_split_count_score</th>\n",
       "      <th>ct_split_pos_count_score</th>\n",
       "      <th>os_split_count_score</th>\n",
       "      <th>os_split_pos_count_score</th>\n",
       "      <th>age_feature_count_score</th>\n",
       "      <th>age_feature_pos_count_score</th>\n",
       "      <th>gender_feature_count_score</th>\n",
       "      <th>gender_feature_pos_count_score</th>\n",
       "      <th>marriageStatus_feature_count_score</th>\n",
       "      <th>marriageStatus_feature_pos_count_score</th>\n",
       "      <th>education_feature_count_score</th>\n",
       "      <th>education_feature_pos_count_score</th>\n",
       "      <th>consumptionAbility_feature_count_score</th>\n",
       "      <th>consumptionAbility_feature_pos_count_score</th>\n",
       "      <th>LBS_feature_count_score</th>\n",
       "      <th>LBS_feature_pos_count_score</th>\n",
       "      <th>interest1_feature_count_score</th>\n",
       "      <th>interest1_feature_pos_count_score</th>\n",
       "      <th>interest2_feature_count_score</th>\n",
       "      <th>interest2_feature_pos_count_score</th>\n",
       "      <th>interest3_feature_count_score</th>\n",
       "      <th>interest3_feature_pos_count_score</th>\n",
       "      <th>interest4_feature_count_score</th>\n",
       "      <th>interest4_feature_pos_count_score</th>\n",
       "      <th>interest5_feature_count_score</th>\n",
       "      <th>interest5_feature_pos_count_score</th>\n",
       "      <th>kw1_feature_count_score</th>\n",
       "      <th>kw1_feature_pos_count_score</th>\n",
       "      <th>kw2_feature_count_score</th>\n",
       "      <th>kw2_feature_pos_count_score</th>\n",
       "      <th>kw3_feature_count_score</th>\n",
       "      <th>kw3_feature_pos_count_score</th>\n",
       "      <th>topic1_feature_count_score</th>\n",
       "      <th>topic1_feature_pos_count_score</th>\n",
       "      <th>topic2_feature_count_score</th>\n",
       "      <th>topic2_feature_pos_count_score</th>\n",
       "      <th>topic3_feature_count_score</th>\n",
       "      <th>topic3_feature_pos_count_score</th>\n",
       "      <th>appIdInstall_feature_count_score</th>\n",
       "      <th>appIdInstall_feature_pos_count_score</th>\n",
       "      <th>appIdAction_feature_count_score</th>\n",
       "      <th>appIdAction_feature_pos_count_score</th>\n",
       "      <th>ct_feature_count_score</th>\n",
       "      <th>ct_feature_pos_count_score</th>\n",
       "      <th>os_feature_count_score</th>\n",
       "      <th>os_feature_pos_count_score</th>\n",
       "      <th>carrier_feature_count_score</th>\n",
       "      <th>carrier_feature_pos_count_score</th>\n",
       "      <th>age_max</th>\n",
       "      <th>age_min</th>\n",
       "      <th>age_mean</th>\n",
       "      <th>age_std</th>\n",
       "      <th>age_pos_max</th>\n",
       "      <th>age_pos_min</th>\n",
       "      <th>age_pos_mean</th>\n",
       "      <th>age_pos_std</th>\n",
       "      <th>age_mean_sub</th>\n",
       "      <th>age_mean_pos_sub</th>\n",
       "      <th>gender_max</th>\n",
       "      <th>gender_min</th>\n",
       "      <th>gender_mean</th>\n",
       "      <th>gender_std</th>\n",
       "      <th>gender_pos_max</th>\n",
       "      <th>gender_pos_min</th>\n",
       "      <th>gender_pos_mean</th>\n",
       "      <th>gender_pos_std</th>\n",
       "      <th>gender_mean_sub</th>\n",
       "      <th>gender_mean_pos_sub</th>\n",
       "      <th>education_max</th>\n",
       "      <th>education_min</th>\n",
       "      <th>education_mean</th>\n",
       "      <th>education_std</th>\n",
       "      <th>education_pos_max</th>\n",
       "      <th>education_pos_min</th>\n",
       "      <th>education_pos_mean</th>\n",
       "      <th>education_pos_std</th>\n",
       "      <th>education_mean_sub</th>\n",
       "      <th>education_mean_pos_sub</th>\n",
       "      <th>consumptionAbility_max</th>\n",
       "      <th>consumptionAbility_min</th>\n",
       "      <th>consumptionAbility_mean</th>\n",
       "      <th>consumptionAbility_std</th>\n",
       "      <th>consumptionAbility_pos_max</th>\n",
       "      <th>consumptionAbility_pos_min</th>\n",
       "      <th>consumptionAbility_pos_mean</th>\n",
       "      <th>consumptionAbility_pos_std</th>\n",
       "      <th>consumptionAbility_mean_sub</th>\n",
       "      <th>consumptionAbility_mean_pos_sub</th>\n",
       "      <th>LBS_max</th>\n",
       "      <th>LBS_min</th>\n",
       "      <th>LBS_mean</th>\n",
       "      <th>LBS_std</th>\n",
       "      <th>LBS_pos_max</th>\n",
       "      <th>LBS_pos_min</th>\n",
       "      <th>LBS_pos_mean</th>\n",
       "      <th>LBS_pos_std</th>\n",
       "      <th>LBS_mean_sub</th>\n",
       "      <th>LBS_mean_pos_sub</th>\n",
       "      <th>carrier_max</th>\n",
       "      <th>carrier_min</th>\n",
       "      <th>carrier_mean</th>\n",
       "      <th>carrier_std</th>\n",
       "      <th>carrier_pos_max</th>\n",
       "      <th>carrier_pos_min</th>\n",
       "      <th>carrier_pos_mean</th>\n",
       "      <th>carrier_pos_std</th>\n",
       "      <th>carrier_mean_sub</th>\n",
       "      <th>carrier_mean_pos_sub</th>\n",
       "      <th>house_max</th>\n",
       "      <th>house_min</th>\n",
       "      <th>house_mean</th>\n",
       "      <th>house_std</th>\n",
       "      <th>house_pos_max</th>\n",
       "      <th>house_pos_min</th>\n",
       "      <th>house_pos_mean</th>\n",
       "      <th>house_pos_std</th>\n",
       "      <th>house_mean_sub</th>\n",
       "      <th>house_mean_pos_sub</th>\n",
       "      <th>score_1</th>\n",
       "      <th>score_2</th>\n",
       "      <th>score_3</th>\n",
       "      <th>score_4</th>\n",
       "      <th>score_5</th>\n",
       "      <th>score</th>\n",
       "    </tr>\n",
       "  </thead>\n",
       "  <tbody>\n",
       "    <tr>\n",
       "      <th>0</th>\n",
       "      <td>2118</td>\n",
       "      <td>64355836</td>\n",
       "      <td>-99</td>\n",
       "      <td>-99.0</td>\n",
       "      <td>1</td>\n",
       "      <td>1</td>\n",
       "      <td>['13', '10']</td>\n",
       "      <td>6</td>\n",
       "      <td>2</td>\n",
       "      <td>484.0</td>\n",
       "      <td>['70', '86', '100', '76', '75', '28', '106', '...</td>\n",
       "      <td>['47', '22', '24', '73', '9', '1', '46', '32',...</td>\n",
       "      <td>NaN</td>\n",
       "      <td>NaN</td>\n",
       "      <td>['72', '37', '13', '79', '6', '46', '94', '59'...</td>\n",
       "      <td>['89154', '196312', '627369', '87552', '440482']</td>\n",
       "      <td>['119567', '104708', '61089', '4272', '90835']</td>\n",
       "      <td>NaN</td>\n",
       "      <td>['9163', '1390', '9359', '7441', '2266']</td>\n",
       "      <td>['8582', '1471', '679', '4552', '845']</td>\n",
       "      <td>NaN</td>\n",
       "      <td>NaN</td>\n",
       "      <td>NaN</td>\n",
       "      <td>['1', '3', '4']</td>\n",
       "      <td>['1']</td>\n",
       "      <td>1</td>\n",
       "      <td>0.0</td>\n",
       "      <td>0.0</td>\n",
       "      <td>348126.0</td>\n",
       "      <td>0.0</td>\n",
       "      <td>1976005.0</td>\n",
       "      <td>0.0</td>\n",
       "      <td>1091275.0</td>\n",
       "      <td>0.0</td>\n",
       "      <td>0.0</td>\n",
       "      <td>0.0</td>\n",
       "      <td>0.0</td>\n",
       "      <td>0.0</td>\n",
       "      <td>1280690.0</td>\n",
       "      <td>0.0</td>\n",
       "      <td>15315.0</td>\n",
       "      <td>0.0</td>\n",
       "      <td>3896.0</td>\n",
       "      <td>0.0</td>\n",
       "      <td>0.0</td>\n",
       "      <td>0.0</td>\n",
       "      <td>2835.0</td>\n",
       "      <td>0.0</td>\n",
       "      <td>12854.0</td>\n",
       "      <td>0.0</td>\n",
       "      <td>0.0</td>\n",
       "      <td>0.0</td>\n",
       "      <td>0.0</td>\n",
       "      <td>0.0</td>\n",
       "      <td>0.0</td>\n",
       "      <td>0.0</td>\n",
       "      <td>670793.0</td>\n",
       "      <td>0.0</td>\n",
       "      <td>289165.0</td>\n",
       "      <td>2066060.0</td>\n",
       "      <td>89974.0</td>\n",
       "      <td>5734830.0</td>\n",
       "      <td>284158.0</td>\n",
       "      <td>1154124.0</td>\n",
       "      <td>70183.0</td>\n",
       "      <td>1518986.0</td>\n",
       "      <td>69492.0</td>\n",
       "      <td>1705997.0</td>\n",
       "      <td>102747.0</td>\n",
       "      <td>24844.0</td>\n",
       "      <td>1111.0</td>\n",
       "      <td>0.0</td>\n",
       "      <td>0.0</td>\n",
       "      <td>2.0</td>\n",
       "      <td>0.0</td>\n",
       "      <td>0.0</td>\n",
       "      <td>0.0</td>\n",
       "      <td>0.0</td>\n",
       "      <td>0.0</td>\n",
       "      <td>0.0</td>\n",
       "      <td>0.0</td>\n",
       "      <td>0.0</td>\n",
       "      <td>0.0</td>\n",
       "      <td>0.0</td>\n",
       "      <td>0.0</td>\n",
       "      <td>0.0</td>\n",
       "      <td>0.0</td>\n",
       "      <td>0.0</td>\n",
       "      <td>0.0</td>\n",
       "      <td>0.0</td>\n",
       "      <td>0.0</td>\n",
       "      <td>0.0</td>\n",
       "      <td>0.0</td>\n",
       "      <td>0.0</td>\n",
       "      <td>0.0</td>\n",
       "      <td>0.0</td>\n",
       "      <td>0.0</td>\n",
       "      <td>200816.0</td>\n",
       "      <td>8619.0</td>\n",
       "      <td>5203195.0</td>\n",
       "      <td>262098.0</td>\n",
       "      <td>4243115.0</td>\n",
       "      <td>194641.0</td>\n",
       "      <td>5</td>\n",
       "      <td>0</td>\n",
       "      <td>2.217602</td>\n",
       "      <td>1.350348</td>\n",
       "      <td>5</td>\n",
       "      <td>1</td>\n",
       "      <td>2.146810</td>\n",
       "      <td>1.138584</td>\n",
       "      <td>1.217602</td>\n",
       "      <td>1.146810</td>\n",
       "      <td>2</td>\n",
       "      <td>0</td>\n",
       "      <td>1.283093</td>\n",
       "      <td>0.451910</td>\n",
       "      <td>2</td>\n",
       "      <td>0</td>\n",
       "      <td>1.185228</td>\n",
       "      <td>0.393208</td>\n",
       "      <td>0.283093</td>\n",
       "      <td>0.185228</td>\n",
       "      <td>7</td>\n",
       "      <td>0</td>\n",
       "      <td>4.213553</td>\n",
       "      <td>2.428403</td>\n",
       "      <td>7</td>\n",
       "      <td>0</td>\n",
       "      <td>3.735879</td>\n",
       "      <td>2.374958</td>\n",
       "      <td>1.786447</td>\n",
       "      <td>2.264121</td>\n",
       "      <td>2</td>\n",
       "      <td>0</td>\n",
       "      <td>1.004300</td>\n",
       "      <td>0.619440</td>\n",
       "      <td>2</td>\n",
       "      <td>0</td>\n",
       "      <td>0.999314</td>\n",
       "      <td>0.580839</td>\n",
       "      <td>0.995700</td>\n",
       "      <td>1.000686</td>\n",
       "      <td>990.0</td>\n",
       "      <td>0.0</td>\n",
       "      <td>455.512622</td>\n",
       "      <td>285.860377</td>\n",
       "      <td>990.0</td>\n",
       "      <td>0.0</td>\n",
       "      <td>458.349874</td>\n",
       "      <td>289.244472</td>\n",
       "      <td>28.487378</td>\n",
       "      <td>25.650126</td>\n",
       "      <td>3</td>\n",
       "      <td>0</td>\n",
       "      <td>1.126834</td>\n",
       "      <td>0.970495</td>\n",
       "      <td>3</td>\n",
       "      <td>0</td>\n",
       "      <td>1.087812</td>\n",
       "      <td>0.986677</td>\n",
       "      <td>0.126834</td>\n",
       "      <td>0.087812</td>\n",
       "      <td>1.0</td>\n",
       "      <td>0.0</td>\n",
       "      <td>0.204329</td>\n",
       "      <td>0.403213</td>\n",
       "      <td>1.0</td>\n",
       "      <td>0.0</td>\n",
       "      <td>0.160531</td>\n",
       "      <td>0.367139</td>\n",
       "      <td>0.204329</td>\n",
       "      <td>0.160531</td>\n",
       "      <td>0.895348</td>\n",
       "      <td>0.895733</td>\n",
       "      <td>0.942881</td>\n",
       "      <td>0.927459</td>\n",
       "      <td>0.844109</td>\n",
       "      <td>0.901106</td>\n",
       "    </tr>\n",
       "    <tr>\n",
       "      <th>1</th>\n",
       "      <td>692</td>\n",
       "      <td>45051997</td>\n",
       "      <td>-99</td>\n",
       "      <td>-99.0</td>\n",
       "      <td>1</td>\n",
       "      <td>1</td>\n",
       "      <td>['10']</td>\n",
       "      <td>2</td>\n",
       "      <td>0</td>\n",
       "      <td>458.0</td>\n",
       "      <td>['118', '8', '36', '11']</td>\n",
       "      <td>NaN</td>\n",
       "      <td>NaN</td>\n",
       "      <td>NaN</td>\n",
       "      <td>NaN</td>\n",
       "      <td>['364949', '237016', '71200', '378773', '26682']</td>\n",
       "      <td>['53851', '51938', '18185', '63243', '38622']</td>\n",
       "      <td>NaN</td>\n",
       "      <td>['7087', '644', '3883', '9219', '4443']</td>\n",
       "      <td>['3397', '7314', '2746', '8822', '2747']</td>\n",
       "      <td>NaN</td>\n",
       "      <td>NaN</td>\n",
       "      <td>NaN</td>\n",
       "      <td>['0']</td>\n",
       "      <td>['0']</td>\n",
       "      <td>0</td>\n",
       "      <td>0.0</td>\n",
       "      <td>0.0</td>\n",
       "      <td>241405.0</td>\n",
       "      <td>0.0</td>\n",
       "      <td>802575.0</td>\n",
       "      <td>0.0</td>\n",
       "      <td>0.0</td>\n",
       "      <td>0.0</td>\n",
       "      <td>0.0</td>\n",
       "      <td>0.0</td>\n",
       "      <td>0.0</td>\n",
       "      <td>0.0</td>\n",
       "      <td>0.0</td>\n",
       "      <td>0.0</td>\n",
       "      <td>18298.0</td>\n",
       "      <td>0.0</td>\n",
       "      <td>43706.0</td>\n",
       "      <td>0.0</td>\n",
       "      <td>0.0</td>\n",
       "      <td>0.0</td>\n",
       "      <td>36352.0</td>\n",
       "      <td>0.0</td>\n",
       "      <td>3280.0</td>\n",
       "      <td>0.0</td>\n",
       "      <td>0.0</td>\n",
       "      <td>0.0</td>\n",
       "      <td>0.0</td>\n",
       "      <td>0.0</td>\n",
       "      <td>0.0</td>\n",
       "      <td>0.0</td>\n",
       "      <td>61268.0</td>\n",
       "      <td>0.0</td>\n",
       "      <td>63222.0</td>\n",
       "      <td>2066060.0</td>\n",
       "      <td>89974.0</td>\n",
       "      <td>5734830.0</td>\n",
       "      <td>284158.0</td>\n",
       "      <td>3397002.0</td>\n",
       "      <td>171214.0</td>\n",
       "      <td>2209712.0</td>\n",
       "      <td>125679.0</td>\n",
       "      <td>1883612.0</td>\n",
       "      <td>79370.0</td>\n",
       "      <td>279697.0</td>\n",
       "      <td>14269.0</td>\n",
       "      <td>6176.0</td>\n",
       "      <td>339.0</td>\n",
       "      <td>0.0</td>\n",
       "      <td>0.0</td>\n",
       "      <td>0.0</td>\n",
       "      <td>0.0</td>\n",
       "      <td>0.0</td>\n",
       "      <td>0.0</td>\n",
       "      <td>0.0</td>\n",
       "      <td>0.0</td>\n",
       "      <td>0.0</td>\n",
       "      <td>0.0</td>\n",
       "      <td>78.0</td>\n",
       "      <td>2.0</td>\n",
       "      <td>0.0</td>\n",
       "      <td>0.0</td>\n",
       "      <td>0.0</td>\n",
       "      <td>0.0</td>\n",
       "      <td>7.0</td>\n",
       "      <td>0.0</td>\n",
       "      <td>0.0</td>\n",
       "      <td>0.0</td>\n",
       "      <td>0.0</td>\n",
       "      <td>0.0</td>\n",
       "      <td>0.0</td>\n",
       "      <td>0.0</td>\n",
       "      <td>1103537.0</td>\n",
       "      <td>61268.0</td>\n",
       "      <td>1133466.0</td>\n",
       "      <td>63222.0</td>\n",
       "      <td>2447300.0</td>\n",
       "      <td>130722.0</td>\n",
       "      <td>5</td>\n",
       "      <td>0</td>\n",
       "      <td>2.758465</td>\n",
       "      <td>1.492011</td>\n",
       "      <td>5</td>\n",
       "      <td>0</td>\n",
       "      <td>2.706573</td>\n",
       "      <td>1.529029</td>\n",
       "      <td>1.758465</td>\n",
       "      <td>1.706573</td>\n",
       "      <td>2</td>\n",
       "      <td>0</td>\n",
       "      <td>0.993231</td>\n",
       "      <td>0.114289</td>\n",
       "      <td>2</td>\n",
       "      <td>0</td>\n",
       "      <td>0.994094</td>\n",
       "      <td>0.105993</td>\n",
       "      <td>0.006769</td>\n",
       "      <td>0.005906</td>\n",
       "      <td>7</td>\n",
       "      <td>0</td>\n",
       "      <td>4.135751</td>\n",
       "      <td>2.476886</td>\n",
       "      <td>7</td>\n",
       "      <td>0</td>\n",
       "      <td>4.381477</td>\n",
       "      <td>2.440774</td>\n",
       "      <td>2.135751</td>\n",
       "      <td>2.381477</td>\n",
       "      <td>2</td>\n",
       "      <td>0</td>\n",
       "      <td>0.769326</td>\n",
       "      <td>0.672691</td>\n",
       "      <td>2</td>\n",
       "      <td>0</td>\n",
       "      <td>0.753424</td>\n",
       "      <td>0.662953</td>\n",
       "      <td>0.769326</td>\n",
       "      <td>0.753424</td>\n",
       "      <td>997.0</td>\n",
       "      <td>0.0</td>\n",
       "      <td>442.159812</td>\n",
       "      <td>287.673858</td>\n",
       "      <td>990.0</td>\n",
       "      <td>0.0</td>\n",
       "      <td>445.896550</td>\n",
       "      <td>289.239007</td>\n",
       "      <td>15.840188</td>\n",
       "      <td>12.103450</td>\n",
       "      <td>3</td>\n",
       "      <td>0</td>\n",
       "      <td>0.872810</td>\n",
       "      <td>0.978594</td>\n",
       "      <td>3</td>\n",
       "      <td>0</td>\n",
       "      <td>0.847851</td>\n",
       "      <td>0.978408</td>\n",
       "      <td>0.872810</td>\n",
       "      <td>0.847851</td>\n",
       "      <td>1.0</td>\n",
       "      <td>0.0</td>\n",
       "      <td>0.182036</td>\n",
       "      <td>0.385875</td>\n",
       "      <td>1.0</td>\n",
       "      <td>0.0</td>\n",
       "      <td>0.194688</td>\n",
       "      <td>0.395968</td>\n",
       "      <td>0.182036</td>\n",
       "      <td>0.194688</td>\n",
       "      <td>0.297978</td>\n",
       "      <td>0.266753</td>\n",
       "      <td>0.468897</td>\n",
       "      <td>0.495871</td>\n",
       "      <td>0.305397</td>\n",
       "      <td>0.366979</td>\n",
       "    </tr>\n",
       "    <tr>\n",
       "      <th>2</th>\n",
       "      <td>692</td>\n",
       "      <td>10869198</td>\n",
       "      <td>-99</td>\n",
       "      <td>-99.0</td>\n",
       "      <td>2</td>\n",
       "      <td>1</td>\n",
       "      <td>['0']</td>\n",
       "      <td>0</td>\n",
       "      <td>0</td>\n",
       "      <td>0.0</td>\n",
       "      <td>NaN</td>\n",
       "      <td>NaN</td>\n",
       "      <td>NaN</td>\n",
       "      <td>NaN</td>\n",
       "      <td>NaN</td>\n",
       "      <td>NaN</td>\n",
       "      <td>NaN</td>\n",
       "      <td>NaN</td>\n",
       "      <td>NaN</td>\n",
       "      <td>NaN</td>\n",
       "      <td>NaN</td>\n",
       "      <td>NaN</td>\n",
       "      <td>NaN</td>\n",
       "      <td>['0']</td>\n",
       "      <td>['0']</td>\n",
       "      <td>0</td>\n",
       "      <td>0.0</td>\n",
       "      <td>0.0</td>\n",
       "      <td>28189.0</td>\n",
       "      <td>0.0</td>\n",
       "      <td>0.0</td>\n",
       "      <td>0.0</td>\n",
       "      <td>0.0</td>\n",
       "      <td>0.0</td>\n",
       "      <td>0.0</td>\n",
       "      <td>0.0</td>\n",
       "      <td>0.0</td>\n",
       "      <td>0.0</td>\n",
       "      <td>0.0</td>\n",
       "      <td>0.0</td>\n",
       "      <td>0.0</td>\n",
       "      <td>0.0</td>\n",
       "      <td>0.0</td>\n",
       "      <td>0.0</td>\n",
       "      <td>0.0</td>\n",
       "      <td>0.0</td>\n",
       "      <td>0.0</td>\n",
       "      <td>0.0</td>\n",
       "      <td>0.0</td>\n",
       "      <td>0.0</td>\n",
       "      <td>0.0</td>\n",
       "      <td>0.0</td>\n",
       "      <td>0.0</td>\n",
       "      <td>0.0</td>\n",
       "      <td>0.0</td>\n",
       "      <td>0.0</td>\n",
       "      <td>61268.0</td>\n",
       "      <td>0.0</td>\n",
       "      <td>63222.0</td>\n",
       "      <td>2027808.0</td>\n",
       "      <td>139068.0</td>\n",
       "      <td>5734830.0</td>\n",
       "      <td>284158.0</td>\n",
       "      <td>561747.0</td>\n",
       "      <td>28189.0</td>\n",
       "      <td>80243.0</td>\n",
       "      <td>3883.0</td>\n",
       "      <td>1883612.0</td>\n",
       "      <td>79370.0</td>\n",
       "      <td>49138.0</td>\n",
       "      <td>2503.0</td>\n",
       "      <td>0.0</td>\n",
       "      <td>0.0</td>\n",
       "      <td>0.0</td>\n",
       "      <td>0.0</td>\n",
       "      <td>0.0</td>\n",
       "      <td>0.0</td>\n",
       "      <td>0.0</td>\n",
       "      <td>0.0</td>\n",
       "      <td>0.0</td>\n",
       "      <td>0.0</td>\n",
       "      <td>0.0</td>\n",
       "      <td>0.0</td>\n",
       "      <td>0.0</td>\n",
       "      <td>0.0</td>\n",
       "      <td>0.0</td>\n",
       "      <td>0.0</td>\n",
       "      <td>0.0</td>\n",
       "      <td>0.0</td>\n",
       "      <td>0.0</td>\n",
       "      <td>0.0</td>\n",
       "      <td>0.0</td>\n",
       "      <td>0.0</td>\n",
       "      <td>0.0</td>\n",
       "      <td>0.0</td>\n",
       "      <td>0.0</td>\n",
       "      <td>0.0</td>\n",
       "      <td>1103537.0</td>\n",
       "      <td>61268.0</td>\n",
       "      <td>1133466.0</td>\n",
       "      <td>63222.0</td>\n",
       "      <td>2447300.0</td>\n",
       "      <td>130722.0</td>\n",
       "      <td>5</td>\n",
       "      <td>0</td>\n",
       "      <td>2.758465</td>\n",
       "      <td>1.492011</td>\n",
       "      <td>5</td>\n",
       "      <td>0</td>\n",
       "      <td>2.706573</td>\n",
       "      <td>1.529029</td>\n",
       "      <td>0.758465</td>\n",
       "      <td>0.706573</td>\n",
       "      <td>2</td>\n",
       "      <td>0</td>\n",
       "      <td>0.993231</td>\n",
       "      <td>0.114289</td>\n",
       "      <td>2</td>\n",
       "      <td>0</td>\n",
       "      <td>0.994094</td>\n",
       "      <td>0.105993</td>\n",
       "      <td>0.006769</td>\n",
       "      <td>0.005906</td>\n",
       "      <td>7</td>\n",
       "      <td>0</td>\n",
       "      <td>4.135751</td>\n",
       "      <td>2.476886</td>\n",
       "      <td>7</td>\n",
       "      <td>0</td>\n",
       "      <td>4.381477</td>\n",
       "      <td>2.440774</td>\n",
       "      <td>4.135751</td>\n",
       "      <td>4.381477</td>\n",
       "      <td>2</td>\n",
       "      <td>0</td>\n",
       "      <td>0.769326</td>\n",
       "      <td>0.672691</td>\n",
       "      <td>2</td>\n",
       "      <td>0</td>\n",
       "      <td>0.753424</td>\n",
       "      <td>0.662953</td>\n",
       "      <td>0.769326</td>\n",
       "      <td>0.753424</td>\n",
       "      <td>997.0</td>\n",
       "      <td>0.0</td>\n",
       "      <td>442.159812</td>\n",
       "      <td>287.673858</td>\n",
       "      <td>990.0</td>\n",
       "      <td>0.0</td>\n",
       "      <td>445.896550</td>\n",
       "      <td>289.239007</td>\n",
       "      <td>442.159812</td>\n",
       "      <td>445.896550</td>\n",
       "      <td>3</td>\n",
       "      <td>0</td>\n",
       "      <td>0.872810</td>\n",
       "      <td>0.978594</td>\n",
       "      <td>3</td>\n",
       "      <td>0</td>\n",
       "      <td>0.847851</td>\n",
       "      <td>0.978408</td>\n",
       "      <td>0.872810</td>\n",
       "      <td>0.847851</td>\n",
       "      <td>1.0</td>\n",
       "      <td>0.0</td>\n",
       "      <td>0.182036</td>\n",
       "      <td>0.385875</td>\n",
       "      <td>1.0</td>\n",
       "      <td>0.0</td>\n",
       "      <td>0.194688</td>\n",
       "      <td>0.395968</td>\n",
       "      <td>0.182036</td>\n",
       "      <td>0.194688</td>\n",
       "      <td>0.035271</td>\n",
       "      <td>0.033489</td>\n",
       "      <td>0.037947</td>\n",
       "      <td>0.036314</td>\n",
       "      <td>0.038877</td>\n",
       "      <td>0.036379</td>\n",
       "    </tr>\n",
       "    <tr>\n",
       "      <th>3</th>\n",
       "      <td>1918</td>\n",
       "      <td>75929554</td>\n",
       "      <td>-99</td>\n",
       "      <td>-99.0</td>\n",
       "      <td>4</td>\n",
       "      <td>1</td>\n",
       "      <td>['11']</td>\n",
       "      <td>7</td>\n",
       "      <td>1</td>\n",
       "      <td>143.0</td>\n",
       "      <td>['93', '70', '86', '8', '49', '83', '6', '42',...</td>\n",
       "      <td>['63', '30']</td>\n",
       "      <td>NaN</td>\n",
       "      <td>NaN</td>\n",
       "      <td>['100', '72', '92', '37', '116', '47', '71', '...</td>\n",
       "      <td>['428098', '171741', '279667', '3234', '121260']</td>\n",
       "      <td>['82374', '104708', '10662', '109374', '8125']</td>\n",
       "      <td>NaN</td>\n",
       "      <td>['4264', '523', '4149', '1869', '9786']</td>\n",
       "      <td>['2293', '343', '5380', '9125', '5633']</td>\n",
       "      <td>NaN</td>\n",
       "      <td>NaN</td>\n",
       "      <td>NaN</td>\n",
       "      <td>['3', '1']</td>\n",
       "      <td>['2']</td>\n",
       "      <td>1</td>\n",
       "      <td>1.0</td>\n",
       "      <td>0.0</td>\n",
       "      <td>109352.0</td>\n",
       "      <td>0.0</td>\n",
       "      <td>2836885.0</td>\n",
       "      <td>0.0</td>\n",
       "      <td>147434.0</td>\n",
       "      <td>0.0</td>\n",
       "      <td>0.0</td>\n",
       "      <td>0.0</td>\n",
       "      <td>0.0</td>\n",
       "      <td>0.0</td>\n",
       "      <td>3389205.0</td>\n",
       "      <td>0.0</td>\n",
       "      <td>5923.0</td>\n",
       "      <td>0.0</td>\n",
       "      <td>9317.0</td>\n",
       "      <td>0.0</td>\n",
       "      <td>0.0</td>\n",
       "      <td>0.0</td>\n",
       "      <td>44245.0</td>\n",
       "      <td>0.0</td>\n",
       "      <td>7277.0</td>\n",
       "      <td>0.0</td>\n",
       "      <td>0.0</td>\n",
       "      <td>0.0</td>\n",
       "      <td>0.0</td>\n",
       "      <td>0.0</td>\n",
       "      <td>0.0</td>\n",
       "      <td>0.0</td>\n",
       "      <td>625172.0</td>\n",
       "      <td>0.0</td>\n",
       "      <td>96641.0</td>\n",
       "      <td>1685773.0</td>\n",
       "      <td>65894.0</td>\n",
       "      <td>5734830.0</td>\n",
       "      <td>284158.0</td>\n",
       "      <td>2632433.0</td>\n",
       "      <td>109352.0</td>\n",
       "      <td>3134106.0</td>\n",
       "      <td>130784.0</td>\n",
       "      <td>5209205.0</td>\n",
       "      <td>239844.0</td>\n",
       "      <td>11035.0</td>\n",
       "      <td>595.0</td>\n",
       "      <td>0.0</td>\n",
       "      <td>0.0</td>\n",
       "      <td>74317.0</td>\n",
       "      <td>5912.0</td>\n",
       "      <td>0.0</td>\n",
       "      <td>0.0</td>\n",
       "      <td>0.0</td>\n",
       "      <td>0.0</td>\n",
       "      <td>0.0</td>\n",
       "      <td>0.0</td>\n",
       "      <td>0.0</td>\n",
       "      <td>0.0</td>\n",
       "      <td>0.0</td>\n",
       "      <td>0.0</td>\n",
       "      <td>0.0</td>\n",
       "      <td>0.0</td>\n",
       "      <td>0.0</td>\n",
       "      <td>0.0</td>\n",
       "      <td>0.0</td>\n",
       "      <td>0.0</td>\n",
       "      <td>0.0</td>\n",
       "      <td>0.0</td>\n",
       "      <td>0.0</td>\n",
       "      <td>0.0</td>\n",
       "      <td>0.0</td>\n",
       "      <td>0.0</td>\n",
       "      <td>2480689.0</td>\n",
       "      <td>110458.0</td>\n",
       "      <td>1802830.0</td>\n",
       "      <td>69574.0</td>\n",
       "      <td>4243115.0</td>\n",
       "      <td>194641.0</td>\n",
       "      <td>5</td>\n",
       "      <td>0</td>\n",
       "      <td>4.163289</td>\n",
       "      <td>1.025507</td>\n",
       "      <td>5</td>\n",
       "      <td>0</td>\n",
       "      <td>3.940580</td>\n",
       "      <td>1.319587</td>\n",
       "      <td>0.163289</td>\n",
       "      <td>0.059420</td>\n",
       "      <td>2</td>\n",
       "      <td>0</td>\n",
       "      <td>1.000331</td>\n",
       "      <td>0.027436</td>\n",
       "      <td>2</td>\n",
       "      <td>0</td>\n",
       "      <td>1.000176</td>\n",
       "      <td>0.035133</td>\n",
       "      <td>0.000331</td>\n",
       "      <td>0.000176</td>\n",
       "      <td>7</td>\n",
       "      <td>0</td>\n",
       "      <td>5.444251</td>\n",
       "      <td>2.128459</td>\n",
       "      <td>7</td>\n",
       "      <td>0</td>\n",
       "      <td>5.085603</td>\n",
       "      <td>2.298940</td>\n",
       "      <td>1.555749</td>\n",
       "      <td>1.914397</td>\n",
       "      <td>2</td>\n",
       "      <td>0</td>\n",
       "      <td>1.051842</td>\n",
       "      <td>0.540022</td>\n",
       "      <td>2</td>\n",
       "      <td>0</td>\n",
       "      <td>1.030327</td>\n",
       "      <td>0.587710</td>\n",
       "      <td>0.051842</td>\n",
       "      <td>0.030327</td>\n",
       "      <td>997.0</td>\n",
       "      <td>0.0</td>\n",
       "      <td>438.375446</td>\n",
       "      <td>279.476891</td>\n",
       "      <td>990.0</td>\n",
       "      <td>0.0</td>\n",
       "      <td>433.607070</td>\n",
       "      <td>273.262129</td>\n",
       "      <td>295.375446</td>\n",
       "      <td>290.607070</td>\n",
       "      <td>3</td>\n",
       "      <td>0</td>\n",
       "      <td>1.322140</td>\n",
       "      <td>0.891912</td>\n",
       "      <td>3</td>\n",
       "      <td>0</td>\n",
       "      <td>1.186635</td>\n",
       "      <td>0.923827</td>\n",
       "      <td>0.322140</td>\n",
       "      <td>0.186635</td>\n",
       "      <td>1.0</td>\n",
       "      <td>0.0</td>\n",
       "      <td>0.195024</td>\n",
       "      <td>0.396220</td>\n",
       "      <td>1.0</td>\n",
       "      <td>0.0</td>\n",
       "      <td>0.174381</td>\n",
       "      <td>0.379453</td>\n",
       "      <td>0.804976</td>\n",
       "      <td>0.825619</td>\n",
       "      <td>0.517776</td>\n",
       "      <td>0.683006</td>\n",
       "      <td>0.739205</td>\n",
       "      <td>0.709610</td>\n",
       "      <td>0.688555</td>\n",
       "      <td>0.667630</td>\n",
       "    </tr>\n",
       "    <tr>\n",
       "      <th>4</th>\n",
       "      <td>1596</td>\n",
       "      <td>5790162</td>\n",
       "      <td>-99</td>\n",
       "      <td>-99.0</td>\n",
       "      <td>1</td>\n",
       "      <td>2</td>\n",
       "      <td>['13', '10']</td>\n",
       "      <td>2</td>\n",
       "      <td>1</td>\n",
       "      <td>458.0</td>\n",
       "      <td>['75', '29', '59', '49', '18']</td>\n",
       "      <td>['22', '73', '79', '46', '70', '6', '74', '72'...</td>\n",
       "      <td>NaN</td>\n",
       "      <td>NaN</td>\n",
       "      <td>NaN</td>\n",
       "      <td>['588888', '788493', '243690', '232760', '5411...</td>\n",
       "      <td>['43977', '119780', '85039', '79676', '27507']</td>\n",
       "      <td>NaN</td>\n",
       "      <td>['9313', '7387', '644', '6239', '4309']</td>\n",
       "      <td>['8389', '778', '982', '10', '8650']</td>\n",
       "      <td>NaN</td>\n",
       "      <td>NaN</td>\n",
       "      <td>NaN</td>\n",
       "      <td>['3', '1']</td>\n",
       "      <td>['1']</td>\n",
       "      <td>0</td>\n",
       "      <td>0.0</td>\n",
       "      <td>0.0</td>\n",
       "      <td>348126.0</td>\n",
       "      <td>0.0</td>\n",
       "      <td>742565.0</td>\n",
       "      <td>0.0</td>\n",
       "      <td>794949.0</td>\n",
       "      <td>0.0</td>\n",
       "      <td>0.0</td>\n",
       "      <td>0.0</td>\n",
       "      <td>0.0</td>\n",
       "      <td>0.0</td>\n",
       "      <td>0.0</td>\n",
       "      <td>0.0</td>\n",
       "      <td>598.0</td>\n",
       "      <td>0.0</td>\n",
       "      <td>50472.0</td>\n",
       "      <td>0.0</td>\n",
       "      <td>0.0</td>\n",
       "      <td>0.0</td>\n",
       "      <td>35019.0</td>\n",
       "      <td>0.0</td>\n",
       "      <td>11159.0</td>\n",
       "      <td>0.0</td>\n",
       "      <td>0.0</td>\n",
       "      <td>0.0</td>\n",
       "      <td>0.0</td>\n",
       "      <td>0.0</td>\n",
       "      <td>0.0</td>\n",
       "      <td>0.0</td>\n",
       "      <td>625172.0</td>\n",
       "      <td>0.0</td>\n",
       "      <td>289165.0</td>\n",
       "      <td>2066060.0</td>\n",
       "      <td>89974.0</td>\n",
       "      <td>3038759.0</td>\n",
       "      <td>136537.0</td>\n",
       "      <td>1154124.0</td>\n",
       "      <td>70183.0</td>\n",
       "      <td>2209712.0</td>\n",
       "      <td>125679.0</td>\n",
       "      <td>5209205.0</td>\n",
       "      <td>239844.0</td>\n",
       "      <td>279697.0</td>\n",
       "      <td>14269.0</td>\n",
       "      <td>114.0</td>\n",
       "      <td>10.0</td>\n",
       "      <td>1.0</td>\n",
       "      <td>0.0</td>\n",
       "      <td>0.0</td>\n",
       "      <td>0.0</td>\n",
       "      <td>0.0</td>\n",
       "      <td>0.0</td>\n",
       "      <td>0.0</td>\n",
       "      <td>0.0</td>\n",
       "      <td>1.0</td>\n",
       "      <td>0.0</td>\n",
       "      <td>36.0</td>\n",
       "      <td>9.0</td>\n",
       "      <td>0.0</td>\n",
       "      <td>0.0</td>\n",
       "      <td>1.0</td>\n",
       "      <td>0.0</td>\n",
       "      <td>1.0</td>\n",
       "      <td>0.0</td>\n",
       "      <td>0.0</td>\n",
       "      <td>0.0</td>\n",
       "      <td>0.0</td>\n",
       "      <td>0.0</td>\n",
       "      <td>0.0</td>\n",
       "      <td>0.0</td>\n",
       "      <td>2480689.0</td>\n",
       "      <td>110458.0</td>\n",
       "      <td>5203195.0</td>\n",
       "      <td>262098.0</td>\n",
       "      <td>2447300.0</td>\n",
       "      <td>130722.0</td>\n",
       "      <td>5</td>\n",
       "      <td>0</td>\n",
       "      <td>1.971283</td>\n",
       "      <td>1.067968</td>\n",
       "      <td>5</td>\n",
       "      <td>1</td>\n",
       "      <td>2.245698</td>\n",
       "      <td>1.202486</td>\n",
       "      <td>0.971283</td>\n",
       "      <td>1.245698</td>\n",
       "      <td>2</td>\n",
       "      <td>0</td>\n",
       "      <td>1.991724</td>\n",
       "      <td>0.094501</td>\n",
       "      <td>2</td>\n",
       "      <td>0</td>\n",
       "      <td>1.990998</td>\n",
       "      <td>0.097226</td>\n",
       "      <td>0.008276</td>\n",
       "      <td>0.009002</td>\n",
       "      <td>7</td>\n",
       "      <td>0</td>\n",
       "      <td>3.839989</td>\n",
       "      <td>2.377195</td>\n",
       "      <td>7</td>\n",
       "      <td>0</td>\n",
       "      <td>3.402436</td>\n",
       "      <td>2.265267</td>\n",
       "      <td>1.839989</td>\n",
       "      <td>1.402436</td>\n",
       "      <td>2</td>\n",
       "      <td>0</td>\n",
       "      <td>1.280374</td>\n",
       "      <td>0.646331</td>\n",
       "      <td>2</td>\n",
       "      <td>0</td>\n",
       "      <td>1.570294</td>\n",
       "      <td>0.560811</td>\n",
       "      <td>0.280374</td>\n",
       "      <td>0.570294</td>\n",
       "      <td>990.0</td>\n",
       "      <td>0.0</td>\n",
       "      <td>444.303776</td>\n",
       "      <td>285.627692</td>\n",
       "      <td>990.0</td>\n",
       "      <td>0.0</td>\n",
       "      <td>451.075457</td>\n",
       "      <td>279.357785</td>\n",
       "      <td>13.696224</td>\n",
       "      <td>6.924543</td>\n",
       "      <td>3</td>\n",
       "      <td>0</td>\n",
       "      <td>1.176226</td>\n",
       "      <td>0.952508</td>\n",
       "      <td>3</td>\n",
       "      <td>0</td>\n",
       "      <td>0.967699</td>\n",
       "      <td>0.975068</td>\n",
       "      <td>1.176226</td>\n",
       "      <td>0.967699</td>\n",
       "      <td>1.0</td>\n",
       "      <td>0.0</td>\n",
       "      <td>0.132092</td>\n",
       "      <td>0.338593</td>\n",
       "      <td>1.0</td>\n",
       "      <td>0.0</td>\n",
       "      <td>0.071750</td>\n",
       "      <td>0.258108</td>\n",
       "      <td>0.132092</td>\n",
       "      <td>0.071750</td>\n",
       "      <td>0.955318</td>\n",
       "      <td>0.989909</td>\n",
       "      <td>0.983587</td>\n",
       "      <td>0.975918</td>\n",
       "      <td>0.990687</td>\n",
       "      <td>0.979084</td>\n",
       "    </tr>\n",
       "  </tbody>\n",
       "</table>\n",
       "</div>"
      ],
      "text/plain": [
       "    aid       uid  label  is_his  age  gender marriageStatus  education  \\\n",
       "0  2118  64355836    -99   -99.0    1       1   ['13', '10']          6   \n",
       "1   692  45051997    -99   -99.0    1       1         ['10']          2   \n",
       "2   692  10869198    -99   -99.0    2       1          ['0']          0   \n",
       "3  1918  75929554    -99   -99.0    4       1         ['11']          7   \n",
       "4  1596   5790162    -99   -99.0    1       2   ['13', '10']          2   \n",
       "\n",
       "   consumptionAbility    LBS  \\\n",
       "0                   2  484.0   \n",
       "1                   0  458.0   \n",
       "2                   0    0.0   \n",
       "3                   1  143.0   \n",
       "4                   1  458.0   \n",
       "\n",
       "                                           interest1  \\\n",
       "0  ['70', '86', '100', '76', '75', '28', '106', '...   \n",
       "1                           ['118', '8', '36', '11']   \n",
       "2                                                NaN   \n",
       "3  ['93', '70', '86', '8', '49', '83', '6', '42',...   \n",
       "4                     ['75', '29', '59', '49', '18']   \n",
       "\n",
       "                                           interest2 interest3 interest4  \\\n",
       "0  ['47', '22', '24', '73', '9', '1', '46', '32',...       NaN       NaN   \n",
       "1                                                NaN       NaN       NaN   \n",
       "2                                                NaN       NaN       NaN   \n",
       "3                                       ['63', '30']       NaN       NaN   \n",
       "4  ['22', '73', '79', '46', '70', '6', '74', '72'...       NaN       NaN   \n",
       "\n",
       "                                           interest5  \\\n",
       "0  ['72', '37', '13', '79', '6', '46', '94', '59'...   \n",
       "1                                                NaN   \n",
       "2                                                NaN   \n",
       "3  ['100', '72', '92', '37', '116', '47', '71', '...   \n",
       "4                                                NaN   \n",
       "\n",
       "                                                 kw1  \\\n",
       "0   ['89154', '196312', '627369', '87552', '440482']   \n",
       "1   ['364949', '237016', '71200', '378773', '26682']   \n",
       "2                                                NaN   \n",
       "3   ['428098', '171741', '279667', '3234', '121260']   \n",
       "4  ['588888', '788493', '243690', '232760', '5411...   \n",
       "\n",
       "                                              kw2  kw3  \\\n",
       "0  ['119567', '104708', '61089', '4272', '90835']  NaN   \n",
       "1   ['53851', '51938', '18185', '63243', '38622']  NaN   \n",
       "2                                             NaN  NaN   \n",
       "3  ['82374', '104708', '10662', '109374', '8125']  NaN   \n",
       "4  ['43977', '119780', '85039', '79676', '27507']  NaN   \n",
       "\n",
       "                                     topic1  \\\n",
       "0  ['9163', '1390', '9359', '7441', '2266']   \n",
       "1   ['7087', '644', '3883', '9219', '4443']   \n",
       "2                                       NaN   \n",
       "3   ['4264', '523', '4149', '1869', '9786']   \n",
       "4   ['9313', '7387', '644', '6239', '4309']   \n",
       "\n",
       "                                     topic2 topic3 appIdInstall appIdAction  \\\n",
       "0    ['8582', '1471', '679', '4552', '845']    NaN          NaN         NaN   \n",
       "1  ['3397', '7314', '2746', '8822', '2747']    NaN          NaN         NaN   \n",
       "2                                       NaN    NaN          NaN         NaN   \n",
       "3   ['2293', '343', '5380', '9125', '5633']    NaN          NaN         NaN   \n",
       "4      ['8389', '778', '982', '10', '8650']    NaN          NaN         NaN   \n",
       "\n",
       "                ct     os  carrier  house  marriageStatus_split_count_score  \\\n",
       "0  ['1', '3', '4']  ['1']        1    0.0                               0.0   \n",
       "1            ['0']  ['0']        0    0.0                               0.0   \n",
       "2            ['0']  ['0']        0    0.0                               0.0   \n",
       "3       ['3', '1']  ['2']        1    1.0                               0.0   \n",
       "4       ['3', '1']  ['1']        0    0.0                               0.0   \n",
       "\n",
       "   marriageStatus_split_pos_count_score  interest1_split_count_score  \\\n",
       "0                              348126.0                          0.0   \n",
       "1                              241405.0                          0.0   \n",
       "2                               28189.0                          0.0   \n",
       "3                              109352.0                          0.0   \n",
       "4                              348126.0                          0.0   \n",
       "\n",
       "   interest1_split_pos_count_score  interest2_split_count_score  \\\n",
       "0                        1976005.0                          0.0   \n",
       "1                         802575.0                          0.0   \n",
       "2                              0.0                          0.0   \n",
       "3                        2836885.0                          0.0   \n",
       "4                         742565.0                          0.0   \n",
       "\n",
       "   interest2_split_pos_count_score  interest3_split_count_score  \\\n",
       "0                        1091275.0                          0.0   \n",
       "1                              0.0                          0.0   \n",
       "2                              0.0                          0.0   \n",
       "3                         147434.0                          0.0   \n",
       "4                         794949.0                          0.0   \n",
       "\n",
       "   interest3_split_pos_count_score  interest4_split_count_score  \\\n",
       "0                              0.0                          0.0   \n",
       "1                              0.0                          0.0   \n",
       "2                              0.0                          0.0   \n",
       "3                              0.0                          0.0   \n",
       "4                              0.0                          0.0   \n",
       "\n",
       "   interest4_split_pos_count_score  interest5_split_count_score  \\\n",
       "0                              0.0                          0.0   \n",
       "1                              0.0                          0.0   \n",
       "2                              0.0                          0.0   \n",
       "3                              0.0                          0.0   \n",
       "4                              0.0                          0.0   \n",
       "\n",
       "   interest5_split_pos_count_score  kw1_split_count_score  \\\n",
       "0                        1280690.0                    0.0   \n",
       "1                              0.0                    0.0   \n",
       "2                              0.0                    0.0   \n",
       "3                        3389205.0                    0.0   \n",
       "4                              0.0                    0.0   \n",
       "\n",
       "   kw1_split_pos_count_score  kw2_split_count_score  \\\n",
       "0                    15315.0                    0.0   \n",
       "1                    18298.0                    0.0   \n",
       "2                        0.0                    0.0   \n",
       "3                     5923.0                    0.0   \n",
       "4                      598.0                    0.0   \n",
       "\n",
       "   kw2_split_pos_count_score  kw3_split_count_score  \\\n",
       "0                     3896.0                    0.0   \n",
       "1                    43706.0                    0.0   \n",
       "2                        0.0                    0.0   \n",
       "3                     9317.0                    0.0   \n",
       "4                    50472.0                    0.0   \n",
       "\n",
       "   kw3_split_pos_count_score  topic1_split_count_score  \\\n",
       "0                        0.0                       0.0   \n",
       "1                        0.0                       0.0   \n",
       "2                        0.0                       0.0   \n",
       "3                        0.0                       0.0   \n",
       "4                        0.0                       0.0   \n",
       "\n",
       "   topic1_split_pos_count_score  topic2_split_count_score  \\\n",
       "0                        2835.0                       0.0   \n",
       "1                       36352.0                       0.0   \n",
       "2                           0.0                       0.0   \n",
       "3                       44245.0                       0.0   \n",
       "4                       35019.0                       0.0   \n",
       "\n",
       "   topic2_split_pos_count_score  topic3_split_count_score  \\\n",
       "0                       12854.0                       0.0   \n",
       "1                        3280.0                       0.0   \n",
       "2                           0.0                       0.0   \n",
       "3                        7277.0                       0.0   \n",
       "4                       11159.0                       0.0   \n",
       "\n",
       "   topic3_split_pos_count_score  appIdInstall_split_count_score  \\\n",
       "0                           0.0                             0.0   \n",
       "1                           0.0                             0.0   \n",
       "2                           0.0                             0.0   \n",
       "3                           0.0                             0.0   \n",
       "4                           0.0                             0.0   \n",
       "\n",
       "   appIdInstall_split_pos_count_score  appIdAction_split_count_score  \\\n",
       "0                                 0.0                            0.0   \n",
       "1                                 0.0                            0.0   \n",
       "2                                 0.0                            0.0   \n",
       "3                                 0.0                            0.0   \n",
       "4                                 0.0                            0.0   \n",
       "\n",
       "   appIdAction_split_pos_count_score  ct_split_count_score  \\\n",
       "0                                0.0                   0.0   \n",
       "1                                0.0                   0.0   \n",
       "2                                0.0                   0.0   \n",
       "3                                0.0                   0.0   \n",
       "4                                0.0                   0.0   \n",
       "\n",
       "   ct_split_pos_count_score  os_split_count_score  os_split_pos_count_score  \\\n",
       "0                  670793.0                   0.0                  289165.0   \n",
       "1                   61268.0                   0.0                   63222.0   \n",
       "2                   61268.0                   0.0                   63222.0   \n",
       "3                  625172.0                   0.0                   96641.0   \n",
       "4                  625172.0                   0.0                  289165.0   \n",
       "\n",
       "   age_feature_count_score  age_feature_pos_count_score  \\\n",
       "0                2066060.0                      89974.0   \n",
       "1                2066060.0                      89974.0   \n",
       "2                2027808.0                     139068.0   \n",
       "3                1685773.0                      65894.0   \n",
       "4                2066060.0                      89974.0   \n",
       "\n",
       "   gender_feature_count_score  gender_feature_pos_count_score  \\\n",
       "0                   5734830.0                        284158.0   \n",
       "1                   5734830.0                        284158.0   \n",
       "2                   5734830.0                        284158.0   \n",
       "3                   5734830.0                        284158.0   \n",
       "4                   3038759.0                        136537.0   \n",
       "\n",
       "   marriageStatus_feature_count_score  marriageStatus_feature_pos_count_score  \\\n",
       "0                           1154124.0                                 70183.0   \n",
       "1                           3397002.0                                171214.0   \n",
       "2                            561747.0                                 28189.0   \n",
       "3                           2632433.0                                109352.0   \n",
       "4                           1154124.0                                 70183.0   \n",
       "\n",
       "   education_feature_count_score  education_feature_pos_count_score  \\\n",
       "0                      1518986.0                            69492.0   \n",
       "1                      2209712.0                           125679.0   \n",
       "2                        80243.0                             3883.0   \n",
       "3                      3134106.0                           130784.0   \n",
       "4                      2209712.0                           125679.0   \n",
       "\n",
       "   consumptionAbility_feature_count_score  \\\n",
       "0                               1705997.0   \n",
       "1                               1883612.0   \n",
       "2                               1883612.0   \n",
       "3                               5209205.0   \n",
       "4                               5209205.0   \n",
       "\n",
       "   consumptionAbility_feature_pos_count_score  LBS_feature_count_score  \\\n",
       "0                                    102747.0                  24844.0   \n",
       "1                                     79370.0                 279697.0   \n",
       "2                                     79370.0                  49138.0   \n",
       "3                                    239844.0                  11035.0   \n",
       "4                                    239844.0                 279697.0   \n",
       "\n",
       "   LBS_feature_pos_count_score  interest1_feature_count_score  \\\n",
       "0                       1111.0                            0.0   \n",
       "1                      14269.0                         6176.0   \n",
       "2                       2503.0                            0.0   \n",
       "3                        595.0                            0.0   \n",
       "4                      14269.0                          114.0   \n",
       "\n",
       "   interest1_feature_pos_count_score  interest2_feature_count_score  \\\n",
       "0                                0.0                            2.0   \n",
       "1                              339.0                            0.0   \n",
       "2                                0.0                            0.0   \n",
       "3                                0.0                        74317.0   \n",
       "4                               10.0                            1.0   \n",
       "\n",
       "   interest2_feature_pos_count_score  interest3_feature_count_score  \\\n",
       "0                                0.0                            0.0   \n",
       "1                                0.0                            0.0   \n",
       "2                                0.0                            0.0   \n",
       "3                             5912.0                            0.0   \n",
       "4                                0.0                            0.0   \n",
       "\n",
       "   interest3_feature_pos_count_score  interest4_feature_count_score  \\\n",
       "0                                0.0                            0.0   \n",
       "1                                0.0                            0.0   \n",
       "2                                0.0                            0.0   \n",
       "3                                0.0                            0.0   \n",
       "4                                0.0                            0.0   \n",
       "\n",
       "   interest4_feature_pos_count_score  interest5_feature_count_score  \\\n",
       "0                                0.0                            0.0   \n",
       "1                                0.0                            0.0   \n",
       "2                                0.0                            0.0   \n",
       "3                                0.0                            0.0   \n",
       "4                                0.0                            0.0   \n",
       "\n",
       "   interest5_feature_pos_count_score  kw1_feature_count_score  \\\n",
       "0                                0.0                      0.0   \n",
       "1                                0.0                      0.0   \n",
       "2                                0.0                      0.0   \n",
       "3                                0.0                      0.0   \n",
       "4                                0.0                      1.0   \n",
       "\n",
       "   kw1_feature_pos_count_score  kw2_feature_count_score  \\\n",
       "0                          0.0                      0.0   \n",
       "1                          0.0                     78.0   \n",
       "2                          0.0                      0.0   \n",
       "3                          0.0                      0.0   \n",
       "4                          0.0                     36.0   \n",
       "\n",
       "   kw2_feature_pos_count_score  kw3_feature_count_score  \\\n",
       "0                          0.0                      0.0   \n",
       "1                          2.0                      0.0   \n",
       "2                          0.0                      0.0   \n",
       "3                          0.0                      0.0   \n",
       "4                          9.0                      0.0   \n",
       "\n",
       "   kw3_feature_pos_count_score  topic1_feature_count_score  \\\n",
       "0                          0.0                         0.0   \n",
       "1                          0.0                         0.0   \n",
       "2                          0.0                         0.0   \n",
       "3                          0.0                         0.0   \n",
       "4                          0.0                         1.0   \n",
       "\n",
       "   topic1_feature_pos_count_score  topic2_feature_count_score  \\\n",
       "0                             0.0                         0.0   \n",
       "1                             0.0                         7.0   \n",
       "2                             0.0                         0.0   \n",
       "3                             0.0                         0.0   \n",
       "4                             0.0                         1.0   \n",
       "\n",
       "   topic2_feature_pos_count_score  topic3_feature_count_score  \\\n",
       "0                             0.0                         0.0   \n",
       "1                             0.0                         0.0   \n",
       "2                             0.0                         0.0   \n",
       "3                             0.0                         0.0   \n",
       "4                             0.0                         0.0   \n",
       "\n",
       "   topic3_feature_pos_count_score  appIdInstall_feature_count_score  \\\n",
       "0                             0.0                               0.0   \n",
       "1                             0.0                               0.0   \n",
       "2                             0.0                               0.0   \n",
       "3                             0.0                               0.0   \n",
       "4                             0.0                               0.0   \n",
       "\n",
       "   appIdInstall_feature_pos_count_score  appIdAction_feature_count_score  \\\n",
       "0                                   0.0                              0.0   \n",
       "1                                   0.0                              0.0   \n",
       "2                                   0.0                              0.0   \n",
       "3                                   0.0                              0.0   \n",
       "4                                   0.0                              0.0   \n",
       "\n",
       "   appIdAction_feature_pos_count_score  ct_feature_count_score  \\\n",
       "0                                  0.0                200816.0   \n",
       "1                                  0.0               1103537.0   \n",
       "2                                  0.0               1103537.0   \n",
       "3                                  0.0               2480689.0   \n",
       "4                                  0.0               2480689.0   \n",
       "\n",
       "   ct_feature_pos_count_score  os_feature_count_score  \\\n",
       "0                      8619.0               5203195.0   \n",
       "1                     61268.0               1133466.0   \n",
       "2                     61268.0               1133466.0   \n",
       "3                    110458.0               1802830.0   \n",
       "4                    110458.0               5203195.0   \n",
       "\n",
       "   os_feature_pos_count_score  carrier_feature_count_score  \\\n",
       "0                    262098.0                    4243115.0   \n",
       "1                     63222.0                    2447300.0   \n",
       "2                     63222.0                    2447300.0   \n",
       "3                     69574.0                    4243115.0   \n",
       "4                    262098.0                    2447300.0   \n",
       "\n",
       "   carrier_feature_pos_count_score  age_max  age_min  age_mean   age_std  \\\n",
       "0                         194641.0        5        0  2.217602  1.350348   \n",
       "1                         130722.0        5        0  2.758465  1.492011   \n",
       "2                         130722.0        5        0  2.758465  1.492011   \n",
       "3                         194641.0        5        0  4.163289  1.025507   \n",
       "4                         130722.0        5        0  1.971283  1.067968   \n",
       "\n",
       "   age_pos_max  age_pos_min  age_pos_mean  age_pos_std  age_mean_sub  \\\n",
       "0            5            1      2.146810     1.138584      1.217602   \n",
       "1            5            0      2.706573     1.529029      1.758465   \n",
       "2            5            0      2.706573     1.529029      0.758465   \n",
       "3            5            0      3.940580     1.319587      0.163289   \n",
       "4            5            1      2.245698     1.202486      0.971283   \n",
       "\n",
       "   age_mean_pos_sub  gender_max  gender_min  gender_mean  gender_std  \\\n",
       "0          1.146810           2           0     1.283093    0.451910   \n",
       "1          1.706573           2           0     0.993231    0.114289   \n",
       "2          0.706573           2           0     0.993231    0.114289   \n",
       "3          0.059420           2           0     1.000331    0.027436   \n",
       "4          1.245698           2           0     1.991724    0.094501   \n",
       "\n",
       "   gender_pos_max  gender_pos_min  gender_pos_mean  gender_pos_std  \\\n",
       "0               2               0         1.185228        0.393208   \n",
       "1               2               0         0.994094        0.105993   \n",
       "2               2               0         0.994094        0.105993   \n",
       "3               2               0         1.000176        0.035133   \n",
       "4               2               0         1.990998        0.097226   \n",
       "\n",
       "   gender_mean_sub  gender_mean_pos_sub  education_max  education_min  \\\n",
       "0         0.283093             0.185228              7              0   \n",
       "1         0.006769             0.005906              7              0   \n",
       "2         0.006769             0.005906              7              0   \n",
       "3         0.000331             0.000176              7              0   \n",
       "4         0.008276             0.009002              7              0   \n",
       "\n",
       "   education_mean  education_std  education_pos_max  education_pos_min  \\\n",
       "0        4.213553       2.428403                  7                  0   \n",
       "1        4.135751       2.476886                  7                  0   \n",
       "2        4.135751       2.476886                  7                  0   \n",
       "3        5.444251       2.128459                  7                  0   \n",
       "4        3.839989       2.377195                  7                  0   \n",
       "\n",
       "   education_pos_mean  education_pos_std  education_mean_sub  \\\n",
       "0            3.735879           2.374958            1.786447   \n",
       "1            4.381477           2.440774            2.135751   \n",
       "2            4.381477           2.440774            4.135751   \n",
       "3            5.085603           2.298940            1.555749   \n",
       "4            3.402436           2.265267            1.839989   \n",
       "\n",
       "   education_mean_pos_sub  consumptionAbility_max  consumptionAbility_min  \\\n",
       "0                2.264121                       2                       0   \n",
       "1                2.381477                       2                       0   \n",
       "2                4.381477                       2                       0   \n",
       "3                1.914397                       2                       0   \n",
       "4                1.402436                       2                       0   \n",
       "\n",
       "   consumptionAbility_mean  consumptionAbility_std  \\\n",
       "0                 1.004300                0.619440   \n",
       "1                 0.769326                0.672691   \n",
       "2                 0.769326                0.672691   \n",
       "3                 1.051842                0.540022   \n",
       "4                 1.280374                0.646331   \n",
       "\n",
       "   consumptionAbility_pos_max  consumptionAbility_pos_min  \\\n",
       "0                           2                           0   \n",
       "1                           2                           0   \n",
       "2                           2                           0   \n",
       "3                           2                           0   \n",
       "4                           2                           0   \n",
       "\n",
       "   consumptionAbility_pos_mean  consumptionAbility_pos_std  \\\n",
       "0                     0.999314                    0.580839   \n",
       "1                     0.753424                    0.662953   \n",
       "2                     0.753424                    0.662953   \n",
       "3                     1.030327                    0.587710   \n",
       "4                     1.570294                    0.560811   \n",
       "\n",
       "   consumptionAbility_mean_sub  consumptionAbility_mean_pos_sub  LBS_max  \\\n",
       "0                     0.995700                         1.000686    990.0   \n",
       "1                     0.769326                         0.753424    997.0   \n",
       "2                     0.769326                         0.753424    997.0   \n",
       "3                     0.051842                         0.030327    997.0   \n",
       "4                     0.280374                         0.570294    990.0   \n",
       "\n",
       "   LBS_min    LBS_mean     LBS_std  LBS_pos_max  LBS_pos_min  LBS_pos_mean  \\\n",
       "0      0.0  455.512622  285.860377        990.0          0.0    458.349874   \n",
       "1      0.0  442.159812  287.673858        990.0          0.0    445.896550   \n",
       "2      0.0  442.159812  287.673858        990.0          0.0    445.896550   \n",
       "3      0.0  438.375446  279.476891        990.0          0.0    433.607070   \n",
       "4      0.0  444.303776  285.627692        990.0          0.0    451.075457   \n",
       "\n",
       "   LBS_pos_std  LBS_mean_sub  LBS_mean_pos_sub  carrier_max  carrier_min  \\\n",
       "0   289.244472     28.487378         25.650126            3            0   \n",
       "1   289.239007     15.840188         12.103450            3            0   \n",
       "2   289.239007    442.159812        445.896550            3            0   \n",
       "3   273.262129    295.375446        290.607070            3            0   \n",
       "4   279.357785     13.696224          6.924543            3            0   \n",
       "\n",
       "   carrier_mean  carrier_std  carrier_pos_max  carrier_pos_min  \\\n",
       "0      1.126834     0.970495                3                0   \n",
       "1      0.872810     0.978594                3                0   \n",
       "2      0.872810     0.978594                3                0   \n",
       "3      1.322140     0.891912                3                0   \n",
       "4      1.176226     0.952508                3                0   \n",
       "\n",
       "   carrier_pos_mean  carrier_pos_std  carrier_mean_sub  carrier_mean_pos_sub  \\\n",
       "0          1.087812         0.986677          0.126834              0.087812   \n",
       "1          0.847851         0.978408          0.872810              0.847851   \n",
       "2          0.847851         0.978408          0.872810              0.847851   \n",
       "3          1.186635         0.923827          0.322140              0.186635   \n",
       "4          0.967699         0.975068          1.176226              0.967699   \n",
       "\n",
       "   house_max  house_min  house_mean  house_std  house_pos_max  house_pos_min  \\\n",
       "0        1.0        0.0    0.204329   0.403213            1.0            0.0   \n",
       "1        1.0        0.0    0.182036   0.385875            1.0            0.0   \n",
       "2        1.0        0.0    0.182036   0.385875            1.0            0.0   \n",
       "3        1.0        0.0    0.195024   0.396220            1.0            0.0   \n",
       "4        1.0        0.0    0.132092   0.338593            1.0            0.0   \n",
       "\n",
       "   house_pos_mean  house_pos_std  house_mean_sub  house_mean_pos_sub  \\\n",
       "0        0.160531       0.367139        0.204329            0.160531   \n",
       "1        0.194688       0.395968        0.182036            0.194688   \n",
       "2        0.194688       0.395968        0.182036            0.194688   \n",
       "3        0.174381       0.379453        0.804976            0.825619   \n",
       "4        0.071750       0.258108        0.132092            0.071750   \n",
       "\n",
       "    score_1   score_2   score_3   score_4   score_5     score  \n",
       "0  0.895348  0.895733  0.942881  0.927459  0.844109  0.901106  \n",
       "1  0.297978  0.266753  0.468897  0.495871  0.305397  0.366979  \n",
       "2  0.035271  0.033489  0.037947  0.036314  0.038877  0.036379  \n",
       "3  0.517776  0.683006  0.739205  0.709610  0.688555  0.667630  \n",
       "4  0.955318  0.989909  0.983587  0.975918  0.990687  0.979084  "
      ]
     },
     "execution_count": 16,
     "metadata": {},
     "output_type": "execute_result"
    }
   ],
   "source": [
    "test.head()"
   ]
  }
 ],
 "metadata": {
  "kernelspec": {
   "display_name": "Python 3",
   "language": "python",
   "name": "python3"
  },
  "language_info": {
   "codemirror_mode": {
    "name": "ipython",
    "version": 3
   },
   "file_extension": ".py",
   "mimetype": "text/x-python",
   "name": "python",
   "nbconvert_exporter": "python",
   "pygments_lexer": "ipython3",
   "version": "3.6.4"
  }
 },
 "nbformat": 4,
 "nbformat_minor": 2
}
