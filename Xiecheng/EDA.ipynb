{
 "cells": [
  {
   "cell_type": "code",
   "execution_count": 1,
   "metadata": {
    "collapsed": true
   },
   "outputs": [],
   "source": [
    "import numpy as np\n",
    "import pandas as pd\n",
    "pd.set_option('display.max_columns', None)\n",
    "import matplotlib.pyplot as plt\n",
    "# import seaborn as sns\n",
    "import pickle\n",
    "import time\n",
    "import gc\n",
    "from tqdm import tqdm\n",
    "\n",
    "%matplotlib inline\n",
    "\n",
    "#每次可以输出多个变量\n",
    "from IPython.core.interactiveshell import InteractiveShell\n",
    "InteractiveShell.ast_node_interactivity = \"all\"\n",
    "\n",
    "from pylab import rcParams\n",
    "rcParams['figure.figsize'] = 14, 6\n",
    "\n",
    "import warnings\n",
    "warnings.filterwarnings(\"ignore\")\n",
    "\n",
    "#中文字体\n",
    "import matplotlib\n",
    "matplotlib.use('qt4agg')\n",
    "#指定默认字体\n",
    "matplotlib.rcParams['font.sans-serif'] = ['SimHei']\n",
    "matplotlib.rcParams['font.family'] = 'sans-serif'\n",
    "#解决负号'-'显示为方块的问题\n",
    "matplotlib.rcParams['axes.unicode_minus'] = False"
   ]
  },
  {
   "cell_type": "code",
   "execution_count": 2,
   "metadata": {
    "collapsed": true
   },
   "outputs": [
    {
     "data": {
      "text/plain": [
       "(4023086, 25)"
      ]
     },
     "execution_count": 2,
     "metadata": {},
     "output_type": "execute_result"
    },
    {
     "data": {
      "text/html": [
       "<div>\n",
       "<style scoped>\n",
       "    .dataframe tbody tr th:only-of-type {\n",
       "        vertical-align: middle;\n",
       "    }\n",
       "\n",
       "    .dataframe tbody tr th {\n",
       "        vertical-align: top;\n",
       "    }\n",
       "\n",
       "    .dataframe thead th {\n",
       "        text-align: right;\n",
       "    }\n",
       "</style>\n",
       "<table border=\"1\" class=\"dataframe\">\n",
       "  <thead>\n",
       "    <tr style=\"text-align: right;\">\n",
       "      <th></th>\n",
       "      <th>orderid</th>\n",
       "      <th>orderdate</th>\n",
       "      <th>city</th>\n",
       "      <th>countryid</th>\n",
       "      <th>hotel</th>\n",
       "      <th>zone</th>\n",
       "      <th>room</th>\n",
       "      <th>isholdroom</th>\n",
       "      <th>arrival</th>\n",
       "      <th>etd</th>\n",
       "      <th>ordadvanceday</th>\n",
       "      <th>confirmdate</th>\n",
       "      <th>orderstatus</th>\n",
       "      <th>price</th>\n",
       "      <th>commission</th>\n",
       "      <th>noroom</th>\n",
       "      <th>masterbasicroomid</th>\n",
       "      <th>masterhotelid</th>\n",
       "      <th>supplierid</th>\n",
       "      <th>isvendor</th>\n",
       "      <th>hotelbelongto</th>\n",
       "      <th>isebookinghtl</th>\n",
       "      <th>hotelstar</th>\n",
       "      <th>supplierchannel</th>\n",
       "      <th>ordroomnum</th>\n",
       "    </tr>\n",
       "  </thead>\n",
       "  <tbody>\n",
       "    <tr>\n",
       "      <th>0</th>\n",
       "      <td>3678052984</td>\n",
       "      <td>2017-05-15 10:03:34</td>\n",
       "      <td>1777</td>\n",
       "      <td>111</td>\n",
       "      <td>6459206</td>\n",
       "      <td>3302.0</td>\n",
       "      <td>62786796</td>\n",
       "      <td>F</td>\n",
       "      <td>2017-06-23</td>\n",
       "      <td>2017-06-25</td>\n",
       "      <td>40</td>\n",
       "      <td>NaN</td>\n",
       "      <td>C</td>\n",
       "      <td>717.6</td>\n",
       "      <td>57.60000</td>\n",
       "      <td>0</td>\n",
       "      <td>21087625.0</td>\n",
       "      <td>713478</td>\n",
       "      <td>1897.0</td>\n",
       "      <td>0</td>\n",
       "      <td>SHT</td>\n",
       "      <td>T</td>\n",
       "      <td>5</td>\n",
       "      <td>合作</td>\n",
       "      <td>1</td>\n",
       "    </tr>\n",
       "    <tr>\n",
       "      <th>1</th>\n",
       "      <td>3623712471</td>\n",
       "      <td>2017-05-02 21:25:37</td>\n",
       "      <td>622</td>\n",
       "      <td>4</td>\n",
       "      <td>4515821</td>\n",
       "      <td>NaN</td>\n",
       "      <td>51183791</td>\n",
       "      <td>F</td>\n",
       "      <td>2017-05-05</td>\n",
       "      <td>2017-05-06</td>\n",
       "      <td>3</td>\n",
       "      <td>2017-05-02 21:25:45</td>\n",
       "      <td>S</td>\n",
       "      <td>99.0</td>\n",
       "      <td>7.98600</td>\n",
       "      <td>0</td>\n",
       "      <td>30110898.0</td>\n",
       "      <td>1210465</td>\n",
       "      <td>2322.0</td>\n",
       "      <td>1</td>\n",
       "      <td>SHT</td>\n",
       "      <td>T</td>\n",
       "      <td>4</td>\n",
       "      <td>合作</td>\n",
       "      <td>1</td>\n",
       "    </tr>\n",
       "    <tr>\n",
       "      <th>2</th>\n",
       "      <td>3935430746</td>\n",
       "      <td>2017-06-20 15:03:39</td>\n",
       "      <td>366</td>\n",
       "      <td>30</td>\n",
       "      <td>3403530</td>\n",
       "      <td>NaN</td>\n",
       "      <td>18594989</td>\n",
       "      <td>F</td>\n",
       "      <td>2017-07-01</td>\n",
       "      <td>2017-07-04</td>\n",
       "      <td>12</td>\n",
       "      <td>2017-06-20 15:03:53</td>\n",
       "      <td>S</td>\n",
       "      <td>1118.1</td>\n",
       "      <td>89.71200</td>\n",
       "      <td>0</td>\n",
       "      <td>33727477.0</td>\n",
       "      <td>741340</td>\n",
       "      <td>3686.0</td>\n",
       "      <td>1</td>\n",
       "      <td>SHT</td>\n",
       "      <td>F</td>\n",
       "      <td>5</td>\n",
       "      <td>合作</td>\n",
       "      <td>1</td>\n",
       "    </tr>\n",
       "    <tr>\n",
       "      <th>3</th>\n",
       "      <td>4095204178</td>\n",
       "      <td>2017-07-19 23:45:12</td>\n",
       "      <td>274</td>\n",
       "      <td>42</td>\n",
       "      <td>4984070</td>\n",
       "      <td>705.0</td>\n",
       "      <td>72423477</td>\n",
       "      <td>T</td>\n",
       "      <td>2017-08-22</td>\n",
       "      <td>2017-08-24</td>\n",
       "      <td>34</td>\n",
       "      <td>2017-07-19 23:45:14</td>\n",
       "      <td>S</td>\n",
       "      <td>250.5</td>\n",
       "      <td>22.45260</td>\n",
       "      <td>0</td>\n",
       "      <td>52394065.0</td>\n",
       "      <td>5033399</td>\n",
       "      <td>2299.0</td>\n",
       "      <td>0</td>\n",
       "      <td>HTL</td>\n",
       "      <td>T</td>\n",
       "      <td>5</td>\n",
       "      <td>直签</td>\n",
       "      <td>1</td>\n",
       "    </tr>\n",
       "    <tr>\n",
       "      <th>4</th>\n",
       "      <td>3753007353</td>\n",
       "      <td>2017-05-26 16:21:36</td>\n",
       "      <td>723</td>\n",
       "      <td>108</td>\n",
       "      <td>3796626</td>\n",
       "      <td>340.0</td>\n",
       "      <td>55656893</td>\n",
       "      <td>F</td>\n",
       "      <td>2017-05-27</td>\n",
       "      <td>2017-05-28</td>\n",
       "      <td>1</td>\n",
       "      <td>NaN</td>\n",
       "      <td>C</td>\n",
       "      <td>192.3</td>\n",
       "      <td>17.44395</td>\n",
       "      <td>0</td>\n",
       "      <td>6132999.0</td>\n",
       "      <td>2144683</td>\n",
       "      <td>2391.0</td>\n",
       "      <td>0</td>\n",
       "      <td>SHT</td>\n",
       "      <td>T</td>\n",
       "      <td>5</td>\n",
       "      <td>合作</td>\n",
       "      <td>1</td>\n",
       "    </tr>\n",
       "  </tbody>\n",
       "</table>\n",
       "</div>"
      ],
      "text/plain": [
       "      orderid            orderdate  city  countryid    hotel    zone  \\\n",
       "0  3678052984  2017-05-15 10:03:34  1777        111  6459206  3302.0   \n",
       "1  3623712471  2017-05-02 21:25:37   622          4  4515821     NaN   \n",
       "2  3935430746  2017-06-20 15:03:39   366         30  3403530     NaN   \n",
       "3  4095204178  2017-07-19 23:45:12   274         42  4984070   705.0   \n",
       "4  3753007353  2017-05-26 16:21:36   723        108  3796626   340.0   \n",
       "\n",
       "       room isholdroom     arrival         etd  ordadvanceday  \\\n",
       "0  62786796          F  2017-06-23  2017-06-25             40   \n",
       "1  51183791          F  2017-05-05  2017-05-06              3   \n",
       "2  18594989          F  2017-07-01  2017-07-04             12   \n",
       "3  72423477          T  2017-08-22  2017-08-24             34   \n",
       "4  55656893          F  2017-05-27  2017-05-28              1   \n",
       "\n",
       "           confirmdate orderstatus   price  commission  noroom  \\\n",
       "0                  NaN           C   717.6    57.60000       0   \n",
       "1  2017-05-02 21:25:45           S    99.0     7.98600       0   \n",
       "2  2017-06-20 15:03:53           S  1118.1    89.71200       0   \n",
       "3  2017-07-19 23:45:14           S   250.5    22.45260       0   \n",
       "4                  NaN           C   192.3    17.44395       0   \n",
       "\n",
       "   masterbasicroomid  masterhotelid  supplierid  isvendor hotelbelongto  \\\n",
       "0         21087625.0         713478      1897.0         0           SHT   \n",
       "1         30110898.0        1210465      2322.0         1           SHT   \n",
       "2         33727477.0         741340      3686.0         1           SHT   \n",
       "3         52394065.0        5033399      2299.0         0           HTL   \n",
       "4          6132999.0        2144683      2391.0         0           SHT   \n",
       "\n",
       "  isebookinghtl  hotelstar supplierchannel  ordroomnum  \n",
       "0             T          5              合作           1  \n",
       "1             T          4              合作           1  \n",
       "2             F          5              合作           1  \n",
       "3             T          5              直签           1  \n",
       "4             T          5              合作           1  "
      ]
     },
     "execution_count": 2,
     "metadata": {},
     "output_type": "execute_result"
    },
    {
     "data": {
      "text/plain": [
       "(11035, 19)"
      ]
     },
     "execution_count": 2,
     "metadata": {},
     "output_type": "execute_result"
    },
    {
     "data": {
      "text/plain": [
       "(11036, 19)"
      ]
     },
     "execution_count": 2,
     "metadata": {},
     "output_type": "execute_result"
    },
    {
     "data": {
      "text/html": [
       "<div>\n",
       "<style scoped>\n",
       "    .dataframe tbody tr th:only-of-type {\n",
       "        vertical-align: middle;\n",
       "    }\n",
       "\n",
       "    .dataframe tbody tr th {\n",
       "        vertical-align: top;\n",
       "    }\n",
       "\n",
       "    .dataframe thead th {\n",
       "        text-align: right;\n",
       "    }\n",
       "</style>\n",
       "<table border=\"1\" class=\"dataframe\">\n",
       "  <thead>\n",
       "    <tr style=\"text-align: right;\">\n",
       "      <th></th>\n",
       "      <th>orderid</th>\n",
       "      <th>orderdate</th>\n",
       "      <th>city</th>\n",
       "      <th>countryid</th>\n",
       "      <th>hotel</th>\n",
       "      <th>zone</th>\n",
       "      <th>room</th>\n",
       "      <th>isholdroom</th>\n",
       "      <th>arrival</th>\n",
       "      <th>etd</th>\n",
       "      <th>ordadvanceday</th>\n",
       "      <th>masterbasicroomid</th>\n",
       "      <th>masterhotelid</th>\n",
       "      <th>supplierid</th>\n",
       "      <th>isvendor</th>\n",
       "      <th>hotelbelongto</th>\n",
       "      <th>isebookinghtl</th>\n",
       "      <th>hotelstar</th>\n",
       "      <th>supplierchannel</th>\n",
       "    </tr>\n",
       "  </thead>\n",
       "  <tbody>\n",
       "    <tr>\n",
       "      <th>0</th>\n",
       "      <td>4505896718</td>\n",
       "      <td>2017/9/15 14:11</td>\n",
       "      <td>633</td>\n",
       "      <td>66</td>\n",
       "      <td>6265739</td>\n",
       "      <td>-1.0</td>\n",
       "      <td>71340604</td>\n",
       "      <td>T</td>\n",
       "      <td>2017/10/11</td>\n",
       "      <td>2017/10/15</td>\n",
       "      <td>27</td>\n",
       "      <td>22012743</td>\n",
       "      <td>5633633</td>\n",
       "      <td>2299</td>\n",
       "      <td>0</td>\n",
       "      <td>HTL</td>\n",
       "      <td>T</td>\n",
       "      <td>3</td>\n",
       "      <td>直签</td>\n",
       "    </tr>\n",
       "    <tr>\n",
       "      <th>1</th>\n",
       "      <td>4504466510</td>\n",
       "      <td>2017/9/15 4:32</td>\n",
       "      <td>410</td>\n",
       "      <td>42</td>\n",
       "      <td>2811117</td>\n",
       "      <td>NaN</td>\n",
       "      <td>70578904</td>\n",
       "      <td>F</td>\n",
       "      <td>2017/9/19</td>\n",
       "      <td>2017/9/20</td>\n",
       "      <td>4</td>\n",
       "      <td>24779139</td>\n",
       "      <td>688942</td>\n",
       "      <td>3536</td>\n",
       "      <td>1</td>\n",
       "      <td>SHT</td>\n",
       "      <td>F</td>\n",
       "      <td>3</td>\n",
       "      <td>合作</td>\n",
       "    </tr>\n",
       "    <tr>\n",
       "      <th>2</th>\n",
       "      <td>4505791849</td>\n",
       "      <td>2017/9/15 13:43</td>\n",
       "      <td>301</td>\n",
       "      <td>111</td>\n",
       "      <td>8198646</td>\n",
       "      <td>853.0</td>\n",
       "      <td>91096440</td>\n",
       "      <td>F</td>\n",
       "      <td>2017/9/16</td>\n",
       "      <td>2017/9/17</td>\n",
       "      <td>2</td>\n",
       "      <td>50438281</td>\n",
       "      <td>7071803</td>\n",
       "      <td>2322</td>\n",
       "      <td>1</td>\n",
       "      <td>SHT</td>\n",
       "      <td>F</td>\n",
       "      <td>3</td>\n",
       "      <td>合作</td>\n",
       "    </tr>\n",
       "    <tr>\n",
       "      <th>3</th>\n",
       "      <td>4505284465</td>\n",
       "      <td>2017/9/15 11:38</td>\n",
       "      <td>274</td>\n",
       "      <td>42</td>\n",
       "      <td>3717320</td>\n",
       "      <td>705.0</td>\n",
       "      <td>20487676</td>\n",
       "      <td>F</td>\n",
       "      <td>2017/9/17</td>\n",
       "      <td>2017/9/20</td>\n",
       "      <td>2</td>\n",
       "      <td>11745244</td>\n",
       "      <td>991852</td>\n",
       "      <td>3965</td>\n",
       "      <td>1</td>\n",
       "      <td>SHT</td>\n",
       "      <td>F</td>\n",
       "      <td>0</td>\n",
       "      <td>合作</td>\n",
       "    </tr>\n",
       "    <tr>\n",
       "      <th>4</th>\n",
       "      <td>4506807614</td>\n",
       "      <td>2017/9/15 17:38</td>\n",
       "      <td>219</td>\n",
       "      <td>78</td>\n",
       "      <td>7217820</td>\n",
       "      <td>-1.0</td>\n",
       "      <td>88163053</td>\n",
       "      <td>T</td>\n",
       "      <td>2017/9/17</td>\n",
       "      <td>2017/9/20</td>\n",
       "      <td>2</td>\n",
       "      <td>38411936</td>\n",
       "      <td>7217821</td>\n",
       "      <td>2299</td>\n",
       "      <td>0</td>\n",
       "      <td>HTL</td>\n",
       "      <td>T</td>\n",
       "      <td>4</td>\n",
       "      <td>直签</td>\n",
       "    </tr>\n",
       "  </tbody>\n",
       "</table>\n",
       "</div>"
      ],
      "text/plain": [
       "      orderid        orderdate  city  countryid    hotel   zone      room  \\\n",
       "0  4505896718  2017/9/15 14:11   633         66  6265739   -1.0  71340604   \n",
       "1  4504466510   2017/9/15 4:32   410         42  2811117    NaN  70578904   \n",
       "2  4505791849  2017/9/15 13:43   301        111  8198646  853.0  91096440   \n",
       "3  4505284465  2017/9/15 11:38   274         42  3717320  705.0  20487676   \n",
       "4  4506807614  2017/9/15 17:38   219         78  7217820   -1.0  88163053   \n",
       "\n",
       "  isholdroom     arrival         etd  ordadvanceday  masterbasicroomid  \\\n",
       "0          T  2017/10/11  2017/10/15             27           22012743   \n",
       "1          F   2017/9/19   2017/9/20              4           24779139   \n",
       "2          F   2017/9/16   2017/9/17              2           50438281   \n",
       "3          F   2017/9/17   2017/9/20              2           11745244   \n",
       "4          T   2017/9/17   2017/9/20              2           38411936   \n",
       "\n",
       "   masterhotelid  supplierid  isvendor hotelbelongto isebookinghtl  hotelstar  \\\n",
       "0        5633633        2299         0           HTL             T          3   \n",
       "1         688942        3536         1           SHT             F          3   \n",
       "2        7071803        2322         1           SHT             F          3   \n",
       "3         991852        3965         1           SHT             F          0   \n",
       "4        7217821        2299         0           HTL             T          4   \n",
       "\n",
       "  supplierchannel  \n",
       "0              直签  \n",
       "1              合作  \n",
       "2              合作  \n",
       "3              合作  \n",
       "4              直签  "
      ]
     },
     "execution_count": 2,
     "metadata": {},
     "output_type": "execute_result"
    }
   ],
   "source": [
    "train = pd.read_csv('./data/train/ord_train.csv')\n",
    "testa = pd.read_csv('./data/test/ord_testA.csv', encoding = 'GB2312')\n",
    "testb = pd.read_csv('./data/test/ord_testB.csv', encoding = 'GB2312')\n",
    "\n",
    "train.shape\n",
    "train.head()\n",
    "testa.shape\n",
    "testb.shape\n",
    "testa.head()"
   ]
  },
  {
   "cell_type": "code",
   "execution_count": 4,
   "metadata": {
    "collapsed": false
   },
   "outputs": [
    {
     "data": {
      "text/plain": [
       "47"
      ]
     },
     "execution_count": 4,
     "metadata": {},
     "output_type": "execute_result"
    }
   ],
   "source": [
    "test = pd.concat([testa, testb])\n",
    "del testa\n",
    "del testb\n",
    "train = train[list(test.columns)]\n",
    "df = pd.concat([train, test])\n",
    "df.reset_index(drop=True, inplace=True)\n",
    "del train\n",
    "del test\n",
    "gc.collect()\n",
    "\n",
    "df['orderdate'] = pd.to_datetime(df['orderdate'], format='%Y-%m-%d %H:%M')\n",
    "df['arrival'] = pd.to_datetime(df['arrival'], format='%Y-%m-%d %H:%M')\n",
    "df['etd'] = pd.to_datetime(df['etd'], format='%Y-%m-%d %H:%M')\n",
    "\n",
    "df['orderdate_mon'] = df['orderdate'].apply(lambda x:x.month)\n",
    "df['arrival_mon'] = df['arrival'].apply(lambda x:x.month)\n",
    "df['etd_mon'] = df['etd'].apply(lambda x:x.month)\n",
    "\n",
    "df['orderdate_day'] = df['orderdate'].apply(lambda x:x.day)\n",
    "df['arrival_day'] = df['arrival'].apply(lambda x:x.day)\n",
    "df['etd_day'] = df['etd'].apply(lambda x:x.day)"
   ]
  },
  {
   "cell_type": "code",
   "execution_count": 5,
   "metadata": {
    "collapsed": false
   },
   "outputs": [
    {
     "data": {
      "text/plain": [
       "(4045157, 25)"
      ]
     },
     "execution_count": 5,
     "metadata": {},
     "output_type": "execute_result"
    }
   ],
   "source": [
    "df.shape\n",
    "# df.isnull().sum()"
   ]
  },
  {
   "cell_type": "markdown",
   "metadata": {},
   "source": [
    "## 分表查看"
   ]
  },
  {
   "cell_type": "code",
   "execution_count": 6,
   "metadata": {
    "collapsed": false
   },
   "outputs": [
    {
     "data": {
      "text/plain": [
       "(2209315, 7)"
      ]
     },
     "execution_count": 6,
     "metadata": {},
     "output_type": "execute_result"
    },
    {
     "data": {
      "text/plain": [
       "(158857, 7)"
      ]
     },
     "execution_count": 6,
     "metadata": {},
     "output_type": "execute_result"
    },
    {
     "data": {
      "text/plain": [
       "(4629010, 6)"
      ]
     },
     "execution_count": 6,
     "metadata": {},
     "output_type": "execute_result"
    },
    {
     "data": {
      "text/plain": [
       "(1487009, 7)"
      ]
     },
     "execution_count": 6,
     "metadata": {},
     "output_type": "execute_result"
    },
    {
     "data": {
      "text/plain": [
       "(21898126, 3)"
      ]
     },
     "execution_count": 6,
     "metadata": {},
     "output_type": "execute_result"
    },
    {
     "data": {
      "text/plain": [
       "(9050289, 3)"
      ]
     },
     "execution_count": 6,
     "metadata": {},
     "output_type": "execute_result"
    }
   ],
   "source": [
    "zqroom = pd.read_csv('./data/train/ord_zqroomstatus.csv')\n",
    "bkroom = pd.read_csv('./data/train/ord_bkroomstatus.csv')\n",
    "zhotel = pd.read_csv('./data/train/hotelinfo.csv')\n",
    "mhotel = pd.read_csv('./data/train/mhotelinfo.csv')\n",
    "mroom = pd.read_csv('./data/train/mroominfo.csv')\n",
    "chaifen = pd.read_csv('./data/train/ord_chaifen.csv')\n",
    "\n",
    "zqroom.shape\n",
    "bkroom.shape\n",
    "zhotel.shape\n",
    "mhotel.shape\n",
    "mroom.shape\n",
    "chaifen.shape"
   ]
  },
  {
   "cell_type": "code",
   "execution_count": 7,
   "metadata": {
    "collapsed": true
   },
   "outputs": [
    {
     "data": {
      "text/html": [
       "<div>\n",
       "<style scoped>\n",
       "    .dataframe tbody tr th:only-of-type {\n",
       "        vertical-align: middle;\n",
       "    }\n",
       "\n",
       "    .dataframe tbody tr th {\n",
       "        vertical-align: top;\n",
       "    }\n",
       "\n",
       "    .dataframe thead th {\n",
       "        text-align: right;\n",
       "    }\n",
       "</style>\n",
       "<table border=\"1\" class=\"dataframe\">\n",
       "  <thead>\n",
       "    <tr style=\"text-align: right;\">\n",
       "      <th></th>\n",
       "      <th>room</th>\n",
       "      <th>arrival</th>\n",
       "      <th>roomstatus</th>\n",
       "      <th>createtime</th>\n",
       "      <th>masterbasicroomid</th>\n",
       "      <th>hotel</th>\n",
       "      <th>masterhotelid</th>\n",
       "    </tr>\n",
       "  </thead>\n",
       "  <tbody>\n",
       "    <tr>\n",
       "      <th>0</th>\n",
       "      <td>67304804</td>\n",
       "      <td>2017-09-09</td>\n",
       "      <td>N</td>\n",
       "      <td>2017-08-25 15:10:14</td>\n",
       "      <td>5179572</td>\n",
       "      <td>5240872</td>\n",
       "      <td>1687209</td>\n",
       "    </tr>\n",
       "    <tr>\n",
       "      <th>1</th>\n",
       "      <td>48070785</td>\n",
       "      <td>2017-08-30</td>\n",
       "      <td>G</td>\n",
       "      <td>2017-08-20 10:38:03</td>\n",
       "      <td>5980276</td>\n",
       "      <td>4517763</td>\n",
       "      <td>1761540</td>\n",
       "    </tr>\n",
       "    <tr>\n",
       "      <th>2</th>\n",
       "      <td>27442833</td>\n",
       "      <td>2017-10-23</td>\n",
       "      <td>N</td>\n",
       "      <td>2017-09-14 11:57:28</td>\n",
       "      <td>5733411</td>\n",
       "      <td>2714517</td>\n",
       "      <td>1005498</td>\n",
       "    </tr>\n",
       "    <tr>\n",
       "      <th>3</th>\n",
       "      <td>85683868</td>\n",
       "      <td>2017-10-23</td>\n",
       "      <td>G</td>\n",
       "      <td>2017-09-07 20:18:25</td>\n",
       "      <td>18075025</td>\n",
       "      <td>3752555</td>\n",
       "      <td>1337909</td>\n",
       "    </tr>\n",
       "    <tr>\n",
       "      <th>4</th>\n",
       "      <td>70172876</td>\n",
       "      <td>2017-10-07</td>\n",
       "      <td>L</td>\n",
       "      <td>2017-08-07 16:15:09</td>\n",
       "      <td>10907169</td>\n",
       "      <td>7592369</td>\n",
       "      <td>706631</td>\n",
       "    </tr>\n",
       "  </tbody>\n",
       "</table>\n",
       "</div>"
      ],
      "text/plain": [
       "       room     arrival roomstatus           createtime  masterbasicroomid  \\\n",
       "0  67304804  2017-09-09          N  2017-08-25 15:10:14            5179572   \n",
       "1  48070785  2017-08-30          G  2017-08-20 10:38:03            5980276   \n",
       "2  27442833  2017-10-23          N  2017-09-14 11:57:28            5733411   \n",
       "3  85683868  2017-10-23          G  2017-09-07 20:18:25           18075025   \n",
       "4  70172876  2017-10-07          L  2017-08-07 16:15:09           10907169   \n",
       "\n",
       "     hotel  masterhotelid  \n",
       "0  5240872        1687209  \n",
       "1  4517763        1761540  \n",
       "2  2714517        1005498  \n",
       "3  3752555        1337909  \n",
       "4  7592369         706631  "
      ]
     },
     "execution_count": 7,
     "metadata": {},
     "output_type": "execute_result"
    },
    {
     "data": {
      "text/html": [
       "<div>\n",
       "<style scoped>\n",
       "    .dataframe tbody tr th:only-of-type {\n",
       "        vertical-align: middle;\n",
       "    }\n",
       "\n",
       "    .dataframe tbody tr th {\n",
       "        vertical-align: top;\n",
       "    }\n",
       "\n",
       "    .dataframe thead th {\n",
       "        text-align: right;\n",
       "    }\n",
       "</style>\n",
       "<table border=\"1\" class=\"dataframe\">\n",
       "  <thead>\n",
       "    <tr style=\"text-align: right;\">\n",
       "      <th></th>\n",
       "      <th>room</th>\n",
       "      <th>arrival</th>\n",
       "      <th>roomstatus</th>\n",
       "      <th>createtime</th>\n",
       "      <th>masterbasicroomid</th>\n",
       "      <th>hotel</th>\n",
       "      <th>masterhotelid</th>\n",
       "    </tr>\n",
       "  </thead>\n",
       "  <tbody>\n",
       "    <tr>\n",
       "      <th>0</th>\n",
       "      <td>49359351</td>\n",
       "      <td>2017-10-01</td>\n",
       "      <td>N</td>\n",
       "      <td>2017-08-24 03:54:17</td>\n",
       "      <td>44039493</td>\n",
       "      <td>4076704</td>\n",
       "      <td>1857089</td>\n",
       "    </tr>\n",
       "    <tr>\n",
       "      <th>1</th>\n",
       "      <td>13037426</td>\n",
       "      <td>2017-08-25</td>\n",
       "      <td>N</td>\n",
       "      <td>2017-08-05 14:34:38</td>\n",
       "      <td>7924733</td>\n",
       "      <td>229256</td>\n",
       "      <td>699276</td>\n",
       "    </tr>\n",
       "    <tr>\n",
       "      <th>2</th>\n",
       "      <td>8573004</td>\n",
       "      <td>2017-08-10</td>\n",
       "      <td>N</td>\n",
       "      <td>2017-08-07 18:25:40</td>\n",
       "      <td>7769214</td>\n",
       "      <td>538682</td>\n",
       "      <td>688203</td>\n",
       "    </tr>\n",
       "    <tr>\n",
       "      <th>3</th>\n",
       "      <td>13619122</td>\n",
       "      <td>2017-08-22</td>\n",
       "      <td>N</td>\n",
       "      <td>2017-08-05 09:44:34</td>\n",
       "      <td>5787108</td>\n",
       "      <td>785102</td>\n",
       "      <td>1074098</td>\n",
       "    </tr>\n",
       "    <tr>\n",
       "      <th>4</th>\n",
       "      <td>39616190</td>\n",
       "      <td>2017-08-13</td>\n",
       "      <td>N</td>\n",
       "      <td>2017-08-05 19:15:17</td>\n",
       "      <td>18215309</td>\n",
       "      <td>5114310</td>\n",
       "      <td>5086203</td>\n",
       "    </tr>\n",
       "  </tbody>\n",
       "</table>\n",
       "</div>"
      ],
      "text/plain": [
       "       room     arrival roomstatus           createtime  masterbasicroomid  \\\n",
       "0  49359351  2017-10-01          N  2017-08-24 03:54:17           44039493   \n",
       "1  13037426  2017-08-25          N  2017-08-05 14:34:38            7924733   \n",
       "2   8573004  2017-08-10          N  2017-08-07 18:25:40            7769214   \n",
       "3  13619122  2017-08-22          N  2017-08-05 09:44:34            5787108   \n",
       "4  39616190  2017-08-13          N  2017-08-05 19:15:17           18215309   \n",
       "\n",
       "     hotel  masterhotelid  \n",
       "0  4076704        1857089  \n",
       "1   229256         699276  \n",
       "2   538682         688203  \n",
       "3   785102        1074098  \n",
       "4  5114310        5086203  "
      ]
     },
     "execution_count": 7,
     "metadata": {},
     "output_type": "execute_result"
    },
    {
     "data": {
      "text/html": [
       "<div>\n",
       "<style scoped>\n",
       "    .dataframe tbody tr th:only-of-type {\n",
       "        vertical-align: middle;\n",
       "    }\n",
       "\n",
       "    .dataframe tbody tr th {\n",
       "        vertical-align: top;\n",
       "    }\n",
       "\n",
       "    .dataframe thead th {\n",
       "        text-align: right;\n",
       "    }\n",
       "</style>\n",
       "<table border=\"1\" class=\"dataframe\">\n",
       "  <thead>\n",
       "    <tr style=\"text-align: right;\">\n",
       "      <th></th>\n",
       "      <th>hotel</th>\n",
       "      <th>totalrooms</th>\n",
       "      <th>isebookinghtl</th>\n",
       "      <th>hotelbelongto</th>\n",
       "      <th>supplierid</th>\n",
       "      <th>masterhotelid</th>\n",
       "    </tr>\n",
       "  </thead>\n",
       "  <tbody>\n",
       "    <tr>\n",
       "      <th>0</th>\n",
       "      <td>8164</td>\n",
       "      <td>2</td>\n",
       "      <td>F</td>\n",
       "      <td>PKG</td>\n",
       "      <td>NaN</td>\n",
       "      <td>8164</td>\n",
       "    </tr>\n",
       "    <tr>\n",
       "      <th>1</th>\n",
       "      <td>19660</td>\n",
       "      <td>4</td>\n",
       "      <td>F</td>\n",
       "      <td>HTL</td>\n",
       "      <td>NaN</td>\n",
       "      <td>19660</td>\n",
       "    </tr>\n",
       "    <tr>\n",
       "      <th>2</th>\n",
       "      <td>21524</td>\n",
       "      <td>2</td>\n",
       "      <td>F</td>\n",
       "      <td>HTL</td>\n",
       "      <td>NaN</td>\n",
       "      <td>21524</td>\n",
       "    </tr>\n",
       "    <tr>\n",
       "      <th>3</th>\n",
       "      <td>21653</td>\n",
       "      <td>1</td>\n",
       "      <td>F</td>\n",
       "      <td>HTL</td>\n",
       "      <td>2654.0</td>\n",
       "      <td>994188</td>\n",
       "    </tr>\n",
       "    <tr>\n",
       "      <th>4</th>\n",
       "      <td>22486</td>\n",
       "      <td>2</td>\n",
       "      <td>F</td>\n",
       "      <td>HTL</td>\n",
       "      <td>NaN</td>\n",
       "      <td>22486</td>\n",
       "    </tr>\n",
       "  </tbody>\n",
       "</table>\n",
       "</div>"
      ],
      "text/plain": [
       "   hotel  totalrooms isebookinghtl hotelbelongto  supplierid  masterhotelid\n",
       "0   8164           2             F           PKG         NaN           8164\n",
       "1  19660           4             F           HTL         NaN          19660\n",
       "2  21524           2             F           HTL         NaN          21524\n",
       "3  21653           1             F           HTL      2654.0         994188\n",
       "4  22486           2             F           HTL         NaN          22486"
      ]
     },
     "execution_count": 7,
     "metadata": {},
     "output_type": "execute_result"
    },
    {
     "data": {
      "text/html": [
       "<div>\n",
       "<style scoped>\n",
       "    .dataframe tbody tr th:only-of-type {\n",
       "        vertical-align: middle;\n",
       "    }\n",
       "\n",
       "    .dataframe tbody tr th {\n",
       "        vertical-align: top;\n",
       "    }\n",
       "\n",
       "    .dataframe thead th {\n",
       "        text-align: right;\n",
       "    }\n",
       "</style>\n",
       "<table border=\"1\" class=\"dataframe\">\n",
       "  <thead>\n",
       "    <tr style=\"text-align: right;\">\n",
       "      <th></th>\n",
       "      <th>masterhotelid</th>\n",
       "      <th>glon</th>\n",
       "      <th>glat</th>\n",
       "      <th>star</th>\n",
       "      <th>zone</th>\n",
       "      <th>city</th>\n",
       "      <th>country</th>\n",
       "    </tr>\n",
       "  </thead>\n",
       "  <tbody>\n",
       "    <tr>\n",
       "      <th>0</th>\n",
       "      <td>8657540</td>\n",
       "      <td>151.346340</td>\n",
       "      <td>-33.516495</td>\n",
       "      <td>0</td>\n",
       "      <td>NaN</td>\n",
       "      <td>4129</td>\n",
       "      <td>15</td>\n",
       "    </tr>\n",
       "    <tr>\n",
       "      <th>1</th>\n",
       "      <td>10095686</td>\n",
       "      <td>92.526480</td>\n",
       "      <td>58.190506</td>\n",
       "      <td>0</td>\n",
       "      <td>NaN</td>\n",
       "      <td>71743</td>\n",
       "      <td>30</td>\n",
       "    </tr>\n",
       "    <tr>\n",
       "      <th>2</th>\n",
       "      <td>15935739</td>\n",
       "      <td>34.558693</td>\n",
       "      <td>49.588090</td>\n",
       "      <td>0</td>\n",
       "      <td>NaN</td>\n",
       "      <td>5615</td>\n",
       "      <td>119</td>\n",
       "    </tr>\n",
       "    <tr>\n",
       "      <th>3</th>\n",
       "      <td>15156172</td>\n",
       "      <td>110.363140</td>\n",
       "      <td>-7.771237</td>\n",
       "      <td>2</td>\n",
       "      <td>0.0</td>\n",
       "      <td>741</td>\n",
       "      <td>108</td>\n",
       "    </tr>\n",
       "    <tr>\n",
       "      <th>4</th>\n",
       "      <td>10950378</td>\n",
       "      <td>20.406840</td>\n",
       "      <td>44.806694</td>\n",
       "      <td>0</td>\n",
       "      <td>2298.0</td>\n",
       "      <td>10257</td>\n",
       "      <td>183</td>\n",
       "    </tr>\n",
       "  </tbody>\n",
       "</table>\n",
       "</div>"
      ],
      "text/plain": [
       "   masterhotelid        glon       glat  star    zone   city  country\n",
       "0        8657540  151.346340 -33.516495     0     NaN   4129       15\n",
       "1       10095686   92.526480  58.190506     0     NaN  71743       30\n",
       "2       15935739   34.558693  49.588090     0     NaN   5615      119\n",
       "3       15156172  110.363140  -7.771237     2     0.0    741      108\n",
       "4       10950378   20.406840  44.806694     0  2298.0  10257      183"
      ]
     },
     "execution_count": 7,
     "metadata": {},
     "output_type": "execute_result"
    },
    {
     "data": {
      "text/html": [
       "<div>\n",
       "<style scoped>\n",
       "    .dataframe tbody tr th:only-of-type {\n",
       "        vertical-align: middle;\n",
       "    }\n",
       "\n",
       "    .dataframe tbody tr th {\n",
       "        vertical-align: top;\n",
       "    }\n",
       "\n",
       "    .dataframe thead th {\n",
       "        text-align: right;\n",
       "    }\n",
       "</style>\n",
       "<table border=\"1\" class=\"dataframe\">\n",
       "  <thead>\n",
       "    <tr style=\"text-align: right;\">\n",
       "      <th></th>\n",
       "      <th>masterbasicroomid</th>\n",
       "      <th>totalrooms</th>\n",
       "      <th>masterhotelid</th>\n",
       "    </tr>\n",
       "  </thead>\n",
       "  <tbody>\n",
       "    <tr>\n",
       "      <th>0</th>\n",
       "      <td>10023629</td>\n",
       "      <td>1</td>\n",
       "      <td>3177583</td>\n",
       "    </tr>\n",
       "    <tr>\n",
       "      <th>1</th>\n",
       "      <td>10030510</td>\n",
       "      <td>3</td>\n",
       "      <td>2193611</td>\n",
       "    </tr>\n",
       "    <tr>\n",
       "      <th>2</th>\n",
       "      <td>10031578</td>\n",
       "      <td>2</td>\n",
       "      <td>735007</td>\n",
       "    </tr>\n",
       "    <tr>\n",
       "      <th>3</th>\n",
       "      <td>10032516</td>\n",
       "      <td>2</td>\n",
       "      <td>3035324</td>\n",
       "    </tr>\n",
       "    <tr>\n",
       "      <th>4</th>\n",
       "      <td>10034229</td>\n",
       "      <td>588</td>\n",
       "      <td>757098</td>\n",
       "    </tr>\n",
       "  </tbody>\n",
       "</table>\n",
       "</div>"
      ],
      "text/plain": [
       "   masterbasicroomid  totalrooms  masterhotelid\n",
       "0           10023629           1        3177583\n",
       "1           10030510           3        2193611\n",
       "2           10031578           2         735007\n",
       "3           10032516           2        3035324\n",
       "4           10034229         588         757098"
      ]
     },
     "execution_count": 7,
     "metadata": {},
     "output_type": "execute_result"
    },
    {
     "data": {
      "text/html": [
       "<div>\n",
       "<style scoped>\n",
       "    .dataframe tbody tr th:only-of-type {\n",
       "        vertical-align: middle;\n",
       "    }\n",
       "\n",
       "    .dataframe tbody tr th {\n",
       "        vertical-align: top;\n",
       "    }\n",
       "\n",
       "    .dataframe thead th {\n",
       "        text-align: right;\n",
       "    }\n",
       "</style>\n",
       "<table border=\"1\" class=\"dataframe\">\n",
       "  <thead>\n",
       "    <tr style=\"text-align: right;\">\n",
       "      <th></th>\n",
       "      <th>orderid</th>\n",
       "      <th>arrival</th>\n",
       "      <th>etd</th>\n",
       "    </tr>\n",
       "  </thead>\n",
       "  <tbody>\n",
       "    <tr>\n",
       "      <th>0</th>\n",
       "      <td>3038243565</td>\n",
       "      <td>2017-02-12</td>\n",
       "      <td>2017-02-13</td>\n",
       "    </tr>\n",
       "    <tr>\n",
       "      <th>1</th>\n",
       "      <td>3053417848</td>\n",
       "      <td>2017-04-21</td>\n",
       "      <td>2017-04-24</td>\n",
       "    </tr>\n",
       "    <tr>\n",
       "      <th>2</th>\n",
       "      <td>3061249423</td>\n",
       "      <td>2017-03-03</td>\n",
       "      <td>2017-03-04</td>\n",
       "    </tr>\n",
       "    <tr>\n",
       "      <th>3</th>\n",
       "      <td>3075780075</td>\n",
       "      <td>2017-02-10</td>\n",
       "      <td>2017-02-12</td>\n",
       "    </tr>\n",
       "    <tr>\n",
       "      <th>4</th>\n",
       "      <td>3075944254</td>\n",
       "      <td>2017-02-25</td>\n",
       "      <td>2017-03-01</td>\n",
       "    </tr>\n",
       "  </tbody>\n",
       "</table>\n",
       "</div>"
      ],
      "text/plain": [
       "      orderid     arrival         etd\n",
       "0  3038243565  2017-02-12  2017-02-13\n",
       "1  3053417848  2017-04-21  2017-04-24\n",
       "2  3061249423  2017-03-03  2017-03-04\n",
       "3  3075780075  2017-02-10  2017-02-12\n",
       "4  3075944254  2017-02-25  2017-03-01"
      ]
     },
     "execution_count": 7,
     "metadata": {},
     "output_type": "execute_result"
    }
   ],
   "source": [
    "zqroom.head()\n",
    "bkroom.head()\n",
    "zhotel.head()\n",
    "mhotel.head()\n",
    "mroom.head()\n",
    "chaifen.head()"
   ]
  },
  {
   "cell_type": "markdown",
   "metadata": {},
   "source": [
    "### chaifen"
   ]
  },
  {
   "cell_type": "code",
   "execution_count": 22,
   "metadata": {
    "collapsed": false,
    "scrolled": true
   },
   "outputs": [
    {
     "data": {
      "text/html": [
       "<div>\n",
       "<style scoped>\n",
       "    .dataframe tbody tr th:only-of-type {\n",
       "        vertical-align: middle;\n",
       "    }\n",
       "\n",
       "    .dataframe tbody tr th {\n",
       "        vertical-align: top;\n",
       "    }\n",
       "\n",
       "    .dataframe thead th {\n",
       "        text-align: right;\n",
       "    }\n",
       "</style>\n",
       "<table border=\"1\" class=\"dataframe\">\n",
       "  <thead>\n",
       "    <tr style=\"text-align: right;\">\n",
       "      <th></th>\n",
       "      <th>orderid</th>\n",
       "      <th>arrival</th>\n",
       "      <th>etd</th>\n",
       "    </tr>\n",
       "  </thead>\n",
       "  <tbody>\n",
       "    <tr>\n",
       "      <th>0</th>\n",
       "      <td>3038243565</td>\n",
       "      <td>2017-02-12</td>\n",
       "      <td>2017-02-13</td>\n",
       "    </tr>\n",
       "    <tr>\n",
       "      <th>1</th>\n",
       "      <td>3053417848</td>\n",
       "      <td>2017-04-21</td>\n",
       "      <td>2017-04-24</td>\n",
       "    </tr>\n",
       "    <tr>\n",
       "      <th>2</th>\n",
       "      <td>3061249423</td>\n",
       "      <td>2017-03-03</td>\n",
       "      <td>2017-03-04</td>\n",
       "    </tr>\n",
       "    <tr>\n",
       "      <th>3</th>\n",
       "      <td>3075780075</td>\n",
       "      <td>2017-02-10</td>\n",
       "      <td>2017-02-12</td>\n",
       "    </tr>\n",
       "    <tr>\n",
       "      <th>4</th>\n",
       "      <td>3075944254</td>\n",
       "      <td>2017-02-25</td>\n",
       "      <td>2017-03-01</td>\n",
       "    </tr>\n",
       "  </tbody>\n",
       "</table>\n",
       "</div>"
      ],
      "text/plain": [
       "      orderid     arrival         etd\n",
       "0  3038243565  2017-02-12  2017-02-13\n",
       "1  3053417848  2017-04-21  2017-04-24\n",
       "2  3061249423  2017-03-03  2017-03-04\n",
       "3  3075780075  2017-02-10  2017-02-12\n",
       "4  3075944254  2017-02-25  2017-03-01"
      ]
     },
     "execution_count": 22,
     "metadata": {},
     "output_type": "execute_result"
    }
   ],
   "source": [
    "chaifen.head()"
   ]
  },
  {
   "cell_type": "code",
   "execution_count": 75,
   "metadata": {
    "collapsed": false
   },
   "outputs": [
    {
     "data": {
      "text/html": [
       "<div>\n",
       "<style scoped>\n",
       "    .dataframe tbody tr th:only-of-type {\n",
       "        vertical-align: middle;\n",
       "    }\n",
       "\n",
       "    .dataframe tbody tr th {\n",
       "        vertical-align: top;\n",
       "    }\n",
       "\n",
       "    .dataframe thead th {\n",
       "        text-align: right;\n",
       "    }\n",
       "</style>\n",
       "<table border=\"1\" class=\"dataframe\">\n",
       "  <thead>\n",
       "    <tr style=\"text-align: right;\">\n",
       "      <th></th>\n",
       "      <th>orderid</th>\n",
       "      <th>orderdate</th>\n",
       "      <th>city</th>\n",
       "      <th>countryid</th>\n",
       "      <th>hotel</th>\n",
       "      <th>zone</th>\n",
       "      <th>room</th>\n",
       "      <th>isholdroom</th>\n",
       "      <th>arrival</th>\n",
       "      <th>etd</th>\n",
       "      <th>ordadvanceday</th>\n",
       "      <th>masterbasicroomid</th>\n",
       "      <th>masterhotelid</th>\n",
       "      <th>supplierid</th>\n",
       "      <th>isvendor</th>\n",
       "      <th>hotelbelongto</th>\n",
       "      <th>isebookinghtl</th>\n",
       "      <th>hotelstar</th>\n",
       "      <th>supplierchannel</th>\n",
       "      <th>orderdate_mon</th>\n",
       "      <th>arrival_mon</th>\n",
       "      <th>etd_mon</th>\n",
       "      <th>orderdate_day</th>\n",
       "      <th>arrival_day</th>\n",
       "      <th>etd_day</th>\n",
       "      <th>order_day</th>\n",
       "    </tr>\n",
       "  </thead>\n",
       "  <tbody>\n",
       "    <tr>\n",
       "      <th>0</th>\n",
       "      <td>3678052984</td>\n",
       "      <td>2017-05-15 10:03:34</td>\n",
       "      <td>1777</td>\n",
       "      <td>111</td>\n",
       "      <td>6459206</td>\n",
       "      <td>3302.0</td>\n",
       "      <td>62786796</td>\n",
       "      <td>F</td>\n",
       "      <td>2017-06-23</td>\n",
       "      <td>2017-06-25</td>\n",
       "      <td>40</td>\n",
       "      <td>21087625.0</td>\n",
       "      <td>713478</td>\n",
       "      <td>1897.0</td>\n",
       "      <td>0</td>\n",
       "      <td>SHT</td>\n",
       "      <td>T</td>\n",
       "      <td>5</td>\n",
       "      <td>合作</td>\n",
       "      <td>5</td>\n",
       "      <td>6</td>\n",
       "      <td>6</td>\n",
       "      <td>15</td>\n",
       "      <td>23</td>\n",
       "      <td>25</td>\n",
       "      <td>2</td>\n",
       "    </tr>\n",
       "    <tr>\n",
       "      <th>1</th>\n",
       "      <td>3623712471</td>\n",
       "      <td>2017-05-02 21:25:37</td>\n",
       "      <td>622</td>\n",
       "      <td>4</td>\n",
       "      <td>4515821</td>\n",
       "      <td>NaN</td>\n",
       "      <td>51183791</td>\n",
       "      <td>F</td>\n",
       "      <td>2017-05-05</td>\n",
       "      <td>2017-05-06</td>\n",
       "      <td>3</td>\n",
       "      <td>30110898.0</td>\n",
       "      <td>1210465</td>\n",
       "      <td>2322.0</td>\n",
       "      <td>1</td>\n",
       "      <td>SHT</td>\n",
       "      <td>T</td>\n",
       "      <td>4</td>\n",
       "      <td>合作</td>\n",
       "      <td>5</td>\n",
       "      <td>5</td>\n",
       "      <td>5</td>\n",
       "      <td>2</td>\n",
       "      <td>5</td>\n",
       "      <td>6</td>\n",
       "      <td>1</td>\n",
       "    </tr>\n",
       "    <tr>\n",
       "      <th>2</th>\n",
       "      <td>3935430746</td>\n",
       "      <td>2017-06-20 15:03:39</td>\n",
       "      <td>366</td>\n",
       "      <td>30</td>\n",
       "      <td>3403530</td>\n",
       "      <td>NaN</td>\n",
       "      <td>18594989</td>\n",
       "      <td>F</td>\n",
       "      <td>2017-07-01</td>\n",
       "      <td>2017-07-04</td>\n",
       "      <td>12</td>\n",
       "      <td>33727477.0</td>\n",
       "      <td>741340</td>\n",
       "      <td>3686.0</td>\n",
       "      <td>1</td>\n",
       "      <td>SHT</td>\n",
       "      <td>F</td>\n",
       "      <td>5</td>\n",
       "      <td>合作</td>\n",
       "      <td>6</td>\n",
       "      <td>7</td>\n",
       "      <td>7</td>\n",
       "      <td>20</td>\n",
       "      <td>1</td>\n",
       "      <td>4</td>\n",
       "      <td>3</td>\n",
       "    </tr>\n",
       "    <tr>\n",
       "      <th>3</th>\n",
       "      <td>4095204178</td>\n",
       "      <td>2017-07-19 23:45:12</td>\n",
       "      <td>274</td>\n",
       "      <td>42</td>\n",
       "      <td>4984070</td>\n",
       "      <td>705.0</td>\n",
       "      <td>72423477</td>\n",
       "      <td>T</td>\n",
       "      <td>2017-08-22</td>\n",
       "      <td>2017-08-24</td>\n",
       "      <td>34</td>\n",
       "      <td>52394065.0</td>\n",
       "      <td>5033399</td>\n",
       "      <td>2299.0</td>\n",
       "      <td>0</td>\n",
       "      <td>HTL</td>\n",
       "      <td>T</td>\n",
       "      <td>5</td>\n",
       "      <td>直签</td>\n",
       "      <td>7</td>\n",
       "      <td>8</td>\n",
       "      <td>8</td>\n",
       "      <td>19</td>\n",
       "      <td>22</td>\n",
       "      <td>24</td>\n",
       "      <td>2</td>\n",
       "    </tr>\n",
       "    <tr>\n",
       "      <th>4</th>\n",
       "      <td>3753007353</td>\n",
       "      <td>2017-05-26 16:21:36</td>\n",
       "      <td>723</td>\n",
       "      <td>108</td>\n",
       "      <td>3796626</td>\n",
       "      <td>340.0</td>\n",
       "      <td>55656893</td>\n",
       "      <td>F</td>\n",
       "      <td>2017-05-27</td>\n",
       "      <td>2017-05-28</td>\n",
       "      <td>1</td>\n",
       "      <td>6132999.0</td>\n",
       "      <td>2144683</td>\n",
       "      <td>2391.0</td>\n",
       "      <td>0</td>\n",
       "      <td>SHT</td>\n",
       "      <td>T</td>\n",
       "      <td>5</td>\n",
       "      <td>合作</td>\n",
       "      <td>5</td>\n",
       "      <td>5</td>\n",
       "      <td>5</td>\n",
       "      <td>26</td>\n",
       "      <td>27</td>\n",
       "      <td>28</td>\n",
       "      <td>1</td>\n",
       "    </tr>\n",
       "  </tbody>\n",
       "</table>\n",
       "</div>"
      ],
      "text/plain": [
       "      orderid           orderdate  city  countryid    hotel    zone      room  \\\n",
       "0  3678052984 2017-05-15 10:03:34  1777        111  6459206  3302.0  62786796   \n",
       "1  3623712471 2017-05-02 21:25:37   622          4  4515821     NaN  51183791   \n",
       "2  3935430746 2017-06-20 15:03:39   366         30  3403530     NaN  18594989   \n",
       "3  4095204178 2017-07-19 23:45:12   274         42  4984070   705.0  72423477   \n",
       "4  3753007353 2017-05-26 16:21:36   723        108  3796626   340.0  55656893   \n",
       "\n",
       "  isholdroom    arrival        etd  ordadvanceday  masterbasicroomid  \\\n",
       "0          F 2017-06-23 2017-06-25             40         21087625.0   \n",
       "1          F 2017-05-05 2017-05-06              3         30110898.0   \n",
       "2          F 2017-07-01 2017-07-04             12         33727477.0   \n",
       "3          T 2017-08-22 2017-08-24             34         52394065.0   \n",
       "4          F 2017-05-27 2017-05-28              1          6132999.0   \n",
       "\n",
       "   masterhotelid  supplierid  isvendor hotelbelongto isebookinghtl  hotelstar  \\\n",
       "0         713478      1897.0         0           SHT             T          5   \n",
       "1        1210465      2322.0         1           SHT             T          4   \n",
       "2         741340      3686.0         1           SHT             F          5   \n",
       "3        5033399      2299.0         0           HTL             T          5   \n",
       "4        2144683      2391.0         0           SHT             T          5   \n",
       "\n",
       "  supplierchannel  orderdate_mon  arrival_mon  etd_mon  orderdate_day  \\\n",
       "0              合作              5            6        6             15   \n",
       "1              合作              5            5        5              2   \n",
       "2              合作              6            7        7             20   \n",
       "3              直签              7            8        8             19   \n",
       "4              合作              5            5        5             26   \n",
       "\n",
       "   arrival_day  etd_day  order_day  \n",
       "0           23       25          2  \n",
       "1            5        6          1  \n",
       "2            1        4          3  \n",
       "3           22       24          2  \n",
       "4           27       28          1  "
      ]
     },
     "execution_count": 75,
     "metadata": {},
     "output_type": "execute_result"
    }
   ],
   "source": [
    "df.head()"
   ]
  },
  {
   "cell_type": "code",
   "execution_count": 18,
   "metadata": {
    "collapsed": false,
    "scrolled": true
   },
   "outputs": [
    {
     "data": {
      "text/plain": [
       "(4045157, 3)"
      ]
     },
     "execution_count": 18,
     "metadata": {},
     "output_type": "execute_result"
    }
   ],
   "source": [
    "tmp = chaifen.groupby(['orderid'], as_index=False).count()\n",
    "tmp.shape"
   ]
  },
  {
   "cell_type": "code",
   "execution_count": 8,
   "metadata": {
    "collapsed": false
   },
   "outputs": [],
   "source": [
    "%%time\n",
    "def get_order_day(x):\n",
    "    return (x.etd - x.arrival).days    \n",
    "\n",
    "df['order_day'] = df.apply(get_order_day, axis=1)"
   ]
  },
  {
   "cell_type": "code",
   "execution_count": 19,
   "metadata": {
    "collapsed": false
   },
   "outputs": [
    {
     "data": {
      "text/plain": [
       "(4045157, 3)"
      ]
     },
     "execution_count": 19,
     "metadata": {},
     "output_type": "execute_result"
    },
    {
     "data": {
      "text/html": [
       "<div>\n",
       "<style scoped>\n",
       "    .dataframe tbody tr th:only-of-type {\n",
       "        vertical-align: middle;\n",
       "    }\n",
       "\n",
       "    .dataframe tbody tr th {\n",
       "        vertical-align: top;\n",
       "    }\n",
       "\n",
       "    .dataframe thead th {\n",
       "        text-align: right;\n",
       "    }\n",
       "</style>\n",
       "<table border=\"1\" class=\"dataframe\">\n",
       "  <thead>\n",
       "    <tr style=\"text-align: right;\">\n",
       "      <th></th>\n",
       "      <th>orderid</th>\n",
       "      <th>actual_day</th>\n",
       "      <th>order_day</th>\n",
       "    </tr>\n",
       "  </thead>\n",
       "  <tbody>\n",
       "    <tr>\n",
       "      <th>0</th>\n",
       "      <td>3038243565</td>\n",
       "      <td>10</td>\n",
       "      <td>10</td>\n",
       "    </tr>\n",
       "    <tr>\n",
       "      <th>1</th>\n",
       "      <td>3053417848</td>\n",
       "      <td>4</td>\n",
       "      <td>4</td>\n",
       "    </tr>\n",
       "    <tr>\n",
       "      <th>2</th>\n",
       "      <td>3061249423</td>\n",
       "      <td>3</td>\n",
       "      <td>3</td>\n",
       "    </tr>\n",
       "    <tr>\n",
       "      <th>3</th>\n",
       "      <td>3075780075</td>\n",
       "      <td>2</td>\n",
       "      <td>2</td>\n",
       "    </tr>\n",
       "    <tr>\n",
       "      <th>4</th>\n",
       "      <td>3075944254</td>\n",
       "      <td>4</td>\n",
       "      <td>4</td>\n",
       "    </tr>\n",
       "  </tbody>\n",
       "</table>\n",
       "</div>"
      ],
      "text/plain": [
       "      orderid  actual_day  order_day\n",
       "0  3038243565          10         10\n",
       "1  3053417848           4          4\n",
       "2  3061249423           3          3\n",
       "3  3075780075           2          2\n",
       "4  3075944254           4          4"
      ]
     },
     "execution_count": 19,
     "metadata": {},
     "output_type": "execute_result"
    }
   ],
   "source": [
    "order = pd.DataFrame()\n",
    "order['orderid'] = chaifen.orderid.unique()\n",
    "order = order.merge(tmp[['orderid', 'arrival']], on=['orderid'], how='left')\n",
    "order = order.merge(df[['orderid', 'order_day']], on=['orderid'], how='left')\n",
    "order.columns = ['orderid', 'actual_day', 'order_day']\n",
    "\n",
    "order.shape\n",
    "order.head()"
   ]
  },
  {
   "cell_type": "code",
   "execution_count": 20,
   "metadata": {
    "collapsed": true
   },
   "outputs": [],
   "source": [
    "%%time\n",
    "def is_equal(x):\n",
    "    if x.actual_day == x.order_day:\n",
    "        return 1\n",
    "    else:\n",
    "        return 0\n",
    "\n",
    "order['is_equal'] = order.apply(is_equal, axis=1)"
   ]
  },
  {
   "cell_type": "code",
   "execution_count": 21,
   "metadata": {
    "collapsed": false
   },
   "outputs": [
    {
     "data": {
      "text/plain": [
       "is_equal\n",
       "0       1909\n",
       "1    4043248\n",
       "Name: orderid, dtype: int64"
      ]
     },
     "execution_count": 21,
     "metadata": {},
     "output_type": "execute_result"
    }
   ],
   "source": [
    "order.groupby(['is_equal']).orderid.count()"
   ]
  },
  {
   "cell_type": "code",
   "execution_count": 61,
   "metadata": {
    "collapsed": false
   },
   "outputs": [
    {
     "data": {
      "text/plain": [
       "(1905, 4)"
      ]
     },
     "execution_count": 61,
     "metadata": {},
     "output_type": "execute_result"
    }
   ],
   "source": [
    "order[(order.is_equal == 0) & (order.actual_day == 0)].shape"
   ]
  },
  {
   "cell_type": "code",
   "execution_count": 62,
   "metadata": {
    "collapsed": false,
    "scrolled": true
   },
   "outputs": [
    {
     "data": {
      "text/html": [
       "<div>\n",
       "<style scoped>\n",
       "    .dataframe tbody tr th:only-of-type {\n",
       "        vertical-align: middle;\n",
       "    }\n",
       "\n",
       "    .dataframe tbody tr th {\n",
       "        vertical-align: top;\n",
       "    }\n",
       "\n",
       "    .dataframe thead th {\n",
       "        text-align: right;\n",
       "    }\n",
       "</style>\n",
       "<table border=\"1\" class=\"dataframe\">\n",
       "  <thead>\n",
       "    <tr style=\"text-align: right;\">\n",
       "      <th></th>\n",
       "      <th>orderid</th>\n",
       "      <th>actual_day</th>\n",
       "      <th>order_day</th>\n",
       "      <th>is_equal</th>\n",
       "    </tr>\n",
       "  </thead>\n",
       "  <tbody>\n",
       "    <tr>\n",
       "      <th>287078</th>\n",
       "      <td>4003340216</td>\n",
       "      <td>4</td>\n",
       "      <td>5</td>\n",
       "      <td>0</td>\n",
       "    </tr>\n",
       "    <tr>\n",
       "      <th>1437608</th>\n",
       "      <td>4337362450</td>\n",
       "      <td>1</td>\n",
       "      <td>5</td>\n",
       "      <td>0</td>\n",
       "    </tr>\n",
       "    <tr>\n",
       "      <th>2984485</th>\n",
       "      <td>3916415821</td>\n",
       "      <td>1</td>\n",
       "      <td>2</td>\n",
       "      <td>0</td>\n",
       "    </tr>\n",
       "    <tr>\n",
       "      <th>3747056</th>\n",
       "      <td>4441319557</td>\n",
       "      <td>2</td>\n",
       "      <td>3</td>\n",
       "      <td>0</td>\n",
       "    </tr>\n",
       "  </tbody>\n",
       "</table>\n",
       "</div>"
      ],
      "text/plain": [
       "            orderid  actual_day  order_day  is_equal\n",
       "287078   4003340216           4          5         0\n",
       "1437608  4337362450           1          5         0\n",
       "2984485  3916415821           1          2         0\n",
       "3747056  4441319557           2          3         0"
      ]
     },
     "execution_count": 62,
     "metadata": {},
     "output_type": "execute_result"
    }
   ],
   "source": [
    "order[(order.is_equal == 0) & (order.actual_day != 0)]"
   ]
  },
  {
   "cell_type": "code",
   "execution_count": 79,
   "metadata": {
    "collapsed": false
   },
   "outputs": [],
   "source": [
    "# order.to_csv('./features/order.csv', index=False)"
   ]
  },
  {
   "cell_type": "markdown",
   "metadata": {},
   "source": [
    "### zqroom/bkroom"
   ]
  },
  {
   "cell_type": "code",
   "execution_count": 25,
   "metadata": {
    "collapsed": false
   },
   "outputs": [
    {
     "data": {
      "text/html": [
       "<div>\n",
       "<style scoped>\n",
       "    .dataframe tbody tr th:only-of-type {\n",
       "        vertical-align: middle;\n",
       "    }\n",
       "\n",
       "    .dataframe tbody tr th {\n",
       "        vertical-align: top;\n",
       "    }\n",
       "\n",
       "    .dataframe thead th {\n",
       "        text-align: right;\n",
       "    }\n",
       "</style>\n",
       "<table border=\"1\" class=\"dataframe\">\n",
       "  <thead>\n",
       "    <tr style=\"text-align: right;\">\n",
       "      <th></th>\n",
       "      <th>room</th>\n",
       "      <th>arrival</th>\n",
       "      <th>roomstatus</th>\n",
       "      <th>createtime</th>\n",
       "      <th>masterbasicroomid</th>\n",
       "      <th>hotel</th>\n",
       "      <th>masterhotelid</th>\n",
       "    </tr>\n",
       "  </thead>\n",
       "  <tbody>\n",
       "    <tr>\n",
       "      <th>0</th>\n",
       "      <td>67304804</td>\n",
       "      <td>2017-09-09</td>\n",
       "      <td>N</td>\n",
       "      <td>2017-08-25 15:10:14</td>\n",
       "      <td>5179572</td>\n",
       "      <td>5240872</td>\n",
       "      <td>1687209</td>\n",
       "    </tr>\n",
       "    <tr>\n",
       "      <th>1</th>\n",
       "      <td>48070785</td>\n",
       "      <td>2017-08-30</td>\n",
       "      <td>G</td>\n",
       "      <td>2017-08-20 10:38:03</td>\n",
       "      <td>5980276</td>\n",
       "      <td>4517763</td>\n",
       "      <td>1761540</td>\n",
       "    </tr>\n",
       "  </tbody>\n",
       "</table>\n",
       "</div>"
      ],
      "text/plain": [
       "       room     arrival roomstatus           createtime  masterbasicroomid  \\\n",
       "0  67304804  2017-09-09          N  2017-08-25 15:10:14            5179572   \n",
       "1  48070785  2017-08-30          G  2017-08-20 10:38:03            5980276   \n",
       "\n",
       "     hotel  masterhotelid  \n",
       "0  5240872        1687209  \n",
       "1  4517763        1761540  "
      ]
     },
     "execution_count": 25,
     "metadata": {},
     "output_type": "execute_result"
    },
    {
     "data": {
      "text/html": [
       "<div>\n",
       "<style scoped>\n",
       "    .dataframe tbody tr th:only-of-type {\n",
       "        vertical-align: middle;\n",
       "    }\n",
       "\n",
       "    .dataframe tbody tr th {\n",
       "        vertical-align: top;\n",
       "    }\n",
       "\n",
       "    .dataframe thead th {\n",
       "        text-align: right;\n",
       "    }\n",
       "</style>\n",
       "<table border=\"1\" class=\"dataframe\">\n",
       "  <thead>\n",
       "    <tr style=\"text-align: right;\">\n",
       "      <th></th>\n",
       "      <th>room</th>\n",
       "      <th>arrival</th>\n",
       "      <th>roomstatus</th>\n",
       "      <th>createtime</th>\n",
       "      <th>masterbasicroomid</th>\n",
       "      <th>hotel</th>\n",
       "      <th>masterhotelid</th>\n",
       "    </tr>\n",
       "  </thead>\n",
       "  <tbody>\n",
       "    <tr>\n",
       "      <th>0</th>\n",
       "      <td>49359351</td>\n",
       "      <td>2017-10-01</td>\n",
       "      <td>N</td>\n",
       "      <td>2017-08-24 03:54:17</td>\n",
       "      <td>44039493</td>\n",
       "      <td>4076704</td>\n",
       "      <td>1857089</td>\n",
       "    </tr>\n",
       "    <tr>\n",
       "      <th>1</th>\n",
       "      <td>13037426</td>\n",
       "      <td>2017-08-25</td>\n",
       "      <td>N</td>\n",
       "      <td>2017-08-05 14:34:38</td>\n",
       "      <td>7924733</td>\n",
       "      <td>229256</td>\n",
       "      <td>699276</td>\n",
       "    </tr>\n",
       "  </tbody>\n",
       "</table>\n",
       "</div>"
      ],
      "text/plain": [
       "       room     arrival roomstatus           createtime  masterbasicroomid  \\\n",
       "0  49359351  2017-10-01          N  2017-08-24 03:54:17           44039493   \n",
       "1  13037426  2017-08-25          N  2017-08-05 14:34:38            7924733   \n",
       "\n",
       "     hotel  masterhotelid  \n",
       "0  4076704        1857089  \n",
       "1   229256         699276  "
      ]
     },
     "execution_count": 25,
     "metadata": {},
     "output_type": "execute_result"
    }
   ],
   "source": [
    "zqroom.head(2) # 部分关房\n",
    "bkroom.head(2) # 全关房"
   ]
  },
  {
   "cell_type": "code",
   "execution_count": 69,
   "metadata": {
    "collapsed": false,
    "scrolled": true
   },
   "outputs": [
    {
     "data": {
      "text/plain": [
       "2209315"
      ]
     },
     "execution_count": 69,
     "metadata": {},
     "output_type": "execute_result"
    },
    {
     "data": {
      "text/plain": [
       "280610"
      ]
     },
     "execution_count": 69,
     "metadata": {},
     "output_type": "execute_result"
    },
    {
     "data": {
      "text/plain": [
       "158857"
      ]
     },
     "execution_count": 69,
     "metadata": {},
     "output_type": "execute_result"
    },
    {
     "data": {
      "text/plain": [
       "7628"
      ]
     },
     "execution_count": 69,
     "metadata": {},
     "output_type": "execute_result"
    },
    {
     "data": {
      "text/plain": [
       "6055"
      ]
     },
     "execution_count": 69,
     "metadata": {},
     "output_type": "execute_result"
    },
    {
     "data": {
      "text/plain": [
       "766701"
      ]
     },
     "execution_count": 69,
     "metadata": {},
     "output_type": "execute_result"
    },
    {
     "data": {
      "text/plain": [
       "282183"
      ]
     },
     "execution_count": 69,
     "metadata": {},
     "output_type": "execute_result"
    }
   ],
   "source": [
    "zqroom.shape[0]\n",
    "len(zqroom.room.unique())\n",
    "bkroom.shape[0]\n",
    "len(bkroom.room.unique())\n",
    "len(set(zqroom.room.unique()) & (set(bkroom.room.unique())))\n",
    "len(df.room.unique())\n",
    "len(set(list(zqroom.room.unique()) + (list(bkroom.room.unique()))))"
   ]
  },
  {
   "cell_type": "code",
   "execution_count": 31,
   "metadata": {
    "collapsed": false
   },
   "outputs": [
    {
     "data": {
      "text/html": [
       "<div>\n",
       "<style scoped>\n",
       "    .dataframe tbody tr th:only-of-type {\n",
       "        vertical-align: middle;\n",
       "    }\n",
       "\n",
       "    .dataframe tbody tr th {\n",
       "        vertical-align: top;\n",
       "    }\n",
       "\n",
       "    .dataframe thead th {\n",
       "        text-align: right;\n",
       "    }\n",
       "</style>\n",
       "<table border=\"1\" class=\"dataframe\">\n",
       "  <thead>\n",
       "    <tr style=\"text-align: right;\">\n",
       "      <th></th>\n",
       "      <th>room</th>\n",
       "      <th>arrival</th>\n",
       "      <th>roomstatus</th>\n",
       "      <th>createtime</th>\n",
       "      <th>masterbasicroomid</th>\n",
       "      <th>hotel</th>\n",
       "      <th>masterhotelid</th>\n",
       "    </tr>\n",
       "  </thead>\n",
       "  <tbody>\n",
       "    <tr>\n",
       "      <th>283031</th>\n",
       "      <td>61964290</td>\n",
       "      <td>2017-08-13</td>\n",
       "      <td>N</td>\n",
       "      <td>2017-08-08 20:34:09</td>\n",
       "      <td>34697820</td>\n",
       "      <td>7210941</td>\n",
       "      <td>7624218</td>\n",
       "    </tr>\n",
       "  </tbody>\n",
       "</table>\n",
       "</div>"
      ],
      "text/plain": [
       "            room     arrival roomstatus           createtime  \\\n",
       "283031  61964290  2017-08-13          N  2017-08-08 20:34:09   \n",
       "\n",
       "        masterbasicroomid    hotel  masterhotelid  \n",
       "283031           34697820  7210941        7624218  "
      ]
     },
     "execution_count": 31,
     "metadata": {},
     "output_type": "execute_result"
    },
    {
     "data": {
      "text/html": [
       "<div>\n",
       "<style scoped>\n",
       "    .dataframe tbody tr th:only-of-type {\n",
       "        vertical-align: middle;\n",
       "    }\n",
       "\n",
       "    .dataframe tbody tr th {\n",
       "        vertical-align: top;\n",
       "    }\n",
       "\n",
       "    .dataframe thead th {\n",
       "        text-align: right;\n",
       "    }\n",
       "</style>\n",
       "<table border=\"1\" class=\"dataframe\">\n",
       "  <thead>\n",
       "    <tr style=\"text-align: right;\">\n",
       "      <th></th>\n",
       "      <th>room</th>\n",
       "      <th>arrival</th>\n",
       "      <th>roomstatus</th>\n",
       "      <th>createtime</th>\n",
       "      <th>masterbasicroomid</th>\n",
       "      <th>hotel</th>\n",
       "      <th>masterhotelid</th>\n",
       "    </tr>\n",
       "  </thead>\n",
       "  <tbody>\n",
       "    <tr>\n",
       "      <th>17922</th>\n",
       "      <td>61964290</td>\n",
       "      <td>2017-08-13</td>\n",
       "      <td>N</td>\n",
       "      <td>2017-08-12 07:38:25</td>\n",
       "      <td>34697820</td>\n",
       "      <td>7210941</td>\n",
       "      <td>7624218</td>\n",
       "    </tr>\n",
       "    <tr>\n",
       "      <th>99590</th>\n",
       "      <td>61964290</td>\n",
       "      <td>2017-08-13</td>\n",
       "      <td>N</td>\n",
       "      <td>2017-08-17 07:52:48</td>\n",
       "      <td>34697820</td>\n",
       "      <td>7210941</td>\n",
       "      <td>7624218</td>\n",
       "    </tr>\n",
       "    <tr>\n",
       "      <th>100723</th>\n",
       "      <td>61964290</td>\n",
       "      <td>2017-08-12</td>\n",
       "      <td>N</td>\n",
       "      <td>2017-08-17 05:26:52</td>\n",
       "      <td>34697820</td>\n",
       "      <td>7210941</td>\n",
       "      <td>7624218</td>\n",
       "    </tr>\n",
       "    <tr>\n",
       "      <th>112616</th>\n",
       "      <td>61964290</td>\n",
       "      <td>2017-08-12</td>\n",
       "      <td>N</td>\n",
       "      <td>2017-08-11 12:22:06</td>\n",
       "      <td>34697820</td>\n",
       "      <td>7210941</td>\n",
       "      <td>7624218</td>\n",
       "    </tr>\n",
       "    <tr>\n",
       "      <th>146215</th>\n",
       "      <td>61964290</td>\n",
       "      <td>2017-08-13</td>\n",
       "      <td>N</td>\n",
       "      <td>2017-08-13 09:24:02</td>\n",
       "      <td>34697820</td>\n",
       "      <td>7210941</td>\n",
       "      <td>7624218</td>\n",
       "    </tr>\n",
       "  </tbody>\n",
       "</table>\n",
       "</div>"
      ],
      "text/plain": [
       "            room     arrival roomstatus           createtime  \\\n",
       "17922   61964290  2017-08-13          N  2017-08-12 07:38:25   \n",
       "99590   61964290  2017-08-13          N  2017-08-17 07:52:48   \n",
       "100723  61964290  2017-08-12          N  2017-08-17 05:26:52   \n",
       "112616  61964290  2017-08-12          N  2017-08-11 12:22:06   \n",
       "146215  61964290  2017-08-13          N  2017-08-13 09:24:02   \n",
       "\n",
       "        masterbasicroomid    hotel  masterhotelid  \n",
       "17922            34697820  7210941        7624218  \n",
       "99590            34697820  7210941        7624218  \n",
       "100723           34697820  7210941        7624218  \n",
       "112616           34697820  7210941        7624218  \n",
       "146215           34697820  7210941        7624218  "
      ]
     },
     "execution_count": 31,
     "metadata": {},
     "output_type": "execute_result"
    }
   ],
   "source": [
    "zqroom[zqroom.room == 61964290]\n",
    "bkroom[bkroom.room == 61964290]"
   ]
  },
  {
   "cell_type": "markdown",
   "metadata": {},
   "source": [
    "### zhotel/mhotel"
   ]
  },
  {
   "cell_type": "code",
   "execution_count": 32,
   "metadata": {
    "collapsed": false
   },
   "outputs": [
    {
     "data": {
      "text/html": [
       "<div>\n",
       "<style scoped>\n",
       "    .dataframe tbody tr th:only-of-type {\n",
       "        vertical-align: middle;\n",
       "    }\n",
       "\n",
       "    .dataframe tbody tr th {\n",
       "        vertical-align: top;\n",
       "    }\n",
       "\n",
       "    .dataframe thead th {\n",
       "        text-align: right;\n",
       "    }\n",
       "</style>\n",
       "<table border=\"1\" class=\"dataframe\">\n",
       "  <thead>\n",
       "    <tr style=\"text-align: right;\">\n",
       "      <th></th>\n",
       "      <th>hotel</th>\n",
       "      <th>totalrooms</th>\n",
       "      <th>isebookinghtl</th>\n",
       "      <th>hotelbelongto</th>\n",
       "      <th>supplierid</th>\n",
       "      <th>masterhotelid</th>\n",
       "    </tr>\n",
       "  </thead>\n",
       "  <tbody>\n",
       "    <tr>\n",
       "      <th>0</th>\n",
       "      <td>8164</td>\n",
       "      <td>2</td>\n",
       "      <td>F</td>\n",
       "      <td>PKG</td>\n",
       "      <td>NaN</td>\n",
       "      <td>8164</td>\n",
       "    </tr>\n",
       "    <tr>\n",
       "      <th>1</th>\n",
       "      <td>19660</td>\n",
       "      <td>4</td>\n",
       "      <td>F</td>\n",
       "      <td>HTL</td>\n",
       "      <td>NaN</td>\n",
       "      <td>19660</td>\n",
       "    </tr>\n",
       "  </tbody>\n",
       "</table>\n",
       "</div>"
      ],
      "text/plain": [
       "   hotel  totalrooms isebookinghtl hotelbelongto  supplierid  masterhotelid\n",
       "0   8164           2             F           PKG         NaN           8164\n",
       "1  19660           4             F           HTL         NaN          19660"
      ]
     },
     "execution_count": 32,
     "metadata": {},
     "output_type": "execute_result"
    },
    {
     "data": {
      "text/html": [
       "<div>\n",
       "<style scoped>\n",
       "    .dataframe tbody tr th:only-of-type {\n",
       "        vertical-align: middle;\n",
       "    }\n",
       "\n",
       "    .dataframe tbody tr th {\n",
       "        vertical-align: top;\n",
       "    }\n",
       "\n",
       "    .dataframe thead th {\n",
       "        text-align: right;\n",
       "    }\n",
       "</style>\n",
       "<table border=\"1\" class=\"dataframe\">\n",
       "  <thead>\n",
       "    <tr style=\"text-align: right;\">\n",
       "      <th></th>\n",
       "      <th>masterhotelid</th>\n",
       "      <th>glon</th>\n",
       "      <th>glat</th>\n",
       "      <th>star</th>\n",
       "      <th>zone</th>\n",
       "      <th>city</th>\n",
       "      <th>country</th>\n",
       "    </tr>\n",
       "  </thead>\n",
       "  <tbody>\n",
       "    <tr>\n",
       "      <th>0</th>\n",
       "      <td>8657540</td>\n",
       "      <td>151.34634</td>\n",
       "      <td>-33.516495</td>\n",
       "      <td>0</td>\n",
       "      <td>NaN</td>\n",
       "      <td>4129</td>\n",
       "      <td>15</td>\n",
       "    </tr>\n",
       "    <tr>\n",
       "      <th>1</th>\n",
       "      <td>10095686</td>\n",
       "      <td>92.52648</td>\n",
       "      <td>58.190506</td>\n",
       "      <td>0</td>\n",
       "      <td>NaN</td>\n",
       "      <td>71743</td>\n",
       "      <td>30</td>\n",
       "    </tr>\n",
       "  </tbody>\n",
       "</table>\n",
       "</div>"
      ],
      "text/plain": [
       "   masterhotelid       glon       glat  star  zone   city  country\n",
       "0        8657540  151.34634 -33.516495     0   NaN   4129       15\n",
       "1       10095686   92.52648  58.190506     0   NaN  71743       30"
      ]
     },
     "execution_count": 32,
     "metadata": {},
     "output_type": "execute_result"
    }
   ],
   "source": [
    "zhotel.head(2)\n",
    "mhotel.head(2)"
   ]
  },
  {
   "cell_type": "code",
   "execution_count": 37,
   "metadata": {
    "collapsed": false
   },
   "outputs": [
    {
     "data": {
      "text/plain": [
       "4629010"
      ]
     },
     "execution_count": 37,
     "metadata": {},
     "output_type": "execute_result"
    },
    {
     "data": {
      "text/plain": [
       "4629010"
      ]
     },
     "execution_count": 37,
     "metadata": {},
     "output_type": "execute_result"
    },
    {
     "data": {
      "text/plain": [
       "1487009"
      ]
     },
     "execution_count": 37,
     "metadata": {},
     "output_type": "execute_result"
    },
    {
     "data": {
      "text/plain": [
       "1487009"
      ]
     },
     "execution_count": 37,
     "metadata": {},
     "output_type": "execute_result"
    }
   ],
   "source": [
    "zhotel.shape[0]\n",
    "len(zhotel.hotel.unique())\n",
    "mhotel.shape[0]\n",
    "len(mhotel.masterhotelid.unique())"
   ]
  },
  {
   "cell_type": "markdown",
   "metadata": {},
   "source": [
    "### mroom"
   ]
  },
  {
   "cell_type": "code",
   "execution_count": 34,
   "metadata": {
    "collapsed": false
   },
   "outputs": [
    {
     "data": {
      "text/html": [
       "<div>\n",
       "<style scoped>\n",
       "    .dataframe tbody tr th:only-of-type {\n",
       "        vertical-align: middle;\n",
       "    }\n",
       "\n",
       "    .dataframe tbody tr th {\n",
       "        vertical-align: top;\n",
       "    }\n",
       "\n",
       "    .dataframe thead th {\n",
       "        text-align: right;\n",
       "    }\n",
       "</style>\n",
       "<table border=\"1\" class=\"dataframe\">\n",
       "  <thead>\n",
       "    <tr style=\"text-align: right;\">\n",
       "      <th></th>\n",
       "      <th>masterbasicroomid</th>\n",
       "      <th>totalrooms</th>\n",
       "      <th>masterhotelid</th>\n",
       "    </tr>\n",
       "  </thead>\n",
       "  <tbody>\n",
       "    <tr>\n",
       "      <th>0</th>\n",
       "      <td>10023629</td>\n",
       "      <td>1</td>\n",
       "      <td>3177583</td>\n",
       "    </tr>\n",
       "    <tr>\n",
       "      <th>1</th>\n",
       "      <td>10030510</td>\n",
       "      <td>3</td>\n",
       "      <td>2193611</td>\n",
       "    </tr>\n",
       "    <tr>\n",
       "      <th>2</th>\n",
       "      <td>10031578</td>\n",
       "      <td>2</td>\n",
       "      <td>735007</td>\n",
       "    </tr>\n",
       "    <tr>\n",
       "      <th>3</th>\n",
       "      <td>10032516</td>\n",
       "      <td>2</td>\n",
       "      <td>3035324</td>\n",
       "    </tr>\n",
       "    <tr>\n",
       "      <th>4</th>\n",
       "      <td>10034229</td>\n",
       "      <td>588</td>\n",
       "      <td>757098</td>\n",
       "    </tr>\n",
       "  </tbody>\n",
       "</table>\n",
       "</div>"
      ],
      "text/plain": [
       "   masterbasicroomid  totalrooms  masterhotelid\n",
       "0           10023629           1        3177583\n",
       "1           10030510           3        2193611\n",
       "2           10031578           2         735007\n",
       "3           10032516           2        3035324\n",
       "4           10034229         588         757098"
      ]
     },
     "execution_count": 34,
     "metadata": {},
     "output_type": "execute_result"
    }
   ],
   "source": [
    "mroom.head()"
   ]
  },
  {
   "cell_type": "code",
   "execution_count": 51,
   "metadata": {
    "collapsed": false,
    "scrolled": true
   },
   "outputs": [
    {
     "data": {
      "text/plain": [
       "21898126"
      ]
     },
     "execution_count": 51,
     "metadata": {},
     "output_type": "execute_result"
    },
    {
     "data": {
      "text/plain": [
       "21898029"
      ]
     },
     "execution_count": 51,
     "metadata": {},
     "output_type": "execute_result"
    }
   ],
   "source": [
    "mroom.shape[0]\n",
    "len(mroom.masterbasicroomid.unique())"
   ]
  },
  {
   "cell_type": "code",
   "execution_count": 84,
   "metadata": {
    "collapsed": false,
    "scrolled": true
   },
   "outputs": [
    {
     "data": {
      "text/plain": [
       "Int64Index([ 2176208,  2176209,  2176210,  2969827,  4189515,  4253268,\n",
       "             4254089,  4263972,  4263974,  4327510,  5025576,  6107948,\n",
       "             6465521,  6684078,  6934420,  6934444, 10038483, 10038542,\n",
       "            10066605, 10073721, 10073733, 10239875, 10255456, 10543893,\n",
       "            10543894, 10543895, 14044414, 14577978, 17146213, 18169193,\n",
       "            18169197, 18237230, 18381434, 18381438, 18872013, 18972077,\n",
       "            19031243, 19031246, 19215504, 20582141, 20687952, 21283447,\n",
       "            21887171, 24021902, 26119285, 26182050, 28778421, 29580265,\n",
       "            29837173, 32175413, 32350105, 35414556, 39409103, 39423655,\n",
       "            39781470, 39781488, 39784926, 39786751, 39786765, 39786784,\n",
       "            39786801, 39786816, 39838163, 39845023, 39967254, 39967265,\n",
       "            39967275, 39979230, 40115723, 40115729, 40115755, 40137597,\n",
       "            40137619, 40155806, 40155816, 40159106, 41120990, 46628383,\n",
       "            46628440, 46628751, 46628954, 52637690, 53805192, 55578783,\n",
       "            55579192, 56439103, 57137534, 57279579, 57290610, 57498016,\n",
       "            57498026, 59137743, 59194083],\n",
       "           dtype='int64', name='masterbasicroomid')"
      ]
     },
     "execution_count": 84,
     "metadata": {},
     "output_type": "execute_result"
    }
   ],
   "source": [
    "# tmp = mroom.groupby(['masterbasicroomid']).masterbasicroomid.count()\n",
    "tmp[tmp != 1].index"
   ]
  },
  {
   "cell_type": "code",
   "execution_count": 85,
   "metadata": {
    "collapsed": false
   },
   "outputs": [
    {
     "data": {
      "text/html": [
       "<div>\n",
       "<style scoped>\n",
       "    .dataframe tbody tr th:only-of-type {\n",
       "        vertical-align: middle;\n",
       "    }\n",
       "\n",
       "    .dataframe tbody tr th {\n",
       "        vertical-align: top;\n",
       "    }\n",
       "\n",
       "    .dataframe thead th {\n",
       "        text-align: right;\n",
       "    }\n",
       "</style>\n",
       "<table border=\"1\" class=\"dataframe\">\n",
       "  <thead>\n",
       "    <tr style=\"text-align: right;\">\n",
       "      <th></th>\n",
       "      <th>masterbasicroomid</th>\n",
       "      <th>totalrooms</th>\n",
       "      <th>masterhotelid</th>\n",
       "    </tr>\n",
       "  </thead>\n",
       "  <tbody>\n",
       "    <tr>\n",
       "      <th>16886428</th>\n",
       "      <td>40115723</td>\n",
       "      <td>3</td>\n",
       "      <td>3799195</td>\n",
       "    </tr>\n",
       "    <tr>\n",
       "      <th>17144411</th>\n",
       "      <td>40115723</td>\n",
       "      <td>3</td>\n",
       "      <td>2914657</td>\n",
       "    </tr>\n",
       "  </tbody>\n",
       "</table>\n",
       "</div>"
      ],
      "text/plain": [
       "          masterbasicroomid  totalrooms  masterhotelid\n",
       "16886428           40115723           3        3799195\n",
       "17144411           40115723           3        2914657"
      ]
     },
     "execution_count": 85,
     "metadata": {},
     "output_type": "execute_result"
    }
   ],
   "source": [
    "mroom[mroom.masterbasicroomid == 40115723]"
   ]
  }
 ],
 "metadata": {
  "anaconda-cloud": {},
  "kernelspec": {
   "display_name": "Python [default]",
   "language": "python",
   "name": "python3"
  },
  "language_info": {
   "codemirror_mode": {
    "name": "ipython",
    "version": 3
   },
   "file_extension": ".py",
   "mimetype": "text/x-python",
   "name": "python",
   "nbconvert_exporter": "python",
   "pygments_lexer": "ipython3",
   "version": "3.5.2"
  }
 },
 "nbformat": 4,
 "nbformat_minor": 1
}
