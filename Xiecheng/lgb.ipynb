{
 "cells": [
  {
   "cell_type": "code",
   "execution_count": 3,
   "metadata": {
    "collapsed": false
   },
   "outputs": [],
   "source": [
    "import numpy as np\n",
    "import pandas as pd\n",
    "# import seaborn as sns\n",
    "import os  \n",
    "import sys \n",
    "import gc\n",
    "import pickle\n",
    "import matplotlib.pyplot as plt\n",
    "# import lightgbm as lgb\n",
    "from sklearn.metrics import precision_recall_curve\n",
    "from sklearn.metrics import precision_score\n",
    "\n",
    "%matplotlib inline"
   ]
  },
  {
   "cell_type": "code",
   "execution_count": 4,
   "metadata": {
    "collapsed": true
   },
   "outputs": [],
   "source": [
    "def read_df_float32(file_path, read_cols=[], sep=',', nrows=None, exclude_cols=[], skip_nrows=None,\n",
    "                    header='infer', verbose=False):\n",
    "    assert ((len(read_cols) == 0) | (len(exclude_cols) == 0))\n",
    "\n",
    "    if verbose:\n",
    "        print('reading', file_path)\n",
    "    if len(read_cols) > 0:\n",
    "        data = pd.read_csv(file_path, nrows=1, sep=sep, usecols=read_cols)\n",
    "    else:\n",
    "        data = pd.read_csv(file_path, nrows=1, sep=sep)\n",
    "\n",
    "    read_type_dict = {}\n",
    "    for col in data.columns[data.dtypes == np.float64]:\n",
    "        read_type_dict[col] = np.float32\n",
    "    for col in data.columns[data.dtypes == np.int64]:\n",
    "        read_type_dict[col] = np.int32\n",
    "\n",
    "    if len(read_cols) > 0:\n",
    "        data = pd.read_csv(file_path, sep=sep, usecols=read_cols, nrows=nrows, skiprows=skip_nrows,\n",
    "                           dtype=read_type_dict,\n",
    "                           header=header)\n",
    "    elif len(exclude_cols) > 0:\n",
    "        read_cols = filter(lambda x: x not in exclude_cols, data.columns)\n",
    "        data = pd.read_csv(file_path, sep=sep, usecols=read_cols, nrows=nrows, skiprows=skip_nrows,\n",
    "                           dtype=read_type_dict,\n",
    "                           header=header)\n",
    "    else:\n",
    "        data = pd.read_csv(file_path, sep=sep, nrows=nrows, skiprows=skip_nrows, dtype=read_type_dict, header=header)\n",
    "    return data\n",
    "\n",
    "def save_float32(data, save_path):\n",
    "    for col in data.select_dtypes(include=[np.float64]).columns:\n",
    "        data[col] = data[col].astype(np.float32)\n",
    "    for col in data.select_dtypes(include=[np.int32]).columns:\n",
    "        data[col] = data[col].astype(np.int32)\n",
    "    data.to_csv(save_path, index=False)\n",
    "    \n",
    "def add_data_index_col(data):\n",
    "    data.reset_index(drop=False, inplace=True)\n",
    "    data = data.rename({'index': 'data_index'}, axis=1)\n",
    "    return data\n",
    "\n",
    "def get_fea_imp(bst):\n",
    "    fea_imp = tuple(zip(bst.feature_name(), bst.feature_importance()))\n",
    "    return sorted(fea_imp, key=lambda x:x[1], reverse=True)\n",
    "\n",
    "def evalerror(preds, dtrain):\n",
    "    labels = dtrain.get_label()\n",
    "    p_start = precision_score(labels, (preds>=0.05).astype(int))\n",
    "\n",
    "    precision, recall, thresholds = precision_recall_curve(labels, preds)\n",
    "    recall, precision = recall[::-1], precision[::-1]\n",
    "    area = 0\n",
    "    had_find_r_start = False\n",
    "    #     上一个点的 P\n",
    "    for idx, item in enumerate(zip(recall, precision)):\n",
    "        r, p = item[0], item[1]\n",
    "        if r >= 0.5:\n",
    "            area += precision[idx-1] * (0.5 - recall[idx-1])\n",
    "            return 'prc', area, True\n",
    "        if r > 0.05:\n",
    "            if not had_find_r_start:\n",
    "                had_find_r_start = True\n",
    "                area += p_start * (r - 0.05)\n",
    "            else:\n",
    "                area += precision[idx-1] * (r - recall[idx-1])\n",
    "    return 'prc', area, True"
   ]
  },
  {
   "cell_type": "code",
   "execution_count": 5,
   "metadata": {
    "collapsed": false
   },
   "outputs": [
    {
     "name": "stdout",
     "output_type": "stream",
     "text": [
      "(4023086, 20)\n",
      "orderid                   0\n",
      "orderdate                 0\n",
      "city                      0\n",
      "countryid                 0\n",
      "hotel                     0\n",
      "zone                 779471\n",
      "room                      0\n",
      "isholdroom                0\n",
      "arrival                   0\n",
      "etd                       0\n",
      "ordadvanceday             0\n",
      "noroom                    0\n",
      "masterbasicroomid      3037\n",
      "masterhotelid             0\n",
      "supplierid               16\n",
      "isvendor                  0\n",
      "hotelbelongto             0\n",
      "isebookinghtl             0\n",
      "hotelstar                 0\n",
      "supplierchannel           0\n",
      "dtype: int64\n"
     ]
    }
   ],
   "source": [
    "# 0    3817353\n",
    "# 1     205733\n",
    "# +/all = 0.051138106418803876\n",
    "ord_train = pd.read_csv('./data/train/ord_train.csv')\n",
    "ord_train.drop(['commission', 'confirmdate', 'orderstatus', 'ordroomnum', 'price'], axis=1, inplace=True)\n",
    "print(ord_train.shape)\n",
    "print(ord_train.isnull().sum())"
   ]
  },
  {
   "cell_type": "code",
   "execution_count": 6,
   "metadata": {
    "collapsed": false
   },
   "outputs": [
    {
     "data": {
      "text/html": [
       "<div>\n",
       "<style scoped>\n",
       "    .dataframe tbody tr th:only-of-type {\n",
       "        vertical-align: middle;\n",
       "    }\n",
       "\n",
       "    .dataframe tbody tr th {\n",
       "        vertical-align: top;\n",
       "    }\n",
       "\n",
       "    .dataframe thead th {\n",
       "        text-align: right;\n",
       "    }\n",
       "</style>\n",
       "<table border=\"1\" class=\"dataframe\">\n",
       "  <thead>\n",
       "    <tr style=\"text-align: right;\">\n",
       "      <th></th>\n",
       "      <th>orderid</th>\n",
       "      <th>orderdate</th>\n",
       "      <th>city</th>\n",
       "      <th>countryid</th>\n",
       "      <th>hotel</th>\n",
       "      <th>zone</th>\n",
       "      <th>room</th>\n",
       "      <th>isholdroom</th>\n",
       "      <th>arrival</th>\n",
       "      <th>etd</th>\n",
       "      <th>ordadvanceday</th>\n",
       "      <th>noroom</th>\n",
       "      <th>masterbasicroomid</th>\n",
       "      <th>masterhotelid</th>\n",
       "      <th>supplierid</th>\n",
       "      <th>isvendor</th>\n",
       "      <th>hotelbelongto</th>\n",
       "      <th>isebookinghtl</th>\n",
       "      <th>hotelstar</th>\n",
       "      <th>supplierchannel</th>\n",
       "    </tr>\n",
       "  </thead>\n",
       "  <tbody>\n",
       "    <tr>\n",
       "      <th>0</th>\n",
       "      <td>3678052984</td>\n",
       "      <td>2017-05-15 10:03:34</td>\n",
       "      <td>1777</td>\n",
       "      <td>111</td>\n",
       "      <td>6459206</td>\n",
       "      <td>3302.0</td>\n",
       "      <td>62786796</td>\n",
       "      <td>F</td>\n",
       "      <td>2017-06-23</td>\n",
       "      <td>2017-06-25</td>\n",
       "      <td>40</td>\n",
       "      <td>0</td>\n",
       "      <td>21087625.0</td>\n",
       "      <td>713478</td>\n",
       "      <td>1897.0</td>\n",
       "      <td>0</td>\n",
       "      <td>SHT</td>\n",
       "      <td>T</td>\n",
       "      <td>5</td>\n",
       "      <td>合作</td>\n",
       "    </tr>\n",
       "    <tr>\n",
       "      <th>1</th>\n",
       "      <td>3623712471</td>\n",
       "      <td>2017-05-02 21:25:37</td>\n",
       "      <td>622</td>\n",
       "      <td>4</td>\n",
       "      <td>4515821</td>\n",
       "      <td>NaN</td>\n",
       "      <td>51183791</td>\n",
       "      <td>F</td>\n",
       "      <td>2017-05-05</td>\n",
       "      <td>2017-05-06</td>\n",
       "      <td>3</td>\n",
       "      <td>0</td>\n",
       "      <td>30110898.0</td>\n",
       "      <td>1210465</td>\n",
       "      <td>2322.0</td>\n",
       "      <td>1</td>\n",
       "      <td>SHT</td>\n",
       "      <td>T</td>\n",
       "      <td>4</td>\n",
       "      <td>合作</td>\n",
       "    </tr>\n",
       "    <tr>\n",
       "      <th>2</th>\n",
       "      <td>3935430746</td>\n",
       "      <td>2017-06-20 15:03:39</td>\n",
       "      <td>366</td>\n",
       "      <td>30</td>\n",
       "      <td>3403530</td>\n",
       "      <td>NaN</td>\n",
       "      <td>18594989</td>\n",
       "      <td>F</td>\n",
       "      <td>2017-07-01</td>\n",
       "      <td>2017-07-04</td>\n",
       "      <td>12</td>\n",
       "      <td>0</td>\n",
       "      <td>33727477.0</td>\n",
       "      <td>741340</td>\n",
       "      <td>3686.0</td>\n",
       "      <td>1</td>\n",
       "      <td>SHT</td>\n",
       "      <td>F</td>\n",
       "      <td>5</td>\n",
       "      <td>合作</td>\n",
       "    </tr>\n",
       "    <tr>\n",
       "      <th>3</th>\n",
       "      <td>4095204178</td>\n",
       "      <td>2017-07-19 23:45:12</td>\n",
       "      <td>274</td>\n",
       "      <td>42</td>\n",
       "      <td>4984070</td>\n",
       "      <td>705.0</td>\n",
       "      <td>72423477</td>\n",
       "      <td>T</td>\n",
       "      <td>2017-08-22</td>\n",
       "      <td>2017-08-24</td>\n",
       "      <td>34</td>\n",
       "      <td>0</td>\n",
       "      <td>52394065.0</td>\n",
       "      <td>5033399</td>\n",
       "      <td>2299.0</td>\n",
       "      <td>0</td>\n",
       "      <td>HTL</td>\n",
       "      <td>T</td>\n",
       "      <td>5</td>\n",
       "      <td>直签</td>\n",
       "    </tr>\n",
       "    <tr>\n",
       "      <th>4</th>\n",
       "      <td>3753007353</td>\n",
       "      <td>2017-05-26 16:21:36</td>\n",
       "      <td>723</td>\n",
       "      <td>108</td>\n",
       "      <td>3796626</td>\n",
       "      <td>340.0</td>\n",
       "      <td>55656893</td>\n",
       "      <td>F</td>\n",
       "      <td>2017-05-27</td>\n",
       "      <td>2017-05-28</td>\n",
       "      <td>1</td>\n",
       "      <td>0</td>\n",
       "      <td>6132999.0</td>\n",
       "      <td>2144683</td>\n",
       "      <td>2391.0</td>\n",
       "      <td>0</td>\n",
       "      <td>SHT</td>\n",
       "      <td>T</td>\n",
       "      <td>5</td>\n",
       "      <td>合作</td>\n",
       "    </tr>\n",
       "  </tbody>\n",
       "</table>\n",
       "</div>"
      ],
      "text/plain": [
       "      orderid            orderdate  city  countryid    hotel    zone  \\\n",
       "0  3678052984  2017-05-15 10:03:34  1777        111  6459206  3302.0   \n",
       "1  3623712471  2017-05-02 21:25:37   622          4  4515821     NaN   \n",
       "2  3935430746  2017-06-20 15:03:39   366         30  3403530     NaN   \n",
       "3  4095204178  2017-07-19 23:45:12   274         42  4984070   705.0   \n",
       "4  3753007353  2017-05-26 16:21:36   723        108  3796626   340.0   \n",
       "\n",
       "       room isholdroom     arrival         etd  ordadvanceday  noroom  \\\n",
       "0  62786796          F  2017-06-23  2017-06-25             40       0   \n",
       "1  51183791          F  2017-05-05  2017-05-06              3       0   \n",
       "2  18594989          F  2017-07-01  2017-07-04             12       0   \n",
       "3  72423477          T  2017-08-22  2017-08-24             34       0   \n",
       "4  55656893          F  2017-05-27  2017-05-28              1       0   \n",
       "\n",
       "   masterbasicroomid  masterhotelid  supplierid  isvendor hotelbelongto  \\\n",
       "0         21087625.0         713478      1897.0         0           SHT   \n",
       "1         30110898.0        1210465      2322.0         1           SHT   \n",
       "2         33727477.0         741340      3686.0         1           SHT   \n",
       "3         52394065.0        5033399      2299.0         0           HTL   \n",
       "4          6132999.0        2144683      2391.0         0           SHT   \n",
       "\n",
       "  isebookinghtl  hotelstar supplierchannel  \n",
       "0             T          5              合作  \n",
       "1             T          4              合作  \n",
       "2             F          5              合作  \n",
       "3             T          5              直签  \n",
       "4             T          5              合作  "
      ]
     },
     "execution_count": 6,
     "metadata": {},
     "output_type": "execute_result"
    }
   ],
   "source": [
    "ord_train.head()"
   ]
  },
  {
   "cell_type": "code",
   "execution_count": 7,
   "metadata": {
    "collapsed": false
   },
   "outputs": [
    {
     "name": "stdout",
     "output_type": "stream",
     "text": [
      "(11035, 19)\n",
      "orderid                 0\n",
      "orderdate               0\n",
      "city                    0\n",
      "countryid               0\n",
      "hotel                   0\n",
      "zone                 2504\n",
      "room                    0\n",
      "isholdroom              0\n",
      "arrival                 0\n",
      "etd                     0\n",
      "ordadvanceday           0\n",
      "masterbasicroomid       0\n",
      "masterhotelid           0\n",
      "supplierid              0\n",
      "isvendor                0\n",
      "hotelbelongto           0\n",
      "isebookinghtl           0\n",
      "hotelstar               0\n",
      "supplierchannel         0\n",
      "dtype: int64\n"
     ]
    }
   ],
   "source": [
    "ord_test = pd.read_csv('./data/test/ord_testA.csv', encoding = \"GB2312\")\n",
    "print(ord_test.shape)\n",
    "print(ord_test.isnull().sum())\n",
    "ord_test['arrival'] = ord_test['arrival'].apply(lambda x:x.replace('/', '-'))\n",
    "ord_test['orderdate'] = ord_test['orderdate'].apply(lambda x:x.replace('/', '-'))\n",
    "ord_test['etd'] = ord_test['etd'].apply(lambda x:x.replace('/', '-'))"
   ]
  },
  {
   "cell_type": "code",
   "execution_count": 8,
   "metadata": {
    "collapsed": false
   },
   "outputs": [
    {
     "name": "stdout",
     "output_type": "stream",
     "text": [
      "(4034121, 20)\n"
     ]
    }
   ],
   "source": [
    "full = pd.concat([ord_train, ord_test])\n",
    "del (ord_train, ord_test)\n",
    "print(full.shape)\n",
    "\n",
    "full['orderdate'] = pd.to_datetime(full['orderdate'], format='%Y-%m-%d %H:%M')\n",
    "full['arrival'] = pd.to_datetime(full['arrival'], format='%Y-%m-%d %H:%M')\n",
    "full['etd'] = pd.to_datetime(full['etd'], format='%Y-%m-%d %H:%M')\n",
    "\n",
    "full['orderdate_mon'] = full['orderdate'].apply(lambda x:x.month)\n",
    "full['arrival_mon'] = full['arrival'].apply(lambda x:x.month)\n",
    "full['etd_mon'] = full['etd'].apply(lambda x:x.month)\n",
    "\n",
    "full['orderdate_day'] = full['orderdate'].apply(lambda x:x.day)\n",
    "full['arrival_day'] = full['arrival'].apply(lambda x:x.day)\n",
    "full['etd_day'] = full['etd'].apply(lambda x:x.day)"
   ]
  },
  {
   "cell_type": "code",
   "execution_count": 7,
   "metadata": {
    "collapsed": true
   },
   "outputs": [],
   "source": [
    "# # masterbasicroomid 缺失，通过 masterhotelid 的众数补\n",
    "# # nan_key_masterhotelid = full[full['masterbasicroomid'].isnull()]['masterhotelid'].unique()\n",
    "# mroom_info = pd.read_csv('../data/train/mroominfo.csv')\n",
    "# tmp = mroom_info[mroom_info['masterhotelid'].isin(nan_key_masterhotelid)].groupby('masterhotelid').apply(\n",
    "#     lambda x:x['masterbasicroomid'].value_counts().index[0])\n",
    "# full['masterbasicroomid'] = full[['masterhotelid', 'masterbasicroomid']].apply(\n",
    "#     lambda x: tmp[x['masterhotelid']] if np.isnan(x['masterbasicroomid']) else x, axis=1)"
   ]
  },
  {
   "cell_type": "code",
   "execution_count": 6,
   "metadata": {
    "collapsed": false
   },
   "outputs": [
    {
     "name": "stdout",
     "output_type": "stream",
     "text": [
      "['HPP' 'HTL' 'PKG' 'SHT'] [0 1 2 3]\n",
      "['F' 'T'] [0 1]\n",
      "['F' 'T'] [0 1]\n",
      "['Agoda' 'BOOKING' 'Expedia' '合作' '直签' '集团直连'] [0 1 2 3 4 5]\n"
     ]
    }
   ],
   "source": [
    "object_cols = ['hotelbelongto', 'isebookinghtl', 'isholdroom', 'supplierchannel']\n",
    "\n",
    "from sklearn.preprocessing import LabelEncoder\n",
    "for col in object_cols:\n",
    "    le = LabelEncoder()\n",
    "    le.fit(full[col])\n",
    "    print(le.classes_, le.transform(le.classes_))\n",
    "    full[col] = le.transform(full[col])"
   ]
  },
  {
   "cell_type": "code",
   "execution_count": null,
   "metadata": {
    "collapsed": true
   },
   "outputs": [],
   "source": [
    "#  'orderid',\n",
    "    \n",
    "# 'arrival',\n",
    "#  'etd',\n",
    " \n",
    "#  'city',\n",
    "#  'countryid',\n",
    "#  'zone'\n",
    "    \n",
    "#  'hotel',\n",
    "#  'hotelbelongto',\n",
    "#  'hotelstar',\n",
    "#  'isebookinghtl',\n",
    "#  'isholdroom',\n",
    "#  'isvendor',\n",
    "#  'masterbasicroomid',\n",
    "#  'masterhotelid',\n",
    "#   'room',\n",
    "#  'supplierchannel',\n",
    "#  'supplierid',\n",
    "# + 'totalrooms'(hotelinfo), 'glon', 'glat', 'star', 'totalrooms'(mroominfo),\n",
    "\n",
    "    \n",
    "#  'ordadvanceday',\n",
    "#  'orderdate',"
   ]
  },
  {
   "cell_type": "code",
   "execution_count": 7,
   "metadata": {
    "collapsed": false
   },
   "outputs": [
    {
     "name": "stdout",
     "output_type": "stream",
     "text": [
      "(3055389, 26) (978732, 26)\n"
     ]
    }
   ],
   "source": [
    "hist = full[(full['orderdate_mon'] < 8)]\n",
    "full = full[(full['orderdate_mon'] >= 8)]\n",
    "print(hist.shape, full.shape)"
   ]
  },
  {
   "cell_type": "markdown",
   "metadata": {},
   "source": [
    "### Feature"
   ]
  },
  {
   "cell_type": "code",
   "execution_count": 8,
   "metadata": {
    "collapsed": false
   },
   "outputs": [
    {
     "name": "stdout",
     "output_type": "stream",
     "text": [
      "657895 309802 11035\n"
     ]
    }
   ],
   "source": [
    "# train_flag = ((full['orderdate_mon'] == 9) & (full['orderdate_day'] < 14)).values\n",
    "train_flag = (full['orderdate_mon'] == 8).values\n",
    "val_flag = ((full['orderdate_mon'] == 9) & (full['orderdate_day'] <= 14)).values\n",
    "test_flag = ((full['orderdate_mon'] == 9) & (full['orderdate_day'] > 14)).values\n",
    "print(sum(train_flag), sum(val_flag), sum(test_flag))"
   ]
  },
  {
   "cell_type": "code",
   "execution_count": 9,
   "metadata": {
    "collapsed": false
   },
   "outputs": [
    {
     "name": "stdout",
     "output_type": "stream",
     "text": [
      "(978732, 27)\n"
     ]
    }
   ],
   "source": [
    "new_fea = pd.read_csv('../data/train/hotelinfo.csv', usecols=['hotel', 'totalrooms'])\n",
    "new_fea.rename({'totalrooms':'hotel_totalrooms'}, axis=1, inplace=True)\n",
    "full = full.merge(new_fea, on='hotel', how='left')\n",
    "print(full.shape)"
   ]
  },
  {
   "cell_type": "code",
   "execution_count": 10,
   "metadata": {
    "collapsed": false
   },
   "outputs": [
    {
     "name": "stdout",
     "output_type": "stream",
     "text": [
      "(978732, 30)\n"
     ]
    }
   ],
   "source": [
    "new_fea = pd.read_csv('../data/train/mhotelinfo.csv', usecols=['masterhotelid', 'glon', 'glat', 'star'])\n",
    "full = full.merge(new_fea, on='masterhotelid', how='left')\n",
    "print(full.shape)"
   ]
  },
  {
   "cell_type": "code",
   "execution_count": 12,
   "metadata": {
    "collapsed": false
   },
   "outputs": [
    {
     "name": "stdout",
     "output_type": "stream",
     "text": [
      "(321229, 36)\n"
     ]
    }
   ],
   "source": [
    "# # 因为 masterbasicroomid 缺失，暂时先不 merge\n",
    "# new_fea = pd.read_csv('../data/train/mroominfo.csv', usecols=['masterbasicroomid', 'totalrooms'])\n",
    "# new_fea.rename({'totalrooms':'mroom_totalrooms'}, axis=1, inplace=True)\n",
    "# full = full.merge(new_fea, on='masterbasicroomid', how='left')\n",
    "# print(full.shape)"
   ]
  },
  {
   "cell_type": "markdown",
   "metadata": {},
   "source": [
    "### Train"
   ]
  },
  {
   "cell_type": "code",
   "execution_count": null,
   "metadata": {
    "collapsed": true
   },
   "outputs": [],
   "source": [
    "def train_lgb(train_data, val_data=None, num_boost_round=1000):\n",
    "    print('train shape:', train_data.data.shape)\n",
    "    if val_data:\n",
    "        assert train_data.data.shape[1] == val_data.data.shape[1] \n",
    "        print('val shape:', val_data.data.shape)\n",
    "    cv_params =  {\n",
    "        'boosting_type': 'gbdt',\n",
    "        'objective': 'binary',\n",
    "        'metric': {evalerror},\n",
    "        'is_training_metric': False,\n",
    "        'min_data_in_leaf': 12,\n",
    "        'num_leaves': 32,\n",
    "        'learning_rate': 0.07,\n",
    "        'feature_fraction': 0.9,\n",
    "        'bagging_fraction': 0.9,\n",
    "        }\n",
    "    if val_data:\n",
    "        bst = lgb.train(cv_params, train_data, early_stopping_rounds=25, verbose_eval=200, \n",
    "                        valid_sets=[train_data, val_data], valid_names=['train', 'val'], \n",
    "                        num_boost_round=num_boost_round, feval=evalerror)\n",
    "    else:\n",
    "        bst = lgb.train(cv_params, train_data, early_stopping_rounds=25, verbose_eval=200, \n",
    "                        valid_sets=[train_data], valid_names=['train'], \n",
    "                        num_boost_round=num_boost_round, feval=evalerror)\n",
    "    return bst"
   ]
  },
  {
   "cell_type": "code",
   "execution_count": 11,
   "metadata": {
    "collapsed": false
   },
   "outputs": [
    {
     "data": {
      "text/plain": [
       "26"
      ]
     },
     "execution_count": 11,
     "metadata": {},
     "output_type": "execute_result"
    }
   ],
   "source": [
    "use_cols = ['city', 'countryid', 'hotel', 'hotelbelongto', 'hotelstar',\n",
    "       'isebookinghtl', 'isholdroom', 'isvendor', 'masterbasicroomid',\n",
    "       'masterhotelid', 'ordadvanceday', 'orderid', 'room',\n",
    "       'supplierchannel', 'supplierid', 'zone', 'orderdate_mon', 'arrival_mon',\n",
    "       'etd_mon', 'orderdate_day', 'arrival_day', 'etd_day',\n",
    "       'hotel_totalrooms', 'glon', 'glat', 'star']\n",
    "len(use_cols)"
   ]
  },
  {
   "cell_type": "code",
   "execution_count": 12,
   "metadata": {
    "collapsed": false
   },
   "outputs": [
    {
     "name": "stdout",
     "output_type": "stream",
     "text": [
      "train shape: (657895, 26)\n",
      "val shape: (309802, 26)\n",
      "Training until validation scores don't improve for 25 rounds.\n",
      "[50]\ttrain's prc: 0.255529\tval's prc: 0.204403\n",
      "[100]\ttrain's prc: 0.278415\tval's prc: 0.20939\n",
      "[150]\ttrain's prc: 0.291795\tval's prc: 0.210059\n",
      "Early stopping, best iteration is:\n",
      "[139]\ttrain's prc: 0.288854\tval's prc: 0.210351\n"
     ]
    }
   ],
   "source": [
    "train_data = lgb.Dataset(full[train_flag][use_cols], full[train_flag]['noroom'])\n",
    "val_data = lgb.Dataset(full[val_flag][use_cols], full[val_flag]['noroom'])\n",
    "print('train shape:', train_data.data.shape)\n",
    "print('val shape:', val_data.data.shape)\n",
    "cv_params =  {\n",
    "        'boosting_type': 'gbdt',\n",
    "        'objective': 'binary',\n",
    "        'metric': {evalerror},\n",
    "        'is_training_metric': False,\n",
    "        'min_data_in_leaf': 30,\n",
    "        'num_leaves': 150,\n",
    "        'learning_rate': 0.05,\n",
    "        'feature_fraction': 0.9,\n",
    "        'bagging_fraction': 0.6,\n",
    "        }\n",
    "bst = lgb.train(cv_params, train_data, early_stopping_rounds=25, verbose_eval=50, \n",
    "                        valid_sets=[train_data, val_data], valid_names=['train', 'val'], \n",
    "                        num_boost_round=1000, feval=evalerror)"
   ]
  },
  {
   "cell_type": "code",
   "execution_count": null,
   "metadata": {
    "collapsed": true
   },
   "outputs": [],
   "source": [
    "# 150:  [509]\ttrain's prc: 0.34196\tval's prc: 0.250873\n",
    "[139]\ttrain's prc: 0.288854\tval's prc: 0.210351"
   ]
  },
  {
   "cell_type": "markdown",
   "metadata": {},
   "source": [
    "### Predict"
   ]
  },
  {
   "cell_type": "code",
   "execution_count": 13,
   "metadata": {
    "collapsed": true
   },
   "outputs": [],
   "source": [
    "pred = bst.predict(full[test_flag][use_cols])"
   ]
  },
  {
   "cell_type": "code",
   "execution_count": 14,
   "metadata": {
    "collapsed": false,
    "scrolled": false
   },
   "outputs": [
    {
     "data": {
      "text/html": [
       "<div>\n",
       "<style scoped>\n",
       "    .dataframe tbody tr th:only-of-type {\n",
       "        vertical-align: middle;\n",
       "    }\n",
       "\n",
       "    .dataframe tbody tr th {\n",
       "        vertical-align: top;\n",
       "    }\n",
       "\n",
       "    .dataframe thead th {\n",
       "        text-align: right;\n",
       "    }\n",
       "</style>\n",
       "<table border=\"1\" class=\"dataframe\">\n",
       "  <thead>\n",
       "    <tr style=\"text-align: right;\">\n",
       "      <th></th>\n",
       "      <th>orderid</th>\n",
       "      <th>room</th>\n",
       "      <th>arrival</th>\n",
       "      <th>noroom</th>\n",
       "    </tr>\n",
       "  </thead>\n",
       "  <tbody>\n",
       "    <tr>\n",
       "      <th>967697</th>\n",
       "      <td>4505896718</td>\n",
       "      <td>71340604</td>\n",
       "      <td>2017/10/11</td>\n",
       "      <td>0.040260</td>\n",
       "    </tr>\n",
       "    <tr>\n",
       "      <th>967698</th>\n",
       "      <td>4504466510</td>\n",
       "      <td>70578904</td>\n",
       "      <td>2017/09/19</td>\n",
       "      <td>0.023085</td>\n",
       "    </tr>\n",
       "    <tr>\n",
       "      <th>967699</th>\n",
       "      <td>4505791849</td>\n",
       "      <td>91096440</td>\n",
       "      <td>2017/09/16</td>\n",
       "      <td>0.056268</td>\n",
       "    </tr>\n",
       "    <tr>\n",
       "      <th>967700</th>\n",
       "      <td>4505284465</td>\n",
       "      <td>20487676</td>\n",
       "      <td>2017/09/17</td>\n",
       "      <td>0.021613</td>\n",
       "    </tr>\n",
       "    <tr>\n",
       "      <th>967701</th>\n",
       "      <td>4506807614</td>\n",
       "      <td>88163053</td>\n",
       "      <td>2017/09/17</td>\n",
       "      <td>0.005694</td>\n",
       "    </tr>\n",
       "  </tbody>\n",
       "</table>\n",
       "</div>"
      ],
      "text/plain": [
       "           orderid      room     arrival    noroom\n",
       "967697  4505896718  71340604  2017/10/11  0.040260\n",
       "967698  4504466510  70578904  2017/09/19  0.023085\n",
       "967699  4505791849  91096440  2017/09/16  0.056268\n",
       "967700  4505284465  20487676  2017/09/17  0.021613\n",
       "967701  4506807614  88163053  2017/09/17  0.005694"
      ]
     },
     "execution_count": 14,
     "metadata": {},
     "output_type": "execute_result"
    }
   ],
   "source": [
    "submit = full[test_flag][['orderid', 'room', 'arrival']]\n",
    "submit['noroom'] = pred\n",
    "submit['arrival'] = submit['arrival'].dt.strftime('%Y/%m/%d').values\n",
    "submit.head()"
   ]
  },
  {
   "cell_type": "code",
   "execution_count": 15,
   "metadata": {
    "collapsed": true
   },
   "outputs": [],
   "source": [
    "submit.to_csv('../submit/lgb_1m_train_bl_9v.csv', index=False)"
   ]
  },
  {
   "cell_type": "code",
   "execution_count": 16,
   "metadata": {
    "collapsed": false,
    "scrolled": true
   },
   "outputs": [
    {
     "data": {
      "text/plain": [
       "(11035, 4)"
      ]
     },
     "execution_count": 16,
     "metadata": {},
     "output_type": "execute_result"
    }
   ],
   "source": [
    "submit.shape"
   ]
  },
  {
   "cell_type": "code",
   "execution_count": null,
   "metadata": {
    "collapsed": true
   },
   "outputs": [],
   "source": []
  },
  {
   "cell_type": "code",
   "execution_count": null,
   "metadata": {
    "collapsed": true
   },
   "outputs": [],
   "source": [
    "lgb_1m_train_bl: online: 0.25348411, local:200 [92] train's prc: 0.372813\tval's prc: 0.254069\n",
    "lgb_7m_train_bl: online: 0.25786676, local:150 [509] train's prc: 0.34196\tval's prc: 0.250873\n",
    "以 14号 为验证集趋势不符\n",
    "\n",
    "尝试以9月为val\n",
    "lgb_7m_train_bl_9v: online:0.23570004, local:[615]\ttrain's prc: 0.308787\tval's prc: 0.216412, \n",
    "lgb_1m_train_bl_9v: online:0.23682006, local: [139]\ttrain's prc: 0.288854\tval's prc: 0.210351\n",
    "\n"
   ]
  },
  {
   "cell_type": "code",
   "execution_count": null,
   "metadata": {
    "collapsed": true
   },
   "outputs": [],
   "source": []
  }
 ],
 "metadata": {
  "anaconda-cloud": {},
  "kernelspec": {
   "display_name": "Python [default]",
   "language": "python",
   "name": "python3"
  },
  "language_info": {
   "codemirror_mode": {
    "name": "ipython",
    "version": 3
   },
   "file_extension": ".py",
   "mimetype": "text/x-python",
   "name": "python",
   "nbconvert_exporter": "python",
   "pygments_lexer": "ipython3",
   "version": "3.5.2"
  }
 },
 "nbformat": 4,
 "nbformat_minor": 2
}
