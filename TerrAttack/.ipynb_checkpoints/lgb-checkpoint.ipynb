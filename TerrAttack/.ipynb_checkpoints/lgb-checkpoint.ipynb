{
 "cells": [
  {
   "cell_type": "code",
   "execution_count": 1,
   "metadata": {},
   "outputs": [],
   "source": [
    "import numpy as np\n",
    "import os\n",
    "import pandas as pd\n",
    "pd.set_option('display.max_columns', None)\n",
    "import matplotlib.pyplot as plt\n",
    "# import seaborn as sns\n",
    "import pickle\n",
    "import time\n",
    "import gc\n",
    "from tqdm import tqdm, tqdm_notebook\n",
    "\n",
    "%matplotlib inline\n",
    "\n",
    "#每次可以输出多个变量\n",
    "from IPython.core.interactiveshell import InteractiveShell\n",
    "InteractiveShell.ast_node_interactivity = \"all\"\n",
    "\n",
    "from pylab import rcParams\n",
    "rcParams['figure.figsize'] = 14, 6\n",
    "\n",
    "import warnings\n",
    "warnings.filterwarnings(\"ignore\")\n",
    "\n",
    "#中文字体\n",
    "import matplotlib\n",
    "matplotlib.use('qt4agg')\n",
    "#指定默认字体\n",
    "matplotlib.rcParams['font.sans-serif'] = ['SimHei']\n",
    "matplotlib.rcParams['font.family'] = 'sans-serif'\n",
    "#解决负号'-'显示为方块的问题\n",
    "matplotlib.rcParams['axes.unicode_minus'] = False"
   ]
  },
  {
   "cell_type": "code",
   "execution_count": 2,
   "metadata": {},
   "outputs": [
    {
     "data": {
      "text/plain": [
       "(114183, 2734)"
      ]
     },
     "execution_count": 2,
     "metadata": {},
     "output_type": "execute_result"
    }
   ],
   "source": [
    "df = pd.read_csv('./feature/df_preprocess.csv', encoding='gbk')\n",
    "df.shape"
   ]
  },
  {
   "cell_type": "code",
   "execution_count": 3,
   "metadata": {},
   "outputs": [
    {
     "data": {
      "text/plain": [
       "54"
      ]
     },
     "execution_count": 3,
     "metadata": {},
     "output_type": "execute_result"
    }
   ],
   "source": [
    "# 列分类\n",
    "zeroone_col = ['extended', 'crit1', 'crit2', 'crit3', 'success', 'suicide', 'individual']\n",
    "onehot_col = ['specificity', 'country', 'region', 'vicinity', 'doubtterr', 'multiple',\n",
    "              'attacktype1', 'targtype1', 'targsubtype1', 'guncertain1', 'weaptype1', 'weapsubtype1', 'property', 'propextent', \n",
    "              'ishostkid', 'dbsource', 'natlty1', 'INT_LOG', 'INT_MISC', 'INT_ANY', 'INT_IDEO', 'claimed']\n",
    "many_onehot_col = ['corp1', 'target1', 'provstate', 'city', 'weapdetail']\n",
    "txt_col = ['location', 'summary', 'scite1', 'scite2', 'scite3', 'motive', 'propcomment']\n",
    "cont_col = ['iyear', 'imonth', 'iday', 'latitude', 'longitude', 'nperps', 'nperpcap', 'nkill', 'nkillus', 'nkillter', 'nwound', \n",
    "            'nwoundus', 'nwoundte']\n",
    "\n",
    "full_col = zeroone_col+onehot_col+many_onehot_col+txt_col+cont_col\n",
    "len(full_col)"
   ]
  },
  {
   "cell_type": "code",
   "execution_count": 4,
   "metadata": {},
   "outputs": [],
   "source": [
    "from collections import Counter"
   ]
  },
  {
   "cell_type": "code",
   "execution_count": 5,
   "metadata": {
    "scrolled": true
   },
   "outputs": [],
   "source": [
    "target_most = [i[0] for i in sorted(Counter(df.gname).items(), key=lambda x:x[1], reverse=True)[:20]]"
   ]
  },
  {
   "cell_type": "code",
   "execution_count": 6,
   "metadata": {},
   "outputs": [],
   "source": [
    "df.gname = df.gname.apply(lambda x: x if x in target_most else 'Small')"
   ]
  },
  {
   "cell_type": "code",
   "execution_count": 7,
   "metadata": {},
   "outputs": [
    {
     "data": {
      "application/vnd.jupyter.widget-view+json": {
       "model_id": "f6d28e08efb3484cb10e7e0033c57593",
       "version_major": 2,
       "version_minor": 0
      },
      "text/plain": [
       "A Jupyter Widget"
      ]
     },
     "metadata": {},
     "output_type": "display_data"
    },
    {
     "name": "stdout",
     "output_type": "stream",
     "text": [
      "\n"
     ]
    }
   ],
   "source": [
    "def encode_feature(values):\n",
    "    uniq = values.unique()\n",
    "    mapping = dict(zip(uniq,range(1,len(uniq) + 1)))\n",
    "    return values.map(mapping), mapping\n",
    "\n",
    "df['gname'], mapping = encode_feature(df['gname'])\n",
    "\n",
    "for i in tqdm_notebook(many_onehot_col):\n",
    "    df[i], _ = encode_feature(df[i])"
   ]
  },
  {
   "cell_type": "code",
   "execution_count": 8,
   "metadata": {},
   "outputs": [],
   "source": [
    "xlsx = [201701090031,201702210037,201703120023,201705050009,201705050010,201707010028,201707020006,201708110018,201711010006,201712010003]"
   ]
  },
  {
   "cell_type": "code",
   "execution_count": 9,
   "metadata": {},
   "outputs": [
    {
     "data": {
      "text/plain": [
       "(101807, 2734)"
      ]
     },
     "execution_count": 9,
     "metadata": {},
     "output_type": "execute_result"
    },
    {
     "data": {
      "text/plain": [
       "(12376, 2734)"
      ]
     },
     "execution_count": 9,
     "metadata": {},
     "output_type": "execute_result"
    }
   ],
   "source": [
    "flag = (((df.iyear == 2015) | (df.iyear == 2016)) & (df.gname == mapping['Unknown'])) | (df.eventid.isin(xlsx))\n",
    "\n",
    "train = df[~flag]\n",
    "test = df[flag]\n",
    "\n",
    "train.shape\n",
    "test.shape"
   ]
  },
  {
   "cell_type": "markdown",
   "metadata": {},
   "source": [
    "## lgb"
   ]
  },
  {
   "cell_type": "code",
   "execution_count": 10,
   "metadata": {},
   "outputs": [],
   "source": [
    "import lightgbm as lgb\n",
    "from sklearn.model_selection import train_test_split"
   ]
  },
  {
   "cell_type": "code",
   "execution_count": 11,
   "metadata": {
    "scrolled": true
   },
   "outputs": [
    {
     "data": {
      "text/plain": [
       "(81445, 2734)"
      ]
     },
     "execution_count": 11,
     "metadata": {},
     "output_type": "execute_result"
    },
    {
     "data": {
      "text/plain": [
       "(20362, 2734)"
      ]
     },
     "execution_count": 11,
     "metadata": {},
     "output_type": "execute_result"
    }
   ],
   "source": [
    "X_train, X_val, y_train, y_val = train_test_split(train, train.gname, test_size=0.2, random_state=2018)\n",
    "\n",
    "X_train.shape\n",
    "X_val.shape"
   ]
  },
  {
   "cell_type": "code",
   "execution_count": 12,
   "metadata": {},
   "outputs": [
    {
     "data": {
      "text/plain": [
       "21"
      ]
     },
     "execution_count": 12,
     "metadata": {},
     "output_type": "execute_result"
    },
    {
     "data": {
      "text/plain": [
       "21"
      ]
     },
     "execution_count": 12,
     "metadata": {},
     "output_type": "execute_result"
    }
   ],
   "source": [
    "len(X_train.gname.unique())\n",
    "len(X_val.gname.unique())"
   ]
  },
  {
   "cell_type": "code",
   "execution_count": 13,
   "metadata": {
    "collapsed": true
   },
   "outputs": [
    {
     "name": "stdout",
     "output_type": "stream",
     "text": [
      "Training until validation scores don't improve for 5 rounds.\n",
      "[10]\ttrain's multi_logloss: 1.26275\tval's multi_logloss: 1.27981\n",
      "[20]\ttrain's multi_logloss: 0.754536\tval's multi_logloss: 0.779803\n",
      "[30]\ttrain's multi_logloss: 0.483503\tval's multi_logloss: 0.514144\n",
      "[40]\ttrain's multi_logloss: 0.322462\tval's multi_logloss: 0.35714\n",
      "[50]\ttrain's multi_logloss: 0.2218\tval's multi_logloss: 0.260637\n",
      "[60]\ttrain's multi_logloss: 0.157085\tval's multi_logloss: 0.199736\n",
      "[70]\ttrain's multi_logloss: 0.114458\tval's multi_logloss: 0.160666\n",
      "[80]\ttrain's multi_logloss: 0.0853311\tval's multi_logloss: 0.134975\n",
      "[90]\ttrain's multi_logloss: 0.0652822\tval's multi_logloss: 0.117923\n",
      "[100]\ttrain's multi_logloss: 0.050858\tval's multi_logloss: 0.10579\n",
      "[110]\ttrain's multi_logloss: 0.0403591\tval's multi_logloss: 0.0973977\n",
      "[120]\ttrain's multi_logloss: 0.0324974\tval's multi_logloss: 0.0913989\n",
      "[130]\ttrain's multi_logloss: 0.0263911\tval's multi_logloss: 0.0870002\n",
      "[140]\ttrain's multi_logloss: 0.0216304\tval's multi_logloss: 0.0838713\n",
      "[150]\ttrain's multi_logloss: 0.0179606\tval's multi_logloss: 0.0814397\n",
      "[160]\ttrain's multi_logloss: 0.0150051\tval's multi_logloss: 0.0797037\n",
      "[170]\ttrain's multi_logloss: 0.0126613\tval's multi_logloss: 0.0783223\n",
      "[180]\ttrain's multi_logloss: 0.0107311\tval's multi_logloss: 0.0772153\n",
      "[190]\ttrain's multi_logloss: 0.0091074\tval's multi_logloss: 0.076495\n",
      "[200]\ttrain's multi_logloss: 0.00775601\tval's multi_logloss: 0.0760091\n",
      "[210]\ttrain's multi_logloss: 0.00660659\tval's multi_logloss: 0.0757677\n",
      "[220]\ttrain's multi_logloss: 0.00568845\tval's multi_logloss: 0.0755431\n",
      "Early stopping, best iteration is:\n",
      "[222]\ttrain's multi_logloss: 0.00552379\tval's multi_logloss: 0.0754617\n"
     ]
    }
   ],
   "source": [
    "train_data = lgb.Dataset(X_train.drop(['gname'], axis=1), X_train['gname'], categorical_feature=many_onehot_col)\n",
    "val_data = lgb.Dataset(X_val.drop(['gname'], axis=1), X_val['gname'], categorical_feature=many_onehot_col)\n",
    "\n",
    "cv_params =  {\n",
    "        'objective': 'multiclass',\n",
    "        'num_class': 22,\n",
    "        'min_data_in_leaf': 30,\n",
    "        'num_leaves': 127,\n",
    "        'max_depth': 7,\n",
    "        'learning_rate': 0.05,\n",
    "        'feature_fraction': 0.9,\n",
    "        'bagging_fraction': 0.9,\n",
    "        'seed': 2018\n",
    "        }\n",
    "\n",
    "bst = lgb.train(cv_params, train_data, early_stopping_rounds=5, verbose_eval=10, valid_sets=[train_data, val_data], \n",
    "                valid_names=['train', 'val'], num_boost_round=10000)"
   ]
  },
  {
   "cell_type": "code",
   "execution_count": 14,
   "metadata": {},
   "outputs": [],
   "source": [
    "pred = bst.predict(test.drop(['gname'], axis=1))"
   ]
  },
  {
   "cell_type": "code",
   "execution_count": 15,
   "metadata": {},
   "outputs": [],
   "source": [
    "import heapq"
   ]
  },
  {
   "cell_type": "code",
   "execution_count": 16,
   "metadata": {},
   "outputs": [
    {
     "data": {
      "application/vnd.jupyter.widget-view+json": {
       "model_id": "e0ba6756f2de44b1a65dfa04e543213a",
       "version_major": 2,
       "version_minor": 0
      },
      "text/plain": [
       "A Jupyter Widget"
      ]
     },
     "metadata": {},
     "output_type": "display_data"
    },
    {
     "name": "stdout",
     "output_type": "stream",
     "text": [
      "\n"
     ]
    }
   ],
   "source": [
    "res = []\n",
    "\n",
    "for i in tqdm_notebook(range(test.shape[0])):\n",
    "    tmp_list = []\n",
    "    tmp = heapq.nlargest(7, pred[i])\n",
    "    for a in tmp:\n",
    "        tmp_list.append((np.where(pred[i] == a))[0][0])\n",
    "    res.append(tmp_list)"
   ]
  },
  {
   "cell_type": "code",
   "execution_count": 17,
   "metadata": {},
   "outputs": [],
   "source": [
    "res2 = []\n",
    "for i in res:\n",
    "    i.remove(2)\n",
    "    i.remove(1)\n",
    "    res2.append(i)"
   ]
  },
  {
   "cell_type": "code",
   "execution_count": 18,
   "metadata": {
    "collapsed": true
   },
   "outputs": [
    {
     "data": {
      "text/plain": [
       "{'Abu Sayyaf Group (ASG)': 5,\n",
       " 'Al-Qaida in Iraq': 13,\n",
       " 'Al-Qaida in the Arabian Peninsula (AQAP)': 14,\n",
       " 'Al-Shabaab': 18,\n",
       " 'Boko Haram': 19,\n",
       " 'Communist Party of India - Maoist (CPI-Maoist)': 15,\n",
       " \"Donetsk People's Republic\": 21,\n",
       " 'Fulani extremists': 12,\n",
       " 'Houthi extremists (Ansar Allah)': 16,\n",
       " 'Islamic State of Iraq and the Levant (ISIL)': 20,\n",
       " \"Kurdistan Workers' Party (PKK)\": 6,\n",
       " 'Liberation Tigers of Tamil Eelam (LTTE)': 3,\n",
       " 'Maoists': 10,\n",
       " 'Muslim extremists': 8,\n",
       " 'National Liberation Army of Colombia (ELN)': 7,\n",
       " \"New People's Army (NPA)\": 9,\n",
       " 'Revolutionary Armed Forces of Colombia (FARC)': 4,\n",
       " 'Small': 1,\n",
       " 'Taliban': 11,\n",
       " 'Tehrik-i-Taliban Pakistan (TTP)': 17,\n",
       " 'Unknown': 2}"
      ]
     },
     "execution_count": 18,
     "metadata": {},
     "output_type": "execute_result"
    }
   ],
   "source": [
    "mapping"
   ]
  },
  {
   "cell_type": "code",
   "execution_count": 19,
   "metadata": {},
   "outputs": [],
   "source": [
    "result = test[['eventid']]\n",
    "\n",
    "for idx in range(5):\n",
    "    result['pred' + str(idx)] = [i[idx] for i in res2]\n",
    "    result['pred_name_' + str(idx)] = result['pred' + str(idx)].map(dict(zip(mapping.values(), mapping.keys())))\n",
    "    result = result.drop(['pred' + str(idx)], axis=1)"
   ]
  },
  {
   "cell_type": "code",
   "execution_count": 22,
   "metadata": {
    "collapsed": true
   },
   "outputs": [
    {
     "data": {
      "text/html": [
       "<div>\n",
       "<style>\n",
       "    .dataframe thead tr:only-child th {\n",
       "        text-align: right;\n",
       "    }\n",
       "\n",
       "    .dataframe thead th {\n",
       "        text-align: left;\n",
       "    }\n",
       "\n",
       "    .dataframe tbody tr th {\n",
       "        vertical-align: top;\n",
       "    }\n",
       "</style>\n",
       "<table border=\"1\" class=\"dataframe\">\n",
       "  <thead>\n",
       "    <tr style=\"text-align: right;\">\n",
       "      <th></th>\n",
       "      <th>eventid</th>\n",
       "      <th>pred_name_0</th>\n",
       "      <th>pred_name_1</th>\n",
       "      <th>pred_name_2</th>\n",
       "      <th>pred_name_3</th>\n",
       "      <th>pred_name_4</th>\n",
       "    </tr>\n",
       "  </thead>\n",
       "  <tbody>\n",
       "    <tr>\n",
       "      <th>103533</th>\n",
       "      <td>201701090031</td>\n",
       "      <td>Muslim extremists</td>\n",
       "      <td>Al-Qaida in Iraq</td>\n",
       "      <td>Islamic State of Iraq and the Levant (ISIL)</td>\n",
       "      <td>Taliban</td>\n",
       "      <td>Kurdistan Workers' Party (PKK)</td>\n",
       "    </tr>\n",
       "    <tr>\n",
       "      <th>104775</th>\n",
       "      <td>201702210037</td>\n",
       "      <td>Muslim extremists</td>\n",
       "      <td>Taliban</td>\n",
       "      <td>Maoists</td>\n",
       "      <td>Islamic State of Iraq and the Levant (ISIL)</td>\n",
       "      <td>Boko Haram</td>\n",
       "    </tr>\n",
       "    <tr>\n",
       "      <th>105390</th>\n",
       "      <td>201703120023</td>\n",
       "      <td>Muslim extremists</td>\n",
       "      <td>Al-Shabaab</td>\n",
       "      <td>Boko Haram</td>\n",
       "      <td>Communist Party of India - Maoist (CPI-Maoist)</td>\n",
       "      <td>Islamic State of Iraq and the Levant (ISIL)</td>\n",
       "    </tr>\n",
       "    <tr>\n",
       "      <th>106967</th>\n",
       "      <td>201705050009</td>\n",
       "      <td>Muslim extremists</td>\n",
       "      <td>Al-Shabaab</td>\n",
       "      <td>Boko Haram</td>\n",
       "      <td>Houthi extremists (Ansar Allah)</td>\n",
       "      <td>Islamic State of Iraq and the Levant (ISIL)</td>\n",
       "    </tr>\n",
       "    <tr>\n",
       "      <th>106968</th>\n",
       "      <td>201705050010</td>\n",
       "      <td>Muslim extremists</td>\n",
       "      <td>Al-Shabaab</td>\n",
       "      <td>Boko Haram</td>\n",
       "      <td>Houthi extremists (Ansar Allah)</td>\n",
       "      <td>Islamic State of Iraq and the Levant (ISIL)</td>\n",
       "    </tr>\n",
       "    <tr>\n",
       "      <th>109039</th>\n",
       "      <td>201707010028</td>\n",
       "      <td>Muslim extremists</td>\n",
       "      <td>Fulani extremists</td>\n",
       "      <td>Al-Shabaab</td>\n",
       "      <td>Boko Haram</td>\n",
       "      <td>Islamic State of Iraq and the Levant (ISIL)</td>\n",
       "    </tr>\n",
       "    <tr>\n",
       "      <th>109049</th>\n",
       "      <td>201707020006</td>\n",
       "      <td>Muslim extremists</td>\n",
       "      <td>Islamic State of Iraq and the Levant (ISIL)</td>\n",
       "      <td>Taliban</td>\n",
       "      <td>New People's Army (NPA)</td>\n",
       "      <td>Donetsk People's Republic</td>\n",
       "    </tr>\n",
       "    <tr>\n",
       "      <th>110333</th>\n",
       "      <td>201708110018</td>\n",
       "      <td>Muslim extremists</td>\n",
       "      <td>Taliban</td>\n",
       "      <td>Maoists</td>\n",
       "      <td>Kurdistan Workers' Party (PKK)</td>\n",
       "      <td>Islamic State of Iraq and the Levant (ISIL)</td>\n",
       "    </tr>\n",
       "    <tr>\n",
       "      <th>112632</th>\n",
       "      <td>201711010006</td>\n",
       "      <td>Taliban</td>\n",
       "      <td>Muslim extremists</td>\n",
       "      <td>Al-Qaida in Iraq</td>\n",
       "      <td>Maoists</td>\n",
       "      <td>Islamic State of Iraq and the Levant (ISIL)</td>\n",
       "    </tr>\n",
       "    <tr>\n",
       "      <th>113434</th>\n",
       "      <td>201712010003</td>\n",
       "      <td>Muslim extremists</td>\n",
       "      <td>Al-Qaida in Iraq</td>\n",
       "      <td>Islamic State of Iraq and the Levant (ISIL)</td>\n",
       "      <td>Maoists</td>\n",
       "      <td>Kurdistan Workers' Party (PKK)</td>\n",
       "    </tr>\n",
       "  </tbody>\n",
       "</table>\n",
       "</div>"
      ],
      "text/plain": [
       "             eventid        pred_name_0  \\\n",
       "103533  201701090031  Muslim extremists   \n",
       "104775  201702210037  Muslim extremists   \n",
       "105390  201703120023  Muslim extremists   \n",
       "106967  201705050009  Muslim extremists   \n",
       "106968  201705050010  Muslim extremists   \n",
       "109039  201707010028  Muslim extremists   \n",
       "109049  201707020006  Muslim extremists   \n",
       "110333  201708110018  Muslim extremists   \n",
       "112632  201711010006            Taliban   \n",
       "113434  201712010003  Muslim extremists   \n",
       "\n",
       "                                        pred_name_1  \\\n",
       "103533                             Al-Qaida in Iraq   \n",
       "104775                                      Taliban   \n",
       "105390                                   Al-Shabaab   \n",
       "106967                                   Al-Shabaab   \n",
       "106968                                   Al-Shabaab   \n",
       "109039                            Fulani extremists   \n",
       "109049  Islamic State of Iraq and the Levant (ISIL)   \n",
       "110333                                      Taliban   \n",
       "112632                            Muslim extremists   \n",
       "113434                             Al-Qaida in Iraq   \n",
       "\n",
       "                                        pred_name_2  \\\n",
       "103533  Islamic State of Iraq and the Levant (ISIL)   \n",
       "104775                                      Maoists   \n",
       "105390                                   Boko Haram   \n",
       "106967                                   Boko Haram   \n",
       "106968                                   Boko Haram   \n",
       "109039                                   Al-Shabaab   \n",
       "109049                                      Taliban   \n",
       "110333                                      Maoists   \n",
       "112632                             Al-Qaida in Iraq   \n",
       "113434  Islamic State of Iraq and the Levant (ISIL)   \n",
       "\n",
       "                                           pred_name_3  \\\n",
       "103533                                         Taliban   \n",
       "104775     Islamic State of Iraq and the Levant (ISIL)   \n",
       "105390  Communist Party of India - Maoist (CPI-Maoist)   \n",
       "106967                 Houthi extremists (Ansar Allah)   \n",
       "106968                 Houthi extremists (Ansar Allah)   \n",
       "109039                                      Boko Haram   \n",
       "109049                         New People's Army (NPA)   \n",
       "110333                  Kurdistan Workers' Party (PKK)   \n",
       "112632                                         Maoists   \n",
       "113434                                         Maoists   \n",
       "\n",
       "                                        pred_name_4  \n",
       "103533               Kurdistan Workers' Party (PKK)  \n",
       "104775                                   Boko Haram  \n",
       "105390  Islamic State of Iraq and the Levant (ISIL)  \n",
       "106967  Islamic State of Iraq and the Levant (ISIL)  \n",
       "106968  Islamic State of Iraq and the Levant (ISIL)  \n",
       "109039  Islamic State of Iraq and the Levant (ISIL)  \n",
       "109049                    Donetsk People's Republic  \n",
       "110333  Islamic State of Iraq and the Levant (ISIL)  \n",
       "112632  Islamic State of Iraq and the Levant (ISIL)  \n",
       "113434               Kurdistan Workers' Party (PKK)  "
      ]
     },
     "execution_count": 22,
     "metadata": {},
     "output_type": "execute_result"
    }
   ],
   "source": [
    "result.tail(10)"
   ]
  },
  {
   "cell_type": "code",
   "execution_count": 21,
   "metadata": {},
   "outputs": [],
   "source": [
    "result.to_csv('./result/result_new.csv', index=None)"
   ]
  },
  {
   "cell_type": "markdown",
   "metadata": {},
   "source": [
    "## KMeans"
   ]
  },
  {
   "cell_type": "code",
   "execution_count": 10,
   "metadata": {},
   "outputs": [],
   "source": [
    "xlsx = [200108110012,200511180002,200901170021,201402110015,201405010071,201411070002,201412160041,201508010015,201705080012]"
   ]
  },
  {
   "cell_type": "code",
   "execution_count": 11,
   "metadata": {},
   "outputs": [],
   "source": [
    "from sklearn.cluster import KMeans"
   ]
  },
  {
   "cell_type": "code",
   "execution_count": 12,
   "metadata": {},
   "outputs": [],
   "source": [
    "df = df.fillna(1)"
   ]
  },
  {
   "cell_type": "code",
   "execution_count": 13,
   "metadata": {},
   "outputs": [],
   "source": [
    "df = df.iloc[:, :641]"
   ]
  },
  {
   "cell_type": "code",
   "execution_count": 17,
   "metadata": {},
   "outputs": [],
   "source": [
    "kmeans = KMeans(n_clusters=5, random_state=2018).fit(df.iloc[:, 2:])"
   ]
  },
  {
   "cell_type": "code",
   "execution_count": 18,
   "metadata": {},
   "outputs": [
    {
     "data": {
      "text/plain": [
       "array([[6.60411136e+00, 1.56465863e+01, 1.13879246e-01, ...,\n",
       "        5.23886490e-16, 8.21999864e-01, 1.78000136e-01],\n",
       "       [6.33641312e+00, 1.54249522e+01, 4.01647786e-02, ...,\n",
       "        2.31572753e-02, 8.18625864e-01, 1.58216860e-01],\n",
       "       [6.41054969e+00, 1.55215351e+01, 5.26646556e-02, ...,\n",
       "        2.66465561e-02, 8.46279537e-01, 1.27073906e-01],\n",
       "       [6.57817526e+00, 1.55350671e+01, 6.71138307e-02, ...,\n",
       "        4.31474072e-04, 8.33176434e-01, 1.66392092e-01],\n",
       "       [6.53973366e+00, 1.59069062e+01, 5.75410344e-02, ...,\n",
       "        1.19348975e-15, 7.90151750e-01, 2.09848250e-01]])"
      ]
     },
     "execution_count": 18,
     "metadata": {},
     "output_type": "execute_result"
    }
   ],
   "source": [
    "kmeans.cluster_centers_"
   ]
  },
  {
   "cell_type": "code",
   "execution_count": 19,
   "metadata": {},
   "outputs": [],
   "source": [
    "df['cluster'] = kmeans.labels_"
   ]
  },
  {
   "cell_type": "code",
   "execution_count": 20,
   "metadata": {
    "scrolled": true
   },
   "outputs": [
    {
     "data": {
      "text/plain": [
       "Counter({0: 14688, 1: 33986, 2: 23869, 3: 25495, 4: 16145})"
      ]
     },
     "execution_count": 20,
     "metadata": {},
     "output_type": "execute_result"
    }
   ],
   "source": [
    "Counter(kmeans.labels_)"
   ]
  },
  {
   "cell_type": "code",
   "execution_count": 22,
   "metadata": {},
   "outputs": [
    {
     "data": {
      "text/html": [
       "<div>\n",
       "<style>\n",
       "    .dataframe thead tr:only-child th {\n",
       "        text-align: right;\n",
       "    }\n",
       "\n",
       "    .dataframe thead th {\n",
       "        text-align: left;\n",
       "    }\n",
       "\n",
       "    .dataframe tbody tr th {\n",
       "        vertical-align: top;\n",
       "    }\n",
       "</style>\n",
       "<table border=\"1\" class=\"dataframe\">\n",
       "  <thead>\n",
       "    <tr style=\"text-align: right;\">\n",
       "      <th></th>\n",
       "      <th>eventid</th>\n",
       "      <th>cluster</th>\n",
       "    </tr>\n",
       "  </thead>\n",
       "  <tbody>\n",
       "    <tr>\n",
       "      <th>5139</th>\n",
       "      <td>200108110012</td>\n",
       "      <td>1</td>\n",
       "    </tr>\n",
       "    <tr>\n",
       "      <th>11700</th>\n",
       "      <td>200511180002</td>\n",
       "      <td>2</td>\n",
       "    </tr>\n",
       "    <tr>\n",
       "      <th>22894</th>\n",
       "      <td>200901170021</td>\n",
       "      <td>2</td>\n",
       "    </tr>\n",
       "    <tr>\n",
       "      <th>59671</th>\n",
       "      <td>201402110015</td>\n",
       "      <td>1</td>\n",
       "    </tr>\n",
       "    <tr>\n",
       "      <th>63638</th>\n",
       "      <td>201405010071</td>\n",
       "      <td>4</td>\n",
       "    </tr>\n",
       "    <tr>\n",
       "      <th>72622</th>\n",
       "      <td>201411070002</td>\n",
       "      <td>3</td>\n",
       "    </tr>\n",
       "    <tr>\n",
       "      <th>74130</th>\n",
       "      <td>201412160041</td>\n",
       "      <td>3</td>\n",
       "    </tr>\n",
       "    <tr>\n",
       "      <th>83767</th>\n",
       "      <td>201508010015</td>\n",
       "      <td>1</td>\n",
       "    </tr>\n",
       "    <tr>\n",
       "      <th>107031</th>\n",
       "      <td>201705080012</td>\n",
       "      <td>3</td>\n",
       "    </tr>\n",
       "  </tbody>\n",
       "</table>\n",
       "</div>"
      ],
      "text/plain": [
       "             eventid  cluster\n",
       "5139    200108110012        1\n",
       "11700   200511180002        2\n",
       "22894   200901170021        2\n",
       "59671   201402110015        1\n",
       "63638   201405010071        4\n",
       "72622   201411070002        3\n",
       "74130   201412160041        3\n",
       "83767   201508010015        1\n",
       "107031  201705080012        3"
      ]
     },
     "execution_count": 22,
     "metadata": {},
     "output_type": "execute_result"
    }
   ],
   "source": [
    "df[df.eventid.isin(xlsx)][['eventid', 'cluster']]"
   ]
  },
  {
   "cell_type": "code",
   "execution_count": 25,
   "metadata": {},
   "outputs": [],
   "source": [
    "df[['eventid', 'cluster']].to_csv('./result/result_cluster_sample.csv', index=None)"
   ]
  }
 ],
 "metadata": {
  "kernelspec": {
   "display_name": "Python 3",
   "language": "python",
   "name": "python3"
  }
 },
 "nbformat": 4,
 "nbformat_minor": 2
}
