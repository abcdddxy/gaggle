{
 "cells": [
  {
   "cell_type": "code",
   "execution_count": 1,
   "metadata": {},
   "outputs": [],
   "source": [
    "import numpy as np\n",
    "import os\n",
    "import pandas as pd\n",
    "pd.set_option('display.max_columns', None)\n",
    "import matplotlib.pyplot as plt\n",
    "# import seaborn as sns\n",
    "import pickle\n",
    "import time\n",
    "import gc\n",
    "from tqdm import tqdm, tqdm_notebook\n",
    "\n",
    "%matplotlib inline\n",
    "\n",
    "#每次可以输出多个变量\n",
    "from IPython.core.interactiveshell import InteractiveShell\n",
    "InteractiveShell.ast_node_interactivity = \"all\"\n",
    "\n",
    "from pylab import rcParams\n",
    "rcParams['figure.figsize'] = 14, 6\n",
    "\n",
    "import warnings\n",
    "warnings.filterwarnings(\"ignore\")\n",
    "\n",
    "#中文字体\n",
    "import matplotlib\n",
    "matplotlib.use('qt4agg')\n",
    "#指定默认字体\n",
    "matplotlib.rcParams['font.sans-serif'] = ['SimHei']\n",
    "matplotlib.rcParams['font.family'] = 'sans-serif'\n",
    "#解决负号'-'显示为方块的问题\n",
    "matplotlib.rcParams['axes.unicode_minus'] = False"
   ]
  },
  {
   "cell_type": "code",
   "execution_count": 2,
   "metadata": {},
   "outputs": [
    {
     "data": {
      "text/plain": [
       "(114183, 2734)"
      ]
     },
     "execution_count": 2,
     "metadata": {},
     "output_type": "execute_result"
    }
   ],
   "source": [
    "df = pd.read_csv('./feature/df_preprocess.csv', encoding='gbk')\n",
    "df.shape"
   ]
  },
  {
   "cell_type": "code",
   "execution_count": 3,
   "metadata": {},
   "outputs": [
    {
     "data": {
      "text/plain": [
       "54"
      ]
     },
     "execution_count": 3,
     "metadata": {},
     "output_type": "execute_result"
    }
   ],
   "source": [
    "# 列分类\n",
    "zeroone_col = ['extended', 'crit1', 'crit2', 'crit3', 'success', 'suicide', 'individual']\n",
    "onehot_col = ['specificity', 'country', 'region', 'vicinity', 'doubtterr', 'multiple',\n",
    "              'attacktype1', 'targtype1', 'targsubtype1', 'guncertain1', 'weaptype1', 'weapsubtype1', 'property', 'propextent', \n",
    "              'ishostkid', 'dbsource', 'natlty1', 'INT_LOG', 'INT_MISC', 'INT_ANY', 'INT_IDEO', 'claimed']\n",
    "many_onehot_col = ['corp1', 'target1', 'provstate', 'city', 'weapdetail']\n",
    "txt_col = ['location', 'summary', 'scite1', 'scite2', 'scite3', 'motive', 'propcomment']\n",
    "cont_col = ['iyear', 'imonth', 'iday', 'latitude', 'longitude', 'nperps', 'nperpcap', 'nkill', 'nkillus', 'nkillter', 'nwound', \n",
    "            'nwoundus', 'nwoundte']\n",
    "\n",
    "full_col = zeroone_col+onehot_col+many_onehot_col+txt_col+cont_col\n",
    "len(full_col)"
   ]
  },
  {
   "cell_type": "code",
   "execution_count": 4,
   "metadata": {},
   "outputs": [],
   "source": [
    "from collections import Counter"
   ]
  },
  {
   "cell_type": "code",
   "execution_count": 5,
   "metadata": {
    "scrolled": true
   },
   "outputs": [],
   "source": [
    "target_most = [i[0] for i in sorted(Counter(df.gname).items(), key=lambda x:x[1], reverse=True)[:20]]"
   ]
  },
  {
   "cell_type": "code",
   "execution_count": 6,
   "metadata": {},
   "outputs": [],
   "source": [
    "df.gname = df.gname.apply(lambda x: x if x in target_most else 'Small')"
   ]
  },
  {
   "cell_type": "code",
   "execution_count": 7,
   "metadata": {},
   "outputs": [
    {
     "data": {
      "application/vnd.jupyter.widget-view+json": {
       "model_id": "12d46bf483944529afab66d4e120fe63",
       "version_major": 2,
       "version_minor": 0
      },
      "text/plain": [
       "A Jupyter Widget"
      ]
     },
     "metadata": {},
     "output_type": "display_data"
    },
    {
     "name": "stdout",
     "output_type": "stream",
     "text": [
      "\n"
     ]
    }
   ],
   "source": [
    "def encode_feature(values):\n",
    "    uniq = values.unique()\n",
    "    mapping = dict(zip(uniq,range(1,len(uniq) + 1)))\n",
    "    return values.map(mapping), mapping\n",
    "\n",
    "df['gname'], mapping = encode_feature(df['gname'])\n",
    "\n",
    "for i in tqdm_notebook(many_onehot_col):\n",
    "    df[i], _ = encode_feature(df[i])"
   ]
  },
  {
   "cell_type": "code",
   "execution_count": 8,
   "metadata": {},
   "outputs": [],
   "source": [
    "xlsx = [201701090031,201702210037,201703120023,201705050009,201705050010,201707010028,201707020006,201708110018,201711010006,201712010003]"
   ]
  },
  {
   "cell_type": "code",
   "execution_count": 9,
   "metadata": {},
   "outputs": [
    {
     "data": {
      "text/plain": [
       "(101807, 2734)"
      ]
     },
     "execution_count": 9,
     "metadata": {},
     "output_type": "execute_result"
    },
    {
     "data": {
      "text/plain": [
       "(12376, 2734)"
      ]
     },
     "execution_count": 9,
     "metadata": {},
     "output_type": "execute_result"
    }
   ],
   "source": [
    "flag = (((df.iyear == 2015) | (df.iyear == 2016)) & (df.gname == mapping['Unknown'])) | (df.eventid.isin(xlsx))\n",
    "\n",
    "train = df[~flag]\n",
    "test = df[flag]\n",
    "\n",
    "train.shape\n",
    "test.shape"
   ]
  },
  {
   "cell_type": "markdown",
   "metadata": {},
   "source": [
    "## lgb"
   ]
  },
  {
   "cell_type": "code",
   "execution_count": 10,
   "metadata": {},
   "outputs": [],
   "source": [
    "import lightgbm as lgb\n",
    "from sklearn.model_selection import train_test_split"
   ]
  },
  {
   "cell_type": "code",
   "execution_count": 11,
   "metadata": {
    "scrolled": true
   },
   "outputs": [
    {
     "data": {
      "text/plain": [
       "(81445, 2734)"
      ]
     },
     "execution_count": 11,
     "metadata": {},
     "output_type": "execute_result"
    },
    {
     "data": {
      "text/plain": [
       "(20362, 2734)"
      ]
     },
     "execution_count": 11,
     "metadata": {},
     "output_type": "execute_result"
    }
   ],
   "source": [
    "X_train, X_val, y_train, y_val = train_test_split(train, train.gname, test_size=0.2, random_state=2018)\n",
    "\n",
    "X_train.shape\n",
    "X_val.shape"
   ]
  },
  {
   "cell_type": "code",
   "execution_count": 12,
   "metadata": {},
   "outputs": [
    {
     "data": {
      "text/plain": [
       "21"
      ]
     },
     "execution_count": 12,
     "metadata": {},
     "output_type": "execute_result"
    },
    {
     "data": {
      "text/plain": [
       "21"
      ]
     },
     "execution_count": 12,
     "metadata": {},
     "output_type": "execute_result"
    }
   ],
   "source": [
    "len(X_train.gname.unique())\n",
    "len(X_val.gname.unique())"
   ]
  },
  {
   "cell_type": "code",
   "execution_count": 13,
   "metadata": {
    "collapsed": true
   },
   "outputs": [
    {
     "name": "stdout",
     "output_type": "stream",
     "text": [
      "Training until validation scores don't improve for 5 rounds.\n",
      "[10]\ttrain's multi_logloss: 1.26275\tval's multi_logloss: 1.27981\n",
      "[20]\ttrain's multi_logloss: 0.754536\tval's multi_logloss: 0.779803\n",
      "[30]\ttrain's multi_logloss: 0.483503\tval's multi_logloss: 0.514144\n",
      "[40]\ttrain's multi_logloss: 0.322462\tval's multi_logloss: 0.35714\n",
      "[50]\ttrain's multi_logloss: 0.2218\tval's multi_logloss: 0.260637\n",
      "[60]\ttrain's multi_logloss: 0.157085\tval's multi_logloss: 0.199736\n",
      "[70]\ttrain's multi_logloss: 0.114458\tval's multi_logloss: 0.160666\n",
      "[80]\ttrain's multi_logloss: 0.0853311\tval's multi_logloss: 0.134975\n",
      "[90]\ttrain's multi_logloss: 0.0652822\tval's multi_logloss: 0.117923\n",
      "[100]\ttrain's multi_logloss: 0.050858\tval's multi_logloss: 0.10579\n",
      "[110]\ttrain's multi_logloss: 0.0403591\tval's multi_logloss: 0.0973977\n",
      "[120]\ttrain's multi_logloss: 0.0324974\tval's multi_logloss: 0.0913989\n",
      "[130]\ttrain's multi_logloss: 0.0263911\tval's multi_logloss: 0.0870002\n",
      "[140]\ttrain's multi_logloss: 0.0216304\tval's multi_logloss: 0.0838713\n",
      "[150]\ttrain's multi_logloss: 0.0179606\tval's multi_logloss: 0.0814397\n",
      "[160]\ttrain's multi_logloss: 0.0150051\tval's multi_logloss: 0.0797037\n",
      "[170]\ttrain's multi_logloss: 0.0126613\tval's multi_logloss: 0.0783223\n",
      "[180]\ttrain's multi_logloss: 0.0107311\tval's multi_logloss: 0.0772153\n",
      "[190]\ttrain's multi_logloss: 0.0091074\tval's multi_logloss: 0.076495\n",
      "[200]\ttrain's multi_logloss: 0.00775601\tval's multi_logloss: 0.0760091\n",
      "[210]\ttrain's multi_logloss: 0.00660659\tval's multi_logloss: 0.0757677\n",
      "[220]\ttrain's multi_logloss: 0.00568845\tval's multi_logloss: 0.0755431\n",
      "Early stopping, best iteration is:\n",
      "[222]\ttrain's multi_logloss: 0.00552379\tval's multi_logloss: 0.0754617\n"
     ]
    }
   ],
   "source": [
    "train_data = lgb.Dataset(X_train.drop(['gname'], axis=1), X_train['gname'], categorical_feature=many_onehot_col)\n",
    "val_data = lgb.Dataset(X_val.drop(['gname'], axis=1), X_val['gname'], categorical_feature=many_onehot_col)\n",
    "\n",
    "cv_params =  {\n",
    "        'objective': 'multiclass',\n",
    "        'num_class': 22,\n",
    "        'min_data_in_leaf': 30,\n",
    "        'num_leaves': 127,\n",
    "        'max_depth': 7,\n",
    "        'learning_rate': 0.05,\n",
    "        'feature_fraction': 0.9,\n",
    "        'bagging_fraction': 0.9,\n",
    "        'seed': 2018\n",
    "        }\n",
    "\n",
    "bst = lgb.train(cv_params, train_data, early_stopping_rounds=5, verbose_eval=10, valid_sets=[train_data, val_data], \n",
    "                valid_names=['train', 'val'], num_boost_round=10000)"
   ]
  },
  {
   "cell_type": "code",
   "execution_count": 14,
   "metadata": {},
   "outputs": [],
   "source": [
    "pred = bst.predict(test.drop(['gname'], axis=1))"
   ]
  },
  {
   "cell_type": "code",
   "execution_count": 15,
   "metadata": {},
   "outputs": [],
   "source": [
    "import heapq"
   ]
  },
  {
   "cell_type": "code",
   "execution_count": 16,
   "metadata": {},
   "outputs": [
    {
     "data": {
      "application/vnd.jupyter.widget-view+json": {
       "model_id": "e0ba6756f2de44b1a65dfa04e543213a",
       "version_major": 2,
       "version_minor": 0
      },
      "text/plain": [
       "A Jupyter Widget"
      ]
     },
     "metadata": {},
     "output_type": "display_data"
    },
    {
     "name": "stdout",
     "output_type": "stream",
     "text": [
      "\n"
     ]
    }
   ],
   "source": [
    "res = []\n",
    "\n",
    "for i in tqdm_notebook(range(test.shape[0])):\n",
    "    tmp_list = []\n",
    "    tmp = heapq.nlargest(7, pred[i])\n",
    "    for a in tmp:\n",
    "        tmp_list.append((np.where(pred[i] == a))[0][0])\n",
    "    res.append(tmp_list)"
   ]
  },
  {
   "cell_type": "code",
   "execution_count": 17,
   "metadata": {},
   "outputs": [],
   "source": [
    "res2 = []\n",
    "for i in res:\n",
    "    i.remove(2)\n",
    "    i.remove(1)\n",
    "    res2.append(i)"
   ]
  },
  {
   "cell_type": "code",
   "execution_count": 18,
   "metadata": {
    "collapsed": true
   },
   "outputs": [
    {
     "data": {
      "text/plain": [
       "{'Abu Sayyaf Group (ASG)': 5,\n",
       " 'Al-Qaida in Iraq': 13,\n",
       " 'Al-Qaida in the Arabian Peninsula (AQAP)': 14,\n",
       " 'Al-Shabaab': 18,\n",
       " 'Boko Haram': 19,\n",
       " 'Communist Party of India - Maoist (CPI-Maoist)': 15,\n",
       " \"Donetsk People's Republic\": 21,\n",
       " 'Fulani extremists': 12,\n",
       " 'Houthi extremists (Ansar Allah)': 16,\n",
       " 'Islamic State of Iraq and the Levant (ISIL)': 20,\n",
       " \"Kurdistan Workers' Party (PKK)\": 6,\n",
       " 'Liberation Tigers of Tamil Eelam (LTTE)': 3,\n",
       " 'Maoists': 10,\n",
       " 'Muslim extremists': 8,\n",
       " 'National Liberation Army of Colombia (ELN)': 7,\n",
       " \"New People's Army (NPA)\": 9,\n",
       " 'Revolutionary Armed Forces of Colombia (FARC)': 4,\n",
       " 'Small': 1,\n",
       " 'Taliban': 11,\n",
       " 'Tehrik-i-Taliban Pakistan (TTP)': 17,\n",
       " 'Unknown': 2}"
      ]
     },
     "execution_count": 18,
     "metadata": {},
     "output_type": "execute_result"
    }
   ],
   "source": [
    "mapping"
   ]
  },
  {
   "cell_type": "code",
   "execution_count": 19,
   "metadata": {},
   "outputs": [],
   "source": [
    "result = test[['eventid']]\n",
    "\n",
    "for idx in range(5):\n",
    "    result['pred' + str(idx)] = [i[idx] for i in res2]\n",
    "    result['pred_name_' + str(idx)] = result['pred' + str(idx)].map(dict(zip(mapping.values(), mapping.keys())))\n",
    "    result = result.drop(['pred' + str(idx)], axis=1)"
   ]
  },
  {
   "cell_type": "code",
   "execution_count": 22,
   "metadata": {
    "collapsed": true
   },
   "outputs": [
    {
     "data": {
      "text/html": [
       "<div>\n",
       "<style>\n",
       "    .dataframe thead tr:only-child th {\n",
       "        text-align: right;\n",
       "    }\n",
       "\n",
       "    .dataframe thead th {\n",
       "        text-align: left;\n",
       "    }\n",
       "\n",
       "    .dataframe tbody tr th {\n",
       "        vertical-align: top;\n",
       "    }\n",
       "</style>\n",
       "<table border=\"1\" class=\"dataframe\">\n",
       "  <thead>\n",
       "    <tr style=\"text-align: right;\">\n",
       "      <th></th>\n",
       "      <th>eventid</th>\n",
       "      <th>pred_name_0</th>\n",
       "      <th>pred_name_1</th>\n",
       "      <th>pred_name_2</th>\n",
       "      <th>pred_name_3</th>\n",
       "      <th>pred_name_4</th>\n",
       "    </tr>\n",
       "  </thead>\n",
       "  <tbody>\n",
       "    <tr>\n",
       "      <th>103533</th>\n",
       "      <td>201701090031</td>\n",
       "      <td>Muslim extremists</td>\n",
       "      <td>Al-Qaida in Iraq</td>\n",
       "      <td>Islamic State of Iraq and the Levant (ISIL)</td>\n",
       "      <td>Taliban</td>\n",
       "      <td>Kurdistan Workers' Party (PKK)</td>\n",
       "    </tr>\n",
       "    <tr>\n",
       "      <th>104775</th>\n",
       "      <td>201702210037</td>\n",
       "      <td>Muslim extremists</td>\n",
       "      <td>Taliban</td>\n",
       "      <td>Maoists</td>\n",
       "      <td>Islamic State of Iraq and the Levant (ISIL)</td>\n",
       "      <td>Boko Haram</td>\n",
       "    </tr>\n",
       "    <tr>\n",
       "      <th>105390</th>\n",
       "      <td>201703120023</td>\n",
       "      <td>Muslim extremists</td>\n",
       "      <td>Al-Shabaab</td>\n",
       "      <td>Boko Haram</td>\n",
       "      <td>Communist Party of India - Maoist (CPI-Maoist)</td>\n",
       "      <td>Islamic State of Iraq and the Levant (ISIL)</td>\n",
       "    </tr>\n",
       "    <tr>\n",
       "      <th>106967</th>\n",
       "      <td>201705050009</td>\n",
       "      <td>Muslim extremists</td>\n",
       "      <td>Al-Shabaab</td>\n",
       "      <td>Boko Haram</td>\n",
       "      <td>Houthi extremists (Ansar Allah)</td>\n",
       "      <td>Islamic State of Iraq and the Levant (ISIL)</td>\n",
       "    </tr>\n",
       "    <tr>\n",
       "      <th>106968</th>\n",
       "      <td>201705050010</td>\n",
       "      <td>Muslim extremists</td>\n",
       "      <td>Al-Shabaab</td>\n",
       "      <td>Boko Haram</td>\n",
       "      <td>Houthi extremists (Ansar Allah)</td>\n",
       "      <td>Islamic State of Iraq and the Levant (ISIL)</td>\n",
       "    </tr>\n",
       "    <tr>\n",
       "      <th>109039</th>\n",
       "      <td>201707010028</td>\n",
       "      <td>Muslim extremists</td>\n",
       "      <td>Fulani extremists</td>\n",
       "      <td>Al-Shabaab</td>\n",
       "      <td>Boko Haram</td>\n",
       "      <td>Islamic State of Iraq and the Levant (ISIL)</td>\n",
       "    </tr>\n",
       "    <tr>\n",
       "      <th>109049</th>\n",
       "      <td>201707020006</td>\n",
       "      <td>Muslim extremists</td>\n",
       "      <td>Islamic State of Iraq and the Levant (ISIL)</td>\n",
       "      <td>Taliban</td>\n",
       "      <td>New People's Army (NPA)</td>\n",
       "      <td>Donetsk People's Republic</td>\n",
       "    </tr>\n",
       "    <tr>\n",
       "      <th>110333</th>\n",
       "      <td>201708110018</td>\n",
       "      <td>Muslim extremists</td>\n",
       "      <td>Taliban</td>\n",
       "      <td>Maoists</td>\n",
       "      <td>Kurdistan Workers' Party (PKK)</td>\n",
       "      <td>Islamic State of Iraq and the Levant (ISIL)</td>\n",
       "    </tr>\n",
       "    <tr>\n",
       "      <th>112632</th>\n",
       "      <td>201711010006</td>\n",
       "      <td>Taliban</td>\n",
       "      <td>Muslim extremists</td>\n",
       "      <td>Al-Qaida in Iraq</td>\n",
       "      <td>Maoists</td>\n",
       "      <td>Islamic State of Iraq and the Levant (ISIL)</td>\n",
       "    </tr>\n",
       "    <tr>\n",
       "      <th>113434</th>\n",
       "      <td>201712010003</td>\n",
       "      <td>Muslim extremists</td>\n",
       "      <td>Al-Qaida in Iraq</td>\n",
       "      <td>Islamic State of Iraq and the Levant (ISIL)</td>\n",
       "      <td>Maoists</td>\n",
       "      <td>Kurdistan Workers' Party (PKK)</td>\n",
       "    </tr>\n",
       "  </tbody>\n",
       "</table>\n",
       "</div>"
      ],
      "text/plain": [
       "             eventid        pred_name_0  \\\n",
       "103533  201701090031  Muslim extremists   \n",
       "104775  201702210037  Muslim extremists   \n",
       "105390  201703120023  Muslim extremists   \n",
       "106967  201705050009  Muslim extremists   \n",
       "106968  201705050010  Muslim extremists   \n",
       "109039  201707010028  Muslim extremists   \n",
       "109049  201707020006  Muslim extremists   \n",
       "110333  201708110018  Muslim extremists   \n",
       "112632  201711010006            Taliban   \n",
       "113434  201712010003  Muslim extremists   \n",
       "\n",
       "                                        pred_name_1  \\\n",
       "103533                             Al-Qaida in Iraq   \n",
       "104775                                      Taliban   \n",
       "105390                                   Al-Shabaab   \n",
       "106967                                   Al-Shabaab   \n",
       "106968                                   Al-Shabaab   \n",
       "109039                            Fulani extremists   \n",
       "109049  Islamic State of Iraq and the Levant (ISIL)   \n",
       "110333                                      Taliban   \n",
       "112632                            Muslim extremists   \n",
       "113434                             Al-Qaida in Iraq   \n",
       "\n",
       "                                        pred_name_2  \\\n",
       "103533  Islamic State of Iraq and the Levant (ISIL)   \n",
       "104775                                      Maoists   \n",
       "105390                                   Boko Haram   \n",
       "106967                                   Boko Haram   \n",
       "106968                                   Boko Haram   \n",
       "109039                                   Al-Shabaab   \n",
       "109049                                      Taliban   \n",
       "110333                                      Maoists   \n",
       "112632                             Al-Qaida in Iraq   \n",
       "113434  Islamic State of Iraq and the Levant (ISIL)   \n",
       "\n",
       "                                           pred_name_3  \\\n",
       "103533                                         Taliban   \n",
       "104775     Islamic State of Iraq and the Levant (ISIL)   \n",
       "105390  Communist Party of India - Maoist (CPI-Maoist)   \n",
       "106967                 Houthi extremists (Ansar Allah)   \n",
       "106968                 Houthi extremists (Ansar Allah)   \n",
       "109039                                      Boko Haram   \n",
       "109049                         New People's Army (NPA)   \n",
       "110333                  Kurdistan Workers' Party (PKK)   \n",
       "112632                                         Maoists   \n",
       "113434                                         Maoists   \n",
       "\n",
       "                                        pred_name_4  \n",
       "103533               Kurdistan Workers' Party (PKK)  \n",
       "104775                                   Boko Haram  \n",
       "105390  Islamic State of Iraq and the Levant (ISIL)  \n",
       "106967  Islamic State of Iraq and the Levant (ISIL)  \n",
       "106968  Islamic State of Iraq and the Levant (ISIL)  \n",
       "109039  Islamic State of Iraq and the Levant (ISIL)  \n",
       "109049                    Donetsk People's Republic  \n",
       "110333  Islamic State of Iraq and the Levant (ISIL)  \n",
       "112632  Islamic State of Iraq and the Levant (ISIL)  \n",
       "113434               Kurdistan Workers' Party (PKK)  "
      ]
     },
     "execution_count": 22,
     "metadata": {},
     "output_type": "execute_result"
    }
   ],
   "source": [
    "result.tail(10)"
   ]
  },
  {
   "cell_type": "code",
   "execution_count": 21,
   "metadata": {},
   "outputs": [],
   "source": [
    "result.to_csv('./result/result_new.csv', index=None)"
   ]
  },
  {
   "cell_type": "markdown",
   "metadata": {},
   "source": [
    "## KMeans"
   ]
  },
  {
   "cell_type": "code",
   "execution_count": 10,
   "metadata": {},
   "outputs": [],
   "source": [
    "xlsx = [200108110012,200511180002,200901170021,201402110015,201405010071,201411070002,201412160041,201508010015,201705080012]"
   ]
  },
  {
   "cell_type": "code",
   "execution_count": 11,
   "metadata": {},
   "outputs": [],
   "source": [
    "from sklearn.cluster import KMeans"
   ]
  },
  {
   "cell_type": "code",
   "execution_count": 12,
   "metadata": {},
   "outputs": [],
   "source": [
    "df = df.fillna(1)"
   ]
  },
  {
   "cell_type": "code",
   "execution_count": 13,
   "metadata": {},
   "outputs": [],
   "source": [
    "df = df.iloc[:, :641]"
   ]
  },
  {
   "cell_type": "code",
   "execution_count": 14,
   "metadata": {},
   "outputs": [],
   "source": [
    "kmeans = KMeans(n_clusters=5, random_state=2018).fit(df.iloc[:, 2:])"
   ]
  },
  {
   "cell_type": "code",
   "execution_count": 20,
   "metadata": {},
   "outputs": [
    {
     "data": {
      "text/plain": [
       "array([[6.60411136e+00, 1.56465863e+01, 1.13879246e-01, ...,\n",
       "        5.23886490e-16, 8.21999864e-01, 1.78000136e-01],\n",
       "       [6.33641312e+00, 1.54249522e+01, 4.01647786e-02, ...,\n",
       "        2.31572753e-02, 8.18625864e-01, 1.58216860e-01],\n",
       "       [6.41054969e+00, 1.55215351e+01, 5.26646556e-02, ...,\n",
       "        2.66465561e-02, 8.46279537e-01, 1.27073906e-01],\n",
       "       [6.57817526e+00, 1.55350671e+01, 6.71138307e-02, ...,\n",
       "        4.31474072e-04, 8.33176434e-01, 1.66392092e-01],\n",
       "       [6.53973366e+00, 1.59069062e+01, 5.75410344e-02, ...,\n",
       "        1.19348975e-15, 7.90151750e-01, 2.09848250e-01]])"
      ]
     },
     "execution_count": 20,
     "metadata": {},
     "output_type": "execute_result"
    }
   ],
   "source": [
    "kmeans.cluster_centers_"
   ]
  },
  {
   "cell_type": "code",
   "execution_count": 29,
   "metadata": {},
   "outputs": [
    {
     "data": {
      "application/vnd.jupyter.widget-view+json": {
       "model_id": "868b0be79dcb4759a588169406ca49b2",
       "version_major": 2,
       "version_minor": 0
      },
      "text/plain": [
       "A Jupyter Widget"
      ]
     },
     "metadata": {},
     "output_type": "display_data"
    },
    {
     "name": "stdout",
     "output_type": "stream",
     "text": [
      "\n"
     ]
    }
   ],
   "source": [
    "distance = []\n",
    "\n",
    "for i in tqdm_notebook(range(df.shape[0])):\n",
    "    distance.append(np.linalg.norm(kmeans.cluster_centers_[int(df.iloc[0].cluster)] - np.array(df.iloc[i, 2:-1].tolist())))"
   ]
  },
  {
   "cell_type": "code",
   "execution_count": 32,
   "metadata": {
    "collapsed": true
   },
   "outputs": [
    {
     "data": {
      "text/plain": [
       "[6308.96390733411,\n",
       " 6303.2649098793445,\n",
       " 6301.790440831164,\n",
       " 6299.845069141208,\n",
       " 6299.256082956245,\n",
       " 6297.0838119275295,\n",
       " 6295.946237416021,\n",
       " 6294.309420802653,\n",
       " 6293.424098862097,\n",
       " 6290.61758959156,\n",
       " 6290.538317875247,\n",
       " 6292.994700337289,\n",
       " 6289.810936066146,\n",
       " 6286.396934366976,\n",
       " 6285.327832489607,\n",
       " 6284.470600385504,\n",
       " 6284.21568434819,\n",
       " 6283.058005301587,\n",
       " 6279.135118050135,\n",
       " 6280.842786409109,\n",
       " 6278.821714509279,\n",
       " 6276.487863124484,\n",
       " 6276.396521359455,\n",
       " 6273.51581962813,\n",
       " 6285.166802285402,\n",
       " 6274.520303580547,\n",
       " 6276.117361100859,\n",
       " 6278.003314762325,\n",
       " 6267.892891896886,\n",
       " 6266.718736393361,\n",
       " 6266.628846119954,\n",
       " 6269.179140316924,\n",
       " 6266.668925303042,\n",
       " 6266.248833747433,\n",
       " 6261.174516062015,\n",
       " 6258.258768443418,\n",
       " 6257.761112841103,\n",
       " 6271.958468971917,\n",
       " 6254.952603784353,\n",
       " 6259.0719506084615,\n",
       " 6250.75490717021,\n",
       " 6250.452504636571,\n",
       " 6262.274897399308,\n",
       " 6248.1779523295045,\n",
       " 6258.280187650244,\n",
       " 6246.372303408061,\n",
       " 6248.042975428373,\n",
       " 6253.713586799941,\n",
       " 6252.057638660578,\n",
       " 6250.632555273392,\n",
       " 6271.509115796352,\n",
       " 6270.881598277729,\n",
       " 6258.480519087814,\n",
       " 6246.99237567747,\n",
       " 6257.222259562576,\n",
       " 6239.391781672616,\n",
       " 6237.8148964862885,\n",
       " 6233.457162298199,\n",
       " 6237.742741879416,\n",
       " 6265.861077296569,\n",
       " 6247.890613635963,\n",
       " 6257.790050415584,\n",
       " 6241.709295165742,\n",
       " 6228.886039483463,\n",
       " 6226.393493230347,\n",
       " 6238.958683212796,\n",
       " 6224.1342877251645,\n",
       " 6236.18819444985,\n",
       " 6237.464846970764,\n",
       " 6247.8034661094725,\n",
       " 6233.500802749567,\n",
       " 6220.93769765597,\n",
       " 6216.182322681759,\n",
       " 6245.297273371636,\n",
       " 6214.660347301885,\n",
       " 6249.985827335997,\n",
       " 6249.168988471149,\n",
       " 6248.56839038745,\n",
       " 6213.579322886038,\n",
       " 6209.760854554553,\n",
       " 6209.731478210029,\n",
       " 6211.686021220767,\n",
       " 6224.260760807585,\n",
       " 6252.267678849808,\n",
       " 6203.992252883908,\n",
       " 6201.674572486533,\n",
       " 6200.090017470379,\n",
       " 6219.601517550396,\n",
       " 6237.138937945022,\n",
       " 6224.5333944859185,\n",
       " 6242.155635737573,\n",
       " 6214.774978998035,\n",
       " 6194.319002754749,\n",
       " 6199.635561382373,\n",
       " 6192.663166752008,\n",
       " 6190.254009915165,\n",
       " 6189.770345070316,\n",
       " 6203.9282161793535,\n",
       " 6209.4880230645185,\n",
       " 6221.541843655201]"
      ]
     },
     "execution_count": 32,
     "metadata": {},
     "output_type": "execute_result"
    }
   ],
   "source": [
    "distance[:100]"
   ]
  },
  {
   "cell_type": "code",
   "execution_count": 34,
   "metadata": {},
   "outputs": [],
   "source": [
    "df['cluster'] = kmeans.labels_\n",
    "df['distance'] = distance"
   ]
  },
  {
   "cell_type": "code",
   "execution_count": 17,
   "metadata": {
    "scrolled": true
   },
   "outputs": [
    {
     "data": {
      "text/plain": [
       "Counter({0: 14688, 1: 33986, 2: 23869, 3: 25495, 4: 16145})"
      ]
     },
     "execution_count": 17,
     "metadata": {},
     "output_type": "execute_result"
    }
   ],
   "source": [
    "Counter(kmeans.labels_)"
   ]
  },
  {
   "cell_type": "code",
   "execution_count": 39,
   "metadata": {},
   "outputs": [
    {
     "data": {
      "text/html": [
       "<div>\n",
       "<style>\n",
       "    .dataframe thead tr:only-child th {\n",
       "        text-align: right;\n",
       "    }\n",
       "\n",
       "    .dataframe thead th {\n",
       "        text-align: left;\n",
       "    }\n",
       "\n",
       "    .dataframe tbody tr th {\n",
       "        vertical-align: top;\n",
       "    }\n",
       "</style>\n",
       "<table border=\"1\" class=\"dataframe\">\n",
       "  <thead>\n",
       "    <tr style=\"text-align: right;\">\n",
       "      <th></th>\n",
       "      <th>eventid</th>\n",
       "      <th>distance</th>\n",
       "    </tr>\n",
       "  </thead>\n",
       "  <tbody>\n",
       "    <tr>\n",
       "      <th>11337</th>\n",
       "      <td>200508240003</td>\n",
       "      <td>6703.531972</td>\n",
       "    </tr>\n",
       "    <tr>\n",
       "      <th>11277</th>\n",
       "      <td>200508150010</td>\n",
       "      <td>6705.647316</td>\n",
       "    </tr>\n",
       "    <tr>\n",
       "      <th>11324</th>\n",
       "      <td>200508210010</td>\n",
       "      <td>6706.483977</td>\n",
       "    </tr>\n",
       "    <tr>\n",
       "      <th>11242</th>\n",
       "      <td>200508110010</td>\n",
       "      <td>6784.298931</td>\n",
       "    </tr>\n",
       "    <tr>\n",
       "      <th>11412</th>\n",
       "      <td>200509070004</td>\n",
       "      <td>6793.094695</td>\n",
       "    </tr>\n",
       "  </tbody>\n",
       "</table>\n",
       "</div>"
      ],
      "text/plain": [
       "            eventid     distance\n",
       "11337  200508240003  6703.531972\n",
       "11277  200508150010  6705.647316\n",
       "11324  200508210010  6706.483977\n",
       "11242  200508110010  6784.298931\n",
       "11412  200509070004  6793.094695"
      ]
     },
     "execution_count": 39,
     "metadata": {},
     "output_type": "execute_result"
    }
   ],
   "source": [
    "df[['eventid', 'distance']][df.cluster == 2].sort_values(by=['distance']).head()"
   ]
  },
  {
   "cell_type": "code",
   "execution_count": 18,
   "metadata": {},
   "outputs": [
    {
     "data": {
      "text/html": [
       "<div>\n",
       "<style>\n",
       "    .dataframe thead tr:only-child th {\n",
       "        text-align: right;\n",
       "    }\n",
       "\n",
       "    .dataframe thead th {\n",
       "        text-align: left;\n",
       "    }\n",
       "\n",
       "    .dataframe tbody tr th {\n",
       "        vertical-align: top;\n",
       "    }\n",
       "</style>\n",
       "<table border=\"1\" class=\"dataframe\">\n",
       "  <thead>\n",
       "    <tr style=\"text-align: right;\">\n",
       "      <th></th>\n",
       "      <th>eventid</th>\n",
       "      <th>cluster</th>\n",
       "    </tr>\n",
       "  </thead>\n",
       "  <tbody>\n",
       "    <tr>\n",
       "      <th>5139</th>\n",
       "      <td>200108110012</td>\n",
       "      <td>1</td>\n",
       "    </tr>\n",
       "    <tr>\n",
       "      <th>11700</th>\n",
       "      <td>200511180002</td>\n",
       "      <td>2</td>\n",
       "    </tr>\n",
       "    <tr>\n",
       "      <th>22894</th>\n",
       "      <td>200901170021</td>\n",
       "      <td>2</td>\n",
       "    </tr>\n",
       "    <tr>\n",
       "      <th>59671</th>\n",
       "      <td>201402110015</td>\n",
       "      <td>1</td>\n",
       "    </tr>\n",
       "    <tr>\n",
       "      <th>63638</th>\n",
       "      <td>201405010071</td>\n",
       "      <td>4</td>\n",
       "    </tr>\n",
       "    <tr>\n",
       "      <th>72622</th>\n",
       "      <td>201411070002</td>\n",
       "      <td>3</td>\n",
       "    </tr>\n",
       "    <tr>\n",
       "      <th>74130</th>\n",
       "      <td>201412160041</td>\n",
       "      <td>3</td>\n",
       "    </tr>\n",
       "    <tr>\n",
       "      <th>83767</th>\n",
       "      <td>201508010015</td>\n",
       "      <td>1</td>\n",
       "    </tr>\n",
       "    <tr>\n",
       "      <th>107031</th>\n",
       "      <td>201705080012</td>\n",
       "      <td>3</td>\n",
       "    </tr>\n",
       "  </tbody>\n",
       "</table>\n",
       "</div>"
      ],
      "text/plain": [
       "             eventid  cluster\n",
       "5139    200108110012        1\n",
       "11700   200511180002        2\n",
       "22894   200901170021        2\n",
       "59671   201402110015        1\n",
       "63638   201405010071        4\n",
       "72622   201411070002        3\n",
       "74130   201412160041        3\n",
       "83767   201508010015        1\n",
       "107031  201705080012        3"
      ]
     },
     "execution_count": 18,
     "metadata": {},
     "output_type": "execute_result"
    }
   ],
   "source": [
    "df[df.eventid.isin(xlsx)][['eventid', 'cluster']]"
   ]
  },
  {
   "cell_type": "code",
   "execution_count": 25,
   "metadata": {},
   "outputs": [],
   "source": [
    "df[['eventid', 'cluster']].to_csv('./result/result_cluster_sample.csv', index=None)"
   ]
  }
 ],
 "metadata": {
  "kernelspec": {
   "display_name": "Python 3",
   "language": "python",
   "name": "python3"
  },
  "language_info": {
   "codemirror_mode": {
    "name": "ipython",
    "version": 3
   },
   "file_extension": ".py",
   "mimetype": "text/x-python",
   "name": "python",
   "nbconvert_exporter": "python",
   "pygments_lexer": "ipython3",
   "version": "3.6.3"
  }
 },
 "nbformat": 4,
 "nbformat_minor": 2
}
