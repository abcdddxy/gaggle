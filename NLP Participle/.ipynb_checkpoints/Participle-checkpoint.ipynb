{
 "cells": [
  {
   "cell_type": "code",
   "execution_count": 1,
   "metadata": {},
   "outputs": [],
   "source": [
    "import numpy as np\n",
    "import pandas as pd\n",
    "pd.set_option('max_columns', None)\n",
    "import matplotlib.pyplot as plt\n",
    "import seaborn as sns\n",
    "import pickle\n",
    "import time\n",
    "from tqdm import tqdm\n",
    "\n",
    "pd.set_option('display.max_columns', None)\n",
    "\n",
    "%matplotlib inline\n",
    "\n",
    "#每次可以输出多个变量\n",
    "from IPython.core.interactiveshell import InteractiveShell\n",
    "InteractiveShell.ast_node_interactivity = \"all\"\n",
    "\n",
    "#屏蔽warning\n",
    "import warnings\n",
    "warnings.simplefilter(\"ignore\")\n",
    "\n",
    "from pylab import rcParams\n",
    "rcParams['figure.figsize'] = 14, 6\n",
    "\n",
    "#中文字体\n",
    "import matplotlib\n",
    "matplotlib.use('qt4agg')\n",
    "#指定默认字体\n",
    "matplotlib.rcParams['font.sans-serif'] = ['SimHei']\n",
    "matplotlib.rcParams['font.family'] = 'sans-serif'\n",
    "#解决负号'-'显示为方块的问题\n",
    "matplotlib.rcParams['axes.unicode_minus'] = False"
   ]
  },
  {
   "cell_type": "code",
   "execution_count": 2,
   "metadata": {},
   "outputs": [],
   "source": [
    "from collections import defaultdict, Counter\n",
    "import ast"
   ]
  },
  {
   "cell_type": "code",
   "execution_count": 3,
   "metadata": {
    "code_folding": []
   },
   "outputs": [],
   "source": [
    "file = open('./北大(人民日报)语料库199801.txt', 'rb')\n",
    "dic = defaultdict(lambda: defaultdict(lambda: 0))\n",
    "\n",
    "for line in file:\n",
    "    line = line.decode('utf-8')[23:].split('  ')\n",
    "    for item in line:\n",
    "        item = item.split('/')\n",
    "        if (len(item) == 2):\n",
    "            dic[item[0]][item[1]] += 1"
   ]
  },
  {
   "cell_type": "code",
   "execution_count": 4,
   "metadata": {},
   "outputs": [],
   "source": [
    "file = open('./北大(人民日报)语料库199801.txt', 'rb')\n",
    "dic_2gram = defaultdict(lambda: defaultdict(lambda: 0))\n",
    "\n",
    "for line in file:\n",
    "    line = line.decode('utf-8')[23:].split('  ')\n",
    "    pre = ''\n",
    "    for item in line:\n",
    "        item = item.split('/')\n",
    "        if (len(item) == 2):\n",
    "            dic_2gram[item[0]][pre] += 1\n",
    "            pre = item[0]"
   ]
  },
  {
   "cell_type": "code",
   "execution_count": 5,
   "metadata": {
    "code_folding": []
   },
   "outputs": [],
   "source": [
    "dic_2gram_new = defaultdict(lambda: defaultdict(lambda: 0))\n",
    "min_pro = 1\n",
    "\n",
    "for key, value in dic_2gram.items():\n",
    "    temp = ast.literal_eval(str(Counter(value))[8:-1])\n",
    "    s = sum(temp.values())\n",
    "    for k, v in temp.items():\n",
    "        temp[k] = v / s\n",
    "    temp[''] = 1 / s\n",
    "    if min_pro > temp['']:\n",
    "        min_pro = temp['']\n",
    "    dic_2gram_new[key] = temp"
   ]
  },
  {
   "cell_type": "code",
   "execution_count": 23,
   "metadata": {},
   "outputs": [],
   "source": [
    "def strB2Q(ustring):\n",
    "    \"\"\"半角转全角\"\"\"\n",
    "    rstring = \"\"\n",
    "    for uchar in ustring:\n",
    "        inside_code = ord(uchar)\n",
    "        if inside_code == 32:  #半角空格直接转化\n",
    "            inside_code = 12288\n",
    "        elif inside_code >= 32 and inside_code <= 126:  #半角字符（除空格）根据关系转化\n",
    "            inside_code += 65248\n",
    "        rstring += chr(inside_code)\n",
    "    return rstring"
   ]
  },
  {
   "cell_type": "code",
   "execution_count": 24,
   "metadata": {},
   "outputs": [],
   "source": [
    "# 简单版\n",
    "\n",
    "\n",
    "def scentence_scenteparticiple(x):\n",
    "    fmm = []\n",
    "    hmm = []\n",
    "\n",
    "    x = strB2Q(x)\n",
    "\n",
    "    point = 0\n",
    "    for i in range(1, len(x) + 1):\n",
    "        if x[point:i] not in dic_2gram_new.keys():\n",
    "            fmm.append(x[point:i - 1])\n",
    "            point = i - 1\n",
    "    fmm.append(x[point:])\n",
    "\n",
    "    point = len(x) + 1\n",
    "    for i in range(1, len(x) + 1):\n",
    "        if x[-i:point] not in dic_2gram_new.keys():\n",
    "            hmm.append(x[-i + 1:point])\n",
    "            point = -i + 1\n",
    "    hmm.append(x[:point])\n",
    "    hmm.reverse()\n",
    "    return fmm, hmm"
   ]
  },
  {
   "cell_type": "code",
   "execution_count": 8,
   "metadata": {},
   "outputs": [],
   "source": [
    "# 复杂版\n",
    "\n",
    "\n",
    "def scentence_scenteparticiple(x):\n",
    "    fmm = []\n",
    "    hmm = []\n",
    "\n",
    "    x = strB2Q(x)\n",
    "\n",
    "    i = 1\n",
    "    point = 0\n",
    "    while i <= len(x):\n",
    "        flag = 0\n",
    "        if x[point:i] not in dic_2gram_new.keys():\n",
    "            for j in sorted(range(1, 10), reverse=True):\n",
    "                if (x[point:i + j] in dic_2gram_new.keys()) & (flag == 0):\n",
    "                    fmm.append(x[point:i + j - 1])\n",
    "                    point = i + j - 1\n",
    "                    i += j\n",
    "                    flag = 1\n",
    "            if (flag == 0):\n",
    "                fmm.append(x[point:i - 1])\n",
    "                point = i - 1\n",
    "                i += 1\n",
    "        else:\n",
    "            i += 1\n",
    "    fmm.append(x[point:])\n",
    "\n",
    "    i = 1\n",
    "    point = len(x) + 1\n",
    "    while i <= len(x):\n",
    "        flag = 0\n",
    "        if x[-i:point] not in dic_2gram_new.keys():\n",
    "            for j in sorted(range(1, 10), reverse=True):\n",
    "                if (x[-i - j:point] in dic_2gram_new.keys()) & (flag == 0):\n",
    "                    hmm.append(x[-i - j + 1:point])\n",
    "                    point = -i - j + 1\n",
    "                    i += j\n",
    "                    flag = 1\n",
    "            if (flag == 0):\n",
    "                hmm.append(x[-i + 1:point])\n",
    "                point = -i + 1\n",
    "                i += 1\n",
    "        else:\n",
    "            i += 1\n",
    "    hmm.append(x[:point])\n",
    "    hmm.reverse()\n",
    "    return fmm, hmm"
   ]
  },
  {
   "cell_type": "code",
   "execution_count": 9,
   "metadata": {},
   "outputs": [],
   "source": [
    "import math\n",
    "\n",
    "\n",
    "def com_probability(x, y):\n",
    "    prox = 0\n",
    "    proy = 0\n",
    "    st = 0\n",
    "\n",
    "    for i in range(0, min(len(x), len(y))):\n",
    "        if x[i] == y[i]:\n",
    "            st = i\n",
    "        else:\n",
    "            break\n",
    "\n",
    "    if (st == len(x) - 1):\n",
    "        return x\n",
    "    elif (st == len(y) - 1):\n",
    "        return y\n",
    "\n",
    "    for i in range(st, len(x) - 1):\n",
    "        if x[i] not in dic_2gram_new[x[i + 1]].keys():\n",
    "            pro = min(dic_2gram_new[x[i + 1]].values(), default=min_pro)\n",
    "        else:\n",
    "            pro = dic_2gram_new[x[i + 1]][x[i]]\n",
    "        prox = prox + abs(math.log(pro))\n",
    "\n",
    "    for i in range(st, len(y) - 1):\n",
    "        if y[i] not in dic_2gram_new[y[i + 1]].keys():\n",
    "            pro = min(dic_2gram_new[y[i + 1]].values(), default=min_pro)\n",
    "        else:\n",
    "            pro = dic_2gram_new[y[i + 1]][y[i]]\n",
    "        proy = proy + abs(math.log(pro))\n",
    "\n",
    "    if prox <= proy:\n",
    "        return x\n",
    "    else:\n",
    "        return y"
   ]
  },
  {
   "cell_type": "code",
   "execution_count": 10,
   "metadata": {
    "scrolled": true
   },
   "outputs": [],
   "source": [
    "file = open('./test.txt', 'rb')\n",
    "test = ''\n",
    "\n",
    "for line in file:\n",
    "    line = line.decode('gbk')\n",
    "    test = test + line\n",
    "\n",
    "test = test.split('\\r\\n')"
   ]
  },
  {
   "cell_type": "code",
   "execution_count": 38,
   "metadata": {
    "scrolled": true
   },
   "outputs": [],
   "source": [
    "result = []\n",
    "\n",
    "for item in test:\n",
    "    x, y = scentence_scenteparticiple(item)\n",
    "    result.append(com_probability(x, y))"
   ]
  },
  {
   "cell_type": "code",
   "execution_count": 41,
   "metadata": {},
   "outputs": [],
   "source": [
    "with open('./2017111454.txt', 'a+') as f:\n",
    "    for i in range(0, len(result)):\n",
    "        for j in range(0, len(result[i])):\n",
    "            if j != len(result[i]) - 1:\n",
    "                f.writelines(result[i][j] + ' ')\n",
    "            else:\n",
    "                f.writelines(result[i][j] + '\\r\\n')"
   ]
  }
 ],
 "metadata": {
  "kernelspec": {
   "display_name": "Python 3",
   "language": "python",
   "name": "python3"
  },
  "language_info": {
   "codemirror_mode": {
    "name": "ipython",
    "version": 3
   },
   "file_extension": ".py",
   "mimetype": "text/x-python",
   "name": "python",
   "nbconvert_exporter": "python",
   "pygments_lexer": "ipython3",
   "version": "3.6.3"
  }
 },
 "nbformat": 4,
 "nbformat_minor": 2
}
