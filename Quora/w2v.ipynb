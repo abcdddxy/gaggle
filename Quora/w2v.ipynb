{
 "cells": [
  {
   "cell_type": "code",
   "execution_count": 2,
   "metadata": {},
   "outputs": [],
   "source": [
    "import numpy as np\n",
    "import pandas as pd\n",
    "pd.set_option('display.max_columns', None)\n",
    "import matplotlib.pyplot as plt\n",
    "# import seaborn as sns\n",
    "import pickle\n",
    "from time import time\n",
    "import gc\n",
    "from tqdm import tqdm, tqdm_notebook\n",
    "\n",
    "%matplotlib inline\n",
    "\n",
    "#每次可以输出多个变量\n",
    "from IPython.core.interactiveshell import InteractiveShell\n",
    "InteractiveShell.ast_node_interactivity = \"all\"\n",
    "\n",
    "from pylab import rcParams\n",
    "rcParams['figure.figsize'] = 14, 6\n",
    "\n",
    "import warnings\n",
    "warnings.filterwarnings(\"ignore\")\n",
    "\n",
    "#中文字体\n",
    "import matplotlib\n",
    "matplotlib.use('qt4agg')\n",
    "#指定默认字体\n",
    "matplotlib.rcParams['font.sans-serif'] = ['SimHei']\n",
    "matplotlib.rcParams['font.family'] = 'sans-serif'\n",
    "#解决负号'-'显示为方块的问题\n",
    "matplotlib.rcParams['axes.unicode_minus'] = False"
   ]
  },
  {
   "cell_type": "code",
   "execution_count": 3,
   "metadata": {},
   "outputs": [
    {
     "data": {
      "text/plain": [
       "(1306122, 3)"
      ]
     },
     "execution_count": 3,
     "metadata": {},
     "output_type": "execute_result"
    },
    {
     "data": {
      "text/plain": [
       "(56370, 2)"
      ]
     },
     "execution_count": 3,
     "metadata": {},
     "output_type": "execute_result"
    }
   ],
   "source": [
    "train = pd.read_csv('./data/train.csv')\n",
    "test = pd.read_csv('./data/test.csv')\n",
    "\n",
    "train.shape\n",
    "test.shape"
   ]
  },
  {
   "cell_type": "code",
   "execution_count": 4,
   "metadata": {},
   "outputs": [
    {
     "data": {
      "text/plain": [
       "(1362492, 3)"
      ]
     },
     "execution_count": 4,
     "metadata": {},
     "output_type": "execute_result"
    }
   ],
   "source": [
    "test['target'] = -1\n",
    "df = pd.concat([train, test], axis=0)\n",
    "\n",
    "df.shape"
   ]
  },
  {
   "cell_type": "code",
   "execution_count": 5,
   "metadata": {},
   "outputs": [],
   "source": [
    "import gensim\n",
    "import nltk\n",
    "import re"
   ]
  },
  {
   "cell_type": "code",
   "execution_count": 6,
   "metadata": {},
   "outputs": [
    {
     "data": {
      "text/plain": [
       "174"
      ]
     },
     "execution_count": 6,
     "metadata": {},
     "output_type": "execute_result"
    }
   ],
   "source": [
    "stopwords = [\"a\",\"about\",\"above\",\"after\",\"again\",\"against\",\"all\",\"am\",\"an\",\"and\",\"any\",\"are\",\"aren't\",\"as\",\"at\",\"be\",\"because\",\"been\",\"before\",\"being\",\"below\",\"between\",\"both\",\"but\",\"by\",\"can't\",\"cannot\",\"could\",\"couldn't\",\"did\",\"didn't\",\"do\",\"does\",\"doesn't\",\"doing\",\"don't\",\"down\",\"during\",\"each\",\"few\",\"for\",\"from\",\"further\",\"had\",\"hadn't\",\"has\",\"hasn't\",\"have\",\"haven't\",\"having\",\"he\",\"he'd\",\"he'll\",\"he's\",\"her\",\"here\",\"here's\",\"hers\",\"herself\",\"him\",\"himself\",\"his\",\"how\",\"how's\",\"i\",\"i'd\",\"i'll\",\"i'm\",\"i've\",\"if\",\"in\",\"into\",\"is\",\"isn't\",\"it\",\"it's\",\"its\",\"itself\",\"let's\",\"me\",\"more\",\"most\",\"mustn't\",\"my\",\"myself\",\"no\",\"nor\",\"not\",\"of\",\"off\",\"on\",\"once\",\"only\",\"or\",\"other\",\"ought\",\"our\",\"ours\",\"ourselves\",\"out\",\"over\",\"own\",\"same\",\"shan't\",\"she\",\"she'd\",\"she'll\",\"she's\",\"should\",\"shouldn't\",\"so\",\"some\",\"such\",\"than\",\"that\",\"that's\",\"the\",\"their\",\"theirs\",\"them\",\"themselves\",\"then\",\"there\",\"there's\",\"these\",\"they\",\"they'd\",\"they'll\",\"they're\",\"they've\",\"this\",\"those\",\"through\",\"to\",\"too\",\"under\",\"until\",\"up\",\"very\",\"was\",\"wasn't\",\"we\",\"we'd\",\"we'll\",\"we're\",\"we've\",\"were\",\"weren't\",\"what\",\"what's\",\"when\",\"when's\",\"where\",\"where's\",\"which\",\"while\",\"who\",\"who's\",\"whom\",\"why\",\"why's\",\"with\",\"won't\",\"would\",\"wouldn't\",\"you\",\"you'd\",\"you'll\",\"you're\",\"you've\",\"your\",\"yours\",\"yourself\",\"yourselves\"]\n",
    "len(stopwords)"
   ]
  },
  {
   "cell_type": "code",
   "execution_count": 7,
   "metadata": {},
   "outputs": [],
   "source": [
    "# 去除停用词、符号\n",
    "def sent2words(sentence):\n",
    "    words = []\n",
    "    for w in wordNormal(sentence):\n",
    "        if w not in stopwords and w != '' and re.compile(r'[1-9]\\d*\\.\\d*|0\\.\\d*[1-9]|[1-9]\\d*').findall(w) == []:\n",
    "            words.append(w)\n",
    "    return words"
   ]
  },
  {
   "cell_type": "code",
   "execution_count": 8,
   "metadata": {},
   "outputs": [],
   "source": [
    "# 获取单词的词性\n",
    "def get_wordnet_pos(tag):\n",
    "    if tag.startswith('J'):\n",
    "        return nltk.corpus.wordnet.ADJ\n",
    "    elif tag.startswith('V'):\n",
    "        return nltk.corpus.wordnet.VERB\n",
    "    elif tag.startswith('N'):\n",
    "        return nltk.corpus.wordnet.NOUN\n",
    "    elif tag.startswith('R'):\n",
    "        return nltk.corpus.wordnet.ADV\n",
    "    else:\n",
    "        return None\n",
    "\n",
    "def wordNormal(sentence):\n",
    "    sentence = re.sub(\"[+\\.\\!\\/_,$%^*(+\\\"\\'\\°]+|[+——():~]+\", '', sentence)\n",
    "    sentence = re.sub(\"-\", ' ', sentence)\n",
    "    tokens = nltk.word_tokenize(sentence)\n",
    "    tagged_sent = nltk.pos_tag(tokens)\n",
    "    \n",
    "    wnl = nltk.stem.WordNetLemmatizer()\n",
    "    lemmas_sent = []\n",
    "    for tag in tagged_sent:\n",
    "        wordnet_pos = get_wordnet_pos(tag[1]) or nltk.corpus.wordnet.NOUN\n",
    "        lemmas_sent.append(wnl.lemmatize(tag[0], pos=wordnet_pos))\n",
    "    return lemmas_sent"
   ]
  },
  {
   "cell_type": "code",
   "execution_count": 9,
   "metadata": {
    "scrolled": true
   },
   "outputs": [
    {
     "data": {
      "text/plain": [
       "['paper',\n",
       " 'study',\n",
       " 'temperature',\n",
       " 'sensitivity',\n",
       " 'electrical',\n",
       " 'tracing',\n",
       " 'assist',\n",
       " 'dual',\n",
       " 'microring',\n",
       " 'optical',\n",
       " 'sensor',\n",
       " 'consist',\n",
       " 'sense',\n",
       " 'ring',\n",
       " 'detect',\n",
       " 'refractive',\n",
       " 'index',\n",
       " 'change',\n",
       " 'surface',\n",
       " 'trace',\n",
       " 'ring',\n",
       " 'trace',\n",
       " 'resonance',\n",
       " 'wavelength',\n",
       " 'shift',\n",
       " 'sense',\n",
       " 'ring',\n",
       " 'thermo',\n",
       " 'optic',\n",
       " 'effect',\n",
       " 'heating',\n",
       " 'electrode',\n",
       " 'wavelength',\n",
       " 'shift',\n",
       " 'measurement',\n",
       " 'therefore',\n",
       " 'change',\n",
       " 'electrical',\n",
       " 'power',\n",
       " 'variation',\n",
       " 'measurement',\n",
       " 'thanks',\n",
       " 'real',\n",
       " 'time',\n",
       " 'compensation',\n",
       " 'effect',\n",
       " 'trace',\n",
       " 'ring',\n",
       " 'temperature',\n",
       " 'dependence',\n",
       " 'sensor',\n",
       " 'find',\n",
       " 'intrinsically',\n",
       " 'low',\n",
       " 'resonance',\n",
       " 'wavelength',\n",
       " 'temperature',\n",
       " 'sensitivity',\n",
       " 'difference',\n",
       " 'two',\n",
       " 'ring',\n",
       " 'measure',\n",
       " 'low',\n",
       " 'pmc',\n",
       " 'show',\n",
       " 'temperature',\n",
       " 'dependence',\n",
       " 'sensor',\n",
       " 'term',\n",
       " 'wavelength',\n",
       " 'per',\n",
       " 'degree',\n",
       " 'reduce',\n",
       " 'time',\n",
       " 'compare',\n",
       " 'single',\n",
       " 'ring',\n",
       " 'sensor',\n",
       " 'temperature',\n",
       " 'sensitivity',\n",
       " 'sensor',\n",
       " 'term',\n",
       " 'electrical',\n",
       " 'power',\n",
       " 'per',\n",
       " 'degree',\n",
       " 'measure',\n",
       " 'mwc',\n",
       " 'use',\n",
       " 'trace',\n",
       " 'ring',\n",
       " 'enhanced',\n",
       " 'tune',\n",
       " 'efficiency',\n",
       " 'value',\n",
       " 'can',\n",
       " 'far',\n",
       " 'decrease',\n",
       " 'wc',\n",
       " 'experimental',\n",
       " 'result',\n",
       " 'agree',\n",
       " 'well',\n",
       " 'expectation',\n",
       " 'type',\n",
       " 'sensor',\n",
       " 'low',\n",
       " 'temperature',\n",
       " 'dependence',\n",
       " 'great',\n",
       " 'potential',\n",
       " 'deploy',\n",
       " 'various',\n",
       " 'practical',\n",
       " 'point',\n",
       " 'care',\n",
       " 'diagnostic',\n",
       " 'application']"
      ]
     },
     "execution_count": 9,
     "metadata": {},
     "output_type": "execute_result"
    }
   ],
   "source": [
    "sent2words('in this paper, we study the temperature sensitivity of an electrical tracing-assisted dual-microring optical sensor, which consists of a sensing ring to detect the refractive index change on its surface and a tracing ring to trace the resonance wavelength shift of the sensing ring by the thermo-optic effect with a heating electrode on it. the wavelength shift measurement is therefore changed to electrical power variation measurement. thanks to the real-time compensation effect of the tracing ring, the temperature dependence of the sensor is found to be intrinsically low. the resonance wavelength temperature sensitivity difference between the two rings is measured to be as low as 10.1 pm/°c, showing that the temperature dependence of the sensor in terms of wavelength per degree is reduced by ∼6 times compared to that of a single ring sensor. the temperature sensitivity of the sensor in terms of electrical power per degree is measured to be -0.077 mw/°c. by using tracing ring with enhanced tuning efficiency, this value can be further decreased to -0.0057 w/°c. the experimental results agree well with the expectation. this type of sensors with low temperature dependence has great potential to be deployed in various practical point-of-care diagnostic applications.')"
   ]
  }
 ],
 "metadata": {
  "kernelspec": {
   "display_name": "Python 3",
   "language": "python",
   "name": "python3"
  },
  "language_info": {
   "codemirror_mode": {
    "name": "ipython",
    "version": 3
   },
   "file_extension": ".py",
   "mimetype": "text/x-python",
   "name": "python",
   "nbconvert_exporter": "python",
   "pygments_lexer": "ipython3",
   "version": "3.6.3"
  }
 },
 "nbformat": 4,
 "nbformat_minor": 2
}
