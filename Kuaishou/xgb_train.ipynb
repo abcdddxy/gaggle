{
 "cells": [
  {
   "cell_type": "code",
   "execution_count": 1,
   "metadata": {
    "collapsed": true
   },
   "outputs": [],
   "source": [
    "import xgboost as xgb\n",
    "import pandas as pd\n",
    "pd.set_option('display.max_columns', None)\n",
    "from sklearn.metrics import f1_score\n",
    "from sklearn.metrics import precision_score, recall_score\n",
    "import numpy as np\n",
    "from tqdm import tqdm_notebook\n",
    "\n",
    "#每次可以输出多个变量\n",
    "from IPython.core.interactiveshell import InteractiveShell\n",
    "InteractiveShell.ast_node_interactivity = \"all\""
   ]
  },
  {
   "cell_type": "code",
   "execution_count": 99,
   "metadata": {
    "collapsed": false
   },
   "outputs": [
    {
     "data": {
      "text/plain": [
       "64"
      ]
     },
     "execution_count": 99,
     "metadata": {},
     "output_type": "execute_result"
    }
   ],
   "source": [
    "usecols = ['register_type', 'device_type', 'user_reg_days', 'user_lastweek_launchday', 'user_last_launch_dist', 'user_hist_launch_freq', 'user_hist_launchday', 'user_mean_continue_launch_times_lastweek', 'user_max_continue_launch_times_lastweek', 'user_activity_days_hist', 'user_activity_days_lastweek', 'user_min_continue_launch_times_lastweek', 'user_mean_continue_launch_days_lastweek', 'user_max_continue_launch_days_lastweek', 'user_mean_continue_activity_days_lastweek', 'user_max_continue_activity_days_lastweek', 'user_lastweek_act_0_freq', 'user_lastweek_actcount', 'user_lastweek_act_video_uniquecount', 'user_max_continue_launch_times_hist', 'user_min_continue_launch_days_lastweek', 'user_mean_continue_launch_times_hist', 'user_min_continue_activity_days_lastweek', 'user_hist_act_0_count', 'user_hist_actcount', 'user_mean_continue_activity_days_hist', 'user_max_continue_launch_days_hist', 'user_hist_act_freq', 'user_mean_continue_launch_days_hist', 'user_hist_act_author_count', 'user_mean_no_launch_days_hist', 'user_min_activity_daytimes_lastweek', 'user_lastweek_act', 'user_lastweek_act_0', 'user_mean_continue_activity_times_hist', 'user_max_launch_daytimes_lastweek', 'user_lastweek_launch', 'user_lastweek_act_page_3_count', 'user_lastweek_act_page_1_count', 'user_max_no_launch_days_hist', 'user_last_act_date', 'user_lastweek_act_2_freq', 'user_lastweek_video_freq', 'user_lastweek_act_2_count', 'user_lastweek_launch_freq', 'user_max_no_activity_days_lastweek_hist_dist', 'user_lastweek_act_page_2_count', 'user_var_continue_activity_times_lastweek', 'user_kurt_continue_activity_days_hist', 'user_launch_range_percent', 'user_activity_div_launch_days_hist', 'user_hist_act_video_meancount', 'user_hist_video_activity_types', 'user_activity_range_percent', 'user_5daybefore_act_page_1_count', 'user_min_continue_activity_times_5daywin', 'user_lastweek_hist_act_3_count_dist', 'user_lastweek_hist_act_page_3_count_dist', 'user_mean_createvideo_date_lastweek_hist_dist', 'user_4daybefore_act_page_4_count', 'user_kurt_no_launch_days_6daywin', 'user_max_continue_createvideo_days_4daywin', 'user_2daybefore_act_1_count', 'user_max_continue_createvideo_days_hist']\n",
    "by = ['user_id', 'data_weeknum', 'data_weekstart']\n",
    "target = ['label']\n",
    "len(usecols)"
   ]
  },
  {
   "cell_type": "code",
   "execution_count": 100,
   "metadata": {
    "collapsed": false,
    "scrolled": true
   },
   "outputs": [
    {
     "name": "stderr",
     "output_type": "stream",
     "text": [
      "/usr/local/anaconda3/lib/python3.5/site-packages/IPython/core/interactiveshell.py:2717: DtypeWarning: Columns (0) have mixed types. Specify dtype option on import or set low_memory=False.\n",
      "  interactivity=interactivity, compiler=compiler, result=result)\n"
     ]
    },
    {
     "data": {
      "text/plain": [
       "(198057, 68)"
      ]
     },
     "execution_count": 100,
     "metadata": {},
     "output_type": "execute_result"
    }
   ],
   "source": [
    "df = pd.read_csv('./features/b/baseline_features12_ab.csv', usecols=usecols+by+target)\n",
    "df.shape"
   ]
  },
  {
   "cell_type": "code",
   "execution_count": 4,
   "metadata": {
    "collapsed": false
   },
   "outputs": [
    {
     "data": {
      "text/plain": [
       "67"
      ]
     },
     "execution_count": 4,
     "metadata": {},
     "output_type": "execute_result"
    }
   ],
   "source": [
    "cols = [\"register_type\",\"device_type\",\"user_reg_days\",\"user_lastweek_launchday\",\"user_last_launch_dist\",\"user_max_continue_launch_times_lastweek\",\"user_activity_days_hist\",\"user_activity_days_lastweek\",\"user_mean_continue_launch_days_lastweek\",\"user_max_continue_launch_days_lastweek\",\"user_mean_continue_activity_days_lastweek\",\"user_max_continue_activity_days_lastweek\",\"user_lastweek_actcount\",\"user_lastweek_act_video_uniquecount\",\"user_max_continue_launch_times_hist\",\"user_min_continue_launch_days_lastweek\",\"user_mean_continue_launch_times_hist\",\"user_min_continue_activity_days_lastweek\",\"user_hist_actcount\",\"user_mean_continue_activity_days_hist\",\"user_max_continue_launch_days_hist\",\"user_hist_act_freq\",\"user_mean_continue_launch_days_hist\",\"user_hist_act_author_count\",\"user_mean_no_launch_days_hist\",\"user_min_activity_daytimes_lastweek\",\"user_lastweek_act\",\"user_lastweek_act_0\",\"user_mean_continue_activity_times_hist\",\"user_max_launch_daytimes_lastweek\",\"user_lastweek_launch\",\"user_lastweek_act_page_3_count\",\"user_lastweek_act_page_1_count\",\"user_max_no_launch_days_hist\",\"user_last_act_date\",\"user_lastweek_act_2_freq\",\"user_lastweek_video_freq\",\"user_lastweek_act_2_count\",\"user_lastweek_launch_freq\",\"user_max_no_activity_days_lastweek_hist_dist\",\"user_lastweek_act_page_2_count\",\"user_var_continue_activity_times_lastweek\",\"user_kurt_continue_activity_days_hist\",\"user_launch_range_percent\",\"user_activity_div_launch_days_hist\",\"user_activity_range_percent\",\"user_5daybefore_act_page_1_count\",\"user_min_continue_activity_times_5daywin\",\"user_lastweek_hist_act_3_count_dist\",\"user_4daybefore_act_page_4_count\",\"user_kurt_no_launch_days_6daywin\",\"user_max_continue_createvideo_days_4daywin\",\"user_2daybefore_act_1_count\",\"user_max_continue_createvideo_days_hist\",\"(device_type-user_activity_days_lastweek)\",\"(user_lastweek_launchday-user_min_continue_launch_days_lastweek)\",\"(user_last_launch_dist/user_lastweek_act_video_uniquecount)\",\"(user_activity_days_hist-user_kurt_continue_activity_days_hist)\",\"(user_activity_days_hist/user_var_continue_activity_times_lastweek)\",\"(user_activity_days_lastweek-user_max_continue_launch_times_hist)\",\"(user_activity_days_lastweek/user_max_continue_activity_days_lastweek)\",\"(user_lastweek_actcount-user_activity_days_lastweek)\",\"(user_lastweek_act_video_uniquecount-user_max_continue_activity_days_lastweek)\",\"(user_min_continue_launch_days_lastweek*user_2daybefore_act_1_count)\",\"(user_hist_act_author_count*user_max_continue_createvideo_days_4daywin)\",\"(user_max_launch_daytimes_lastweek*user_5daybefore_act_page_1_count)\",\"(user_max_launch_daytimes_lastweek*user_lastweek_act_page_3_count)\"]\n",
    "len(cols)"
   ]
  },
  {
   "cell_type": "code",
   "execution_count": 5,
   "metadata": {
    "collapsed": false
   },
   "outputs": [
    {
     "data": {
      "text/plain": [
       "74"
      ]
     },
     "execution_count": 5,
     "metadata": {},
     "output_type": "execute_result"
    }
   ],
   "source": [
    "cols2 = ['register_type','device_type','user_reg_days','user_last_launch_dist','user_hist_launch_freq','user_hist_launchday','user_max_continue_launch_times_lastweek','user_activity_days_hist','user_activity_days_lastweek','user_min_continue_launch_times_lastweek','user_mean_continue_launch_days_lastweek','user_max_continue_launch_days_lastweek','user_mean_continue_activity_days_lastweek','user_max_continue_activity_days_lastweek','user_lastweek_act_0_freq','user_lastweek_actcount','user_lastweek_act_video_uniquecount','user_min_continue_launch_days_lastweek','user_mean_continue_launch_times_hist','user_min_continue_activity_days_lastweek','user_hist_actcount','user_mean_continue_activity_days_hist','user_max_continue_launch_days_hist','user_hist_act_freq','user_mean_continue_launch_days_hist','user_hist_act_author_count','user_mean_no_launch_days_hist','user_min_activity_daytimes_lastweek','user_lastweek_act','user_lastweek_act_0','user_mean_continue_activity_times_hist','user_max_launch_daytimes_lastweek','user_lastweek_launch','user_lastweek_act_page_3_count','user_lastweek_act_page_1_count','user_max_no_launch_days_hist','user_last_act_date','user_lastweek_act_2_freq','user_lastweek_video_freq','user_lastweek_act_2_count','user_lastweek_launch_freq','user_max_no_activity_days_lastweek_hist_dist','user_lastweek_act_page_2_count','user_var_continue_activity_times_lastweek','user_kurt_continue_activity_days_hist','user_launch_range_percent','user_activity_div_launch_days_hist','user_hist_act_video_meancount','user_hist_video_activity_types','user_activity_range_percent','user_5daybefore_act_page_1_count','user_min_continue_activity_times_5daywin','user_lastweek_hist_act_3_count_dist','user_lastweek_hist_act_page_3_count_dist','user_mean_createvideo_date_lastweek_hist_dist','user_4daybefore_act_page_4_count','user_kurt_no_launch_days_6daywin','user_max_continue_createvideo_days_4daywin','user_2daybefore_act_1_count','user_max_continue_createvideo_days_hist','(register_type+user_lastweek_video_freq)','(register_type*user_hist_launchday)','(user_hist_launchday/user_2daybefore_act_1_count)','(user_activity_days_lastweek-user_mean_continue_activity_days_lastweek)','(user_min_continue_launch_times_lastweek*user_lastweek_hist_act_3_count_dist)','(user_mean_continue_activity_days_lastweek+user_max_no_activity_days_lastweek_hist_dist)','(user_lastweek_act_0_freq-user_4daybefore_act_page_4_count)','(user_max_continue_launch_days_hist*user_5daybefore_act_page_1_count)','(user_var_continue_activity_times_lastweek*user_5daybefore_act_page_1_count)','(user_launch_range_percent/user_4daybefore_act_page_4_count)','(user_launch_range_percent*user_4daybefore_act_page_4_count)','(user_5daybefore_act_page_1_count/user_lastweek_launch)','(user_5daybefore_act_page_1_count*user_min_continue_launch_days_lastweek)','(user_4daybefore_act_page_4_count/user_max_launch_daytimes_lastweek)']\n",
    "len(cols2)"
   ]
  },
  {
   "cell_type": "code",
   "execution_count": 101,
   "metadata": {
    "collapsed": false
   },
   "outputs": [
    {
     "data": {
      "text/plain": [
       "83"
      ]
     },
     "execution_count": 101,
     "metadata": {},
     "output_type": "execute_result"
    }
   ],
   "source": [
    "cols = ['register_type', 'device_type', 'user_reg_days', 'user_lastweek_launchday', 'user_last_launch_dist', 'user_hist_launchday', 'user_max_continue_launch_times_lastweek', 'user_activity_days_lastweek', 'user_min_continue_launch_times_lastweek', 'user_mean_continue_launch_days_lastweek', 'user_max_continue_launch_days_lastweek', 'user_lastweek_actcount', 'user_lastweek_act_video_uniquecount', 'user_max_continue_launch_times_hist', 'user_min_continue_launch_days_lastweek', 'user_hist_act_0_count', 'user_hist_actcount', 'user_mean_continue_activity_days_hist', 'user_max_continue_launch_days_hist', 'user_hist_act_freq', 'user_mean_continue_launch_days_hist', 'user_hist_act_author_count', 'user_mean_no_launch_days_hist', 'user_min_activity_daytimes_lastweek', 'user_lastweek_act', 'user_lastweek_act_0', 'user_mean_continue_activity_times_hist', 'user_max_launch_daytimes_lastweek', 'user_lastweek_launch', 'user_lastweek_act_page_3_count', 'user_lastweek_act_page_1_count', 'user_max_no_launch_days_hist', 'user_last_act_date', 'user_lastweek_act_2_freq', 'user_lastweek_video_freq', 'user_lastweek_act_2_count', 'user_lastweek_launch_freq', 'user_max_no_activity_days_lastweek_hist_dist', 'user_lastweek_act_page_2_count', 'user_var_continue_activity_times_lastweek', 'user_kurt_continue_activity_days_hist', 'user_launch_range_percent', 'user_activity_div_launch_days_hist', 'user_hist_act_video_meancount', 'user_hist_video_activity_types', 'user_activity_range_percent', 'user_5daybefore_act_page_1_count', 'user_min_continue_activity_times_5daywin', 'user_lastweek_hist_act_3_count_dist', 'user_lastweek_hist_act_page_3_count_dist', 'user_mean_createvideo_date_lastweek_hist_dist', 'user_4daybefore_act_page_4_count', 'user_kurt_no_launch_days_6daywin', 'user_max_continue_createvideo_days_4daywin', 'user_2daybefore_act_1_count', 'user_max_continue_createvideo_days_hist', '(register_type-user_lastweek_hist_act_3_count_dist)', '(register_type+user_last_act_date)', '(register_type/user_last_act_date)', '(register_type-user_lastweek_launch)', '(register_type*user_mean_continue_activity_days_hist)', '(register_type-user_min_continue_launch_times_lastweek)', '(register_type/user_min_continue_launch_times_lastweek)', '(register_type*user_lastweek_launchday)', '(device_type*user_activity_div_launch_days_hist)', '(device_type/user_lastweek_launch)', '(user_reg_days*user_lastweek_act_2_freq)', '(user_reg_days+user_hist_act_freq)', '(user_lastweek_launchday-user_min_continue_launch_days_lastweek)', '(user_lastweek_launchday-user_min_continue_launch_times_lastweek)', '(user_last_launch_dist/user_lastweek_act_2_freq)', '(user_hist_launchday/user_lastweek_actcount)', '(user_hist_act_0_count-user_kurt_continue_activity_days_hist)', '(user_mean_continue_activity_days_hist-user_hist_video_activity_types)', '(user_lastweek_act*user_max_continue_createvideo_days_4daywin)', '(user_lastweek_act_page_3_count*user_activity_days_lastweek)', '(user_kurt_continue_activity_days_hist/user_hist_video_activity_types)', '(user_launch_range_percent*user_lastweek_act_2_freq)', '(user_min_continue_activity_times_5daywin*user_lastweek_launch)', '(user_lastweek_hist_act_3_count_dist-user_2daybefore_act_1_count)', '(user_max_continue_createvideo_days_4daywin*user_lastweek_act_2_count)', '(user_2daybefore_act_1_count*user_lastweek_hist_act_page_3_count_dist)', '(user_max_continue_createvideo_days_hist-user_hist_video_activity_types)']\n",
    "len(cols)"
   ]
  },
  {
   "cell_type": "code",
   "execution_count": 5,
   "metadata": {
    "collapsed": true
   },
   "outputs": [],
   "source": [
    "df['(device_type-user_activity_days_lastweek)'] = df.device_type - df.user_activity_days_lastweek\n",
    "df['(user_lastweek_launchday-user_min_continue_launch_days_lastweek)'] = df.user_lastweek_launchday - df.user_min_continue_launch_days_lastweek\n",
    "df['(user_last_launch_dist/user_lastweek_act_video_uniquecount)'] = (df.user_last_launch_dist + 0.001) / (df.user_lastweek_act_video_uniquecount + 0.001)\n",
    "df['(user_activity_days_hist-user_kurt_continue_activity_days_hist)'] = df.user_activity_days_hist - df.user_kurt_continue_activity_days_hist\n",
    "df['(user_activity_days_hist/user_var_continue_activity_times_lastweek)'] = (df.user_activity_days_hist + 0.001) / (df.user_var_continue_activity_times_lastweek + 0.001)\n",
    "df['(user_activity_days_lastweek-user_max_continue_launch_times_hist)'] = df.user_activity_days_lastweek - df.user_max_continue_launch_times_hist\n",
    "df['(user_activity_days_lastweek/user_max_continue_activity_days_lastweek)'] = (df.user_activity_days_lastweek + 0.001) / (df.user_max_continue_activity_days_lastweek + 0.001)\n",
    "df['(user_lastweek_actcount-user_activity_days_lastweek)'] = df.user_lastweek_actcount - df.user_activity_days_lastweek\n",
    "df['(user_lastweek_act_video_uniquecount-user_max_continue_activity_days_lastweek)'] = df.user_lastweek_act_video_uniquecount - df.user_max_continue_activity_days_lastweek\n",
    "df['(user_min_continue_launch_days_lastweek*user_2daybefore_act_1_count)'] = df.user_min_continue_launch_days_lastweek * df.user_2daybefore_act_1_count\n",
    "df['(user_hist_act_author_count*user_max_continue_createvideo_days_4daywin)'] = df.user_hist_act_author_count * df.user_max_continue_createvideo_days_4daywin\n",
    "df['(user_max_launch_daytimes_lastweek*user_5daybefore_act_page_1_count)'] = df.user_max_launch_daytimes_lastweek * df.user_5daybefore_act_page_1_count\n",
    "df['(user_max_launch_daytimes_lastweek*user_lastweek_act_page_3_count)'] = df.user_max_launch_daytimes_lastweek * df.user_lastweek_act_page_3_count"
   ]
  },
  {
   "cell_type": "code",
   "execution_count": 6,
   "metadata": {
    "collapsed": false
   },
   "outputs": [],
   "source": [
    "df['(register_type+user_lastweek_video_freq)'] = df.register_type + df.user_lastweek_video_freq\n",
    "df['(register_type*user_hist_launchday)'] = df.register_type * df.user_hist_launchday\n",
    "df['(user_hist_launchday/user_2daybefore_act_1_count)'] = (df.user_hist_launchday + 0.001) / (df.user_2daybefore_act_1_count + 0.001)\n",
    "df['(user_activity_days_lastweek-user_mean_continue_activity_days_lastweek)'] = df.user_activity_days_lastweek - df.user_mean_continue_activity_days_lastweek\n",
    "df['(user_min_continue_launch_times_lastweek*user_lastweek_hist_act_3_count_dist)'] = df.user_min_continue_launch_times_lastweek * df.user_lastweek_hist_act_3_count_dist\n",
    "df['(user_mean_continue_activity_days_lastweek+user_max_no_activity_days_lastweek_hist_dist)'] = df.user_mean_continue_activity_days_lastweek + df.user_max_no_activity_days_lastweek_hist_dist\n",
    "df['(user_lastweek_act_0_freq-user_4daybefore_act_page_4_count)'] = df.user_lastweek_act_0_freq - df.user_4daybefore_act_page_4_count\n",
    "df['(user_max_continue_launch_days_hist*user_5daybefore_act_page_1_count)'] = df.user_max_continue_launch_days_hist - df.user_5daybefore_act_page_1_count\n",
    "df['(user_var_continue_activity_times_lastweek*user_5daybefore_act_page_1_count)'] = df.user_var_continue_activity_times_lastweek * df.user_5daybefore_act_page_1_count\n",
    "df['(user_launch_range_percent*user_4daybefore_act_page_4_count)'] = df.user_launch_range_percent * df.user_4daybefore_act_page_4_count\n",
    "df['(user_launch_range_percent/user_4daybefore_act_page_4_count)'] = (df.user_launch_range_percent + 0.001) / (df.user_4daybefore_act_page_4_count + 0.001)\n",
    "df['(user_5daybefore_act_page_1_count/user_lastweek_launch)'] = (df.user_5daybefore_act_page_1_count + 0.001) / (df.user_lastweek_launch + 0.001)\n",
    "df['(user_5daybefore_act_page_1_count*user_min_continue_launch_days_lastweek)'] = df.user_5daybefore_act_page_1_count * df.user_min_continue_launch_days_lastweek\n",
    "df['(user_4daybefore_act_page_4_count/user_max_launch_daytimes_lastweek)'] = (df.user_4daybefore_act_page_4_count + 0.001) / (df.user_max_launch_daytimes_lastweek + 0.001)"
   ]
  },
  {
   "cell_type": "code",
   "execution_count": 102,
   "metadata": {
    "collapsed": false
   },
   "outputs": [],
   "source": [
    "df['(register_type-user_lastweek_hist_act_3_count_dist)'] = df.register_type - df.user_lastweek_hist_act_3_count_dist\n",
    "df['(register_type+user_last_act_date)'] = df.register_type + df.user_last_act_date\n",
    "df['(register_type/user_last_act_date)'] = (df.register_type+0.001) / (df.user_last_act_date+0.001)\n",
    "df['(register_type-user_lastweek_launch)'] = df.register_type - df.user_lastweek_launch\n",
    "df['(register_type*user_mean_continue_activity_days_hist)'] = df.register_type * df.user_mean_continue_activity_days_hist\n",
    "df['(register_type-user_min_continue_launch_times_lastweek)'] = df.register_type - df.user_min_continue_launch_times_lastweek\n",
    "df['(register_type/user_min_continue_launch_times_lastweek)'] = (df.register_type+0.001) / (df.user_min_continue_launch_times_lastweek+0.001)\n",
    "df['(register_type*user_lastweek_launchday)'] = df.register_type * df.user_lastweek_launchday\n",
    "df['(device_type*user_activity_div_launch_days_hist)'] = df.device_type * df.user_activity_div_launch_days_hist\n",
    "df['(device_type/user_lastweek_launch)']  = (df.device_type+0.001) / (df.user_lastweek_launch+0.001)\n",
    "df['(user_reg_days*user_lastweek_act_2_freq)'] = df.user_reg_days * df.user_lastweek_act_2_freq\n",
    "df['(user_reg_days+user_hist_act_freq)'] = df.user_reg_days + df.user_hist_act_freq\n",
    "df['(user_lastweek_launchday-user_min_continue_launch_days_lastweek)'] = df.user_lastweek_launchday - df.user_min_continue_launch_days_lastweek\n",
    "df['(user_lastweek_launchday-user_min_continue_launch_times_lastweek)'] = df.user_lastweek_launchday - df.user_min_continue_launch_times_lastweek\n",
    "df['(user_last_launch_dist/user_lastweek_act_2_freq)'] = (df.user_last_launch_dist+0.001) / (df.user_lastweek_act_2_freq+0.001)\n",
    "df['(user_hist_launchday/user_lastweek_actcount)'] = (df.user_hist_launchday+0.001) / (df.user_lastweek_actcount+0.001)\n",
    "df['(user_hist_act_0_count-user_kurt_continue_activity_days_hist)'] = df.user_hist_act_0_count - df.user_kurt_continue_activity_days_hist\n",
    "df['(user_mean_continue_activity_days_hist-user_hist_video_activity_types)'] = df.user_mean_continue_activity_days_hist - df.user_hist_video_activity_types\n",
    "df['(user_lastweek_act*user_max_continue_createvideo_days_4daywin)'] = df.user_lastweek_act * df.user_max_continue_createvideo_days_4daywin\n",
    "df['(user_lastweek_act_page_3_count*user_activity_days_lastweek)'] = df.user_lastweek_act_page_3_count * df.user_activity_days_lastweek\n",
    "df['(user_kurt_continue_activity_days_hist/user_hist_video_activity_types)'] = (df.user_kurt_continue_activity_days_hist+0.001) / (df.user_hist_video_activity_types+0.001)\n",
    "df['(user_launch_range_percent*user_lastweek_act_2_freq)'] = df.user_launch_range_percent * df.user_lastweek_act_2_freq\n",
    "df['(user_min_continue_activity_times_5daywin*user_lastweek_launch)'] = df.user_min_continue_activity_times_5daywin * df.user_lastweek_launch\n",
    "df['(user_lastweek_hist_act_3_count_dist-user_2daybefore_act_1_count)'] = df.user_lastweek_hist_act_3_count_dist - df.user_2daybefore_act_1_count\n",
    "df['(user_max_continue_createvideo_days_4daywin*user_lastweek_act_2_count)'] = df.user_max_continue_createvideo_days_4daywin * df.user_lastweek_act_2_count\n",
    "df['(user_2daybefore_act_1_count*user_lastweek_hist_act_page_3_count_dist)'] = df.user_2daybefore_act_1_count * df.user_lastweek_hist_act_page_3_count_dist\n",
    "df['(user_max_continue_createvideo_days_hist-user_hist_video_activity_types)'] = df.user_max_continue_createvideo_days_hist - df.user_hist_video_activity_types"
   ]
  },
  {
   "cell_type": "markdown",
   "metadata": {},
   "source": [
    "## pre-selection"
   ]
  },
  {
   "cell_type": "code",
   "execution_count": 73,
   "metadata": {
    "collapsed": false,
    "scrolled": true
   },
   "outputs": [
    {
     "data": {
      "text/plain": [
       "(124709, 7)"
      ]
     },
     "execution_count": 73,
     "metadata": {},
     "output_type": "execute_result"
    },
    {
     "data": {
      "text/html": [
       "<div>\n",
       "<style scoped>\n",
       "    .dataframe tbody tr th:only-of-type {\n",
       "        vertical-align: middle;\n",
       "    }\n",
       "\n",
       "    .dataframe tbody tr th {\n",
       "        vertical-align: top;\n",
       "    }\n",
       "\n",
       "    .dataframe thead th {\n",
       "        text-align: right;\n",
       "    }\n",
       "</style>\n",
       "<table border=\"1\" class=\"dataframe\">\n",
       "  <thead>\n",
       "    <tr style=\"text-align: right;\">\n",
       "      <th></th>\n",
       "      <th>trend_7</th>\n",
       "      <th>trend_6</th>\n",
       "      <th>trend_5</th>\n",
       "      <th>trend_4</th>\n",
       "      <th>trend_3</th>\n",
       "      <th>trend_2</th>\n",
       "      <th>trend_1</th>\n",
       "    </tr>\n",
       "  </thead>\n",
       "  <tbody>\n",
       "    <tr>\n",
       "      <th>0</th>\n",
       "      <td>1.000000</td>\n",
       "      <td>1.000000</td>\n",
       "      <td>1.000000</td>\n",
       "      <td>1.000000</td>\n",
       "      <td>1.000000</td>\n",
       "      <td>1.000000</td>\n",
       "      <td>1.000000</td>\n",
       "    </tr>\n",
       "    <tr>\n",
       "      <th>1</th>\n",
       "      <td>0.034483</td>\n",
       "      <td>1.000000</td>\n",
       "      <td>1.000000</td>\n",
       "      <td>1.000000</td>\n",
       "      <td>1.000000</td>\n",
       "      <td>1.000000</td>\n",
       "      <td>1.000000</td>\n",
       "    </tr>\n",
       "    <tr>\n",
       "      <th>2</th>\n",
       "      <td>0.009615</td>\n",
       "      <td>1.000000</td>\n",
       "      <td>1.000000</td>\n",
       "      <td>1.000000</td>\n",
       "      <td>1.000000</td>\n",
       "      <td>1.000000</td>\n",
       "      <td>1.000000</td>\n",
       "    </tr>\n",
       "    <tr>\n",
       "      <th>3</th>\n",
       "      <td>0.563025</td>\n",
       "      <td>0.320000</td>\n",
       "      <td>0.389189</td>\n",
       "      <td>0.043478</td>\n",
       "      <td>0.057143</td>\n",
       "      <td>0.070423</td>\n",
       "      <td>0.083333</td>\n",
       "    </tr>\n",
       "    <tr>\n",
       "      <th>4</th>\n",
       "      <td>2.177778</td>\n",
       "      <td>0.413793</td>\n",
       "      <td>0.392157</td>\n",
       "      <td>0.556034</td>\n",
       "      <td>0.214559</td>\n",
       "      <td>0.385714</td>\n",
       "      <td>0.847458</td>\n",
       "    </tr>\n",
       "  </tbody>\n",
       "</table>\n",
       "</div>"
      ],
      "text/plain": [
       "    trend_7   trend_6   trend_5   trend_4   trend_3   trend_2   trend_1\n",
       "0  1.000000  1.000000  1.000000  1.000000  1.000000  1.000000  1.000000\n",
       "1  0.034483  1.000000  1.000000  1.000000  1.000000  1.000000  1.000000\n",
       "2  0.009615  1.000000  1.000000  1.000000  1.000000  1.000000  1.000000\n",
       "3  0.563025  0.320000  0.389189  0.043478  0.057143  0.070423  0.083333\n",
       "4  2.177778  0.413793  0.392157  0.556034  0.214559  0.385714  0.847458"
      ]
     },
     "execution_count": 73,
     "metadata": {},
     "output_type": "execute_result"
    }
   ],
   "source": [
    "df_trend = pd.read_csv('./features/trend_df_b.csv')\n",
    "df_trend = df_trend.drop(['user_id', 'data_weeknum', 'data_weekstart', 'data_weekend', 'label'], axis=1)\n",
    "\n",
    "df_trend.shape\n",
    "df_trend.head()"
   ]
  },
  {
   "cell_type": "code",
   "execution_count": 74,
   "metadata": {
    "collapsed": true
   },
   "outputs": [],
   "source": [
    "cand_cols = []"
   ]
  },
  {
   "cell_type": "code",
   "execution_count": 75,
   "metadata": {
    "collapsed": false
   },
   "outputs": [
    {
     "data": {
      "text/plain": [
       "(198057, 102)"
      ]
     },
     "execution_count": 75,
     "metadata": {},
     "output_type": "execute_result"
    },
    {
     "data": {
      "text/plain": [
       "83"
      ]
     },
     "execution_count": 75,
     "metadata": {},
     "output_type": "execute_result"
    }
   ],
   "source": [
    "df = pd.concat([df, df_trend], axis=1)\n",
    "cand_cols = cand_cols + list(df_trend.columns)\n",
    "df.shape\n",
    "len(cols)"
   ]
  },
  {
   "cell_type": "code",
   "execution_count": 76,
   "metadata": {
    "collapsed": false
   },
   "outputs": [
    {
     "data": {
      "text/plain": [
       "(51480, 2)"
      ]
     },
     "execution_count": 76,
     "metadata": {},
     "output_type": "execute_result"
    }
   ],
   "source": [
    "df_group = pd.read_csv('./features/set_group_noleak_b.csv')\n",
    "df_group.shape"
   ]
  },
  {
   "cell_type": "code",
   "execution_count": 77,
   "metadata": {
    "collapsed": false
   },
   "outputs": [
    {
     "data": {
      "text/plain": [
       "(198057, 103)"
      ]
     },
     "execution_count": 77,
     "metadata": {},
     "output_type": "execute_result"
    }
   ],
   "source": [
    "df = df.merge(df_group, on=['user_id'], how='left')\n",
    "df.shape"
   ]
  },
  {
   "cell_type": "code",
   "execution_count": 78,
   "metadata": {
    "collapsed": false
   },
   "outputs": [
    {
     "data": {
      "text/plain": [
       "(198057, 106)"
      ]
     },
     "execution_count": 78,
     "metadata": {},
     "output_type": "execute_result"
    },
    {
     "data": {
      "text/plain": [
       "83"
      ]
     },
     "execution_count": 78,
     "metadata": {},
     "output_type": "execute_result"
    }
   ],
   "source": [
    "df = pd.concat([df, pd.get_dummies(df.set_group, prefix='set_group')], axis=1)\n",
    "cand_cols = cand_cols + list(pd.get_dummies(df.set_group, prefix='set_group').columns)\n",
    "df = df.drop(['set_group'], axis=1)\n",
    "df.shape\n",
    "len(cols)"
   ]
  },
  {
   "cell_type": "code",
   "execution_count": 79,
   "metadata": {
    "collapsed": false
   },
   "outputs": [
    {
     "data": {
      "text/plain": [
       "(51480, 2)"
      ]
     },
     "execution_count": 79,
     "metadata": {},
     "output_type": "execute_result"
    }
   ],
   "source": [
    "df_group = pd.read_csv('./features/group_noleak_b.csv')\n",
    "df_group.shape"
   ]
  },
  {
   "cell_type": "code",
   "execution_count": 80,
   "metadata": {
    "collapsed": false
   },
   "outputs": [
    {
     "data": {
      "text/plain": [
       "(198057, 107)"
      ]
     },
     "execution_count": 80,
     "metadata": {},
     "output_type": "execute_result"
    }
   ],
   "source": [
    "df = df.merge(df_group, on=['user_id'], how='left')\n",
    "df.shape"
   ]
  },
  {
   "cell_type": "code",
   "execution_count": 81,
   "metadata": {
    "collapsed": false
   },
   "outputs": [
    {
     "data": {
      "text/plain": [
       "(198057, 121)"
      ]
     },
     "execution_count": 81,
     "metadata": {},
     "output_type": "execute_result"
    }
   ],
   "source": [
    "df = pd.concat([df, pd.get_dummies(df.group, prefix='group')], axis=1)\n",
    "cand_cols = cand_cols + list(pd.get_dummies(df.group, prefix='group').columns)\n",
    "df = df.drop(['group'], axis=1)\n",
    "df.shape"
   ]
  },
  {
   "cell_type": "code",
   "execution_count": 104,
   "metadata": {
    "collapsed": true
   },
   "outputs": [
    {
     "data": {
      "text/plain": [
       "user_id                                                                       0\n",
       "data_weeknum                                                                  0\n",
       "data_weekstart                                                                0\n",
       "label                                                                         0\n",
       "register_type                                                                 0\n",
       "device_type                                                                   0\n",
       "user_reg_days                                                                 0\n",
       "user_2daybefore_act_1_count                                                   0\n",
       "user_4daybefore_act_page_4_count                                              0\n",
       "user_5daybefore_act_page_1_count                                              0\n",
       "user_activity_days_hist                                                       0\n",
       "user_activity_days_lastweek                                                   0\n",
       "user_hist_act_0_count                                                         0\n",
       "user_hist_act_author_count                                                    0\n",
       "user_hist_act_video_meancount                                                 0\n",
       "user_hist_actcount                                                            0\n",
       "user_hist_launchday                                                           0\n",
       "user_hist_video_activity_types                                                0\n",
       "user_kurt_continue_activity_days_hist                                         0\n",
       "user_kurt_no_launch_days_6daywin                                              0\n",
       "user_last_act_date                                                            0\n",
       "user_last_launch_dist                                                         0\n",
       "user_lastweek_act                                                             0\n",
       "user_lastweek_act_0                                                           0\n",
       "user_lastweek_act_2_count                                                     0\n",
       "user_lastweek_act_page_1_count                                                0\n",
       "user_lastweek_act_page_2_count                                                0\n",
       "user_lastweek_act_page_3_count                                                0\n",
       "user_lastweek_act_video_uniquecount                                           0\n",
       "user_lastweek_actcount                                                        0\n",
       "                                                                           ... \n",
       "(register_type-user_lastweek_launch)                                          0\n",
       "(register_type*user_mean_continue_activity_days_hist)                         0\n",
       "(register_type-user_min_continue_launch_times_lastweek)                       0\n",
       "(register_type/user_min_continue_launch_times_lastweek)                       0\n",
       "(register_type*user_lastweek_launchday)                                       0\n",
       "(device_type*user_activity_div_launch_days_hist)                              0\n",
       "(device_type/user_lastweek_launch)                                            0\n",
       "(user_reg_days*user_lastweek_act_2_freq)                                      0\n",
       "(user_reg_days+user_hist_act_freq)                                            0\n",
       "(user_lastweek_launchday-user_min_continue_launch_days_lastweek)              0\n",
       "(user_lastweek_launchday-user_min_continue_launch_times_lastweek)             0\n",
       "(user_last_launch_dist/user_lastweek_act_2_freq)                              0\n",
       "(user_hist_launchday/user_lastweek_actcount)                                  0\n",
       "(user_hist_act_0_count-user_kurt_continue_activity_days_hist)                 0\n",
       "(user_mean_continue_activity_days_hist-user_hist_video_activity_types)        0\n",
       "(user_lastweek_act*user_max_continue_createvideo_days_4daywin)                0\n",
       "(user_lastweek_act_page_3_count*user_activity_days_lastweek)                  0\n",
       "(user_kurt_continue_activity_days_hist/user_hist_video_activity_types)        0\n",
       "(user_launch_range_percent*user_lastweek_act_2_freq)                          0\n",
       "(user_min_continue_activity_times_5daywin*user_lastweek_launch)               0\n",
       "(user_lastweek_hist_act_3_count_dist-user_2daybefore_act_1_count)             0\n",
       "(user_max_continue_createvideo_days_4daywin*user_lastweek_act_2_count)        0\n",
       "(user_2daybefore_act_1_count*user_lastweek_hist_act_page_3_count_dist)        0\n",
       "(user_max_continue_createvideo_days_hist-user_hist_video_activity_types)      0\n",
       "launch_r_type_rate                                                          380\n",
       "launch_d_type_rate                                                          380\n",
       "video_r_type_rate                                                           380\n",
       "video_d_type_rate                                                           380\n",
       "device_r_type_rate                                                          380\n",
       "device_d_type_rate                                                          380\n",
       "Length: 101, dtype: int64"
      ]
     },
     "execution_count": 104,
     "metadata": {},
     "output_type": "execute_result"
    }
   ],
   "source": [
    "df.isnull().sum()"
   ]
  },
  {
   "cell_type": "code",
   "execution_count": 109,
   "metadata": {
    "collapsed": false
   },
   "outputs": [
    {
     "data": {
      "text/plain": [
       "(198057, 101)"
      ]
     },
     "execution_count": 109,
     "metadata": {},
     "output_type": "execute_result"
    },
    {
     "data": {
      "text/html": [
       "<div>\n",
       "<style scoped>\n",
       "    .dataframe tbody tr th:only-of-type {\n",
       "        vertical-align: middle;\n",
       "    }\n",
       "\n",
       "    .dataframe tbody tr th {\n",
       "        vertical-align: top;\n",
       "    }\n",
       "\n",
       "    .dataframe thead th {\n",
       "        text-align: right;\n",
       "    }\n",
       "</style>\n",
       "<table border=\"1\" class=\"dataframe\">\n",
       "  <thead>\n",
       "    <tr style=\"text-align: right;\">\n",
       "      <th></th>\n",
       "      <th>user_id</th>\n",
       "      <th>data_weeknum</th>\n",
       "      <th>data_weekstart</th>\n",
       "      <th>label</th>\n",
       "      <th>register_type</th>\n",
       "      <th>device_type</th>\n",
       "      <th>user_reg_days</th>\n",
       "      <th>user_2daybefore_act_1_count</th>\n",
       "      <th>user_4daybefore_act_page_4_count</th>\n",
       "      <th>user_5daybefore_act_page_1_count</th>\n",
       "      <th>user_activity_days_hist</th>\n",
       "      <th>user_activity_days_lastweek</th>\n",
       "      <th>user_hist_act_0_count</th>\n",
       "      <th>user_hist_act_author_count</th>\n",
       "      <th>user_hist_act_video_meancount</th>\n",
       "      <th>user_hist_actcount</th>\n",
       "      <th>user_hist_launchday</th>\n",
       "      <th>user_hist_video_activity_types</th>\n",
       "      <th>user_kurt_continue_activity_days_hist</th>\n",
       "      <th>user_kurt_no_launch_days_6daywin</th>\n",
       "      <th>user_last_act_date</th>\n",
       "      <th>user_last_launch_dist</th>\n",
       "      <th>user_lastweek_act</th>\n",
       "      <th>user_lastweek_act_0</th>\n",
       "      <th>user_lastweek_act_2_count</th>\n",
       "      <th>user_lastweek_act_page_1_count</th>\n",
       "      <th>user_lastweek_act_page_2_count</th>\n",
       "      <th>user_lastweek_act_page_3_count</th>\n",
       "      <th>user_lastweek_act_video_uniquecount</th>\n",
       "      <th>user_lastweek_actcount</th>\n",
       "      <th>user_lastweek_launch</th>\n",
       "      <th>user_lastweek_launchday</th>\n",
       "      <th>user_max_continue_activity_days_lastweek</th>\n",
       "      <th>user_max_continue_createvideo_days_4daywin</th>\n",
       "      <th>user_max_continue_createvideo_days_hist</th>\n",
       "      <th>user_max_continue_launch_days_hist</th>\n",
       "      <th>user_max_continue_launch_days_lastweek</th>\n",
       "      <th>user_max_continue_launch_times_hist</th>\n",
       "      <th>user_max_continue_launch_times_lastweek</th>\n",
       "      <th>user_max_launch_daytimes_lastweek</th>\n",
       "      <th>user_max_no_launch_days_hist</th>\n",
       "      <th>user_mean_continue_activity_days_hist</th>\n",
       "      <th>user_mean_continue_activity_days_lastweek</th>\n",
       "      <th>user_mean_continue_activity_times_hist</th>\n",
       "      <th>user_mean_continue_launch_days_hist</th>\n",
       "      <th>user_mean_continue_launch_days_lastweek</th>\n",
       "      <th>user_mean_continue_launch_times_hist</th>\n",
       "      <th>user_mean_continue_launch_times_lastweek</th>\n",
       "      <th>user_mean_no_launch_days_hist</th>\n",
       "      <th>user_min_activity_daytimes_lastweek</th>\n",
       "      <th>user_min_continue_activity_days_lastweek</th>\n",
       "      <th>user_min_continue_activity_times_5daywin</th>\n",
       "      <th>user_min_continue_launch_days_lastweek</th>\n",
       "      <th>user_min_continue_launch_times_lastweek</th>\n",
       "      <th>user_var_continue_activity_times_lastweek</th>\n",
       "      <th>user_hist_launch_freq</th>\n",
       "      <th>user_lastweek_launch_freq</th>\n",
       "      <th>user_lastweek_video_freq</th>\n",
       "      <th>user_hist_act_freq</th>\n",
       "      <th>user_lastweek_act_0_freq</th>\n",
       "      <th>user_lastweek_act_2_freq</th>\n",
       "      <th>user_activity_div_launch_days_hist</th>\n",
       "      <th>user_lastweek_hist_act_3_count_dist</th>\n",
       "      <th>user_lastweek_hist_act_page_3_count_dist</th>\n",
       "      <th>user_max_no_activity_days_lastweek_hist_dist</th>\n",
       "      <th>user_mean_createvideo_date_lastweek_hist_dist</th>\n",
       "      <th>user_launch_range_percent</th>\n",
       "      <th>user_activity_range_percent</th>\n",
       "      <th>(register_type-user_lastweek_hist_act_3_count_dist)</th>\n",
       "      <th>(register_type+user_last_act_date)</th>\n",
       "      <th>(register_type/user_last_act_date)</th>\n",
       "      <th>(register_type-user_lastweek_launch)</th>\n",
       "      <th>(register_type*user_mean_continue_activity_days_hist)</th>\n",
       "      <th>(register_type-user_min_continue_launch_times_lastweek)</th>\n",
       "      <th>(register_type/user_min_continue_launch_times_lastweek)</th>\n",
       "      <th>(register_type*user_lastweek_launchday)</th>\n",
       "      <th>(device_type*user_activity_div_launch_days_hist)</th>\n",
       "      <th>(device_type/user_lastweek_launch)</th>\n",
       "      <th>(user_reg_days*user_lastweek_act_2_freq)</th>\n",
       "      <th>(user_reg_days+user_hist_act_freq)</th>\n",
       "      <th>(user_lastweek_launchday-user_min_continue_launch_days_lastweek)</th>\n",
       "      <th>(user_lastweek_launchday-user_min_continue_launch_times_lastweek)</th>\n",
       "      <th>(user_last_launch_dist/user_lastweek_act_2_freq)</th>\n",
       "      <th>(user_hist_launchday/user_lastweek_actcount)</th>\n",
       "      <th>(user_hist_act_0_count-user_kurt_continue_activity_days_hist)</th>\n",
       "      <th>(user_mean_continue_activity_days_hist-user_hist_video_activity_types)</th>\n",
       "      <th>(user_lastweek_act*user_max_continue_createvideo_days_4daywin)</th>\n",
       "      <th>(user_lastweek_act_page_3_count*user_activity_days_lastweek)</th>\n",
       "      <th>(user_kurt_continue_activity_days_hist/user_hist_video_activity_types)</th>\n",
       "      <th>(user_launch_range_percent*user_lastweek_act_2_freq)</th>\n",
       "      <th>(user_min_continue_activity_times_5daywin*user_lastweek_launch)</th>\n",
       "      <th>(user_lastweek_hist_act_3_count_dist-user_2daybefore_act_1_count)</th>\n",
       "      <th>(user_max_continue_createvideo_days_4daywin*user_lastweek_act_2_count)</th>\n",
       "      <th>(user_2daybefore_act_1_count*user_lastweek_hist_act_page_3_count_dist)</th>\n",
       "      <th>(user_max_continue_createvideo_days_hist-user_hist_video_activity_types)</th>\n",
       "      <th>launch_r_type_rate</th>\n",
       "      <th>launch_d_type_rate</th>\n",
       "      <th>video_r_type_rate</th>\n",
       "      <th>video_d_type_rate</th>\n",
       "      <th>device_r_type_rate</th>\n",
       "      <th>device_d_type_rate</th>\n",
       "    </tr>\n",
       "  </thead>\n",
       "  <tbody>\n",
       "    <tr>\n",
       "      <th>73348</th>\n",
       "      <td>167777</td>\n",
       "      <td>0</td>\n",
       "      <td>10</td>\n",
       "      <td>0</td>\n",
       "      <td>4</td>\n",
       "      <td>270</td>\n",
       "      <td>9</td>\n",
       "      <td>0.0</td>\n",
       "      <td>0.0</td>\n",
       "      <td>0.0</td>\n",
       "      <td>0.0</td>\n",
       "      <td>0.0</td>\n",
       "      <td>0.0</td>\n",
       "      <td>0.0</td>\n",
       "      <td>0.000000</td>\n",
       "      <td>0.0</td>\n",
       "      <td>1</td>\n",
       "      <td>0</td>\n",
       "      <td>0.0</td>\n",
       "      <td>0.0000</td>\n",
       "      <td>-1.0</td>\n",
       "      <td>9</td>\n",
       "      <td>0</td>\n",
       "      <td>0</td>\n",
       "      <td>0.0</td>\n",
       "      <td>0.0</td>\n",
       "      <td>0.0</td>\n",
       "      <td>0.0</td>\n",
       "      <td>0.0</td>\n",
       "      <td>0.0</td>\n",
       "      <td>0</td>\n",
       "      <td>0.0</td>\n",
       "      <td>0.0</td>\n",
       "      <td>0.0</td>\n",
       "      <td>0.0</td>\n",
       "      <td>1</td>\n",
       "      <td>0.0</td>\n",
       "      <td>-1</td>\n",
       "      <td>0.0</td>\n",
       "      <td>0.0</td>\n",
       "      <td>-1</td>\n",
       "      <td>0.0</td>\n",
       "      <td>0.0</td>\n",
       "      <td>0.0</td>\n",
       "      <td>1.0</td>\n",
       "      <td>0.0</td>\n",
       "      <td>-1.0</td>\n",
       "      <td>0.0</td>\n",
       "      <td>-1.000000</td>\n",
       "      <td>0.0</td>\n",
       "      <td>0.0</td>\n",
       "      <td>0.0</td>\n",
       "      <td>0.0</td>\n",
       "      <td>0.0</td>\n",
       "      <td>0.00</td>\n",
       "      <td>0.111111</td>\n",
       "      <td>0.000000</td>\n",
       "      <td>0.0</td>\n",
       "      <td>0.000000</td>\n",
       "      <td>0.000000</td>\n",
       "      <td>0.0</td>\n",
       "      <td>0.0</td>\n",
       "      <td>0.0</td>\n",
       "      <td>0.0</td>\n",
       "      <td>0.0</td>\n",
       "      <td>0.0</td>\n",
       "      <td>0.000000</td>\n",
       "      <td>0.000000</td>\n",
       "      <td>4.0</td>\n",
       "      <td>3.0</td>\n",
       "      <td>-4.005005</td>\n",
       "      <td>4</td>\n",
       "      <td>0.0</td>\n",
       "      <td>4.0</td>\n",
       "      <td>4001.000000</td>\n",
       "      <td>0.0</td>\n",
       "      <td>0.0</td>\n",
       "      <td>270001.000000</td>\n",
       "      <td>0.0</td>\n",
       "      <td>9.000000</td>\n",
       "      <td>0.0</td>\n",
       "      <td>0.0</td>\n",
       "      <td>9001.0</td>\n",
       "      <td>1001.000000</td>\n",
       "      <td>0.0</td>\n",
       "      <td>0.0</td>\n",
       "      <td>0.0</td>\n",
       "      <td>0.0</td>\n",
       "      <td>1.0</td>\n",
       "      <td>0.0</td>\n",
       "      <td>0.0</td>\n",
       "      <td>0.0</td>\n",
       "      <td>0.0</td>\n",
       "      <td>0.0</td>\n",
       "      <td>0.0</td>\n",
       "      <td>NaN</td>\n",
       "      <td>NaN</td>\n",
       "      <td>NaN</td>\n",
       "      <td>NaN</td>\n",
       "      <td>NaN</td>\n",
       "      <td>NaN</td>\n",
       "    </tr>\n",
       "    <tr>\n",
       "      <th>73349</th>\n",
       "      <td>886972</td>\n",
       "      <td>0</td>\n",
       "      <td>10</td>\n",
       "      <td>0</td>\n",
       "      <td>0</td>\n",
       "      <td>5</td>\n",
       "      <td>9</td>\n",
       "      <td>0.0</td>\n",
       "      <td>0.0</td>\n",
       "      <td>0.0</td>\n",
       "      <td>1.0</td>\n",
       "      <td>0.0</td>\n",
       "      <td>20.0</td>\n",
       "      <td>3.0</td>\n",
       "      <td>2.153846</td>\n",
       "      <td>28.0</td>\n",
       "      <td>2</td>\n",
       "      <td>0</td>\n",
       "      <td>-1.0</td>\n",
       "      <td>0.0000</td>\n",
       "      <td>1.0</td>\n",
       "      <td>7</td>\n",
       "      <td>0</td>\n",
       "      <td>0</td>\n",
       "      <td>0.0</td>\n",
       "      <td>0.0</td>\n",
       "      <td>0.0</td>\n",
       "      <td>0.0</td>\n",
       "      <td>0.0</td>\n",
       "      <td>0.0</td>\n",
       "      <td>1</td>\n",
       "      <td>1.0</td>\n",
       "      <td>0.0</td>\n",
       "      <td>0.0</td>\n",
       "      <td>0.0</td>\n",
       "      <td>1</td>\n",
       "      <td>1.0</td>\n",
       "      <td>1</td>\n",
       "      <td>-1.0</td>\n",
       "      <td>-1.0</td>\n",
       "      <td>1</td>\n",
       "      <td>1.0</td>\n",
       "      <td>0.0</td>\n",
       "      <td>28.0</td>\n",
       "      <td>1.0</td>\n",
       "      <td>1.0</td>\n",
       "      <td>1.0</td>\n",
       "      <td>-1.0</td>\n",
       "      <td>1.000000</td>\n",
       "      <td>0.0</td>\n",
       "      <td>0.0</td>\n",
       "      <td>0.0</td>\n",
       "      <td>1.0</td>\n",
       "      <td>-1.0</td>\n",
       "      <td>0.00</td>\n",
       "      <td>0.222222</td>\n",
       "      <td>0.142857</td>\n",
       "      <td>0.0</td>\n",
       "      <td>3.111111</td>\n",
       "      <td>0.000000</td>\n",
       "      <td>0.0</td>\n",
       "      <td>0.5</td>\n",
       "      <td>0.0</td>\n",
       "      <td>-19.0</td>\n",
       "      <td>1.0</td>\n",
       "      <td>0.0</td>\n",
       "      <td>0.222222</td>\n",
       "      <td>0.000000</td>\n",
       "      <td>0.0</td>\n",
       "      <td>1.0</td>\n",
       "      <td>0.000999</td>\n",
       "      <td>-1</td>\n",
       "      <td>0.0</td>\n",
       "      <td>1.0</td>\n",
       "      <td>-0.001001</td>\n",
       "      <td>0.0</td>\n",
       "      <td>2.5</td>\n",
       "      <td>4.996004</td>\n",
       "      <td>0.0</td>\n",
       "      <td>12.111111</td>\n",
       "      <td>0.0</td>\n",
       "      <td>2.0</td>\n",
       "      <td>7001.0</td>\n",
       "      <td>2001.000000</td>\n",
       "      <td>21.0</td>\n",
       "      <td>1.0</td>\n",
       "      <td>0.0</td>\n",
       "      <td>0.0</td>\n",
       "      <td>-999.0</td>\n",
       "      <td>0.0</td>\n",
       "      <td>0.0</td>\n",
       "      <td>0.0</td>\n",
       "      <td>0.0</td>\n",
       "      <td>-0.0</td>\n",
       "      <td>0.0</td>\n",
       "      <td>NaN</td>\n",
       "      <td>NaN</td>\n",
       "      <td>NaN</td>\n",
       "      <td>NaN</td>\n",
       "      <td>NaN</td>\n",
       "      <td>NaN</td>\n",
       "    </tr>\n",
       "    <tr>\n",
       "      <th>73350</th>\n",
       "      <td>921231</td>\n",
       "      <td>0</td>\n",
       "      <td>10</td>\n",
       "      <td>0</td>\n",
       "      <td>0</td>\n",
       "      <td>0</td>\n",
       "      <td>9</td>\n",
       "      <td>0.0</td>\n",
       "      <td>0.0</td>\n",
       "      <td>0.0</td>\n",
       "      <td>1.0</td>\n",
       "      <td>0.0</td>\n",
       "      <td>101.0</td>\n",
       "      <td>25.0</td>\n",
       "      <td>1.095745</td>\n",
       "      <td>103.0</td>\n",
       "      <td>1</td>\n",
       "      <td>0</td>\n",
       "      <td>-1.0</td>\n",
       "      <td>0.0000</td>\n",
       "      <td>1.0</td>\n",
       "      <td>9</td>\n",
       "      <td>0</td>\n",
       "      <td>0</td>\n",
       "      <td>0.0</td>\n",
       "      <td>0.0</td>\n",
       "      <td>0.0</td>\n",
       "      <td>0.0</td>\n",
       "      <td>0.0</td>\n",
       "      <td>0.0</td>\n",
       "      <td>0</td>\n",
       "      <td>0.0</td>\n",
       "      <td>0.0</td>\n",
       "      <td>0.0</td>\n",
       "      <td>0.0</td>\n",
       "      <td>1</td>\n",
       "      <td>0.0</td>\n",
       "      <td>-1</td>\n",
       "      <td>0.0</td>\n",
       "      <td>0.0</td>\n",
       "      <td>-1</td>\n",
       "      <td>1.0</td>\n",
       "      <td>0.0</td>\n",
       "      <td>103.0</td>\n",
       "      <td>1.0</td>\n",
       "      <td>0.0</td>\n",
       "      <td>-1.0</td>\n",
       "      <td>0.0</td>\n",
       "      <td>-1.000000</td>\n",
       "      <td>0.0</td>\n",
       "      <td>0.0</td>\n",
       "      <td>0.0</td>\n",
       "      <td>0.0</td>\n",
       "      <td>0.0</td>\n",
       "      <td>0.00</td>\n",
       "      <td>0.111111</td>\n",
       "      <td>0.000000</td>\n",
       "      <td>0.0</td>\n",
       "      <td>11.444444</td>\n",
       "      <td>0.000000</td>\n",
       "      <td>0.0</td>\n",
       "      <td>1.0</td>\n",
       "      <td>-2.0</td>\n",
       "      <td>-75.0</td>\n",
       "      <td>1.0</td>\n",
       "      <td>0.0</td>\n",
       "      <td>0.000000</td>\n",
       "      <td>0.000000</td>\n",
       "      <td>2.0</td>\n",
       "      <td>1.0</td>\n",
       "      <td>0.000999</td>\n",
       "      <td>0</td>\n",
       "      <td>0.0</td>\n",
       "      <td>0.0</td>\n",
       "      <td>1.000000</td>\n",
       "      <td>0.0</td>\n",
       "      <td>0.0</td>\n",
       "      <td>1.000000</td>\n",
       "      <td>0.0</td>\n",
       "      <td>20.444444</td>\n",
       "      <td>0.0</td>\n",
       "      <td>0.0</td>\n",
       "      <td>9001.0</td>\n",
       "      <td>1001.000000</td>\n",
       "      <td>102.0</td>\n",
       "      <td>1.0</td>\n",
       "      <td>0.0</td>\n",
       "      <td>0.0</td>\n",
       "      <td>-999.0</td>\n",
       "      <td>0.0</td>\n",
       "      <td>0.0</td>\n",
       "      <td>-2.0</td>\n",
       "      <td>0.0</td>\n",
       "      <td>-0.0</td>\n",
       "      <td>0.0</td>\n",
       "      <td>NaN</td>\n",
       "      <td>NaN</td>\n",
       "      <td>NaN</td>\n",
       "      <td>NaN</td>\n",
       "      <td>NaN</td>\n",
       "      <td>NaN</td>\n",
       "    </tr>\n",
       "    <tr>\n",
       "      <th>73351</th>\n",
       "      <td>904908</td>\n",
       "      <td>0</td>\n",
       "      <td>10</td>\n",
       "      <td>1</td>\n",
       "      <td>1</td>\n",
       "      <td>49</td>\n",
       "      <td>9</td>\n",
       "      <td>0.0</td>\n",
       "      <td>0.0</td>\n",
       "      <td>19.0</td>\n",
       "      <td>5.0</td>\n",
       "      <td>3.0</td>\n",
       "      <td>175.0</td>\n",
       "      <td>124.0</td>\n",
       "      <td>1.171975</td>\n",
       "      <td>184.0</td>\n",
       "      <td>5</td>\n",
       "      <td>0</td>\n",
       "      <td>-1.0</td>\n",
       "      <td>-1.0000</td>\n",
       "      <td>5.0</td>\n",
       "      <td>5</td>\n",
       "      <td>1</td>\n",
       "      <td>1</td>\n",
       "      <td>0.0</td>\n",
       "      <td>27.0</td>\n",
       "      <td>39.0</td>\n",
       "      <td>0.0</td>\n",
       "      <td>55.0</td>\n",
       "      <td>66.0</td>\n",
       "      <td>1</td>\n",
       "      <td>3.0</td>\n",
       "      <td>3.0</td>\n",
       "      <td>0.0</td>\n",
       "      <td>0.0</td>\n",
       "      <td>5</td>\n",
       "      <td>3.0</td>\n",
       "      <td>5</td>\n",
       "      <td>3.0</td>\n",
       "      <td>1.0</td>\n",
       "      <td>0</td>\n",
       "      <td>5.0</td>\n",
       "      <td>3.0</td>\n",
       "      <td>184.0</td>\n",
       "      <td>5.0</td>\n",
       "      <td>3.0</td>\n",
       "      <td>5.0</td>\n",
       "      <td>3.0</td>\n",
       "      <td>0.000000</td>\n",
       "      <td>11.0</td>\n",
       "      <td>3.0</td>\n",
       "      <td>31.0</td>\n",
       "      <td>3.0</td>\n",
       "      <td>3.0</td>\n",
       "      <td>0.00</td>\n",
       "      <td>0.555556</td>\n",
       "      <td>0.428571</td>\n",
       "      <td>0.0</td>\n",
       "      <td>20.444444</td>\n",
       "      <td>9.428571</td>\n",
       "      <td>0.0</td>\n",
       "      <td>1.0</td>\n",
       "      <td>0.0</td>\n",
       "      <td>0.0</td>\n",
       "      <td>0.0</td>\n",
       "      <td>0.0</td>\n",
       "      <td>0.444444</td>\n",
       "      <td>0.444444</td>\n",
       "      <td>1.0</td>\n",
       "      <td>6.0</td>\n",
       "      <td>0.200160</td>\n",
       "      <td>0</td>\n",
       "      <td>5.0</td>\n",
       "      <td>-2.0</td>\n",
       "      <td>0.333555</td>\n",
       "      <td>3.0</td>\n",
       "      <td>49.0</td>\n",
       "      <td>48.952048</td>\n",
       "      <td>0.0</td>\n",
       "      <td>29.444444</td>\n",
       "      <td>0.0</td>\n",
       "      <td>0.0</td>\n",
       "      <td>5001.0</td>\n",
       "      <td>0.075772</td>\n",
       "      <td>176.0</td>\n",
       "      <td>5.0</td>\n",
       "      <td>0.0</td>\n",
       "      <td>0.0</td>\n",
       "      <td>-999.0</td>\n",
       "      <td>0.0</td>\n",
       "      <td>31.0</td>\n",
       "      <td>0.0</td>\n",
       "      <td>0.0</td>\n",
       "      <td>0.0</td>\n",
       "      <td>0.0</td>\n",
       "      <td>NaN</td>\n",
       "      <td>NaN</td>\n",
       "      <td>NaN</td>\n",
       "      <td>NaN</td>\n",
       "      <td>NaN</td>\n",
       "      <td>NaN</td>\n",
       "    </tr>\n",
       "    <tr>\n",
       "      <th>73352</th>\n",
       "      <td>460291</td>\n",
       "      <td>0</td>\n",
       "      <td>10</td>\n",
       "      <td>1</td>\n",
       "      <td>0</td>\n",
       "      <td>72</td>\n",
       "      <td>8</td>\n",
       "      <td>0.0</td>\n",
       "      <td>0.0</td>\n",
       "      <td>0.0</td>\n",
       "      <td>7.0</td>\n",
       "      <td>6.0</td>\n",
       "      <td>284.0</td>\n",
       "      <td>205.0</td>\n",
       "      <td>1.059701</td>\n",
       "      <td>284.0</td>\n",
       "      <td>7</td>\n",
       "      <td>0</td>\n",
       "      <td>-1.0</td>\n",
       "      <td>-1.6875</td>\n",
       "      <td>9.0</td>\n",
       "      <td>1</td>\n",
       "      <td>1</td>\n",
       "      <td>1</td>\n",
       "      <td>0.0</td>\n",
       "      <td>21.0</td>\n",
       "      <td>2.0</td>\n",
       "      <td>0.0</td>\n",
       "      <td>193.0</td>\n",
       "      <td>195.0</td>\n",
       "      <td>1</td>\n",
       "      <td>6.0</td>\n",
       "      <td>4.0</td>\n",
       "      <td>0.0</td>\n",
       "      <td>0.0</td>\n",
       "      <td>5</td>\n",
       "      <td>4.0</td>\n",
       "      <td>5</td>\n",
       "      <td>4.0</td>\n",
       "      <td>1.0</td>\n",
       "      <td>1</td>\n",
       "      <td>3.5</td>\n",
       "      <td>3.0</td>\n",
       "      <td>142.0</td>\n",
       "      <td>3.5</td>\n",
       "      <td>3.0</td>\n",
       "      <td>3.5</td>\n",
       "      <td>3.0</td>\n",
       "      <td>0.166667</td>\n",
       "      <td>1.0</td>\n",
       "      <td>2.0</td>\n",
       "      <td>25.0</td>\n",
       "      <td>2.0</td>\n",
       "      <td>2.0</td>\n",
       "      <td>5256.25</td>\n",
       "      <td>0.875000</td>\n",
       "      <td>0.857143</td>\n",
       "      <td>0.0</td>\n",
       "      <td>35.500000</td>\n",
       "      <td>27.857143</td>\n",
       "      <td>0.0</td>\n",
       "      <td>1.0</td>\n",
       "      <td>0.0</td>\n",
       "      <td>-39.0</td>\n",
       "      <td>0.0</td>\n",
       "      <td>0.0</td>\n",
       "      <td>0.875000</td>\n",
       "      <td>0.875000</td>\n",
       "      <td>0.0</td>\n",
       "      <td>9.0</td>\n",
       "      <td>0.000111</td>\n",
       "      <td>-1</td>\n",
       "      <td>0.0</td>\n",
       "      <td>-2.0</td>\n",
       "      <td>0.000500</td>\n",
       "      <td>0.0</td>\n",
       "      <td>72.0</td>\n",
       "      <td>71.929071</td>\n",
       "      <td>0.0</td>\n",
       "      <td>43.500000</td>\n",
       "      <td>4.0</td>\n",
       "      <td>4.0</td>\n",
       "      <td>1001.0</td>\n",
       "      <td>0.035902</td>\n",
       "      <td>285.0</td>\n",
       "      <td>3.5</td>\n",
       "      <td>0.0</td>\n",
       "      <td>0.0</td>\n",
       "      <td>-999.0</td>\n",
       "      <td>0.0</td>\n",
       "      <td>25.0</td>\n",
       "      <td>0.0</td>\n",
       "      <td>0.0</td>\n",
       "      <td>-0.0</td>\n",
       "      <td>0.0</td>\n",
       "      <td>NaN</td>\n",
       "      <td>NaN</td>\n",
       "      <td>NaN</td>\n",
       "      <td>NaN</td>\n",
       "      <td>NaN</td>\n",
       "      <td>NaN</td>\n",
       "    </tr>\n",
       "  </tbody>\n",
       "</table>\n",
       "</div>"
      ],
      "text/plain": [
       "      user_id  data_weeknum  data_weekstart  label  register_type  \\\n",
       "73348  167777             0              10      0              4   \n",
       "73349  886972             0              10      0              0   \n",
       "73350  921231             0              10      0              0   \n",
       "73351  904908             0              10      1              1   \n",
       "73352  460291             0              10      1              0   \n",
       "\n",
       "       device_type  user_reg_days  user_2daybefore_act_1_count  \\\n",
       "73348          270              9                          0.0   \n",
       "73349            5              9                          0.0   \n",
       "73350            0              9                          0.0   \n",
       "73351           49              9                          0.0   \n",
       "73352           72              8                          0.0   \n",
       "\n",
       "       user_4daybefore_act_page_4_count  user_5daybefore_act_page_1_count  \\\n",
       "73348                               0.0                               0.0   \n",
       "73349                               0.0                               0.0   \n",
       "73350                               0.0                               0.0   \n",
       "73351                               0.0                              19.0   \n",
       "73352                               0.0                               0.0   \n",
       "\n",
       "       user_activity_days_hist  user_activity_days_lastweek  \\\n",
       "73348                      0.0                          0.0   \n",
       "73349                      1.0                          0.0   \n",
       "73350                      1.0                          0.0   \n",
       "73351                      5.0                          3.0   \n",
       "73352                      7.0                          6.0   \n",
       "\n",
       "       user_hist_act_0_count  user_hist_act_author_count  \\\n",
       "73348                    0.0                         0.0   \n",
       "73349                   20.0                         3.0   \n",
       "73350                  101.0                        25.0   \n",
       "73351                  175.0                       124.0   \n",
       "73352                  284.0                       205.0   \n",
       "\n",
       "       user_hist_act_video_meancount  user_hist_actcount  user_hist_launchday  \\\n",
       "73348                       0.000000                 0.0                    1   \n",
       "73349                       2.153846                28.0                    2   \n",
       "73350                       1.095745               103.0                    1   \n",
       "73351                       1.171975               184.0                    5   \n",
       "73352                       1.059701               284.0                    7   \n",
       "\n",
       "       user_hist_video_activity_types  user_kurt_continue_activity_days_hist  \\\n",
       "73348                               0                                    0.0   \n",
       "73349                               0                                   -1.0   \n",
       "73350                               0                                   -1.0   \n",
       "73351                               0                                   -1.0   \n",
       "73352                               0                                   -1.0   \n",
       "\n",
       "       user_kurt_no_launch_days_6daywin  user_last_act_date  \\\n",
       "73348                            0.0000                -1.0   \n",
       "73349                            0.0000                 1.0   \n",
       "73350                            0.0000                 1.0   \n",
       "73351                           -1.0000                 5.0   \n",
       "73352                           -1.6875                 9.0   \n",
       "\n",
       "       user_last_launch_dist  user_lastweek_act  user_lastweek_act_0  \\\n",
       "73348                      9                  0                    0   \n",
       "73349                      7                  0                    0   \n",
       "73350                      9                  0                    0   \n",
       "73351                      5                  1                    1   \n",
       "73352                      1                  1                    1   \n",
       "\n",
       "       user_lastweek_act_2_count  user_lastweek_act_page_1_count  \\\n",
       "73348                        0.0                             0.0   \n",
       "73349                        0.0                             0.0   \n",
       "73350                        0.0                             0.0   \n",
       "73351                        0.0                            27.0   \n",
       "73352                        0.0                            21.0   \n",
       "\n",
       "       user_lastweek_act_page_2_count  user_lastweek_act_page_3_count  \\\n",
       "73348                             0.0                             0.0   \n",
       "73349                             0.0                             0.0   \n",
       "73350                             0.0                             0.0   \n",
       "73351                            39.0                             0.0   \n",
       "73352                             2.0                             0.0   \n",
       "\n",
       "       user_lastweek_act_video_uniquecount  user_lastweek_actcount  \\\n",
       "73348                                  0.0                     0.0   \n",
       "73349                                  0.0                     0.0   \n",
       "73350                                  0.0                     0.0   \n",
       "73351                                 55.0                    66.0   \n",
       "73352                                193.0                   195.0   \n",
       "\n",
       "       user_lastweek_launch  user_lastweek_launchday  \\\n",
       "73348                     0                      0.0   \n",
       "73349                     1                      1.0   \n",
       "73350                     0                      0.0   \n",
       "73351                     1                      3.0   \n",
       "73352                     1                      6.0   \n",
       "\n",
       "       user_max_continue_activity_days_lastweek  \\\n",
       "73348                                       0.0   \n",
       "73349                                       0.0   \n",
       "73350                                       0.0   \n",
       "73351                                       3.0   \n",
       "73352                                       4.0   \n",
       "\n",
       "       user_max_continue_createvideo_days_4daywin  \\\n",
       "73348                                         0.0   \n",
       "73349                                         0.0   \n",
       "73350                                         0.0   \n",
       "73351                                         0.0   \n",
       "73352                                         0.0   \n",
       "\n",
       "       user_max_continue_createvideo_days_hist  \\\n",
       "73348                                      0.0   \n",
       "73349                                      0.0   \n",
       "73350                                      0.0   \n",
       "73351                                      0.0   \n",
       "73352                                      0.0   \n",
       "\n",
       "       user_max_continue_launch_days_hist  \\\n",
       "73348                                   1   \n",
       "73349                                   1   \n",
       "73350                                   1   \n",
       "73351                                   5   \n",
       "73352                                   5   \n",
       "\n",
       "       user_max_continue_launch_days_lastweek  \\\n",
       "73348                                     0.0   \n",
       "73349                                     1.0   \n",
       "73350                                     0.0   \n",
       "73351                                     3.0   \n",
       "73352                                     4.0   \n",
       "\n",
       "       user_max_continue_launch_times_hist  \\\n",
       "73348                                   -1   \n",
       "73349                                    1   \n",
       "73350                                   -1   \n",
       "73351                                    5   \n",
       "73352                                    5   \n",
       "\n",
       "       user_max_continue_launch_times_lastweek  \\\n",
       "73348                                      0.0   \n",
       "73349                                     -1.0   \n",
       "73350                                      0.0   \n",
       "73351                                      3.0   \n",
       "73352                                      4.0   \n",
       "\n",
       "       user_max_launch_daytimes_lastweek  user_max_no_launch_days_hist  \\\n",
       "73348                                0.0                            -1   \n",
       "73349                               -1.0                             1   \n",
       "73350                                0.0                            -1   \n",
       "73351                                1.0                             0   \n",
       "73352                                1.0                             1   \n",
       "\n",
       "       user_mean_continue_activity_days_hist  \\\n",
       "73348                                    0.0   \n",
       "73349                                    1.0   \n",
       "73350                                    1.0   \n",
       "73351                                    5.0   \n",
       "73352                                    3.5   \n",
       "\n",
       "       user_mean_continue_activity_days_lastweek  \\\n",
       "73348                                        0.0   \n",
       "73349                                        0.0   \n",
       "73350                                        0.0   \n",
       "73351                                        3.0   \n",
       "73352                                        3.0   \n",
       "\n",
       "       user_mean_continue_activity_times_hist  \\\n",
       "73348                                     0.0   \n",
       "73349                                    28.0   \n",
       "73350                                   103.0   \n",
       "73351                                   184.0   \n",
       "73352                                   142.0   \n",
       "\n",
       "       user_mean_continue_launch_days_hist  \\\n",
       "73348                                  1.0   \n",
       "73349                                  1.0   \n",
       "73350                                  1.0   \n",
       "73351                                  5.0   \n",
       "73352                                  3.5   \n",
       "\n",
       "       user_mean_continue_launch_days_lastweek  \\\n",
       "73348                                      0.0   \n",
       "73349                                      1.0   \n",
       "73350                                      0.0   \n",
       "73351                                      3.0   \n",
       "73352                                      3.0   \n",
       "\n",
       "       user_mean_continue_launch_times_hist  \\\n",
       "73348                                  -1.0   \n",
       "73349                                   1.0   \n",
       "73350                                  -1.0   \n",
       "73351                                   5.0   \n",
       "73352                                   3.5   \n",
       "\n",
       "       user_mean_continue_launch_times_lastweek  \\\n",
       "73348                                       0.0   \n",
       "73349                                      -1.0   \n",
       "73350                                       0.0   \n",
       "73351                                       3.0   \n",
       "73352                                       3.0   \n",
       "\n",
       "       user_mean_no_launch_days_hist  user_min_activity_daytimes_lastweek  \\\n",
       "73348                      -1.000000                                  0.0   \n",
       "73349                       1.000000                                  0.0   \n",
       "73350                      -1.000000                                  0.0   \n",
       "73351                       0.000000                                 11.0   \n",
       "73352                       0.166667                                  1.0   \n",
       "\n",
       "       user_min_continue_activity_days_lastweek  \\\n",
       "73348                                       0.0   \n",
       "73349                                       0.0   \n",
       "73350                                       0.0   \n",
       "73351                                       3.0   \n",
       "73352                                       2.0   \n",
       "\n",
       "       user_min_continue_activity_times_5daywin  \\\n",
       "73348                                       0.0   \n",
       "73349                                       0.0   \n",
       "73350                                       0.0   \n",
       "73351                                      31.0   \n",
       "73352                                      25.0   \n",
       "\n",
       "       user_min_continue_launch_days_lastweek  \\\n",
       "73348                                     0.0   \n",
       "73349                                     1.0   \n",
       "73350                                     0.0   \n",
       "73351                                     3.0   \n",
       "73352                                     2.0   \n",
       "\n",
       "       user_min_continue_launch_times_lastweek  \\\n",
       "73348                                      0.0   \n",
       "73349                                     -1.0   \n",
       "73350                                      0.0   \n",
       "73351                                      3.0   \n",
       "73352                                      2.0   \n",
       "\n",
       "       user_var_continue_activity_times_lastweek  user_hist_launch_freq  \\\n",
       "73348                                       0.00               0.111111   \n",
       "73349                                       0.00               0.222222   \n",
       "73350                                       0.00               0.111111   \n",
       "73351                                       0.00               0.555556   \n",
       "73352                                    5256.25               0.875000   \n",
       "\n",
       "       user_lastweek_launch_freq  user_lastweek_video_freq  \\\n",
       "73348                   0.000000                       0.0   \n",
       "73349                   0.142857                       0.0   \n",
       "73350                   0.000000                       0.0   \n",
       "73351                   0.428571                       0.0   \n",
       "73352                   0.857143                       0.0   \n",
       "\n",
       "       user_hist_act_freq  user_lastweek_act_0_freq  user_lastweek_act_2_freq  \\\n",
       "73348            0.000000                  0.000000                       0.0   \n",
       "73349            3.111111                  0.000000                       0.0   \n",
       "73350           11.444444                  0.000000                       0.0   \n",
       "73351           20.444444                  9.428571                       0.0   \n",
       "73352           35.500000                 27.857143                       0.0   \n",
       "\n",
       "       user_activity_div_launch_days_hist  \\\n",
       "73348                                 0.0   \n",
       "73349                                 0.5   \n",
       "73350                                 1.0   \n",
       "73351                                 1.0   \n",
       "73352                                 1.0   \n",
       "\n",
       "       user_lastweek_hist_act_3_count_dist  \\\n",
       "73348                                  0.0   \n",
       "73349                                  0.0   \n",
       "73350                                 -2.0   \n",
       "73351                                  0.0   \n",
       "73352                                  0.0   \n",
       "\n",
       "       user_lastweek_hist_act_page_3_count_dist  \\\n",
       "73348                                       0.0   \n",
       "73349                                     -19.0   \n",
       "73350                                     -75.0   \n",
       "73351                                       0.0   \n",
       "73352                                     -39.0   \n",
       "\n",
       "       user_max_no_activity_days_lastweek_hist_dist  \\\n",
       "73348                                           0.0   \n",
       "73349                                           1.0   \n",
       "73350                                           1.0   \n",
       "73351                                           0.0   \n",
       "73352                                           0.0   \n",
       "\n",
       "       user_mean_createvideo_date_lastweek_hist_dist  \\\n",
       "73348                                            0.0   \n",
       "73349                                            0.0   \n",
       "73350                                            0.0   \n",
       "73351                                            0.0   \n",
       "73352                                            0.0   \n",
       "\n",
       "       user_launch_range_percent  user_activity_range_percent  \\\n",
       "73348                   0.000000                     0.000000   \n",
       "73349                   0.222222                     0.000000   \n",
       "73350                   0.000000                     0.000000   \n",
       "73351                   0.444444                     0.444444   \n",
       "73352                   0.875000                     0.875000   \n",
       "\n",
       "       (register_type-user_lastweek_hist_act_3_count_dist)  \\\n",
       "73348                                                4.0     \n",
       "73349                                                0.0     \n",
       "73350                                                2.0     \n",
       "73351                                                1.0     \n",
       "73352                                                0.0     \n",
       "\n",
       "       (register_type+user_last_act_date)  (register_type/user_last_act_date)  \\\n",
       "73348                                 3.0                           -4.005005   \n",
       "73349                                 1.0                            0.000999   \n",
       "73350                                 1.0                            0.000999   \n",
       "73351                                 6.0                            0.200160   \n",
       "73352                                 9.0                            0.000111   \n",
       "\n",
       "       (register_type-user_lastweek_launch)  \\\n",
       "73348                                     4   \n",
       "73349                                    -1   \n",
       "73350                                     0   \n",
       "73351                                     0   \n",
       "73352                                    -1   \n",
       "\n",
       "       (register_type*user_mean_continue_activity_days_hist)  \\\n",
       "73348                                                0.0       \n",
       "73349                                                0.0       \n",
       "73350                                                0.0       \n",
       "73351                                                5.0       \n",
       "73352                                                0.0       \n",
       "\n",
       "       (register_type-user_min_continue_launch_times_lastweek)  \\\n",
       "73348                                                4.0         \n",
       "73349                                                1.0         \n",
       "73350                                                0.0         \n",
       "73351                                               -2.0         \n",
       "73352                                               -2.0         \n",
       "\n",
       "       (register_type/user_min_continue_launch_times_lastweek)  \\\n",
       "73348                                        4001.000000         \n",
       "73349                                          -0.001001         \n",
       "73350                                           1.000000         \n",
       "73351                                           0.333555         \n",
       "73352                                           0.000500         \n",
       "\n",
       "       (register_type*user_lastweek_launchday)  \\\n",
       "73348                                      0.0   \n",
       "73349                                      0.0   \n",
       "73350                                      0.0   \n",
       "73351                                      3.0   \n",
       "73352                                      0.0   \n",
       "\n",
       "       (device_type*user_activity_div_launch_days_hist)  \\\n",
       "73348                                               0.0   \n",
       "73349                                               2.5   \n",
       "73350                                               0.0   \n",
       "73351                                              49.0   \n",
       "73352                                              72.0   \n",
       "\n",
       "       (device_type/user_lastweek_launch)  \\\n",
       "73348                       270001.000000   \n",
       "73349                            4.996004   \n",
       "73350                            1.000000   \n",
       "73351                           48.952048   \n",
       "73352                           71.929071   \n",
       "\n",
       "       (user_reg_days*user_lastweek_act_2_freq)  \\\n",
       "73348                                       0.0   \n",
       "73349                                       0.0   \n",
       "73350                                       0.0   \n",
       "73351                                       0.0   \n",
       "73352                                       0.0   \n",
       "\n",
       "       (user_reg_days+user_hist_act_freq)  \\\n",
       "73348                            9.000000   \n",
       "73349                           12.111111   \n",
       "73350                           20.444444   \n",
       "73351                           29.444444   \n",
       "73352                           43.500000   \n",
       "\n",
       "       (user_lastweek_launchday-user_min_continue_launch_days_lastweek)  \\\n",
       "73348                                                0.0                  \n",
       "73349                                                0.0                  \n",
       "73350                                                0.0                  \n",
       "73351                                                0.0                  \n",
       "73352                                                4.0                  \n",
       "\n",
       "       (user_lastweek_launchday-user_min_continue_launch_times_lastweek)  \\\n",
       "73348                                                0.0                   \n",
       "73349                                                2.0                   \n",
       "73350                                                0.0                   \n",
       "73351                                                0.0                   \n",
       "73352                                                4.0                   \n",
       "\n",
       "       (user_last_launch_dist/user_lastweek_act_2_freq)  \\\n",
       "73348                                            9001.0   \n",
       "73349                                            7001.0   \n",
       "73350                                            9001.0   \n",
       "73351                                            5001.0   \n",
       "73352                                            1001.0   \n",
       "\n",
       "       (user_hist_launchday/user_lastweek_actcount)  \\\n",
       "73348                                   1001.000000   \n",
       "73349                                   2001.000000   \n",
       "73350                                   1001.000000   \n",
       "73351                                      0.075772   \n",
       "73352                                      0.035902   \n",
       "\n",
       "       (user_hist_act_0_count-user_kurt_continue_activity_days_hist)  \\\n",
       "73348                                                0.0               \n",
       "73349                                               21.0               \n",
       "73350                                              102.0               \n",
       "73351                                              176.0               \n",
       "73352                                              285.0               \n",
       "\n",
       "       (user_mean_continue_activity_days_hist-user_hist_video_activity_types)  \\\n",
       "73348                                                0.0                        \n",
       "73349                                                1.0                        \n",
       "73350                                                1.0                        \n",
       "73351                                                5.0                        \n",
       "73352                                                3.5                        \n",
       "\n",
       "       (user_lastweek_act*user_max_continue_createvideo_days_4daywin)  \\\n",
       "73348                                                0.0                \n",
       "73349                                                0.0                \n",
       "73350                                                0.0                \n",
       "73351                                                0.0                \n",
       "73352                                                0.0                \n",
       "\n",
       "       (user_lastweek_act_page_3_count*user_activity_days_lastweek)  \\\n",
       "73348                                                0.0              \n",
       "73349                                                0.0              \n",
       "73350                                                0.0              \n",
       "73351                                                0.0              \n",
       "73352                                                0.0              \n",
       "\n",
       "       (user_kurt_continue_activity_days_hist/user_hist_video_activity_types)  \\\n",
       "73348                                                1.0                        \n",
       "73349                                             -999.0                        \n",
       "73350                                             -999.0                        \n",
       "73351                                             -999.0                        \n",
       "73352                                             -999.0                        \n",
       "\n",
       "       (user_launch_range_percent*user_lastweek_act_2_freq)  \\\n",
       "73348                                                0.0      \n",
       "73349                                                0.0      \n",
       "73350                                                0.0      \n",
       "73351                                                0.0      \n",
       "73352                                                0.0      \n",
       "\n",
       "       (user_min_continue_activity_times_5daywin*user_lastweek_launch)  \\\n",
       "73348                                                0.0                 \n",
       "73349                                                0.0                 \n",
       "73350                                                0.0                 \n",
       "73351                                               31.0                 \n",
       "73352                                               25.0                 \n",
       "\n",
       "       (user_lastweek_hist_act_3_count_dist-user_2daybefore_act_1_count)  \\\n",
       "73348                                                0.0                   \n",
       "73349                                                0.0                   \n",
       "73350                                               -2.0                   \n",
       "73351                                                0.0                   \n",
       "73352                                                0.0                   \n",
       "\n",
       "       (user_max_continue_createvideo_days_4daywin*user_lastweek_act_2_count)  \\\n",
       "73348                                                0.0                        \n",
       "73349                                                0.0                        \n",
       "73350                                                0.0                        \n",
       "73351                                                0.0                        \n",
       "73352                                                0.0                        \n",
       "\n",
       "       (user_2daybefore_act_1_count*user_lastweek_hist_act_page_3_count_dist)  \\\n",
       "73348                                                0.0                        \n",
       "73349                                               -0.0                        \n",
       "73350                                               -0.0                        \n",
       "73351                                                0.0                        \n",
       "73352                                               -0.0                        \n",
       "\n",
       "       (user_max_continue_createvideo_days_hist-user_hist_video_activity_types)  \\\n",
       "73348                                                0.0                          \n",
       "73349                                                0.0                          \n",
       "73350                                                0.0                          \n",
       "73351                                                0.0                          \n",
       "73352                                                0.0                          \n",
       "\n",
       "       launch_r_type_rate  launch_d_type_rate  video_r_type_rate  \\\n",
       "73348                 NaN                 NaN                NaN   \n",
       "73349                 NaN                 NaN                NaN   \n",
       "73350                 NaN                 NaN                NaN   \n",
       "73351                 NaN                 NaN                NaN   \n",
       "73352                 NaN                 NaN                NaN   \n",
       "\n",
       "       video_d_type_rate  device_r_type_rate  device_d_type_rate  \n",
       "73348                NaN                 NaN                 NaN  \n",
       "73349                NaN                 NaN                 NaN  \n",
       "73350                NaN                 NaN                 NaN  \n",
       "73351                NaN                 NaN                 NaN  \n",
       "73352                NaN                 NaN                 NaN  "
      ]
     },
     "execution_count": 109,
     "metadata": {},
     "output_type": "execute_result"
    }
   ],
   "source": [
    "df.shape\n",
    "df[df.launch_d_type_rate.isnull()].head()"
   ]
  },
  {
   "cell_type": "code",
   "execution_count": 103,
   "metadata": {
    "collapsed": true
   },
   "outputs": [
    {
     "name": "stdout",
     "output_type": "stream",
     "text": [
      "(249766, 8)\n"
     ]
    },
    {
     "ename": "AssertionError",
     "evalue": "",
     "output_type": "error",
     "traceback": [
      "\u001b[0;31m---------------------------------------------------------------------------\u001b[0m",
      "\u001b[0;31mAssertionError\u001b[0m                            Traceback (most recent call last)",
      "\u001b[0;32m<ipython-input-103-a8f8dfca5fda>\u001b[0m in \u001b[0;36m<module>\u001b[0;34m()\u001b[0m\n\u001b[1;32m      4\u001b[0m \u001b[0mprint\u001b[0m\u001b[0;34m(\u001b[0m\u001b[0mnew_fea\u001b[0m\u001b[0;34m.\u001b[0m\u001b[0mshape\u001b[0m\u001b[0;34m)\u001b[0m\u001b[0;34m\u001b[0m\u001b[0m\n\u001b[1;32m      5\u001b[0m \u001b[0mdf\u001b[0m \u001b[0;34m=\u001b[0m \u001b[0mdf\u001b[0m\u001b[0;34m.\u001b[0m\u001b[0mmerge\u001b[0m\u001b[0;34m(\u001b[0m\u001b[0mnew_fea\u001b[0m\u001b[0;34m,\u001b[0m \u001b[0mon\u001b[0m\u001b[0;34m=\u001b[0m\u001b[0;34m[\u001b[0m\u001b[0;34m'user_id'\u001b[0m\u001b[0;34m,\u001b[0m \u001b[0;34m'data_weekstart'\u001b[0m\u001b[0;34m]\u001b[0m\u001b[0;34m,\u001b[0m \u001b[0mhow\u001b[0m\u001b[0;34m=\u001b[0m\u001b[0;34m'left'\u001b[0m\u001b[0;34m)\u001b[0m\u001b[0;34m\u001b[0m\u001b[0m\n\u001b[0;32m----> 6\u001b[0;31m \u001b[0;32massert\u001b[0m\u001b[0;34m(\u001b[0m\u001b[0mdf\u001b[0m\u001b[0;34m.\u001b[0m\u001b[0misnull\u001b[0m\u001b[0;34m(\u001b[0m\u001b[0;34m)\u001b[0m\u001b[0;34m.\u001b[0m\u001b[0msum\u001b[0m\u001b[0;34m(\u001b[0m\u001b[0;34m)\u001b[0m\u001b[0;34m.\u001b[0m\u001b[0msum\u001b[0m\u001b[0;34m(\u001b[0m\u001b[0;34m)\u001b[0m \u001b[0;34m==\u001b[0m \u001b[0;36m0\u001b[0m\u001b[0;34m)\u001b[0m\u001b[0;34m\u001b[0m\u001b[0m\n\u001b[0m\u001b[1;32m      7\u001b[0m \u001b[0mprint\u001b[0m\u001b[0;34m(\u001b[0m\u001b[0mdf\u001b[0m\u001b[0;34m.\u001b[0m\u001b[0mshape\u001b[0m\u001b[0;34m)\u001b[0m\u001b[0;34m\u001b[0m\u001b[0m\n",
      "\u001b[0;31mAssertionError\u001b[0m: "
     ]
    }
   ],
   "source": [
    "new_fea = pd.read_csv('./features/b/type_rate.csv')\n",
    "new_fea['user_id'] = new_fea['user_id'].apply(lambda x:str(x)+'_a')\n",
    "new_fea = pd.concat([new_fea, pd.read_csv('./features/b/type_rate_b.csv')])\n",
    "print(new_fea.shape)\n",
    "cand_cols = cand_cols + ['launch_r_type_rate','launch_d_type_rate','video_r_type_rate','video_d_type_rate','device_r_type_rate','device_d_type_rate']\n",
    "df = df.merge(new_fea, on=['user_id', 'data_weekstart'], how='left')\n",
    "assert(df.isnull().sum().sum() == 0)\n",
    "print(df.shape)"
   ]
  },
  {
   "cell_type": "code",
   "execution_count": 18,
   "metadata": {
    "collapsed": true
   },
   "outputs": [],
   "source": [
    "df.to_csv('./features/features_zero.csv', index=None)"
   ]
  },
  {
   "cell_type": "code",
   "execution_count": null,
   "metadata": {
    "collapsed": false
   },
   "outputs": [],
   "source": [
    "df.shape\n",
    "df.head()"
   ]
  },
  {
   "cell_type": "code",
   "execution_count": 112,
   "metadata": {
    "collapsed": false
   },
   "outputs": [],
   "source": [
    "df['user_id'] = df.user_id.astype(str)\n",
    "\n",
    "train = df[(df.data_weeknum < df.data_weeknum.max()-1)]\n",
    "val = df[(df.data_weeknum == df.data_weeknum.max()-1) & (df.user_id.map(lambda x:'_a' not in x))]\n",
    "test = df[df.data_weeknum == df.data_weeknum.max()]\n",
    "trainval = df[df.data_weeknum <df.data_weeknum.max()]"
   ]
  },
  {
   "cell_type": "markdown",
   "metadata": {},
   "source": [
    "## XGB feature selection"
   ]
  },
  {
   "cell_type": "code",
   "execution_count": 30,
   "metadata": {
    "collapsed": false
   },
   "outputs": [
    {
     "data": {
      "text/plain": [
       "83"
      ]
     },
     "execution_count": 30,
     "metadata": {},
     "output_type": "execute_result"
    }
   ],
   "source": [
    "len(cols)\n",
    "# len(cols2)\n",
    "# len(cand_cols)"
   ]
  },
  {
   "cell_type": "code",
   "execution_count": 31,
   "metadata": {
    "collapsed": true
   },
   "outputs": [],
   "source": [
    "def evalerror(preds, dtrain):\n",
    "    labels = dtrain.get_label()\n",
    "    f1s = []\n",
    "    for limit in np.arange(0.4, 0.44, 0.01):\n",
    "        pred = [int(i>limit) for i in preds]\n",
    "        f1s.append(f1_score(labels, pred))\n",
    "    \n",
    "    \n",
    "#     pred = [1. if i>0.45 else 0. for i in preds]\n",
    "    # return a pair metric_name, result\n",
    "    # since preds are margin(before logistic transformation, cutoff at 0)\n",
    "    return 'f1', -1*max(f1s) #-1*f1_score(labels, pred)"
   ]
  },
  {
   "cell_type": "code",
   "execution_count": 110,
   "metadata": {
    "collapsed": true
   },
   "outputs": [],
   "source": [
    "# df = df.fillna(0)"
   ]
  },
  {
   "cell_type": "code",
   "execution_count": 114,
   "metadata": {
    "collapsed": false
   },
   "outputs": [
    {
     "data": {
      "text/plain": [
       "83"
      ]
     },
     "execution_count": 114,
     "metadata": {},
     "output_type": "execute_result"
    },
    {
     "name": "stdout",
     "output_type": "stream",
     "text": [
      "[0]\ttrain-auc:0.867672\tval-auc:0.881738\ttrain-f1:-0.694072\tval-f1:-0.656362\n",
      "Multiple eval metrics have been passed: 'val-f1' will be used for early stopping.\n",
      "\n",
      "Will train until val-f1 hasn't improved in 50 rounds.\n",
      "[100]\ttrain-auc:0.881089\tval-auc:0.889987\ttrain-f1:-0.813392\tval-f1:-0.81104\n",
      "Stopping. Best iteration:\n",
      "[143]\ttrain-auc:0.882654\tval-auc:0.889807\ttrain-f1:-0.814377\tval-f1:-0.812283\n",
      "\n"
     ]
    }
   ],
   "source": [
    "params = {\n",
    "        'objective': 'binary:logistic',\n",
    "        'eta': 0.05,\n",
    "#         'colsample_bytree': 0.3,\n",
    "#         'subsample':0.9,\n",
    "        'min_child_weight': 17,\n",
    "        'max_depth': 5,\n",
    "        'gamma':0.1,\n",
    "        'seed': 2018,\n",
    "        'missing': -1,\n",
    "        'n_jobs':-1,\n",
    "        'eval_metric':'auc',\n",
    "#         'tree_method':'gpu_hist',\n",
    "#         'max_bin':64,\n",
    "#         'gpu_device':0\n",
    "}\n",
    "# f1 0.808476\n",
    "len(cols)\n",
    "dtrain = xgb.DMatrix(train[cols], label=train[['label']])\n",
    "dval = xgb.DMatrix(val[cols], label=val[['label']])\n",
    "model = xgb.train(params, dtrain, num_boost_round=20000, early_stopping_rounds=50, evals=[(dtrain, 'train'),(dval, 'val')],feval=evalerror,verbose_eval=100)"
   ]
  },
  {
   "cell_type": "code",
   "execution_count": null,
   "metadata": {
    "collapsed": true
   },
   "outputs": [],
   "source": [
    "usecols:[132]\ttrain-auc:0.886595\tval-auc:0.888315\ttrain-f1:-0.816726\tval-f1:-0.807882\n",
    "cols(after feature selection):[108]\ttrain-auc:0.884968\tval-auc:0.888525\ttrain-f1:-0.815171\tval-f1:-0.808063\n",
    "cols(after zero):[106]\ttrain-auc:0.885581\tval-auc:0.888294\ttrain-f1:-0.815903\tval-f1:-0.807834\n",
    "                    \n",
    "cols(after group2 zero):"
   ]
  },
  {
   "cell_type": "code",
   "execution_count": 61,
   "metadata": {
    "collapsed": false,
    "scrolled": true
   },
   "outputs": [
    {
     "name": "stdout",
     "output_type": "stream",
     "text": [
      "\n"
     ]
    }
   ],
   "source": [
    "# feature_performance = {'set_group_0':0.805885,'set_group_1':0.806893,'set_group_2':0.806073,'trend_1':0.807128,'trend_2':0.807431,'trend_3':0.807076,'trend_4':0.807552,'trend_5':0.807503,'trend_6':0.80743,'trend_7':0.807243,'trend_act_0_1':0.807051,'trend_act_0_2':0.807225,'trend_act_0_3':0.808034,'trend_act_0_4':0.807852,'trend_act_0_5':0.807707,'trend_act_0_6':0.807914,'trend_act_0_7':0.806928,'trend_act_1_1':0.807652,'trend_act_1_2':0.807396,'trend_act_1_3':0.807496,'trend_act_1_4':0.807734,'trend_act_1_5':0.808187,'trend_act_1_6':0.807707,'trend_act_1_7':0.807724,'trend_act_2_1':0.807667,'trend_act_2_2':0.807745,'trend_act_2_3':0.807896,'trend_act_2_4':0.807481,'trend_act_2_5':0.807648,'trend_act_2_6':0.807811,'trend_act_2_7':0.807993,'trend_act_3_1':0.807671,'trend_act_3_2':0.807298,'trend_act_3_3':0.807583,'trend_act_3_4':0.807622,'trend_act_3_5':0.80759,'trend_act_3_6':0.807769,'trend_act_3_7':0.807606,'trend_act_4_1':0.807825,'trend_act_4_2':0.807825,'trend_act_4_3':0.807825,'trend_act_4_4':0.807825,'trend_act_4_5':0.807825,'trend_act_4_6':0.807825,'trend_act_4_7':0.807825,'trend_act_5_1':0.807825,'trend_act_5_2':0.807825,'trend_act_5_3':0.807825,'trend_act_5_4':0.807825,'trend_act_5_5':0.807825,'trend_act_5_6':0.807825,'trend_act_5_7':0.807825,'trend_page_0_1':0.807789,'trend_page_0_2':0.807067,'trend_page_0_3':0.806947,'trend_page_0_4':0.80757,'trend_page_0_5':0.807045,'trend_page_0_6':0.807595,'trend_page_0_7':0.807646,'trend_page_1_1':0.807512,'trend_page_1_2':0.807509,'trend_page_1_3':0.807487,'trend_page_1_4':0.80765,'trend_page_1_5':0.807631,'trend_page_1_6':0.807337,'trend_page_1_7':0.8073,'trend_page_2_1':0.806778,'trend_page_2_2':0.807309,'trend_page_2_3':0.807297,'trend_page_2_4':0.807183,'trend_page_2_5':0.807752,'trend_page_2_6':0.807502,'trend_page_2_7':0.807527,'trend_page_3_1':0.807844,'trend_page_3_2':0.807319,'trend_page_3_3':0.807231,'trend_page_3_4':0.807522,'trend_page_3_5':0.807649,'trend_page_3_6':0.807407,'trend_page_3_7':0.80737,'trend_page_4_1':0.80734,'trend_page_4_2':0.8076,'trend_page_4_3':0.807466,'trend_page_4_4':0.807888,'trend_page_4_5':0.807263,'trend_page_4_6':0.807843,'trend_page_4_7':0.807588}\n",
    "feature_performance = {}\n",
    "for i in tqdm_notebook(cand_cols):\n",
    "    tmp_cols = cols.copy()\n",
    "    tmp_cols.append(i)\n",
    "    assert(len(tmp_cols) == 84)\n",
    "    dtrain = xgb.DMatrix(train[tmp_cols], label=train[['label']])\n",
    "    dval = xgb.DMatrix(val[tmp_cols], label=val[['label']])\n",
    "    model = xgb.train(params, dtrain, num_boost_round=100, early_stopping_rounds=50, evals=[(dtrain, 'train'),(dval, 'val')],feval=evalerror,verbose_eval=0)\n",
    "    feature_performance[i] = -model.best_score"
   ]
  },
  {
   "cell_type": "code",
   "execution_count": 62,
   "metadata": {
    "collapsed": true
   },
   "outputs": [
    {
     "data": {
      "text/plain": [
       "{'trend_1': 0.811019,\n",
       " 'trend_2': 0.811266,\n",
       " 'trend_3': 0.811015,\n",
       " 'trend_4': 0.81135,\n",
       " 'trend_5': 0.81177,\n",
       " 'trend_6': 0.810787,\n",
       " 'trend_7': 0.811013}"
      ]
     },
     "execution_count": 62,
     "metadata": {},
     "output_type": "execute_result"
    }
   ],
   "source": [
    "feature_performance"
   ]
  },
  {
   "cell_type": "code",
   "execution_count": 23,
   "metadata": {
    "collapsed": true
   },
   "outputs": [
    {
     "data": {
      "text/plain": [
       "{'group_0': 0.807744,\n",
       " 'group_1': 0.817314,\n",
       " 'group_10': 0.80763,\n",
       " 'group_11': 0.806826,\n",
       " 'group_12': 0.807472,\n",
       " 'group_13': 0.808312,\n",
       " 'group_14': 0.808102,\n",
       " 'group_2': 0.807219,\n",
       " 'group_3': 0.807825,\n",
       " 'group_4': 0.807825,\n",
       " 'group_5': 0.807513,\n",
       " 'group_6': 0.807649,\n",
       " 'group_7': 0.807478,\n",
       " 'group_8': 0.807597,\n",
       " 'group_9': 0.812484,\n",
       " 'set_group_0': 0.805885,\n",
       " 'set_group_1': 0.806893,\n",
       " 'set_group_2': 0.806073,\n",
       " 'trend_1': 0.807128,\n",
       " 'trend_2': 0.807431,\n",
       " 'trend_3': 0.807076,\n",
       " 'trend_4': 0.807552,\n",
       " 'trend_5': 0.807503,\n",
       " 'trend_6': 0.80743,\n",
       " 'trend_7': 0.807243,\n",
       " 'trend_act_0_1': 0.807051,\n",
       " 'trend_act_0_2': 0.807225,\n",
       " 'trend_act_0_3': 0.808034,\n",
       " 'trend_act_0_4': 0.807852,\n",
       " 'trend_act_0_5': 0.807707,\n",
       " 'trend_act_0_6': 0.807914,\n",
       " 'trend_act_0_7': 0.806928,\n",
       " 'trend_act_1_1': 0.807652,\n",
       " 'trend_act_1_2': 0.807396,\n",
       " 'trend_act_1_3': 0.807496,\n",
       " 'trend_act_1_4': 0.807734,\n",
       " 'trend_act_1_5': 0.808187,\n",
       " 'trend_act_1_6': 0.807707,\n",
       " 'trend_act_1_7': 0.807724,\n",
       " 'trend_act_2_1': 0.807667,\n",
       " 'trend_act_2_2': 0.807745,\n",
       " 'trend_act_2_3': 0.807896,\n",
       " 'trend_act_2_4': 0.807481,\n",
       " 'trend_act_2_5': 0.807648,\n",
       " 'trend_act_2_6': 0.807811,\n",
       " 'trend_act_2_7': 0.807993,\n",
       " 'trend_act_3_1': 0.807671,\n",
       " 'trend_act_3_2': 0.807298,\n",
       " 'trend_act_3_3': 0.807583,\n",
       " 'trend_act_3_4': 0.807622,\n",
       " 'trend_act_3_5': 0.80759,\n",
       " 'trend_act_3_6': 0.807769,\n",
       " 'trend_act_3_7': 0.807606,\n",
       " 'trend_act_4_1': 0.807825,\n",
       " 'trend_act_4_2': 0.807825,\n",
       " 'trend_act_4_3': 0.807825,\n",
       " 'trend_act_4_4': 0.807825,\n",
       " 'trend_act_4_5': 0.807825,\n",
       " 'trend_act_4_6': 0.807825,\n",
       " 'trend_act_4_7': 0.807825,\n",
       " 'trend_act_5_1': 0.807825,\n",
       " 'trend_act_5_2': 0.807825,\n",
       " 'trend_act_5_3': 0.807825,\n",
       " 'trend_act_5_4': 0.807825,\n",
       " 'trend_act_5_5': 0.807825,\n",
       " 'trend_act_5_6': 0.807825,\n",
       " 'trend_act_5_7': 0.807825,\n",
       " 'trend_page_0_1': 0.807789,\n",
       " 'trend_page_0_2': 0.807067,\n",
       " 'trend_page_0_3': 0.806947,\n",
       " 'trend_page_0_4': 0.80757,\n",
       " 'trend_page_0_5': 0.807045,\n",
       " 'trend_page_0_6': 0.807595,\n",
       " 'trend_page_0_7': 0.807646,\n",
       " 'trend_page_1_1': 0.807512,\n",
       " 'trend_page_1_2': 0.807509,\n",
       " 'trend_page_1_3': 0.807487,\n",
       " 'trend_page_1_4': 0.80765,\n",
       " 'trend_page_1_5': 0.807631,\n",
       " 'trend_page_1_6': 0.807337,\n",
       " 'trend_page_1_7': 0.8073,\n",
       " 'trend_page_2_1': 0.806778,\n",
       " 'trend_page_2_2': 0.807309,\n",
       " 'trend_page_2_3': 0.807297,\n",
       " 'trend_page_2_4': 0.807183,\n",
       " 'trend_page_2_5': 0.807752,\n",
       " 'trend_page_2_6': 0.807502,\n",
       " 'trend_page_2_7': 0.807527,\n",
       " 'trend_page_3_1': 0.807844,\n",
       " 'trend_page_3_2': 0.807319,\n",
       " 'trend_page_3_3': 0.807231,\n",
       " 'trend_page_3_4': 0.807522,\n",
       " 'trend_page_3_5': 0.807649,\n",
       " 'trend_page_3_6': 0.807407,\n",
       " 'trend_page_3_7': 0.80737,\n",
       " 'trend_page_4_1': 0.80734,\n",
       " 'trend_page_4_2': 0.8076,\n",
       " 'trend_page_4_3': 0.807466,\n",
       " 'trend_page_4_4': 0.807888,\n",
       " 'trend_page_4_5': 0.807263,\n",
       " 'trend_page_4_6': 0.807843,\n",
       " 'trend_page_4_7': 0.807588}"
      ]
     },
     "execution_count": 23,
     "metadata": {},
     "output_type": "execute_result"
    }
   ],
   "source": [
    "feature_performance"
   ]
  },
  {
   "cell_type": "code",
   "execution_count": 31,
   "metadata": {
    "collapsed": true
   },
   "outputs": [
    {
     "data": {
      "text/plain": [
       "{'group_0': 0.808064,\n",
       " 'group_1': 0.805575,\n",
       " 'group_10': 0.807257,\n",
       " 'group_11': 0.807622,\n",
       " 'group_12': 0.807591,\n",
       " 'group_13': 0.807648,\n",
       " 'group_14': 0.806443,\n",
       " 'group_2': 0.807724,\n",
       " 'group_3': 0.806751,\n",
       " 'group_4': 0.807825,\n",
       " 'group_5': 0.807825,\n",
       " 'group_6': 0.807569,\n",
       " 'group_7': 0.80722,\n",
       " 'group_8': 0.807347,\n",
       " 'group_9': 0.807825,\n",
       " 'set_group_0': 0.805885,\n",
       " 'set_group_1': 0.806893,\n",
       " 'set_group_2': 0.806073,\n",
       " 'trend_1': 0.807128,\n",
       " 'trend_2': 0.807431,\n",
       " 'trend_3': 0.807076,\n",
       " 'trend_4': 0.807552,\n",
       " 'trend_5': 0.807503,\n",
       " 'trend_6': 0.80743,\n",
       " 'trend_7': 0.807243,\n",
       " 'trend_act_0_1': 0.807051,\n",
       " 'trend_act_0_2': 0.807225,\n",
       " 'trend_act_0_3': 0.808034,\n",
       " 'trend_act_0_4': 0.807852,\n",
       " 'trend_act_0_5': 0.807707,\n",
       " 'trend_act_0_6': 0.807914,\n",
       " 'trend_act_0_7': 0.806928,\n",
       " 'trend_act_1_1': 0.807652,\n",
       " 'trend_act_1_2': 0.807396,\n",
       " 'trend_act_1_3': 0.807496,\n",
       " 'trend_act_1_4': 0.807734,\n",
       " 'trend_act_1_5': 0.808187,\n",
       " 'trend_act_1_6': 0.807707,\n",
       " 'trend_act_1_7': 0.807724,\n",
       " 'trend_act_2_1': 0.807667,\n",
       " 'trend_act_2_2': 0.807745,\n",
       " 'trend_act_2_3': 0.807896,\n",
       " 'trend_act_2_4': 0.807481,\n",
       " 'trend_act_2_5': 0.807648,\n",
       " 'trend_act_2_6': 0.807811,\n",
       " 'trend_act_2_7': 0.807993,\n",
       " 'trend_act_3_1': 0.807671,\n",
       " 'trend_act_3_2': 0.807298,\n",
       " 'trend_act_3_3': 0.807583,\n",
       " 'trend_act_3_4': 0.807622,\n",
       " 'trend_act_3_5': 0.80759,\n",
       " 'trend_act_3_6': 0.807769,\n",
       " 'trend_act_3_7': 0.807606,\n",
       " 'trend_act_4_1': 0.807825,\n",
       " 'trend_act_4_2': 0.807825,\n",
       " 'trend_act_4_3': 0.807825,\n",
       " 'trend_act_4_4': 0.807825,\n",
       " 'trend_act_4_5': 0.807825,\n",
       " 'trend_act_4_6': 0.807825,\n",
       " 'trend_act_4_7': 0.807825,\n",
       " 'trend_act_5_1': 0.807825,\n",
       " 'trend_act_5_2': 0.807825,\n",
       " 'trend_act_5_3': 0.807825,\n",
       " 'trend_act_5_4': 0.807825,\n",
       " 'trend_act_5_5': 0.807825,\n",
       " 'trend_act_5_6': 0.807825,\n",
       " 'trend_act_5_7': 0.807825,\n",
       " 'trend_page_0_1': 0.807789,\n",
       " 'trend_page_0_2': 0.807067,\n",
       " 'trend_page_0_3': 0.806947,\n",
       " 'trend_page_0_4': 0.80757,\n",
       " 'trend_page_0_5': 0.807045,\n",
       " 'trend_page_0_6': 0.807595,\n",
       " 'trend_page_0_7': 0.807646,\n",
       " 'trend_page_1_1': 0.807512,\n",
       " 'trend_page_1_2': 0.807509,\n",
       " 'trend_page_1_3': 0.807487,\n",
       " 'trend_page_1_4': 0.80765,\n",
       " 'trend_page_1_5': 0.807631,\n",
       " 'trend_page_1_6': 0.807337,\n",
       " 'trend_page_1_7': 0.8073,\n",
       " 'trend_page_2_1': 0.806778,\n",
       " 'trend_page_2_2': 0.807309,\n",
       " 'trend_page_2_3': 0.807297,\n",
       " 'trend_page_2_4': 0.807183,\n",
       " 'trend_page_2_5': 0.807752,\n",
       " 'trend_page_2_6': 0.807502,\n",
       " 'trend_page_2_7': 0.807527,\n",
       " 'trend_page_3_1': 0.807844,\n",
       " 'trend_page_3_2': 0.807319,\n",
       " 'trend_page_3_3': 0.807231,\n",
       " 'trend_page_3_4': 0.807522,\n",
       " 'trend_page_3_5': 0.807649,\n",
       " 'trend_page_3_6': 0.807407,\n",
       " 'trend_page_3_7': 0.80737,\n",
       " 'trend_page_4_1': 0.80734,\n",
       " 'trend_page_4_2': 0.8076,\n",
       " 'trend_page_4_3': 0.807466,\n",
       " 'trend_page_4_4': 0.807888,\n",
       " 'trend_page_4_5': 0.807263,\n",
       " 'trend_page_4_6': 0.807843,\n",
       " 'trend_page_4_7': 0.807588}"
      ]
     },
     "execution_count": 31,
     "metadata": {},
     "output_type": "execute_result"
    }
   ],
   "source": [
    "feature_performance"
   ]
  },
  {
   "cell_type": "code",
   "execution_count": 22,
   "metadata": {
    "collapsed": false,
    "scrolled": true
   },
   "outputs": [
    {
     "data": {
      "text/plain": [
       "6"
      ]
     },
     "execution_count": 22,
     "metadata": {},
     "output_type": "execute_result"
    }
   ],
   "source": [
    "baseline = 0.808\n",
    "good_features = []\n",
    "\n",
    "for i in feature_performance.items():\n",
    "    if i[1] > baseline:\n",
    "        good_features.append(i[0])\n",
    "len(good_features)"
   ]
  },
  {
   "cell_type": "code",
   "execution_count": 32,
   "metadata": {
    "collapsed": true
   },
   "outputs": [
    {
     "data": {
      "text/plain": [
       "[('trend_act_1_5', 0.808187),\n",
       " ('group_0', 0.808064),\n",
       " ('trend_act_0_3', 0.808034),\n",
       " ('trend_act_2_7', 0.807993),\n",
       " ('trend_act_0_6', 0.807914),\n",
       " ('trend_act_2_3', 0.807896),\n",
       " ('trend_page_4_4', 0.807888),\n",
       " ('trend_act_0_4', 0.807852),\n",
       " ('trend_page_3_1', 0.807844),\n",
       " ('trend_page_4_6', 0.807843),\n",
       " ('trend_act_4_5', 0.807825),\n",
       " ('trend_act_5_3', 0.807825),\n",
       " ('trend_act_5_7', 0.807825),\n",
       " ('trend_act_4_3', 0.807825),\n",
       " ('trend_act_5_4', 0.807825),\n",
       " ('trend_act_4_2', 0.807825),\n",
       " ('trend_act_5_2', 0.807825),\n",
       " ('trend_act_5_5', 0.807825),\n",
       " ('trend_act_4_1', 0.807825),\n",
       " ('group_4', 0.807825),\n",
       " ('trend_act_4_6', 0.807825),\n",
       " ('group_9', 0.807825),\n",
       " ('trend_act_5_1', 0.807825),\n",
       " ('trend_act_4_7', 0.807825),\n",
       " ('trend_act_5_6', 0.807825),\n",
       " ('trend_act_4_4', 0.807825),\n",
       " ('group_5', 0.807825),\n",
       " ('trend_act_2_6', 0.807811),\n",
       " ('trend_page_0_1', 0.807789),\n",
       " ('trend_act_3_6', 0.807769),\n",
       " ('trend_page_2_5', 0.807752),\n",
       " ('trend_act_2_2', 0.807745),\n",
       " ('trend_act_1_4', 0.807734),\n",
       " ('group_2', 0.807724),\n",
       " ('trend_act_1_7', 0.807724),\n",
       " ('trend_act_1_6', 0.807707),\n",
       " ('trend_act_0_5', 0.807707),\n",
       " ('trend_act_3_1', 0.807671),\n",
       " ('trend_act_2_1', 0.807667),\n",
       " ('trend_act_1_1', 0.807652),\n",
       " ('trend_page_1_4', 0.80765),\n",
       " ('trend_page_3_5', 0.807649),\n",
       " ('trend_act_2_5', 0.807648),\n",
       " ('group_13', 0.807648),\n",
       " ('trend_page_0_7', 0.807646),\n",
       " ('trend_page_1_5', 0.807631),\n",
       " ('group_11', 0.807622),\n",
       " ('trend_act_3_4', 0.807622),\n",
       " ('trend_act_3_7', 0.807606),\n",
       " ('trend_page_4_2', 0.8076),\n",
       " ('trend_page_0_6', 0.807595),\n",
       " ('group_12', 0.807591),\n",
       " ('trend_act_3_5', 0.80759),\n",
       " ('trend_page_4_7', 0.807588),\n",
       " ('trend_act_3_3', 0.807583),\n",
       " ('trend_page_0_4', 0.80757),\n",
       " ('group_6', 0.807569),\n",
       " ('trend_4', 0.807552),\n",
       " ('trend_page_2_7', 0.807527),\n",
       " ('trend_page_3_4', 0.807522),\n",
       " ('trend_page_1_1', 0.807512),\n",
       " ('trend_page_1_2', 0.807509),\n",
       " ('trend_5', 0.807503),\n",
       " ('trend_page_2_6', 0.807502),\n",
       " ('trend_act_1_3', 0.807496),\n",
       " ('trend_page_1_3', 0.807487),\n",
       " ('trend_act_2_4', 0.807481),\n",
       " ('trend_page_4_3', 0.807466),\n",
       " ('trend_2', 0.807431),\n",
       " ('trend_6', 0.80743),\n",
       " ('trend_page_3_6', 0.807407),\n",
       " ('trend_act_1_2', 0.807396),\n",
       " ('trend_page_3_7', 0.80737),\n",
       " ('group_8', 0.807347),\n",
       " ('trend_page_4_1', 0.80734),\n",
       " ('trend_page_1_6', 0.807337),\n",
       " ('trend_page_3_2', 0.807319),\n",
       " ('trend_page_2_2', 0.807309),\n",
       " ('trend_page_1_7', 0.8073),\n",
       " ('trend_act_3_2', 0.807298),\n",
       " ('trend_page_2_3', 0.807297),\n",
       " ('trend_page_4_5', 0.807263),\n",
       " ('group_10', 0.807257),\n",
       " ('trend_7', 0.807243),\n",
       " ('trend_page_3_3', 0.807231),\n",
       " ('trend_act_0_2', 0.807225),\n",
       " ('group_7', 0.80722),\n",
       " ('trend_page_2_4', 0.807183),\n",
       " ('trend_1', 0.807128),\n",
       " ('trend_3', 0.807076),\n",
       " ('trend_page_0_2', 0.807067),\n",
       " ('trend_act_0_1', 0.807051),\n",
       " ('trend_page_0_5', 0.807045),\n",
       " ('trend_page_0_3', 0.806947),\n",
       " ('trend_act_0_7', 0.806928),\n",
       " ('set_group_1', 0.806893),\n",
       " ('trend_page_2_1', 0.806778),\n",
       " ('group_3', 0.806751),\n",
       " ('group_14', 0.806443),\n",
       " ('set_group_2', 0.806073),\n",
       " ('set_group_0', 0.805885),\n",
       " ('group_1', 0.805575)]"
      ]
     },
     "execution_count": 32,
     "metadata": {},
     "output_type": "execute_result"
    }
   ],
   "source": [
    "sorted(feature_performance.items(), key=lambda x:x[1], reverse=True)"
   ]
  },
  {
   "cell_type": "markdown",
   "metadata": {},
   "source": [
    "## submit"
   ]
  },
  {
   "cell_type": "code",
   "execution_count": 53,
   "metadata": {
    "collapsed": false
   },
   "outputs": [],
   "source": [
    "# cand_cols = list(set(cand_cols) - set(['set_group_0', 'set_group_1', 'set_group_2']))\n",
    "cand_cols = cand_cols + ['set_group_0', 'set_group_1', 'set_group_2']"
   ]
  },
  {
   "cell_type": "code",
   "execution_count": 33,
   "metadata": {
    "collapsed": true
   },
   "outputs": [
    {
     "data": {
      "text/plain": [
       "['trend_act_1_5',\n",
       " 'group_0',\n",
       " 'trend_act_0_3',\n",
       " 'trend_act_2_7',\n",
       " 'trend_act_0_6',\n",
       " 'trend_act_2_3',\n",
       " 'trend_page_4_4',\n",
       " 'trend_act_0_4',\n",
       " 'trend_page_3_1',\n",
       " 'trend_page_4_6',\n",
       " 'trend_act_4_5',\n",
       " 'trend_act_5_3',\n",
       " 'trend_act_5_7',\n",
       " 'trend_act_4_3',\n",
       " 'trend_act_5_4',\n",
       " 'trend_act_4_2',\n",
       " 'trend_act_5_2',\n",
       " 'trend_act_5_5',\n",
       " 'trend_act_4_1',\n",
       " 'group_4',\n",
       " 'trend_act_4_6',\n",
       " 'group_9',\n",
       " 'trend_act_5_1',\n",
       " 'trend_act_4_7',\n",
       " 'trend_act_5_6',\n",
       " 'trend_act_4_4',\n",
       " 'group_5',\n",
       " 'trend_act_2_6',\n",
       " 'trend_page_0_1',\n",
       " 'trend_act_3_6',\n",
       " 'trend_page_2_5',\n",
       " 'trend_act_2_2',\n",
       " 'trend_act_1_4',\n",
       " 'group_2',\n",
       " 'trend_act_1_7',\n",
       " 'trend_act_1_6',\n",
       " 'trend_act_0_5',\n",
       " 'trend_act_3_1',\n",
       " 'trend_act_2_1',\n",
       " 'trend_act_1_1',\n",
       " 'trend_page_1_4',\n",
       " 'trend_page_3_5',\n",
       " 'trend_act_2_5',\n",
       " 'group_13',\n",
       " 'trend_page_0_7',\n",
       " 'trend_page_1_5',\n",
       " 'group_11',\n",
       " 'trend_act_3_4',\n",
       " 'trend_act_3_7',\n",
       " 'trend_page_4_2',\n",
       " 'trend_page_0_6',\n",
       " 'group_12',\n",
       " 'trend_act_3_5',\n",
       " 'trend_page_4_7',\n",
       " 'trend_act_3_3',\n",
       " 'trend_page_0_4',\n",
       " 'group_6',\n",
       " 'trend_4',\n",
       " 'trend_page_2_7',\n",
       " 'trend_page_3_4',\n",
       " 'trend_page_1_1',\n",
       " 'trend_page_1_2',\n",
       " 'trend_5',\n",
       " 'trend_page_2_6',\n",
       " 'trend_act_1_3',\n",
       " 'trend_page_1_3',\n",
       " 'trend_act_2_4',\n",
       " 'trend_page_4_3',\n",
       " 'trend_2',\n",
       " 'trend_6',\n",
       " 'trend_page_3_6',\n",
       " 'trend_act_1_2',\n",
       " 'trend_page_3_7',\n",
       " 'group_8',\n",
       " 'trend_page_4_1',\n",
       " 'trend_page_1_6',\n",
       " 'trend_page_3_2',\n",
       " 'trend_page_2_2',\n",
       " 'trend_page_1_7',\n",
       " 'trend_act_3_2',\n",
       " 'trend_page_2_3',\n",
       " 'trend_page_4_5',\n",
       " 'group_10',\n",
       " 'trend_7',\n",
       " 'trend_page_3_3',\n",
       " 'trend_act_0_2',\n",
       " 'group_7',\n",
       " 'trend_page_2_4',\n",
       " 'trend_1',\n",
       " 'trend_3',\n",
       " 'trend_page_0_2',\n",
       " 'trend_act_0_1',\n",
       " 'trend_page_0_5',\n",
       " 'trend_page_0_3',\n",
       " 'trend_act_0_7',\n",
       " 'set_group_1',\n",
       " 'trend_page_2_1',\n",
       " 'group_3',\n",
       " 'group_14',\n",
       " 'set_group_2',\n",
       " 'set_group_0',\n",
       " 'group_1']"
      ]
     },
     "execution_count": 33,
     "metadata": {},
     "output_type": "execute_result"
    }
   ],
   "source": [
    "features = [i[0] for i in sorted(feature_performance.items(), key=lambda x:x[1], reverse=True)]\n",
    "features"
   ]
  },
  {
   "cell_type": "code",
   "execution_count": 53,
   "metadata": {
    "collapsed": true
   },
   "outputs": [],
   "source": [
    "for i in features:\n",
    "    if 'group' in i:\n",
    "        features.remove(i)"
   ]
  },
  {
   "cell_type": "code",
   "execution_count": 73,
   "metadata": {
    "collapsed": false
   },
   "outputs": [
    {
     "data": {
      "text/plain": [
       "81"
      ]
     },
     "execution_count": 73,
     "metadata": {},
     "output_type": "execute_result"
    },
    {
     "name": "stdout",
     "output_type": "stream",
     "text": [
      "[0]\ttrain-auc:0.870193\tval-auc:0.877232\ttrain-f1:-0.690067\tval-f1:-0.654691\n",
      "Multiple eval metrics have been passed: 'val-f1' will be used for early stopping.\n",
      "\n",
      "Will train until val-f1 hasn't improved in 50 rounds.\n",
      "[100]\ttrain-auc:0.885321\tval-auc:0.888298\ttrain-f1:-0.814881\tval-f1:-0.807468\n",
      "[200]\ttrain-auc:0.890285\tval-auc:0.88829\ttrain-f1:-0.8183\tval-f1:-0.808331\n",
      "Stopping. Best iteration:\n",
      "[177]\ttrain-auc:0.889376\tval-auc:0.888405\ttrain-f1:-0.817919\tval-f1:-0.808844\n",
      "\n"
     ]
    }
   ],
   "source": [
    "params = {\n",
    "        'objective': 'binary:logistic',\n",
    "        'eta': 0.05,\n",
    "#         'colsample_bytree': 0.3,\n",
    "#         'subsample':0.9,\n",
    "        'min_child_weight': 17,\n",
    "        'max_depth': 5,\n",
    "        'gamma':0.1,\n",
    "        'seed': 2018,\n",
    "        'missing': -1,\n",
    "        'n_jobs':10,\n",
    "        'eval_metric':'auc',\n",
    "#         'tree_method':'gpu_hist',\n",
    "#         'max_bin':64,\n",
    "#         'gpu_device':0\n",
    "}\n",
    "# f1 0.808476\n",
    "len(cols2 + good_features)\n",
    "dtrain = xgb.DMatrix(train[cols2 + good_features], label=train[['label']])\n",
    "dval = xgb.DMatrix(val[cols2 + good_features], label=val[['label']])\n",
    "model = xgb.train(params, dtrain, num_boost_round=20000, early_stopping_rounds=50, evals=[(dtrain, 'train'),(dval, 'val')],feval=evalerror,verbose_eval=100)"
   ]
  },
  {
   "cell_type": "code",
   "execution_count": 64,
   "metadata": {
    "collapsed": true
   },
   "outputs": [
    {
     "data": {
      "text/plain": [
       "['trend_act_1_5',\n",
       " 'trend_act_0_3',\n",
       " 'trend_act_2_7',\n",
       " 'trend_act_0_6',\n",
       " 'trend_act_2_3',\n",
       " 'trend_page_4_4',\n",
       " 'trend_act_0_4',\n",
       " 'trend_page_3_1',\n",
       " 'trend_page_4_6',\n",
       " 'trend_act_4_5',\n",
       " 'trend_act_5_3',\n",
       " 'trend_act_5_7',\n",
       " 'trend_act_4_3',\n",
       " 'trend_act_5_4',\n",
       " 'trend_act_4_2',\n",
       " 'trend_act_5_2',\n",
       " 'trend_act_5_5',\n",
       " 'trend_act_4_1',\n",
       " 'trend_act_4_6',\n",
       " 'trend_act_5_1',\n",
       " 'trend_act_4_7',\n",
       " 'trend_act_5_6',\n",
       " 'trend_act_4_4',\n",
       " 'trend_act_2_6',\n",
       " 'trend_page_0_1',\n",
       " 'trend_act_3_6',\n",
       " 'trend_page_2_5',\n",
       " 'trend_act_2_2',\n",
       " 'trend_act_1_4',\n",
       " 'trend_act_1_7',\n",
       " 'trend_act_1_6',\n",
       " 'trend_act_0_5',\n",
       " 'trend_act_3_1',\n",
       " 'trend_act_2_1',\n",
       " 'trend_act_1_1',\n",
       " 'trend_page_1_4',\n",
       " 'trend_page_3_5',\n",
       " 'trend_act_2_5',\n",
       " 'trend_page_0_7',\n",
       " 'trend_page_1_5',\n",
       " 'trend_act_3_4',\n",
       " 'trend_act_3_7',\n",
       " 'trend_page_4_2',\n",
       " 'trend_page_0_6',\n",
       " 'trend_act_3_5',\n",
       " 'trend_page_4_7',\n",
       " 'trend_act_3_3',\n",
       " 'trend_page_0_4',\n",
       " 'trend_4',\n",
       " 'trend_page_2_7',\n",
       " 'trend_page_3_4',\n",
       " 'trend_page_1_1',\n",
       " 'trend_page_1_2',\n",
       " 'trend_5',\n",
       " 'trend_page_2_6',\n",
       " 'trend_act_1_3',\n",
       " 'trend_page_1_3',\n",
       " 'trend_act_2_4',\n",
       " 'trend_page_4_3',\n",
       " 'trend_2',\n",
       " 'trend_6',\n",
       " 'trend_page_3_6',\n",
       " 'trend_act_1_2',\n",
       " 'trend_page_3_7',\n",
       " 'trend_page_4_1',\n",
       " 'trend_page_1_6',\n",
       " 'trend_page_3_2',\n",
       " 'trend_page_2_2',\n",
       " 'trend_page_1_7',\n",
       " 'trend_act_3_2',\n",
       " 'trend_page_2_3',\n",
       " 'trend_page_4_5',\n",
       " 'trend_7',\n",
       " 'trend_page_3_3',\n",
       " 'trend_act_0_2',\n",
       " 'trend_page_2_4',\n",
       " 'trend_1',\n",
       " 'trend_3',\n",
       " 'trend_page_0_2',\n",
       " 'trend_act_0_1',\n",
       " 'trend_page_0_5',\n",
       " 'trend_page_0_3',\n",
       " 'trend_act_0_7',\n",
       " 'trend_page_2_1',\n",
       " 'group_14',\n",
       " 'set_group_0']"
      ]
     },
     "execution_count": 64,
     "metadata": {},
     "output_type": "execute_result"
    }
   ],
   "source": [
    "features"
   ]
  },
  {
   "cell_type": "code",
   "execution_count": 65,
   "metadata": {
    "collapsed": false
   },
   "outputs": [],
   "source": [
    "# greedy search\n",
    "tmp_features = cols2.copy()\n",
    "good_features = []\n",
    "best_f1 = 0\n",
    "for i in tqdm_notebook(features):\n",
    "    tmp_features.append(i)\n",
    "    dtrain = xgb.DMatrix(train[tmp_features], label=train[['label']])\n",
    "    dval = xgb.DMatrix(val[tmp_features], label=val[['label']])\n",
    "    model = xgb.train(params, dtrain, num_boost_round=20000, early_stopping_rounds=50, evals=[(dtrain, 'train'),(dval, 'val')],feval=evalerror,verbose_eval=0)\n",
    "    if -model.best_score > best_f1:\n",
    "        good_features.append(i)\n",
    "        best_f1 = -model.best_score\n",
    "    else:\n",
    "        tmp_features.remove(i)"
   ]
  },
  {
   "cell_type": "code",
   "execution_count": 108,
   "metadata": {
    "collapsed": false
   },
   "outputs": [
    {
     "data": {
      "text/plain": [
       "['trend_act_1_5', 'trend_act_2_7', 'trend_act_0_6', 'trend_act_2_1']"
      ]
     },
     "execution_count": 108,
     "metadata": {},
     "output_type": "execute_result"
    },
    {
     "data": {
      "text/plain": [
       "0.808506"
      ]
     },
     "execution_count": 108,
     "metadata": {},
     "output_type": "execute_result"
    }
   ],
   "source": [
    "# cols\n",
    "good_features\n",
    "best_f1\n",
    "# ['trend_act_1_5', 'trend_act_2_7', 'trend_act_0_6', 'trend_act_2_1']\n",
    "# 0.808506"
   ]
  },
  {
   "cell_type": "code",
   "execution_count": 35,
   "metadata": {
    "collapsed": false
   },
   "outputs": [
    {
     "data": {
      "text/plain": [
       "['trend_act_1_5',\n",
       " 'group_0',\n",
       " 'trend_act_0_3',\n",
       " 'trend_act_0_6',\n",
       " 'trend_act_3_6',\n",
       " 'trend_act_2_2',\n",
       " 'trend_act_3_5']"
      ]
     },
     "execution_count": 35,
     "metadata": {},
     "output_type": "execute_result"
    },
    {
     "data": {
      "text/plain": [
       "0.809263"
      ]
     },
     "execution_count": 35,
     "metadata": {},
     "output_type": "execute_result"
    }
   ],
   "source": [
    "# cols2\n",
    "good_features\n",
    "best_f1\n",
    "# ['trend_act_1_5','group_0','trend_act_0_3','trend_act_0_6','trend_act_3_6','trend_act_2_2','trend_act_3_5']\n",
    "# 0.809263"
   ]
  },
  {
   "cell_type": "code",
   "execution_count": 66,
   "metadata": {
    "collapsed": true
   },
   "outputs": [
    {
     "data": {
      "text/plain": [
       "['trend_act_1_5',\n",
       " 'trend_act_1_4',\n",
       " 'trend_act_2_1',\n",
       " 'trend_act_3_5',\n",
       " 'trend_6',\n",
       " 'trend_page_4_5',\n",
       " 'trend_page_2_1']"
      ]
     },
     "execution_count": 66,
     "metadata": {},
     "output_type": "execute_result"
    },
    {
     "data": {
      "text/plain": [
       "0.808844"
      ]
     },
     "execution_count": 66,
     "metadata": {},
     "output_type": "execute_result"
    }
   ],
   "source": [
    "# cols2 no leak\n",
    "good_features\n",
    "best_f1"
   ]
  },
  {
   "cell_type": "code",
   "execution_count": null,
   "metadata": {
    "collapsed": true
   },
   "outputs": [],
   "source": [
    "1:[82]\ttrain-auc:0.883361\tval-auc:0.887955\ttrain-f1:-0.815031\tval-f1:-0.808187\n",
    "2:[65]\ttrain-auc:0.882083\tval-auc:0.887499\ttrain-f1:-0.814102\tval-f1:-0.807672\n",
    "9:[82]\ttrain-auc:0.88356\tval-auc:0.88779\ttrain-f1:-0.814585\tval-f1:-0.807847\n",
    "                    \n",
    "usercols:[132]\ttrain-auc:0.886595\tval-auc:0.888315\ttrain-f1:-0.816726\tval-f1:-0.807882\n",
    "cols2:[139]\ttrain-auc:0.88737\tval-auc:0.88847\ttrain-f1:-0.816563\tval-f1:-0.808156"
   ]
  },
  {
   "cell_type": "code",
   "execution_count": 39,
   "metadata": {
    "collapsed": true
   },
   "outputs": [
    {
     "data": {
      "text/plain": [
       "[('device_type', 405),\n",
       " ('user_hist_act_video_meancount', 199),\n",
       " ('trend_act_0_3', 180),\n",
       " ('user_hist_launch_freq', 167),\n",
       " ('user_last_launch_dist', 154),\n",
       " ('user_hist_act_freq', 151),\n",
       " ('user_launch_range_percent', 148),\n",
       " ('(register_type+user_lastweek_video_freq)', 148),\n",
       " ('user_hist_act_author_count', 135),\n",
       " ('user_mean_continue_activity_times_hist', 132),\n",
       " ('user_lastweek_act_page_1_count', 130),\n",
       " ('user_activity_range_percent', 129),\n",
       " ('trend_act_0_6', 112),\n",
       " ('trend_act_1_5', 102),\n",
       " ('user_last_act_date', 99),\n",
       " ('user_hist_actcount', 98),\n",
       " ('user_min_continue_activity_times_5daywin', 82),\n",
       " ('user_lastweek_act_0_freq', 73),\n",
       " ('user_lastweek_act_video_uniquecount', 66),\n",
       " ('user_lastweek_act_page_3_count', 63),\n",
       " ('user_lastweek_actcount', 62),\n",
       " ('user_min_activity_daytimes_lastweek', 55),\n",
       " ('user_lastweek_act_page_2_count', 54),\n",
       " ('user_lastweek_hist_act_page_3_count_dist', 54),\n",
       " ('(user_lastweek_act_0_freq-user_4daybefore_act_page_4_count)', 54),\n",
       " ('register_type', 53),\n",
       " ('user_lastweek_launch_freq', 51),\n",
       " ('user_reg_days', 48),\n",
       " ('user_lastweek_video_freq', 45),\n",
       " ('group_0', 42),\n",
       " ('(register_type*user_hist_launchday)', 38),\n",
       " ('user_var_continue_activity_times_lastweek', 34),\n",
       " ('user_activity_div_launch_days_hist', 33),\n",
       " ('user_mean_no_launch_days_hist', 29),\n",
       " ('(user_hist_launchday/user_2daybefore_act_1_count)', 27),\n",
       " ('user_max_no_launch_days_hist', 26),\n",
       " ('user_mean_createvideo_date_lastweek_hist_dist', 25),\n",
       " ('(user_launch_range_percent/user_4daybefore_act_page_4_count)', 25),\n",
       " ('user_lastweek_act_2_freq', 25),\n",
       " ('user_mean_continue_launch_days_lastweek', 24),\n",
       " ('user_lastweek_hist_act_3_count_dist', 22),\n",
       " ('user_mean_continue_activity_days_hist', 21),\n",
       " ('user_mean_continue_launch_times_hist', 20),\n",
       " ('(user_mean_continue_activity_days_lastweek+user_max_no_activity_days_lastweek_hist_dist)',\n",
       "  18),\n",
       " ('trend_act_2_2', 18),\n",
       " ('user_hist_launchday', 17),\n",
       " ('user_activity_days_hist', 17),\n",
       " ('user_max_continue_launch_times_lastweek', 16),\n",
       " ('user_kurt_continue_activity_days_hist', 13),\n",
       " ('trend_act_3_6', 13),\n",
       " ('user_max_continue_createvideo_days_hist', 13),\n",
       " ('(user_max_continue_launch_days_hist*user_5daybefore_act_page_1_count)', 13),\n",
       " ('user_lastweek_act_2_count', 12),\n",
       " ('(user_min_continue_launch_times_lastweek*user_lastweek_hist_act_3_count_dist)',\n",
       "  9),\n",
       " ('user_max_continue_launch_days_hist', 9),\n",
       " ('(user_5daybefore_act_page_1_count/user_lastweek_launch)', 8),\n",
       " ('(user_4daybefore_act_page_4_count/user_max_launch_daytimes_lastweek)', 7),\n",
       " ('user_max_no_activity_days_lastweek_hist_dist', 6),\n",
       " ('user_hist_video_activity_types', 6),\n",
       " ('user_activity_days_lastweek', 5),\n",
       " ('(user_5daybefore_act_page_1_count*user_min_continue_launch_days_lastweek)',\n",
       "  5),\n",
       " ('user_2daybefore_act_1_count', 4),\n",
       " ('user_mean_continue_activity_days_lastweek', 4),\n",
       " ('(user_var_continue_activity_times_lastweek*user_5daybefore_act_page_1_count)',\n",
       "  4),\n",
       " ('user_5daybefore_act_page_1_count', 4),\n",
       " ('user_max_continue_createvideo_days_4daywin', 3),\n",
       " ('trend_act_3_5', 2),\n",
       " ('(user_activity_days_lastweek-user_mean_continue_activity_days_lastweek)',\n",
       "  1)]"
      ]
     },
     "execution_count": 39,
     "metadata": {},
     "output_type": "execute_result"
    }
   ],
   "source": [
    "sorted(model.get_score().items(), key=lambda x:x[1], reverse=True)"
   ]
  },
  {
   "cell_type": "code",
   "execution_count": 33,
   "metadata": {
    "collapsed": false
   },
   "outputs": [
    {
     "name": "stdout",
     "output_type": "stream",
     "text": [
      "0.4 0.8106663899769136 0.7692610643430315 0.8567825419453887\n",
      "0.41000000000000003 0.8112676056338027 0.7736543627499751 0.8527250795043316\n",
      "0.42000000000000004 0.811016393442623 0.7773922663046211 0.847680666739774\n",
      "0.43000000000000005 0.8122825513969425 0.7821033397624607 0.8448843074898563\n",
      "0.44000000000000006 0.8117840475180315 0.7860223888261272 0.8392915889900209\n",
      "0.45000000000000007 0.8117286418765828 0.7898531929242102 0.8348503125342691\n",
      "best_limit: 0.43 score: -0.8122825513969425\n"
     ]
    }
   ],
   "source": [
    "pred = model.predict(dval, ntree_limit=model.best_ntree_limit)\n",
    "limits = []\n",
    "for limit in np.arange(0.4, 0.46, 0.01):\n",
    "    preds = [int(i>limit) for i in pred]\n",
    "    score = f1_score(dval.get_label(), preds)\n",
    "    limits.append((limit, -1*score))\n",
    "    print(limit, score, precision_score(dval.get_label(), preds), recall_score(dval.get_label(), preds))#0.807701253391911 0.763335287221571 0.8575426658618229\n",
    "limits.sort(key=lambda x:x[1])\n",
    "best_limit = round(limits[0][0],2)\n",
    "print('best_limit:', best_limit, 'score:', limits[0][1])"
   ]
  },
  {
   "cell_type": "code",
   "execution_count": 116,
   "metadata": {
    "collapsed": false
   },
   "outputs": [
    {
     "data": {
      "text/plain": [
       "83"
      ]
     },
     "execution_count": 116,
     "metadata": {},
     "output_type": "execute_result"
    },
    {
     "data": {
      "text/plain": [
       "143"
      ]
     },
     "execution_count": 116,
     "metadata": {},
     "output_type": "execute_result"
    }
   ],
   "source": [
    "len(cols)\n",
    "dtrainval = xgb.DMatrix(trainval[cols], label=trainval[['label']])\n",
    "dtest = xgb.DMatrix(test[cols], label=test[['label']])\n",
    "model.best_iteration\n",
    "model = xgb.train(params, dtrainval, num_boost_round=int(model.best_iteration*1.1))"
   ]
  },
  {
   "cell_type": "code",
   "execution_count": 118,
   "metadata": {
    "collapsed": false,
    "scrolled": false
   },
   "outputs": [
    {
     "name": "stdout",
     "output_type": "stream",
     "text": [
      "(23978, 1)\n"
     ]
    },
    {
     "name": "stderr",
     "output_type": "stream",
     "text": [
      "/usr/local/anaconda3/lib/python3.5/site-packages/ipykernel/__main__.py:1: SettingWithCopyWarning: \n",
      "A value is trying to be set on a copy of a slice from a DataFrame.\n",
      "Try using .loc[row_indexer,col_indexer] = value instead\n",
      "\n",
      "See the caveats in the documentation: http://pandas.pydata.org/pandas-docs/stable/indexing.html#indexing-view-versus-copy\n",
      "  if __name__ == '__main__':\n"
     ]
    }
   ],
   "source": [
    "test['pred'] = model.predict(dtest)\n",
    "save = test[test.pred>0.41].sort_values('pred', ascending=False)[['user_id']]\n",
    "print(save.shape)"
   ]
  },
  {
   "cell_type": "code",
   "execution_count": 121,
   "metadata": {
    "collapsed": false
   },
   "outputs": [],
   "source": [
    "test[['user_id', 'pred']].to_csv('./result/b/xgb_zero.csv',index=False, header=None)"
   ]
  },
  {
   "cell_type": "code",
   "execution_count": 42,
   "metadata": {
    "collapsed": true
   },
   "outputs": [],
   "source": [
    "save.to_csv('./result/b/xgb_zero_0629_limit042.csv',index=False, header=None)"
   ]
  }
 ],
 "metadata": {
  "anaconda-cloud": {},
  "kernelspec": {
   "display_name": "Python [default]",
   "language": "python",
   "name": "python3"
  },
  "language_info": {
   "codemirror_mode": {
    "name": "ipython",
    "version": 3
   },
   "file_extension": ".py",
   "mimetype": "text/x-python",
   "name": "python",
   "nbconvert_exporter": "python",
   "pygments_lexer": "ipython3",
   "version": "3.5.2"
  },
  "widgets": {
   "state": {
    "05cd78b6b0074907a85b74dd0d6432cb": {
     "views": [
      {
       "cell_index": 27
      }
     ]
    }
   },
   "version": "1.2.0"
  }
 },
 "nbformat": 4,
 "nbformat_minor": 2
}
