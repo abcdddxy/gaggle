{
 "cells": [
  {
   "cell_type": "code",
   "execution_count": 1,
   "metadata": {
    "collapsed": true
   },
   "outputs": [],
   "source": [
    "import numpy as np\n",
    "import pandas as pd\n",
    "pd.set_option('display.max_columns', None)\n",
    "import matplotlib.pyplot as plt\n",
    "# import seaborn as sns\n",
    "import pickle\n",
    "import time\n",
    "import gc\n",
    "from tqdm import tqdm, tqdm_notebook\n",
    "\n",
    "%matplotlib inline\n",
    "\n",
    "#每次可以输出多个变量\n",
    "from IPython.core.interactiveshell import InteractiveShell\n",
    "InteractiveShell.ast_node_interactivity = \"all\"\n",
    "\n",
    "from pylab import rcParams\n",
    "rcParams['figure.figsize'] = 14, 6\n",
    "\n",
    "import warnings\n",
    "warnings.filterwarnings(\"ignore\")\n",
    "\n",
    "#中文字体\n",
    "import matplotlib\n",
    "matplotlib.use('qt4agg')\n",
    "#指定默认字体\n",
    "matplotlib.rcParams['font.sans-serif'] = ['SimHei']\n",
    "matplotlib.rcParams['font.family'] = 'sans-serif'\n",
    "#解决负号'-'显示为方块的问题\n",
    "matplotlib.rcParams['axes.unicode_minus'] = False"
   ]
  },
  {
   "cell_type": "code",
   "execution_count": 2,
   "metadata": {
    "collapsed": false
   },
   "outputs": [],
   "source": [
    "df_user_reg = pd.read_csv('./data/b/user_register_log.txt',sep='\\t',header=None,names=['user_id','register_day','register_type','device_type'])\n",
    "df_app_launch = pd.read_csv('./data/b/app_launch_log.txt',sep='\\t',header=None,names=['user_id','day'])\n",
    "df_video_create = pd.read_csv('./data/b/video_create_log.txt',sep='\\t',header=None,names=['user_id','day'])\n",
    "df_user_activity = pd.read_csv('./data/b/user_activity_log.txt',sep='\\t',header=None,names=['user_id','day','page','video_id','author_id','action_type'])"
   ]
  },
  {
   "cell_type": "markdown",
   "metadata": {},
   "source": [
    "## 粉丝群"
   ]
  },
  {
   "cell_type": "code",
   "execution_count": 3,
   "metadata": {
    "collapsed": false,
    "scrolled": true
   },
   "outputs": [],
   "source": [
    "author = df_user_activity.groupby(['author_id'])\n",
    "fan_author = author.user_id.count().sort_values(ascending=False)[:3800]"
   ]
  },
  {
   "cell_type": "code",
   "execution_count": 4,
   "metadata": {
    "collapsed": false
   },
   "outputs": [
    {
     "data": {
      "text/plain": [
       "author_id\n",
       "178632     27620\n",
       "391186     21876\n",
       "306604     21424\n",
       "373087     16469\n",
       "1249639    16052\n",
       "Name: user_id, dtype: int64"
      ]
     },
     "execution_count": 4,
     "metadata": {},
     "output_type": "execute_result"
    }
   ],
   "source": [
    "fan_author[:5]"
   ]
  },
  {
   "cell_type": "code",
   "execution_count": 5,
   "metadata": {
    "collapsed": false
   },
   "outputs": [],
   "source": [
    "df_user_activity = df_user_activity[df_user_activity.day < 24]"
   ]
  },
  {
   "cell_type": "code",
   "execution_count": 6,
   "metadata": {
    "collapsed": false
   },
   "outputs": [],
   "source": [
    "def get_fan_author(x):\n",
    "    return list(df_user_activity[df_user_activity.user_id == x.user_id].author_id.unique())\n",
    "def get_fan_author_list(x):\n",
    "    return list(df_user_activity[df_user_activity.user_id == x.user_id].author_id)"
   ]
  },
  {
   "cell_type": "code",
   "execution_count": 7,
   "metadata": {
    "collapsed": false
   },
   "outputs": [
    {
     "name": "stdout",
     "output_type": "stream",
     "text": [
      "finish set\n",
      "finish list\n",
      "CPU times: user 38min 40s, sys: 745 ms, total: 38min 41s\n",
      "Wall time: 38min 41s\n"
     ]
    }
   ],
   "source": [
    "%%time\n",
    "df_user_reg['fan_author'] = df_user_reg.apply(get_fan_author, axis=1)\n",
    "print('finish set')\n",
    "df_user_reg['fan_author_list'] = df_user_reg.apply(get_fan_author_list, axis=1)\n",
    "print('finish list')"
   ]
  },
  {
   "cell_type": "code",
   "execution_count": 8,
   "metadata": {
    "collapsed": true
   },
   "outputs": [],
   "source": [
    "df_user_reg['set_len'] = df_user_reg['fan_author'].apply(lambda x:len(x))\n",
    "df_user_reg['list_len'] = df_user_reg['fan_author_list'].apply(lambda x:len(x))"
   ]
  },
  {
   "cell_type": "code",
   "execution_count": 9,
   "metadata": {
    "collapsed": false,
    "scrolled": true
   },
   "outputs": [
    {
     "data": {
      "text/html": [
       "<div>\n",
       "<style scoped>\n",
       "    .dataframe tbody tr th:only-of-type {\n",
       "        vertical-align: middle;\n",
       "    }\n",
       "\n",
       "    .dataframe tbody tr th {\n",
       "        vertical-align: top;\n",
       "    }\n",
       "\n",
       "    .dataframe thead th {\n",
       "        text-align: right;\n",
       "    }\n",
       "</style>\n",
       "<table border=\"1\" class=\"dataframe\">\n",
       "  <thead>\n",
       "    <tr style=\"text-align: right;\">\n",
       "      <th></th>\n",
       "      <th>user_id</th>\n",
       "      <th>register_day</th>\n",
       "      <th>register_type</th>\n",
       "      <th>device_type</th>\n",
       "      <th>fan_author</th>\n",
       "      <th>fan_author_list</th>\n",
       "      <th>set_len</th>\n",
       "      <th>list_len</th>\n",
       "    </tr>\n",
       "  </thead>\n",
       "  <tbody>\n",
       "    <tr>\n",
       "      <th>0</th>\n",
       "      <td>167777</td>\n",
       "      <td>1</td>\n",
       "      <td>4</td>\n",
       "      <td>270</td>\n",
       "      <td>[]</td>\n",
       "      <td>[]</td>\n",
       "      <td>0</td>\n",
       "      <td>0</td>\n",
       "    </tr>\n",
       "    <tr>\n",
       "      <th>1</th>\n",
       "      <td>886972</td>\n",
       "      <td>1</td>\n",
       "      <td>0</td>\n",
       "      <td>5</td>\n",
       "      <td>[980589, 1053611, 262128]</td>\n",
       "      <td>[980589, 980589, 980589, 980589, 980589, 98058...</td>\n",
       "      <td>3</td>\n",
       "      <td>28</td>\n",
       "    </tr>\n",
       "    <tr>\n",
       "      <th>2</th>\n",
       "      <td>921231</td>\n",
       "      <td>1</td>\n",
       "      <td>0</td>\n",
       "      <td>0</td>\n",
       "      <td>[574167, 992903, 935597, 509753, 131355, 67238...</td>\n",
       "      <td>[574167, 574167, 574167, 574167, 574167, 57416...</td>\n",
       "      <td>25</td>\n",
       "      <td>103</td>\n",
       "    </tr>\n",
       "    <tr>\n",
       "      <th>3</th>\n",
       "      <td>904908</td>\n",
       "      <td>1</td>\n",
       "      <td>1</td>\n",
       "      <td>49</td>\n",
       "      <td>[801356, 329977, 1070990, 602664, 141229, 5303...</td>\n",
       "      <td>[801356, 329977, 1070990, 602664, 602664, 1412...</td>\n",
       "      <td>426</td>\n",
       "      <td>594</td>\n",
       "    </tr>\n",
       "    <tr>\n",
       "      <th>4</th>\n",
       "      <td>460291</td>\n",
       "      <td>2</td>\n",
       "      <td>0</td>\n",
       "      <td>72</td>\n",
       "      <td>[323908, 871685, 1225904, 77426, 127022, 33167...</td>\n",
       "      <td>[323908, 871685, 1225904, 77426, 77426, 127022...</td>\n",
       "      <td>1412</td>\n",
       "      <td>1875</td>\n",
       "    </tr>\n",
       "  </tbody>\n",
       "</table>\n",
       "</div>"
      ],
      "text/plain": [
       "   user_id  register_day  register_type  device_type  \\\n",
       "0   167777             1              4          270   \n",
       "1   886972             1              0            5   \n",
       "2   921231             1              0            0   \n",
       "3   904908             1              1           49   \n",
       "4   460291             2              0           72   \n",
       "\n",
       "                                          fan_author  \\\n",
       "0                                                 []   \n",
       "1                          [980589, 1053611, 262128]   \n",
       "2  [574167, 992903, 935597, 509753, 131355, 67238...   \n",
       "3  [801356, 329977, 1070990, 602664, 141229, 5303...   \n",
       "4  [323908, 871685, 1225904, 77426, 127022, 33167...   \n",
       "\n",
       "                                     fan_author_list  set_len  list_len  \n",
       "0                                                 []        0         0  \n",
       "1  [980589, 980589, 980589, 980589, 980589, 98058...        3        28  \n",
       "2  [574167, 574167, 574167, 574167, 574167, 57416...       25       103  \n",
       "3  [801356, 329977, 1070990, 602664, 602664, 1412...      426       594  \n",
       "4  [323908, 871685, 1225904, 77426, 77426, 127022...     1412      1875  "
      ]
     },
     "execution_count": 9,
     "metadata": {},
     "output_type": "execute_result"
    }
   ],
   "source": [
    "df_user_reg.head()"
   ]
  },
  {
   "cell_type": "code",
   "execution_count": 10,
   "metadata": {
    "collapsed": false
   },
   "outputs": [
    {
     "data": {
      "text/plain": [
       "5530"
      ]
     },
     "execution_count": 10,
     "metadata": {},
     "output_type": "execute_result"
    },
    {
     "data": {
      "text/plain": [
       "13761"
      ]
     },
     "execution_count": 10,
     "metadata": {},
     "output_type": "execute_result"
    },
    {
     "data": {
      "text/plain": [
       "922332"
      ]
     },
     "execution_count": 10,
     "metadata": {},
     "output_type": "execute_result"
    }
   ],
   "source": [
    "df_user_reg.set_len.max()\n",
    "df_user_reg.list_len.max()\n",
    "len(df_user_activity.author_id.unique())"
   ]
  },
  {
   "cell_type": "code",
   "execution_count": 11,
   "metadata": {
    "collapsed": false
   },
   "outputs": [],
   "source": [
    "def multi_hot(x):\n",
    "    tmp = np.zeros(len(fan_author.index))\n",
    "    for i, genre in enumerate(fan_author.index):\n",
    "        if genre in x:\n",
    "            tmp[i] = 1\n",
    "    return list(map(int, tmp))\n",
    "\n",
    "def multi_cnt_hot(x):\n",
    "    tmp = np.zeros(len(fan_author.index))\n",
    "    for i, genre in enumerate(fan_author.index):\n",
    "        if genre in x:\n",
    "            tmp[i] = x.count(genre)\n",
    "    return list(map(int, tmp))"
   ]
  },
  {
   "cell_type": "code",
   "execution_count": 12,
   "metadata": {
    "collapsed": false
   },
   "outputs": [
    {
     "name": "stdout",
     "output_type": "stream",
     "text": [
      "CPU times: user 1h 25min 38s, sys: 2.35 s, total: 1h 25min 41s\n",
      "Wall time: 1h 25min 41s\n"
     ]
    }
   ],
   "source": [
    "%%time\n",
    "df_user_reg['fan_author_multi_hot'] = df_user_reg.fan_author.apply(multi_hot)\n",
    "df_user_reg['fan_author_list_multi_hot'] = df_user_reg.fan_author_list.apply(multi_cnt_hot)"
   ]
  },
  {
   "cell_type": "markdown",
   "metadata": {},
   "source": [
    "## 相似用户群"
   ]
  },
  {
   "cell_type": "code",
   "execution_count": 13,
   "metadata": {
    "collapsed": false
   },
   "outputs": [
    {
     "data": {
      "text/plain": [
       "(133749, 3)"
      ]
     },
     "execution_count": 13,
     "metadata": {},
     "output_type": "execute_result"
    },
    {
     "data": {
      "text/html": [
       "<div>\n",
       "<style scoped>\n",
       "    .dataframe tbody tr th:only-of-type {\n",
       "        vertical-align: middle;\n",
       "    }\n",
       "\n",
       "    .dataframe tbody tr th {\n",
       "        vertical-align: top;\n",
       "    }\n",
       "\n",
       "    .dataframe thead th {\n",
       "        text-align: right;\n",
       "    }\n",
       "</style>\n",
       "<table border=\"1\" class=\"dataframe\">\n",
       "  <thead>\n",
       "    <tr style=\"text-align: right;\">\n",
       "      <th></th>\n",
       "      <th>user_id</th>\n",
       "      <th>day</th>\n",
       "      <th>cnt</th>\n",
       "    </tr>\n",
       "  </thead>\n",
       "  <tbody>\n",
       "    <tr>\n",
       "      <th>0</th>\n",
       "      <td>8</td>\n",
       "      <td>9</td>\n",
       "      <td>21</td>\n",
       "    </tr>\n",
       "    <tr>\n",
       "      <th>1</th>\n",
       "      <td>8</td>\n",
       "      <td>10</td>\n",
       "      <td>39</td>\n",
       "    </tr>\n",
       "    <tr>\n",
       "      <th>2</th>\n",
       "      <td>8</td>\n",
       "      <td>11</td>\n",
       "      <td>5</td>\n",
       "    </tr>\n",
       "    <tr>\n",
       "      <th>3</th>\n",
       "      <td>8</td>\n",
       "      <td>13</td>\n",
       "      <td>31</td>\n",
       "    </tr>\n",
       "    <tr>\n",
       "      <th>4</th>\n",
       "      <td>8</td>\n",
       "      <td>18</td>\n",
       "      <td>83</td>\n",
       "    </tr>\n",
       "  </tbody>\n",
       "</table>\n",
       "</div>"
      ],
      "text/plain": [
       "   user_id  day  cnt\n",
       "0        8    9   21\n",
       "1        8   10   39\n",
       "2        8   11    5\n",
       "3        8   13   31\n",
       "4        8   18   83"
      ]
     },
     "execution_count": 13,
     "metadata": {},
     "output_type": "execute_result"
    }
   ],
   "source": [
    "user_act_cnt = df_user_activity.groupby(['user_id', 'day'], as_index=False)['user_id'].agg({'cnt':'count'})\n",
    "user_act_cnt = user_act_cnt.sort_values(by=['user_id', 'day'])\n",
    "user_act_cnt.shape\n",
    "user_act_cnt.head()"
   ]
  },
  {
   "cell_type": "code",
   "execution_count": 14,
   "metadata": {
    "collapsed": false
   },
   "outputs": [],
   "source": [
    "user_act_route = df_user_reg[['user_id']]\n",
    "for i in range(1, 31):\n",
    "    user_act_route['day_cnt_' + str(i)] = list(np.zeros([user_act_route.shape[0], ]).astype('int16'))\n",
    "user_act_route = user_act_route.sort_values(by=['user_id'])"
   ]
  },
  {
   "cell_type": "code",
   "execution_count": 15,
   "metadata": {
    "collapsed": false
   },
   "outputs": [
    {
     "name": "stdout",
     "output_type": "stream",
     "text": [
      "\n"
     ]
    }
   ],
   "source": [
    "for i in tqdm_notebook(range(user_act_cnt.shape[0])):\n",
    "    user_id = user_act_cnt.iloc[i].user_id\n",
    "    day = user_act_cnt.iloc[i].day\n",
    "    user_act_route['day_cnt_' + str(day)][user_act_route.user_id == user_id] = user_act_cnt.iloc[i].cnt"
   ]
  },
  {
   "cell_type": "code",
   "execution_count": 16,
   "metadata": {
    "collapsed": false,
    "scrolled": true
   },
   "outputs": [
    {
     "data": {
      "text/plain": [
       "(51480, 31)"
      ]
     },
     "execution_count": 16,
     "metadata": {},
     "output_type": "execute_result"
    },
    {
     "data": {
      "text/html": [
       "<div>\n",
       "<style scoped>\n",
       "    .dataframe tbody tr th:only-of-type {\n",
       "        vertical-align: middle;\n",
       "    }\n",
       "\n",
       "    .dataframe tbody tr th {\n",
       "        vertical-align: top;\n",
       "    }\n",
       "\n",
       "    .dataframe thead th {\n",
       "        text-align: right;\n",
       "    }\n",
       "</style>\n",
       "<table border=\"1\" class=\"dataframe\">\n",
       "  <thead>\n",
       "    <tr style=\"text-align: right;\">\n",
       "      <th></th>\n",
       "      <th>user_id</th>\n",
       "      <th>day_cnt_1</th>\n",
       "      <th>day_cnt_2</th>\n",
       "      <th>day_cnt_3</th>\n",
       "      <th>day_cnt_4</th>\n",
       "      <th>day_cnt_5</th>\n",
       "      <th>day_cnt_6</th>\n",
       "      <th>day_cnt_7</th>\n",
       "      <th>day_cnt_8</th>\n",
       "      <th>day_cnt_9</th>\n",
       "      <th>day_cnt_10</th>\n",
       "      <th>day_cnt_11</th>\n",
       "      <th>day_cnt_12</th>\n",
       "      <th>day_cnt_13</th>\n",
       "      <th>day_cnt_14</th>\n",
       "      <th>day_cnt_15</th>\n",
       "      <th>day_cnt_16</th>\n",
       "      <th>day_cnt_17</th>\n",
       "      <th>day_cnt_18</th>\n",
       "      <th>day_cnt_19</th>\n",
       "      <th>day_cnt_20</th>\n",
       "      <th>day_cnt_21</th>\n",
       "      <th>day_cnt_22</th>\n",
       "      <th>day_cnt_23</th>\n",
       "      <th>day_cnt_24</th>\n",
       "      <th>day_cnt_25</th>\n",
       "      <th>day_cnt_26</th>\n",
       "      <th>day_cnt_27</th>\n",
       "      <th>day_cnt_28</th>\n",
       "      <th>day_cnt_29</th>\n",
       "      <th>day_cnt_30</th>\n",
       "    </tr>\n",
       "  </thead>\n",
       "  <tbody>\n",
       "    <tr>\n",
       "      <th>25589</th>\n",
       "      <td>8</td>\n",
       "      <td>0</td>\n",
       "      <td>0</td>\n",
       "      <td>0</td>\n",
       "      <td>0</td>\n",
       "      <td>0</td>\n",
       "      <td>0</td>\n",
       "      <td>0</td>\n",
       "      <td>0</td>\n",
       "      <td>21</td>\n",
       "      <td>39</td>\n",
       "      <td>5</td>\n",
       "      <td>0</td>\n",
       "      <td>31</td>\n",
       "      <td>0</td>\n",
       "      <td>0</td>\n",
       "      <td>0</td>\n",
       "      <td>0</td>\n",
       "      <td>83</td>\n",
       "      <td>0</td>\n",
       "      <td>0</td>\n",
       "      <td>0</td>\n",
       "      <td>4</td>\n",
       "      <td>0</td>\n",
       "      <td>0</td>\n",
       "      <td>0</td>\n",
       "      <td>0</td>\n",
       "      <td>0</td>\n",
       "      <td>0</td>\n",
       "      <td>0</td>\n",
       "      <td>0</td>\n",
       "    </tr>\n",
       "    <tr>\n",
       "      <th>14698</th>\n",
       "      <td>45</td>\n",
       "      <td>0</td>\n",
       "      <td>0</td>\n",
       "      <td>0</td>\n",
       "      <td>0</td>\n",
       "      <td>0</td>\n",
       "      <td>0</td>\n",
       "      <td>0</td>\n",
       "      <td>0</td>\n",
       "      <td>0</td>\n",
       "      <td>0</td>\n",
       "      <td>0</td>\n",
       "      <td>0</td>\n",
       "      <td>0</td>\n",
       "      <td>0</td>\n",
       "      <td>0</td>\n",
       "      <td>0</td>\n",
       "      <td>0</td>\n",
       "      <td>0</td>\n",
       "      <td>0</td>\n",
       "      <td>0</td>\n",
       "      <td>0</td>\n",
       "      <td>0</td>\n",
       "      <td>0</td>\n",
       "      <td>0</td>\n",
       "      <td>0</td>\n",
       "      <td>0</td>\n",
       "      <td>0</td>\n",
       "      <td>0</td>\n",
       "      <td>0</td>\n",
       "      <td>0</td>\n",
       "    </tr>\n",
       "    <tr>\n",
       "      <th>1766</th>\n",
       "      <td>73</td>\n",
       "      <td>0</td>\n",
       "      <td>0</td>\n",
       "      <td>0</td>\n",
       "      <td>5</td>\n",
       "      <td>31</td>\n",
       "      <td>0</td>\n",
       "      <td>0</td>\n",
       "      <td>0</td>\n",
       "      <td>0</td>\n",
       "      <td>0</td>\n",
       "      <td>0</td>\n",
       "      <td>0</td>\n",
       "      <td>0</td>\n",
       "      <td>0</td>\n",
       "      <td>0</td>\n",
       "      <td>0</td>\n",
       "      <td>0</td>\n",
       "      <td>0</td>\n",
       "      <td>0</td>\n",
       "      <td>0</td>\n",
       "      <td>0</td>\n",
       "      <td>0</td>\n",
       "      <td>0</td>\n",
       "      <td>0</td>\n",
       "      <td>0</td>\n",
       "      <td>0</td>\n",
       "      <td>0</td>\n",
       "      <td>0</td>\n",
       "      <td>0</td>\n",
       "      <td>0</td>\n",
       "    </tr>\n",
       "    <tr>\n",
       "      <th>19867</th>\n",
       "      <td>129</td>\n",
       "      <td>0</td>\n",
       "      <td>0</td>\n",
       "      <td>0</td>\n",
       "      <td>0</td>\n",
       "      <td>0</td>\n",
       "      <td>0</td>\n",
       "      <td>0</td>\n",
       "      <td>0</td>\n",
       "      <td>0</td>\n",
       "      <td>0</td>\n",
       "      <td>0</td>\n",
       "      <td>1</td>\n",
       "      <td>0</td>\n",
       "      <td>0</td>\n",
       "      <td>0</td>\n",
       "      <td>0</td>\n",
       "      <td>0</td>\n",
       "      <td>2</td>\n",
       "      <td>0</td>\n",
       "      <td>0</td>\n",
       "      <td>0</td>\n",
       "      <td>0</td>\n",
       "      <td>0</td>\n",
       "      <td>0</td>\n",
       "      <td>0</td>\n",
       "      <td>0</td>\n",
       "      <td>0</td>\n",
       "      <td>0</td>\n",
       "      <td>0</td>\n",
       "      <td>0</td>\n",
       "    </tr>\n",
       "    <tr>\n",
       "      <th>26656</th>\n",
       "      <td>194</td>\n",
       "      <td>0</td>\n",
       "      <td>0</td>\n",
       "      <td>0</td>\n",
       "      <td>0</td>\n",
       "      <td>0</td>\n",
       "      <td>0</td>\n",
       "      <td>0</td>\n",
       "      <td>0</td>\n",
       "      <td>0</td>\n",
       "      <td>0</td>\n",
       "      <td>0</td>\n",
       "      <td>0</td>\n",
       "      <td>0</td>\n",
       "      <td>0</td>\n",
       "      <td>0</td>\n",
       "      <td>0</td>\n",
       "      <td>0</td>\n",
       "      <td>0</td>\n",
       "      <td>0</td>\n",
       "      <td>0</td>\n",
       "      <td>0</td>\n",
       "      <td>0</td>\n",
       "      <td>0</td>\n",
       "      <td>0</td>\n",
       "      <td>0</td>\n",
       "      <td>0</td>\n",
       "      <td>0</td>\n",
       "      <td>0</td>\n",
       "      <td>0</td>\n",
       "      <td>0</td>\n",
       "    </tr>\n",
       "  </tbody>\n",
       "</table>\n",
       "</div>"
      ],
      "text/plain": [
       "       user_id  day_cnt_1  day_cnt_2  day_cnt_3  day_cnt_4  day_cnt_5  \\\n",
       "25589        8          0          0          0          0          0   \n",
       "14698       45          0          0          0          0          0   \n",
       "1766        73          0          0          0          5         31   \n",
       "19867      129          0          0          0          0          0   \n",
       "26656      194          0          0          0          0          0   \n",
       "\n",
       "       day_cnt_6  day_cnt_7  day_cnt_8  day_cnt_9  day_cnt_10  day_cnt_11  \\\n",
       "25589          0          0          0         21          39           5   \n",
       "14698          0          0          0          0           0           0   \n",
       "1766           0          0          0          0           0           0   \n",
       "19867          0          0          0          0           0           0   \n",
       "26656          0          0          0          0           0           0   \n",
       "\n",
       "       day_cnt_12  day_cnt_13  day_cnt_14  day_cnt_15  day_cnt_16  day_cnt_17  \\\n",
       "25589           0          31           0           0           0           0   \n",
       "14698           0           0           0           0           0           0   \n",
       "1766            0           0           0           0           0           0   \n",
       "19867           1           0           0           0           0           0   \n",
       "26656           0           0           0           0           0           0   \n",
       "\n",
       "       day_cnt_18  day_cnt_19  day_cnt_20  day_cnt_21  day_cnt_22  day_cnt_23  \\\n",
       "25589          83           0           0           0           4           0   \n",
       "14698           0           0           0           0           0           0   \n",
       "1766            0           0           0           0           0           0   \n",
       "19867           2           0           0           0           0           0   \n",
       "26656           0           0           0           0           0           0   \n",
       "\n",
       "       day_cnt_24  day_cnt_25  day_cnt_26  day_cnt_27  day_cnt_28  day_cnt_29  \\\n",
       "25589           0           0           0           0           0           0   \n",
       "14698           0           0           0           0           0           0   \n",
       "1766            0           0           0           0           0           0   \n",
       "19867           0           0           0           0           0           0   \n",
       "26656           0           0           0           0           0           0   \n",
       "\n",
       "       day_cnt_30  \n",
       "25589           0  \n",
       "14698           0  \n",
       "1766            0  \n",
       "19867           0  \n",
       "26656           0  "
      ]
     },
     "execution_count": 16,
     "metadata": {},
     "output_type": "execute_result"
    }
   ],
   "source": [
    "user_act_route.shape\n",
    "user_act_route.head()"
   ]
  },
  {
   "cell_type": "markdown",
   "metadata": {},
   "source": [
    "## KMeans"
   ]
  },
  {
   "cell_type": "code",
   "execution_count": 18,
   "metadata": {
    "collapsed": true
   },
   "outputs": [],
   "source": [
    "from sklearn.cluster import KMeans"
   ]
  },
  {
   "cell_type": "code",
   "execution_count": 19,
   "metadata": {
    "collapsed": false
   },
   "outputs": [
    {
     "name": "stdout",
     "output_type": "stream",
     "text": [
      "CPU times: user 4.16 s, sys: 406 ms, total: 4.56 s\n",
      "Wall time: 7.22 s\n"
     ]
    }
   ],
   "source": [
    "%%time\n",
    "kmeans = KMeans(n_clusters=15, n_jobs=-1, random_state=2018).fit(user_act_route.iloc[:, :-7].drop(['user_id'], axis=1))\n",
    "user_act_route['group'] = kmeans.labels_"
   ]
  },
  {
   "cell_type": "code",
   "execution_count": 22,
   "metadata": {
    "collapsed": false,
    "scrolled": true
   },
   "outputs": [
    {
     "data": {
      "text/plain": [
       "group\n",
       "0     42107\n",
       "1       919\n",
       "2       159\n",
       "3      2386\n",
       "4       501\n",
       "5       140\n",
       "6       306\n",
       "7      1277\n",
       "8        72\n",
       "9       241\n",
       "10      764\n",
       "11      923\n",
       "12      710\n",
       "13      543\n",
       "14      432\n",
       "Name: user_id, dtype: int64"
      ]
     },
     "execution_count": 22,
     "metadata": {},
     "output_type": "execute_result"
    }
   ],
   "source": [
    "user_act_route.groupby(['group']).user_id.count()"
   ]
  },
  {
   "cell_type": "code",
   "execution_count": 23,
   "metadata": {
    "collapsed": true
   },
   "outputs": [],
   "source": [
    "user_act_route[['user_id', 'group']].to_csv('./features/group_noleak_b.csv', index=None)"
   ]
  },
  {
   "cell_type": "code",
   "execution_count": 16,
   "metadata": {
    "collapsed": true
   },
   "outputs": [],
   "source": [
    "df_user_reg[['user_id', 'fan_author_multi_hot', 'fan_author_list_multi_hot']].to_csv('./features/set_list_multi_hot_noleak.csv', index=None)"
   ]
  },
  {
   "cell_type": "code",
   "execution_count": 24,
   "metadata": {
    "collapsed": false
   },
   "outputs": [
    {
     "data": {
      "text/plain": [
       "(51480, 2)"
      ]
     },
     "execution_count": 24,
     "metadata": {},
     "output_type": "execute_result"
    },
    {
     "data": {
      "text/plain": [
       "(51480, 2)"
      ]
     },
     "execution_count": 24,
     "metadata": {},
     "output_type": "execute_result"
    }
   ],
   "source": [
    "set_group = df_user_reg[['user_id', 'fan_author_multi_hot']].copy()\n",
    "list_group = df_user_reg[['user_id', 'fan_author_list_multi_hot']].copy()\n",
    "\n",
    "set_group.shape\n",
    "list_group.shape"
   ]
  },
  {
   "cell_type": "code",
   "execution_count": 25,
   "metadata": {
    "collapsed": false
   },
   "outputs": [
    {
     "data": {
      "text/plain": [
       "(51480, 3802)"
      ]
     },
     "execution_count": 25,
     "metadata": {},
     "output_type": "execute_result"
    },
    {
     "data": {
      "text/plain": [
       "(51480, 3802)"
      ]
     },
     "execution_count": 25,
     "metadata": {},
     "output_type": "execute_result"
    }
   ],
   "source": [
    "for i in range(3800):\n",
    "    set_group['fan_author_multi_hot_' + str(i)] = set_group['fan_author_multi_hot'].apply(lambda x:x.pop())\n",
    "    list_group['fan_author_list_multi_hot_' + str(i)] = list_group['fan_author_list_multi_hot'].apply(lambda x:x.pop())\n",
    "\n",
    "set_group.shape\n",
    "list_group.shape"
   ]
  },
  {
   "cell_type": "code",
   "execution_count": 66,
   "metadata": {
    "collapsed": true
   },
   "outputs": [],
   "source": [
    "# set_group.to_csv('./features/set_multi_hot.csv', index=None)\n",
    "# list_group.to_csv('./features/list_multi_hot.csv', index=None)"
   ]
  },
  {
   "cell_type": "code",
   "execution_count": 41,
   "metadata": {
    "collapsed": false
   },
   "outputs": [
    {
     "name": "stdout",
     "output_type": "stream",
     "text": [
      "CPU times: user 46.4 s, sys: 4.47 s, total: 50.9 s\n",
      "Wall time: 1min 32s\n"
     ]
    }
   ],
   "source": [
    "%%time\n",
    "kmeans_set = KMeans(n_clusters=4, n_jobs=-1, random_state=2018).fit(set_group.drop(['user_id', 'fan_author_multi_hot'], axis=1))"
   ]
  },
  {
   "cell_type": "code",
   "execution_count": 42,
   "metadata": {
    "collapsed": false
   },
   "outputs": [
    {
     "data": {
      "text/plain": [
       "array([[2.73224044e-02, 8.65209472e-02, 7.92349727e-02, ...,\n",
       "        1.83060109e-01, 5.30965392e-01, 5.68306011e-01],\n",
       "       [4.16011833e-04, 6.93353055e-04, 1.27114727e-03, ...,\n",
       "        7.30331885e-03, 8.36646020e-03, 2.84505870e-02],\n",
       "       [1.13293051e-02, 1.51057402e-02, 9.21450151e-02, ...,\n",
       "        8.38368580e-02, 1.03474320e-01, 4.69788520e-01],\n",
       "       [6.39032815e-03, 1.70984456e-02, 2.93609672e-02, ...,\n",
       "        9.44732297e-02, 1.72538860e-01, 3.72193437e-01]])"
      ]
     },
     "execution_count": 42,
     "metadata": {},
     "output_type": "execute_result"
    }
   ],
   "source": [
    "df_user_reg['set_group'] = kmeans_set.labels_\n",
    "kmeans_set.cluster_centers_"
   ]
  },
  {
   "cell_type": "code",
   "execution_count": 28,
   "metadata": {
    "collapsed": false
   },
   "outputs": [
    {
     "name": "stdout",
     "output_type": "stream",
     "text": [
      "CPU times: user 40.2 s, sys: 3.99 s, total: 44.2 s\n",
      "Wall time: 1min\n"
     ]
    }
   ],
   "source": [
    "# %%time\n",
    "# kmeans_list = KMeans(n_clusters=3, n_jobs=-1, random_state=2018).fit(list_group.drop(['user_id', 'fan_author_list_multi_hot'], axis=1))"
   ]
  },
  {
   "cell_type": "code",
   "execution_count": 29,
   "metadata": {
    "collapsed": false
   },
   "outputs": [
    {
     "data": {
      "text/plain": [
       "array([[0.00382688, 0.01350091, 0.01301527, ..., 0.25439994, 0.28192626,\n",
       "        0.31526089],\n",
       "       [0.        , 0.        , 0.        , ..., 0.        , 0.        ,\n",
       "        0.        ],\n",
       "       [0.        , 0.        , 0.        , ..., 0.        , 0.        ,\n",
       "        0.        ]])"
      ]
     },
     "execution_count": 29,
     "metadata": {},
     "output_type": "execute_result"
    }
   ],
   "source": [
    "# df_user_reg['list_group'] = kmeans_list.labels_\n",
    "# kmeans_list.cluster_centers_"
   ]
  },
  {
   "cell_type": "code",
   "execution_count": 43,
   "metadata": {
    "collapsed": false
   },
   "outputs": [
    {
     "data": {
      "text/plain": [
       "set_group\n",
       "0     1098\n",
       "1    43268\n",
       "2     1324\n",
       "3     5790\n",
       "Name: user_id, dtype: int64"
      ]
     },
     "execution_count": 43,
     "metadata": {},
     "output_type": "execute_result"
    }
   ],
   "source": [
    "df_user_reg.groupby(['set_group']).user_id.count()\n",
    "# df_user_reg.groupby(['list_group']).user_id.count()"
   ]
  },
  {
   "cell_type": "code",
   "execution_count": 44,
   "metadata": {
    "collapsed": false,
    "scrolled": true
   },
   "outputs": [
    {
     "data": {
      "text/html": [
       "<div>\n",
       "<style scoped>\n",
       "    .dataframe tbody tr th:only-of-type {\n",
       "        vertical-align: middle;\n",
       "    }\n",
       "\n",
       "    .dataframe tbody tr th {\n",
       "        vertical-align: top;\n",
       "    }\n",
       "\n",
       "    .dataframe thead th {\n",
       "        text-align: right;\n",
       "    }\n",
       "</style>\n",
       "<table border=\"1\" class=\"dataframe\">\n",
       "  <thead>\n",
       "    <tr style=\"text-align: right;\">\n",
       "      <th></th>\n",
       "      <th>user_id</th>\n",
       "      <th>set_group</th>\n",
       "      <th>list_group</th>\n",
       "    </tr>\n",
       "  </thead>\n",
       "  <tbody>\n",
       "    <tr>\n",
       "      <th>0</th>\n",
       "      <td>167777</td>\n",
       "      <td>1</td>\n",
       "      <td>0</td>\n",
       "    </tr>\n",
       "    <tr>\n",
       "      <th>1</th>\n",
       "      <td>886972</td>\n",
       "      <td>1</td>\n",
       "      <td>0</td>\n",
       "    </tr>\n",
       "    <tr>\n",
       "      <th>2</th>\n",
       "      <td>921231</td>\n",
       "      <td>1</td>\n",
       "      <td>0</td>\n",
       "    </tr>\n",
       "    <tr>\n",
       "      <th>3</th>\n",
       "      <td>904908</td>\n",
       "      <td>3</td>\n",
       "      <td>0</td>\n",
       "    </tr>\n",
       "    <tr>\n",
       "      <th>4</th>\n",
       "      <td>460291</td>\n",
       "      <td>2</td>\n",
       "      <td>0</td>\n",
       "    </tr>\n",
       "  </tbody>\n",
       "</table>\n",
       "</div>"
      ],
      "text/plain": [
       "   user_id  set_group  list_group\n",
       "0   167777          1           0\n",
       "1   886972          1           0\n",
       "2   921231          1           0\n",
       "3   904908          3           0\n",
       "4   460291          2           0"
      ]
     },
     "execution_count": 44,
     "metadata": {},
     "output_type": "execute_result"
    }
   ],
   "source": [
    "df_user_reg[['user_id', 'set_group', 'list_group']].head()"
   ]
  },
  {
   "cell_type": "code",
   "execution_count": 45,
   "metadata": {
    "collapsed": true
   },
   "outputs": [],
   "source": [
    "df_user_reg[['user_id', 'set_group']].to_csv('./features/set_group_noleak_b.csv', index=None)"
   ]
  }
 ],
 "metadata": {
  "anaconda-cloud": {},
  "kernelspec": {
   "display_name": "Python [default]",
   "language": "python",
   "name": "python3"
  },
  "language_info": {
   "codemirror_mode": {
    "name": "ipython",
    "version": 3
   },
   "file_extension": ".py",
   "mimetype": "text/x-python",
   "name": "python",
   "nbconvert_exporter": "python",
   "pygments_lexer": "ipython3",
   "version": "3.5.2"
  },
  "widgets": {
   "state": {
    "a0e413a60a8b4e89bafda2b93373206a": {
     "views": [
      {
       "cell_index": 16
      }
     ]
    }
   },
   "version": "1.2.0"
  }
 },
 "nbformat": 4,
 "nbformat_minor": 1
}
