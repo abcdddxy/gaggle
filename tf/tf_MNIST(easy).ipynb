{
 "cells": [
  {
   "cell_type": "code",
   "execution_count": 1,
   "metadata": {
    "collapsed": true
   },
   "outputs": [],
   "source": [
    "import tensorflow as tf\n",
    "import numpy as np\n",
    "import matplotlib.pyplot as plt\n",
    "import os\n",
    "os.environ['CUDA_VISIBLE_DEVICES'] = '0'\n",
    "\n",
    "#每次可以输出多个变量\n",
    "from IPython.core.interactiveshell import InteractiveShell\n",
    "InteractiveShell.ast_node_interactivity = \"all\""
   ]
  },
  {
   "cell_type": "code",
   "execution_count": 2,
   "metadata": {
    "collapsed": true
   },
   "outputs": [],
   "source": [
    "from tensorflow.examples.tutorials.mnist import input_data"
   ]
  },
  {
   "cell_type": "code",
   "execution_count": 3,
   "metadata": {
    "collapsed": false
   },
   "outputs": [
    {
     "name": "stdout",
     "output_type": "stream",
     "text": [
      "Extracting MNIST_data/train-images-idx3-ubyte.gz\n",
      "Extracting MNIST_data/train-labels-idx1-ubyte.gz\n",
      "Extracting MNIST_data/t10k-images-idx3-ubyte.gz\n",
      "Extracting MNIST_data/t10k-labels-idx1-ubyte.gz\n"
     ]
    }
   ],
   "source": [
    "# 载入数据集\n",
    "mnist = input_data.read_data_sets('MNIST_data', one_hot=True)"
   ]
  },
  {
   "cell_type": "code",
   "execution_count": 4,
   "metadata": {
    "collapsed": true
   },
   "outputs": [],
   "source": [
    "batch_size = 100\n",
    "n_batch = mnist.train.num_examples // batch_size"
   ]
  },
  {
   "cell_type": "code",
   "execution_count": 13,
   "metadata": {
    "collapsed": false
   },
   "outputs": [],
   "source": [
    "x = tf.placeholder(tf.float32, [None, len(mnist.train.images[0])])\n",
    "y = tf.placeholder(tf.float32, [None, len(mnist.train.labels[0])])"
   ]
  },
  {
   "cell_type": "code",
   "execution_count": 14,
   "metadata": {
    "collapsed": true
   },
   "outputs": [],
   "source": [
    "# 构建神经网络\n",
    "W = tf.Variable(tf.zeros([len(mnist.train.images[0]), len(mnist.train.labels[0])]))\n",
    "b = tf.Variable(tf.zeros([10]))\n",
    "prediction = tf.nn.softmax(tf.matmul(x, W) + b)\n",
    "\n",
    "loss = tf.reduce_mean(tf.square(y - prediction))\n",
    "optimizer = tf.train.GradientDescentOptimizer(learning_rate=0.1)\n",
    "train = optimizer.minimize(loss)\n",
    "\n",
    "init = tf.global_variables_initializer()"
   ]
  },
  {
   "cell_type": "code",
   "execution_count": 24,
   "metadata": {
    "collapsed": false
   },
   "outputs": [],
   "source": [
    "# 准确率\n",
    "correct_prediction = tf.equal(tf.argmax(y, axis=1), tf.argmax(prediction, axis=1))\n",
    "acc = tf.reduce_mean(tf.cast(correct_prediction, dtype=tf.float32))"
   ]
  },
  {
   "cell_type": "code",
   "execution_count": 26,
   "metadata": {
    "collapsed": false
   },
   "outputs": [
    {
     "name": "stdout",
     "output_type": "stream",
     "text": [
      "Iter 0 test acc: 0.7419\n",
      "Iter 1 test acc: 0.832\n",
      "Iter 2 test acc: 0.8582\n",
      "Iter 3 test acc: 0.8705\n",
      "Iter 4 test acc: 0.8779\n",
      "Iter 5 test acc: 0.8813\n",
      "Iter 6 test acc: 0.8849\n",
      "Iter 7 test acc: 0.8883\n",
      "Iter 8 test acc: 0.8915\n",
      "Iter 9 test acc: 0.8942\n",
      "Iter 10 test acc: 0.8961\n",
      "Iter 11 test acc: 0.897\n",
      "Iter 12 test acc: 0.899\n",
      "Iter 13 test acc: 0.9002\n",
      "Iter 14 test acc: 0.9006\n",
      "Iter 15 test acc: 0.9014\n",
      "Iter 16 test acc: 0.9027\n",
      "Iter 17 test acc: 0.9039\n",
      "Iter 18 test acc: 0.9043\n",
      "Iter 19 test acc: 0.9047\n"
     ]
    }
   ],
   "source": [
    "config = tf.ConfigProto()\n",
    "config.gpu_options.allow_growth = True\n",
    "sess = tf.Session(config=config)\n",
    "\n",
    "sess.run(init)\n",
    "for epoch in range(20):\n",
    "    for batch in range(n_batch):\n",
    "        batch_xs, batch_ys = mnist.train.next_batch(batch_size)\n",
    "        sess.run(train, feed_dict={x:batch_xs, y:batch_ys})\n",
    "    print('Iter ' + str(epoch) + ' test acc: ' + str(sess.run(acc, feed_dict={x:mnist.test.images, y:mnist.test.labels})))\n",
    "sess.close()"
   ]
  },
  {
   "cell_type": "markdown",
   "metadata": {},
   "source": [
    "## 优化思路\n",
    "- 修改batch_size\n",
    "- 增加隐藏层\n",
    "- 修改初始化方式\n",
    "- 修改代价函数（交叉熵）\n",
    "- 减小学习率\n",
    "- 增大训练次数"
   ]
  }
 ],
 "metadata": {
  "anaconda-cloud": {},
  "kernelspec": {
   "display_name": "Python [conda env:anaconda3]",
   "language": "python",
   "name": "conda-env-anaconda3-py"
  },
  "language_info": {
   "codemirror_mode": {
    "name": "ipython",
    "version": 3
   },
   "file_extension": ".py",
   "mimetype": "text/x-python",
   "name": "python",
   "nbconvert_exporter": "python",
   "pygments_lexer": "ipython3",
   "version": "3.5.2"
  }
 },
 "nbformat": 4,
 "nbformat_minor": 1
}
