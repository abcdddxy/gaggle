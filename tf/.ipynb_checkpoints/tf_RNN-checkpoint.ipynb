{
 "cells": [
  {
   "cell_type": "code",
   "execution_count": 1,
   "metadata": {
    "collapsed": true
   },
   "outputs": [],
   "source": [
    "import tensorflow as tf\n",
    "import numpy as np\n",
    "import matplotlib.pyplot as plt\n",
    "import os\n",
    "os.environ['CUDA_VISIBLE_DEVICES'] = '0'\n",
    "\n",
    "#每次可以输出多个变量\n",
    "from IPython.core.interactiveshell import InteractiveShell\n",
    "InteractiveShell.ast_node_interactivity = \"all\""
   ]
  },
  {
   "cell_type": "code",
   "execution_count": 2,
   "metadata": {
    "collapsed": false
   },
   "outputs": [
    {
     "name": "stdout",
     "output_type": "stream",
     "text": [
      "Extracting MNIST_data/train-images-idx3-ubyte.gz\n",
      "Extracting MNIST_data/train-labels-idx1-ubyte.gz\n",
      "Extracting MNIST_data/t10k-images-idx3-ubyte.gz\n",
      "Extracting MNIST_data/t10k-labels-idx1-ubyte.gz\n"
     ]
    }
   ],
   "source": [
    "from tensorflow.examples.tutorials.mnist import input_data\n",
    "\n",
    "# 载入数据集\n",
    "mnist = input_data.read_data_sets('MNIST_data', one_hot=True)\n",
    "\n",
    "image_x = len(mnist.train.images[0])\n",
    "image_y = len(mnist.train.labels[0])"
   ]
  },
  {
   "cell_type": "code",
   "execution_count": 3,
   "metadata": {
    "collapsed": true
   },
   "outputs": [],
   "source": [
    "lstm_size = 100\n",
    "n_classes = 10\n",
    "batch_size = 50\n",
    "n_batch = mnist.train.num_examples // batch_size"
   ]
  },
  {
   "cell_type": "code",
   "execution_count": 4,
   "metadata": {
    "collapsed": true
   },
   "outputs": [],
   "source": [
    "# 命名空间\n",
    "with tf.name_scope('input'):\n",
    "    x = tf.placeholder(tf.float32, [None, image_x], name='x-input')\n",
    "    y = tf.placeholder(tf.float32, [None, image_y], name='y-input')\n",
    "\n",
    "W = tf.Variable(tf.truncated_normal([lstm_size, n_classes], stddev=0.1))\n",
    "b = tf.Variable(tf.constant(0.1, shape=[n_classes]))"
   ]
  },
  {
   "cell_type": "markdown",
   "metadata": {},
   "source": [
    "![RNN](./img/rnn.png)"
   ]
  },
  {
   "cell_type": "code",
   "execution_count": 5,
   "metadata": {
    "collapsed": true
   },
   "outputs": [],
   "source": [
    "def RNN(x, W, b):\n",
    "    inputs = tf.reshape(x, [-1, 28, 28])\n",
    "    lstm_cell = tf.nn.rnn_cell.BasicLSTMCell(lstm_size)\n",
    "    # output\n",
    "    # final_state[state, batch_size, cell.state_size]\n",
    "    # final_state[0]是cell_state(即上图ct), final_state[1]是hidden_state(即上图ht，加了输出门的ct)\n",
    "    output, final_state = tf.nn.dynamic_rnn(lstm_cell, inputs=inputs, dtype=tf.float32)\n",
    "    # 也可以改为output[1][27]\n",
    "    result = tf.nn.softmax(tf.matmul(final_state[1], W) + b)\n",
    "    return result"
   ]
  },
  {
   "cell_type": "code",
   "execution_count": 6,
   "metadata": {
    "collapsed": false
   },
   "outputs": [
    {
     "name": "stdout",
     "output_type": "stream",
     "text": [
      "Iter 0 test acc: 0.76\n",
      "Iter 1 test acc: 0.8345\n",
      "Iter 2 test acc: 0.8858\n",
      "Iter 3 test acc: 0.9009\n",
      "Iter 4 test acc: 0.9108\n",
      "Iter 5 test acc: 0.9171\n",
      "Iter 6 test acc: 0.9258\n",
      "Iter 7 test acc: 0.9329\n",
      "Iter 8 test acc: 0.9359\n",
      "Iter 9 test acc: 0.943\n"
     ]
    }
   ],
   "source": [
    "prediction = RNN(x, W, b)\n",
    "\n",
    "with tf.name_scope('loss'):\n",
    "    loss = tf.reduce_mean(tf.nn.softmax_cross_entropy_with_logits(labels=y, logits=prediction))\n",
    "with tf.name_scope('optimizer'):\n",
    "    optimizer = tf.train.AdamOptimizer(1e-4)\n",
    "with tf.name_scope('trian'):\n",
    "    train = optimizer.minimize(loss)\n",
    "\n",
    "init = tf.global_variables_initializer()\n",
    "\n",
    "# 准确率\n",
    "with tf.name_scope('accuary'):\n",
    "    with tf.name_scope('correct_prediction'):\n",
    "        correct_prediction = tf.equal(tf.argmax(y, axis=1), tf.argmax(prediction, axis=1))\n",
    "    with tf.name_scope('acc'):\n",
    "        acc = tf.reduce_mean(tf.cast(correct_prediction, dtype=tf.float32))\n",
    "\n",
    "config = tf.ConfigProto()\n",
    "config.gpu_options.allow_growth = True\n",
    "sess = tf.Session(config=config)\n",
    "\n",
    "sess.run(init)\n",
    "for epoch in range(10):\n",
    "    # 将图存入文件\n",
    "    writer = tf.summary.FileWriter('./logs', sess.graph)\n",
    "    for batch in range(n_batch):\n",
    "        batch_xs, batch_ys = mnist.train.next_batch(batch_size)\n",
    "        sess.run(train, feed_dict={x:batch_xs, y:batch_ys})\n",
    "    print('Iter ' + str(epoch) + ' test acc: ' + str(sess.run(acc, feed_dict={x:mnist.test.images, y:mnist.test.labels})))\n",
    "sess.close()"
   ]
  }
 ],
 "metadata": {
  "anaconda-cloud": {},
  "kernelspec": {
   "display_name": "Python [conda env:anaconda3]",
   "language": "python",
   "name": "conda-env-anaconda3-py"
  },
  "language_info": {
   "codemirror_mode": {
    "name": "ipython",
    "version": 3
   },
   "file_extension": ".py",
   "mimetype": "text/x-python",
   "name": "python",
   "nbconvert_exporter": "python",
   "pygments_lexer": "ipython3",
   "version": "3.5.2"
  }
 },
 "nbformat": 4,
 "nbformat_minor": 1
}
