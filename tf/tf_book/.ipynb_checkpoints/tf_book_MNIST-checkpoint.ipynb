{
 "cells": [
  {
   "cell_type": "code",
   "execution_count": 1,
   "metadata": {
    "collapsed": false
   },
   "outputs": [
    {
     "name": "stderr",
     "output_type": "stream",
     "text": [
      "/usr/local/anaconda3/lib/python3.5/site-packages/h5py/__init__.py:36: FutureWarning: Conversion of the second argument of issubdtype from `float` to `np.floating` is deprecated. In future, it will be treated as `np.float64 == np.dtype(float).type`.\n",
      "  from ._conv import register_converters as _register_converters\n"
     ]
    }
   ],
   "source": [
    "import tensorflow as tf\n",
    "from tensorflow.examples.tutorials.mnist import input_data\n",
    "import os\n",
    "os.environ['CUDA_VISIBLE_DEVICES'] = '0'\n",
    "\n",
    "#每次可以输出多个变量\n",
    "from IPython.core.interactiveshell import InteractiveShell\n",
    "InteractiveShell.ast_node_interactivity = \"all\"\n",
    "\n",
    "# config = tf.ConfigProto()\n",
    "# config.gpu_options.allow_growth = True\n",
    "# sess = tf.Session(config=config)"
   ]
  },
  {
   "cell_type": "code",
   "execution_count": 2,
   "metadata": {
    "collapsed": true
   },
   "outputs": [],
   "source": [
    "INPUT_NODE = 784\n",
    "OUTPUT_NODE = 10\n",
    "\n",
    "LAYER1_NODE = 500\n",
    "\n",
    "BATCH_SIZE = 100\n",
    "\n",
    "LEARNING_RATE_BASE = 0.8\n",
    "LEARNING_RATE_DECAY = 0.99\n",
    "REGULARIZATION_RATE = 0.0001\n",
    "TRAINING_STEPS = 30000\n",
    "MOVING_AVERAGE_DECAY = 0.99"
   ]
  },
  {
   "cell_type": "code",
   "execution_count": 3,
   "metadata": {
    "collapsed": true
   },
   "outputs": [],
   "source": [
    "def inference(input_tensor, avg_class, weight1, bias1, weight2, bias2):\n",
    "    if avg_class == None:\n",
    "        layer1 = tf.nn.relu(tf.nn.xw_plus_b(input_tensor, weight1, bias1))\n",
    "        return tf.nn.xw_plus_b(layer1, weight2, bias2)\n",
    "    else:\n",
    "        layer1 = tf.nn.relu(tf.nn.xw_plus_b(input_tensor, avg_class.average(weight1), avg_class.average(bias1)))\n",
    "        return tf.nn.xw_plus_b(layer1, avg_class.average(weight2), avg_class.average(bias2))"
   ]
  },
  {
   "cell_type": "code",
   "execution_count": null,
   "metadata": {
    "collapsed": true
   },
   "outputs": [],
   "source": [
    "# 使用命名空间改进inference\n",
    "def inference(input_tensor, reuse=False):\n",
    "    with tf.variable_scope('layer1', reuse=reuse):\n",
    "        weight1 = tf.get_variable('weight1', [INPUT_NODE, LAYER1_NODE], initializer=tf.truncated_normal_initializer(stddev=0.1))\n",
    "        bias1 = tf.get_variable('bias1', [LAYER1_NODE], initializer=tf.constant_initializer(0.1))\n",
    "        layer1 = tf.nn.xw_plus_b(input_tensor, weight1, bias1)\n",
    "    with tf.variable_scope('layer2', reuse=reuse):\n",
    "        weight2 = tf.get_variable('weight2', [LAYER1_NODE, OUTPUT_NODE], initializer=tf.truncated_normal_initializer(stddev=0.1))\n",
    "        bias2 = tf.get_variable('bias2', [OUTPUT_NODE], initializer=tf.constant_initializer(0.1))\n",
    "        layer2 = tf.nn.xw_plus_b(layer1, weight2, bias2)\n",
    "    return layer2"
   ]
  },
  {
   "cell_type": "code",
   "execution_count": 13,
   "metadata": {
    "collapsed": true
   },
   "outputs": [],
   "source": [
    "def train(mnist):\n",
    "    x = tf.placeholder(tf.float32, [None, INPUT_NODE], 'x-input')\n",
    "    y_ = tf.placeholder(tf.float32, [None, OUTPUT_NODE], 'y-input')\n",
    "    \n",
    "    weight1 = tf.Variable(tf.truncated_normal([INPUT_NODE, LAYER1_NODE], stddev=0.1))\n",
    "    bias1 = tf.Variable(tf.constant(0.1 ,shape=[LAYER1_NODE]))\n",
    "    weight2 = tf.Variable(tf.truncated_normal([LAYER1_NODE, OUTPUT_NODE], stddev=0.1))\n",
    "    bias2 = tf.Variable(tf.constant(0.1 ,shape=[OUTPUT_NODE]))\n",
    "\n",
    "    y = inference(x, None, weight1, bias1, weight2, bias2\n",
    "    \n",
    "    # 滑动平均模型\n",
    "    global_step = tf.Variable(0, trainable=False)\n",
    "    variable_averages = tf.train.ExponentialMovingAverage(MOVING_AVERAGE_DECAY, global_step)\n",
    "    variable_averages_op = variable_averages.apply(tf.trainable_variables())\n",
    "    average_y = inference(x, variable_averages, weight1, bias1, weight2, bias2)\n",
    "    \n",
    "    # loss为交叉熵加上正则化项\n",
    "    cross_entry = tf.nn.sparse_softmax_cross_entropy_with_logits(logits=y, labels=tf.argmax(y_, 1))\n",
    "    cross_entry_mean = tf.reduce_mean(cross_entry)\n",
    "    regularizer = tf.contrib.layers.l2_regularizer(REGULARIZATION_RATE)\n",
    "    regularization = regularizer(weight1) + regularizer(weight2)\n",
    "    loss = cross_entry_mean + regularization\n",
    "    # 衰减学习率\n",
    "    learning_rate = tf.train.exponential_decay(LEARNING_RATE_BASE, global_step, mnist.train.num_examples // BATCH_SIZE, LEARNING_RATE_DECAY)\n",
    "    \n",
    "    train_step = tf.train.GradientDescentOptimizer(learning_rate).minimize(loss, global_step)\n",
    "    \n",
    "    # 规定执行的先后顺序，先训练再更新滑动平均模型\n",
    "    with tf.control_dependencies([train_step, variable_averages_op]):\n",
    "        train_op = tf.no_op('train')\n",
    "        \n",
    "    correct_prediction = tf.equal(tf.argmax(average_y, 1), tf.argmax(y_, 1))\n",
    "    accuracy = tf.reduce_mean(tf.cast(correct_prediction, tf.float32))\n",
    "    \n",
    "    config = tf.ConfigProto()\n",
    "    config.gpu_options.allow_growth = True\n",
    "    with tf.Session(config=config) as sess:\n",
    "        tf.global_variables_initializer().run()\n",
    "        \n",
    "        for i in range(TRAINING_STEPS):\n",
    "            if i % 1000 == 0:\n",
    "                val_acc = sess.run(accuracy, feed_dict={x:mnist.validation.images, y_:mnist.validation.labels})\n",
    "#                 print(sess.run(learning_rate, feed_dict={x:mnist.validation.images, y_:mnist.validation.labels}))\n",
    "                print('After %d steps, val acc = %f' % (i, val_acc))\n",
    "                \n",
    "            xs, ys = mnist.train.next_batch(BATCH_SIZE)\n",
    "            sess.run(train_op, feed_dict={x:xs, y_:ys})\n",
    "            \n",
    "        test_acc = sess.run(accuracy, feed_dict={x:mnist.test.images, y_:mnist.test.labels})\n",
    "        print('After %d steps, test acc = %f' % (i, test_acc))"
   ]
  },
  {
   "cell_type": "code",
   "execution_count": 9,
   "metadata": {
    "collapsed": true
   },
   "outputs": [],
   "source": [
    "def main(argv=None):\n",
    "    mnist = input_data.read_data_sets('../MNIST_data/', one_hot=True)\n",
    "    train(mnist)"
   ]
  },
  {
   "cell_type": "code",
   "execution_count": 14,
   "metadata": {
    "collapsed": true
   },
   "outputs": [
    {
     "name": "stdout",
     "output_type": "stream",
     "text": [
      "Extracting ../MNIST_data/train-images-idx3-ubyte.gz\n",
      "Extracting ../MNIST_data/train-labels-idx1-ubyte.gz\n",
      "Extracting ../MNIST_data/t10k-images-idx3-ubyte.gz\n",
      "Extracting ../MNIST_data/t10k-labels-idx1-ubyte.gz\n",
      "After 0 steps, val acc = 0.079600\n",
      "After 1000 steps, val acc = 0.978000\n",
      "After 2000 steps, val acc = 0.980000\n",
      "After 3000 steps, val acc = 0.981600\n",
      "After 4000 steps, val acc = 0.981400\n",
      "After 5000 steps, val acc = 0.982400\n",
      "After 6000 steps, val acc = 0.982000\n",
      "After 7000 steps, val acc = 0.982600\n",
      "After 8000 steps, val acc = 0.984400\n",
      "After 9000 steps, val acc = 0.984600\n",
      "After 10000 steps, val acc = 0.984000\n",
      "After 11000 steps, val acc = 0.983800\n",
      "After 12000 steps, val acc = 0.983600\n",
      "After 13000 steps, val acc = 0.983400\n",
      "After 14000 steps, val acc = 0.983800\n",
      "After 15000 steps, val acc = 0.984400\n",
      "After 16000 steps, val acc = 0.984600\n",
      "After 17000 steps, val acc = 0.983200\n",
      "After 18000 steps, val acc = 0.984400\n",
      "After 19000 steps, val acc = 0.984600\n",
      "After 20000 steps, val acc = 0.984200\n",
      "After 21000 steps, val acc = 0.985000\n",
      "After 22000 steps, val acc = 0.984200\n",
      "After 23000 steps, val acc = 0.985200\n",
      "After 24000 steps, val acc = 0.985000\n",
      "After 25000 steps, val acc = 0.986000\n",
      "After 26000 steps, val acc = 0.985200\n",
      "After 27000 steps, val acc = 0.984800\n",
      "After 28000 steps, val acc = 0.984800\n",
      "After 29000 steps, val acc = 0.985800\n",
      "After 29999 steps, test acc = 0.983900\n"
     ]
    },
    {
     "ename": "SystemExit",
     "evalue": "",
     "output_type": "error",
     "traceback": [
      "An exception has occurred, use %tb to see the full traceback.\n",
      "\u001b[0;31mSystemExit\u001b[0m\n"
     ]
    },
    {
     "name": "stderr",
     "output_type": "stream",
     "text": [
      "/usr/local/anaconda3/lib/python3.5/site-packages/IPython/core/interactiveshell.py:2889: UserWarning: To exit: use 'exit', 'quit', or Ctrl-D.\n",
      "  warn(\"To exit: use 'exit', 'quit', or Ctrl-D.\", stacklevel=1)\n"
     ]
    }
   ],
   "source": [
    "if __name__==\"__main__\":\n",
    "    tf.app.run()"
   ]
  },
  {
   "cell_type": "markdown",
   "metadata": {},
   "source": [
    "## 模型持久化"
   ]
  },
  {
   "cell_type": "code",
   "execution_count": null,
   "metadata": {
    "collapsed": true
   },
   "outputs": [],
   "source": [
    "# 保存\n",
    "saver = tf.train.Saver()\n",
    "saver.save(sess, './model/model.ckpt') \n",
    "# 保存之后出现三个文件：model.ckpt.meta计算图结构，model.ckpt模型中变量取值，checkpoint模型文件列表及具体内容\n",
    "\n",
    "# 读取\n",
    "saver = tf.train.Saver()\n",
    "saver.restore(sess, './model/model.ckpt')\n",
    "sess.run()\n",
    "\n",
    "# 只读取特定变量\n",
    "saver = tf.train.Saver({'v1':new_v1, 'v2':new_v2}) # 将模型中的v1读取到new_v1中，v2读取到new_v2中\n",
    "saver.restore(sess, './model/model.ckpt')\n",
    "sess.run()\n",
    "# 在滑动平均模型中可以使用ema.variables_to_restore()生成上述字典\n",
    "\n",
    "# 读取最新的模型\n",
    "ckpt = tf.train.get_checkpoint_state(PATH) # ckpt.model_checkpoint_path即为最新模型的路径"
   ]
  }
 ],
 "metadata": {
  "anaconda-cloud": {},
  "kernelspec": {
   "display_name": "Python [default]",
   "language": "python",
   "name": "python3"
  },
  "language_info": {
   "codemirror_mode": {
    "name": "ipython",
    "version": 3
   },
   "file_extension": ".py",
   "mimetype": "text/x-python",
   "name": "python",
   "nbconvert_exporter": "python",
   "pygments_lexer": "ipython3",
   "version": "3.5.2"
  }
 },
 "nbformat": 4,
 "nbformat_minor": 1
}
