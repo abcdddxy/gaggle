{
 "cells": [
  {
   "cell_type": "code",
   "execution_count": 1,
   "metadata": {
    "collapsed": true
   },
   "outputs": [],
   "source": [
    "import tensorflow as tf\n",
    "import numpy as np\n",
    "import os\n",
    "os.environ['CUDA_VISIBLE_DEVICES'] = '0'\n",
    "\n",
    "#每次可以输出多个变量\n",
    "from IPython.core.interactiveshell import InteractiveShell\n",
    "InteractiveShell.ast_node_interactivity = \"all\""
   ]
  },
  {
   "cell_type": "code",
   "execution_count": 4,
   "metadata": {
    "collapsed": true
   },
   "outputs": [],
   "source": [
    "# 随机生成100个点\n",
    "x_data = np.random.rand(100)\n",
    "y_data = 0.1 * x_data + 0.2"
   ]
  },
  {
   "cell_type": "code",
   "execution_count": 5,
   "metadata": {
    "collapsed": true
   },
   "outputs": [],
   "source": [
    "# 构造线性模型\n",
    "b = tf.Variable(0.)\n",
    "k = tf.Variable(0.)\n",
    "\n",
    "y = k * x_data + b"
   ]
  },
  {
   "cell_type": "code",
   "execution_count": 6,
   "metadata": {
    "collapsed": true
   },
   "outputs": [],
   "source": [
    "# 构造loss函数\n",
    "loss = tf.reduce_mean(tf.square(y_data - y))"
   ]
  },
  {
   "cell_type": "code",
   "execution_count": 7,
   "metadata": {
    "collapsed": true
   },
   "outputs": [],
   "source": [
    "# 构造优化器\n",
    "optimizer = tf.train.GradientDescentOptimizer(learning_rate=0.2)"
   ]
  },
  {
   "cell_type": "code",
   "execution_count": 8,
   "metadata": {
    "collapsed": true
   },
   "outputs": [],
   "source": [
    "# 构造最小化代价函数\n",
    "train = optimizer.minimize(loss)"
   ]
  },
  {
   "cell_type": "code",
   "execution_count": 9,
   "metadata": {
    "collapsed": true
   },
   "outputs": [],
   "source": [
    "# 构造初始化函数\n",
    "init = tf.global_variables_initializer()"
   ]
  },
  {
   "cell_type": "code",
   "execution_count": 11,
   "metadata": {
    "collapsed": false
   },
   "outputs": [
    {
     "name": "stdout",
     "output_type": "stream",
     "text": [
      "0 [0.054845225, 0.10052384]\n",
      "10 [0.10552064, 0.1968803]\n",
      "20 [0.10429463, 0.19764633]\n",
      "30 [0.10331707, 0.19818214]\n",
      "40 [0.10256202, 0.19859594]\n",
      "50 [0.10197885, 0.19891553]\n",
      "60 [0.10152841, 0.19916238]\n",
      "70 [0.1011805, 0.19935305]\n",
      "80 [0.10091178, 0.19950031]\n",
      "90 [0.10070425, 0.19961405]\n",
      "100 [0.10054395, 0.19970189]\n",
      "110 [0.10042013, 0.19976975]\n",
      "120 [0.1003245, 0.19982216]\n",
      "130 [0.10025063, 0.19986264]\n",
      "140 [0.10019358, 0.19989391]\n",
      "150 [0.10014952, 0.19991806]\n",
      "160 [0.10011549, 0.1999367]\n",
      "170 [0.10008921, 0.19995111]\n",
      "180 [0.1000689, 0.19996224]\n",
      "190 [0.10005321, 0.19997084]\n",
      "200 [0.1000411, 0.19997747]\n"
     ]
    }
   ],
   "source": [
    "config = tf.ConfigProto()\n",
    "config.gpu_options.allow_growth = True\n",
    "sess = tf.Session(config=config)\n",
    "\n",
    "sess.run(init)\n",
    "for i in range(201):\n",
    "    sess.run(train)\n",
    "    if i % 10 == 0:\n",
    "        print(i, sess.run([k, b]))\n",
    "sess.close()"
   ]
  }
 ],
 "metadata": {
  "anaconda-cloud": {},
  "kernelspec": {
   "display_name": "Python [conda env:anaconda3]",
   "language": "python",
   "name": "conda-env-anaconda3-py"
  },
  "language_info": {
   "codemirror_mode": {
    "name": "ipython",
    "version": 3
   },
   "file_extension": ".py",
   "mimetype": "text/x-python",
   "name": "python",
   "nbconvert_exporter": "python",
   "pygments_lexer": "ipython3",
   "version": "3.5.2"
  }
 },
 "nbformat": 4,
 "nbformat_minor": 1
}
