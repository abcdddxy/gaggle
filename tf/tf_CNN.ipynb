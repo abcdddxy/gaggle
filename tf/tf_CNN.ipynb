{
 "cells": [
  {
   "cell_type": "code",
   "execution_count": 2,
   "metadata": {
    "collapsed": true
   },
   "outputs": [],
   "source": [
    "import tensorflow as tf\n",
    "import numpy as np\n",
    "import matplotlib.pyplot as plt\n",
    "import os\n",
    "os.environ['CUDA_VISIBLE_DEVICES'] = '0'\n",
    "\n",
    "#每次可以输出多个变量\n",
    "from IPython.core.interactiveshell import InteractiveShell\n",
    "InteractiveShell.ast_node_interactivity = \"all\""
   ]
  },
  {
   "cell_type": "code",
   "execution_count": 3,
   "metadata": {
    "collapsed": false
   },
   "outputs": [
    {
     "name": "stdout",
     "output_type": "stream",
     "text": [
      "Extracting MNIST_data/train-images-idx3-ubyte.gz\n",
      "Extracting MNIST_data/train-labels-idx1-ubyte.gz\n",
      "Extracting MNIST_data/t10k-images-idx3-ubyte.gz\n",
      "Extracting MNIST_data/t10k-labels-idx1-ubyte.gz\n"
     ]
    }
   ],
   "source": [
    "from tensorflow.examples.tutorials.mnist import input_data\n",
    "\n",
    "# 载入数据集\n",
    "mnist = input_data.read_data_sets('MNIST_data', one_hot=True)\n",
    "\n",
    "batch_size = 100\n",
    "n_batch = mnist.train.num_examples // batch_size\n",
    "\n",
    "image_x = len(mnist.train.images[0])\n",
    "image_y = len(mnist.train.labels[0])"
   ]
  },
  {
   "cell_type": "code",
   "execution_count": 4,
   "metadata": {
    "collapsed": true
   },
   "outputs": [],
   "source": [
    "# 初始化权值\n",
    "def weight_variable(shape):\n",
    "    initial = tf.truncated_normal(shape, stddev=0.1)\n",
    "    return tf.Variable(initial)\n",
    "\n",
    "# 初始化偏置\n",
    "def bias_variable(shape):\n",
    "    initial = tf.constant(0.1, shape=shape)\n",
    "    return tf.Variable(initial)\n",
    "\n",
    "# 卷积层\n",
    "def conv2d(x, W):\n",
    "    # SAME在外补0，VALID不补0\n",
    "    # strides[0] = strides[3] = 1, strides[1]代表x方向步长, strides[2]代表y方向步长\n",
    "    return tf.nn.conv2d(x, W, strides=[1, 1, 1, 1], padding='SAME') \n",
    "\n",
    "# 池化层\n",
    "def max_pool_2x2(x):\n",
    "    # ksize为池化核大小\n",
    "    return tf.nn.max_pool(x, ksize=[1, 2, 2, 1], strides=[1, 2, 2, 1], padding='SAME')"
   ]
  },
  {
   "cell_type": "code",
   "execution_count": 5,
   "metadata": {
    "collapsed": true
   },
   "outputs": [],
   "source": [
    "# 命名空间\n",
    "with tf.name_scope('input'):\n",
    "    x = tf.placeholder(tf.float32, [None, image_x], name='x-input')\n",
    "    y = tf.placeholder(tf.float32, [None, image_y], name='y-input')\n",
    "\n",
    "x_image = tf.reshape(x, [-1, 28, 28, 1]) # [batch, in_height, in_width, in_channels]"
   ]
  },
  {
   "cell_type": "code",
   "execution_count": 7,
   "metadata": {
    "collapsed": false
   },
   "outputs": [],
   "source": [
    "# 卷积池化1（变为32张14*14图片）\n",
    "W_conv1 = weight_variable([5, 5, 1, 32]) # 5*5采样窗口，32个卷积核从1个平面抽取特征\n",
    "b_conv1 = bias_variable([32])\n",
    "\n",
    "output_conv1 = tf.nn.relu(conv2d(x_image, W_conv1) + b_conv1)\n",
    "output_pool1 = max_pool_2x2(output_conv1)\n",
    "\n",
    "# 卷积池化2（变为64张7*7图片）\n",
    "W_conv2 = weight_variable([5, 5, 32, 64])\n",
    "b_conv2 = bias_variable([64])\n",
    "\n",
    "output_conv2 = tf.nn.relu(conv2d(output_pool1, W_conv2) + b_conv2)\n",
    "output_pool2 = max_pool_2x2(output_conv2)\n",
    "\n",
    "# 全连接1\n",
    "W_fc1 = weight_variable([7*7*64, 1024])\n",
    "b_fc1 = bias_variable([1024])\n",
    "\n",
    "# 展平\n",
    "output_pool2_flat = tf.reshape(output_pool2, [-1, 7*7*64])\n",
    "output_fc1 = tf.nn.relu(tf.matmul(output_pool2_flat, W_fc1) + b_fc1)\n",
    "\n",
    "keep_prob = tf.placeholder(tf.float32)\n",
    "dropout_fc1 = tf.nn.dropout(output_fc1, keep_prob)\n",
    "\n",
    "# 全连接2\n",
    "W_fc2 = weight_variable([1024, 10])\n",
    "b_fc2 = bias_variable([10])\n",
    "\n",
    "# 输出\n",
    "prediction = tf.nn.softmax(tf.matmul(dropout_fc1, W_fc2) + b_fc2)"
   ]
  },
  {
   "cell_type": "code",
   "execution_count": 8,
   "metadata": {
    "collapsed": false
   },
   "outputs": [
    {
     "name": "stdout",
     "output_type": "stream",
     "text": [
      "Iter 0 test acc: 0.9585\n",
      "Iter 1 test acc: 0.9725\n",
      "Iter 2 test acc: 0.9795\n",
      "Iter 3 test acc: 0.9811\n",
      "Iter 4 test acc: 0.9845\n",
      "Iter 5 test acc: 0.9852\n",
      "Iter 6 test acc: 0.9859\n",
      "Iter 7 test acc: 0.9884\n",
      "Iter 8 test acc: 0.9874\n",
      "Iter 9 test acc: 0.9888\n",
      "Iter 10 test acc: 0.9889\n",
      "Iter 11 test acc: 0.9901\n",
      "Iter 12 test acc: 0.99\n",
      "Iter 13 test acc: 0.9908\n",
      "Iter 14 test acc: 0.9899\n",
      "Iter 15 test acc: 0.9925\n",
      "Iter 16 test acc: 0.9901\n",
      "Iter 17 test acc: 0.9928\n",
      "Iter 18 test acc: 0.9918\n",
      "Iter 19 test acc: 0.9928\n",
      "Iter 20 test acc: 0.9917\n",
      "Iter 21 test acc: 0.991\n",
      "Iter 22 test acc: 0.9916\n",
      "Iter 23 test acc: 0.9926\n",
      "Iter 24 test acc: 0.9924\n",
      "Iter 25 test acc: 0.99\n",
      "Iter 26 test acc: 0.9927\n",
      "Iter 27 test acc: 0.993\n",
      "Iter 28 test acc: 0.9926\n",
      "Iter 29 test acc: 0.9934\n"
     ]
    }
   ],
   "source": [
    "with tf.name_scope('loss'):\n",
    "    loss = tf.reduce_mean(tf.nn.softmax_cross_entropy_with_logits(labels=y, logits=prediction))\n",
    "with tf.name_scope('optimizer'):\n",
    "    optimizer = tf.train.AdamOptimizer(1e-4)\n",
    "with tf.name_scope('trian'):\n",
    "    train = optimizer.minimize(loss)\n",
    "\n",
    "init = tf.global_variables_initializer()\n",
    "\n",
    "# 准确率\n",
    "with tf.name_scope('accuary'):\n",
    "    with tf.name_scope('correct_prediction'):\n",
    "        correct_prediction = tf.equal(tf.argmax(y, axis=1), tf.argmax(prediction, axis=1))\n",
    "    with tf.name_scope('acc'):\n",
    "        acc = tf.reduce_mean(tf.cast(correct_prediction, dtype=tf.float32))\n",
    "\n",
    "config = tf.ConfigProto()\n",
    "config.gpu_options.allow_growth = True\n",
    "sess = tf.Session(config=config)\n",
    "\n",
    "sess.run(init)\n",
    "for epoch in range(30):\n",
    "    # 将图存入文件\n",
    "    writer = tf.summary.FileWriter('./logs', sess.graph)\n",
    "    for batch in range(n_batch):\n",
    "        batch_xs, batch_ys = mnist.train.next_batch(batch_size)\n",
    "        sess.run(train, feed_dict={x:batch_xs, y:batch_ys, keep_prob:0.7})\n",
    "    print('Iter ' + str(epoch) + ' test acc: ' + str(sess.run(acc, feed_dict={x:mnist.test.images, y:mnist.test.labels, keep_prob:1.0})))\n",
    "sess.close()"
   ]
  }
 ],
 "metadata": {
  "anaconda-cloud": {},
  "kernelspec": {
   "display_name": "Python [conda env:anaconda3]",
   "language": "python",
   "name": "conda-env-anaconda3-py"
  },
  "language_info": {
   "codemirror_mode": {
    "name": "ipython",
    "version": 3
   },
   "file_extension": ".py",
   "mimetype": "text/x-python",
   "name": "python",
   "nbconvert_exporter": "python",
   "pygments_lexer": "ipython3",
   "version": "3.5.2"
  }
 },
 "nbformat": 4,
 "nbformat_minor": 1
}
