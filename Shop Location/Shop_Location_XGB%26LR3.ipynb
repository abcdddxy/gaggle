{
 "cells": [
  {
   "cell_type": "code",
   "execution_count": 2,
   "metadata": {
    "scrolled": true
   },
   "outputs": [
    {
     "name": "stderr",
     "output_type": "stream",
     "text": [
      "/usr/local/miniconda2/envs/py35/lib/python3.5/site-packages/matplotlib/__init__.py:1405: UserWarning: \n",
      "This call to matplotlib.use() has no effect because the backend has already\n",
      "been chosen; matplotlib.use() must be called *before* pylab, matplotlib.pyplot,\n",
      "or matplotlib.backends is imported for the first time.\n",
      "\n",
      "  warnings.warn(_use_error_msg)\n"
     ]
    }
   ],
   "source": [
    "import numpy as np\n",
    "import pandas as pd\n",
    "import matplotlib.pyplot as plt\n",
    "import seaborn as sns\n",
    "import pickle\n",
    "import time\n",
    "from tqdm import tqdm\n",
    "\n",
    "%matplotlib inline\n",
    "\n",
    "#每次可以输出多个变量\n",
    "from IPython.core.interactiveshell import InteractiveShell\n",
    "InteractiveShell.ast_node_interactivity = \"all\"\n",
    "\n",
    "from pylab import rcParams\n",
    "rcParams['figure.figsize'] = 14, 6\n",
    "\n",
    "#中文字体\n",
    "import matplotlib  \n",
    "matplotlib.use('qt4agg')  \n",
    "#指定默认字体  \n",
    "matplotlib.rcParams['font.sans-serif'] = ['SimHei']   \n",
    "matplotlib.rcParams['font.family']='sans-serif'  \n",
    "#解决负号'-'显示为方块的问题  \n",
    "matplotlib.rcParams['axes.unicode_minus'] = False "
   ]
  },
  {
   "cell_type": "markdown",
   "metadata": {},
   "source": [
    "# One-Hot"
   ]
  },
  {
   "cell_type": "code",
   "execution_count": 3,
   "metadata": {
    "collapsed": true
   },
   "outputs": [],
   "source": [
    "from sklearn import preprocessing\n",
    "import xgboost as xgb"
   ]
  },
  {
   "cell_type": "code",
   "execution_count": 4,
   "metadata": {
    "collapsed": true
   },
   "outputs": [],
   "source": [
    "from math import radians, cos, sin, asin, sqrt  \n",
    "  \n",
    "def haversine(lon1, lat1, lon2, lat2): # 经度1，纬度1，经度2，纬度2 （十进制度数）  \n",
    "    \"\"\" \n",
    "    Calculate the great circle distance between two points  \n",
    "    on the earth (specified in decimal degrees) \n",
    "    \"\"\"  \n",
    "    # 将十进制度数转化为弧度  \n",
    "    lon1, lat1, lon2, lat2 = map(radians, [lon1, lat1, lon2, lat2])  \n",
    "  \n",
    "    # haversine公式  \n",
    "    dlon = lon2 - lon1   \n",
    "    dlat = lat2 - lat1   \n",
    "    a = sin(dlat/2)**2 + cos(lat1) * cos(lat2) * sin(dlon/2)**2  \n",
    "    c = 2 * asin(sqrt(a))   \n",
    "    r = 6371 # 地球平均半径，单位为公里  \n",
    "    return c * r * 100"
   ]
  },
  {
   "cell_type": "code",
   "execution_count": 5,
   "metadata": {
    "collapsed": true
   },
   "outputs": [],
   "source": [
    "shop = pd.read_csv('../input/训练数据-ccf_first_round_shop_info.csv')"
   ]
  },
  {
   "cell_type": "code",
   "execution_count": 45,
   "metadata": {},
   "outputs": [
    {
     "data": {
      "text/plain": [
       "(11075599, 5)"
      ]
     },
     "execution_count": 45,
     "metadata": {},
     "output_type": "execute_result"
    },
    {
     "data": {
      "text/html": [
       "<div>\n",
       "<style>\n",
       "    .dataframe thead tr:only-child th {\n",
       "        text-align: right;\n",
       "    }\n",
       "\n",
       "    .dataframe thead th {\n",
       "        text-align: left;\n",
       "    }\n",
       "\n",
       "    .dataframe tbody tr th {\n",
       "        vertical-align: top;\n",
       "    }\n",
       "</style>\n",
       "<table border=\"1\" class=\"dataframe\">\n",
       "  <thead>\n",
       "    <tr style=\"text-align: right;\">\n",
       "      <th></th>\n",
       "      <th>bssid</th>\n",
       "      <th>connect</th>\n",
       "      <th>index</th>\n",
       "      <th>mall_id</th>\n",
       "      <th>strength</th>\n",
       "    </tr>\n",
       "  </thead>\n",
       "  <tbody>\n",
       "    <tr>\n",
       "      <th>0</th>\n",
       "      <td>b_6396480</td>\n",
       "      <td>False</td>\n",
       "      <td>0</td>\n",
       "      <td>m_1409</td>\n",
       "      <td>-67</td>\n",
       "    </tr>\n",
       "    <tr>\n",
       "      <th>1</th>\n",
       "      <td>b_41124514</td>\n",
       "      <td>False</td>\n",
       "      <td>0</td>\n",
       "      <td>m_1409</td>\n",
       "      <td>-86</td>\n",
       "    </tr>\n",
       "    <tr>\n",
       "      <th>2</th>\n",
       "      <td>b_28723327</td>\n",
       "      <td>False</td>\n",
       "      <td>0</td>\n",
       "      <td>m_1409</td>\n",
       "      <td>-90</td>\n",
       "    </tr>\n",
       "    <tr>\n",
       "      <th>3</th>\n",
       "      <td>b_6396479</td>\n",
       "      <td>False</td>\n",
       "      <td>0</td>\n",
       "      <td>m_1409</td>\n",
       "      <td>-55</td>\n",
       "    </tr>\n",
       "    <tr>\n",
       "      <th>4</th>\n",
       "      <td>b_8764723</td>\n",
       "      <td>False</td>\n",
       "      <td>0</td>\n",
       "      <td>m_1409</td>\n",
       "      <td>-90</td>\n",
       "    </tr>\n",
       "  </tbody>\n",
       "</table>\n",
       "</div>"
      ],
      "text/plain": [
       "        bssid  connect  index mall_id  strength\n",
       "0   b_6396480    False      0  m_1409       -67\n",
       "1  b_41124514    False      0  m_1409       -86\n",
       "2  b_28723327    False      0  m_1409       -90\n",
       "3   b_6396479    False      0  m_1409       -55\n",
       "4   b_8764723    False      0  m_1409       -90"
      ]
     },
     "execution_count": 45,
     "metadata": {},
     "output_type": "execute_result"
    }
   ],
   "source": [
    "wifi_infos = pd.read_csv('./output/wifi_info.csv')\n",
    "wifi_infos = wifi_infos.drop(['Unnamed: 0'], axis=1)\n",
    "\n",
    "wifi_infos.shape\n",
    "wifi_infos.head()"
   ]
  },
  {
   "cell_type": "code",
   "execution_count": 46,
   "metadata": {
    "collapsed": true
   },
   "outputs": [],
   "source": [
    "wifi_infos = wifi_infos.bssid.value_counts()"
   ]
  },
  {
   "cell_type": "code",
   "execution_count": 47,
   "metadata": {
    "collapsed": true
   },
   "outputs": [],
   "source": [
    "many_wifi = []\n",
    "for index in wifi_infos.index:\n",
    "    if wifi_infos[index] >= 100:\n",
    "        many_wifi.append(index)"
   ]
  },
  {
   "cell_type": "code",
   "execution_count": 48,
   "metadata": {
    "scrolled": true
   },
   "outputs": [
    {
     "data": {
      "text/plain": [
       "26559"
      ]
     },
     "execution_count": 48,
     "metadata": {},
     "output_type": "execute_result"
    }
   ],
   "source": [
    "len(many_wifi)"
   ]
  },
  {
   "cell_type": "code",
   "execution_count": 12,
   "metadata": {
    "collapsed": true
   },
   "outputs": [],
   "source": [
    "train = pd.read_csv('./output/train_neg9.csv')\n",
    "test = pd.read_csv('./output/test_neg10.csv')"
   ]
  },
  {
   "cell_type": "code",
   "execution_count": 40,
   "metadata": {
    "collapsed": true
   },
   "outputs": [],
   "source": [
    "train = train[['user_id', 'shop_id', 'time_stamp', 'longitude_x', 'latitude_x', 'wifi_infos', 'full_order', 'flag']]\n",
    "               \n",
    "train = train.merge(shop, left_on='shop_id', right_on='shop_id', how='left')"
   ]
  },
  {
   "cell_type": "code",
   "execution_count": 13,
   "metadata": {
    "collapsed": true
   },
   "outputs": [],
   "source": [
    "test = test.merge(shop, left_on='shop_id', right_on='shop_id', how='left')\n",
    "\n",
    "test['full_order'] = test.index\n",
    "test.full_order = test.full_order / 9\n",
    "test.full_order = test.full_order.astype(int)"
   ]
  },
  {
   "cell_type": "code",
   "execution_count": 9,
   "metadata": {
    "collapsed": true,
    "scrolled": true
   },
   "outputs": [],
   "source": [
    "train.columns = ['user_id', 'shop_id', 'time_stamp', 'longitude_x', 'latitude_x', 'wifi_infos','full_order', 'flag', 'category_id', 'longitude_y', 'latitude_y', 'price', 'mall_id']\n",
    "test.columns = ['user_id', 'mall_id', 'time_stamp', 'longitude_x', 'latitude_x', 'wifi_infos', 'shop_id', 'category_id', 'longitude_y', 'latitude_y', 'price', 'mall_id', 'full_order']"
   ]
  },
  {
   "cell_type": "code",
   "execution_count": 16,
   "metadata": {
    "scrolled": false
   },
   "outputs": [],
   "source": [
    "train = train[['user_id', 'shop_id', 'time_stamp', 'longitude_x', 'latitude_x', 'wifi_infos', 'category_id', 'longitude_y', 'latitude_y', 'mall_id', 'full_order', 'flag']]\n",
    "test = test[['user_id', 'shop_id', 'time_stamp', 'longitude_x', 'latitude_x', 'wifi_infos', 'category_id', 'longitude_y', 'latitude_y', 'mall_id_x', 'full_order', 'flag']]\n",
    "test.columns = ['user_id', 'shop_id', 'time_stamp', 'longitude_x', 'latitude_x', 'wifi_infos', 'category_id', 'longitude_y', 'latitude_y', 'mall_id', 'full_order', 'flag']"
   ]
  },
  {
   "cell_type": "code",
   "execution_count": 14,
   "metadata": {
    "collapsed": true
   },
   "outputs": [],
   "source": [
    "test.full_order = test.full_order + 1138015\n",
    "test['flag'] = -1"
   ]
  },
  {
   "cell_type": "code",
   "execution_count": 17,
   "metadata": {
    "scrolled": true
   },
   "outputs": [
    {
     "data": {
      "text/plain": [
       "(10242135, 12)"
      ]
     },
     "execution_count": 17,
     "metadata": {},
     "output_type": "execute_result"
    },
    {
     "data": {
      "text/html": [
       "<div>\n",
       "<style>\n",
       "    .dataframe thead tr:only-child th {\n",
       "        text-align: right;\n",
       "    }\n",
       "\n",
       "    .dataframe thead th {\n",
       "        text-align: left;\n",
       "    }\n",
       "\n",
       "    .dataframe tbody tr th {\n",
       "        vertical-align: top;\n",
       "    }\n",
       "</style>\n",
       "<table border=\"1\" class=\"dataframe\">\n",
       "  <thead>\n",
       "    <tr style=\"text-align: right;\">\n",
       "      <th></th>\n",
       "      <th>user_id</th>\n",
       "      <th>shop_id</th>\n",
       "      <th>time_stamp</th>\n",
       "      <th>longitude_x</th>\n",
       "      <th>latitude_x</th>\n",
       "      <th>wifi_infos</th>\n",
       "      <th>category_id</th>\n",
       "      <th>longitude_y</th>\n",
       "      <th>latitude_y</th>\n",
       "      <th>mall_id</th>\n",
       "      <th>full_order</th>\n",
       "      <th>flag</th>\n",
       "    </tr>\n",
       "  </thead>\n",
       "  <tbody>\n",
       "    <tr>\n",
       "      <th>0</th>\n",
       "      <td>u_23100</td>\n",
       "      <td>s_410892</td>\n",
       "      <td>2017-08-01 15:10</td>\n",
       "      <td>113.819704</td>\n",
       "      <td>34.948541</td>\n",
       "      <td>b_3927949|-72|false;b_1639608|-37|false;b_1285...</td>\n",
       "      <td>c_29</td>\n",
       "      <td>113.819891</td>\n",
       "      <td>34.948559</td>\n",
       "      <td>m_2270</td>\n",
       "      <td>123</td>\n",
       "      <td>1</td>\n",
       "    </tr>\n",
       "    <tr>\n",
       "      <th>1</th>\n",
       "      <td>u_23100</td>\n",
       "      <td>s_428507</td>\n",
       "      <td>2017-08-01 15:10</td>\n",
       "      <td>113.819704</td>\n",
       "      <td>34.948541</td>\n",
       "      <td>b_3927949|-72|false;b_1639608|-37|false;b_1285...</td>\n",
       "      <td>c_132</td>\n",
       "      <td>113.819719</td>\n",
       "      <td>34.948597</td>\n",
       "      <td>m_2270</td>\n",
       "      <td>123</td>\n",
       "      <td>0</td>\n",
       "    </tr>\n",
       "    <tr>\n",
       "      <th>2</th>\n",
       "      <td>u_23100</td>\n",
       "      <td>s_3699611</td>\n",
       "      <td>2017-08-01 15:10</td>\n",
       "      <td>113.819704</td>\n",
       "      <td>34.948541</td>\n",
       "      <td>b_3927949|-72|false;b_1639608|-37|false;b_1285...</td>\n",
       "      <td>c_27</td>\n",
       "      <td>113.819822</td>\n",
       "      <td>34.949240</td>\n",
       "      <td>m_2270</td>\n",
       "      <td>123</td>\n",
       "      <td>0</td>\n",
       "    </tr>\n",
       "    <tr>\n",
       "      <th>3</th>\n",
       "      <td>u_23100</td>\n",
       "      <td>s_8146</td>\n",
       "      <td>2017-08-01 15:10</td>\n",
       "      <td>113.819704</td>\n",
       "      <td>34.948541</td>\n",
       "      <td>b_3927949|-72|false;b_1639608|-37|false;b_1285...</td>\n",
       "      <td>c_49</td>\n",
       "      <td>113.819720</td>\n",
       "      <td>34.948545</td>\n",
       "      <td>m_2270</td>\n",
       "      <td>123</td>\n",
       "      <td>0</td>\n",
       "    </tr>\n",
       "    <tr>\n",
       "      <th>4</th>\n",
       "      <td>u_23100</td>\n",
       "      <td>s_428193</td>\n",
       "      <td>2017-08-01 15:10</td>\n",
       "      <td>113.819704</td>\n",
       "      <td>34.948541</td>\n",
       "      <td>b_3927949|-72|false;b_1639608|-37|false;b_1285...</td>\n",
       "      <td>c_28</td>\n",
       "      <td>113.819570</td>\n",
       "      <td>34.949528</td>\n",
       "      <td>m_2270</td>\n",
       "      <td>123</td>\n",
       "      <td>0</td>\n",
       "    </tr>\n",
       "  </tbody>\n",
       "</table>\n",
       "</div>"
      ],
      "text/plain": [
       "   user_id    shop_id        time_stamp  longitude_x  latitude_x  \\\n",
       "0  u_23100   s_410892  2017-08-01 15:10   113.819704   34.948541   \n",
       "1  u_23100   s_428507  2017-08-01 15:10   113.819704   34.948541   \n",
       "2  u_23100  s_3699611  2017-08-01 15:10   113.819704   34.948541   \n",
       "3  u_23100     s_8146  2017-08-01 15:10   113.819704   34.948541   \n",
       "4  u_23100   s_428193  2017-08-01 15:10   113.819704   34.948541   \n",
       "\n",
       "                                          wifi_infos category_id  longitude_y  \\\n",
       "0  b_3927949|-72|false;b_1639608|-37|false;b_1285...        c_29   113.819891   \n",
       "1  b_3927949|-72|false;b_1639608|-37|false;b_1285...       c_132   113.819719   \n",
       "2  b_3927949|-72|false;b_1639608|-37|false;b_1285...        c_27   113.819822   \n",
       "3  b_3927949|-72|false;b_1639608|-37|false;b_1285...        c_49   113.819720   \n",
       "4  b_3927949|-72|false;b_1639608|-37|false;b_1285...        c_28   113.819570   \n",
       "\n",
       "   latitude_y mall_id  full_order  flag  \n",
       "0   34.948559  m_2270         123     1  \n",
       "1   34.948597  m_2270         123     0  \n",
       "2   34.949240  m_2270         123     0  \n",
       "3   34.948545  m_2270         123     0  \n",
       "4   34.949528  m_2270         123     0  "
      ]
     },
     "execution_count": 17,
     "metadata": {},
     "output_type": "execute_result"
    },
    {
     "data": {
      "text/plain": [
       "(4355379, 12)"
      ]
     },
     "execution_count": 17,
     "metadata": {},
     "output_type": "execute_result"
    },
    {
     "data": {
      "text/html": [
       "<div>\n",
       "<style>\n",
       "    .dataframe thead tr:only-child th {\n",
       "        text-align: right;\n",
       "    }\n",
       "\n",
       "    .dataframe thead th {\n",
       "        text-align: left;\n",
       "    }\n",
       "\n",
       "    .dataframe tbody tr th {\n",
       "        vertical-align: top;\n",
       "    }\n",
       "</style>\n",
       "<table border=\"1\" class=\"dataframe\">\n",
       "  <thead>\n",
       "    <tr style=\"text-align: right;\">\n",
       "      <th></th>\n",
       "      <th>user_id</th>\n",
       "      <th>shop_id</th>\n",
       "      <th>time_stamp</th>\n",
       "      <th>longitude_x</th>\n",
       "      <th>latitude_x</th>\n",
       "      <th>wifi_infos</th>\n",
       "      <th>category_id</th>\n",
       "      <th>longitude_y</th>\n",
       "      <th>latitude_y</th>\n",
       "      <th>mall_id</th>\n",
       "      <th>full_order</th>\n",
       "      <th>flag</th>\n",
       "    </tr>\n",
       "  </thead>\n",
       "  <tbody>\n",
       "    <tr>\n",
       "      <th>0</th>\n",
       "      <td>u_30097142</td>\n",
       "      <td>s_3683488</td>\n",
       "      <td>2017-09-05 13:00</td>\n",
       "      <td>122.141011</td>\n",
       "      <td>39.818847</td>\n",
       "      <td>b_34366982|-82|false;b_37756289|-53|false;b_41...</td>\n",
       "      <td>c_25</td>\n",
       "      <td>122.140708</td>\n",
       "      <td>39.819073</td>\n",
       "      <td>m_3916</td>\n",
       "      <td>1138015</td>\n",
       "      <td>-1</td>\n",
       "    </tr>\n",
       "    <tr>\n",
       "      <th>1</th>\n",
       "      <td>u_30097142</td>\n",
       "      <td>s_147921</td>\n",
       "      <td>2017-09-05 13:00</td>\n",
       "      <td>122.141011</td>\n",
       "      <td>39.818847</td>\n",
       "      <td>b_34366982|-82|false;b_37756289|-53|false;b_41...</td>\n",
       "      <td>c_30</td>\n",
       "      <td>122.141208</td>\n",
       "      <td>39.818696</td>\n",
       "      <td>m_3916</td>\n",
       "      <td>1138015</td>\n",
       "      <td>-1</td>\n",
       "    </tr>\n",
       "    <tr>\n",
       "      <th>2</th>\n",
       "      <td>u_30097142</td>\n",
       "      <td>s_312218</td>\n",
       "      <td>2017-09-05 13:00</td>\n",
       "      <td>122.141011</td>\n",
       "      <td>39.818847</td>\n",
       "      <td>b_34366982|-82|false;b_37756289|-53|false;b_41...</td>\n",
       "      <td>c_28</td>\n",
       "      <td>122.140651</td>\n",
       "      <td>39.819060</td>\n",
       "      <td>m_3916</td>\n",
       "      <td>1138015</td>\n",
       "      <td>-1</td>\n",
       "    </tr>\n",
       "    <tr>\n",
       "      <th>3</th>\n",
       "      <td>u_30097142</td>\n",
       "      <td>s_10425</td>\n",
       "      <td>2017-09-05 13:00</td>\n",
       "      <td>122.141011</td>\n",
       "      <td>39.818847</td>\n",
       "      <td>b_34366982|-82|false;b_37756289|-53|false;b_41...</td>\n",
       "      <td>c_29</td>\n",
       "      <td>122.140955</td>\n",
       "      <td>39.819088</td>\n",
       "      <td>m_3916</td>\n",
       "      <td>1138015</td>\n",
       "      <td>-1</td>\n",
       "    </tr>\n",
       "    <tr>\n",
       "      <th>4</th>\n",
       "      <td>u_30097142</td>\n",
       "      <td>s_3997599</td>\n",
       "      <td>2017-09-05 13:00</td>\n",
       "      <td>122.141011</td>\n",
       "      <td>39.818847</td>\n",
       "      <td>b_34366982|-82|false;b_37756289|-53|false;b_41...</td>\n",
       "      <td>c_28</td>\n",
       "      <td>122.140818</td>\n",
       "      <td>39.819379</td>\n",
       "      <td>m_3916</td>\n",
       "      <td>1138015</td>\n",
       "      <td>-1</td>\n",
       "    </tr>\n",
       "  </tbody>\n",
       "</table>\n",
       "</div>"
      ],
      "text/plain": [
       "      user_id    shop_id        time_stamp  longitude_x  latitude_x  \\\n",
       "0  u_30097142  s_3683488  2017-09-05 13:00   122.141011   39.818847   \n",
       "1  u_30097142   s_147921  2017-09-05 13:00   122.141011   39.818847   \n",
       "2  u_30097142   s_312218  2017-09-05 13:00   122.141011   39.818847   \n",
       "3  u_30097142    s_10425  2017-09-05 13:00   122.141011   39.818847   \n",
       "4  u_30097142  s_3997599  2017-09-05 13:00   122.141011   39.818847   \n",
       "\n",
       "                                          wifi_infos category_id  longitude_y  \\\n",
       "0  b_34366982|-82|false;b_37756289|-53|false;b_41...        c_25   122.140708   \n",
       "1  b_34366982|-82|false;b_37756289|-53|false;b_41...        c_30   122.141208   \n",
       "2  b_34366982|-82|false;b_37756289|-53|false;b_41...        c_28   122.140651   \n",
       "3  b_34366982|-82|false;b_37756289|-53|false;b_41...        c_29   122.140955   \n",
       "4  b_34366982|-82|false;b_37756289|-53|false;b_41...        c_28   122.140818   \n",
       "\n",
       "   latitude_y mall_id  full_order  flag  \n",
       "0   39.819073  m_3916     1138015    -1  \n",
       "1   39.818696  m_3916     1138015    -1  \n",
       "2   39.819060  m_3916     1138015    -1  \n",
       "3   39.819088  m_3916     1138015    -1  \n",
       "4   39.819379  m_3916     1138015    -1  "
      ]
     },
     "execution_count": 17,
     "metadata": {},
     "output_type": "execute_result"
    }
   ],
   "source": [
    "train.shape\n",
    "train.head()\n",
    "test.shape\n",
    "test.head()"
   ]
  },
  {
   "cell_type": "code",
   "execution_count": 22,
   "metadata": {
    "scrolled": true
   },
   "outputs": [
    {
     "data": {
      "text/plain": [
       "(14597514, 14)"
      ]
     },
     "execution_count": 22,
     "metadata": {},
     "output_type": "execute_result"
    },
    {
     "data": {
      "text/html": [
       "<div>\n",
       "<style>\n",
       "    .dataframe thead tr:only-child th {\n",
       "        text-align: right;\n",
       "    }\n",
       "\n",
       "    .dataframe thead th {\n",
       "        text-align: left;\n",
       "    }\n",
       "\n",
       "    .dataframe tbody tr th {\n",
       "        vertical-align: top;\n",
       "    }\n",
       "</style>\n",
       "<table border=\"1\" class=\"dataframe\">\n",
       "  <thead>\n",
       "    <tr style=\"text-align: right;\">\n",
       "      <th></th>\n",
       "      <th>user_id</th>\n",
       "      <th>shop_id</th>\n",
       "      <th>longitude_x</th>\n",
       "      <th>latitude_x</th>\n",
       "      <th>wifi_infos</th>\n",
       "      <th>category_id</th>\n",
       "      <th>longitude_y</th>\n",
       "      <th>latitude_y</th>\n",
       "      <th>mall_id</th>\n",
       "      <th>full_order</th>\n",
       "      <th>flag</th>\n",
       "      <th>distance</th>\n",
       "      <th>time_hour</th>\n",
       "      <th>time_week</th>\n",
       "    </tr>\n",
       "  </thead>\n",
       "  <tbody>\n",
       "    <tr>\n",
       "      <th>0</th>\n",
       "      <td>u_23100</td>\n",
       "      <td>s_410892</td>\n",
       "      <td>113.819704</td>\n",
       "      <td>34.948541</td>\n",
       "      <td>b_3927949|-72|false;b_1639608|-37|false;b_1285...</td>\n",
       "      <td>c_29</td>\n",
       "      <td>113.819891</td>\n",
       "      <td>34.948559</td>\n",
       "      <td>m_2270</td>\n",
       "      <td>123</td>\n",
       "      <td>1</td>\n",
       "      <td>1.716082</td>\n",
       "      <td>15</td>\n",
       "      <td>1</td>\n",
       "    </tr>\n",
       "    <tr>\n",
       "      <th>1</th>\n",
       "      <td>u_23100</td>\n",
       "      <td>s_428507</td>\n",
       "      <td>113.819704</td>\n",
       "      <td>34.948541</td>\n",
       "      <td>b_3927949|-72|false;b_1639608|-37|false;b_1285...</td>\n",
       "      <td>c_132</td>\n",
       "      <td>113.819719</td>\n",
       "      <td>34.948597</td>\n",
       "      <td>m_2270</td>\n",
       "      <td>123</td>\n",
       "      <td>0</td>\n",
       "      <td>0.637523</td>\n",
       "      <td>15</td>\n",
       "      <td>1</td>\n",
       "    </tr>\n",
       "    <tr>\n",
       "      <th>2</th>\n",
       "      <td>u_23100</td>\n",
       "      <td>s_3699611</td>\n",
       "      <td>113.819704</td>\n",
       "      <td>34.948541</td>\n",
       "      <td>b_3927949|-72|false;b_1639608|-37|false;b_1285...</td>\n",
       "      <td>c_27</td>\n",
       "      <td>113.819822</td>\n",
       "      <td>34.949240</td>\n",
       "      <td>m_2270</td>\n",
       "      <td>123</td>\n",
       "      <td>0</td>\n",
       "      <td>7.846579</td>\n",
       "      <td>15</td>\n",
       "      <td>1</td>\n",
       "    </tr>\n",
       "    <tr>\n",
       "      <th>3</th>\n",
       "      <td>u_23100</td>\n",
       "      <td>s_8146</td>\n",
       "      <td>113.819704</td>\n",
       "      <td>34.948541</td>\n",
       "      <td>b_3927949|-72|false;b_1639608|-37|false;b_1285...</td>\n",
       "      <td>c_49</td>\n",
       "      <td>113.819720</td>\n",
       "      <td>34.948545</td>\n",
       "      <td>m_2270</td>\n",
       "      <td>123</td>\n",
       "      <td>0</td>\n",
       "      <td>0.152461</td>\n",
       "      <td>15</td>\n",
       "      <td>1</td>\n",
       "    </tr>\n",
       "    <tr>\n",
       "      <th>4</th>\n",
       "      <td>u_23100</td>\n",
       "      <td>s_428193</td>\n",
       "      <td>113.819704</td>\n",
       "      <td>34.948541</td>\n",
       "      <td>b_3927949|-72|false;b_1639608|-37|false;b_1285...</td>\n",
       "      <td>c_28</td>\n",
       "      <td>113.819570</td>\n",
       "      <td>34.949528</td>\n",
       "      <td>m_2270</td>\n",
       "      <td>123</td>\n",
       "      <td>0</td>\n",
       "      <td>11.042684</td>\n",
       "      <td>15</td>\n",
       "      <td>1</td>\n",
       "    </tr>\n",
       "  </tbody>\n",
       "</table>\n",
       "</div>"
      ],
      "text/plain": [
       "   user_id    shop_id  longitude_x  latitude_x  \\\n",
       "0  u_23100   s_410892   113.819704   34.948541   \n",
       "1  u_23100   s_428507   113.819704   34.948541   \n",
       "2  u_23100  s_3699611   113.819704   34.948541   \n",
       "3  u_23100     s_8146   113.819704   34.948541   \n",
       "4  u_23100   s_428193   113.819704   34.948541   \n",
       "\n",
       "                                          wifi_infos category_id  longitude_y  \\\n",
       "0  b_3927949|-72|false;b_1639608|-37|false;b_1285...        c_29   113.819891   \n",
       "1  b_3927949|-72|false;b_1639608|-37|false;b_1285...       c_132   113.819719   \n",
       "2  b_3927949|-72|false;b_1639608|-37|false;b_1285...        c_27   113.819822   \n",
       "3  b_3927949|-72|false;b_1639608|-37|false;b_1285...        c_49   113.819720   \n",
       "4  b_3927949|-72|false;b_1639608|-37|false;b_1285...        c_28   113.819570   \n",
       "\n",
       "   latitude_y mall_id  full_order  flag   distance  time_hour  time_week  \n",
       "0   34.948559  m_2270         123     1   1.716082         15          1  \n",
       "1   34.948597  m_2270         123     0   0.637523         15          1  \n",
       "2   34.949240  m_2270         123     0   7.846579         15          1  \n",
       "3   34.948545  m_2270         123     0   0.152461         15          1  \n",
       "4   34.949528  m_2270         123     0  11.042684         15          1  "
      ]
     },
     "execution_count": 22,
     "metadata": {},
     "output_type": "execute_result"
    }
   ],
   "source": [
    "# full_data = pd.concat([train, test])\n",
    "\n",
    "full_data.shape\n",
    "full_data.head()"
   ]
  },
  {
   "cell_type": "code",
   "execution_count": 19,
   "metadata": {},
   "outputs": [
    {
     "name": "stdout",
     "output_type": "stream",
     "text": [
      "CPU times: user 13min, sys: 12.6 s, total: 13min 13s\n",
      "Wall time: 13min 13s\n"
     ]
    }
   ],
   "source": [
    "%%time\n",
    "full_data['distance'] = full_data.apply(lambda x : haversine(x.longitude_x, x.latitude_x, x.longitude_y, x.latitude_y), axis=1)"
   ]
  },
  {
   "cell_type": "code",
   "execution_count": 23,
   "metadata": {},
   "outputs": [
    {
     "name": "stderr",
     "output_type": "stream",
     "text": [
      "/usr/local/miniconda2/envs/py35/lib/python3.5/site-packages/ipykernel_launcher.py:4: RuntimeWarning: invalid value encountered in double_scalars\n",
      "  after removing the cwd from sys.path.\n",
      "/usr/local/miniconda2/envs/py35/lib/python3.5/site-packages/ipykernel_launcher.py:4: RuntimeWarning: divide by zero encountered in double_scalars\n",
      "  after removing the cwd from sys.path.\n"
     ]
    },
    {
     "name": "stdout",
     "output_type": "stream",
     "text": [
      "CPU times: user 53min 40s, sys: 16.4 s, total: 53min 56s\n",
      "Wall time: 56min 15s\n"
     ]
    }
   ],
   "source": [
    "%%time\n",
    "def scaleDis(x):\n",
    "        maxT = max(full_data.distance[x.name - x.name%9 : x.name - x.name%9 + 9])\n",
    "        minT = min(full_data.distance[x.name - x.name%9 : x.name - x.name%9 + 9])\n",
    "        return (x.distance - minT)/(maxT - minT)\n",
    "    \n",
    "distance = full_data.apply(scaleDis, axis=1)"
   ]
  },
  {
   "cell_type": "code",
   "execution_count": 24,
   "metadata": {
    "collapsed": true
   },
   "outputs": [
    {
     "data": {
      "text/plain": [
       "0     0.058967\n",
       "1     0.018293\n",
       "2     0.290158\n",
       "3     0.000000\n",
       "4     0.410689\n",
       "5     0.084164\n",
       "6     0.283888\n",
       "7     1.000000\n",
       "8     0.104307\n",
       "9     0.041813\n",
       "10    0.000000\n",
       "11    0.680746\n",
       "12    0.023712\n",
       "13    0.697858\n",
       "14    0.238668\n",
       "15    0.281177\n",
       "16    0.284073\n",
       "17    1.000000\n",
       "18    0.023590\n",
       "19    0.000000\n",
       "dtype: float64"
      ]
     },
     "execution_count": 24,
     "metadata": {},
     "output_type": "execute_result"
    }
   ],
   "source": [
    "distance[:20]"
   ]
  },
  {
   "cell_type": "code",
   "execution_count": 25,
   "metadata": {
    "collapsed": true
   },
   "outputs": [],
   "source": [
    "full_data['dis'] = distance"
   ]
  },
  {
   "cell_type": "code",
   "execution_count": 20,
   "metadata": {
    "collapsed": true
   },
   "outputs": [],
   "source": [
    "full_data.time_stamp = pd.to_datetime(full_data.time_stamp, format=\"%Y-%m-%d\")\n",
    "full_data['time_hour'] = full_data.time_stamp.apply(lambda x : x.hour).astype(int)\n",
    "full_data['time_week'] = full_data.time_stamp.apply(lambda x : x.dayofweek).astype(int)\n",
    "full_data = full_data.drop(['time_stamp'], axis=1)"
   ]
  },
  {
   "cell_type": "code",
   "execution_count": 26,
   "metadata": {
    "collapsed": true
   },
   "outputs": [],
   "source": [
    "full_data.to_csv('./output/fulldata_neg9_dis.csv', index=False)"
   ]
  },
  {
   "cell_type": "code",
   "execution_count": 27,
   "metadata": {
    "scrolled": false
   },
   "outputs": [
    {
     "data": {
      "text/plain": [
       "(8109730, 8)"
      ]
     },
     "execution_count": 27,
     "metadata": {},
     "output_type": "execute_result"
    },
    {
     "data": {
      "text/html": [
       "<div>\n",
       "<style>\n",
       "    .dataframe thead tr:only-child th {\n",
       "        text-align: right;\n",
       "    }\n",
       "\n",
       "    .dataframe thead th {\n",
       "        text-align: left;\n",
       "    }\n",
       "\n",
       "    .dataframe tbody tr th {\n",
       "        vertical-align: top;\n",
       "    }\n",
       "</style>\n",
       "<table border=\"1\" class=\"dataframe\">\n",
       "  <thead>\n",
       "    <tr style=\"text-align: right;\">\n",
       "      <th></th>\n",
       "      <th>user_id</th>\n",
       "      <th>mall_id</th>\n",
       "      <th>wifi_infos</th>\n",
       "      <th>shop_id</th>\n",
       "      <th>flag</th>\n",
       "      <th>time_hour</th>\n",
       "      <th>time_week</th>\n",
       "      <th>distance</th>\n",
       "    </tr>\n",
       "  </thead>\n",
       "  <tbody>\n",
       "    <tr>\n",
       "      <th>0</th>\n",
       "      <td>u_376</td>\n",
       "      <td>m_1409</td>\n",
       "      <td>b_6396480|-67|false;b_41124514|-86|false;b_287...</td>\n",
       "      <td>s_2871718</td>\n",
       "      <td>1</td>\n",
       "      <td>21</td>\n",
       "      <td>6</td>\n",
       "      <td>4.902234</td>\n",
       "    </tr>\n",
       "    <tr>\n",
       "      <th>1</th>\n",
       "      <td>u_5847255</td>\n",
       "      <td>m_1409</td>\n",
       "      <td>b_8764725|-72|false;b_5857370|-64|false;b_5074...</td>\n",
       "      <td>s_2871718</td>\n",
       "      <td>0</td>\n",
       "      <td>13</td>\n",
       "      <td>6</td>\n",
       "      <td>3.429618</td>\n",
       "    </tr>\n",
       "    <tr>\n",
       "      <th>2</th>\n",
       "      <td>u_35745402</td>\n",
       "      <td>m_1409</td>\n",
       "      <td>b_56326320|-46|false;b_30230709|-46|false;b_56...</td>\n",
       "      <td>s_2871718</td>\n",
       "      <td>0</td>\n",
       "      <td>17</td>\n",
       "      <td>3</td>\n",
       "      <td>1.197266</td>\n",
       "    </tr>\n",
       "    <tr>\n",
       "      <th>3</th>\n",
       "      <td>u_29400269</td>\n",
       "      <td>m_1409</td>\n",
       "      <td>b_28723327|-70|false;b_20517758|-39|false;b_28...</td>\n",
       "      <td>s_2871718</td>\n",
       "      <td>0</td>\n",
       "      <td>19</td>\n",
       "      <td>2</td>\n",
       "      <td>7.258564</td>\n",
       "    </tr>\n",
       "    <tr>\n",
       "      <th>4</th>\n",
       "      <td>u_11893024</td>\n",
       "      <td>m_1409</td>\n",
       "      <td>b_5577440|-46|true;b_5577439|-52|false;b_22985...</td>\n",
       "      <td>s_2871718</td>\n",
       "      <td>0</td>\n",
       "      <td>19</td>\n",
       "      <td>4</td>\n",
       "      <td>7.216426</td>\n",
       "    </tr>\n",
       "  </tbody>\n",
       "</table>\n",
       "</div>"
      ],
      "text/plain": [
       "      user_id mall_id                                         wifi_infos  \\\n",
       "0       u_376  m_1409  b_6396480|-67|false;b_41124514|-86|false;b_287...   \n",
       "1   u_5847255  m_1409  b_8764725|-72|false;b_5857370|-64|false;b_5074...   \n",
       "2  u_35745402  m_1409  b_56326320|-46|false;b_30230709|-46|false;b_56...   \n",
       "3  u_29400269  m_1409  b_28723327|-70|false;b_20517758|-39|false;b_28...   \n",
       "4  u_11893024  m_1409  b_5577440|-46|true;b_5577439|-52|false;b_22985...   \n",
       "\n",
       "     shop_id  flag  time_hour  time_week  distance  \n",
       "0  s_2871718     1         21          6  4.902234  \n",
       "1  s_2871718     0         13          6  3.429618  \n",
       "2  s_2871718     0         17          3  1.197266  \n",
       "3  s_2871718     0         19          2  7.258564  \n",
       "4  s_2871718     0         19          4  7.216426  "
      ]
     },
     "execution_count": 27,
     "metadata": {},
     "output_type": "execute_result"
    }
   ],
   "source": [
    "full_data = pd.read_csv('./output/fulldata_neg_dis.csv')\n",
    "mall_ids = set(full_data.mall_id)\n",
    "\n",
    "full_data.shape\n",
    "full_data.head()"
   ]
  },
  {
   "cell_type": "code",
   "execution_count": 10,
   "metadata": {
    "scrolled": true
   },
   "outputs": [
    {
     "data": {
      "text/plain": [
       "(5690075, 9)"
      ]
     },
     "execution_count": 10,
     "metadata": {},
     "output_type": "execute_result"
    },
    {
     "data": {
      "text/html": [
       "<div>\n",
       "<style>\n",
       "    .dataframe thead tr:only-child th {\n",
       "        text-align: right;\n",
       "    }\n",
       "\n",
       "    .dataframe thead th {\n",
       "        text-align: left;\n",
       "    }\n",
       "\n",
       "    .dataframe tbody tr th {\n",
       "        vertical-align: top;\n",
       "    }\n",
       "</style>\n",
       "<table border=\"1\" class=\"dataframe\">\n",
       "  <thead>\n",
       "    <tr style=\"text-align: right;\">\n",
       "      <th></th>\n",
       "      <th>user_id</th>\n",
       "      <th>mall_id</th>\n",
       "      <th>longitude</th>\n",
       "      <th>latitude</th>\n",
       "      <th>shop_id</th>\n",
       "      <th>flag</th>\n",
       "      <th>time_hour</th>\n",
       "      <th>time_week</th>\n",
       "      <th>full_order</th>\n",
       "    </tr>\n",
       "  </thead>\n",
       "  <tbody>\n",
       "    <tr>\n",
       "      <th>0</th>\n",
       "      <td>376</td>\n",
       "      <td>m_1409</td>\n",
       "      <td>122.308291</td>\n",
       "      <td>32.088040</td>\n",
       "      <td>s_2871718</td>\n",
       "      <td>1</td>\n",
       "      <td>21</td>\n",
       "      <td>6</td>\n",
       "      <td>0</td>\n",
       "    </tr>\n",
       "    <tr>\n",
       "      <th>1</th>\n",
       "      <td>5847255</td>\n",
       "      <td>m_1409</td>\n",
       "      <td>122.308339</td>\n",
       "      <td>32.088094</td>\n",
       "      <td>s_2871718</td>\n",
       "      <td>0</td>\n",
       "      <td>13</td>\n",
       "      <td>6</td>\n",
       "      <td>1</td>\n",
       "    </tr>\n",
       "    <tr>\n",
       "      <th>2</th>\n",
       "      <td>35745402</td>\n",
       "      <td>m_1409</td>\n",
       "      <td>122.308446</td>\n",
       "      <td>32.088192</td>\n",
       "      <td>s_2871718</td>\n",
       "      <td>0</td>\n",
       "      <td>17</td>\n",
       "      <td>3</td>\n",
       "      <td>2</td>\n",
       "    </tr>\n",
       "    <tr>\n",
       "      <th>3</th>\n",
       "      <td>29400269</td>\n",
       "      <td>m_1409</td>\n",
       "      <td>122.308613</td>\n",
       "      <td>32.088048</td>\n",
       "      <td>s_2871718</td>\n",
       "      <td>0</td>\n",
       "      <td>19</td>\n",
       "      <td>2</td>\n",
       "      <td>3</td>\n",
       "    </tr>\n",
       "    <tr>\n",
       "      <th>4</th>\n",
       "      <td>11893024</td>\n",
       "      <td>m_1409</td>\n",
       "      <td>122.307937</td>\n",
       "      <td>32.087890</td>\n",
       "      <td>s_2871718</td>\n",
       "      <td>0</td>\n",
       "      <td>19</td>\n",
       "      <td>4</td>\n",
       "      <td>4</td>\n",
       "    </tr>\n",
       "  </tbody>\n",
       "</table>\n",
       "</div>"
      ],
      "text/plain": [
       "    user_id mall_id   longitude   latitude    shop_id  flag  time_hour  \\\n",
       "0       376  m_1409  122.308291  32.088040  s_2871718     1         21   \n",
       "1   5847255  m_1409  122.308339  32.088094  s_2871718     0         13   \n",
       "2  35745402  m_1409  122.308446  32.088192  s_2871718     0         17   \n",
       "3  29400269  m_1409  122.308613  32.088048  s_2871718     0         19   \n",
       "4  11893024  m_1409  122.307937  32.087890  s_2871718     0         19   \n",
       "\n",
       "   time_week  full_order  \n",
       "0          6           0  \n",
       "1          6           1  \n",
       "2          3           2  \n",
       "3          2           3  \n",
       "4          4           4  "
      ]
     },
     "execution_count": 10,
     "metadata": {},
     "output_type": "execute_result"
    },
    {
     "data": {
      "text/plain": [
       "(4355379, 9)"
      ]
     },
     "execution_count": 10,
     "metadata": {},
     "output_type": "execute_result"
    },
    {
     "data": {
      "text/html": [
       "<div>\n",
       "<style>\n",
       "    .dataframe thead tr:only-child th {\n",
       "        text-align: right;\n",
       "    }\n",
       "\n",
       "    .dataframe thead th {\n",
       "        text-align: left;\n",
       "    }\n",
       "\n",
       "    .dataframe tbody tr th {\n",
       "        vertical-align: top;\n",
       "    }\n",
       "</style>\n",
       "<table border=\"1\" class=\"dataframe\">\n",
       "  <thead>\n",
       "    <tr style=\"text-align: right;\">\n",
       "      <th></th>\n",
       "      <th>user_id</th>\n",
       "      <th>mall_id</th>\n",
       "      <th>longitude</th>\n",
       "      <th>latitude</th>\n",
       "      <th>shop_id</th>\n",
       "      <th>flag</th>\n",
       "      <th>time_hour</th>\n",
       "      <th>time_week</th>\n",
       "      <th>full_order</th>\n",
       "    </tr>\n",
       "  </thead>\n",
       "  <tbody>\n",
       "    <tr>\n",
       "      <th>5690075</th>\n",
       "      <td>30097142</td>\n",
       "      <td>m_3916</td>\n",
       "      <td>122.141011</td>\n",
       "      <td>39.818847</td>\n",
       "      <td>s_3683488</td>\n",
       "      <td>-1</td>\n",
       "      <td>13</td>\n",
       "      <td>1</td>\n",
       "      <td>0</td>\n",
       "    </tr>\n",
       "    <tr>\n",
       "      <th>5690076</th>\n",
       "      <td>30097142</td>\n",
       "      <td>m_3916</td>\n",
       "      <td>122.141011</td>\n",
       "      <td>39.818847</td>\n",
       "      <td>s_147921</td>\n",
       "      <td>-1</td>\n",
       "      <td>13</td>\n",
       "      <td>1</td>\n",
       "      <td>1</td>\n",
       "    </tr>\n",
       "    <tr>\n",
       "      <th>5690077</th>\n",
       "      <td>30097142</td>\n",
       "      <td>m_3916</td>\n",
       "      <td>122.141011</td>\n",
       "      <td>39.818847</td>\n",
       "      <td>s_312218</td>\n",
       "      <td>-1</td>\n",
       "      <td>13</td>\n",
       "      <td>1</td>\n",
       "      <td>2</td>\n",
       "    </tr>\n",
       "    <tr>\n",
       "      <th>5690078</th>\n",
       "      <td>30097142</td>\n",
       "      <td>m_3916</td>\n",
       "      <td>122.141011</td>\n",
       "      <td>39.818847</td>\n",
       "      <td>s_10425</td>\n",
       "      <td>-1</td>\n",
       "      <td>13</td>\n",
       "      <td>1</td>\n",
       "      <td>3</td>\n",
       "    </tr>\n",
       "    <tr>\n",
       "      <th>5690079</th>\n",
       "      <td>30097142</td>\n",
       "      <td>m_3916</td>\n",
       "      <td>122.141011</td>\n",
       "      <td>39.818847</td>\n",
       "      <td>s_3997599</td>\n",
       "      <td>-1</td>\n",
       "      <td>13</td>\n",
       "      <td>1</td>\n",
       "      <td>4</td>\n",
       "    </tr>\n",
       "  </tbody>\n",
       "</table>\n",
       "</div>"
      ],
      "text/plain": [
       "          user_id mall_id   longitude   latitude    shop_id  flag  time_hour  \\\n",
       "5690075  30097142  m_3916  122.141011  39.818847  s_3683488    -1         13   \n",
       "5690076  30097142  m_3916  122.141011  39.818847   s_147921    -1         13   \n",
       "5690077  30097142  m_3916  122.141011  39.818847   s_312218    -1         13   \n",
       "5690078  30097142  m_3916  122.141011  39.818847    s_10425    -1         13   \n",
       "5690079  30097142  m_3916  122.141011  39.818847  s_3997599    -1         13   \n",
       "\n",
       "         time_week  full_order  \n",
       "5690075          1           0  \n",
       "5690076          1           1  \n",
       "5690077          1           2  \n",
       "5690078          1           3  \n",
       "5690079          1           4  "
      ]
     },
     "execution_count": 10,
     "metadata": {},
     "output_type": "execute_result"
    }
   ],
   "source": [
    "train = full_data[full_data.flag != -1]\n",
    "test = full_data[full_data.flag == -1]\n",
    "\n",
    "del full_data\n",
    "\n",
    "train.shape\n",
    "train.head()\n",
    "test.shape\n",
    "test.head()"
   ]
  },
  {
   "cell_type": "code",
   "execution_count": 28,
   "metadata": {
    "collapsed": true
   },
   "outputs": [],
   "source": [
    "def mall_wifi_dateframe(mall_id, path):\n",
    "    cols = pickle.load(open('../cjy/input/'+path+'/'+mall_id+'_cols.p','rb'))\n",
    "    coo = pickle.load(open('../cjy/input/'+path+'/'+mall_id+'.p','rb'))\n",
    "    coo = coo.tocoo(copy=False)\n",
    "    coo_group = pd.DataFrame({'row': coo.row, 'col': coo.col, 'data': coo.data}\n",
    "                 )[['row', 'col', 'data']].sort_values(['row', 'col']\n",
    "                 ).reset_index(drop=True).groupby('col')\n",
    "    df = pd.DataFrame(0 * np.ones((max(coo.row)+1, len(cols))), columns=cols, dtype=np.int64)\n",
    "    tmp = coo_group.apply(lambda x:x.row.values)\n",
    "    for col,rows,values in zip(tmp.index.tolist(),tmp.values,\n",
    "                                coo_group.apply(lambda x:x.data.tolist())):\n",
    "        df.iloc[rows,col]=values\n",
    "    return df"
   ]
  },
  {
   "cell_type": "code",
   "execution_count": 30,
   "metadata": {
    "collapsed": true
   },
   "outputs": [],
   "source": [
    "gbm1 = xgb.XGBClassifier(\n",
    "    learning_rate=0.1,\n",
    "    n_estimators=1000,\n",
    "    max_depth=5,\n",
    "    min_child_weight=1,\n",
    "    gamma=0.9,\n",
    "    subsample=0.8,\n",
    "    colsample_bytree=0.75,\n",
    "    objective='binary:logistic',\n",
    "    nthread=-1,\n",
    "    scale_pos_weight=4,\n",
    "    seed=0)"
   ]
  },
  {
   "cell_type": "code",
   "execution_count": 42,
   "metadata": {
    "collapsed": true
   },
   "outputs": [],
   "source": [
    "gbm2 = xgb.XGBClassifier(\n",
    "    learning_rate=0.1,\n",
    "    n_estimators=500, \n",
    "    max_depth=3,\n",
    "    min_child_weight=1,\n",
    "    gamma=0.9,\n",
    "    subsample=0.8,\n",
    "    colsample_bytree=0.75,\n",
    "    objective='binary:logistic',\n",
    "    nthread=-1,\n",
    "    scale_pos_weight=4,\n",
    "    seed=0)"
   ]
  },
  {
   "cell_type": "code",
   "execution_count": 32,
   "metadata": {
    "scrolled": true
   },
   "outputs": [
    {
     "data": {
      "text/plain": [
       "['m_623', 'm_6167', 'm_2878', 'm_4011', 'm_1831', 'm_4548', 'm_4187', 'm_4572']"
      ]
     },
     "execution_count": 32,
     "metadata": {},
     "output_type": "execute_result"
    }
   ],
   "source": [
    "import os  \n",
    "  \n",
    "finish_mall = os.listdir('./model_negShop_dis/')\n",
    "finish_mall.remove('.ipynb_checkpoints')\n",
    "for i in range(len(finish_mall)):\n",
    "    finish_mall[i] = finish_mall[i][:-2]\n",
    "finish_mall"
   ]
  },
  {
   "cell_type": "code",
   "execution_count": 33,
   "metadata": {
    "scrolled": false
   },
   "outputs": [
    {
     "data": {
      "text/plain": [
       "8"
      ]
     },
     "execution_count": 33,
     "metadata": {},
     "output_type": "execute_result"
    }
   ],
   "source": [
    "len(finish_mall)"
   ]
  },
  {
   "cell_type": "code",
   "execution_count": 43,
   "metadata": {},
   "outputs": [
    {
     "name": "stderr",
     "output_type": "stream",
     "text": [
      "\r",
      "  0%|          | 0/97 [00:00<?, ?it/s]"
     ]
    },
    {
     "data": {
      "text/plain": [
       "XGBClassifier(base_score=0.5, colsample_bylevel=1, colsample_bytree=0.75,\n",
       "       gamma=0.9, learning_rate=0.1, max_delta_step=0, max_depth=3,\n",
       "       min_child_weight=1, missing=None, n_estimators=500, nthread=-1,\n",
       "       objective='binary:logistic', reg_alpha=0, reg_lambda=1,\n",
       "       scale_pos_weight=4, seed=0, silent=True, subsample=0.8)"
      ]
     },
     "execution_count": 43,
     "metadata": {},
     "output_type": "execute_result"
    },
    {
     "data": {
      "text/plain": [
       "XGBClassifier(base_score=0.5, colsample_bylevel=1, colsample_bytree=0.75,\n",
       "       gamma=0.9, learning_rate=0.1, max_delta_step=0, max_depth=5,\n",
       "       min_child_weight=1, missing=None, n_estimators=1000, nthread=-1,\n",
       "       objective='binary:logistic', reg_alpha=0, reg_lambda=1,\n",
       "       scale_pos_weight=4, seed=0, silent=True, subsample=0.8)"
      ]
     },
     "execution_count": 43,
     "metadata": {},
     "output_type": "execute_result"
    },
    {
     "name": "stderr",
     "output_type": "stream",
     "text": [
      "\r",
      "  3%|▎         | 3/97 [00:51<26:42, 17.05s/it]"
     ]
    },
    {
     "name": "stdout",
     "output_type": "stream",
     "text": [
      "m_623:0.794\n"
     ]
    },
    {
     "data": {
      "text/plain": [
       "XGBClassifier(base_score=0.5, colsample_bylevel=1, colsample_bytree=0.75,\n",
       "       gamma=0.9, learning_rate=0.1, max_delta_step=0, max_depth=3,\n",
       "       min_child_weight=1, missing=None, n_estimators=500, nthread=-1,\n",
       "       objective='binary:logistic', reg_alpha=0, reg_lambda=1,\n",
       "       scale_pos_weight=4, seed=0, silent=True, subsample=0.8)"
      ]
     },
     "execution_count": 43,
     "metadata": {},
     "output_type": "execute_result"
    },
    {
     "data": {
      "text/plain": [
       "XGBClassifier(base_score=0.5, colsample_bylevel=1, colsample_bytree=0.75,\n",
       "       gamma=0.9, learning_rate=0.1, max_delta_step=0, max_depth=5,\n",
       "       min_child_weight=1, missing=None, n_estimators=1000, nthread=-1,\n",
       "       objective='binary:logistic', reg_alpha=0, reg_lambda=1,\n",
       "       scale_pos_weight=4, seed=0, silent=True, subsample=0.8)"
      ]
     },
     "execution_count": 43,
     "metadata": {},
     "output_type": "execute_result"
    },
    {
     "name": "stderr",
     "output_type": "stream",
     "text": [
      "\r",
      " 13%|█▎        | 13/97 [02:21<15:16, 10.91s/it]"
     ]
    },
    {
     "name": "stdout",
     "output_type": "stream",
     "text": [
      "m_4187:0.6779999999999999\n"
     ]
    },
    {
     "data": {
      "text/plain": [
       "XGBClassifier(base_score=0.5, colsample_bylevel=1, colsample_bytree=0.75,\n",
       "       gamma=0.9, learning_rate=0.1, max_delta_step=0, max_depth=3,\n",
       "       min_child_weight=1, missing=None, n_estimators=500, nthread=-1,\n",
       "       objective='binary:logistic', reg_alpha=0, reg_lambda=1,\n",
       "       scale_pos_weight=4, seed=0, silent=True, subsample=0.8)"
      ]
     },
     "execution_count": 43,
     "metadata": {},
     "output_type": "execute_result"
    },
    {
     "data": {
      "text/plain": [
       "XGBClassifier(base_score=0.5, colsample_bylevel=1, colsample_bytree=0.75,\n",
       "       gamma=0.9, learning_rate=0.1, max_delta_step=0, max_depth=5,\n",
       "       min_child_weight=1, missing=None, n_estimators=1000, nthread=-1,\n",
       "       objective='binary:logistic', reg_alpha=0, reg_lambda=1,\n",
       "       scale_pos_weight=4, seed=0, silent=True, subsample=0.8)"
      ]
     },
     "execution_count": 43,
     "metadata": {},
     "output_type": "execute_result"
    },
    {
     "name": "stderr",
     "output_type": "stream",
     "text": [
      "\r",
      " 33%|███▎      | 32/97 [03:54<07:56,  7.33s/it]"
     ]
    },
    {
     "name": "stdout",
     "output_type": "stream",
     "text": [
      "m_1831:0.882\n"
     ]
    },
    {
     "data": {
      "text/plain": [
       "XGBClassifier(base_score=0.5, colsample_bylevel=1, colsample_bytree=0.75,\n",
       "       gamma=0.9, learning_rate=0.1, max_delta_step=0, max_depth=3,\n",
       "       min_child_weight=1, missing=None, n_estimators=500, nthread=-1,\n",
       "       objective='binary:logistic', reg_alpha=0, reg_lambda=1,\n",
       "       scale_pos_weight=4, seed=0, silent=True, subsample=0.8)"
      ]
     },
     "execution_count": 43,
     "metadata": {},
     "output_type": "execute_result"
    },
    {
     "data": {
      "text/plain": [
       "XGBClassifier(base_score=0.5, colsample_bylevel=1, colsample_bytree=0.75,\n",
       "       gamma=0.9, learning_rate=0.1, max_delta_step=0, max_depth=5,\n",
       "       min_child_weight=1, missing=None, n_estimators=1000, nthread=-1,\n",
       "       objective='binary:logistic', reg_alpha=0, reg_lambda=1,\n",
       "       scale_pos_weight=4, seed=0, silent=True, subsample=0.8)"
      ]
     },
     "execution_count": 43,
     "metadata": {},
     "output_type": "execute_result"
    },
    {
     "name": "stderr",
     "output_type": "stream",
     "text": [
      "\r",
      " 40%|████      | 39/97 [05:36<08:20,  8.62s/it]"
     ]
    },
    {
     "name": "stdout",
     "output_type": "stream",
     "text": [
      "m_4572:0.744\n"
     ]
    },
    {
     "data": {
      "text/plain": [
       "XGBClassifier(base_score=0.5, colsample_bylevel=1, colsample_bytree=0.75,\n",
       "       gamma=0.9, learning_rate=0.1, max_delta_step=0, max_depth=3,\n",
       "       min_child_weight=1, missing=None, n_estimators=500, nthread=-1,\n",
       "       objective='binary:logistic', reg_alpha=0, reg_lambda=1,\n",
       "       scale_pos_weight=4, seed=0, silent=True, subsample=0.8)"
      ]
     },
     "execution_count": 43,
     "metadata": {},
     "output_type": "execute_result"
    },
    {
     "data": {
      "text/plain": [
       "XGBClassifier(base_score=0.5, colsample_bylevel=1, colsample_bytree=0.75,\n",
       "       gamma=0.9, learning_rate=0.1, max_delta_step=0, max_depth=5,\n",
       "       min_child_weight=1, missing=None, n_estimators=1000, nthread=-1,\n",
       "       objective='binary:logistic', reg_alpha=0, reg_lambda=1,\n",
       "       scale_pos_weight=4, seed=0, silent=True, subsample=0.8)"
      ]
     },
     "execution_count": 43,
     "metadata": {},
     "output_type": "execute_result"
    },
    {
     "name": "stderr",
     "output_type": "stream",
     "text": [
      "\r",
      " 45%|████▌     | 44/97 [06:18<07:35,  8.60s/it]"
     ]
    },
    {
     "name": "stdout",
     "output_type": "stream",
     "text": [
      "m_6167:0.61\n"
     ]
    },
    {
     "data": {
      "text/plain": [
       "XGBClassifier(base_score=0.5, colsample_bylevel=1, colsample_bytree=0.75,\n",
       "       gamma=0.9, learning_rate=0.1, max_delta_step=0, max_depth=3,\n",
       "       min_child_weight=1, missing=None, n_estimators=500, nthread=-1,\n",
       "       objective='binary:logistic', reg_alpha=0, reg_lambda=1,\n",
       "       scale_pos_weight=4, seed=0, silent=True, subsample=0.8)"
      ]
     },
     "execution_count": 43,
     "metadata": {},
     "output_type": "execute_result"
    },
    {
     "data": {
      "text/plain": [
       "XGBClassifier(base_score=0.5, colsample_bylevel=1, colsample_bytree=0.75,\n",
       "       gamma=0.9, learning_rate=0.1, max_delta_step=0, max_depth=5,\n",
       "       min_child_weight=1, missing=None, n_estimators=1000, nthread=-1,\n",
       "       objective='binary:logistic', reg_alpha=0, reg_lambda=1,\n",
       "       scale_pos_weight=4, seed=0, silent=True, subsample=0.8)"
      ]
     },
     "execution_count": 43,
     "metadata": {},
     "output_type": "execute_result"
    },
    {
     "name": "stderr",
     "output_type": "stream",
     "text": [
      "\r",
      " 51%|█████     | 49/97 [08:01<07:51,  9.83s/it]"
     ]
    },
    {
     "name": "stdout",
     "output_type": "stream",
     "text": [
      "m_2878:0.751\n"
     ]
    },
    {
     "data": {
      "text/plain": [
       "XGBClassifier(base_score=0.5, colsample_bylevel=1, colsample_bytree=0.75,\n",
       "       gamma=0.9, learning_rate=0.1, max_delta_step=0, max_depth=3,\n",
       "       min_child_weight=1, missing=None, n_estimators=500, nthread=-1,\n",
       "       objective='binary:logistic', reg_alpha=0, reg_lambda=1,\n",
       "       scale_pos_weight=4, seed=0, silent=True, subsample=0.8)"
      ]
     },
     "execution_count": 43,
     "metadata": {},
     "output_type": "execute_result"
    },
    {
     "data": {
      "text/plain": [
       "XGBClassifier(base_score=0.5, colsample_bylevel=1, colsample_bytree=0.75,\n",
       "       gamma=0.9, learning_rate=0.1, max_delta_step=0, max_depth=5,\n",
       "       min_child_weight=1, missing=None, n_estimators=1000, nthread=-1,\n",
       "       objective='binary:logistic', reg_alpha=0, reg_lambda=1,\n",
       "       scale_pos_weight=4, seed=0, silent=True, subsample=0.8)"
      ]
     },
     "execution_count": 43,
     "metadata": {},
     "output_type": "execute_result"
    },
    {
     "name": "stderr",
     "output_type": "stream",
     "text": [
      "\r",
      " 67%|██████▋   | 65/97 [08:38<04:15,  7.97s/it]"
     ]
    },
    {
     "name": "stdout",
     "output_type": "stream",
     "text": [
      "m_4548:0.864\n"
     ]
    },
    {
     "data": {
      "text/plain": [
       "XGBClassifier(base_score=0.5, colsample_bylevel=1, colsample_bytree=0.75,\n",
       "       gamma=0.9, learning_rate=0.1, max_delta_step=0, max_depth=3,\n",
       "       min_child_weight=1, missing=None, n_estimators=500, nthread=-1,\n",
       "       objective='binary:logistic', reg_alpha=0, reg_lambda=1,\n",
       "       scale_pos_weight=4, seed=0, silent=True, subsample=0.8)"
      ]
     },
     "execution_count": 43,
     "metadata": {},
     "output_type": "execute_result"
    },
    {
     "data": {
      "text/plain": [
       "XGBClassifier(base_score=0.5, colsample_bylevel=1, colsample_bytree=0.75,\n",
       "       gamma=0.9, learning_rate=0.1, max_delta_step=0, max_depth=5,\n",
       "       min_child_weight=1, missing=None, n_estimators=1000, nthread=-1,\n",
       "       objective='binary:logistic', reg_alpha=0, reg_lambda=1,\n",
       "       scale_pos_weight=4, seed=0, silent=True, subsample=0.8)"
      ]
     },
     "execution_count": 43,
     "metadata": {},
     "output_type": "execute_result"
    },
    {
     "name": "stderr",
     "output_type": "stream",
     "text": [
      "100%|██████████| 97/97 [09:28<00:00,  5.86s/it]"
     ]
    },
    {
     "name": "stdout",
     "output_type": "stream",
     "text": [
      "m_4011:0.864\n"
     ]
    },
    {
     "name": "stderr",
     "output_type": "stream",
     "text": [
      "\n"
     ]
    }
   ],
   "source": [
    "for mall_id in tqdm(mall_ids):\n",
    "    if mall_id in finish_mall:\n",
    "        train_new = []\n",
    "        m_train = train[train.mall_id == mall_id]\n",
    "        m_test = test[test.mall_id == mall_id]\n",
    "        m_full = pd.concat([m_train, m_test])\n",
    "        del m_train\n",
    "        del m_test\n",
    "\n",
    "        # shop_id onehot\n",
    "#         shop = pd.get_dummies(m_full.shop_id)\n",
    "        m_full = m_full.drop(['shop_id'], axis=1)\n",
    "#         m_full = pd.concat([m_full, shop], axis=1)\n",
    "#         del shop\n",
    "        m_train = m_full[m_full.flag != -1]\n",
    "        m_test = m_full[m_full.flag == -1]\n",
    "        m_train = m_train.as_matrix()\n",
    "        m_test = m_test.as_matrix()\n",
    "        del m_full\n",
    "\n",
    "        # wifi onehot\n",
    "        m1 = mall_wifi_dateframe(mall_id, 'train_matrix')\n",
    "        m2 = mall_wifi_dateframe(mall_id, 'test_matrix')\n",
    "        m1 = m1.drop(['full_order'], axis=1)\n",
    "        m2 = m2.drop(['full_order'], axis=1)\n",
    "        wifi_spc = list(set(many_wifi).intersection(set(m1.columns)))\n",
    "        m1 = m1[wifi_spc]\n",
    "        m2 = m2[wifi_spc]\n",
    "        m1 = m1.as_matrix()\n",
    "        m2 = m2.as_matrix()\n",
    "        m_train_new = []\n",
    "        m_test_new = []\n",
    "        for i in range(len(m1)):\n",
    "            m_train_new.append(m1[i].tolist())\n",
    "            m_train_new.append(m1[i].tolist())\n",
    "            m_train_new.append(m1[i].tolist())\n",
    "            m_train_new.append(m1[i].tolist())\n",
    "            m_train_new.append(m1[i].tolist())\n",
    "        for i in range(len(m2)):\n",
    "            m_test_new.append(m2[i].tolist())\n",
    "            m_test_new.append(m2[i].tolist())\n",
    "            m_test_new.append(m2[i].tolist())\n",
    "            m_test_new.append(m2[i].tolist())\n",
    "            m_test_new.append(m2[i].tolist())\n",
    "            m_test_new.append(m2[i].tolist())\n",
    "            m_test_new.append(m2[i].tolist())\n",
    "            m_test_new.append(m2[i].tolist())\n",
    "            m_test_new.append(m2[i].tolist())\n",
    "        del m1\n",
    "        del m2\n",
    "        m_trian_nn = np.hstack((m_train.tolist(), m_train_new))\n",
    "        m_test_nn = np.hstack((m_test.tolist(), m_test_new))\n",
    "        del m_train\n",
    "        del m_test\n",
    "        del m_train_new\n",
    "        del m_test_new\n",
    "        x_train = np.hstack((m_trian_nn[:, 2:4], m_trian_nn[:, 5:7], m_trian_nn[:, 8:]))\n",
    "        y_train = m_trian_nn[:, 4]\n",
    "        x_test = np.hstack((m_test_nn[:, 2:4], m_test_nn[:, 5:7], m_test_nn[:, 8:]))\n",
    "        del m_trian_nn\n",
    "        del m_test_nn\n",
    "        \n",
    "        x_train_tr = x_train[:-5000]\n",
    "        y_train_tr = y_train[:-5000]\n",
    "        x_train_val = x_train[-5000:]\n",
    "        y_train_val = y_train[-5000:]\n",
    "        \n",
    "        x_train_1 = x_train_tr[-10000:]\n",
    "        y_train_1 = y_train_tr[-10000:]\n",
    "        x_train_2 = x_train_tr[:-10000]\n",
    "        y_train_2 = y_train_tr[:-10000]\n",
    "\n",
    "        gbm2.fit(x_train_1,  y_train_1)\n",
    "        del x_train_1\n",
    "        del y_train_1\n",
    "        \n",
    "        new_feature = gbm2.apply(x_train_2)\n",
    "        new_feature_test = gbm2.apply(x_train_val)\n",
    "        x_train_new2 = np.hstack((x_train_2, new_feature))\n",
    "        x_test_new = np.hstack((x_train_val, new_feature_test))\n",
    "        del new_feature\n",
    "        del new_feature_test\n",
    "        \n",
    "        gbm1.fit(x_train_new2, y_train_2)\n",
    "        \n",
    "        y_pred_proba = gbm1.predict_proba(x_test_new)\n",
    "        y_pred_proba = pd.DataFrame(y_pred_proba)\n",
    "        y_max = []\n",
    "        for i in range(y_pred_proba.shape[0]):\n",
    "            if i % 5 == 0:\n",
    "                temp = y_pred_proba.loc[i : i + 4, 1].sort_values(ascending=False)\n",
    "                y_max.append(temp.index[0])\n",
    "            else:\n",
    "                y_max.append(0)\n",
    "        y_max = pd.Series(y_max)\n",
    "        acc = 1 - len(y_max[y_max % 5 != 0])/(len(y_train_val)/5)\n",
    "\n",
    "        print(str(mall_id) + ':' + str(acc))\n",
    "        finish_mall.append(mall_id)"
   ]
  },
  {
   "cell_type": "code",
   "execution_count": null,
   "metadata": {
    "collapsed": true
   },
   "outputs": [],
   "source": [
    "# train_neg changeShop"
   ]
  },
  {
   "cell_type": "code",
   "execution_count": null,
   "metadata": {
    "collapsed": true
   },
   "outputs": [],
   "source": [
    "XGBClassifier(base_score=0.5, colsample_bylevel=1, colsample_bytree=0.75,\n",
    "       gamma=0.9, learning_rate=0.1, max_delta_step=0, max_depth=5,\n",
    "       min_child_weight=1, missing=None, n_estimators=1000, nthread=-1,\n",
    "       objective='binary:logistic', reg_alpha=0, reg_lambda=1,\n",
    "       scale_pos_weight=4, seed=0, silent=1, subsample=0.8)\n",
    "m_623:0.81\n",
    "m_4187:0.661\n",
    "m_1831:0.8160000000000001\n",
    "m_4572:0.734\n",
    "m_6167:0.621\n",
    "m_2878:0.75\n",
    "m_4548:0.873\n",
    "m_4011:0.867"
   ]
  }
 ],
 "metadata": {
  "kernelspec": {
   "display_name": "Python 3",
   "language": "python",
   "name": "python3"
  }
 },
 "nbformat": 4,
 "nbformat_minor": 2
}
