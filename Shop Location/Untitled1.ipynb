{
 "cells": [
  {
   "cell_type": "code",
   "execution_count": 1,
   "metadata": {},
   "outputs": [
    {
     "name": "stderr",
     "output_type": "stream",
     "text": [
      "/usr/local/miniconda2/lib/python2.7/site-packages/sklearn/cross_validation.py:44: DeprecationWarning: This module was deprecated in version 0.18 in favor of the model_selection module into which all the refactored classes and functions are moved. Also note that the interface of the new CV iterators are different from that of this module. This module will be removed in 0.20.\n",
      "  \"This module will be removed in 0.20.\", DeprecationWarning)\n",
      "/usr/local/miniconda2/lib/python2.7/site-packages/matplotlib/__init__.py:1401: UserWarning:  This call to matplotlib.use() has no effect\n",
      "because the backend has already been chosen;\n",
      "matplotlib.use() must be called *before* pylab, matplotlib.pyplot,\n",
      "or matplotlib.backends is imported for the first time.\n",
      "\n",
      "  warnings.warn(_use_error_msg)\n"
     ]
    }
   ],
   "source": [
    "import os\n",
    "import gc\n",
    "import time\n",
    "import pickle\n",
    "import numpy as np\n",
    "import pandas as pd\n",
    "import math\n",
    "from collections import defaultdict\n",
    "from sklearn.cross_validation import train_test_split\n",
    "#每次可以输出多个变量\n",
    "from IPython.core.interactiveshell import InteractiveShell\n",
    "InteractiveShell.ast_node_interactivity = \"all\"\n",
    "\n",
    "from pylab import rcParams\n",
    "rcParams['figure.figsize'] = 6, 6\n",
    "\n",
    "#中文字体\n",
    "import matplotlib  \n",
    "matplotlib.use('qt4agg')  \n",
    "#指定默认字体  \n",
    "matplotlib.rcParams['font.sans-serif'] = ['SimHei']   \n",
    "matplotlib.rcParams['font.family']='sans-serif'  \n",
    "#解决负号'-'显示为方块的问题  \n",
    "matplotlib.rcParams['axes.unicode_minus'] = False"
   ]
  },
  {
   "cell_type": "code",
   "execution_count": 2,
   "metadata": {
    "collapsed": true
   },
   "outputs": [],
   "source": [
    "cache_path = 'fuck_copy4/'\n",
    "train_path = '../input/训练数据-ccf_first_round_user_shop_behavior.csv'\n",
    "shop_path='../input/训练数据-ccf_first_round_shop_info.csv'\n",
    "test_path = '../input/AB榜测试集-evaluation_public.csv'\n",
    "wifi_shop_info=pd.DataFrame()\n",
    "wifi_shop_max=pd.DataFrame()\n",
    "wifi_shop_connect_only=pd.DataFrame()\n",
    "shop_loc=pd.DataFrame()\n",
    "wifi_shop_count=pd.DataFrame()\n",
    "flag = True"
   ]
  },
  {
   "cell_type": "code",
   "execution_count": null,
   "metadata": {
    "collapsed": true
   },
   "outputs": [],
   "source": [
    "train_feat = pd.read_csv('fuck_copy_temp/train_feat_fuck4_add10.csv')\n",
    "test_feat = pd.read_csv('fuck_copy_temp/test_feat_fuck4_add10.csv')"
   ]
  },
  {
   "cell_type": "code",
   "execution_count": 4,
   "metadata": {},
   "outputs": [
    {
     "name": "stdout",
     "output_type": "stream",
     "text": [
      "start training\n"
     ]
    },
    {
     "data": {
      "text/plain": [
       "0"
      ]
     },
     "execution_count": 4,
     "metadata": {},
     "output_type": "execute_result"
    },
    {
     "name": "stdout",
     "output_type": "stream",
     "text": [
      "start training\n"
     ]
    }
   ],
   "source": [
    "import xgboost as xgb\n",
    "predictors = ['h_s','time_dif','h_s_v','h_s_m','knn_max_values','wifi_count_rt','wifishopcount','h3','knn_values','longitude_s', 'latitude_s',\n",
    "    'real_lon_dif','real_lat_dif','w3','lon_real','lat_real','real_ang_df','real_dis_df','connect_sum',\n",
    "    'ang_df','dis_df','mall_id','user_id','dayofweek','hourofday','connect1','connect2','power_dif2','ave_power2','power_dif1',\n",
    "    'ave_power1','user_kind_count','category','price','user_shop_count',\n",
    "   'shop_hot','user_count',\n",
    "    'ave_power3','ave_power4','ave_power5',\n",
    "    'ave_power6','ave_power7','ave_power8','ave_power9','ave_power10',\n",
    "    'max_power1','max_power2','max_power3','max_power4','max_power5','max_power6','max_power7','max_power8','max_power9','max_power10',\n",
    "   'wifi inshopcount1','wifi inshopcount2','wifi inshopcount3','wifi inshopcount4','wifi inshopcount5',\n",
    "    'wifi inshopcount6','wifi inshopcount7','wifi inshopcount8','wifi inshopcount9','wifi inshopcount10',\n",
    "         'min_power1','min_power2','min_power3','min_power4','min_power5','min_power6','min_power7','min_power8','min_power9','min_power10',\n",
    "             ]\n",
    "params = {\n",
    "        'objective': 'binary:logistic',\n",
    "        'eta': 0.05,\n",
    "        'colsample_bytree': 0.886,\n",
    "        'min_child_weight': 1.1,\n",
    "        'max_depth': 7,\n",
    "        'subsample': 0.886,\n",
    "        'gamma': 0.1,\n",
    "        'lambda':10,\n",
    "        'verbose_eval': True,\n",
    "        'eval_metric': 'auc',\n",
    "        'scale_pos_weight': 10,\n",
    "        'seed': 201703,\n",
    "        'missing':-1\n",
    "    }\n",
    "print ('start training')\n",
    "gc.collect()\n",
    "x_train, x_val, y_train, y_val = train_test_split(train_feat[predictors], train_feat['label'], test_size=0.3,random_state=1)\n",
    "dval = xgb.DMatrix(x_val,label=y_val)\n",
    "dtrain = xgb.DMatrix(x_train, label=y_train)\n",
    "xgbtrain = xgb.DMatrix(train_feat[predictors], train_feat['label'])\n",
    "xgbtest = xgb.DMatrix(test_feat[predictors])\n",
    "print ('start training')\n",
    "watchlist  = [(dtrain,'train'),(dval,'val')]"
   ]
  },
  {
   "cell_type": "code",
   "execution_count": null,
   "metadata": {},
   "outputs": [
    {
     "name": "stdout",
     "output_type": "stream",
     "text": [
      "start training\n"
     ]
    }
   ],
   "source": [
    "print ('start training')\n",
    "rounds = 1600\n",
    "model = xgb.train(params, xgbtrain, rounds)\n",
    "gc.collect()\n",
    "print ('start predicting')\n",
    "test_feat.loc[:,'pred'] = model.predict(xgbtest)\n",
    "test_feat = test_feat[['row_id','shop_id','pred']].drop_duplicates()\n",
    "gc.collect()\n",
    "result=test_feat.groupby('row_id',as_index=False)['pred'].agg({'pred':'max'})\n",
    "result.to_csv('fuck_submit_before/result_fuck4_ave_inshopcount_max_min.csv',index=False)\n",
    "test_feat.to_csv('fuck_submit_before/test_feat_fuck4_ave_inshopcount_max_min.csv',index=False)"
   ]
  },
  {
   "cell_type": "code",
   "execution_count": 3,
   "metadata": {},
   "outputs": [
    {
     "data": {
      "text/html": [
       "<div>\n",
       "<table border=\"1\" class=\"dataframe\">\n",
       "  <thead>\n",
       "    <tr style=\"text-align: right;\">\n",
       "      <th></th>\n",
       "      <th>row_id</th>\n",
       "      <th>pred</th>\n",
       "    </tr>\n",
       "  </thead>\n",
       "  <tbody>\n",
       "    <tr>\n",
       "      <th>0</th>\n",
       "      <td>1</td>\n",
       "      <td>0.999772</td>\n",
       "    </tr>\n",
       "    <tr>\n",
       "      <th>1</th>\n",
       "      <td>2</td>\n",
       "      <td>0.999744</td>\n",
       "    </tr>\n",
       "    <tr>\n",
       "      <th>2</th>\n",
       "      <td>3</td>\n",
       "      <td>0.995313</td>\n",
       "    </tr>\n",
       "    <tr>\n",
       "      <th>3</th>\n",
       "      <td>4</td>\n",
       "      <td>0.985377</td>\n",
       "    </tr>\n",
       "    <tr>\n",
       "      <th>4</th>\n",
       "      <td>5</td>\n",
       "      <td>0.920314</td>\n",
       "    </tr>\n",
       "  </tbody>\n",
       "</table>\n",
       "</div>"
      ],
      "text/plain": [
       "   row_id      pred\n",
       "0       1  0.999772\n",
       "1       2  0.999744\n",
       "2       3  0.995313\n",
       "3       4  0.985377\n",
       "4       5  0.920314"
      ]
     },
     "execution_count": 3,
     "metadata": {},
     "output_type": "execute_result"
    },
    {
     "data": {
      "text/html": [
       "<div>\n",
       "<table border=\"1\" class=\"dataframe\">\n",
       "  <thead>\n",
       "    <tr style=\"text-align: right;\">\n",
       "      <th></th>\n",
       "      <th>row_id</th>\n",
       "      <th>shop_id</th>\n",
       "      <th>pred</th>\n",
       "    </tr>\n",
       "  </thead>\n",
       "  <tbody>\n",
       "    <tr>\n",
       "      <th>0</th>\n",
       "      <td>432969</td>\n",
       "      <td>s_11611</td>\n",
       "      <td>0.006421</td>\n",
       "    </tr>\n",
       "    <tr>\n",
       "      <th>1</th>\n",
       "      <td>432969</td>\n",
       "      <td>s_497319</td>\n",
       "      <td>0.977793</td>\n",
       "    </tr>\n",
       "    <tr>\n",
       "      <th>2</th>\n",
       "      <td>53780</td>\n",
       "      <td>s_137744</td>\n",
       "      <td>0.001581</td>\n",
       "    </tr>\n",
       "    <tr>\n",
       "      <th>3</th>\n",
       "      <td>53780</td>\n",
       "      <td>s_3392998</td>\n",
       "      <td>0.003020</td>\n",
       "    </tr>\n",
       "    <tr>\n",
       "      <th>4</th>\n",
       "      <td>53780</td>\n",
       "      <td>s_350316</td>\n",
       "      <td>0.967899</td>\n",
       "    </tr>\n",
       "  </tbody>\n",
       "</table>\n",
       "</div>"
      ],
      "text/plain": [
       "   row_id    shop_id      pred\n",
       "0  432969    s_11611  0.006421\n",
       "1  432969   s_497319  0.977793\n",
       "2   53780   s_137744  0.001581\n",
       "3   53780  s_3392998  0.003020\n",
       "4   53780   s_350316  0.967899"
      ]
     },
     "execution_count": 3,
     "metadata": {},
     "output_type": "execute_result"
    }
   ],
   "source": [
    "result = pd.read_csv('fuck_submit_before/result_fuck4_ave10_inshopcount10_difave_difmax_Min.csv')\n",
    "test_feat = pd.read_csv('fuck_submit_before/test_feat_fuck4_ave10_inshopcount10_difave_difmax_Min.csv')\n",
    "result.head()\n",
    "test_feat.head()"
   ]
  },
  {
   "cell_type": "code",
   "execution_count": null,
   "metadata": {
    "collapsed": true
   },
   "outputs": [],
   "source": [
    "test_feat.shape\n",
    "result.shape"
   ]
  },
  {
   "cell_type": "code",
   "execution_count": 10,
   "metadata": {
    "collapsed": true
   },
   "outputs": [],
   "source": [
    "result=pd.merge(result,test_feat,on=['row_id','pred'],how='left')\n",
    "test = pd.read_csv(test_path)\n",
    "result = pd.merge(test[['row_id']],result[['row_id','shop_id']],on='row_id',how='left')\n",
    "result.fillna('0',inplace=True)\n",
    "result.to_csv('result.csv',index=False)"
   ]
  },
  {
   "cell_type": "code",
   "execution_count": null,
   "metadata": {
    "collapsed": true
   },
   "outputs": [],
   "source": []
  }
 ],
 "metadata": {
  "kernelspec": {
   "display_name": "Python 2",
   "language": "python",
   "name": "python2"
  },
  "language_info": {
   "codemirror_mode": {
    "name": "ipython",
    "version": 2
   },
   "file_extension": ".py",
   "mimetype": "text/x-python",
   "name": "python",
   "nbconvert_exporter": "python",
   "pygments_lexer": "ipython2",
   "version": "2.7.13"
  }
 },
 "nbformat": 4,
 "nbformat_minor": 2
}
