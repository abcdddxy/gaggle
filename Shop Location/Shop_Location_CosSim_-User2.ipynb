{
 "cells": [
  {
   "cell_type": "code",
   "execution_count": 6,
   "metadata": {},
   "outputs": [
    {
     "name": "stderr",
     "output_type": "stream",
     "text": [
      "/usr/local/miniconda2/envs/py35/lib/python3.5/site-packages/matplotlib/__init__.py:1405: UserWarning: \n",
      "This call to matplotlib.use() has no effect because the backend has already\n",
      "been chosen; matplotlib.use() must be called *before* pylab, matplotlib.pyplot,\n",
      "or matplotlib.backends is imported for the first time.\n",
      "\n",
      "  warnings.warn(_use_error_msg)\n"
     ]
    }
   ],
   "source": [
    "import numpy as np\n",
    "import pandas as pd\n",
    "import matplotlib.pyplot as plt\n",
    "import seaborn as sns\n",
    "import pickle\n",
    "import time\n",
    "from tqdm import tqdm\n",
    "\n",
    "%matplotlib inline\n",
    "\n",
    "#每次可以输出多个变量\n",
    "from IPython.core.interactiveshell import InteractiveShell\n",
    "InteractiveShell.ast_node_interactivity = \"all\"\n",
    "\n",
    "from pylab import rcParams\n",
    "rcParams['figure.figsize'] = 14, 6\n",
    "\n",
    "#中文字体\n",
    "import matplotlib  \n",
    "matplotlib.use('qt4agg')  \n",
    "#指定默认字体  \n",
    "matplotlib.rcParams['font.sans-serif'] = ['SimHei']   \n",
    "matplotlib.rcParams['font.family']='sans-serif'  \n",
    "#解决负号'-'显示为方块的问题  \n",
    "matplotlib.rcParams['axes.unicode_minus'] = False "
   ]
  },
  {
   "cell_type": "code",
   "execution_count": 7,
   "metadata": {
    "collapsed": true
   },
   "outputs": [],
   "source": [
    "def mall_wifi_dateframe(mall_id, path):\n",
    "    cols = pickle.load(open('../cjy/input/'+path+'/'+mall_id+'_cols.p','rb'))\n",
    "    coo = pickle.load(open('../cjy/input/'+path+'/'+mall_id+'.p','rb'))\n",
    "    coo = coo.tocoo(copy=False)\n",
    "    coo_group = pd.DataFrame({'row': coo.row, 'col': coo.col, 'data': coo.data}\n",
    "                 )[['row', 'col', 'data']].sort_values(['row', 'col']\n",
    "                 ).reset_index(drop=True).groupby('col')\n",
    "    df = pd.DataFrame(0 * np.ones((max(coo.row)+1, len(cols))), columns=cols, dtype=np.int64)\n",
    "    tmp = coo_group.apply(lambda x:x.row.values)\n",
    "    for col,rows,values in zip(tmp.index.tolist(),tmp.values,\n",
    "                                coo_group.apply(lambda x:x.data.tolist())):\n",
    "        df.iloc[rows,col]=values\n",
    "    return df"
   ]
  },
  {
   "cell_type": "code",
   "execution_count": 8,
   "metadata": {},
   "outputs": [
    {
     "data": {
      "text/plain": [
       "(8477, 6)"
      ]
     },
     "execution_count": 8,
     "metadata": {},
     "output_type": "execute_result"
    },
    {
     "data": {
      "text/html": [
       "<div>\n",
       "<style>\n",
       "    .dataframe thead tr:only-child th {\n",
       "        text-align: right;\n",
       "    }\n",
       "\n",
       "    .dataframe thead th {\n",
       "        text-align: left;\n",
       "    }\n",
       "\n",
       "    .dataframe tbody tr th {\n",
       "        vertical-align: top;\n",
       "    }\n",
       "</style>\n",
       "<table border=\"1\" class=\"dataframe\">\n",
       "  <thead>\n",
       "    <tr style=\"text-align: right;\">\n",
       "      <th></th>\n",
       "      <th>shop_id</th>\n",
       "      <th>category_id</th>\n",
       "      <th>longitude</th>\n",
       "      <th>latitude</th>\n",
       "      <th>price</th>\n",
       "      <th>mall_id</th>\n",
       "    </tr>\n",
       "  </thead>\n",
       "  <tbody>\n",
       "    <tr>\n",
       "      <th>0</th>\n",
       "      <td>s_26</td>\n",
       "      <td>c_4</td>\n",
       "      <td>122.346736</td>\n",
       "      <td>31.833507</td>\n",
       "      <td>57</td>\n",
       "      <td>m_690</td>\n",
       "    </tr>\n",
       "    <tr>\n",
       "      <th>1</th>\n",
       "      <td>s_133</td>\n",
       "      <td>c_6</td>\n",
       "      <td>121.134362</td>\n",
       "      <td>31.197511</td>\n",
       "      <td>58</td>\n",
       "      <td>m_6587</td>\n",
       "    </tr>\n",
       "    <tr>\n",
       "      <th>2</th>\n",
       "      <td>s_251</td>\n",
       "      <td>c_38</td>\n",
       "      <td>121.000505</td>\n",
       "      <td>30.907667</td>\n",
       "      <td>34</td>\n",
       "      <td>m_5892</td>\n",
       "    </tr>\n",
       "    <tr>\n",
       "      <th>3</th>\n",
       "      <td>s_372</td>\n",
       "      <td>c_30</td>\n",
       "      <td>119.864982</td>\n",
       "      <td>26.659876</td>\n",
       "      <td>44</td>\n",
       "      <td>m_625</td>\n",
       "    </tr>\n",
       "    <tr>\n",
       "      <th>4</th>\n",
       "      <td>s_456</td>\n",
       "      <td>c_26</td>\n",
       "      <td>122.594243</td>\n",
       "      <td>31.581499</td>\n",
       "      <td>44</td>\n",
       "      <td>m_3839</td>\n",
       "    </tr>\n",
       "  </tbody>\n",
       "</table>\n",
       "</div>"
      ],
      "text/plain": [
       "  shop_id category_id   longitude   latitude  price mall_id\n",
       "0    s_26         c_4  122.346736  31.833507     57   m_690\n",
       "1   s_133         c_6  121.134362  31.197511     58  m_6587\n",
       "2   s_251        c_38  121.000505  30.907667     34  m_5892\n",
       "3   s_372        c_30  119.864982  26.659876     44   m_625\n",
       "4   s_456        c_26  122.594243  31.581499     44  m_3839"
      ]
     },
     "execution_count": 8,
     "metadata": {},
     "output_type": "execute_result"
    },
    {
     "data": {
      "text/plain": [
       "(1138015, 6)"
      ]
     },
     "execution_count": 8,
     "metadata": {},
     "output_type": "execute_result"
    },
    {
     "data": {
      "text/html": [
       "<div>\n",
       "<style>\n",
       "    .dataframe thead tr:only-child th {\n",
       "        text-align: right;\n",
       "    }\n",
       "\n",
       "    .dataframe thead th {\n",
       "        text-align: left;\n",
       "    }\n",
       "\n",
       "    .dataframe tbody tr th {\n",
       "        vertical-align: top;\n",
       "    }\n",
       "</style>\n",
       "<table border=\"1\" class=\"dataframe\">\n",
       "  <thead>\n",
       "    <tr style=\"text-align: right;\">\n",
       "      <th></th>\n",
       "      <th>user_id</th>\n",
       "      <th>shop_id</th>\n",
       "      <th>time_stamp</th>\n",
       "      <th>longitude</th>\n",
       "      <th>latitude</th>\n",
       "      <th>wifi_infos</th>\n",
       "    </tr>\n",
       "  </thead>\n",
       "  <tbody>\n",
       "    <tr>\n",
       "      <th>0</th>\n",
       "      <td>u_376</td>\n",
       "      <td>s_2871718</td>\n",
       "      <td>2017-08-06 21:20</td>\n",
       "      <td>122.308291</td>\n",
       "      <td>32.088040</td>\n",
       "      <td>b_6396480|-67|false;b_41124514|-86|false;b_287...</td>\n",
       "    </tr>\n",
       "    <tr>\n",
       "      <th>1</th>\n",
       "      <td>u_376</td>\n",
       "      <td>s_2871718</td>\n",
       "      <td>2017-08-06 21:20</td>\n",
       "      <td>122.308162</td>\n",
       "      <td>32.087970</td>\n",
       "      <td>b_6396480|-67|false;b_56328155|-73|false;b_411...</td>\n",
       "    </tr>\n",
       "    <tr>\n",
       "      <th>2</th>\n",
       "      <td>u_1041</td>\n",
       "      <td>s_181637</td>\n",
       "      <td>2017-08-02 13:10</td>\n",
       "      <td>117.365255</td>\n",
       "      <td>40.638214</td>\n",
       "      <td>b_8006367|-78|false;b_2485110|-52|false;b_3005...</td>\n",
       "    </tr>\n",
       "    <tr>\n",
       "      <th>3</th>\n",
       "      <td>u_1158</td>\n",
       "      <td>s_609470</td>\n",
       "      <td>2017-08-13 12:30</td>\n",
       "      <td>121.134451</td>\n",
       "      <td>31.197416</td>\n",
       "      <td>b_26250579|-73|false;b_26250580|-64|false;b_26...</td>\n",
       "    </tr>\n",
       "    <tr>\n",
       "      <th>4</th>\n",
       "      <td>u_1654</td>\n",
       "      <td>s_3816766</td>\n",
       "      <td>2017-08-25 19:50</td>\n",
       "      <td>122.255867</td>\n",
       "      <td>31.351320</td>\n",
       "      <td>b_39004150|-66|false;b_39004148|-58|false;b_21...</td>\n",
       "    </tr>\n",
       "  </tbody>\n",
       "</table>\n",
       "</div>"
      ],
      "text/plain": [
       "  user_id    shop_id        time_stamp   longitude   latitude  \\\n",
       "0   u_376  s_2871718  2017-08-06 21:20  122.308291  32.088040   \n",
       "1   u_376  s_2871718  2017-08-06 21:20  122.308162  32.087970   \n",
       "2  u_1041   s_181637  2017-08-02 13:10  117.365255  40.638214   \n",
       "3  u_1158   s_609470  2017-08-13 12:30  121.134451  31.197416   \n",
       "4  u_1654  s_3816766  2017-08-25 19:50  122.255867  31.351320   \n",
       "\n",
       "                                          wifi_infos  \n",
       "0  b_6396480|-67|false;b_41124514|-86|false;b_287...  \n",
       "1  b_6396480|-67|false;b_56328155|-73|false;b_411...  \n",
       "2  b_8006367|-78|false;b_2485110|-52|false;b_3005...  \n",
       "3  b_26250579|-73|false;b_26250580|-64|false;b_26...  \n",
       "4  b_39004150|-66|false;b_39004148|-58|false;b_21...  "
      ]
     },
     "execution_count": 8,
     "metadata": {},
     "output_type": "execute_result"
    },
    {
     "data": {
      "text/plain": [
       "(483931, 7)"
      ]
     },
     "execution_count": 8,
     "metadata": {},
     "output_type": "execute_result"
    },
    {
     "data": {
      "text/html": [
       "<div>\n",
       "<style>\n",
       "    .dataframe thead tr:only-child th {\n",
       "        text-align: right;\n",
       "    }\n",
       "\n",
       "    .dataframe thead th {\n",
       "        text-align: left;\n",
       "    }\n",
       "\n",
       "    .dataframe tbody tr th {\n",
       "        vertical-align: top;\n",
       "    }\n",
       "</style>\n",
       "<table border=\"1\" class=\"dataframe\">\n",
       "  <thead>\n",
       "    <tr style=\"text-align: right;\">\n",
       "      <th></th>\n",
       "      <th>row_id</th>\n",
       "      <th>user_id</th>\n",
       "      <th>mall_id</th>\n",
       "      <th>time_stamp</th>\n",
       "      <th>longitude</th>\n",
       "      <th>latitude</th>\n",
       "      <th>wifi_infos</th>\n",
       "    </tr>\n",
       "  </thead>\n",
       "  <tbody>\n",
       "    <tr>\n",
       "      <th>0</th>\n",
       "      <td>118742</td>\n",
       "      <td>u_30097142</td>\n",
       "      <td>m_3916</td>\n",
       "      <td>2017-09-05 13:00</td>\n",
       "      <td>122.141011</td>\n",
       "      <td>39.818847</td>\n",
       "      <td>b_34366982|-82|false;b_37756289|-53|false;b_41...</td>\n",
       "    </tr>\n",
       "    <tr>\n",
       "      <th>1</th>\n",
       "      <td>118743</td>\n",
       "      <td>u_30097803</td>\n",
       "      <td>m_5085</td>\n",
       "      <td>2017-09-06 13:10</td>\n",
       "      <td>118.191907</td>\n",
       "      <td>32.855858</td>\n",
       "      <td>b_36722251|-81|false;b_10537579|-75|false;b_43...</td>\n",
       "    </tr>\n",
       "    <tr>\n",
       "      <th>2</th>\n",
       "      <td>118744</td>\n",
       "      <td>u_30097889</td>\n",
       "      <td>m_4033</td>\n",
       "      <td>2017-09-06 17:40</td>\n",
       "      <td>119.192110</td>\n",
       "      <td>32.424667</td>\n",
       "      <td>b_30026291|-74|false;b_30026290|-74|false;b_36...</td>\n",
       "    </tr>\n",
       "    <tr>\n",
       "      <th>3</th>\n",
       "      <td>118745</td>\n",
       "      <td>u_30098996</td>\n",
       "      <td>m_4515</td>\n",
       "      <td>2017-09-03 12:10</td>\n",
       "      <td>120.612201</td>\n",
       "      <td>34.055249</td>\n",
       "      <td>b_33412374|-77|false;b_22084893|-86|false;b_52...</td>\n",
       "    </tr>\n",
       "    <tr>\n",
       "      <th>4</th>\n",
       "      <td>118746</td>\n",
       "      <td>u_30099170</td>\n",
       "      <td>m_7168</td>\n",
       "      <td>2017-09-02 20:40</td>\n",
       "      <td>116.861989</td>\n",
       "      <td>40.326858</td>\n",
       "      <td>b_19882704|-77|false;b_2241462|-49|false;b_585...</td>\n",
       "    </tr>\n",
       "  </tbody>\n",
       "</table>\n",
       "</div>"
      ],
      "text/plain": [
       "   row_id     user_id mall_id        time_stamp   longitude   latitude  \\\n",
       "0  118742  u_30097142  m_3916  2017-09-05 13:00  122.141011  39.818847   \n",
       "1  118743  u_30097803  m_5085  2017-09-06 13:10  118.191907  32.855858   \n",
       "2  118744  u_30097889  m_4033  2017-09-06 17:40  119.192110  32.424667   \n",
       "3  118745  u_30098996  m_4515  2017-09-03 12:10  120.612201  34.055249   \n",
       "4  118746  u_30099170  m_7168  2017-09-02 20:40  116.861989  40.326858   \n",
       "\n",
       "                                          wifi_infos  \n",
       "0  b_34366982|-82|false;b_37756289|-53|false;b_41...  \n",
       "1  b_36722251|-81|false;b_10537579|-75|false;b_43...  \n",
       "2  b_30026291|-74|false;b_30026290|-74|false;b_36...  \n",
       "3  b_33412374|-77|false;b_22084893|-86|false;b_52...  \n",
       "4  b_19882704|-77|false;b_2241462|-49|false;b_585...  "
      ]
     },
     "execution_count": 8,
     "metadata": {},
     "output_type": "execute_result"
    }
   ],
   "source": [
    "train_shop = pd.read_csv('../input/训练数据-ccf_first_round_shop_info.csv')\n",
    "train_user = pd.read_csv('../input/训练数据-ccf_first_round_user_shop_behavior.csv')\n",
    "test_shop = pd.read_csv('../input/AB榜测试集-evaluation_public.csv')\n",
    "\n",
    "train_shop.shape\n",
    "train_shop.head()\n",
    "train_user.shape\n",
    "train_user.head()\n",
    "test_shop.shape\n",
    "test_shop.head()"
   ]
  },
  {
   "cell_type": "code",
   "execution_count": 9,
   "metadata": {},
   "outputs": [
    {
     "data": {
      "text/plain": [
       "0    s_2871718\n",
       "1    s_2871718\n",
       "2     s_181637\n",
       "3     s_609470\n",
       "4    s_3816766\n",
       "Name: shop_id, dtype: object"
      ]
     },
     "execution_count": 9,
     "metadata": {},
     "output_type": "execute_result"
    }
   ],
   "source": [
    "train_mall_ids = set(train_shop.mall_id)\n",
    "test_mall_ids = set(test_shop.mall_id)\n",
    "userShop = train_user.shop_id\n",
    "userShop.head()\n",
    "\n",
    "del train_shop\n",
    "del train_user\n",
    "del test_shop"
   ]
  },
  {
   "cell_type": "code",
   "execution_count": 10,
   "metadata": {
    "collapsed": true
   },
   "outputs": [],
   "source": [
    "from tqdm import tqdm\n",
    "from sklearn.metrics import pairwise_distances\n",
    "from scipy.spatial.distance import cosine"
   ]
  },
  {
   "cell_type": "code",
   "execution_count": 4,
   "metadata": {
    "scrolled": true
   },
   "outputs": [
    {
     "data": {
      "text/plain": [
       "['m_4548',\n",
       " 'm_6803',\n",
       " 'm_1089',\n",
       " 'm_4422',\n",
       " 'm_5529',\n",
       " 'm_3528',\n",
       " 'm_3445',\n",
       " 'm_4033',\n",
       " 'm_3839',\n",
       " 'm_3313',\n",
       " 'm_2333',\n",
       " 'm_9068',\n",
       " 'm_3517',\n",
       " 'm_5810',\n",
       " 'm_9054',\n",
       " 'm_5154',\n",
       " 'm_979',\n",
       " 'm_1950',\n",
       " 'm_2224',\n",
       " 'm_5085',\n",
       " 'm_2467',\n",
       " 'm_4923',\n",
       " 'm_7374',\n",
       " 'm_626',\n",
       " 'm_7168',\n",
       " 'm_4459',\n",
       " 'm_8379',\n",
       " 'm_6337',\n",
       " 'm_2058',\n",
       " 'm_622',\n",
       " 'm_4011',\n",
       " 'm_2415',\n",
       " 'm_1621',\n",
       " 'm_2878',\n",
       " 'm_1790',\n",
       " 'm_1920',\n",
       " 'm_3005',\n",
       " 'm_3501',\n",
       " 'm_615',\n",
       " 'm_6587',\n",
       " 'm_3832',\n",
       " 'm_7601',\n",
       " 'm_3425',\n",
       " 'm_1085',\n",
       " 'm_2267',\n",
       " 'm_1021',\n",
       " 'm_5767',\n",
       " 'm_4341',\n",
       " 'm_8344',\n",
       " 'm_909',\n",
       " 'm_1175',\n",
       " 'm_625',\n",
       " 'm_2123',\n",
       " 'm_822',\n",
       " 'm_4168',\n",
       " 'm_2907',\n",
       " 'm_7800',\n",
       " 'm_2182',\n",
       " 'm_690',\n",
       " 'm_5892',\n",
       " 'm_1409',\n",
       " 'm_2715',\n",
       " 'm_1293',\n",
       " 'm_8093',\n",
       " 'm_4543',\n",
       " 'm_1375',\n",
       " 'm_4406',\n",
       " 'm_4094',\n",
       " 'm_3871',\n",
       " 'm_2270',\n",
       " 'm_3739',\n",
       " 'm_1831',\n",
       " 'm_6167',\n",
       " 'm_5352',\n",
       " 'm_1263',\n",
       " 'm_4515',\n",
       " 'm_4572',\n",
       " 'm_2578',\n",
       " 'm_5076',\n",
       " 'm_5825']"
      ]
     },
     "execution_count": 4,
     "metadata": {},
     "output_type": "execute_result"
    }
   ],
   "source": [
    "import os  \n",
    "  \n",
    "finish_mall = os.listdir('./output/train_user_neg/')\n",
    "for i in range(len(finish_mall)):\n",
    "    finish_mall[i] = finish_mall[i][:-2]\n",
    "finish_mall"
   ]
  },
  {
   "cell_type": "code",
   "execution_count": 12,
   "metadata": {
    "scrolled": true
   },
   "outputs": [
    {
     "data": {
      "text/plain": [
       "97"
      ]
     },
     "execution_count": 12,
     "metadata": {},
     "output_type": "execute_result"
    }
   ],
   "source": [
    "len(finish_mall)"
   ]
  },
  {
   "cell_type": "code",
   "execution_count": null,
   "metadata": {
    "scrolled": true
   },
   "outputs": [
    {
     "name": "stderr",
     "output_type": "stream",
     "text": [
      "\r",
      "  0%|          | 0/97 [00:00<?, ?it/s]"
     ]
    }
   ],
   "source": [
    "for mall_id in tqdm(train_mall_ids):\n",
    "    if mall_id not in finish_mall:\n",
    "        mall = mall_wifi_dateframe(mall_id, 'train_matrix')\n",
    "        temp = pd.DataFrame(1-pairwise_distances(mall.drop(['full_order'], axis=1).as_matrix(), metric=\"cosine\"))\n",
    "        full_order = mall.full_order\n",
    "        user_frame = pd.DataFrame()\n",
    "    \n",
    "        for i in range(temp.shape[0]):\n",
    "            k = 8\n",
    "            p = 0\n",
    "            q = 0\n",
    "            user = []\n",
    "            shop_list = []\n",
    "            user_raw = full_order[i]\n",
    "            shop_id = userShop[user_raw]\n",
    "            shop_list.append(shop_id)\n",
    "            user.append(user_raw)\n",
    "            index = temp.iloc[i].sort_values(ascending=False).index\n",
    "            while p < k:\n",
    "                if (userShop[full_order[index[q]]] not in shop_list) & (full_order[index[q]] != user_raw):\n",
    "                    user.append(full_order[index[q]])\n",
    "                    shop_list.append(userShop[full_order[index[q]]])\n",
    "                    q = q + 1\n",
    "                    p = p + 1\n",
    "                else:\n",
    "                    q = q + 1\n",
    "            user_frame = pd.concat([user_frame, pd.DataFrame(user)], axis=1)\n",
    "        \n",
    "        print(mall_id)\n",
    "        finish_mall.append(mall_id)\n",
    "        pickle.dump(user_frame, open('./output/train_user_neg/' + str(mall_id) + '.p', 'wb'), protocol=4)"
   ]
  }
 ],
 "metadata": {
  "kernelspec": {
   "display_name": "Python 3",
   "language": "python",
   "name": "python3"
  },
  "language_info": {
   "codemirror_mode": {
    "name": "ipython",
    "version": 3
   },
   "file_extension": ".py",
   "mimetype": "text/x-python",
   "name": "python",
   "nbconvert_exporter": "python",
   "pygments_lexer": "ipython3",
   "version": "3.5.3"
  }
 },
 "nbformat": 4,
 "nbformat_minor": 2
}
