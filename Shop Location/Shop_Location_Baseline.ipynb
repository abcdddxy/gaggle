{
 "cells": [
  {
   "cell_type": "code",
   "execution_count": 1,
   "metadata": {
    "scrolled": true
   },
   "outputs": [
    {
     "name": "stderr",
     "output_type": "stream",
     "text": [
      "/usr/local/miniconda2/envs/py35/lib/python3.5/site-packages/matplotlib/__init__.py:1405: UserWarning: \n",
      "This call to matplotlib.use() has no effect because the backend has already\n",
      "been chosen; matplotlib.use() must be called *before* pylab, matplotlib.pyplot,\n",
      "or matplotlib.backends is imported for the first time.\n",
      "\n",
      "  warnings.warn(_use_error_msg)\n"
     ]
    }
   ],
   "source": [
    "import numpy as np\n",
    "import pandas as pd\n",
    "import matplotlib.pyplot as plt\n",
    "import seaborn as sns\n",
    "import pickle\n",
    "import time\n",
    "from tqdm import tqdm\n",
    "\n",
    "%matplotlib inline\n",
    "\n",
    "#每次可以输出多个变量\n",
    "from IPython.core.interactiveshell import InteractiveShell\n",
    "InteractiveShell.ast_node_interactivity = \"all\"\n",
    "\n",
    "from pylab import rcParams\n",
    "rcParams['figure.figsize'] = 14, 6\n",
    "\n",
    "#中文字体\n",
    "import matplotlib  \n",
    "matplotlib.use('qt4agg')  \n",
    "#指定默认字体  \n",
    "matplotlib.rcParams['font.sans-serif'] = ['SimHei']   \n",
    "matplotlib.rcParams['font.family']='sans-serif'  \n",
    "#解决负号'-'显示为方块的问题  \n",
    "matplotlib.rcParams['axes.unicode_minus'] = False "
   ]
  },
  {
   "cell_type": "code",
   "execution_count": 2,
   "metadata": {
    "collapsed": true
   },
   "outputs": [],
   "source": [
    "def mall_wifi_dateframe(mall_id, path):\n",
    "    cols = pickle.load(open('../cjy/input/'+path+'/'+mall_id+'_cols.p','rb'))\n",
    "    coo = pickle.load(open('../cjy/input/'+path+'/'+mall_id+'.p','rb'))\n",
    "    coo = coo.tocoo(copy=False)\n",
    "    coo_group = pd.DataFrame({'row': coo.row, 'col': coo.col, 'data': coo.data}\n",
    "                 )[['row', 'col', 'data']].sort_values(['row', 'col']\n",
    "                 ).reset_index(drop=True).groupby('col')\n",
    "    df = pd.DataFrame(0 * np.ones((max(coo.row)+1, len(cols))), columns=cols, dtype=np.int64)\n",
    "    tmp = coo_group.apply(lambda x:x.row.values)\n",
    "    for col,rows,values in zip(tmp.index.tolist(),tmp.values,\n",
    "                                coo_group.apply(lambda x:x.data.tolist())):\n",
    "        df.iloc[rows,col]=values\n",
    "    return df"
   ]
  },
  {
   "cell_type": "code",
   "execution_count": 3,
   "metadata": {},
   "outputs": [
    {
     "data": {
      "text/plain": [
       "(1138015, 2)"
      ]
     },
     "execution_count": 3,
     "metadata": {},
     "output_type": "execute_result"
    },
    {
     "data": {
      "text/html": [
       "<div>\n",
       "<style>\n",
       "    .dataframe thead tr:only-child th {\n",
       "        text-align: right;\n",
       "    }\n",
       "\n",
       "    .dataframe thead th {\n",
       "        text-align: left;\n",
       "    }\n",
       "\n",
       "    .dataframe tbody tr th {\n",
       "        vertical-align: top;\n",
       "    }\n",
       "</style>\n",
       "<table border=\"1\" class=\"dataframe\">\n",
       "  <thead>\n",
       "    <tr style=\"text-align: right;\">\n",
       "      <th></th>\n",
       "      <th>row_id</th>\n",
       "      <th>shop_id</th>\n",
       "    </tr>\n",
       "  </thead>\n",
       "  <tbody>\n",
       "    <tr>\n",
       "      <th>0</th>\n",
       "      <td>-1</td>\n",
       "      <td>s_2871718</td>\n",
       "    </tr>\n",
       "    <tr>\n",
       "      <th>1</th>\n",
       "      <td>-1</td>\n",
       "      <td>s_2871718</td>\n",
       "    </tr>\n",
       "    <tr>\n",
       "      <th>2</th>\n",
       "      <td>-1</td>\n",
       "      <td>s_181637</td>\n",
       "    </tr>\n",
       "    <tr>\n",
       "      <th>3</th>\n",
       "      <td>-1</td>\n",
       "      <td>s_609470</td>\n",
       "    </tr>\n",
       "    <tr>\n",
       "      <th>4</th>\n",
       "      <td>-1</td>\n",
       "      <td>s_3816766</td>\n",
       "    </tr>\n",
       "  </tbody>\n",
       "</table>\n",
       "</div>"
      ],
      "text/plain": [
       "   row_id    shop_id\n",
       "0      -1  s_2871718\n",
       "1      -1  s_2871718\n",
       "2      -1   s_181637\n",
       "3      -1   s_609470\n",
       "4      -1  s_3816766"
      ]
     },
     "execution_count": 3,
     "metadata": {},
     "output_type": "execute_result"
    },
    {
     "data": {
      "text/plain": [
       "(483931, 2)"
      ]
     },
     "execution_count": 3,
     "metadata": {},
     "output_type": "execute_result"
    },
    {
     "data": {
      "text/html": [
       "<div>\n",
       "<style>\n",
       "    .dataframe thead tr:only-child th {\n",
       "        text-align: right;\n",
       "    }\n",
       "\n",
       "    .dataframe thead th {\n",
       "        text-align: left;\n",
       "    }\n",
       "\n",
       "    .dataframe tbody tr th {\n",
       "        vertical-align: top;\n",
       "    }\n",
       "</style>\n",
       "<table border=\"1\" class=\"dataframe\">\n",
       "  <thead>\n",
       "    <tr style=\"text-align: right;\">\n",
       "      <th></th>\n",
       "      <th>row_id</th>\n",
       "      <th>shop_id</th>\n",
       "    </tr>\n",
       "  </thead>\n",
       "  <tbody>\n",
       "    <tr>\n",
       "      <th>0</th>\n",
       "      <td>118742</td>\n",
       "      <td></td>\n",
       "    </tr>\n",
       "    <tr>\n",
       "      <th>1</th>\n",
       "      <td>118743</td>\n",
       "      <td></td>\n",
       "    </tr>\n",
       "    <tr>\n",
       "      <th>2</th>\n",
       "      <td>118744</td>\n",
       "      <td></td>\n",
       "    </tr>\n",
       "    <tr>\n",
       "      <th>3</th>\n",
       "      <td>118745</td>\n",
       "      <td></td>\n",
       "    </tr>\n",
       "    <tr>\n",
       "      <th>4</th>\n",
       "      <td>118746</td>\n",
       "      <td></td>\n",
       "    </tr>\n",
       "  </tbody>\n",
       "</table>\n",
       "</div>"
      ],
      "text/plain": [
       "   row_id shop_id\n",
       "0  118742        \n",
       "1  118743        \n",
       "2  118744        \n",
       "3  118745        \n",
       "4  118746        "
      ]
     },
     "execution_count": 3,
     "metadata": {},
     "output_type": "execute_result"
    }
   ],
   "source": [
    "train = pd.read_csv('../input/训练数据-ccf_first_round_user_shop_behavior.csv')\n",
    "test = pd.read_csv('../input/AB榜测试集-evaluation_public.csv')\n",
    "\n",
    "train['row_id'] = -1\n",
    "test['shop_id'] = ''\n",
    "train = train[['row_id', 'shop_id']]\n",
    "test = test[['row_id', 'shop_id']]\n",
    "\n",
    "train.shape\n",
    "train.head()\n",
    "test.shape\n",
    "test.head()"
   ]
  },
  {
   "cell_type": "code",
   "execution_count": 4,
   "metadata": {},
   "outputs": [
    {
     "data": {
      "text/plain": [
       "(1621946, 2)"
      ]
     },
     "execution_count": 4,
     "metadata": {},
     "output_type": "execute_result"
    },
    {
     "data": {
      "text/html": [
       "<div>\n",
       "<style>\n",
       "    .dataframe thead tr:only-child th {\n",
       "        text-align: right;\n",
       "    }\n",
       "\n",
       "    .dataframe thead th {\n",
       "        text-align: left;\n",
       "    }\n",
       "\n",
       "    .dataframe tbody tr th {\n",
       "        vertical-align: top;\n",
       "    }\n",
       "</style>\n",
       "<table border=\"1\" class=\"dataframe\">\n",
       "  <thead>\n",
       "    <tr style=\"text-align: right;\">\n",
       "      <th></th>\n",
       "      <th>row_id</th>\n",
       "      <th>shop_id</th>\n",
       "    </tr>\n",
       "  </thead>\n",
       "  <tbody>\n",
       "    <tr>\n",
       "      <th>0</th>\n",
       "      <td>-1</td>\n",
       "      <td>s_2871718</td>\n",
       "    </tr>\n",
       "    <tr>\n",
       "      <th>1</th>\n",
       "      <td>-1</td>\n",
       "      <td>s_2871718</td>\n",
       "    </tr>\n",
       "    <tr>\n",
       "      <th>2</th>\n",
       "      <td>-1</td>\n",
       "      <td>s_181637</td>\n",
       "    </tr>\n",
       "    <tr>\n",
       "      <th>3</th>\n",
       "      <td>-1</td>\n",
       "      <td>s_609470</td>\n",
       "    </tr>\n",
       "    <tr>\n",
       "      <th>4</th>\n",
       "      <td>-1</td>\n",
       "      <td>s_3816766</td>\n",
       "    </tr>\n",
       "  </tbody>\n",
       "</table>\n",
       "</div>"
      ],
      "text/plain": [
       "   row_id    shop_id\n",
       "0      -1  s_2871718\n",
       "1      -1  s_2871718\n",
       "2      -1   s_181637\n",
       "3      -1   s_609470\n",
       "4      -1  s_3816766"
      ]
     },
     "execution_count": 4,
     "metadata": {},
     "output_type": "execute_result"
    },
    {
     "data": {
      "text/html": [
       "<div>\n",
       "<style>\n",
       "    .dataframe thead tr:only-child th {\n",
       "        text-align: right;\n",
       "    }\n",
       "\n",
       "    .dataframe thead th {\n",
       "        text-align: left;\n",
       "    }\n",
       "\n",
       "    .dataframe tbody tr th {\n",
       "        vertical-align: top;\n",
       "    }\n",
       "</style>\n",
       "<table border=\"1\" class=\"dataframe\">\n",
       "  <thead>\n",
       "    <tr style=\"text-align: right;\">\n",
       "      <th></th>\n",
       "      <th>row_id</th>\n",
       "      <th>shop_id</th>\n",
       "    </tr>\n",
       "  </thead>\n",
       "  <tbody>\n",
       "    <tr>\n",
       "      <th>1621941</th>\n",
       "      <td>483927</td>\n",
       "      <td></td>\n",
       "    </tr>\n",
       "    <tr>\n",
       "      <th>1621942</th>\n",
       "      <td>483928</td>\n",
       "      <td></td>\n",
       "    </tr>\n",
       "    <tr>\n",
       "      <th>1621943</th>\n",
       "      <td>483929</td>\n",
       "      <td></td>\n",
       "    </tr>\n",
       "    <tr>\n",
       "      <th>1621944</th>\n",
       "      <td>483930</td>\n",
       "      <td></td>\n",
       "    </tr>\n",
       "    <tr>\n",
       "      <th>1621945</th>\n",
       "      <td>483931</td>\n",
       "      <td></td>\n",
       "    </tr>\n",
       "  </tbody>\n",
       "</table>\n",
       "</div>"
      ],
      "text/plain": [
       "         row_id shop_id\n",
       "1621941  483927        \n",
       "1621942  483928        \n",
       "1621943  483929        \n",
       "1621944  483930        \n",
       "1621945  483931        "
      ]
     },
     "execution_count": 4,
     "metadata": {},
     "output_type": "execute_result"
    }
   ],
   "source": [
    "full_data = pd.concat([train, test])\n",
    "full_data.reset_index(drop=True, inplace=True)\n",
    "\n",
    "full_data.shape\n",
    "full_data.head()\n",
    "full_data.tail()\n",
    "\n",
    "del train\n",
    "del test"
   ]
  },
  {
   "cell_type": "code",
   "execution_count": 8,
   "metadata": {
    "collapsed": true
   },
   "outputs": [],
   "source": [
    "shop = pd.read_csv('../input/训练数据-ccf_first_round_shop_info.csv')\n",
    "\n",
    "mall_ids = set(shop.mall_id)\n",
    "del shop"
   ]
  },
  {
   "cell_type": "code",
   "execution_count": 6,
   "metadata": {
    "scrolled": true
   },
   "outputs": [
    {
     "data": {
      "text/plain": [
       "['m_2123',\n",
       " 'm_1790',\n",
       " 'm_6803',\n",
       " 'm_8093',\n",
       " 'm_2267',\n",
       " 'm_5085',\n",
       " 'm_4828',\n",
       " 'm_5767',\n",
       " 'm_1377',\n",
       " 'm_2907',\n",
       " 'm_5810',\n",
       " 'm_909',\n",
       " 'm_623',\n",
       " 'm_4548',\n",
       " 'm_3832',\n",
       " 'm_3528',\n",
       " 'm_2467',\n",
       " 'm_7523',\n",
       " 'm_4422',\n",
       " 'm_5154',\n",
       " 'm_625',\n",
       " 'm_1021',\n",
       " 'm_979',\n",
       " 'm_5529',\n",
       " 'm_2715',\n",
       " 'm_4121',\n",
       " 'm_7994',\n",
       " 'm_2333',\n",
       " 'm_4168',\n",
       " 'm_4406',\n",
       " 'm_3501',\n",
       " 'm_3054',\n",
       " 'm_1089',\n",
       " 'm_4515',\n",
       " 'm_4759',\n",
       " 'm_626',\n",
       " 'm_7973',\n",
       " 'm_4572',\n",
       " 'm_2009',\n",
       " 'm_6167',\n",
       " 'm_968',\n",
       " 'm_3739',\n",
       " 'm_4033',\n",
       " 'm_4094',\n",
       " 'm_1409',\n",
       " 'm_3445',\n",
       " 'm_1293',\n",
       " 'm_2578',\n",
       " 'm_3916',\n",
       " 'm_5352',\n",
       " 'm_8344',\n",
       " 'm_3517',\n",
       " 'm_9068',\n",
       " 'm_3871',\n",
       " 'm_615',\n",
       " 'm_1375',\n",
       " 'm_1920',\n",
       " 'm_3019',\n",
       " 'm_6587',\n",
       " 'm_3313',\n",
       " 'm_1621',\n",
       " 'm_4341',\n",
       " 'm_4187',\n",
       " 'm_4011',\n",
       " 'm_7168',\n",
       " 'm_1950',\n",
       " 'm_5825',\n",
       " 'm_2058',\n",
       " 'm_822',\n",
       " 'm_622',\n",
       " 'm_2415',\n",
       " 'm_2182',\n",
       " 'm_4459',\n",
       " 'm_690',\n",
       " 'm_1085',\n",
       " 'm_1263',\n",
       " 'm_7601',\n",
       " 'm_5892',\n",
       " 'm_5076',\n",
       " 'm_4543',\n",
       " 'm_4495',\n",
       " 'm_2270',\n",
       " 'm_9054',\n",
       " 'm_4079',\n",
       " 'm_2224',\n",
       " 'm_1831',\n",
       " 'm_2878',\n",
       " 'm_1175',\n",
       " 'm_3112',\n",
       " 'm_6337',\n",
       " 'm_3425',\n",
       " 'm_8379',\n",
       " 'm_3839',\n",
       " 'm_7374',\n",
       " 'm_4923',\n",
       " 'm_7800',\n",
       " 'm_3005']"
      ]
     },
     "execution_count": 6,
     "metadata": {},
     "output_type": "execute_result"
    }
   ],
   "source": [
    "import os  \n",
    "  \n",
    "finish_mall = os.listdir('./model/xgb10/')\n",
    "# finish_mall.remove('.ipynb_checkpoints')\n",
    "# finish_mall.remove('submit')\n",
    "# finish_mall.remove('result')\n",
    "for i in range(len(finish_mall)):\n",
    "    finish_mall[i] = finish_mall[i][:-2]\n",
    "finish_mall"
   ]
  },
  {
   "cell_type": "code",
   "execution_count": 7,
   "metadata": {
    "scrolled": false
   },
   "outputs": [
    {
     "data": {
      "text/plain": [
       "97"
      ]
     },
     "execution_count": 7,
     "metadata": {},
     "output_type": "execute_result"
    }
   ],
   "source": [
    "len(finish_mall)"
   ]
  },
  {
   "cell_type": "code",
   "execution_count": 9,
   "metadata": {},
   "outputs": [
    {
     "name": "stderr",
     "output_type": "stream",
     "text": [
      "100%|██████████| 97/97 [15:58<00:00,  9.88s/it]\n"
     ]
    }
   ],
   "source": [
    "for mall_id in tqdm(mall_ids):\n",
    "    if mall_id in finish_mall:\n",
    "        y_pred_proba = pickle.load(open('./model/xgb10/' + str(mall_id) + '.p', 'rb'))\n",
    "        x_test = pickle.load(open('./output/test_user_neg10/' + str(mall_id) + '.p', 'rb'))\n",
    "\n",
    "        y_max = []\n",
    "        for i in range(y_pred_proba.shape[0]):\n",
    "            if i % 9 == 0:\n",
    "                y_max.append(i)\n",
    "            else:\n",
    "                y_max.append(0)\n",
    "\n",
    "        y_pred = {'test_full_order' : [],\n",
    "                 'train_full_order' : []}\n",
    "        for i in range(len(y_max)):\n",
    "            if i%9 == 0:\n",
    "                y_pred['test_full_order'].append(x_test.iloc[0, int(i/9)].copy())\n",
    "                y_pred['train_full_order'].append(x_test.iloc[y_max[i] % 9 + 1, int(i/9)].copy())\n",
    "        \n",
    "        pickle.dump(pd.DataFrame(y_pred), open('./model/temp/' + str(mall_id) + '.p', 'wb'), protocol=4)"
   ]
  },
  {
   "cell_type": "code",
   "execution_count": 10,
   "metadata": {},
   "outputs": [
    {
     "name": "stderr",
     "output_type": "stream",
     "text": [
      "100%|██████████| 97/97 [10:32<00:00,  6.53s/it]\n"
     ]
    }
   ],
   "source": [
    "result = {'row_id' : [],\n",
    "          'shop_id' : []}\n",
    "\n",
    "for mall_id in tqdm(mall_ids):\n",
    "    if mall_id in finish_mall:\n",
    "        m = pickle.load(open('./model/temp/' + mall_id + '.p', 'rb'))\n",
    "        m = m.as_matrix()\n",
    "        for i in range(len(m)):\n",
    "            result['row_id'].append(full_data.iloc[m[i, 0]].row_id)\n",
    "            result['shop_id'].append(full_data.iloc[m[i, 1]].shop_id)\n",
    "        \n",
    "# pickle.dump(pd.DataFrame(result), open('./model/result/submit_xgb_onehot.csv', 'wb'), protocol=4)"
   ]
  },
  {
   "cell_type": "code",
   "execution_count": 11,
   "metadata": {
    "scrolled": false
   },
   "outputs": [
    {
     "data": {
      "text/plain": [
       "(483931, 2)"
      ]
     },
     "execution_count": 11,
     "metadata": {},
     "output_type": "execute_result"
    },
    {
     "data": {
      "text/plain": [
       "483931"
      ]
     },
     "execution_count": 11,
     "metadata": {},
     "output_type": "execute_result"
    },
    {
     "data": {
      "text/html": [
       "<div>\n",
       "<style>\n",
       "    .dataframe thead tr:only-child th {\n",
       "        text-align: right;\n",
       "    }\n",
       "\n",
       "    .dataframe thead th {\n",
       "        text-align: left;\n",
       "    }\n",
       "\n",
       "    .dataframe tbody tr th {\n",
       "        vertical-align: top;\n",
       "    }\n",
       "</style>\n",
       "<table border=\"1\" class=\"dataframe\">\n",
       "  <thead>\n",
       "    <tr style=\"text-align: right;\">\n",
       "      <th></th>\n",
       "      <th>row_id</th>\n",
       "      <th>shop_id</th>\n",
       "    </tr>\n",
       "  </thead>\n",
       "  <tbody>\n",
       "    <tr>\n",
       "      <th>118833</th>\n",
       "      <td>118833</td>\n",
       "      <td>s_512700</td>\n",
       "    </tr>\n",
       "    <tr>\n",
       "      <th>118851</th>\n",
       "      <td>118851</td>\n",
       "      <td>s_506597</td>\n",
       "    </tr>\n",
       "    <tr>\n",
       "      <th>118916</th>\n",
       "      <td>118916</td>\n",
       "      <td>s_3726779</td>\n",
       "    </tr>\n",
       "    <tr>\n",
       "      <th>118989</th>\n",
       "      <td>118989</td>\n",
       "      <td>s_525779</td>\n",
       "    </tr>\n",
       "    <tr>\n",
       "      <th>118990</th>\n",
       "      <td>118990</td>\n",
       "      <td>s_2939231</td>\n",
       "    </tr>\n",
       "  </tbody>\n",
       "</table>\n",
       "</div>"
      ],
      "text/plain": [
       "        row_id    shop_id\n",
       "118833  118833   s_512700\n",
       "118851  118851   s_506597\n",
       "118916  118916  s_3726779\n",
       "118989  118989   s_525779\n",
       "118990  118990  s_2939231"
      ]
     },
     "execution_count": 11,
     "metadata": {},
     "output_type": "execute_result"
    }
   ],
   "source": [
    "result = pd.DataFrame(result)\n",
    "result.index = result.row_id.tolist()\n",
    "result.columns = ['row_id', 'shop_id']\n",
    "\n",
    "result.shape\n",
    "len(set(result.row_id))\n",
    "result.head()"
   ]
  },
  {
   "cell_type": "code",
   "execution_count": 12,
   "metadata": {
    "collapsed": true
   },
   "outputs": [],
   "source": [
    "result.to_csv('./model/submit/CosNN.csv', index=False)"
   ]
  }
 ],
 "metadata": {
  "kernelspec": {
   "display_name": "Python 3",
   "language": "python",
   "name": "python3"
  },
  "language_info": {
   "codemirror_mode": {
    "name": "ipython",
    "version": 3
   },
   "file_extension": ".py",
   "mimetype": "text/x-python",
   "name": "python",
   "nbconvert_exporter": "python",
   "pygments_lexer": "ipython3",
   "version": "3.5.3"
  }
 },
 "nbformat": 4,
 "nbformat_minor": 2
}
