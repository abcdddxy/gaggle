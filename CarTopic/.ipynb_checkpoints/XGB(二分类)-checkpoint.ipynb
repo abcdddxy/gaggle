{
 "cells": [
  {
   "cell_type": "code",
   "execution_count": 1,
   "metadata": {},
   "outputs": [],
   "source": [
    "import numpy as np\n",
    "import pandas as pd\n",
    "pd.set_option('display.max_columns', None)\n",
    "import matplotlib.pyplot as plt\n",
    "# import seaborn as sns\n",
    "import pickle\n",
    "import time\n",
    "import gc\n",
    "from tqdm import tqdm, tqdm_notebook\n",
    "\n",
    "%matplotlib inline\n",
    "\n",
    "#每次可以输出多个变量\n",
    "from IPython.core.interactiveshell import InteractiveShell\n",
    "InteractiveShell.ast_node_interactivity = \"all\"\n",
    "\n",
    "from pylab import rcParams\n",
    "rcParams['figure.figsize'] = 14, 6\n",
    "\n",
    "import warnings\n",
    "warnings.filterwarnings(\"ignore\")\n",
    "\n",
    "#中文字体\n",
    "import matplotlib\n",
    "matplotlib.use('qt4agg')\n",
    "#指定默认字体\n",
    "matplotlib.rcParams['font.sans-serif'] = ['SimHei']\n",
    "matplotlib.rcParams['font.family'] = 'sans-serif'\n",
    "#解决负号'-'显示为方块的问题\n",
    "matplotlib.rcParams['axes.unicode_minus'] = False"
   ]
  },
  {
   "cell_type": "code",
   "execution_count": 11,
   "metadata": {},
   "outputs": [],
   "source": [
    "import os\n",
    "import gensim"
   ]
  },
  {
   "cell_type": "code",
   "execution_count": 29,
   "metadata": {},
   "outputs": [],
   "source": [
    "DF_NUM = 12311"
   ]
  },
  {
   "cell_type": "code",
   "execution_count": 67,
   "metadata": {
    "scrolled": false
   },
   "outputs": [
    {
     "name": "stdout",
     "output_type": "stream",
     "text": [
      "finish dict(full).txt\n",
      "finish dict(noNumLetter).txt\n",
      "finish dict(noStop).txt\n",
      "finish dict(noStopnoNumLetter).txt\n"
     ]
    }
   ],
   "source": [
    "models = []\n",
    "for idx, file in enumerate(os.listdir('./feature/')):\n",
    "    models.append(\n",
    "        gensim.models.KeyedVectors.load_word2vec_format(\n",
    "            './w2v/%s.model' % (file[:-4]), binary=False))\n",
    "    print('finish', file)"
   ]
  },
  {
   "cell_type": "code",
   "execution_count": 68,
   "metadata": {
    "scrolled": true
   },
   "outputs": [
    {
     "name": "stdout",
     "output_type": "stream",
     "text": [
      "finish dict(full).txt\n",
      "finish dict(noNumLetter).txt\n",
      "finish dict(noStop).txt\n",
      "finish dict(noStopnoNumLetter).txt\n"
     ]
    }
   ],
   "source": [
    "words = []\n",
    "for file in os.listdir('./feature/'):\n",
    "    tmp = []\n",
    "    with open('./feature/' + file, 'r', encoding='utf-8') as f:\n",
    "        for line in f:\n",
    "            tmp.append(line[:-1].split(' '))\n",
    "    words.append(tmp)\n",
    "    print('finish', file)"
   ]
  },
  {
   "cell_type": "code",
   "execution_count": 96,
   "metadata": {
    "scrolled": true
   },
   "outputs": [
    {
     "data": {
      "application/vnd.jupyter.widget-view+json": {
       "model_id": "ae65dba879004aba95db3b4e756b0517",
       "version_major": 2,
       "version_minor": 0
      },
      "text/plain": [
       "A Jupyter Widget"
      ]
     },
     "metadata": {},
     "output_type": "display_data"
    },
    {
     "name": "stdout",
     "output_type": "stream",
     "text": [
      "\n"
     ]
    }
   ],
   "source": [
    "w2v = []\n",
    "for idx, sents in tqdm_notebook(enumerate(words)):\n",
    "    tmps = []\n",
    "    for sent in sents:\n",
    "        tmp = [0] * 32\n",
    "        for word in sent:\n",
    "            tmp += models[idx][word]\n",
    "        tmp = list(np.array(tmp) / len(sents))\n",
    "        tmps.append(tmp)\n",
    "    w2v.append(tmps)"
   ]
  },
  {
   "cell_type": "markdown",
   "metadata": {},
   "source": [
    "## XGB"
   ]
  },
  {
   "cell_type": "code",
   "execution_count": 114,
   "metadata": {},
   "outputs": [],
   "source": [
    "import xgboost as xgb"
   ]
  },
  {
   "cell_type": "code",
   "execution_count": 72,
   "metadata": {},
   "outputs": [
    {
     "data": {
      "text/plain": [
       "(9947, 5)"
      ]
     },
     "execution_count": 72,
     "metadata": {},
     "output_type": "execute_result"
    },
    {
     "data": {
      "text/html": [
       "<div>\n",
       "<style>\n",
       "    .dataframe thead tr:only-child th {\n",
       "        text-align: right;\n",
       "    }\n",
       "\n",
       "    .dataframe thead th {\n",
       "        text-align: left;\n",
       "    }\n",
       "\n",
       "    .dataframe tbody tr th {\n",
       "        vertical-align: top;\n",
       "    }\n",
       "</style>\n",
       "<table border=\"1\" class=\"dataframe\">\n",
       "  <thead>\n",
       "    <tr style=\"text-align: right;\">\n",
       "      <th></th>\n",
       "      <th>content_id</th>\n",
       "      <th>content</th>\n",
       "      <th>subject</th>\n",
       "      <th>sentiment_value</th>\n",
       "      <th>sentiment_word</th>\n",
       "    </tr>\n",
       "  </thead>\n",
       "  <tbody>\n",
       "    <tr>\n",
       "      <th>0</th>\n",
       "      <td>vUXizsqexyZVRdFH</td>\n",
       "      <td>因为森林人即将换代，这套系统没必要装在一款即将换代的车型上，因为肯定会影响价格。</td>\n",
       "      <td>价格</td>\n",
       "      <td>0</td>\n",
       "      <td>影响</td>\n",
       "    </tr>\n",
       "    <tr>\n",
       "      <th>1</th>\n",
       "      <td>4QroPd9hNfnCHVt7</td>\n",
       "      <td>四驱价格貌似挺高的，高的可以看齐XC60了，看实车前脸有点违和感。不过大众的车应该不会差。</td>\n",
       "      <td>价格</td>\n",
       "      <td>-1</td>\n",
       "      <td>高</td>\n",
       "    </tr>\n",
       "    <tr>\n",
       "      <th>2</th>\n",
       "      <td>QmqJ2AvM5GplaRyz</td>\n",
       "      <td>斯柯达要说质量，似乎比大众要好一点，价格也低一些，用料完全一样。我听说过野帝，但没听说过你说...</td>\n",
       "      <td>价格</td>\n",
       "      <td>1</td>\n",
       "      <td>低</td>\n",
       "    </tr>\n",
       "    <tr>\n",
       "      <th>3</th>\n",
       "      <td>KMT1gFJiU4NWrVDn</td>\n",
       "      <td>这玩意都是给有钱任性又不懂车的土豪用的，这价格换一次我妹夫EP020可以换三锅了</td>\n",
       "      <td>价格</td>\n",
       "      <td>-1</td>\n",
       "      <td>有钱任性</td>\n",
       "    </tr>\n",
       "    <tr>\n",
       "      <th>4</th>\n",
       "      <td>nVIlGd5yMmc37t1o</td>\n",
       "      <td>17价格忒高，估计也就是14-15左右。</td>\n",
       "      <td>价格</td>\n",
       "      <td>-1</td>\n",
       "      <td>高</td>\n",
       "    </tr>\n",
       "  </tbody>\n",
       "</table>\n",
       "</div>"
      ],
      "text/plain": [
       "         content_id                                            content  \\\n",
       "0  vUXizsqexyZVRdFH           因为森林人即将换代，这套系统没必要装在一款即将换代的车型上，因为肯定会影响价格。   \n",
       "1  4QroPd9hNfnCHVt7      四驱价格貌似挺高的，高的可以看齐XC60了，看实车前脸有点违和感。不过大众的车应该不会差。   \n",
       "2  QmqJ2AvM5GplaRyz  斯柯达要说质量，似乎比大众要好一点，价格也低一些，用料完全一样。我听说过野帝，但没听说过你说...   \n",
       "3  KMT1gFJiU4NWrVDn           这玩意都是给有钱任性又不懂车的土豪用的，这价格换一次我妹夫EP020可以换三锅了   \n",
       "4  nVIlGd5yMmc37t1o                            17价格忒高，估计也就是14-15左右。      \n",
       "\n",
       "  subject  sentiment_value sentiment_word  \n",
       "0      价格                0             影响  \n",
       "1      价格               -1              高  \n",
       "2      价格                1              低  \n",
       "3      价格               -1           有钱任性  \n",
       "4      价格               -1              高  "
      ]
     },
     "execution_count": 72,
     "metadata": {},
     "output_type": "execute_result"
    },
    {
     "data": {
      "text/plain": [
       "(2364, 2)"
      ]
     },
     "execution_count": 72,
     "metadata": {},
     "output_type": "execute_result"
    },
    {
     "data": {
      "text/html": [
       "<div>\n",
       "<style>\n",
       "    .dataframe thead tr:only-child th {\n",
       "        text-align: right;\n",
       "    }\n",
       "\n",
       "    .dataframe thead th {\n",
       "        text-align: left;\n",
       "    }\n",
       "\n",
       "    .dataframe tbody tr th {\n",
       "        vertical-align: top;\n",
       "    }\n",
       "</style>\n",
       "<table border=\"1\" class=\"dataframe\">\n",
       "  <thead>\n",
       "    <tr style=\"text-align: right;\">\n",
       "      <th></th>\n",
       "      <th>content_id</th>\n",
       "      <th>content</th>\n",
       "    </tr>\n",
       "  </thead>\n",
       "  <tbody>\n",
       "    <tr>\n",
       "      <th>0</th>\n",
       "      <td>XuPwKCnA2fqNh5vm</td>\n",
       "      <td>欧蓝德，价格便宜，森林人太贵啦！</td>\n",
       "    </tr>\n",
       "    <tr>\n",
       "      <th>1</th>\n",
       "      <td>2jNbDn85goX3IuPE</td>\n",
       "      <td>楼主什么时候提的车，南昌优惠多少啊</td>\n",
       "    </tr>\n",
       "    <tr>\n",
       "      <th>2</th>\n",
       "      <td>hLgEADQ8sUnvGFK9</td>\n",
       "      <td>吉林，2.5优惠20000，送三年九次保养，贴膜</td>\n",
       "    </tr>\n",
       "    <tr>\n",
       "      <th>3</th>\n",
       "      <td>nZmM7LQsfr03wUaz</td>\n",
       "      <td>便宜2万的豪华特装，实用配制提升，优惠还给力，确实划算。</td>\n",
       "    </tr>\n",
       "    <tr>\n",
       "      <th>4</th>\n",
       "      <td>pwd8MnrthDqLZafe</td>\n",
       "      <td>如果实在想买就等车展期间，优惠2万，我24.98万入的2.5豪</td>\n",
       "    </tr>\n",
       "  </tbody>\n",
       "</table>\n",
       "</div>"
      ],
      "text/plain": [
       "         content_id                          content\n",
       "0  XuPwKCnA2fqNh5vm             欧蓝德，价格便宜，森林人太贵啦！    \n",
       "1  2jNbDn85goX3IuPE                楼主什么时候提的车，南昌优惠多少啊\n",
       "2  hLgEADQ8sUnvGFK9         吉林，2.5优惠20000，送三年九次保养，贴膜\n",
       "3  nZmM7LQsfr03wUaz     便宜2万的豪华特装，实用配制提升，优惠还给力，确实划算。\n",
       "4  pwd8MnrthDqLZafe  如果实在想买就等车展期间，优惠2万，我24.98万入的2.5豪"
      ]
     },
     "execution_count": 72,
     "metadata": {},
     "output_type": "execute_result"
    }
   ],
   "source": [
    "train = pd.read_csv('data/train.csv')\n",
    "test = pd.read_csv('data/test_public.csv')\n",
    "\n",
    "train.shape\n",
    "train.head()\n",
    "test.shape\n",
    "test.head()"
   ]
  },
  {
   "cell_type": "code",
   "execution_count": 79,
   "metadata": {},
   "outputs": [],
   "source": [
    "sub_dict = dict(\n",
    "    zip(list(train.subject.unique()), range(len(train.subject.unique()))))\n",
    "sentiment_dict = dict(\n",
    "    zip(\n",
    "        list(train.sentiment_value.unique()),\n",
    "        range(len(train.sentiment_value.unique()))))\n",
    "\n",
    "train.subject = train.subject.map(sub_dict)\n",
    "train.sentiment_value = train.sentiment_value.map(sentiment_dict)"
   ]
  },
  {
   "cell_type": "code",
   "execution_count": 106,
   "metadata": {},
   "outputs": [
    {
     "data": {
      "text/plain": [
       "(7957, 5)"
      ]
     },
     "execution_count": 106,
     "metadata": {},
     "output_type": "execute_result"
    },
    {
     "data": {
      "text/plain": [
       "(1990, 5)"
      ]
     },
     "execution_count": 106,
     "metadata": {},
     "output_type": "execute_result"
    }
   ],
   "source": [
    "from sklearn.cross_validation import train_test_split\n",
    "\n",
    "target = ['subject', 'sentiment_value']\n",
    "train_X, val_X, train_y, val_y = train_test_split(\n",
    "    train, train[target], test_size=0.2, random_state=2018)\n",
    "\n",
    "train_X.shape\n",
    "val_X.shape"
   ]
  },
  {
   "cell_type": "code",
   "execution_count": 180,
   "metadata": {},
   "outputs": [],
   "source": [
    "idx = 3"
   ]
  },
  {
   "cell_type": "code",
   "execution_count": 181,
   "metadata": {},
   "outputs": [],
   "source": [
    "train_matrix = np.array(w2v[idx])[list(train_X.index)]\n",
    "val_matrix = np.array(w2v[idx])[list(val_X.index)]\n",
    "test_matrix = np.array(w2v[idx][-test.shape[0]:])"
   ]
  },
  {
   "cell_type": "code",
   "execution_count": 256,
   "metadata": {},
   "outputs": [
    {
     "name": "stdout",
     "output_type": "stream",
     "text": [
      "[0]\ttrain-merror:0.480709\tval-merror:0.575377\n",
      "Multiple eval metrics have been passed: 'val-merror' will be used for early stopping.\n",
      "\n",
      "Will train until val-merror hasn't improved in 50 rounds.\n",
      "[100]\ttrain-merror:0.192409\tval-merror:0.493467\n",
      "Stopping. Best iteration:\n",
      "[81]\ttrain-merror:0.212643\tval-merror:0.486935\n",
      "\n"
     ]
    }
   ],
   "source": [
    "# subject\n",
    "params = {\n",
    "    'objective': 'multi:softmax',\n",
    "    'eta': 0.1,\n",
    "#     'colsample_bytree': 0.3,\n",
    "#     'subsample':0.9,\n",
    "#     'min_child_weight': 17,\n",
    "    'max_depth': 5,\n",
    "    'num_class': 10,\n",
    "    'gamma': 0.1,\n",
    "    'seed': 2018,\n",
    "    'missing': -1,\n",
    "    'n_thread': 8\n",
    "}\n",
    "\n",
    "dtrain = xgb.DMatrix(train_matrix, label=train_y.iloc[:, 0])\n",
    "dval = xgb.DMatrix(val_matrix, label=val_y.iloc[:, 0])\n",
    "model = xgb.train(\n",
    "    params,\n",
    "    dtrain,\n",
    "    num_boost_round=20000,\n",
    "    early_stopping_rounds=50,\n",
    "    evals=[(dtrain, 'train'), (dval, 'val')],\n",
    "    verbose_eval=100)\n",
    "\n",
    "num_round = int(model.best_iteration * 1.1)\n",
    "dtrain = xgb.DMatrix(np.concatenate([train_matrix, val_matrix], axis=0), label=pd.concat([train_y, val_y], axis=0).iloc[:, 0])\n",
    "dtest = xgb.DMatrix(test_matrix)\n",
    "bst = xgb.train(params, dtrain, num_round)\n",
    "\n",
    "pred = bst.predict(dtest)\n",
    "\n",
    "test['subject'] = pred\n",
    "test['subject'] = test['subject'].astype(int)"
   ]
  },
  {
   "cell_type": "code",
   "execution_count": 257,
   "metadata": {},
   "outputs": [
    {
     "data": {
      "text/html": [
       "<div>\n",
       "<style>\n",
       "    .dataframe thead tr:only-child th {\n",
       "        text-align: right;\n",
       "    }\n",
       "\n",
       "    .dataframe thead th {\n",
       "        text-align: left;\n",
       "    }\n",
       "\n",
       "    .dataframe tbody tr th {\n",
       "        vertical-align: top;\n",
       "    }\n",
       "</style>\n",
       "<table border=\"1\" class=\"dataframe\">\n",
       "  <thead>\n",
       "    <tr style=\"text-align: right;\">\n",
       "      <th></th>\n",
       "      <th>content_id</th>\n",
       "      <th>content</th>\n",
       "      <th>subject</th>\n",
       "      <th>sentiment_value</th>\n",
       "      <th>sentiment_word</th>\n",
       "    </tr>\n",
       "  </thead>\n",
       "  <tbody>\n",
       "    <tr>\n",
       "      <th>2</th>\n",
       "      <td>QmqJ2AvM5GplaRyz</td>\n",
       "      <td>斯柯达要说质量，似乎比大众要好一点，价格也低一些，用料完全一样。我听说过野帝，但没听说过你说...</td>\n",
       "      <td>0</td>\n",
       "      <td>1</td>\n",
       "      <td>低</td>\n",
       "    </tr>\n",
       "    <tr>\n",
       "      <th>4</th>\n",
       "      <td>nVIlGd5yMmc37t1o</td>\n",
       "      <td>17价格忒高，估计也就是14-15左右。</td>\n",
       "      <td>0</td>\n",
       "      <td>0</td>\n",
       "      <td>高</td>\n",
       "    </tr>\n",
       "    <tr>\n",
       "      <th>5</th>\n",
       "      <td>TVciHBPL5XmUxMEd</td>\n",
       "      <td>我开始就是荣放2.5  森林人2.5二选一    荣放主要是底盘质感不行   太硬  其次是...</td>\n",
       "      <td>0</td>\n",
       "      <td>1</td>\n",
       "      <td>便宜</td>\n",
       "    </tr>\n",
       "    <tr>\n",
       "      <th>6</th>\n",
       "      <td>4lb9TsO5rjqUy1Bu</td>\n",
       "      <td>唉，这货的价格死硬死硬的，低配版优惠1万据说已经罕有了。</td>\n",
       "      <td>0</td>\n",
       "      <td>0</td>\n",
       "      <td>死硬</td>\n",
       "    </tr>\n",
       "    <tr>\n",
       "      <th>8</th>\n",
       "      <td>hoWrMnGTUvdsK3Dm</td>\n",
       "      <td>听过，价格太贵，但一直念念不忘</td>\n",
       "      <td>0</td>\n",
       "      <td>0</td>\n",
       "      <td>贵</td>\n",
       "    </tr>\n",
       "  </tbody>\n",
       "</table>\n",
       "</div>"
      ],
      "text/plain": [
       "         content_id                                            content  \\\n",
       "2  QmqJ2AvM5GplaRyz  斯柯达要说质量，似乎比大众要好一点，价格也低一些，用料完全一样。我听说过野帝，但没听说过你说...   \n",
       "4  nVIlGd5yMmc37t1o                            17价格忒高，估计也就是14-15左右。      \n",
       "5  TVciHBPL5XmUxMEd  我开始就是荣放2.5  森林人2.5二选一    荣放主要是底盘质感不行   太硬  其次是...   \n",
       "6  4lb9TsO5rjqUy1Bu                   唉，这货的价格死硬死硬的，低配版优惠1万据说已经罕有了。       \n",
       "8  hoWrMnGTUvdsK3Dm                                听过，价格太贵，但一直念念不忘       \n",
       "\n",
       "   subject  sentiment_value sentiment_word  \n",
       "2        0                1              低  \n",
       "4        0                0              高  \n",
       "5        0                1             便宜  \n",
       "6        0                0             死硬  \n",
       "8        0                0              贵  "
      ]
     },
     "execution_count": 257,
     "metadata": {},
     "output_type": "execute_result"
    }
   ],
   "source": [
    "train_X2 = train.iloc[list(train[train.sentiment_value != 0].index & list(train_X.index))].copy()\n",
    "val_X2 = train.iloc[list(train[train.sentiment_value != 0].index & list(val_X.index))].copy()\n",
    "\n",
    "train_X2['sentiment_value'][train_X2.sentiment_value == 1] = 0\n",
    "train_X2['sentiment_value'][train_X2.sentiment_value == 2] = 1\n",
    "val_X2['sentiment_value'][val_X2.sentiment_value == 1] = 0\n",
    "val_X2['sentiment_value'][val_X2.sentiment_value == 2] = 1\n",
    "\n",
    "train_X2.head()"
   ]
  },
  {
   "cell_type": "code",
   "execution_count": 288,
   "metadata": {},
   "outputs": [
    {
     "name": "stdout",
     "output_type": "stream",
     "text": [
      "[0]\ttrain-error:0.295082\tval-error:0.384615\n",
      "Multiple eval metrics have been passed: 'val-error' will be used for early stopping.\n",
      "\n",
      "Will train until val-error hasn't improved in 50 rounds.\n",
      "[100]\ttrain-error:0.060999\tval-error:0.280543\n",
      "Stopping. Best iteration:\n",
      "[89]\ttrain-error:0.069386\tval-error:0.271493\n",
      "\n"
     ]
    }
   ],
   "source": [
    "# sentiment_value\n",
    "params = {\n",
    "    'objective': 'binary:logistic',\n",
    "    'eta': 0.1,\n",
    "#     'colsample_bytree': 0.3,\n",
    "#     'subsample':0.9,\n",
    "#     'min_child_weight': 17,\n",
    "    'max_depth': 5,\n",
    "    'gamma': 0.1,\n",
    "    'seed': 2018,\n",
    "    'missing': -1,\n",
    "    'n_thread': 8\n",
    "}\n",
    "\n",
    "\n",
    "dtrain = xgb.DMatrix(np.array(w2v[idx])[list(train_X2.index)], label=train_X2.sentiment_value)\n",
    "dval = xgb.DMatrix(np.array(w2v[idx])[list(val_X2.index)], label=val_X2.sentiment_value)\n",
    "model = xgb.train(\n",
    "    params,\n",
    "    dtrain,\n",
    "    num_boost_round=20000,\n",
    "    early_stopping_rounds=50,\n",
    "    evals=[(dtrain, 'train'), (dval, 'val')],\n",
    "    verbose_eval=100)\n",
    "\n",
    "num_round = int(model.best_iteration * 1.1)\n",
    "dtrain = xgb.DMatrix(np.concatenate([np.array(w2v[idx])[list(train_X2.index)], np.array(w2v[idx])[list(val_X2.index)]], axis=0),\n",
    "                     label=pd.concat([train_X2, val_X2], axis=0).sentiment_value)\n",
    "dtest = xgb.DMatrix(test_matrix)\n",
    "bst = xgb.train(params, dtrain, num_round)\n",
    "\n",
    "pred = bst.predict(dtest)"
   ]
  },
  {
   "cell_type": "code",
   "execution_count": 282,
   "metadata": {},
   "outputs": [],
   "source": [
    "# tmp_val = pd.DataFrame()\n",
    "# tmp_val['y'] = val_X2.sentiment_value\n",
    "# tmp_val['pred'] = model.predict(dval)\n",
    "\n",
    "# # tmp_val.groupby(['y'], as_index=False)['y'].agg({'y_num':'count'})\n",
    "# tmp_val = tmp_val.sort_values(by=['pred'], ascending=False)\n",
    "\n",
    "# tmp_val.shape\n",
    "\n",
    "# tmp_val.iloc[201:241,:]\n",
    "# tmp_val.iloc[422:462,:]"
   ]
  },
  {
   "cell_type": "code",
   "execution_count": 304,
   "metadata": {},
   "outputs": [
    {
     "data": {
      "text/plain": [
       "2364"
      ]
     },
     "execution_count": 304,
     "metadata": {},
     "output_type": "execute_result"
    },
    {
     "data": {
      "text/plain": [
       "1430"
      ]
     },
     "execution_count": 304,
     "metadata": {},
     "output_type": "execute_result"
    },
    {
     "data": {
      "text/plain": [
       "391"
      ]
     },
     "execution_count": 304,
     "metadata": {},
     "output_type": "execute_result"
    },
    {
     "data": {
      "text/plain": [
       "376"
      ]
     },
     "execution_count": 304,
     "metadata": {},
     "output_type": "execute_result"
    }
   ],
   "source": [
    "# 1:1:4\n",
    "# 2364*1/3=788, 2364*2/3=1576\n",
    "len(pred)\n",
    "len(pred[(pred >= 0.25) & (pred <= 0.7)])\n",
    "\n",
    "len(pred[pred < 0.19])\n",
    "len(pred[pred > 0.68])"
   ]
  },
  {
   "cell_type": "code",
   "execution_count": 284,
   "metadata": {},
   "outputs": [],
   "source": [
    "pred[pred < 0.3] = -1\n",
    "pred[(pred >= 0.3) & (pred <= 0.7)] = 0\n",
    "pred[pred > 0.7] = 1\n",
    "\n",
    "test['sentiment_value'] = pred\n",
    "test['sentiment_value'] = test['sentiment_value'].astype(int)"
   ]
  },
  {
   "cell_type": "code",
   "execution_count": 287,
   "metadata": {},
   "outputs": [
    {
     "data": {
      "text/plain": [
       " 0.0    1277\n",
       "-1.0     769\n",
       " 1.0     318\n",
       "dtype: int64"
      ]
     },
     "execution_count": 287,
     "metadata": {},
     "output_type": "execute_result"
    }
   ],
   "source": [
    "pd.value_counts(pred, sort=False)"
   ]
  },
  {
   "cell_type": "code",
   "execution_count": 277,
   "metadata": {},
   "outputs": [],
   "source": [
    "sub_dict_rev = dict(zip(sub_dict.values(), sub_dict.keys()))\n",
    "sentiment_dict_rev = dict(zip(sentiment_dict.values(), sentiment_dict.keys()))\n",
    "\n",
    "test['subject'] = test['subject'].map(sub_dict_rev)\n",
    "# test['sentiment_value'] = test['sentiment_value'].map(sentiment_dict_rev)\n",
    "test['sentiment_word'] = ''"
   ]
  },
  {
   "cell_type": "code",
   "execution_count": 278,
   "metadata": {
    "scrolled": false
   },
   "outputs": [
    {
     "data": {
      "text/html": [
       "<div>\n",
       "<style>\n",
       "    .dataframe thead tr:only-child th {\n",
       "        text-align: right;\n",
       "    }\n",
       "\n",
       "    .dataframe thead th {\n",
       "        text-align: left;\n",
       "    }\n",
       "\n",
       "    .dataframe tbody tr th {\n",
       "        vertical-align: top;\n",
       "    }\n",
       "</style>\n",
       "<table border=\"1\" class=\"dataframe\">\n",
       "  <thead>\n",
       "    <tr style=\"text-align: right;\">\n",
       "      <th></th>\n",
       "      <th>content_id</th>\n",
       "      <th>content</th>\n",
       "      <th>subject</th>\n",
       "      <th>sentiment_value</th>\n",
       "      <th>sentiment_word</th>\n",
       "    </tr>\n",
       "  </thead>\n",
       "  <tbody>\n",
       "    <tr>\n",
       "      <th>0</th>\n",
       "      <td>XuPwKCnA2fqNh5vm</td>\n",
       "      <td>欧蓝德，价格便宜，森林人太贵啦！</td>\n",
       "      <td>价格</td>\n",
       "      <td>0</td>\n",
       "      <td></td>\n",
       "    </tr>\n",
       "    <tr>\n",
       "      <th>1</th>\n",
       "      <td>2jNbDn85goX3IuPE</td>\n",
       "      <td>楼主什么时候提的车，南昌优惠多少啊</td>\n",
       "      <td>价格</td>\n",
       "      <td>0</td>\n",
       "      <td></td>\n",
       "    </tr>\n",
       "    <tr>\n",
       "      <th>2</th>\n",
       "      <td>hLgEADQ8sUnvGFK9</td>\n",
       "      <td>吉林，2.5优惠20000，送三年九次保养，贴膜</td>\n",
       "      <td>价格</td>\n",
       "      <td>0</td>\n",
       "      <td></td>\n",
       "    </tr>\n",
       "    <tr>\n",
       "      <th>3</th>\n",
       "      <td>nZmM7LQsfr03wUaz</td>\n",
       "      <td>便宜2万的豪华特装，实用配制提升，优惠还给力，确实划算。</td>\n",
       "      <td>价格</td>\n",
       "      <td>0</td>\n",
       "      <td></td>\n",
       "    </tr>\n",
       "    <tr>\n",
       "      <th>4</th>\n",
       "      <td>pwd8MnrthDqLZafe</td>\n",
       "      <td>如果实在想买就等车展期间，优惠2万，我24.98万入的2.5豪</td>\n",
       "      <td>价格</td>\n",
       "      <td>0</td>\n",
       "      <td></td>\n",
       "    </tr>\n",
       "  </tbody>\n",
       "</table>\n",
       "</div>"
      ],
      "text/plain": [
       "         content_id                          content subject  sentiment_value  \\\n",
       "0  XuPwKCnA2fqNh5vm             欧蓝德，价格便宜，森林人太贵啦！          价格                0   \n",
       "1  2jNbDn85goX3IuPE                楼主什么时候提的车，南昌优惠多少啊      价格                0   \n",
       "2  hLgEADQ8sUnvGFK9         吉林，2.5优惠20000，送三年九次保养，贴膜      价格                0   \n",
       "3  nZmM7LQsfr03wUaz     便宜2万的豪华特装，实用配制提升，优惠还给力，确实划算。      价格                0   \n",
       "4  pwd8MnrthDqLZafe  如果实在想买就等车展期间，优惠2万，我24.98万入的2.5豪      价格                0   \n",
       "\n",
       "  sentiment_word  \n",
       "0                 \n",
       "1                 \n",
       "2                 \n",
       "3                 \n",
       "4                 "
      ]
     },
     "execution_count": 278,
     "metadata": {},
     "output_type": "execute_result"
    }
   ],
   "source": [
    "test.head()"
   ]
  },
  {
   "cell_type": "code",
   "execution_count": 280,
   "metadata": {},
   "outputs": [
    {
     "data": {
      "text/html": [
       "<div>\n",
       "<style>\n",
       "    .dataframe thead tr:only-child th {\n",
       "        text-align: right;\n",
       "    }\n",
       "\n",
       "    .dataframe thead th {\n",
       "        text-align: left;\n",
       "    }\n",
       "\n",
       "    .dataframe tbody tr th {\n",
       "        vertical-align: top;\n",
       "    }\n",
       "</style>\n",
       "<table border=\"1\" class=\"dataframe\">\n",
       "  <thead>\n",
       "    <tr style=\"text-align: right;\">\n",
       "      <th></th>\n",
       "      <th>sentiment_value</th>\n",
       "      <th>sentiment_value_num</th>\n",
       "    </tr>\n",
       "  </thead>\n",
       "  <tbody>\n",
       "    <tr>\n",
       "      <th>0</th>\n",
       "      <td>-1</td>\n",
       "      <td>769</td>\n",
       "    </tr>\n",
       "    <tr>\n",
       "      <th>1</th>\n",
       "      <td>0</td>\n",
       "      <td>1277</td>\n",
       "    </tr>\n",
       "    <tr>\n",
       "      <th>2</th>\n",
       "      <td>1</td>\n",
       "      <td>318</td>\n",
       "    </tr>\n",
       "  </tbody>\n",
       "</table>\n",
       "</div>"
      ],
      "text/plain": [
       "   sentiment_value  sentiment_value_num\n",
       "0               -1                  769\n",
       "1                0                 1277\n",
       "2                1                  318"
      ]
     },
     "execution_count": 280,
     "metadata": {},
     "output_type": "execute_result"
    }
   ],
   "source": [
    "test.groupby(\n",
    "    ['sentiment_value'], as_index=False)['content_id'].agg({\n",
    "        'sentiment_value_num':\n",
    "        'count'\n",
    "    })"
   ]
  },
  {
   "cell_type": "code",
   "execution_count": 279,
   "metadata": {},
   "outputs": [],
   "source": [
    "test[['content_id', 'subject', 'sentiment_value', 'sentiment_word']].to_csv('./result/xgb_w2v32_idx3_二分类(0.3/0.75).csv', index=False, encoding='UTF-8')"
   ]
  }
 ],
 "metadata": {
  "kernelspec": {
   "display_name": "Python 3",
   "language": "python",
   "name": "python3"
  },
  "language_info": {
   "codemirror_mode": {
    "name": "ipython",
    "version": 3
   },
   "file_extension": ".py",
   "mimetype": "text/x-python",
   "name": "python",
   "nbconvert_exporter": "python",
   "pygments_lexer": "ipython3",
   "version": "3.6.3"
  }
 },
 "nbformat": 4,
 "nbformat_minor": 2
}
