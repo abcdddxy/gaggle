{
 "cells": [
  {
   "cell_type": "code",
   "execution_count": 1,
   "metadata": {
    "collapsed": false
   },
   "outputs": [
    {
     "name": "stderr",
     "output_type": "stream",
     "text": [
      "/usr/local/anaconda3/lib/python3.5/site-packages/h5py/__init__.py:36: FutureWarning: Conversion of the second argument of issubdtype from `float` to `np.floating` is deprecated. In future, it will be treated as `np.float64 == np.dtype(float).type`.\n",
      "  from ._conv import register_converters as _register_converters\n"
     ]
    }
   ],
   "source": [
    "import tensorflow as tf\n",
    "# from utils import get_data_info, read_data, load_word_embeddings\n",
    "from IAN_model import IAN\n",
    "import pandas as pd\n",
    "import numpy as np\n",
    "import os\n",
    "import time"
   ]
  },
  {
   "cell_type": "code",
   "execution_count": 30,
   "metadata": {
    "collapsed": true
   },
   "outputs": [
    {
     "ename": "ArgumentError",
     "evalue": "argument --embedding_dim: conflicting option string: --embedding_dim",
     "traceback": [
      "\u001b[0;31m---------------------------------------------------------------------------\u001b[0m",
      "\u001b[0;31mArgumentError\u001b[0m                             Traceback (most recent call last)",
      "\u001b[0;32m<ipython-input-30-3aaf7d21e2cb>\u001b[0m in \u001b[0;36m<module>\u001b[0;34m()\u001b[0m\n\u001b[1;32m      2\u001b[0m \u001b[0;34m\u001b[0m\u001b[0m\n\u001b[1;32m      3\u001b[0m \u001b[0mFLAGS\u001b[0m \u001b[0;34m=\u001b[0m \u001b[0mtf\u001b[0m\u001b[0;34m.\u001b[0m\u001b[0mapp\u001b[0m\u001b[0;34m.\u001b[0m\u001b[0mflags\u001b[0m\u001b[0;34m.\u001b[0m\u001b[0mFLAGS\u001b[0m\u001b[0;34m\u001b[0m\u001b[0m\n\u001b[0;32m----> 4\u001b[0;31m \u001b[0mtf\u001b[0m\u001b[0;34m.\u001b[0m\u001b[0mapp\u001b[0m\u001b[0;34m.\u001b[0m\u001b[0mflags\u001b[0m\u001b[0;34m.\u001b[0m\u001b[0mDEFINE_integer\u001b[0m\u001b[0;34m(\u001b[0m\u001b[0;34m'embedding_dim'\u001b[0m\u001b[0;34m,\u001b[0m \u001b[0;36m64\u001b[0m\u001b[0;34m,\u001b[0m \u001b[0;34m'dimension of word embedding'\u001b[0m\u001b[0;34m)\u001b[0m\u001b[0;34m\u001b[0m\u001b[0m\n\u001b[0m\u001b[1;32m      5\u001b[0m \u001b[0mtf\u001b[0m\u001b[0;34m.\u001b[0m\u001b[0mapp\u001b[0m\u001b[0;34m.\u001b[0m\u001b[0mflags\u001b[0m\u001b[0;34m.\u001b[0m\u001b[0mDEFINE_integer\u001b[0m\u001b[0;34m(\u001b[0m\u001b[0;34m'batch_size'\u001b[0m\u001b[0;34m,\u001b[0m \u001b[0;36m128\u001b[0m\u001b[0;34m,\u001b[0m \u001b[0;34m'number of example per batch'\u001b[0m\u001b[0;34m)\u001b[0m\u001b[0;34m\u001b[0m\u001b[0m\n\u001b[1;32m      6\u001b[0m \u001b[0mtf\u001b[0m\u001b[0;34m.\u001b[0m\u001b[0mapp\u001b[0m\u001b[0;34m.\u001b[0m\u001b[0mflags\u001b[0m\u001b[0;34m.\u001b[0m\u001b[0mDEFINE_integer\u001b[0m\u001b[0;34m(\u001b[0m\u001b[0;34m'n_epoch'\u001b[0m\u001b[0;34m,\u001b[0m \u001b[0;36m10\u001b[0m\u001b[0;34m,\u001b[0m \u001b[0;34m'number of epoch'\u001b[0m\u001b[0;34m)\u001b[0m\u001b[0;34m\u001b[0m\u001b[0m\n",
      "\u001b[0;32m/usr/local/anaconda3/lib/python3.5/site-packages/tensorflow/python/platform/flags.py\u001b[0m in \u001b[0;36mDEFINE_integer\u001b[0;34m(flag_name, default_value, docstring)\u001b[0m\n\u001b[1;32m    110\u001b[0m     \u001b[0mdocstring\u001b[0m\u001b[0;34m:\u001b[0m \u001b[0mA\u001b[0m \u001b[0mhelpful\u001b[0m \u001b[0mmessage\u001b[0m \u001b[0mexplaining\u001b[0m \u001b[0mthe\u001b[0m \u001b[0muse\u001b[0m \u001b[0mof\u001b[0m \u001b[0mthe\u001b[0m \u001b[0mflag\u001b[0m\u001b[0;34m.\u001b[0m\u001b[0;34m\u001b[0m\u001b[0m\n\u001b[1;32m    111\u001b[0m   \"\"\"\n\u001b[0;32m--> 112\u001b[0;31m   \u001b[0m_define_helper\u001b[0m\u001b[0;34m(\u001b[0m\u001b[0mflag_name\u001b[0m\u001b[0;34m,\u001b[0m \u001b[0mdefault_value\u001b[0m\u001b[0;34m,\u001b[0m \u001b[0mdocstring\u001b[0m\u001b[0;34m,\u001b[0m \u001b[0mint\u001b[0m\u001b[0;34m)\u001b[0m\u001b[0;34m\u001b[0m\u001b[0m\n\u001b[0m\u001b[1;32m    113\u001b[0m \u001b[0;34m\u001b[0m\u001b[0m\n\u001b[1;32m    114\u001b[0m \u001b[0;34m\u001b[0m\u001b[0m\n",
      "\u001b[0;32m/usr/local/anaconda3/lib/python3.5/site-packages/tensorflow/python/platform/flags.py\u001b[0m in \u001b[0;36m_define_helper\u001b[0;34m(flag_name, default_value, docstring, flagtype)\u001b[0m\n\u001b[1;32m     84\u001b[0m                               \u001b[0mdefault\u001b[0m\u001b[0;34m=\u001b[0m\u001b[0mdefault_value\u001b[0m\u001b[0;34m,\u001b[0m\u001b[0;34m\u001b[0m\u001b[0m\n\u001b[1;32m     85\u001b[0m                               \u001b[0mhelp\u001b[0m\u001b[0;34m=\u001b[0m\u001b[0mdocstring\u001b[0m\u001b[0;34m,\u001b[0m\u001b[0;34m\u001b[0m\u001b[0m\n\u001b[0;32m---> 86\u001b[0;31m                               type=flagtype)\n\u001b[0m\u001b[1;32m     87\u001b[0m \u001b[0;34m\u001b[0m\u001b[0m\n\u001b[1;32m     88\u001b[0m \u001b[0;34m\u001b[0m\u001b[0m\n",
      "\u001b[0;32m/usr/local/anaconda3/lib/python3.5/argparse.py\u001b[0m in \u001b[0;36madd_argument\u001b[0;34m(self, *args, **kwargs)\u001b[0m\n\u001b[1;32m   1342\u001b[0m                 \u001b[0;32mraise\u001b[0m \u001b[0mValueError\u001b[0m\u001b[0;34m(\u001b[0m\u001b[0;34m\"length of metavar tuple does not match nargs\"\u001b[0m\u001b[0;34m)\u001b[0m\u001b[0;34m\u001b[0m\u001b[0m\n\u001b[1;32m   1343\u001b[0m \u001b[0;34m\u001b[0m\u001b[0m\n\u001b[0;32m-> 1344\u001b[0;31m         \u001b[0;32mreturn\u001b[0m \u001b[0mself\u001b[0m\u001b[0;34m.\u001b[0m\u001b[0m_add_action\u001b[0m\u001b[0;34m(\u001b[0m\u001b[0maction\u001b[0m\u001b[0;34m)\u001b[0m\u001b[0;34m\u001b[0m\u001b[0m\n\u001b[0m\u001b[1;32m   1345\u001b[0m \u001b[0;34m\u001b[0m\u001b[0m\n\u001b[1;32m   1346\u001b[0m     \u001b[0;32mdef\u001b[0m \u001b[0madd_argument_group\u001b[0m\u001b[0;34m(\u001b[0m\u001b[0mself\u001b[0m\u001b[0;34m,\u001b[0m \u001b[0;34m*\u001b[0m\u001b[0margs\u001b[0m\u001b[0;34m,\u001b[0m \u001b[0;34m**\u001b[0m\u001b[0mkwargs\u001b[0m\u001b[0;34m)\u001b[0m\u001b[0;34m:\u001b[0m\u001b[0;34m\u001b[0m\u001b[0m\n",
      "\u001b[0;32m/usr/local/anaconda3/lib/python3.5/argparse.py\u001b[0m in \u001b[0;36m_add_action\u001b[0;34m(self, action)\u001b[0m\n\u001b[1;32m   1705\u001b[0m     \u001b[0;32mdef\u001b[0m \u001b[0m_add_action\u001b[0m\u001b[0;34m(\u001b[0m\u001b[0mself\u001b[0m\u001b[0;34m,\u001b[0m \u001b[0maction\u001b[0m\u001b[0;34m)\u001b[0m\u001b[0;34m:\u001b[0m\u001b[0;34m\u001b[0m\u001b[0m\n\u001b[1;32m   1706\u001b[0m         \u001b[0;32mif\u001b[0m \u001b[0maction\u001b[0m\u001b[0;34m.\u001b[0m\u001b[0moption_strings\u001b[0m\u001b[0;34m:\u001b[0m\u001b[0;34m\u001b[0m\u001b[0m\n\u001b[0;32m-> 1707\u001b[0;31m             \u001b[0mself\u001b[0m\u001b[0;34m.\u001b[0m\u001b[0m_optionals\u001b[0m\u001b[0;34m.\u001b[0m\u001b[0m_add_action\u001b[0m\u001b[0;34m(\u001b[0m\u001b[0maction\u001b[0m\u001b[0;34m)\u001b[0m\u001b[0;34m\u001b[0m\u001b[0m\n\u001b[0m\u001b[1;32m   1708\u001b[0m         \u001b[0;32melse\u001b[0m\u001b[0;34m:\u001b[0m\u001b[0;34m\u001b[0m\u001b[0m\n\u001b[1;32m   1709\u001b[0m             \u001b[0mself\u001b[0m\u001b[0;34m.\u001b[0m\u001b[0m_positionals\u001b[0m\u001b[0;34m.\u001b[0m\u001b[0m_add_action\u001b[0m\u001b[0;34m(\u001b[0m\u001b[0maction\u001b[0m\u001b[0;34m)\u001b[0m\u001b[0;34m\u001b[0m\u001b[0m\n",
      "\u001b[0;32m/usr/local/anaconda3/lib/python3.5/argparse.py\u001b[0m in \u001b[0;36m_add_action\u001b[0;34m(self, action)\u001b[0m\n\u001b[1;32m   1546\u001b[0m \u001b[0;34m\u001b[0m\u001b[0m\n\u001b[1;32m   1547\u001b[0m     \u001b[0;32mdef\u001b[0m \u001b[0m_add_action\u001b[0m\u001b[0;34m(\u001b[0m\u001b[0mself\u001b[0m\u001b[0;34m,\u001b[0m \u001b[0maction\u001b[0m\u001b[0;34m)\u001b[0m\u001b[0;34m:\u001b[0m\u001b[0;34m\u001b[0m\u001b[0m\n\u001b[0;32m-> 1548\u001b[0;31m         \u001b[0maction\u001b[0m \u001b[0;34m=\u001b[0m \u001b[0msuper\u001b[0m\u001b[0;34m(\u001b[0m\u001b[0m_ArgumentGroup\u001b[0m\u001b[0;34m,\u001b[0m \u001b[0mself\u001b[0m\u001b[0;34m)\u001b[0m\u001b[0;34m.\u001b[0m\u001b[0m_add_action\u001b[0m\u001b[0;34m(\u001b[0m\u001b[0maction\u001b[0m\u001b[0;34m)\u001b[0m\u001b[0;34m\u001b[0m\u001b[0m\n\u001b[0m\u001b[1;32m   1549\u001b[0m         \u001b[0mself\u001b[0m\u001b[0;34m.\u001b[0m\u001b[0m_group_actions\u001b[0m\u001b[0;34m.\u001b[0m\u001b[0mappend\u001b[0m\u001b[0;34m(\u001b[0m\u001b[0maction\u001b[0m\u001b[0;34m)\u001b[0m\u001b[0;34m\u001b[0m\u001b[0m\n\u001b[1;32m   1550\u001b[0m         \u001b[0;32mreturn\u001b[0m \u001b[0maction\u001b[0m\u001b[0;34m\u001b[0m\u001b[0m\n",
      "\u001b[0;32m/usr/local/anaconda3/lib/python3.5/argparse.py\u001b[0m in \u001b[0;36m_add_action\u001b[0;34m(self, action)\u001b[0m\n\u001b[1;32m   1356\u001b[0m     \u001b[0;32mdef\u001b[0m \u001b[0m_add_action\u001b[0m\u001b[0;34m(\u001b[0m\u001b[0mself\u001b[0m\u001b[0;34m,\u001b[0m \u001b[0maction\u001b[0m\u001b[0;34m)\u001b[0m\u001b[0;34m:\u001b[0m\u001b[0;34m\u001b[0m\u001b[0m\n\u001b[1;32m   1357\u001b[0m         \u001b[0;31m# resolve any conflicts\u001b[0m\u001b[0;34m\u001b[0m\u001b[0;34m\u001b[0m\u001b[0m\n\u001b[0;32m-> 1358\u001b[0;31m         \u001b[0mself\u001b[0m\u001b[0;34m.\u001b[0m\u001b[0m_check_conflict\u001b[0m\u001b[0;34m(\u001b[0m\u001b[0maction\u001b[0m\u001b[0;34m)\u001b[0m\u001b[0;34m\u001b[0m\u001b[0m\n\u001b[0m\u001b[1;32m   1359\u001b[0m \u001b[0;34m\u001b[0m\u001b[0m\n\u001b[1;32m   1360\u001b[0m         \u001b[0;31m# add to actions list\u001b[0m\u001b[0;34m\u001b[0m\u001b[0;34m\u001b[0m\u001b[0m\n",
      "\u001b[0;32m/usr/local/anaconda3/lib/python3.5/argparse.py\u001b[0m in \u001b[0;36m_check_conflict\u001b[0;34m(self, action)\u001b[0m\n\u001b[1;32m   1495\u001b[0m         \u001b[0;32mif\u001b[0m \u001b[0mconfl_optionals\u001b[0m\u001b[0;34m:\u001b[0m\u001b[0;34m\u001b[0m\u001b[0m\n\u001b[1;32m   1496\u001b[0m             \u001b[0mconflict_handler\u001b[0m \u001b[0;34m=\u001b[0m \u001b[0mself\u001b[0m\u001b[0;34m.\u001b[0m\u001b[0m_get_handler\u001b[0m\u001b[0;34m(\u001b[0m\u001b[0;34m)\u001b[0m\u001b[0;34m\u001b[0m\u001b[0m\n\u001b[0;32m-> 1497\u001b[0;31m             \u001b[0mconflict_handler\u001b[0m\u001b[0;34m(\u001b[0m\u001b[0maction\u001b[0m\u001b[0;34m,\u001b[0m \u001b[0mconfl_optionals\u001b[0m\u001b[0;34m)\u001b[0m\u001b[0;34m\u001b[0m\u001b[0m\n\u001b[0m\u001b[1;32m   1498\u001b[0m \u001b[0;34m\u001b[0m\u001b[0m\n\u001b[1;32m   1499\u001b[0m     \u001b[0;32mdef\u001b[0m \u001b[0m_handle_conflict_error\u001b[0m\u001b[0;34m(\u001b[0m\u001b[0mself\u001b[0m\u001b[0;34m,\u001b[0m \u001b[0maction\u001b[0m\u001b[0;34m,\u001b[0m \u001b[0mconflicting_actions\u001b[0m\u001b[0;34m)\u001b[0m\u001b[0;34m:\u001b[0m\u001b[0;34m\u001b[0m\u001b[0m\n",
      "\u001b[0;32m/usr/local/anaconda3/lib/python3.5/argparse.py\u001b[0m in \u001b[0;36m_handle_conflict_error\u001b[0;34m(self, action, conflicting_actions)\u001b[0m\n\u001b[1;32m   1504\u001b[0m                                      \u001b[0;32mfor\u001b[0m \u001b[0moption_string\u001b[0m\u001b[0;34m,\u001b[0m \u001b[0maction\u001b[0m\u001b[0;34m\u001b[0m\u001b[0m\n\u001b[1;32m   1505\u001b[0m                                      in conflicting_actions])\n\u001b[0;32m-> 1506\u001b[0;31m         \u001b[0;32mraise\u001b[0m \u001b[0mArgumentError\u001b[0m\u001b[0;34m(\u001b[0m\u001b[0maction\u001b[0m\u001b[0;34m,\u001b[0m \u001b[0mmessage\u001b[0m \u001b[0;34m%\u001b[0m \u001b[0mconflict_string\u001b[0m\u001b[0;34m)\u001b[0m\u001b[0;34m\u001b[0m\u001b[0m\n\u001b[0m\u001b[1;32m   1507\u001b[0m \u001b[0;34m\u001b[0m\u001b[0m\n\u001b[1;32m   1508\u001b[0m     \u001b[0;32mdef\u001b[0m \u001b[0m_handle_conflict_resolve\u001b[0m\u001b[0;34m(\u001b[0m\u001b[0mself\u001b[0m\u001b[0;34m,\u001b[0m \u001b[0maction\u001b[0m\u001b[0;34m,\u001b[0m \u001b[0mconflicting_actions\u001b[0m\u001b[0;34m)\u001b[0m\u001b[0;34m:\u001b[0m\u001b[0;34m\u001b[0m\u001b[0m\n",
      "\u001b[0;31mArgumentError\u001b[0m: argument --embedding_dim: conflicting option string: --embedding_dim"
     ],
     "output_type": "error"
    }
   ],
   "source": [
    "# os.environ['TF_CPP_MIN_LOG_LEVEL'] = '3'\n",
    "\n",
    "# FLAGS = tf.app.flags.FLAGS\n",
    "# tf.app.flags.DEFINE_integer('embedding_dim', 64, 'dimension of word embedding')\n",
    "# tf.app.flags.DEFINE_integer('batch_size', 128, 'number of example per batch')\n",
    "# tf.app.flags.DEFINE_integer('n_epoch', 10, 'number of epoch')\n",
    "# tf.app.flags.DEFINE_integer('n_hidden', 300, 'number of hidden unit')\n",
    "# tf.app.flags.DEFINE_integer('n_class', 3, 'number of distinct class')\n",
    "# tf.app.flags.DEFINE_integer('pre_processed', 0, 'Whether the data is pre-processed')\n",
    "# tf.app.flags.DEFINE_float('learning_rate', 0.01, 'learning rate')\n",
    "# tf.app.flags.DEFINE_float('l2_reg', 0.001, 'l2 regularization')\n",
    "# tf.app.flags.DEFINE_float('dropout', 0.5, 'dropout')\n",
    "\n",
    "\n",
    "# tf.app.flags.DEFINE_integer('max_aspect_len', 1, 'max length of aspects')\n",
    "# tf.app.flags.DEFINE_integer('max_context_len', 90, 'max length of contexts')\n",
    "# tf.app.flags.DEFINE_string('embedding_matrix', '', 'word ids to word vectors')"
   ]
  },
  {
   "cell_type": "code",
   "execution_count": 78,
   "metadata": {
    "collapsed": true
   },
   "outputs": [],
   "source": [
    "config = {\n",
    "    'embedding_dim':64,\n",
    "    'n_class': 4,\n",
    "    'batch_size': 1024,\n",
    "    'pre_processed': 0,\n",
    "    'max_aspect_len': 1,\n",
    "    'max_context_len': 90, \n",
    "\n",
    "    'n_epoch': 5,\n",
    "    'n_hidden': 100,\n",
    "    'learning_rate': 0.01,\n",
    "    'l2_reg': 0.001,   \n",
    "    'dropout': 0.5,\n",
    "}"
   ]
  },
  {
   "cell_type": "code",
   "execution_count": 14,
   "metadata": {
    "collapsed": false
   },
   "outputs": [
    {
     "data": {
      "text/html": [
       "<div>\n",
       "<style scoped>\n",
       "    .dataframe tbody tr th:only-of-type {\n",
       "        vertical-align: middle;\n",
       "    }\n",
       "\n",
       "    .dataframe tbody tr th {\n",
       "        vertical-align: top;\n",
       "    }\n",
       "\n",
       "    .dataframe thead th {\n",
       "        text-align: right;\n",
       "    }\n",
       "</style>\n",
       "<table border=\"1\" class=\"dataframe\">\n",
       "  <thead>\n",
       "    <tr style=\"text-align: right;\">\n",
       "      <th></th>\n",
       "      <th>content_id</th>\n",
       "      <th>content</th>\n",
       "      <th>subject</th>\n",
       "      <th>sentiment_value</th>\n",
       "      <th>sentiment_word</th>\n",
       "    </tr>\n",
       "  </thead>\n",
       "  <tbody>\n",
       "    <tr>\n",
       "      <th>0</th>\n",
       "      <td>vUXizsqexyZVRdFH</td>\n",
       "      <td>因为森林人即将换代，这套系统没必要装在一款即将换代的车型上，因为肯定会影响价格。</td>\n",
       "      <td>价格</td>\n",
       "      <td>0</td>\n",
       "      <td>影响</td>\n",
       "    </tr>\n",
       "    <tr>\n",
       "      <th>1</th>\n",
       "      <td>4QroPd9hNfnCHVt7</td>\n",
       "      <td>四驱价格貌似挺高的，高的可以看齐XC60了，看实车前脸有点违和感。不过大众的车应该不会差。</td>\n",
       "      <td>价格</td>\n",
       "      <td>-1</td>\n",
       "      <td>高</td>\n",
       "    </tr>\n",
       "    <tr>\n",
       "      <th>2</th>\n",
       "      <td>QmqJ2AvM5GplaRyz</td>\n",
       "      <td>斯柯达要说质量，似乎比大众要好一点，价格也低一些，用料完全一样。我听说过野帝，但没听说过你说...</td>\n",
       "      <td>价格</td>\n",
       "      <td>1</td>\n",
       "      <td>低</td>\n",
       "    </tr>\n",
       "    <tr>\n",
       "      <th>3</th>\n",
       "      <td>KMT1gFJiU4NWrVDn</td>\n",
       "      <td>这玩意都是给有钱任性又不懂车的土豪用的，这价格换一次我妹夫EP020可以换三锅了</td>\n",
       "      <td>价格</td>\n",
       "      <td>-1</td>\n",
       "      <td>有钱任性</td>\n",
       "    </tr>\n",
       "    <tr>\n",
       "      <th>4</th>\n",
       "      <td>nVIlGd5yMmc37t1o</td>\n",
       "      <td>17价格忒高，估计也就是14-15左右。</td>\n",
       "      <td>价格</td>\n",
       "      <td>-1</td>\n",
       "      <td>高</td>\n",
       "    </tr>\n",
       "  </tbody>\n",
       "</table>\n",
       "</div>"
      ],
      "text/plain": [
       "         content_id                                            content  \\\n",
       "0  vUXizsqexyZVRdFH           因为森林人即将换代，这套系统没必要装在一款即将换代的车型上，因为肯定会影响价格。   \n",
       "1  4QroPd9hNfnCHVt7      四驱价格貌似挺高的，高的可以看齐XC60了，看实车前脸有点违和感。不过大众的车应该不会差。   \n",
       "2  QmqJ2AvM5GplaRyz  斯柯达要说质量，似乎比大众要好一点，价格也低一些，用料完全一样。我听说过野帝，但没听说过你说...   \n",
       "3  KMT1gFJiU4NWrVDn           这玩意都是给有钱任性又不懂车的土豪用的，这价格换一次我妹夫EP020可以换三锅了   \n",
       "4  nVIlGd5yMmc37t1o                            17价格忒高，估计也就是14-15左右。      \n",
       "\n",
       "  subject  sentiment_value sentiment_word  \n",
       "0      价格                0             影响  \n",
       "1      价格               -1              高  \n",
       "2      价格                1              低  \n",
       "3      价格               -1           有钱任性  \n",
       "4      价格               -1              高  "
      ]
     },
     "execution_count": 14,
     "metadata": {},
     "output_type": "execute_result"
    }
   ],
   "source": [
    "# train.head()"
   ]
  },
  {
   "cell_type": "code",
   "execution_count": 196,
   "metadata": {
    "collapsed": true
   },
   "outputs": [],
   "source": [
    "def get_stop_word_set():\n",
    "    words_set = set()\n",
    "    with open('/home/cjy/extract_tag/data/哈工大停用词表扩展.txt') as f_r:\n",
    "        for line in f_r:\n",
    "            words_set |= set(line.strip())\n",
    "#     print('stop words cnt:', len(words_set))\n",
    "    return words_set"
   ]
  },
  {
   "cell_type": "code",
   "execution_count": 209,
   "metadata": {
    "collapsed": false
   },
   "outputs": [
    {
     "data": {
      "text/plain": [
       "19324"
      ]
     },
     "execution_count": 209,
     "metadata": {},
     "output_type": "execute_result"
    }
   ],
   "source": [
    "def get_word2id(data_path, all_subjects, pre_processed, train_fname, test_fname):\n",
    "    '''构造 word id 映射'''\n",
    "    save_fname = data_path + 'word2id_map_without_stopword.txt'\n",
    "\n",
    "    if pre_processed:\n",
    "        pass\n",
    "#         TODO\n",
    "    else:\n",
    "        import jieba\n",
    "        jieba.load_userdict('../data/cars.txt')\n",
    "        stop_words = get_stop_word_set()\n",
    "        word2id = {}\n",
    "        word2id['<pad>'] = 0\n",
    "        for s in all_subjects:\n",
    "            word2id[s] = len(word2id)\n",
    "        train_fname = data_path + train_fname + '.csv'\n",
    "        test_fname = data_path + test_fname + '.csv'\n",
    "        \n",
    "        data = pd.read_csv(train_fname)\n",
    "        data = pd.concat([data, pd.read_csv(test_fname)])\n",
    "        data = data.drop_duplicates('content_id')\n",
    "        for content in data['content'].values:\n",
    "            content = content.strip()\n",
    "            for word in jieba.cut(content):\n",
    "                if word not in word2id and word not in stop_words:\n",
    "                    word2id[word] = len(word2id)\n",
    "\n",
    "        with open(save_fname, 'w') as fsave:\n",
    "            for item in sorted(word2id.items(), key=lambda x:x[1]):\n",
    "                fsave.write(item[0]+' '+str(item[1])+'\\n')\n",
    "\n",
    "    return word2id\n",
    "\n",
    "subjects = ['动力', '价格', '内饰', '配置', '安全性', '外观', '操控', '油耗', '空间', '舒适性']\n",
    "word2id = get_word2id('../data/', subjects, False, 'train', 'test_public')\n",
    "len(word2id)"
   ]
  },
  {
   "cell_type": "code",
   "execution_count": 210,
   "metadata": {
    "collapsed": false
   },
   "outputs": [
    {
     "name": "stdout",
     "output_type": "stream",
     "text": [
      "82900\n"
     ]
    }
   ],
   "source": [
    "def read_train_data(word2id, max_context_len, data_path, fname, all_aspect, pre_processed):\n",
    "    '''return aspects, contents, labels, aspect_lens, content_lens'''\n",
    "    if pre_processed:\n",
    "        pass\n",
    "    else:\n",
    "        import jieba\n",
    "        jieba.load_userdict('../data/cars.txt')\n",
    "        stop_words = get_stop_word_set()\n",
    "        aspects, contents, labels, content_lens = [], [], [], []\n",
    "        data = pd.read_csv(data_path + fname + '.csv')\n",
    "        id2label = data.groupby('content_id').apply(lambda x:dict([(item[0], item[1]) for item in x[['subject', 'sentiment_value']].values])).to_dict()\n",
    "        data = data.drop_duplicates('content_id')\n",
    "        data.reset_index(drop=True, inplace=True)\n",
    "        f_w = open(data_path + fname + '_info_without_stopword.txt', 'w')\n",
    "        for item in data[['content_id', 'content']].values:\n",
    "#             print(item[0])\n",
    "            words = [word2id[x] for x in filter(lambda x:x not in stop_words, jieba.cut(item[1].strip()))]\n",
    "            f_w.write(str(words) + '\\n')\n",
    "            if len(words) < max_context_len:\n",
    "                crt_content_lens = len(words)\n",
    "                words = words + [0] * (max_context_len-len(words))\n",
    "            else:\n",
    "                crt_content_lens = max_context_len\n",
    "                words = words[:max_context_len]\n",
    "            \n",
    "            crt_subject_value = id2label[item[0]]\n",
    "            f_w.write(str(crt_subject_value) + '\\n')\n",
    "            for suj in all_aspect:\n",
    "                if suj in crt_subject_value:\n",
    "                    contents.append(words)\n",
    "                    aspects.append([word2id[suj]])\n",
    "                    content_lens.append(crt_content_lens)\n",
    "                    crt_label = [0] * 4\n",
    "                    crt_label[crt_subject_value[suj]+1] = 1\n",
    "                    labels.append(crt_label)\n",
    "                else:\n",
    "                    contents.append(words)\n",
    "                    aspects.append([word2id[suj]])\n",
    "                    content_lens.append(crt_content_lens)\n",
    "                    labels.append([0] * 3 + [1])\n",
    "    \n",
    "    return np.asarray(aspects), np.asarray(contents), np.asarray(labels), np.ones(len(aspects)), np.asarray(content_lens)\n",
    "            \n",
    "train = read_train_data(word2id, config['max_context_len'], '../data/', 'train',subjects, False)\n",
    "print(len(train[0]))"
   ]
  },
  {
   "cell_type": "code",
   "execution_count": 230,
   "metadata": {
    "collapsed": false
   },
   "outputs": [
    {
     "name": "stdout",
     "output_type": "stream",
     "text": [
      "23640\n"
     ]
    }
   ],
   "source": [
    "def read_test_data(word2id, max_context_len, data_path, fname, all_aspect, pre_processed):\n",
    "    '''return aspects, contents, aspect_lens, content_lens'''\n",
    "    if pre_processed:\n",
    "        pass\n",
    "    else:\n",
    "        import jieba\n",
    "        jieba.load_userdict('../data/cars.txt')\n",
    "        stop_words = get_stop_word_set()\n",
    "        aspects, contents, content_lens = [], [], []\n",
    "        data = pd.read_csv(data_path + fname + '.csv')\n",
    "        data = data.drop_duplicates('content_id')\n",
    "        data.reset_index(drop=True, inplace=True)\n",
    "        f_w = open(data_path + fname + '_info_without_stopword.txt', 'w')\n",
    "        for item in data[['content_id', 'content']].values:\n",
    "            words = [word2id[x] for x in filter(lambda x:x not in stop_words, jieba.cut(item[1].strip()))]\n",
    "            f_w.write(str(words) + '\\n')\n",
    "            if len(words) < max_context_len:\n",
    "                crt_content_lens = len(words)\n",
    "                words = words + [0] * (max_context_len-len(words))\n",
    "            else:\n",
    "                crt_content_lens = max_context_len\n",
    "                words = words[:max_context_len]\n",
    "            \n",
    "            for suj in all_aspect:\n",
    "                contents.append(words)\n",
    "                aspects.append([word2id[suj]])\n",
    "                content_lens.append(crt_content_lens)\n",
    "    \n",
    "    return np.asarray(aspects), np.asarray(contents), np.ones(len(aspects)), np.asarray(content_lens)\n",
    "test = read_test_data(word2id, config['max_context_len'], '../data/', 'test_public',subjects, False)\n",
    "print(len(test[0]))"
   ]
  },
  {
   "cell_type": "code",
   "execution_count": 211,
   "metadata": {
    "collapsed": false
   },
   "outputs": [],
   "source": [
    "def load_word_embeddings(word2id):\n",
    "    from gensim.models import KeyedVectors\n",
    "    com_w2v = KeyedVectors.load_word2vec_format('/home/cjy/extract_tag/model/news_12g_baidubaike_20g_novel_90g_embedding_64.bin', \n",
    "                                                binary=True)\n",
    "    com_w2v_embedding_dim = 64\n",
    "    \n",
    "    word2vec = np.random.uniform(-0.01, 0.01, [len(word2id), com_w2v_embedding_dim])\n",
    "    for w, w_id in word2id.items():\n",
    "        if w in com_w2v:\n",
    "            word2vec[word2id[w]] = com_w2v[w]\n",
    "    word2vec[word2id['<pad>'], :] = 0\n",
    "    return word2vec\n",
    "    \n",
    "config['embedding_matrix'] = load_word_embeddings(word2id)"
   ]
  },
  {
   "cell_type": "code",
   "execution_count": 252,
   "metadata": {
    "collapsed": true
   },
   "outputs": [],
   "source": [
    "config['early_stop'] = 1\n",
    "config['n_epoch'] = 100\n",
    "config['learning_rate'] = 0.01\n",
    "config['n_hidden'] = 300"
   ]
  },
  {
   "cell_type": "code",
   "execution_count": null,
   "metadata": {
    "collapsed": false,
    "scrolled": true
   },
   "outputs": [
    {
     "name": "stdout",
     "output_type": "stream",
     "text": [
      "Training ...\n"
     ]
    }
   ],
   "source": [
    "from imp import reload\n",
    "import IAN_model\n",
    "reload(IAN_model)\n",
    "from IAN_model import IAN\n",
    "\n",
    "sess.close()\n",
    "\n",
    "tf.reset_default_graph()\n",
    "sess = tf.Session();\n",
    "\n",
    "model = IAN(config, sess)\n",
    "model.build_model()\n",
    "train_cnt = int(len(train[0]) * 0.7)\n",
    "model.run((train[0][:train_cnt], train[1][:train_cnt], train[2][:train_cnt], train[3][:train_cnt], train[4][:train_cnt]),\n",
    "          (train[0][train_cnt:], train[1][train_cnt:], train[2][train_cnt:], train[3][train_cnt:], train[4][train_cnt:]))"
   ]
  },
  {
   "cell_type": "code",
   "execution_count": 243,
   "metadata": {
    "collapsed": false
   },
   "outputs": [],
   "source": [
    "preds = model.predict_data(test)"
   ]
  },
  {
   "cell_type": "code",
   "execution_count": 251,
   "metadata": {
    "collapsed": false
   },
   "outputs": [
    {
     "data": {
      "text/html": [
       "<div>\n",
       "<style scoped>\n",
       "    .dataframe tbody tr th:only-of-type {\n",
       "        vertical-align: middle;\n",
       "    }\n",
       "\n",
       "    .dataframe tbody tr th {\n",
       "        vertical-align: top;\n",
       "    }\n",
       "\n",
       "    .dataframe thead th {\n",
       "        text-align: right;\n",
       "    }\n",
       "</style>\n",
       "<table border=\"1\" class=\"dataframe\">\n",
       "  <thead>\n",
       "    <tr style=\"text-align: right;\">\n",
       "      <th></th>\n",
       "      <th>a</th>\n",
       "    </tr>\n",
       "  </thead>\n",
       "  <tbody>\n",
       "    <tr>\n",
       "      <th>0</th>\n",
       "      <td>[1, 2]</td>\n",
       "    </tr>\n",
       "    <tr>\n",
       "      <th>1</th>\n",
       "      <td>[2, 3]</td>\n",
       "    </tr>\n",
       "  </tbody>\n",
       "</table>\n",
       "</div>"
      ],
      "text/plain": [
       "        a\n",
       "0  [1, 2]\n",
       "1  [2, 3]"
      ]
     },
     "execution_count": 251,
     "metadata": {},
     "output_type": "execute_result"
    }
   ],
   "source": [
    "# preds = np.asarray(preds)\n",
    "# max_idx = np.argmax(preds, axis=1)\n",
    "# max_idx_score = np.max(preds, axis=1)\n",
    "\n"
   ]
  },
  {
   "cell_type": "code",
   "execution_count": null,
   "metadata": {
    "collapsed": true
   },
   "outputs": [],
   "source": []
  },
  {
   "cell_type": "code",
   "execution_count": 180,
   "metadata": {
    "collapsed": false
   },
   "outputs": [
    {
     "data": {
      "text/plain": [
       "array([ 1616,  6661,  1670, 72953])"
      ]
     },
     "execution_count": 180,
     "metadata": {},
     "output_type": "execute_result"
    }
   ],
   "source": [
    "# train[2].sum(axis=0)"
   ]
  },
  {
   "cell_type": "code",
   "execution_count": null,
   "metadata": {
    "collapsed": true
   },
   "outputs": [],
   "source": []
  },
  {
   "cell_type": "code",
   "execution_count": null,
   "metadata": {
    "collapsed": true
   },
   "outputs": [],
   "source": []
  },
  {
   "cell_type": "code",
   "execution_count": null,
   "metadata": {
    "collapsed": true
   },
   "outputs": [],
   "source": []
  }
 ],
 "metadata": {
  "anaconda-cloud": {},
  "kernelspec": {
   "display_name": "Python [conda env:anaconda3]",
   "language": "python",
   "name": "conda-env-anaconda3-py"
  },
  "language_info": {
   "codemirror_mode": {
    "name": "ipython",
    "version": 3
   },
   "file_extension": ".py",
   "mimetype": "text/x-python",
   "name": "python",
   "nbconvert_exporter": "python",
   "pygments_lexer": "ipython3",
   "version": "3.5.2"
  },
  "widgets": {
   "state": {
    "0031c27a812a4180870ba3d71ba97134": {
     "views": [
      {
       "cell_index": 8.0
      }
     ]
    },
    "014921c49b6242cb8bf8ed48348698c1": {
     "views": [
      {
       "cell_index": 10.0
      }
     ]
    },
    "03a507ce240b419dad7f2c2bc07e011f": {
     "views": [
      {
       "cell_index": 10.0
      }
     ]
    },
    "043065ffbf5c4e969e0e6bf91c84678a": {
     "views": [
      {
       "cell_index": 9.0
      }
     ]
    },
    "08dc71ccfcce42f5a7bd25a268471963": {
     "views": [
      {
       "cell_index": 10.0
      }
     ]
    },
    "0b631a3cd5bc4e989f45277e7725d8c6": {
     "views": [
      {
       "cell_index": 9.0
      }
     ]
    },
    "0bf0faa86e9d48e6a139b0a2532ed628": {
     "views": [
      {
       "cell_index": 10.0
      }
     ]
    },
    "0ddad54e022248efbbdfd68317abf822": {
     "views": [
      {
       "cell_index": 9.0
      }
     ]
    },
    "10449d73010f489a96c480d66192691e": {
     "views": [
      {
       "cell_index": 9.0
      }
     ]
    },
    "11884b5ba72e468b8b9a94fb435245c8": {
     "views": [
      {
       "cell_index": 10.0
      }
     ]
    },
    "22af7a9abc5d42cabbf2e2008b3a35cd": {
     "views": [
      {
       "cell_index": 9.0
      }
     ]
    },
    "286d13422f7a465aa5803eaa323d1d5f": {
     "views": [
      {
       "cell_index": 9.0
      }
     ]
    },
    "2b161546ecae4970a58e546502455979": {
     "views": [
      {
       "cell_index": 9.0
      }
     ]
    },
    "2d652a50511647e8bb3a14f2e6405a65": {
     "views": [
      {
       "cell_index": 10.0
      }
     ]
    },
    "2e365e5488044f04adb1678698ba7f27": {
     "views": [
      {
       "cell_index": 9.0
      }
     ]
    },
    "3260b850caa248b0a196ea73d2617431": {
     "views": [
      {
       "cell_index": 10.0
      }
     ]
    },
    "3acd4edd78404613a73d4eeb323f85e2": {
     "views": [
      {
       "cell_index": 10.0
      }
     ]
    },
    "3ad7337dc2dd49079a80628626b5ef9b": {
     "views": [
      {
       "cell_index": 10.0
      }
     ]
    },
    "3b670180093447f08e92fd7a680e0bbf": {
     "views": [
      {
       "cell_index": 10.0
      }
     ]
    },
    "3e057850a6224ecfa22014442c84df2b": {
     "views": [
      {
       "cell_index": 10.0
      }
     ]
    },
    "40199da1d1c64a70a8ed6bba31da0cdb": {
     "views": [
      {
       "cell_index": 10.0
      }
     ]
    },
    "4c33143d8d9a4305b8422d28d4953445": {
     "views": [
      {
       "cell_index": 10.0
      }
     ]
    },
    "52a37401921f46b9894b66510f39d015": {
     "views": [
      {
       "cell_index": 8.0
      }
     ]
    },
    "541008bc564b45fb93c83aae324c9b09": {
     "views": [
      {
       "cell_index": 11.0
      }
     ]
    },
    "54b4a0dcf56c4db5bbc22d81291581eb": {
     "views": [
      {
       "cell_index": 10.0
      }
     ]
    },
    "54c721deb9b546138c2d6c1fb893adcc": {
     "views": [
      {
       "cell_index": 10.0
      }
     ]
    },
    "57263bee52d44ed3b5bc3a57c7d1165c": {
     "views": [
      {
       "cell_index": 8.0
      }
     ]
    },
    "57fe3f6885c344d7962dc9b29052eb84": {
     "views": [
      {
       "cell_index": 10.0
      }
     ]
    },
    "585924306107402f806a6db95b38ebc5": {
     "views": [
      {
       "cell_index": 9.0
      }
     ]
    },
    "5bfd9a96493c41709c95dbbee1fae074": {
     "views": [
      {
       "cell_index": 10.0
      }
     ]
    },
    "63813e06d6e145308496cc1b93b13742": {
     "views": [
      {
       "cell_index": 10.0
      }
     ]
    },
    "66ad11b0686b4176872289781cc1d06a": {
     "views": [
      {
       "cell_index": 8.0
      }
     ]
    },
    "6c6897a8842545a7933c0fe62aad68d5": {
     "views": [
      {
       "cell_index": 9.0
      }
     ]
    },
    "6db6750104664b2086b3492b1cd9fcab": {
     "views": [
      {
       "cell_index": 9.0
      }
     ]
    },
    "6ea0b6a980614da199f8d5b8875fffa1": {
     "views": [
      {
       "cell_index": 10.0
      }
     ]
    },
    "70b832c3cbb2402e8b1fc6cbf65ff597": {
     "views": [
      {
       "cell_index": 9.0
      }
     ]
    },
    "733232fa408e4780a3b6b9cc83de2d2d": {
     "views": [
      {
       "cell_index": 10.0
      }
     ]
    },
    "77280fe3d4d74388824cac92d278e4f1": {
     "views": [
      {
       "cell_index": 8.0
      }
     ]
    },
    "78c8993c4df742d08f4e7bcb012b6a86": {
     "views": [
      {
       "cell_index": 10.0
      }
     ]
    },
    "7e6932d6351c4e35894a4d45bea03613": {
     "views": [
      {
       "cell_index": 9.0
      }
     ]
    },
    "7f264e6b235347d19d0905b7640ae60a": {
     "views": [
      {
       "cell_index": 10.0
      }
     ]
    },
    "7f2c1a1bf3074903817c2e56295cf6b4": {
     "views": [
      {
       "cell_index": 8.0
      }
     ]
    },
    "806af500dc354605b70f2d0ba4e08e0d": {
     "views": [
      {
       "cell_index": 9.0
      }
     ]
    },
    "808f183c3f3d422988c04bdef1d7fdc1": {
     "views": [
      {
       "cell_index": 10.0
      }
     ]
    },
    "810dc81cd5e34d998b54e1ffddaaf1b7": {
     "views": [
      {
       "cell_index": 8.0
      }
     ]
    },
    "8411e9b9d93343179e31c4dd2696703b": {
     "views": [
      {
       "cell_index": 9.0
      }
     ]
    },
    "84e82fdcebb7407ebef29e3c91093aa6": {
     "views": [
      {
       "cell_index": 10.0
      }
     ]
    },
    "8abbea8463c54ecdb4f4c6b88e30fc67": {
     "views": [
      {
       "cell_index": 9.0
      }
     ]
    },
    "8af0898be3334d2a9b1b9c5592d3de1b": {
     "views": [
      {
       "cell_index": 10.0
      }
     ]
    },
    "8cd93e8dbb0742439b5cdde47e950816": {
     "views": [
      {
       "cell_index": 8.0
      }
     ]
    },
    "9298f7d0ba9e4216bfa34f44bdb1dd43": {
     "views": [
      {
       "cell_index": 9.0
      }
     ]
    },
    "9334bf63fa074a28a42e391967e61226": {
     "views": [
      {
       "cell_index": 9.0
      }
     ]
    },
    "963c4f9e2e3e4a8b802fcff64802181f": {
     "views": [
      {
       "cell_index": 9.0
      }
     ]
    },
    "984ecf904c2349d9be319efe8fe8282b": {
     "views": [
      {
       "cell_index": 8.0
      }
     ]
    },
    "985a307ec6e04c759d9a6962e1226ef6": {
     "views": [
      {
       "cell_index": 9.0
      }
     ]
    },
    "99d96d98b7db4145a5f1109e0d56c5a7": {
     "views": [
      {
       "cell_index": 10.0
      }
     ]
    },
    "9c497f9bb4f24cd9a4071af1e34338ef": {
     "views": [
      {
       "cell_index": 10.0
      }
     ]
    },
    "a14d8fbb36a1482ca1631ef44626bd9c": {
     "views": [
      {
       "cell_index": 10.0
      }
     ]
    },
    "a2f498730d8443a3aaf025894fe9336c": {
     "views": [
      {
       "cell_index": 9.0
      }
     ]
    },
    "a63d941116ec4857ba379c8fc69cfb7a": {
     "views": [
      {
       "cell_index": 9.0
      }
     ]
    },
    "a796e3b7d0a546d2ba6cabcd6ebdd5a3": {
     "views": [
      {
       "cell_index": 10.0
      }
     ]
    },
    "af0d8d3935114cbeb2394bbe3f667048": {
     "views": [
      {
       "cell_index": 10.0
      }
     ]
    },
    "b3477fbdae404c4da2282e48db85753c": {
     "views": [
      {
       "cell_index": 9.0
      }
     ]
    },
    "b4919ccca7bc43d6a128d13ab40bc61d": {
     "views": [
      {
       "cell_index": 9.0
      }
     ]
    },
    "b4de13e9f342485591eaf71716c29da1": {
     "views": [
      {
       "cell_index": 9.0
      }
     ]
    },
    "b93c5171354e453e971ae4e66e823c4e": {
     "views": [
      {
       "cell_index": 10.0
      }
     ]
    },
    "bb171ca24b91403bb38a3712fd48146d": {
     "views": [
      {
       "cell_index": 9.0
      }
     ]
    },
    "bb6698bfea5f42dfbdb8bc38e3dc59bb": {
     "views": [
      {
       "cell_index": 9.0
      }
     ]
    },
    "be8e66cc4c2e48c6903d56c84a84943d": {
     "views": [
      {
       "cell_index": 10.0
      }
     ]
    },
    "bf84b5f2879341ababee434f5fa684d7": {
     "views": [
      {
       "cell_index": 9.0
      }
     ]
    },
    "c08c674a1e6442ff9ae96b26bd0cb38d": {
     "views": [
      {
       "cell_index": 9.0
      }
     ]
    },
    "c0eec4872178492488552e80b1245361": {
     "views": [
      {
       "cell_index": 10.0
      }
     ]
    },
    "c1ee376831524b93adf019757343a939": {
     "views": [
      {
       "cell_index": 8.0
      }
     ]
    },
    "c34bcd4b6fdd47dabb21da22484ee2aa": {
     "views": [
      {
       "cell_index": 10.0
      }
     ]
    },
    "c618020bcda64794b9c8966260a415fa": {
     "views": [
      {
       "cell_index": 10.0
      }
     ]
    },
    "c6b0354a54de4f10a6a799d0be973884": {
     "views": [
      {
       "cell_index": 10.0
      }
     ]
    },
    "ce960df4b4404dcd952543d808f53172": {
     "views": [
      {
       "cell_index": 10.0
      }
     ]
    },
    "cf1f0ba2d9874d50893c823c7942c136": {
     "views": [
      {
       "cell_index": 9.0
      }
     ]
    },
    "d125bc54a9894b209690eb5d12c11a07": {
     "views": [
      {
       "cell_index": 10.0
      }
     ]
    },
    "d2bf6df972e34b0394384410c8867990": {
     "views": [
      {
       "cell_index": 9.0
      }
     ]
    },
    "d62418f72bff4d87b407ab92484ceee6": {
     "views": [
      {
       "cell_index": 10.0
      }
     ]
    },
    "d7bb5dc077414165b842621f325a37ac": {
     "views": [
      {
       "cell_index": 10.0
      }
     ]
    },
    "dad51ae6c55d4070a096d32ae24cee3b": {
     "views": [
      {
       "cell_index": 10.0
      }
     ]
    },
    "de460d91a486406aba17bbfbeb8639f1": {
     "views": [
      {
       "cell_index": 10.0
      }
     ]
    },
    "e0e2b94af01241e680ca19c6126a6a11": {
     "views": [
      {
       "cell_index": 9.0
      }
     ]
    },
    "e844d01f0ab645908c9e589802435963": {
     "views": [
      {
       "cell_index": 9.0
      }
     ]
    },
    "e853c45f15a64fdea20a23f1afbdd72c": {
     "views": [
      {
       "cell_index": 9.0
      }
     ]
    },
    "e904f28556fa4d5596fde82091450ce1": {
     "views": [
      {
       "cell_index": 8.0
      }
     ]
    },
    "ecac3938a42f471baf09a08c2ecf0a3a": {
     "views": [
      {
       "cell_index": 10.0
      }
     ]
    },
    "edf52b9ceac240939b50856a37815407": {
     "views": [
      {
       "cell_index": 9.0
      }
     ]
    },
    "ee89110a7aca40108594fd1af79688fa": {
     "views": [
      {
       "cell_index": 10.0
      }
     ]
    },
    "f4f1708488664fbd85b51e9d86b55850": {
     "views": [
      {
       "cell_index": 10.0
      }
     ]
    },
    "f59d59ce326f4820940291bb7ef94908": {
     "views": [
      {
       "cell_index": 9.0
      }
     ]
    },
    "f7b140102f87400bbd527d598a06e588": {
     "views": [
      {
       "cell_index": 9.0
      }
     ]
    },
    "f89252555b2e4efaa5d6137d3613a464": {
     "views": [
      {
       "cell_index": 10.0
      }
     ]
    },
    "f94558d662ab42f7a5b9f18b54b31761": {
     "views": [
      {
       "cell_index": 10.0
      }
     ]
    },
    "fcd15de0953541c3a4e1f5ab23b91c91": {
     "views": [
      {
       "cell_index": 9.0
      }
     ]
    }
   },
   "version": "1.2.0"
  }
 },
 "nbformat": 4,
 "nbformat_minor": 1
}
